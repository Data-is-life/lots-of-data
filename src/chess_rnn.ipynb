{
 "cells": [
  {
   "cell_type": "code",
   "execution_count": 17,
   "metadata": {
    "ExecuteTime": {
     "end_time": "2018-11-18T23:35:53.555304Z",
     "start_time": "2018-11-18T23:35:53.530651Z"
    }
   },
   "outputs": [],
   "source": [
    "import numpy as np\n",
    "import pandas as pd\n",
    "import matplotlib.pyplot as plt\n",
    "\n",
    "from math import *\n",
    "from numpy import *\n",
    "\n",
    "from keras.models import Sequential\n",
    "from keras.layers import Dense\n",
    "from keras.layers import LSTM\n",
    "from keras.layers import Bidirectional\n",
    "\n",
    "from sklearn.preprocessing import LabelEncoder\n",
    "from sklearn.preprocessing import MinMaxScaler\n",
    "from sklearn.metrics import mean_squared_error, confusion_matrix\n",
    "\n",
    "from sklearn.model_selection import train_test_split\n"
   ]
  },
  {
   "cell_type": "markdown",
   "metadata": {
    "ExecuteTime": {
     "end_time": "2018-11-06T01:18:12.129413Z",
     "start_time": "2018-11-06T01:18:12.107495Z"
    }
   },
   "source": [
    "## Convert series to supervised learning"
   ]
  },
  {
   "cell_type": "code",
   "execution_count": 18,
   "metadata": {
    "ExecuteTime": {
     "end_time": "2018-11-18T23:35:54.743574Z",
     "start_time": "2018-11-18T23:35:54.716127Z"
    }
   },
   "outputs": [],
   "source": [
    "def series_to_supervised(data, n_in=1, n_out=1, dropnan=True):\n",
    "    n_vars = 1 if type(data) is list else data.shape[1]\n",
    "    df = pd.DataFrame(data)\n",
    "    cols, names = list(), list()\n",
    "\n",
    "    # input sequence (t-n, ... t-1)\n",
    "    for i in range(n_in, 0, -1):\n",
    "        cols.append(df.shift(i))\n",
    "        names += [('var%d(t-%d)' % (j+1, i)) for j in range(n_vars)]\n",
    "\n",
    "    # forecast sequence (t, t+1, ... t+n)\n",
    "    for i in range(0, n_out):\n",
    "        cols.append(df.shift(-i))\n",
    "        if i == 0:\n",
    "            names += [('var%d(t)' % (j+1)) for j in range(n_vars)]\n",
    "        else:\n",
    "            names += [('var%d(t+%d)' % (j+1, i)) for j in range(n_vars)]\n",
    "\n",
    "    # put it all together\n",
    "    agg = pd.concat(cols, axis=1)\n",
    "    agg.columns = names\n",
    "\n",
    "    # drop rows with NaN values\n",
    "    if dropnan:\n",
    "        agg.dropna(inplace=True)\n",
    "\n",
    "    return agg"
   ]
  },
  {
   "cell_type": "code",
   "execution_count": 19,
   "metadata": {
    "ExecuteTime": {
     "end_time": "2018-11-18T23:35:55.178131Z",
     "start_time": "2018-11-18T23:35:55.150741Z"
    }
   },
   "outputs": [],
   "source": [
    "df = pd.read_csv('../data/use_for_analysis.csv')\n",
    "# df['start_time'] = df['start_time']//1000\n",
    "# df = df[df['result'] != 0.5]\n",
    "# numeric_predictors = ['color', 'diff', 'game_time', 'start_time', 'weekday']\n",
    "# X = df[numeric_predictors].values\n",
    "# y = np.array(df['result'])"
   ]
  },
  {
   "cell_type": "code",
   "execution_count": 31,
   "metadata": {
    "ExecuteTime": {
     "end_time": "2018-11-18T23:37:18.556382Z",
     "start_time": "2018-11-18T23:37:18.519434Z"
    }
   },
   "outputs": [],
   "source": [
    "df = df[['date', 'color', 'day', 'weekday', 'game_time', 'elo', 'diff', 'result']]\n",
    "df = df[df['result'] != 0.5]"
   ]
  },
  {
   "cell_type": "code",
   "execution_count": 32,
   "metadata": {
    "ExecuteTime": {
     "end_time": "2018-11-18T23:37:19.251851Z",
     "start_time": "2018-11-18T23:37:19.216566Z"
    }
   },
   "outputs": [],
   "source": [
    "X = df.iloc[:, 0:6].values\n",
    "y = df.iloc[:, -1].values"
   ]
  },
  {
   "cell_type": "code",
   "execution_count": 35,
   "metadata": {
    "ExecuteTime": {
     "end_time": "2018-11-18T23:39:53.288509Z",
     "start_time": "2018-11-18T23:39:53.265970Z"
    }
   },
   "outputs": [
    {
     "data": {
      "text/plain": [
       "(2098, 6)"
      ]
     },
     "execution_count": 35,
     "metadata": {},
     "output_type": "execute_result"
    }
   ],
   "source": [
    "X.shape"
   ]
  },
  {
   "cell_type": "code",
   "execution_count": 38,
   "metadata": {
    "ExecuteTime": {
     "end_time": "2018-11-18T23:40:24.138467Z",
     "start_time": "2018-11-18T23:40:24.110932Z"
    }
   },
   "outputs": [
    {
     "data": {
      "text/plain": [
       "1993.1"
      ]
     },
     "execution_count": 38,
     "metadata": {},
     "output_type": "execute_result"
    }
   ],
   "source": [
    "X.shape[0]*.95"
   ]
  },
  {
   "cell_type": "code",
   "execution_count": 39,
   "metadata": {
    "ExecuteTime": {
     "end_time": "2018-11-18T23:40:44.929166Z",
     "start_time": "2018-11-18T23:40:44.907642Z"
    }
   },
   "outputs": [],
   "source": [
    "train_X = X[:1993]\n",
    "test_X = X[1993:]\n",
    "\n",
    "train_Y = y[0:1993]\n",
    "test_Y = y[1993:]"
   ]
  },
  {
   "cell_type": "code",
   "execution_count": 46,
   "metadata": {
    "ExecuteTime": {
     "end_time": "2018-11-18T23:44:07.325106Z",
     "start_time": "2018-11-18T23:44:07.287173Z"
    }
   },
   "outputs": [
    {
     "ename": "ValueError",
     "evalue": "Input 0 is incompatible with layer bidirectional_4: expected ndim=3, found ndim=2",
     "output_type": "error",
     "traceback": [
      "\u001b[0;31m---------------------------------------------------------------------------\u001b[0m",
      "\u001b[0;31mValueError\u001b[0m                                Traceback (most recent call last)",
      "\u001b[0;32m<ipython-input-46-17cb6ff7722b>\u001b[0m in \u001b[0;36m<module>\u001b[0;34m\u001b[0m\n\u001b[1;32m      1\u001b[0m \u001b[0mmodel\u001b[0m \u001b[0;34m=\u001b[0m \u001b[0mSequential\u001b[0m\u001b[0;34m(\u001b[0m\u001b[0;34m)\u001b[0m\u001b[0;34m\u001b[0m\u001b[0m\n\u001b[0;32m----> 2\u001b[0;31m \u001b[0mmodel\u001b[0m\u001b[0;34m.\u001b[0m\u001b[0madd\u001b[0m\u001b[0;34m(\u001b[0m\u001b[0mBidirectional\u001b[0m\u001b[0;34m(\u001b[0m\u001b[0mLSTM\u001b[0m\u001b[0;34m(\u001b[0m\u001b[0;36m18\u001b[0m\u001b[0;34m,\u001b[0m \u001b[0mreturn_sequences\u001b[0m\u001b[0;34m=\u001b[0m\u001b[0;32mTrue\u001b[0m\u001b[0;34m)\u001b[0m\u001b[0;34m,\u001b[0m \u001b[0minput_shape\u001b[0m\u001b[0;34m=\u001b[0m\u001b[0mtrain_X\u001b[0m\u001b[0;34m.\u001b[0m\u001b[0mshape\u001b[0m\u001b[0;34m[\u001b[0m\u001b[0;36m1\u001b[0m\u001b[0;34m:\u001b[0m\u001b[0;34m]\u001b[0m\u001b[0;34m)\u001b[0m\u001b[0;34m)\u001b[0m\u001b[0;34m\u001b[0m\u001b[0m\n\u001b[0m\u001b[1;32m      3\u001b[0m \u001b[0mmodel\u001b[0m\u001b[0;34m.\u001b[0m\u001b[0madd\u001b[0m\u001b[0;34m(\u001b[0m\u001b[0mBidirectional\u001b[0m\u001b[0;34m(\u001b[0m\u001b[0mLSTM\u001b[0m\u001b[0;34m(\u001b[0m\u001b[0;36m12\u001b[0m\u001b[0;34m,\u001b[0m \u001b[0mreturn_sequences\u001b[0m\u001b[0;34m=\u001b[0m\u001b[0;32mTrue\u001b[0m\u001b[0;34m)\u001b[0m\u001b[0;34m)\u001b[0m\u001b[0;34m)\u001b[0m\u001b[0;34m\u001b[0m\u001b[0m\n\u001b[1;32m      4\u001b[0m \u001b[0mmodel\u001b[0m\u001b[0;34m.\u001b[0m\u001b[0madd\u001b[0m\u001b[0;34m(\u001b[0m\u001b[0mDense\u001b[0m\u001b[0;34m(\u001b[0m\u001b[0;36m6\u001b[0m\u001b[0;34m)\u001b[0m\u001b[0;34m)\u001b[0m\u001b[0;34m\u001b[0m\u001b[0m\n\u001b[1;32m      5\u001b[0m \u001b[0mmodel\u001b[0m\u001b[0;34m.\u001b[0m\u001b[0mcompile\u001b[0m\u001b[0;34m(\u001b[0m\u001b[0mloss\u001b[0m\u001b[0;34m=\u001b[0m\u001b[0;34m'mae'\u001b[0m\u001b[0;34m,\u001b[0m \u001b[0moptimizer\u001b[0m\u001b[0;34m=\u001b[0m\u001b[0;34m'rmsprop'\u001b[0m\u001b[0;34m)\u001b[0m\u001b[0;34m\u001b[0m\u001b[0m\n",
      "\u001b[0;32m~/anaconda3/lib/python3.6/site-packages/keras/engine/sequential.py\u001b[0m in \u001b[0;36madd\u001b[0;34m(self, layer)\u001b[0m\n\u001b[1;32m    163\u001b[0m                     \u001b[0;31m# and create the node connecting the current layer\u001b[0m\u001b[0;34m\u001b[0m\u001b[0;34m\u001b[0m\u001b[0m\n\u001b[1;32m    164\u001b[0m                     \u001b[0;31m# to the input layer we just created.\u001b[0m\u001b[0;34m\u001b[0m\u001b[0;34m\u001b[0m\u001b[0m\n\u001b[0;32m--> 165\u001b[0;31m                     \u001b[0mlayer\u001b[0m\u001b[0;34m(\u001b[0m\u001b[0mx\u001b[0m\u001b[0;34m)\u001b[0m\u001b[0;34m\u001b[0m\u001b[0m\n\u001b[0m\u001b[1;32m    166\u001b[0m                     \u001b[0mset_inputs\u001b[0m \u001b[0;34m=\u001b[0m \u001b[0;32mTrue\u001b[0m\u001b[0;34m\u001b[0m\u001b[0m\n\u001b[1;32m    167\u001b[0m             \u001b[0;32melse\u001b[0m\u001b[0;34m:\u001b[0m\u001b[0;34m\u001b[0m\u001b[0m\n",
      "\u001b[0;32m~/anaconda3/lib/python3.6/site-packages/keras/layers/wrappers.py\u001b[0m in \u001b[0;36m__call__\u001b[0;34m(self, inputs, initial_state, constants, **kwargs)\u001b[0m\n\u001b[1;32m    425\u001b[0m \u001b[0;34m\u001b[0m\u001b[0m\n\u001b[1;32m    426\u001b[0m         \u001b[0;32mif\u001b[0m \u001b[0minitial_state\u001b[0m \u001b[0;32mis\u001b[0m \u001b[0;32mNone\u001b[0m \u001b[0;32mand\u001b[0m \u001b[0mconstants\u001b[0m \u001b[0;32mis\u001b[0m \u001b[0;32mNone\u001b[0m\u001b[0;34m:\u001b[0m\u001b[0;34m\u001b[0m\u001b[0m\n\u001b[0;32m--> 427\u001b[0;31m             \u001b[0;32mreturn\u001b[0m \u001b[0msuper\u001b[0m\u001b[0;34m(\u001b[0m\u001b[0mBidirectional\u001b[0m\u001b[0;34m,\u001b[0m \u001b[0mself\u001b[0m\u001b[0;34m)\u001b[0m\u001b[0;34m.\u001b[0m\u001b[0m__call__\u001b[0m\u001b[0;34m(\u001b[0m\u001b[0minputs\u001b[0m\u001b[0;34m,\u001b[0m \u001b[0;34m**\u001b[0m\u001b[0mkwargs\u001b[0m\u001b[0;34m)\u001b[0m\u001b[0;34m\u001b[0m\u001b[0m\n\u001b[0m\u001b[1;32m    428\u001b[0m \u001b[0;34m\u001b[0m\u001b[0m\n\u001b[1;32m    429\u001b[0m         \u001b[0;31m# Applies the same workaround as in `RNN.__call__`\u001b[0m\u001b[0;34m\u001b[0m\u001b[0;34m\u001b[0m\u001b[0m\n",
      "\u001b[0;32m~/anaconda3/lib/python3.6/site-packages/keras/engine/base_layer.py\u001b[0m in \u001b[0;36m__call__\u001b[0;34m(self, inputs, **kwargs)\u001b[0m\n\u001b[1;32m    412\u001b[0m                 \u001b[0;31m# Raise exceptions in case the input is not compatible\u001b[0m\u001b[0;34m\u001b[0m\u001b[0;34m\u001b[0m\u001b[0m\n\u001b[1;32m    413\u001b[0m                 \u001b[0;31m# with the input_spec specified in the layer constructor.\u001b[0m\u001b[0;34m\u001b[0m\u001b[0;34m\u001b[0m\u001b[0m\n\u001b[0;32m--> 414\u001b[0;31m                 \u001b[0mself\u001b[0m\u001b[0;34m.\u001b[0m\u001b[0massert_input_compatibility\u001b[0m\u001b[0;34m(\u001b[0m\u001b[0minputs\u001b[0m\u001b[0;34m)\u001b[0m\u001b[0;34m\u001b[0m\u001b[0m\n\u001b[0m\u001b[1;32m    415\u001b[0m \u001b[0;34m\u001b[0m\u001b[0m\n\u001b[1;32m    416\u001b[0m                 \u001b[0;31m# Collect input shapes to build layer.\u001b[0m\u001b[0;34m\u001b[0m\u001b[0;34m\u001b[0m\u001b[0m\n",
      "\u001b[0;32m~/anaconda3/lib/python3.6/site-packages/keras/engine/base_layer.py\u001b[0m in \u001b[0;36massert_input_compatibility\u001b[0;34m(self, inputs)\u001b[0m\n\u001b[1;32m    309\u001b[0m                                      \u001b[0mself\u001b[0m\u001b[0;34m.\u001b[0m\u001b[0mname\u001b[0m \u001b[0;34m+\u001b[0m \u001b[0;34m': expected ndim='\u001b[0m \u001b[0;34m+\u001b[0m\u001b[0;34m\u001b[0m\u001b[0m\n\u001b[1;32m    310\u001b[0m                                      \u001b[0mstr\u001b[0m\u001b[0;34m(\u001b[0m\u001b[0mspec\u001b[0m\u001b[0;34m.\u001b[0m\u001b[0mndim\u001b[0m\u001b[0;34m)\u001b[0m \u001b[0;34m+\u001b[0m \u001b[0;34m', found ndim='\u001b[0m \u001b[0;34m+\u001b[0m\u001b[0;34m\u001b[0m\u001b[0m\n\u001b[0;32m--> 311\u001b[0;31m                                      str(K.ndim(x)))\n\u001b[0m\u001b[1;32m    312\u001b[0m             \u001b[0;32mif\u001b[0m \u001b[0mspec\u001b[0m\u001b[0;34m.\u001b[0m\u001b[0mmax_ndim\u001b[0m \u001b[0;32mis\u001b[0m \u001b[0;32mnot\u001b[0m \u001b[0;32mNone\u001b[0m\u001b[0;34m:\u001b[0m\u001b[0;34m\u001b[0m\u001b[0m\n\u001b[1;32m    313\u001b[0m                 \u001b[0mndim\u001b[0m \u001b[0;34m=\u001b[0m \u001b[0mK\u001b[0m\u001b[0;34m.\u001b[0m\u001b[0mndim\u001b[0m\u001b[0;34m(\u001b[0m\u001b[0mx\u001b[0m\u001b[0;34m)\u001b[0m\u001b[0;34m\u001b[0m\u001b[0m\n",
      "\u001b[0;31mValueError\u001b[0m: Input 0 is incompatible with layer bidirectional_4: expected ndim=3, found ndim=2"
     ]
    }
   ],
   "source": [
    "model = Sequential()\n",
    "model.add(Bidirectional(LSTM(18, return_sequences=True), input_shape=train_X.shape[1:]))\n",
    "model.add(Bidirectional(LSTM(12, return_sequences=True)))\n",
    "model.add(Dense(6))\n",
    "model.compile(loss='mae', optimizer='rmsprop')"
   ]
  },
  {
   "cell_type": "code",
   "execution_count": 5,
   "metadata": {
    "ExecuteTime": {
     "end_time": "2018-11-06T01:18:12.226648Z",
     "start_time": "2018-11-06T01:18:12.191982Z"
    }
   },
   "outputs": [],
   "source": [
    "# # integer encode direction\n",
    "# encoder = LabelEncoder()\n",
    "# X = encoder.fit_transform(X)\n",
    "# # y = encoder.fit_transform(y)"
   ]
  },
  {
   "cell_type": "code",
   "execution_count": 7,
   "metadata": {
    "ExecuteTime": {
     "end_time": "2018-11-06T01:18:12.271315Z",
     "start_time": "2018-11-06T01:18:12.252484Z"
    }
   },
   "outputs": [],
   "source": [
    "# normalize features\n",
    "scaler = MinMaxScaler(feature_range=(0, 1))\n",
    "X = scaler.fit_transform(X)"
   ]
  },
  {
   "cell_type": "code",
   "execution_count": 8,
   "metadata": {
    "ExecuteTime": {
     "end_time": "2018-11-06T01:18:12.292315Z",
     "start_time": "2018-11-06T01:18:12.273196Z"
    }
   },
   "outputs": [],
   "source": [
    "# # specify the number of lag hours\n",
    "# n_hours = 3\n",
    "# n_features = 8"
   ]
  },
  {
   "cell_type": "code",
   "execution_count": 9,
   "metadata": {
    "ExecuteTime": {
     "end_time": "2018-11-06T01:18:12.316358Z",
     "start_time": "2018-11-06T01:18:12.294390Z"
    }
   },
   "outputs": [
    {
     "name": "stdout",
     "output_type": "stream",
     "text": [
      "(2075, 10)\n"
     ]
    }
   ],
   "source": [
    "# frame as supervised learning\n",
    "reframed = series_to_supervised(X, 1, 1)\n",
    "print(reframed.shape)"
   ]
  },
  {
   "cell_type": "code",
   "execution_count": 10,
   "metadata": {
    "ExecuteTime": {
     "end_time": "2018-11-06T01:18:12.339518Z",
     "start_time": "2018-11-06T01:18:12.318482Z"
    }
   },
   "outputs": [],
   "source": [
    "# split into train and test sets\n",
    "X_train, X_test, y_train, y_test = train_test_split(X, y, test_size=0.2, random_state=9)"
   ]
  },
  {
   "cell_type": "code",
   "execution_count": 11,
   "metadata": {
    "ExecuteTime": {
     "end_time": "2018-11-06T01:18:12.360426Z",
     "start_time": "2018-11-06T01:18:12.341383Z"
    }
   },
   "outputs": [
    {
     "name": "stdout",
     "output_type": "stream",
     "text": [
      "(1660, 5) 1660 (1660,)\n"
     ]
    }
   ],
   "source": [
    "# split into input and outputs\n",
    "# n_obs = n_hours * n_features\n",
    "# train_X, train_y = train[:, :n_obs], train[:, -n_features]\n",
    "# test_X, test_y = test[:, :n_obs], test[:, -n_features]\n",
    "print(X_train.shape, len(X_train), y_train.shape)"
   ]
  },
  {
   "cell_type": "code",
   "execution_count": 12,
   "metadata": {
    "ExecuteTime": {
     "end_time": "2018-11-06T01:18:12.383822Z",
     "start_time": "2018-11-06T01:18:12.362231Z"
    }
   },
   "outputs": [
    {
     "name": "stdout",
     "output_type": "stream",
     "text": [
      "(1660, 1, 5) (1660,) (416, 1, 5) (416,)\n"
     ]
    }
   ],
   "source": [
    "# reshape input to be 3D [samples, timesteps, features]\n",
    "X_train = X_train.reshape((X_train.shape[0], 1, X_train.shape[1]))\n",
    "X_test = X_test.reshape((X_test.shape[0], 1, X_test.shape[1]))\n",
    "print(X_train.shape, y_train.shape, X_test.shape, y_test.shape)"
   ]
  },
  {
   "cell_type": "code",
   "execution_count": 13,
   "metadata": {
    "ExecuteTime": {
     "end_time": "2018-11-06T01:18:12.631634Z",
     "start_time": "2018-11-06T01:18:12.385707Z"
    }
   },
   "outputs": [],
   "source": [
    "# design network\n",
    "model = Sequential()\n",
    "model.add(LSTM(50, input_shape=(X_train.shape[1], X_train.shape[2])))\n",
    "model.add(Dense(1))\n",
    "model.compile(loss='binary_crossentropy', optimizer='adam')"
   ]
  },
  {
   "cell_type": "code",
   "execution_count": 14,
   "metadata": {
    "ExecuteTime": {
     "end_time": "2018-11-06T01:20:05.326693Z",
     "start_time": "2018-11-06T01:18:12.633307Z"
    },
    "scrolled": true
   },
   "outputs": [
    {
     "name": "stdout",
     "output_type": "stream",
     "text": [
      "Train on 1660 samples, validate on 416 samples\n",
      "Epoch 1/205\n",
      "1660/1660 [==============================] - 2s 978us/step - loss: 0.7959 - val_loss: 0.7008\n",
      "Epoch 2/205\n",
      "1660/1660 [==============================] - 1s 305us/step - loss: 0.6834 - val_loss: 0.6985\n",
      "Epoch 3/205\n",
      "1660/1660 [==============================] - 1s 310us/step - loss: 0.6804 - val_loss: 0.6956\n",
      "Epoch 4/205\n",
      "1660/1660 [==============================] - 1s 317us/step - loss: 0.6775 - val_loss: 0.6929\n",
      "Epoch 5/205\n",
      "1660/1660 [==============================] - 0s 297us/step - loss: 0.6749 - val_loss: 0.6903\n",
      "Epoch 6/205\n",
      "1660/1660 [==============================] - 1s 314us/step - loss: 0.6723 - val_loss: 0.6876\n",
      "Epoch 7/205\n",
      "1660/1660 [==============================] - 1s 335us/step - loss: 0.6697 - val_loss: 0.6849\n",
      "Epoch 8/205\n",
      "1660/1660 [==============================] - 1s 310us/step - loss: 0.6671 - val_loss: 0.6819\n",
      "Epoch 9/205\n",
      "1660/1660 [==============================] - 1s 332us/step - loss: 0.6643 - val_loss: 0.6787\n",
      "Epoch 10/205\n",
      "1660/1660 [==============================] - 1s 318us/step - loss: 0.6614 - val_loss: 0.6755\n",
      "Epoch 11/205\n",
      "1660/1660 [==============================] - 1s 314us/step - loss: 0.6585 - val_loss: 0.6724\n",
      "Epoch 12/205\n",
      "1660/1660 [==============================] - 1s 313us/step - loss: 0.6555 - val_loss: 0.6694\n",
      "Epoch 13/205\n",
      "1660/1660 [==============================] - 1s 316us/step - loss: 0.6526 - val_loss: 0.6666\n",
      "Epoch 14/205\n",
      "1660/1660 [==============================] - 0s 285us/step - loss: 0.6498 - val_loss: 0.6640\n",
      "Epoch 15/205\n",
      "1660/1660 [==============================] - 1s 309us/step - loss: 0.6472 - val_loss: 0.6615\n",
      "Epoch 16/205\n",
      "1660/1660 [==============================] - 1s 307us/step - loss: 0.6447 - val_loss: 0.6592\n",
      "Epoch 17/205\n",
      "1660/1660 [==============================] - 1s 303us/step - loss: 0.6422 - val_loss: 0.6569\n",
      "Epoch 18/205\n",
      "1660/1660 [==============================] - 1s 306us/step - loss: 0.6399 - val_loss: 0.6546\n",
      "Epoch 19/205\n",
      "1660/1660 [==============================] - 1s 320us/step - loss: 0.6380 - val_loss: 0.6523\n",
      "Epoch 20/205\n",
      "1660/1660 [==============================] - 1s 355us/step - loss: 0.6362 - val_loss: 0.6499\n",
      "Epoch 21/205\n",
      "1660/1660 [==============================] - 1s 303us/step - loss: 0.6347 - val_loss: 0.6474\n",
      "Epoch 22/205\n",
      "1660/1660 [==============================] - 1s 316us/step - loss: 0.6337 - val_loss: 0.6455\n",
      "Epoch 23/205\n",
      "1660/1660 [==============================] - 1s 307us/step - loss: 0.6329 - val_loss: 0.6443\n",
      "Epoch 24/205\n",
      "1660/1660 [==============================] - 1s 313us/step - loss: 0.6319 - val_loss: 0.6433\n",
      "Epoch 25/205\n",
      "1660/1660 [==============================] - 1s 303us/step - loss: 0.6312 - val_loss: 0.6428\n",
      "Epoch 26/205\n",
      "1660/1660 [==============================] - 0s 298us/step - loss: 0.6303 - val_loss: 0.6423\n",
      "Epoch 27/205\n",
      "1660/1660 [==============================] - 0s 298us/step - loss: 0.6299 - val_loss: 0.6420\n",
      "Epoch 28/205\n",
      "1660/1660 [==============================] - 1s 305us/step - loss: 0.6289 - val_loss: 0.6420\n",
      "Epoch 29/205\n",
      "1660/1660 [==============================] - 1s 320us/step - loss: 0.6291 - val_loss: 0.6416\n",
      "Epoch 30/205\n",
      "1660/1660 [==============================] - 1s 311us/step - loss: 0.6276 - val_loss: 0.6427\n",
      "Epoch 31/205\n",
      "1660/1660 [==============================] - 1s 304us/step - loss: 0.6295 - val_loss: 0.6413\n",
      "Epoch 32/205\n",
      "1660/1660 [==============================] - 1s 352us/step - loss: 0.6260 - val_loss: 0.6434\n",
      "Epoch 33/205\n",
      "1660/1660 [==============================] - 1s 314us/step - loss: 0.6292 - val_loss: 0.6410\n",
      "Epoch 34/205\n",
      "1660/1660 [==============================] - 1s 322us/step - loss: 0.6249 - val_loss: 0.6424\n",
      "Epoch 35/205\n",
      "1660/1660 [==============================] - 0s 299us/step - loss: 0.6267 - val_loss: 0.6413\n",
      "Epoch 36/205\n",
      "1660/1660 [==============================] - 1s 326us/step - loss: 0.6247 - val_loss: 0.6432\n",
      "Epoch 37/205\n",
      "1660/1660 [==============================] - 1s 303us/step - loss: 0.6270 - val_loss: 0.6411\n",
      "Epoch 38/205\n",
      "1660/1660 [==============================] - 1s 303us/step - loss: 0.6238 - val_loss: 0.6428\n",
      "Epoch 39/205\n",
      "1660/1660 [==============================] - 1s 308us/step - loss: 0.6256 - val_loss: 0.6414\n",
      "Epoch 40/205\n",
      "1660/1660 [==============================] - 1s 350us/step - loss: 0.6235 - val_loss: 0.6430\n",
      "Epoch 41/205\n",
      "1660/1660 [==============================] - 1s 354us/step - loss: 0.6252 - val_loss: 0.6414\n",
      "Epoch 42/205\n",
      "1660/1660 [==============================] - 1s 335us/step - loss: 0.6230 - val_loss: 0.6429\n",
      "Epoch 43/205\n",
      "1660/1660 [==============================] - 1s 325us/step - loss: 0.6244 - val_loss: 0.6417\n",
      "Epoch 44/205\n",
      "1660/1660 [==============================] - 1s 330us/step - loss: 0.6226 - val_loss: 0.6428\n",
      "Epoch 45/205\n",
      "1660/1660 [==============================] - 1s 305us/step - loss: 0.6237 - val_loss: 0.6421\n",
      "Epoch 46/205\n",
      "1660/1660 [==============================] - 1s 314us/step - loss: 0.6222 - val_loss: 0.6428\n",
      "Epoch 47/205\n",
      "1660/1660 [==============================] - 1s 360us/step - loss: 0.6230 - val_loss: 0.6427\n",
      "Epoch 48/205\n",
      "1660/1660 [==============================] - 1s 304us/step - loss: 0.6218 - val_loss: 0.6428\n",
      "Epoch 49/205\n",
      "1660/1660 [==============================] - 1s 337us/step - loss: 0.6224 - val_loss: 0.6437\n",
      "Epoch 50/205\n",
      "1660/1660 [==============================] - 1s 327us/step - loss: 0.6214 - val_loss: 0.6430\n",
      "Epoch 51/205\n",
      "1660/1660 [==============================] - 1s 319us/step - loss: 0.6218 - val_loss: 0.6469\n",
      "Epoch 52/205\n",
      "1660/1660 [==============================] - 1s 345us/step - loss: 0.6211 - val_loss: 0.6435\n",
      "Epoch 53/205\n",
      "1660/1660 [==============================] - 1s 344us/step - loss: 0.6210 - val_loss: 0.6683\n",
      "Epoch 54/205\n",
      "1660/1660 [==============================] - 1s 362us/step - loss: 0.6208 - val_loss: 0.6450\n",
      "Epoch 55/205\n",
      "1660/1660 [==============================] - 1s 321us/step - loss: 0.6204 - val_loss: 0.6680\n",
      "Epoch 56/205\n",
      "1660/1660 [==============================] - 1s 359us/step - loss: 0.6205 - val_loss: 0.6687\n",
      "Epoch 57/205\n",
      "1660/1660 [==============================] - 1s 339us/step - loss: 0.6199 - val_loss: 0.6677\n",
      "Epoch 58/205\n",
      "1660/1660 [==============================] - 1s 333us/step - loss: 0.6201 - val_loss: 0.6681\n",
      "Epoch 59/205\n",
      "1660/1660 [==============================] - 1s 310us/step - loss: 0.6193 - val_loss: 0.6673\n",
      "Epoch 60/205\n",
      "1660/1660 [==============================] - 1s 351us/step - loss: 0.6197 - val_loss: 0.6675\n",
      "Epoch 61/205\n",
      "1660/1660 [==============================] - 1s 341us/step - loss: 0.6188 - val_loss: 0.6669\n",
      "Epoch 62/205\n",
      "1660/1660 [==============================] - 1s 352us/step - loss: 0.6193 - val_loss: 0.6669\n",
      "Epoch 63/205\n",
      "1660/1660 [==============================] - 1s 354us/step - loss: 0.6184 - val_loss: 0.6666\n",
      "Epoch 64/205\n",
      "1660/1660 [==============================] - 1s 351us/step - loss: 0.6189 - val_loss: 0.6662\n",
      "Epoch 65/205\n",
      "1660/1660 [==============================] - 1s 367us/step - loss: 0.6180 - val_loss: 0.6663\n",
      "Epoch 66/205\n",
      "1660/1660 [==============================] - 1s 360us/step - loss: 0.6185 - val_loss: 0.6655\n",
      "Epoch 67/205\n",
      "1660/1660 [==============================] - 1s 383us/step - loss: 0.6177 - val_loss: 0.6662\n",
      "Epoch 68/205\n",
      "1660/1660 [==============================] - 1s 349us/step - loss: 0.6179 - val_loss: 0.6648\n",
      "Epoch 69/205\n",
      "1660/1660 [==============================] - 1s 430us/step - loss: 0.6178 - val_loss: 0.6657\n",
      "Epoch 70/205\n",
      "1660/1660 [==============================] - 1s 363us/step - loss: 0.6169 - val_loss: 0.6645\n",
      "Epoch 71/205\n",
      "1660/1660 [==============================] - 1s 321us/step - loss: 0.6178 - val_loss: 0.6651\n",
      "Epoch 72/205\n",
      "1660/1660 [==============================] - 1s 320us/step - loss: 0.6162 - val_loss: 0.6642\n",
      "Epoch 73/205\n",
      "1660/1660 [==============================] - 1s 338us/step - loss: 0.6175 - val_loss: 0.6644\n",
      "Epoch 74/205\n",
      "1660/1660 [==============================] - 1s 343us/step - loss: 0.6157 - val_loss: 0.6639\n",
      "Epoch 75/205\n",
      "1660/1660 [==============================] - 1s 327us/step - loss: 0.6170 - val_loss: 0.6637\n",
      "Epoch 76/205\n",
      "1660/1660 [==============================] - 1s 338us/step - loss: 0.6152 - val_loss: 0.6636\n",
      "Epoch 77/205\n",
      "1660/1660 [==============================] - 1s 331us/step - loss: 0.6166 - val_loss: 0.6631\n"
     ]
    },
    {
     "name": "stdout",
     "output_type": "stream",
     "text": [
      "Epoch 78/205\n",
      "1660/1660 [==============================] - 0s 292us/step - loss: 0.6148 - val_loss: 0.6631\n",
      "Epoch 79/205\n",
      "1660/1660 [==============================] - 1s 338us/step - loss: 0.6160 - val_loss: 0.6626\n",
      "Epoch 80/205\n",
      "1660/1660 [==============================] - 1s 318us/step - loss: 0.6145 - val_loss: 0.6626\n",
      "Epoch 81/205\n",
      "1660/1660 [==============================] - 1s 331us/step - loss: 0.6154 - val_loss: 0.6620\n",
      "Epoch 82/205\n",
      "1660/1660 [==============================] - 1s 323us/step - loss: 0.6142 - val_loss: 0.6621\n",
      "Epoch 83/205\n",
      "1660/1660 [==============================] - 1s 324us/step - loss: 0.6148 - val_loss: 0.6615\n",
      "Epoch 84/205\n",
      "1660/1660 [==============================] - 1s 335us/step - loss: 0.6140 - val_loss: 0.6616\n",
      "Epoch 85/205\n",
      "1660/1660 [==============================] - 1s 335us/step - loss: 0.6141 - val_loss: 0.6609\n",
      "Epoch 86/205\n",
      "1660/1660 [==============================] - 1s 317us/step - loss: 0.6139 - val_loss: 0.6611\n",
      "Epoch 87/205\n",
      "1660/1660 [==============================] - 1s 362us/step - loss: 0.6134 - val_loss: 0.6603\n",
      "Epoch 88/205\n",
      "1660/1660 [==============================] - 1s 306us/step - loss: 0.6141 - val_loss: 0.6608\n",
      "Epoch 89/205\n",
      "1660/1660 [==============================] - 1s 322us/step - loss: 0.6125 - val_loss: 0.6598\n",
      "Epoch 90/205\n",
      "1660/1660 [==============================] - 1s 328us/step - loss: 0.6143 - val_loss: 0.6606\n",
      "Epoch 91/205\n",
      "1660/1660 [==============================] - 1s 332us/step - loss: 0.6117 - val_loss: 0.6593\n",
      "Epoch 92/205\n",
      "1660/1660 [==============================] - 1s 323us/step - loss: 0.6138 - val_loss: 0.6599\n",
      "Epoch 93/205\n",
      "1660/1660 [==============================] - 1s 322us/step - loss: 0.6112 - val_loss: 0.6588\n",
      "Epoch 94/205\n",
      "1660/1660 [==============================] - 1s 325us/step - loss: 0.6134 - val_loss: 0.6594\n",
      "Epoch 95/205\n",
      "1660/1660 [==============================] - 1s 313us/step - loss: 0.6108 - val_loss: 0.6583\n",
      "Epoch 96/205\n",
      "1660/1660 [==============================] - 1s 347us/step - loss: 0.6129 - val_loss: 0.6589\n",
      "Epoch 97/205\n",
      "1660/1660 [==============================] - 1s 325us/step - loss: 0.6104 - val_loss: 0.6577\n",
      "Epoch 98/205\n",
      "1660/1660 [==============================] - 1s 342us/step - loss: 0.6125 - val_loss: 0.6584\n",
      "Epoch 99/205\n",
      "1660/1660 [==============================] - 1s 320us/step - loss: 0.6099 - val_loss: 0.6571\n",
      "Epoch 100/205\n",
      "1660/1660 [==============================] - 1s 329us/step - loss: 0.6121 - val_loss: 0.6579\n",
      "Epoch 101/205\n",
      "1660/1660 [==============================] - 1s 334us/step - loss: 0.6095 - val_loss: 0.6566\n",
      "Epoch 102/205\n",
      "1660/1660 [==============================] - 1s 330us/step - loss: 0.6116 - val_loss: 0.6574\n",
      "Epoch 103/205\n",
      "1660/1660 [==============================] - 1s 337us/step - loss: 0.6091 - val_loss: 0.6560\n",
      "Epoch 104/205\n",
      "1660/1660 [==============================] - 1s 342us/step - loss: 0.6112 - val_loss: 0.6569\n",
      "Epoch 105/205\n",
      "1660/1660 [==============================] - 1s 308us/step - loss: 0.6086 - val_loss: 0.6555\n",
      "Epoch 106/205\n",
      "1660/1660 [==============================] - 1s 326us/step - loss: 0.6107 - val_loss: 0.6562\n",
      "Epoch 107/205\n",
      "1660/1660 [==============================] - 1s 337us/step - loss: 0.6082 - val_loss: 0.6549\n",
      "Epoch 108/205\n",
      "1660/1660 [==============================] - 1s 327us/step - loss: 0.6103 - val_loss: 0.6558\n",
      "Epoch 109/205\n",
      "1660/1660 [==============================] - 1s 345us/step - loss: 0.6078 - val_loss: 0.6544\n",
      "Epoch 110/205\n",
      "1660/1660 [==============================] - 1s 340us/step - loss: 0.6097 - val_loss: 0.6553\n",
      "Epoch 111/205\n",
      "1660/1660 [==============================] - 1s 352us/step - loss: 0.6074 - val_loss: 0.6539\n",
      "Epoch 112/205\n",
      "1660/1660 [==============================] - 1s 307us/step - loss: 0.6093 - val_loss: 0.6548\n",
      "Epoch 113/205\n",
      "1660/1660 [==============================] - 1s 352us/step - loss: 0.6069 - val_loss: 0.6533\n",
      "Epoch 114/205\n",
      "1660/1660 [==============================] - 1s 327us/step - loss: 0.6088 - val_loss: 0.6543\n",
      "Epoch 115/205\n",
      "1660/1660 [==============================] - 1s 323us/step - loss: 0.6065 - val_loss: 0.6528\n",
      "Epoch 116/205\n",
      "1660/1660 [==============================] - 1s 361us/step - loss: 0.6084 - val_loss: 0.6538\n",
      "Epoch 117/205\n",
      "1660/1660 [==============================] - 1s 327us/step - loss: 0.6061 - val_loss: 0.6523\n",
      "Epoch 118/205\n",
      "1660/1660 [==============================] - 1s 330us/step - loss: 0.6079 - val_loss: 0.6532\n",
      "Epoch 119/205\n",
      "1660/1660 [==============================] - 1s 318us/step - loss: 0.6057 - val_loss: 0.6517\n",
      "Epoch 120/205\n",
      "1660/1660 [==============================] - 1s 342us/step - loss: 0.6075 - val_loss: 0.6527\n",
      "Epoch 121/205\n",
      "1660/1660 [==============================] - 1s 330us/step - loss: 0.6053 - val_loss: 0.6512\n",
      "Epoch 122/205\n",
      "1660/1660 [==============================] - 1s 339us/step - loss: 0.6071 - val_loss: 0.6521\n",
      "Epoch 123/205\n",
      "1660/1660 [==============================] - 1s 312us/step - loss: 0.6048 - val_loss: 0.6506\n",
      "Epoch 124/205\n",
      "1660/1660 [==============================] - 1s 334us/step - loss: 0.6066 - val_loss: 0.6516\n",
      "Epoch 125/205\n",
      "1660/1660 [==============================] - 1s 316us/step - loss: 0.6044 - val_loss: 0.6501\n",
      "Epoch 126/205\n",
      "1660/1660 [==============================] - 1s 321us/step - loss: 0.6061 - val_loss: 0.6509\n",
      "Epoch 127/205\n",
      "1660/1660 [==============================] - 1s 318us/step - loss: 0.6040 - val_loss: 0.6495\n",
      "Epoch 128/205\n",
      "1660/1660 [==============================] - 1s 345us/step - loss: 0.6057 - val_loss: 0.6505\n",
      "Epoch 129/205\n",
      "1660/1660 [==============================] - 1s 324us/step - loss: 0.6036 - val_loss: 0.6490\n",
      "Epoch 130/205\n",
      "1660/1660 [==============================] - 1s 329us/step - loss: 0.6052 - val_loss: 0.6498\n",
      "Epoch 131/205\n",
      "1660/1660 [==============================] - 1s 335us/step - loss: 0.6031 - val_loss: 0.6484\n",
      "Epoch 132/205\n",
      "1660/1660 [==============================] - 1s 314us/step - loss: 0.6047 - val_loss: 0.6492\n",
      "Epoch 133/205\n",
      "1660/1660 [==============================] - 1s 339us/step - loss: 0.6027 - val_loss: 0.6479\n",
      "Epoch 134/205\n",
      "1660/1660 [==============================] - 1s 315us/step - loss: 0.6042 - val_loss: 0.6487\n",
      "Epoch 135/205\n",
      "1660/1660 [==============================] - 1s 328us/step - loss: 0.6023 - val_loss: 0.6473\n",
      "Epoch 136/205\n",
      "1660/1660 [==============================] - 1s 355us/step - loss: 0.6037 - val_loss: 0.6481\n",
      "Epoch 137/205\n",
      "1660/1660 [==============================] - 1s 324us/step - loss: 0.6018 - val_loss: 0.6468\n",
      "Epoch 138/205\n",
      "1660/1660 [==============================] - 1s 352us/step - loss: 0.6032 - val_loss: 0.6476\n",
      "Epoch 139/205\n",
      "1660/1660 [==============================] - 1s 323us/step - loss: 0.6013 - val_loss: 0.6463\n",
      "Epoch 140/205\n",
      "1660/1660 [==============================] - 1s 322us/step - loss: 0.6027 - val_loss: 0.6470\n",
      "Epoch 141/205\n",
      "1660/1660 [==============================] - 1s 341us/step - loss: 0.6008 - val_loss: 0.6458\n",
      "Epoch 142/205\n",
      "1660/1660 [==============================] - 1s 318us/step - loss: 0.6022 - val_loss: 0.6465\n",
      "Epoch 143/205\n",
      "1660/1660 [==============================] - 1s 350us/step - loss: 0.6003 - val_loss: 0.6454\n",
      "Epoch 144/205\n",
      "1660/1660 [==============================] - 1s 310us/step - loss: 0.6015 - val_loss: 0.6459\n",
      "Epoch 145/205\n",
      "1660/1660 [==============================] - 1s 329us/step - loss: 0.6000 - val_loss: 0.6449\n",
      "Epoch 146/205\n",
      "1660/1660 [==============================] - 1s 318us/step - loss: 0.6011 - val_loss: 0.6455\n",
      "Epoch 147/205\n",
      "1660/1660 [==============================] - 1s 332us/step - loss: 0.5995 - val_loss: 0.6445\n",
      "Epoch 148/205\n",
      "1660/1660 [==============================] - 1s 321us/step - loss: 0.6006 - val_loss: 0.6451\n",
      "Epoch 149/205\n",
      "1660/1660 [==============================] - 1s 353us/step - loss: 0.5989 - val_loss: 0.6440\n",
      "Epoch 150/205\n",
      "1660/1660 [==============================] - 1s 317us/step - loss: 0.6002 - val_loss: 0.6447\n",
      "Epoch 151/205\n",
      "1660/1660 [==============================] - 1s 338us/step - loss: 0.5985 - val_loss: 0.6436\n",
      "Epoch 152/205\n",
      "1660/1660 [==============================] - 1s 328us/step - loss: 0.5996 - val_loss: 0.6441\n",
      "Epoch 153/205\n",
      "1660/1660 [==============================] - 1s 338us/step - loss: 0.5981 - val_loss: 0.6432\n",
      "Epoch 154/205\n",
      "1660/1660 [==============================] - 1s 335us/step - loss: 0.5990 - val_loss: 0.6436\n"
     ]
    },
    {
     "name": "stdout",
     "output_type": "stream",
     "text": [
      "Epoch 155/205\n",
      "1660/1660 [==============================] - 1s 303us/step - loss: 0.5976 - val_loss: 0.6429\n",
      "Epoch 156/205\n",
      "1660/1660 [==============================] - 1s 305us/step - loss: 0.5986 - val_loss: 0.6433\n",
      "Epoch 157/205\n",
      "1660/1660 [==============================] - 1s 302us/step - loss: 0.5971 - val_loss: 0.6425\n",
      "Epoch 158/205\n",
      "1660/1660 [==============================] - 1s 311us/step - loss: 0.5981 - val_loss: 0.6429\n",
      "Epoch 159/205\n",
      "1660/1660 [==============================] - 1s 318us/step - loss: 0.5966 - val_loss: 0.6422\n",
      "Epoch 160/205\n",
      "1660/1660 [==============================] - 1s 313us/step - loss: 0.5976 - val_loss: 0.6426\n",
      "Epoch 161/205\n",
      "1660/1660 [==============================] - 1s 319us/step - loss: 0.5962 - val_loss: 0.6419\n",
      "Epoch 162/205\n",
      "1660/1660 [==============================] - 1s 307us/step - loss: 0.5971 - val_loss: 0.6423\n",
      "Epoch 163/205\n",
      "1660/1660 [==============================] - 1s 306us/step - loss: 0.5958 - val_loss: 0.6417\n",
      "Epoch 164/205\n",
      "1660/1660 [==============================] - 1s 314us/step - loss: 0.5965 - val_loss: 0.6419\n",
      "Epoch 165/205\n",
      "1660/1660 [==============================] - 1s 334us/step - loss: 0.5955 - val_loss: 0.6415\n",
      "Epoch 166/205\n",
      "1660/1660 [==============================] - 1s 331us/step - loss: 0.5958 - val_loss: 0.6417\n",
      "Epoch 167/205\n",
      "1660/1660 [==============================] - 1s 302us/step - loss: 0.5952 - val_loss: 0.6414\n",
      "Epoch 168/205\n",
      "1660/1660 [==============================] - 1s 313us/step - loss: 0.5952 - val_loss: 0.6414\n",
      "Epoch 169/205\n",
      "1660/1660 [==============================] - 1s 322us/step - loss: 0.5949 - val_loss: 0.6412\n",
      "Epoch 170/205\n",
      "1660/1660 [==============================] - 1s 309us/step - loss: 0.5947 - val_loss: 0.6413\n",
      "Epoch 171/205\n",
      "1660/1660 [==============================] - 1s 313us/step - loss: 0.5944 - val_loss: 0.6411\n",
      "Epoch 172/205\n",
      "1660/1660 [==============================] - 1s 309us/step - loss: 0.5943 - val_loss: 0.6412\n",
      "Epoch 173/205\n",
      "1660/1660 [==============================] - 1s 310us/step - loss: 0.5939 - val_loss: 0.6411\n",
      "Epoch 174/205\n",
      "1660/1660 [==============================] - 1s 309us/step - loss: 0.5938 - val_loss: 0.6411\n",
      "Epoch 175/205\n",
      "1660/1660 [==============================] - 1s 313us/step - loss: 0.5936 - val_loss: 0.6410\n",
      "Epoch 176/205\n",
      "1660/1660 [==============================] - 1s 323us/step - loss: 0.5933 - val_loss: 0.6411\n",
      "Epoch 177/205\n",
      "1660/1660 [==============================] - 1s 304us/step - loss: 0.5932 - val_loss: 0.6409\n",
      "Epoch 178/205\n",
      "1660/1660 [==============================] - 1s 303us/step - loss: 0.5928 - val_loss: 0.6410\n",
      "Epoch 179/205\n",
      "1660/1660 [==============================] - 1s 307us/step - loss: 0.5928 - val_loss: 0.6407\n",
      "Epoch 180/205\n",
      "1660/1660 [==============================] - 1s 317us/step - loss: 0.5923 - val_loss: 0.6410\n",
      "Epoch 181/205\n",
      "1660/1660 [==============================] - 1s 317us/step - loss: 0.5924 - val_loss: 0.6404\n",
      "Epoch 182/205\n",
      "1660/1660 [==============================] - 1s 323us/step - loss: 0.5919 - val_loss: 0.6410\n",
      "Epoch 183/205\n",
      "1660/1660 [==============================] - 1s 322us/step - loss: 0.5919 - val_loss: 0.6404\n",
      "Epoch 184/205\n",
      "1660/1660 [==============================] - 1s 322us/step - loss: 0.5916 - val_loss: 0.6409\n",
      "Epoch 185/205\n",
      "1660/1660 [==============================] - 1s 320us/step - loss: 0.5914 - val_loss: 0.6405\n",
      "Epoch 186/205\n",
      "1660/1660 [==============================] - 1s 328us/step - loss: 0.5913 - val_loss: 0.6407\n",
      "Epoch 187/205\n",
      "1660/1660 [==============================] - 1s 361us/step - loss: 0.5910 - val_loss: 0.6407\n",
      "Epoch 188/205\n",
      "1660/1660 [==============================] - 1s 332us/step - loss: 0.5909 - val_loss: 0.6406\n",
      "Epoch 189/205\n",
      "1660/1660 [==============================] - 1s 307us/step - loss: 0.5906 - val_loss: 0.6410\n",
      "Epoch 190/205\n",
      "1660/1660 [==============================] - 1s 314us/step - loss: 0.5906 - val_loss: 0.6402\n",
      "Epoch 191/205\n",
      "1660/1660 [==============================] - 1s 304us/step - loss: 0.5901 - val_loss: 0.6415\n",
      "Epoch 192/205\n",
      "1660/1660 [==============================] - 0s 290us/step - loss: 0.5903 - val_loss: 0.6398\n",
      "Epoch 193/205\n",
      "1660/1660 [==============================] - 1s 310us/step - loss: 0.5897 - val_loss: 0.6424\n",
      "Epoch 194/205\n",
      "1660/1660 [==============================] - 0s 298us/step - loss: 0.5900 - val_loss: 0.6388\n",
      "Epoch 195/205\n",
      "1660/1660 [==============================] - 1s 303us/step - loss: 0.5893 - val_loss: 0.6439\n",
      "Epoch 196/205\n",
      "1660/1660 [==============================] - 1s 369us/step - loss: 0.5899 - val_loss: 0.6372\n",
      "Epoch 197/205\n",
      "1660/1660 [==============================] - 1s 365us/step - loss: 0.5889 - val_loss: 0.6467\n",
      "Epoch 198/205\n",
      "1660/1660 [==============================] - 1s 316us/step - loss: 0.5899 - val_loss: 0.6354\n",
      "Epoch 199/205\n",
      "1660/1660 [==============================] - 1s 310us/step - loss: 0.5884 - val_loss: 0.6495\n",
      "Epoch 200/205\n",
      "1660/1660 [==============================] - 1s 320us/step - loss: 0.5899 - val_loss: 0.6342\n",
      "Epoch 201/205\n",
      "1660/1660 [==============================] - 1s 347us/step - loss: 0.5878 - val_loss: 0.6756\n",
      "Epoch 202/205\n",
      "1660/1660 [==============================] - 1s 319us/step - loss: 0.5893 - val_loss: 0.6341\n",
      "Epoch 203/205\n",
      "1660/1660 [==============================] - 1s 319us/step - loss: 0.5874 - val_loss: 0.6752\n",
      "Epoch 204/205\n",
      "1660/1660 [==============================] - 0s 296us/step - loss: 0.5890 - val_loss: 0.6338\n",
      "Epoch 205/205\n",
      "1660/1660 [==============================] - 1s 307us/step - loss: 0.5871 - val_loss: 0.6758\n"
     ]
    }
   ],
   "source": [
    "# fit network\n",
    "history = model.fit(X_train, y_train, epochs=205, batch_size=12,\n",
    "                    validation_data=(X_test, y_test), verbose=1, shuffle=False)"
   ]
  },
  {
   "cell_type": "code",
   "execution_count": 15,
   "metadata": {
    "ExecuteTime": {
     "end_time": "2018-11-06T01:20:05.481685Z",
     "start_time": "2018-11-06T01:20:05.328477Z"
    }
   },
   "outputs": [
    {
     "data": {
      "image/png": "[encoded data removed]",
      "text/plain": [
       "<Figure size 432x288 with 1 Axes>"
      ]
     },
     "metadata": {
      "needs_background": "light"
     },
     "output_type": "display_data"
    }
   ],
   "source": [
    "# plot history\n",
    "plt.plot(history.history['loss'], label='train')\n",
    "plt.plot(history.history['val_loss'], label='test')\n",
    "plt.legend()\n",
    "plt.show()"
   ]
  },
  {
   "cell_type": "code",
   "execution_count": 16,
   "metadata": {
    "ExecuteTime": {
     "end_time": "2018-11-06T01:20:05.678536Z",
     "start_time": "2018-11-06T01:20:05.485466Z"
    }
   },
   "outputs": [],
   "source": [
    "# make a prediction\n",
    "yhat = model.predict(X_test)\n",
    "X_test = X_test.reshape((X_test.shape[0], X_test.shape[2]))"
   ]
  },
  {
   "cell_type": "code",
   "execution_count": 17,
   "metadata": {
    "ExecuteTime": {
     "end_time": "2018-11-06T01:20:05.701626Z",
     "start_time": "2018-11-06T01:20:05.680787Z"
    }
   },
   "outputs": [],
   "source": [
    "# invert scaling for forecast\n",
    "inv_yhat = concatenate((yhat, X_test[:, 1:]), axis=1)\n",
    "inv_yhat = scaler.inverse_transform(inv_yhat)\n",
    "inv_yhat = inv_yhat[:,0]"
   ]
  },
  {
   "cell_type": "code",
   "execution_count": 18,
   "metadata": {
    "ExecuteTime": {
     "end_time": "2018-11-06T01:20:05.725985Z",
     "start_time": "2018-11-06T01:20:05.703652Z"
    }
   },
   "outputs": [],
   "source": [
    "# invert scaling for actual\n",
    "y_test = y_test.reshape((len(y_test), 1))\n",
    "inv_y = concatenate((y_test, X_test[:, 1:]), axis=1)\n",
    "inv_y = scaler.inverse_transform(inv_y)\n",
    "inv_y = inv_y[:,0]"
   ]
  },
  {
   "cell_type": "code",
   "execution_count": 19,
   "metadata": {
    "ExecuteTime": {
     "end_time": "2018-11-06T01:20:05.750146Z",
     "start_time": "2018-11-06T01:20:05.727725Z"
    }
   },
   "outputs": [
    {
     "name": "stdout",
     "output_type": "stream",
     "text": [
      "Test RMSE: 0.466\n"
     ]
    }
   ],
   "source": [
    "# calculate RMSE\n",
    "rmse = sqrt(mean_squared_error(inv_y, inv_yhat))\n",
    "print('Test RMSE: %.3f' % rmse)"
   ]
  },
  {
   "cell_type": "code",
   "execution_count": 24,
   "metadata": {
    "ExecuteTime": {
     "end_time": "2018-11-06T01:24:21.847304Z",
     "start_time": "2018-11-06T01:24:21.803465Z"
    }
   },
   "outputs": [
    {
     "ename": "ValueError",
     "evalue": "Classification metrics can't handle a mix of binary and continuous targets",
     "output_type": "error",
     "traceback": [
      "\u001b[0;31m---------------------------------------------------------------------------\u001b[0m",
      "\u001b[0;31mValueError\u001b[0m                                Traceback (most recent call last)",
      "\u001b[0;32m<ipython-input-24-4e9405d7d7f5>\u001b[0m in \u001b[0;36m<module>\u001b[0;34m\u001b[0m\n\u001b[0;32m----> 1\u001b[0;31m \u001b[0mconfusion_matrix\u001b[0m\u001b[0;34m(\u001b[0m\u001b[0my_test\u001b[0m\u001b[0;34m,\u001b[0m \u001b[0myhat\u001b[0m\u001b[0;34m)\u001b[0m\u001b[0;34m\u001b[0m\u001b[0m\n\u001b[0m",
      "\u001b[0;32m~/anaconda3/lib/python3.6/site-packages/sklearn/metrics/classification.py\u001b[0m in \u001b[0;36mconfusion_matrix\u001b[0;34m(y_true, y_pred, labels, sample_weight)\u001b[0m\n\u001b[1;32m    251\u001b[0m \u001b[0;34m\u001b[0m\u001b[0m\n\u001b[1;32m    252\u001b[0m     \"\"\"\n\u001b[0;32m--> 253\u001b[0;31m     \u001b[0my_type\u001b[0m\u001b[0;34m,\u001b[0m \u001b[0my_true\u001b[0m\u001b[0;34m,\u001b[0m \u001b[0my_pred\u001b[0m \u001b[0;34m=\u001b[0m \u001b[0m_check_targets\u001b[0m\u001b[0;34m(\u001b[0m\u001b[0my_true\u001b[0m\u001b[0;34m,\u001b[0m \u001b[0my_pred\u001b[0m\u001b[0;34m)\u001b[0m\u001b[0;34m\u001b[0m\u001b[0m\n\u001b[0m\u001b[1;32m    254\u001b[0m     \u001b[0;32mif\u001b[0m \u001b[0my_type\u001b[0m \u001b[0;32mnot\u001b[0m \u001b[0;32min\u001b[0m \u001b[0;34m(\u001b[0m\u001b[0;34m\"binary\"\u001b[0m\u001b[0;34m,\u001b[0m \u001b[0;34m\"multiclass\"\u001b[0m\u001b[0;34m)\u001b[0m\u001b[0;34m:\u001b[0m\u001b[0;34m\u001b[0m\u001b[0m\n\u001b[1;32m    255\u001b[0m         \u001b[0;32mraise\u001b[0m \u001b[0mValueError\u001b[0m\u001b[0;34m(\u001b[0m\u001b[0;34m\"%s is not supported\"\u001b[0m \u001b[0;34m%\u001b[0m \u001b[0my_type\u001b[0m\u001b[0;34m)\u001b[0m\u001b[0;34m\u001b[0m\u001b[0m\n",
      "\u001b[0;32m~/anaconda3/lib/python3.6/site-packages/sklearn/metrics/classification.py\u001b[0m in \u001b[0;36m_check_targets\u001b[0;34m(y_true, y_pred)\u001b[0m\n\u001b[1;32m     79\u001b[0m     \u001b[0;32mif\u001b[0m \u001b[0mlen\u001b[0m\u001b[0;34m(\u001b[0m\u001b[0my_type\u001b[0m\u001b[0;34m)\u001b[0m \u001b[0;34m>\u001b[0m \u001b[0;36m1\u001b[0m\u001b[0;34m:\u001b[0m\u001b[0;34m\u001b[0m\u001b[0m\n\u001b[1;32m     80\u001b[0m         raise ValueError(\"Classification metrics can't handle a mix of {0} \"\n\u001b[0;32m---> 81\u001b[0;31m                          \"and {1} targets\".format(type_true, type_pred))\n\u001b[0m\u001b[1;32m     82\u001b[0m \u001b[0;34m\u001b[0m\u001b[0m\n\u001b[1;32m     83\u001b[0m     \u001b[0;31m# We can't have more than one value on y_type => The set is no more needed\u001b[0m\u001b[0;34m\u001b[0m\u001b[0;34m\u001b[0m\u001b[0m\n",
      "\u001b[0;31mValueError\u001b[0m: Classification metrics can't handle a mix of binary and continuous targets"
     ]
    }
   ],
   "source": [
    "confusion_matrix(y_test, yhat)"
   ]
  },
  {
   "cell_type": "code",
   "execution_count": null,
   "metadata": {},
   "outputs": [],
   "source": []
  }
 ],
 "metadata": {
  "kernelspec": {
   "display_name": "Python 3",
   "language": "python",
   "name": "python3"
  },
  "language_info": {
   "codemirror_mode": {
    "name": "ipython",
    "version": 3
   },
   "file_extension": ".py",
   "mimetype": "text/x-python",
   "name": "python",
   "nbconvert_exporter": "python",
   "pygments_lexer": "ipython3",
   "version": "3.6.6"
  },
  "latex_envs": {
   "LaTeX_envs_menu_present": true,
   "autoclose": false,
   "autocomplete": true,
   "bibliofile": "biblio.bib",
   "cite_by": "apalike",
   "current_citInitial": 1,
   "eqLabelWithNumbers": true,
   "eqNumInitial": 1,
   "hotkeys": {
    "equation": "Ctrl-E",
    "itemize": "Ctrl-I"
   },
   "labels_anchors": false,
   "latex_user_defs": false,
   "report_style_numbering": false,
   "user_envs_cfg": false
  }
 },
 "nbformat": 4,
 "nbformat_minor": 2
}
