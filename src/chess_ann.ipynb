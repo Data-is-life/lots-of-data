{
 "cells": [
  {
   "cell_type": "code",
   "execution_count": 54,
   "metadata": {
    "ExecuteTime": {
     "end_time": "2018-11-19T04:28:21.746102Z",
     "start_time": "2018-11-19T04:28:21.724287Z"
    }
   },
   "outputs": [],
   "source": [
    "import pandas as pd\n",
    "import numpy as np\n",
    "\n",
    "from sklearn.preprocessing import StandardScaler\n",
    "from sklearn.model_selection import train_test_split, cross_val_score, GridSearchCV\n",
    "from sklearn.metrics import confusion_matrix\n",
    "\n",
    "from keras.models import Sequential\n",
    "from keras.layers import Dense, Dropout\n",
    "from keras.wrappers.scikit_learn import KerasClassifier\n",
    "from keras import regularizers\n",
    "\n",
    "from dummies_bins_test_train_cv import get_Xy_train_test, cross_validation_process\n",
    "# from clean_chess_game_log import main_cleanup\n",
    "# _,_,_ = main_cleanup('../data/dest.pgn')"
   ]
  },
  {
   "cell_type": "code",
   "execution_count": 55,
   "metadata": {
    "ExecuteTime": {
     "end_time": "2018-11-19T04:28:23.072094Z",
     "start_time": "2018-11-19T04:28:23.039129Z"
    }
   },
   "outputs": [],
   "source": [
    "df = pd.read_csv('../data/use_for_predictions.csv')"
   ]
  },
  {
   "cell_type": "code",
   "execution_count": 57,
   "metadata": {
    "ExecuteTime": {
     "end_time": "2018-11-19T04:28:50.615194Z",
     "start_time": "2018-11-19T04:28:50.140848Z"
    }
   },
   "outputs": [
    {
     "name": "stdout",
     "output_type": "stream",
     "text": [
      "y Shape: (2098,)\n",
      "X Shape: (2098, 30)\n",
      "X_train Shape: (2077, 30)\n",
      "X_test Shape: (21, 30)\n",
      "y_train Shape: (2077,)\n",
      "y_test Shape: (21,)\n"
     ]
    }
   ],
   "source": [
    "X_train, X_test, y_train, y_test, X, y, df_clean = get_Xy_train_test(df, .985, .995)"
   ]
  },
  {
   "cell_type": "code",
   "execution_count": 58,
   "metadata": {
    "ExecuteTime": {
     "end_time": "2018-11-19T04:28:53.001830Z",
     "start_time": "2018-11-19T04:28:52.976738Z"
    }
   },
   "outputs": [
    {
     "data": {
      "text/plain": [
       "Index(['color', 'diff_bin', 'gt_300', 'gt_600', 'st_1', 'st_2', 'st_6', 'st_7',\n",
       "       'st_8', 'st_9', 'st_10', 'st_11', 'st_12', 'st_13', 'st_14', 'st_15',\n",
       "       'st_16', 'st_17', 'st_18', 'st_19', 'st_20', 'st_21', 'st_22', 'st_23',\n",
       "       'wd_1', 'wd_2', 'wd_3', 'wd_4', 'wd_5', 'wd_6'],\n",
       "      dtype='object')"
      ]
     },
     "execution_count": 58,
     "metadata": {},
     "output_type": "execute_result"
    }
   ],
   "source": [
    "df_clean.columns"
   ]
  },
  {
   "cell_type": "code",
   "execution_count": 59,
   "metadata": {
    "ExecuteTime": {
     "end_time": "2018-11-19T04:28:53.883592Z",
     "start_time": "2018-11-19T04:28:53.844633Z"
    }
   },
   "outputs": [],
   "source": [
    "X_train = X_train.astype('float64')\n",
    "X_test = X_test.astype('float64')\n",
    "y_train = y_train.astype('int64')\n",
    "y_test = y_test.astype('int64')"
   ]
  },
  {
   "cell_type": "code",
   "execution_count": 60,
   "metadata": {
    "ExecuteTime": {
     "end_time": "2018-11-19T04:28:54.936656Z",
     "start_time": "2018-11-19T04:28:54.908785Z"
    }
   },
   "outputs": [
    {
     "data": {
      "text/plain": [
       "(2077, 30)"
      ]
     },
     "execution_count": 60,
     "metadata": {},
     "output_type": "execute_result"
    }
   ],
   "source": [
    "X_train.shape"
   ]
  },
  {
   "cell_type": "code",
   "execution_count": 61,
   "metadata": {
    "ExecuteTime": {
     "end_time": "2018-11-19T04:28:55.677814Z",
     "start_time": "2018-11-19T04:28:55.653712Z"
    }
   },
   "outputs": [
    {
     "data": {
      "text/plain": [
       "(21, 30)"
      ]
     },
     "execution_count": 61,
     "metadata": {},
     "output_type": "execute_result"
    }
   ],
   "source": [
    "X_test.shape"
   ]
  },
  {
   "cell_type": "code",
   "execution_count": 62,
   "metadata": {
    "ExecuteTime": {
     "end_time": "2018-11-19T04:28:56.234585Z",
     "start_time": "2018-11-19T04:28:56.211575Z"
    }
   },
   "outputs": [
    {
     "data": {
      "text/plain": [
       "(2077,)"
      ]
     },
     "execution_count": 62,
     "metadata": {},
     "output_type": "execute_result"
    }
   ],
   "source": [
    "y_train.shape"
   ]
  },
  {
   "cell_type": "code",
   "execution_count": 63,
   "metadata": {
    "ExecuteTime": {
     "end_time": "2018-11-19T04:28:57.167906Z",
     "start_time": "2018-11-19T04:28:57.135066Z"
    }
   },
   "outputs": [],
   "source": [
    "# std_sclr = StandardScaler()\n",
    "# X_train = std_sclr.fit_transform(X_train)\n",
    "# X_test = std_sclr.fit_transform(X_test)"
   ]
  },
  {
   "cell_type": "code",
   "execution_count": 64,
   "metadata": {
    "ExecuteTime": {
     "end_time": "2018-11-19T04:28:57.994178Z",
     "start_time": "2018-11-19T04:28:57.969615Z"
    }
   },
   "outputs": [],
   "source": [
    "# std_sclr.scale_"
   ]
  },
  {
   "cell_type": "code",
   "execution_count": 97,
   "metadata": {
    "ExecuteTime": {
     "end_time": "2018-11-19T04:39:20.932173Z",
     "start_time": "2018-11-19T04:39:20.895374Z"
    }
   },
   "outputs": [],
   "source": [
    "def _classifier():\n",
    "    classifier = Sequential()\n",
    "\n",
    "    classifier.add(Dense(units=64, kernel_initializer='uniform',\n",
    "                         activation='relu', input_dim=30))\n",
    "\n",
    "    classifier.add(\n",
    "        Dense(units=256, kernel_initializer='uniform', activation='softmax'))\n",
    "\n",
    "    classifier.add(\n",
    "        Dense(units=128, kernel_initializer='uniform', activation='relu'))\n",
    "\n",
    "    classifier.add(\n",
    "        Dense(units=1, kernel_initializer='uniform', activation='sigmoid'))\n",
    "\n",
    "    classifier.compile(\n",
    "        optimizer='nadam', loss='binary_crossentropy', metrics=['accuracy'])\n",
    "\n",
    "    return classifier"
   ]
  },
  {
   "cell_type": "code",
   "execution_count": 98,
   "metadata": {
    "ExecuteTime": {
     "end_time": "2018-11-19T04:39:21.484148Z",
     "start_time": "2018-11-19T04:39:21.239057Z"
    }
   },
   "outputs": [],
   "source": [
    "classifier = _classifier()"
   ]
  },
  {
   "cell_type": "code",
   "execution_count": null,
   "metadata": {
    "ExecuteTime": {
     "start_time": "2018-11-19T04:39:21.572Z"
    },
    "scrolled": true
   },
   "outputs": [
    {
     "name": "stdout",
     "output_type": "stream",
     "text": [
      "Epoch 1/30\n",
      "2077/2077 [==============================] - 2s 1ms/step - loss: 0.6759 - acc: 0.5826\n",
      "Epoch 2/30\n",
      "2077/2077 [==============================] - 1s 583us/step - loss: 0.6221 - acc: 0.6567\n",
      "Epoch 3/30\n",
      "2077/2077 [==============================] - 1s 646us/step - loss: 0.6276 - acc: 0.6216\n",
      "Epoch 4/30\n",
      "2077/2077 [==============================] - 1s 576us/step - loss: 0.5982 - acc: 0.6745\n",
      "Epoch 5/30\n",
      "2077/2077 [==============================] - 1s 642us/step - loss: 0.5904 - acc: 0.6895\n",
      "Epoch 6/30\n",
      "2077/2077 [==============================] - 1s 604us/step - loss: 0.5827 - acc: 0.6962\n",
      "Epoch 7/30\n",
      "1448/2077 [===================>..........] - ETA: 0s - loss: 0.5830 - acc: 0.6954"
     ]
    }
   ],
   "source": [
    "classifier.fit(X_train, y_train, batch_size=8, epochs=30,\n",
    "               class_weight='balanced')"
   ]
  },
  {
   "cell_type": "code",
   "execution_count": null,
   "metadata": {
    "ExecuteTime": {
     "start_time": "2018-11-19T04:39:22.573Z"
    }
   },
   "outputs": [],
   "source": [
    "y_pred = classifier.predict(X_test)\n",
    "y_pred = (y_pred > 0.5)"
   ]
  },
  {
   "cell_type": "code",
   "execution_count": null,
   "metadata": {
    "ExecuteTime": {
     "start_time": "2018-11-19T04:39:23.031Z"
    }
   },
   "outputs": [],
   "source": [
    "y_pred"
   ]
  },
  {
   "cell_type": "code",
   "execution_count": null,
   "metadata": {
    "ExecuteTime": {
     "start_time": "2018-11-19T04:39:23.876Z"
    }
   },
   "outputs": [],
   "source": [
    "y_test"
   ]
  },
  {
   "cell_type": "code",
   "execution_count": null,
   "metadata": {
    "ExecuteTime": {
     "start_time": "2018-11-19T04:39:25.895Z"
    }
   },
   "outputs": [],
   "source": [
    "cm = confusion_matrix(y_test, y_pred)\n",
    "cm"
   ]
  },
  {
   "cell_type": "code",
   "execution_count": 96,
   "metadata": {
    "ExecuteTime": {
     "end_time": "2018-11-19T04:39:10.389255Z",
     "start_time": "2018-11-19T04:39:10.359955Z"
    }
   },
   "outputs": [
    {
     "name": "stdout",
     "output_type": "stream",
     "text": [
      "71.4%\n"
     ]
    }
   ],
   "source": [
    "print(f'{((cm[0][0]+cm[1][1])/cm.sum()*100).round(1)}%')"
   ]
  },
  {
   "cell_type": "code",
   "execution_count": null,
   "metadata": {
    "ExecuteTime": {
     "end_time": "2018-11-19T01:35:35.155645Z",
     "start_time": "2018-11-19T01:35:35.118132Z"
    }
   },
   "outputs": [],
   "source": [
    "def dropout_classifier(optimizer):\n",
    "    classifier = Sequential()\n",
    "    classifier.add(Dense(units=64, kernel_initializer='uniform',\n",
    "                         activation='relu', input_dim=30,\n",
    "                         kernel_regularizer=regularizers.l2(0.01),\n",
    "                         activity_regularizer=regularizers.l1(0.01)))\n",
    "\n",
    "    classifier.add(Dropout(rate=0.16))\n",
    "\n",
    "    classifier.add(\n",
    "        Dense(units=256, kernel_initializer='uniform', activation='softmax',\n",
    "              kernel_regularizer=regularizers.l2(0.01),\n",
    "              activity_regularizer=regularizers.l1(0.01)))\n",
    "\n",
    "    classifier.add(Dropout(rate=0.08))\n",
    "\n",
    "    classifier.add(\n",
    "        Dense(units=128, kernel_initializer='uniform', activation='relu'))\n",
    "\n",
    "    classifier.add(Dropout(rate=0.04))\n",
    "\n",
    "    classifier.add(\n",
    "        Dense(units=128, kernel_initializer='uniform', activation='softmax',\n",
    "              kernel_regularizer=regularizers.l2(0.01),\n",
    "              activity_regularizer=regularizers.l1(0.01)))\n",
    "\n",
    "    classifier.add(\n",
    "        Dense(units=1, kernel_initializer='uniform', activation='sigmoid'))\n",
    "\n",
    "    classifier.compile(\n",
    "        optimizer=optimizer, loss='binary_crossentropy', metrics=['accuracy'])\n",
    "\n",
    "    return classifier"
   ]
  },
  {
   "cell_type": "code",
   "execution_count": null,
   "metadata": {
    "ExecuteTime": {
     "end_time": "2018-11-19T01:37:28.095809Z",
     "start_time": "2018-11-19T01:37:28.073435Z"
    }
   },
   "outputs": [],
   "source": [
    "bs_1 = randint(10,20)\n",
    "bs_2 = randint(20,30)\n",
    "ep_1 = randint(100,200)\n",
    "ep_2 = randint(200,300)\n",
    "\n",
    "parameters = {'batch_size': [bs_1, bs_2],\n",
    "              'nb_epoch': [ep_1, ep_2],\n",
    "              'optimizer': ['Nadam', 'Adamax']}"
   ]
  },
  {
   "cell_type": "code",
   "execution_count": null,
   "metadata": {
    "ExecuteTime": {
     "end_time": "2018-11-19T01:37:28.316366Z",
     "start_time": "2018-11-19T01:37:28.284842Z"
    }
   },
   "outputs": [],
   "source": [
    "classifier = KerasClassifier(build_fn=dropout_classifier)"
   ]
  },
  {
   "cell_type": "code",
   "execution_count": null,
   "metadata": {
    "ExecuteTime": {
     "end_time": "2018-11-19T01:37:28.490829Z",
     "start_time": "2018-11-19T01:37:28.469375Z"
    }
   },
   "outputs": [],
   "source": [
    "grid_search = GridSearchCV(classifier, parameters,\n",
    "                           scoring='f1_micro', cv=5, n_jobs=-4)"
   ]
  },
  {
   "cell_type": "code",
   "execution_count": null,
   "metadata": {
    "ExecuteTime": {
     "end_time": "2018-11-19T01:37:59.950850Z",
     "start_time": "2018-11-19T01:37:29.067828Z"
    },
    "scrolled": true
   },
   "outputs": [],
   "source": [
    "print([bs_1, bs_2, ep_1, ep_2])\n",
    "grid_search = grid_search.fit(X=X_train, y=y_train)"
   ]
  },
  {
   "cell_type": "code",
   "execution_count": null,
   "metadata": {
    "ExecuteTime": {
     "end_time": "2018-11-06T04:33:57.373021Z",
     "start_time": "2018-11-06T04:33:57.337778Z"
    }
   },
   "outputs": [],
   "source": [
    "best_params = grid_search.best_params_\n",
    "best_params"
   ]
  },
  {
   "cell_type": "code",
   "execution_count": null,
   "metadata": {
    "ExecuteTime": {
     "end_time": "2018-11-06T04:34:01.439522Z",
     "start_time": "2018-11-06T04:34:01.403470Z"
    }
   },
   "outputs": [],
   "source": [
    "best_accu = grid_search.best_score_\n",
    "best_accu"
   ]
  },
  {
   "cell_type": "code",
   "execution_count": null,
   "metadata": {
    "ExecuteTime": {
     "end_time": "2018-11-06T04:34:04.347062Z",
     "start_time": "2018-11-06T04:34:04.311720Z"
    }
   },
   "outputs": [],
   "source": [
    "grid_search.cv_results_"
   ]
  },
  {
   "cell_type": "code",
   "execution_count": null,
   "metadata": {
    "ExecuteTime": {
     "end_time": "2018-11-06T04:34:09.090595Z",
     "start_time": "2018-11-06T04:34:05.413056Z"
    }
   },
   "outputs": [],
   "source": [
    "y_pred = grid_search.predict(X_test)\n",
    "y_pred = (y_pred > 0.5)"
   ]
  },
  {
   "cell_type": "code",
   "execution_count": null,
   "metadata": {
    "ExecuteTime": {
     "end_time": "2018-11-06T04:34:10.469030Z",
     "start_time": "2018-11-06T04:34:10.440691Z"
    }
   },
   "outputs": [],
   "source": [
    "cm = confusion_matrix(y_test, y_pred)\n",
    "cm"
   ]
  },
  {
   "cell_type": "code",
   "execution_count": null,
   "metadata": {
    "ExecuteTime": {
     "end_time": "2018-11-06T04:34:11.931774Z",
     "start_time": "2018-11-06T04:34:11.893709Z"
    }
   },
   "outputs": [],
   "source": [
    "print(f'classification_report:\\n{classification_report(y_test, y_pred)}')\n",
    "print('---------------------------------------------------------------\\n\\n')\n",
    "print(f'average_precision_score:\\n{average_precision_score(y_test, y_pred)*100}%')\n",
    "print('---------------------------------------------------------------\\n\\n')\n",
    "print(f'f1_score:\\n{f1_score(y_test, y_pred)*100}%')\n",
    "print('---------------------------------------------------------------\\n\\n')\n",
    "print(f'accuracy_score:\\n{accuracy_score(y_test, y_pred)*100}%')\n",
    "print('---------------------------------------------------------------\\n\\n')\n",
    "print(f'cohen_kappa_score:\\n{cohen_kappa_score(y_test, y_pred)}')\n",
    "print('---------------------------------------------------------------\\n\\n')\n",
    "print(f'roc_curve:\\n{roc_curve(y_test, y_pred)}')\n",
    "print('---------------------------------------------------------------\\n\\n')\n",
    "print(f'roc_auc_score:\\n{roc_auc_score(y_test, y_pred)*100}%')\n",
    "print('---------------------------------------------------------------\\n\\n')\n",
    "print(f'brier_score_loss:\\n{brier_score_loss(y_test, y_pred)*100}%')\n",
    "print('---------------------------------------------------------------\\n\\n')\n",
    "print(f'recall_score:\\n{recall_score(y_test, y_pred)*100}%')"
   ]
  },
  {
   "cell_type": "code",
   "execution_count": null,
   "metadata": {
    "ExecuteTime": {
     "end_time": "2018-11-06T04:01:03.251555Z",
     "start_time": "2018-11-06T04:01:03.218859Z"
    }
   },
   "outputs": [],
   "source": [
    "print(f'Accuracy = {round((cm[0][0]+cm[1][1])/(cm.sum())/.01,1)}%')"
   ]
  },
  {
   "cell_type": "code",
   "execution_count": null,
   "metadata": {},
   "outputs": [],
   "source": [
    "def dropout_classifier_set():\n",
    "    classifier = Sequential()\n",
    "    classifier.add(Dense(units=5, kernel_initializer='uniform',\n",
    "                         activation='relu', input_dim=5))\n",
    "    classifier.add(Dropout(rate=0.12))\n",
    "    classifier.add(\n",
    "        Dense(units=40, kernel_initializer='uniform', activation='relu'))\n",
    "    classifier.add(Dropout(rate=0.08))\n",
    "    classifier.add(\n",
    "        Dense(units=8, kernel_initializer='uniform', activation='relu'))\n",
    "    classifier.add(Dropout(rate=0.04))\n",
    "    classifier.add(\n",
    "        Dense(units=1, kernel_initializer='uniform', activation='sigmoid'))\n",
    "\n",
    "    classifier.compile(\n",
    "        optimizer='Nadam', loss='binary_crossentropy', metrics=['accuracy'])\n",
    "    return classifier"
   ]
  },
  {
   "cell_type": "code",
   "execution_count": null,
   "metadata": {
    "ExecuteTime": {
     "end_time": "2018-11-06T02:07:56.507508Z",
     "start_time": "2018-11-06T02:07:56.382426Z"
    }
   },
   "outputs": [],
   "source": [
    "# classifier = dropout_classifier()"
   ]
  },
  {
   "cell_type": "code",
   "execution_count": null,
   "metadata": {
    "ExecuteTime": {
     "end_time": "2018-11-06T02:00:29.458678Z",
     "start_time": "2018-11-06T02:00:26.411432Z"
    }
   },
   "outputs": [],
   "source": [
    "classifier.fit(X_train, y_train, batch_size=13, \n",
    "                   epochs=250, shuffle=False)"
   ]
  },
  {
   "cell_type": "code",
   "execution_count": null,
   "metadata": {
    "ExecuteTime": {
     "end_time": "2018-11-01T03:36:03.807645Z",
     "start_time": "2018-11-01T03:30:47.503827Z"
    },
    "scrolled": true
   },
   "outputs": [],
   "source": [
    "batch_list = [134, 67, 28, 14, 7, 4]\n",
    "for num in batch_list:\n",
    "    classifier.fit(X_train, y_train, batch_size=num, \n",
    "                   epochs=100, shuffle=False)"
   ]
  },
  {
   "cell_type": "code",
   "execution_count": null,
   "metadata": {
    "ExecuteTime": {
     "end_time": "2018-11-06T01:59:15.011869Z",
     "start_time": "2018-11-06T01:59:14.947060Z"
    }
   },
   "outputs": [],
   "source": [
    "y_pred = classifier.predict(X_test)\n",
    "y_pred = (y_pred > 0.5)"
   ]
  },
  {
   "cell_type": "code",
   "execution_count": null,
   "metadata": {
    "ExecuteTime": {
     "end_time": "2018-11-06T01:59:15.038301Z",
     "start_time": "2018-11-06T01:59:15.014182Z"
    }
   },
   "outputs": [],
   "source": [
    "cm = confusion_matrix(y_test, y_pred)\n",
    "cm"
   ]
  },
  {
   "cell_type": "code",
   "execution_count": null,
   "metadata": {
    "ExecuteTime": {
     "end_time": "2018-11-06T01:59:15.064651Z",
     "start_time": "2018-11-06T01:59:15.040771Z"
    }
   },
   "outputs": [],
   "source": [
    "print(f'Accuracy = {(cm[0][0]+cm[1][1])/(cm.sum())/.01}%')"
   ]
  },
  {
   "cell_type": "markdown",
   "metadata": {},
   "source": [
    "### 75.5% Accuracy on 1824 training, 200 test\n",
    "__3 layers__\n",
    "- layer 1 = ReLU X 7\n",
    "- layer 2 = SoftMax X 14\n",
    "- layer 3 = ReLU X 7\n",
    "- output layer = Sigmoid X 1\n",
    "\n",
    "__metrics__ = Cosine\n",
    "\n",
    "__loss__ = binary_crossentropy\n",
    "\n",
    "__Optimizer__ = Nadam\n",
    "\n",
    "__Batch size__ = 12\n",
    "\n",
    "__Epochs__ = 175\n",
    "\n",
    "no __diff__"
   ]
  },
  {
   "cell_type": "code",
   "execution_count": null,
   "metadata": {
    "ExecuteTime": {
     "end_time": "2018-11-01T02:47:51.033028Z",
     "start_time": "2018-11-01T02:47:51.008356Z"
    }
   },
   "outputs": [],
   "source": [
    "classifier = KerasClassifier(build_fn=_classifier, batch_size=12, epochs=200)"
   ]
  },
  {
   "cell_type": "code",
   "execution_count": null,
   "metadata": {
    "ExecuteTime": {
     "end_time": "2018-11-01T03:01:42.422218Z",
     "start_time": "2018-11-01T02:47:51.405705Z"
    }
   },
   "outputs": [],
   "source": [
    "accus = cross_val_score(estimator=classifier, X=X_train,\n",
    "                        y=y_train, cv=10, n_jobs=-2, scoring='accuracy')\n",
    "accus"
   ]
  },
  {
   "cell_type": "code",
   "execution_count": null,
   "metadata": {
    "ExecuteTime": {
     "end_time": "2018-11-01T03:02:09.616879Z",
     "start_time": "2018-11-01T03:02:09.580513Z"
    }
   },
   "outputs": [],
   "source": [
    "accu_mean = accus.mean()\n",
    "accu_mean"
   ]
  },
  {
   "cell_type": "code",
   "execution_count": null,
   "metadata": {
    "ExecuteTime": {
     "end_time": "2018-11-01T03:02:11.524193Z",
     "start_time": "2018-11-01T03:02:11.498485Z"
    }
   },
   "outputs": [],
   "source": [
    "accu_var = accus.std()\n",
    "accu_var"
   ]
  },
  {
   "cell_type": "code",
   "execution_count": null,
   "metadata": {
    "ExecuteTime": {
     "end_time": "2018-11-01T03:02:26.103511Z",
     "start_time": "2018-11-01T03:02:26.077809Z"
    }
   },
   "outputs": [],
   "source": [
    "accus"
   ]
  },
  {
   "cell_type": "code",
   "execution_count": null,
   "metadata": {
    "ExecuteTime": {
     "end_time": "2018-11-06T02:06:30.726406Z",
     "start_time": "2018-11-06T02:06:30.701155Z"
    }
   },
   "outputs": [],
   "source": [
    "def dropout_classifier(optimizer, metrics):\n",
    "    classifier = Sequential()\n",
    "    classifier.add(Dense(units=5, kernel_initializer='uniform',\n",
    "                         activation='relu', input_dim=5))\n",
    "    classifier.add(Dropout(rate=0.12))\n",
    "    classifier.add(\n",
    "        Dense(units=40, kernel_initializer='uniform', activation='relu'))\n",
    "    classifier.add(Dropout(rate=0.08))\n",
    "    classifier.add(\n",
    "        Dense(units=8, kernel_initializer='uniform', activation='relu'))\n",
    "    classifier.add(Dropout(rate=0.04))\n",
    "    classifier.add(\n",
    "        Dense(units=1, kernel_initializer='uniform', activation='sigmoid'))\n",
    "\n",
    "    classifier.compile(\n",
    "        optimizer=optimizer, loss='binary_crossentropy', metrics=[metrics])\n",
    "    return classifier"
   ]
  },
  {
   "cell_type": "code",
   "execution_count": null,
   "metadata": {
    "ExecuteTime": {
     "end_time": "2018-11-06T02:07:15.850794Z",
     "start_time": "2018-11-06T02:07:00.414066Z"
    },
    "scrolled": true
   },
   "outputs": [],
   "source": []
  },
  {
   "cell_type": "code",
   "execution_count": null,
   "metadata": {},
   "outputs": [],
   "source": []
  }
 ],
 "metadata": {
  "kernelspec": {
   "display_name": "Python 3",
   "language": "python",
   "name": "python3"
  },
  "language_info": {
   "codemirror_mode": {
    "name": "ipython",
    "version": 3
   },
   "file_extension": ".py",
   "mimetype": "text/x-python",
   "name": "python",
   "nbconvert_exporter": "python",
   "pygments_lexer": "ipython3",
   "version": "3.6.6"
  },
  "latex_envs": {
   "LaTeX_envs_menu_present": true,
   "autoclose": false,
   "autocomplete": true,
   "bibliofile": "biblio.bib",
   "cite_by": "apalike",
   "current_citInitial": 1,
   "eqLabelWithNumbers": true,
   "eqNumInitial": 1,
   "hotkeys": {
    "equation": "Ctrl-E",
    "itemize": "Ctrl-I"
   },
   "labels_anchors": false,
   "latex_user_defs": false,
   "report_style_numbering": false,
   "user_envs_cfg": false
  }
 },
 "nbformat": 4,
 "nbformat_minor": 2
}
