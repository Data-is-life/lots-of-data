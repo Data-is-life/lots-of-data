{
 "cells": [
  {
   "cell_type": "code",
   "execution_count": 4,
   "metadata": {
    "ExecuteTime": {
     "end_time": "2018-11-19T02:31:29.691934Z",
     "start_time": "2018-11-19T02:31:21.711157Z"
    }
   },
   "outputs": [],
   "source": [
    "import pandas as pd\n",
    "import numpy as np\n",
    "\n",
    "from pandas import *\n",
    "\n",
    "from sklearn.preprocessing import LabelEncoder, OneHotEncoder, StandardScaler\n",
    "from sklearn.model_selection import train_test_split, cross_val_score, GridSearchCV\n",
    "from sklearn.metrics import *\n",
    "\n",
    "from keras.models import Sequential\n",
    "from keras.layers import Dense, Dropout, LSTM\n",
    "from keras.wrappers.scikit_learn import KerasClassifier\n",
    "from keras import regularizers\n",
    "\n",
    "from dummies_bins_test_train_cv import get_Xy_train_test, cross_validation_process\n",
    "from clean_chess_game_log import main_cleanup\n",
    "_,_,_ = main_cleanup('../data/dest.pgn')\n",
    "df = pd.read_csv('../data/use_for_predictions.csv')"
   ]
  },
  {
   "cell_type": "code",
   "execution_count": 5,
   "metadata": {
    "ExecuteTime": {
     "end_time": "2018-11-19T02:32:15.549086Z",
     "start_time": "2018-11-19T02:32:15.513578Z"
    }
   },
   "outputs": [
    {
     "name": "stdout",
     "output_type": "stream",
     "text": [
      "16\n",
      "16\n",
      "20\n",
      "25\n",
      "14\n",
      "19\n",
      "8\n",
      "26\n",
      "18\n",
      "22\n"
     ]
    },
    {
     "name": "stderr",
     "output_type": "stream",
     "text": [
      "/home/guess/anaconda3/lib/python3.6/site-packages/ipykernel_launcher.py:1: DeprecationWarning: This function is deprecated. Please call randint(5, 30 + 1) instead\n",
      "  \"\"\"Entry point for launching an IPython kernel.\n"
     ]
    }
   ],
   "source": [
    "\n",
    "for num in np.random.random_integers(5, 30, (10,)):\n",
    "    print(num)"
   ]
  },
  {
   "cell_type": "code",
   "execution_count": 2,
   "metadata": {
    "ExecuteTime": {
     "end_time": "2018-11-19T01:38:18.013891Z",
     "start_time": "2018-11-19T01:38:17.672207Z"
    }
   },
   "outputs": [
    {
     "name": "stdout",
     "output_type": "stream",
     "text": [
      "y Shape: (2098,)\n"
     ]
    },
    {
     "name": "stderr",
     "output_type": "stream",
     "text": [
      "/home/guess/anaconda3/lib/python3.6/site-packages/pandas/core/indexing.py:362: SettingWithCopyWarning: \n",
      "A value is trying to be set on a copy of a slice from a DataFrame.\n",
      "Try using .loc[row_indexer,col_indexer] = value instead\n",
      "\n",
      "See the caveats in the documentation: http://pandas.pydata.org/pandas-docs/stable/indexing.html#indexing-view-versus-copy\n",
      "  self.obj[key] = _infer_fill_value(value)\n",
      "/home/guess/anaconda3/lib/python3.6/site-packages/pandas/core/indexing.py:543: SettingWithCopyWarning: \n",
      "A value is trying to be set on a copy of a slice from a DataFrame.\n",
      "Try using .loc[row_indexer,col_indexer] = value instead\n",
      "\n",
      "See the caveats in the documentation: http://pandas.pydata.org/pandas-docs/stable/indexing.html#indexing-view-versus-copy\n",
      "  self.obj[item] = s\n"
     ]
    },
    {
     "name": "stdout",
     "output_type": "stream",
     "text": [
      "X Shape: (2098, 30)\n",
      "X_train Shape: (2048, 30)\n",
      "X_test Shape: (50, 30)\n",
      "y_train Shape: (2048,)\n",
      "y_test Shape: (50,)\n"
     ]
    }
   ],
   "source": [
    "X_train, X_test, y_train, y_test, X, y, df_clean = get_Xy_train_test(df, .97, .99)"
   ]
  },
  {
   "cell_type": "code",
   "execution_count": 3,
   "metadata": {
    "ExecuteTime": {
     "end_time": "2018-11-19T01:38:18.040357Z",
     "start_time": "2018-11-19T01:38:18.015856Z"
    }
   },
   "outputs": [],
   "source": [
    "X_train = X_train.astype('float64')\n",
    "X_test = X_test.astype('float64')\n",
    "y_train = y_train.astype('int64')\n",
    "y_test = y_test.astype('int64')"
   ]
  },
  {
   "cell_type": "code",
   "execution_count": 40,
   "metadata": {
    "ExecuteTime": {
     "end_time": "2018-11-19T01:22:35.787249Z",
     "start_time": "2018-11-19T01:22:35.765649Z"
    }
   },
   "outputs": [
    {
     "data": {
      "text/plain": [
       "(2046, 30)"
      ]
     },
     "execution_count": 40,
     "metadata": {},
     "output_type": "execute_result"
    }
   ],
   "source": [
    "X_train.shape"
   ]
  },
  {
   "cell_type": "code",
   "execution_count": 41,
   "metadata": {
    "ExecuteTime": {
     "end_time": "2018-11-19T01:22:36.529667Z",
     "start_time": "2018-11-19T01:22:36.507105Z"
    }
   },
   "outputs": [
    {
     "data": {
      "text/plain": [
       "(52, 30)"
      ]
     },
     "execution_count": 41,
     "metadata": {},
     "output_type": "execute_result"
    }
   ],
   "source": [
    "X_test.shape"
   ]
  },
  {
   "cell_type": "code",
   "execution_count": 42,
   "metadata": {
    "ExecuteTime": {
     "end_time": "2018-11-19T01:22:37.266209Z",
     "start_time": "2018-11-19T01:22:37.244314Z"
    }
   },
   "outputs": [
    {
     "data": {
      "text/plain": [
       "(2046,)"
      ]
     },
     "execution_count": 42,
     "metadata": {},
     "output_type": "execute_result"
    }
   ],
   "source": [
    "y_train.shape"
   ]
  },
  {
   "cell_type": "code",
   "execution_count": 43,
   "metadata": {
    "ExecuteTime": {
     "end_time": "2018-11-19T01:22:37.955867Z",
     "start_time": "2018-11-19T01:22:37.918233Z"
    }
   },
   "outputs": [],
   "source": [
    "std_sclr = StandardScaler()\n",
    "X_train = std_sclr.fit_transform(X_train)\n",
    "X_test = std_sclr.fit_transform(X_test)"
   ]
  },
  {
   "cell_type": "code",
   "execution_count": 44,
   "metadata": {
    "ExecuteTime": {
     "end_time": "2018-11-19T01:22:38.782908Z",
     "start_time": "2018-11-19T01:22:38.760623Z"
    }
   },
   "outputs": [
    {
     "data": {
      "text/plain": [
       "array([ 0.49963004, 10.14705119,  0.31948553,  0.31948553,  1.        ,\n",
       "        1.        ,  1.        ,  0.23316069,  0.26646936,  0.36080121,\n",
       "        0.19230769,  0.23316069,  0.23316069,  0.19230769,  0.19230769,\n",
       "        0.31948553,  0.26646936,  0.31948553,  0.29480211,  0.13733516,\n",
       "        0.19230769,  0.13733516,  1.        ,  1.        ,  0.37831376,\n",
       "        0.3413123 ,  0.36080121,  0.40839924,  0.3413123 ,  0.26646936])"
      ]
     },
     "execution_count": 44,
     "metadata": {},
     "output_type": "execute_result"
    }
   ],
   "source": [
    "std_sclr.scale_"
   ]
  },
  {
   "cell_type": "code",
   "execution_count": 77,
   "metadata": {
    "ExecuteTime": {
     "end_time": "2018-11-19T01:30:06.694540Z",
     "start_time": "2018-11-19T01:30:06.656593Z"
    }
   },
   "outputs": [],
   "source": [
    "def _classifier():\n",
    "    classifier = Sequential()\n",
    "\n",
    "    classifier.add(Dense(units=64, kernel_initializer='uniform',\n",
    "                         activation='relu', input_dim=30))\n",
    "\n",
    "    classifier.add(\n",
    "        Dense(units=256, kernel_initializer='uniform', activation='softmax'))\n",
    "\n",
    "    classifier.add(\n",
    "        Dense(units=128, kernel_initializer='uniform', activation='relu'))\n",
    "\n",
    "    classifier.add(\n",
    "        Dense(units=1, kernel_initializer='uniform', activation='sigmoid'))\n",
    "\n",
    "    classifier.compile(\n",
    "        optimizer='nadam', loss='binary_crossentropy', metrics=['accuracy'])\n",
    "\n",
    "    return classifier"
   ]
  },
  {
   "cell_type": "code",
   "execution_count": 78,
   "metadata": {
    "ExecuteTime": {
     "end_time": "2018-11-19T01:30:07.091713Z",
     "start_time": "2018-11-19T01:30:06.990774Z"
    }
   },
   "outputs": [],
   "source": [
    "classifier = _classifier()"
   ]
  },
  {
   "cell_type": "code",
   "execution_count": 79,
   "metadata": {
    "ExecuteTime": {
     "end_time": "2018-11-19T01:31:32.651708Z",
     "start_time": "2018-11-19T01:30:07.482218Z"
    },
    "scrolled": true
   },
   "outputs": [
    {
     "name": "stdout",
     "output_type": "stream",
     "text": [
      "Epoch 1/50\n",
      "2046/2046 [==============================] - 2s 1ms/step - loss: 0.6933 - acc: 0.4985\n",
      "Epoch 2/50\n",
      "2046/2046 [==============================] - 1s 680us/step - loss: 0.6544 - acc: 0.5948\n",
      "Epoch 3/50\n",
      "2046/2046 [==============================] - 1s 644us/step - loss: 0.5708 - acc: 0.7107\n",
      "Epoch 4/50\n",
      "2046/2046 [==============================] - 1s 658us/step - loss: 0.5542 - acc: 0.7146\n",
      "Epoch 5/50\n",
      "2046/2046 [==============================] - 1s 659us/step - loss: 0.5447 - acc: 0.7195\n",
      "Epoch 6/50\n",
      "2046/2046 [==============================] - 1s 660us/step - loss: 0.5396 - acc: 0.7239\n",
      "Epoch 7/50\n",
      "2046/2046 [==============================] - 1s 661us/step - loss: 0.5320 - acc: 0.7302\n",
      "Epoch 8/50\n",
      "2046/2046 [==============================] - 1s 721us/step - loss: 0.5265 - acc: 0.7307\n",
      "Epoch 9/50\n",
      "2046/2046 [==============================] - 1s 676us/step - loss: 0.5195 - acc: 0.7439\n",
      "Epoch 10/50\n",
      "2046/2046 [==============================] - 1s 672us/step - loss: 0.5154 - acc: 0.7400\n",
      "Epoch 11/50\n",
      "2046/2046 [==============================] - 1s 691us/step - loss: 0.5071 - acc: 0.7463\n",
      "Epoch 12/50\n",
      "2046/2046 [==============================] - 1s 693us/step - loss: 0.5033 - acc: 0.7498\n",
      "Epoch 13/50\n",
      "2046/2046 [==============================] - 1s 710us/step - loss: 0.4951 - acc: 0.7561\n",
      "Epoch 14/50\n",
      "2046/2046 [==============================] - 1s 680us/step - loss: 0.4914 - acc: 0.7571\n",
      "Epoch 15/50\n",
      "2046/2046 [==============================] - 1s 707us/step - loss: 0.4835 - acc: 0.7630\n",
      "Epoch 16/50\n",
      "2046/2046 [==============================] - 1s 686us/step - loss: 0.4755 - acc: 0.7737\n",
      "Epoch 17/50\n",
      "2046/2046 [==============================] - 1s 665us/step - loss: 0.4677 - acc: 0.7776\n",
      "Epoch 18/50\n",
      "2046/2046 [==============================] - 2s 797us/step - loss: 0.4590 - acc: 0.7889\n",
      "Epoch 19/50\n",
      "2046/2046 [==============================] - 2s 736us/step - loss: 0.4498 - acc: 0.7854\n",
      "Epoch 20/50\n",
      "2046/2046 [==============================] - 2s 749us/step - loss: 0.4460 - acc: 0.7835\n",
      "Epoch 21/50\n",
      "2046/2046 [==============================] - 2s 749us/step - loss: 0.4342 - acc: 0.7942\n",
      "Epoch 22/50\n",
      "2046/2046 [==============================] - 1s 622us/step - loss: 0.4288 - acc: 0.8055\n",
      "Epoch 23/50\n",
      "2046/2046 [==============================] - 1s 614us/step - loss: 0.4165 - acc: 0.8133\n",
      "Epoch 24/50\n",
      "2046/2046 [==============================] - 1s 609us/step - loss: 0.4122 - acc: 0.8065\n",
      "Epoch 25/50\n",
      "2046/2046 [==============================] - 1s 591us/step - loss: 0.4072 - acc: 0.8138\n",
      "Epoch 26/50\n",
      "2046/2046 [==============================] - 1s 623us/step - loss: 0.3986 - acc: 0.8128\n",
      "Epoch 27/50\n",
      "2046/2046 [==============================] - 1s 641us/step - loss: 0.3983 - acc: 0.8216\n",
      "Epoch 28/50\n",
      "2046/2046 [==============================] - 1s 606us/step - loss: 0.3901 - acc: 0.8226\n",
      "Epoch 29/50\n",
      "2046/2046 [==============================] - 2s 755us/step - loss: 0.3814 - acc: 0.8245\n",
      "Epoch 30/50\n",
      "2046/2046 [==============================] - 2s 813us/step - loss: 0.3785 - acc: 0.8324\n",
      "Epoch 31/50\n",
      "2046/2046 [==============================] - 2s 740us/step - loss: 0.3734 - acc: 0.8309\n",
      "Epoch 32/50\n",
      "2046/2046 [==============================] - 1s 697us/step - loss: 0.3663 - acc: 0.8338\n",
      "Epoch 33/50\n",
      "2046/2046 [==============================] - 1s 663us/step - loss: 0.3666 - acc: 0.8314\n",
      "Epoch 34/50\n",
      "2046/2046 [==============================] - 1s 687us/step - loss: 0.3554 - acc: 0.8407\n",
      "Epoch 35/50\n",
      "2046/2046 [==============================] - 1s 641us/step - loss: 0.3588 - acc: 0.8372\n",
      "Epoch 36/50\n",
      "2046/2046 [==============================] - 1s 648us/step - loss: 0.3556 - acc: 0.8441\n",
      "Epoch 37/50\n",
      "2046/2046 [==============================] - 2s 905us/step - loss: 0.3505 - acc: 0.8421\n",
      "Epoch 38/50\n",
      "2046/2046 [==============================] - 2s 918us/step - loss: 0.3506 - acc: 0.8431\n",
      "Epoch 39/50\n",
      "2046/2046 [==============================] - 2s 971us/step - loss: 0.3392 - acc: 0.8509\n",
      "Epoch 40/50\n",
      "2046/2046 [==============================] - 3s 1ms/step - loss: 0.3411 - acc: 0.8519\n",
      "Epoch 41/50\n",
      "2046/2046 [==============================] - 3s 1ms/step - loss: 0.3371 - acc: 0.8451\n",
      "Epoch 42/50\n",
      "2046/2046 [==============================] - 2s 1ms/step - loss: 0.3358 - acc: 0.8529\n",
      "Epoch 43/50\n",
      "2046/2046 [==============================] - 2s 1ms/step - loss: 0.3249 - acc: 0.8578\n",
      "Epoch 44/50\n",
      "2046/2046 [==============================] - 3s 1ms/step - loss: 0.3291 - acc: 0.8592\n",
      "Epoch 45/50\n",
      "2046/2046 [==============================] - 2s 1ms/step - loss: 0.3213 - acc: 0.8602\n",
      "Epoch 46/50\n",
      "2046/2046 [==============================] - 3s 2ms/step - loss: 0.3204 - acc: 0.8573\n",
      "Epoch 47/50\n",
      "2046/2046 [==============================] - 2s 1ms/step - loss: 0.3188 - acc: 0.8597\n",
      "Epoch 48/50\n",
      "2046/2046 [==============================] - 2s 889us/step - loss: 0.3193 - acc: 0.8592\n",
      "Epoch 49/50\n",
      "2046/2046 [==============================] - 3s 1ms/step - loss: 0.3074 - acc: 0.8666\n",
      "Epoch 50/50\n",
      "2046/2046 [==============================] - 3s 1ms/step - loss: 0.3125 - acc: 0.8656\n"
     ]
    },
    {
     "data": {
      "text/plain": [
       "<keras.callbacks.History at 0x7f905d077c88>"
      ]
     },
     "execution_count": 79,
     "metadata": {},
     "output_type": "execute_result"
    }
   ],
   "source": [
    "classifier.fit(X_train, y_train, batch_size=7, epochs=50,\n",
    "               class_weight='balanced')"
   ]
  },
  {
   "cell_type": "code",
   "execution_count": 80,
   "metadata": {
    "ExecuteTime": {
     "end_time": "2018-11-19T01:31:42.528251Z",
     "start_time": "2018-11-19T01:31:42.225193Z"
    }
   },
   "outputs": [],
   "source": [
    "y_pred = classifier.predict(X_test)\n",
    "y_pred = (y_pred > 0.5)"
   ]
  },
  {
   "cell_type": "code",
   "execution_count": 81,
   "metadata": {
    "ExecuteTime": {
     "end_time": "2018-11-19T01:31:42.567888Z",
     "start_time": "2018-11-19T01:31:42.538704Z"
    }
   },
   "outputs": [
    {
     "data": {
      "text/plain": [
       "array([[15,  8],\n",
       "       [10, 19]])"
      ]
     },
     "execution_count": 81,
     "metadata": {},
     "output_type": "execute_result"
    }
   ],
   "source": [
    "cm = confusion_matrix(y_test, y_pred)\n",
    "cm"
   ]
  },
  {
   "cell_type": "code",
   "execution_count": 82,
   "metadata": {
    "ExecuteTime": {
     "end_time": "2018-11-19T01:31:46.433965Z",
     "start_time": "2018-11-19T01:31:46.407210Z"
    }
   },
   "outputs": [
    {
     "name": "stdout",
     "output_type": "stream",
     "text": [
      "65.4%\n"
     ]
    }
   ],
   "source": [
    "print(f'{((cm[0][0]+cm[1][1])/cm.sum()*100).round(1)}%')"
   ]
  },
  {
   "cell_type": "code",
   "execution_count": 85,
   "metadata": {
    "ExecuteTime": {
     "end_time": "2018-11-19T01:35:35.155645Z",
     "start_time": "2018-11-19T01:35:35.118132Z"
    }
   },
   "outputs": [],
   "source": [
    "def dropout_classifier(optimizer):\n",
    "    classifier = Sequential()\n",
    "    classifier.add(Dense(units=64, kernel_initializer='uniform',\n",
    "                         activation='relu', input_dim=30,\n",
    "                         kernel_regularizer=regularizers.l2(0.01),\n",
    "                         activity_regularizer=regularizers.l1(0.01)))\n",
    "\n",
    "    classifier.add(Dropout(rate=0.16))\n",
    "\n",
    "    classifier.add(\n",
    "        Dense(units=256, kernel_initializer='uniform', activation='softmax',\n",
    "              kernel_regularizer=regularizers.l2(0.01),\n",
    "              activity_regularizer=regularizers.l1(0.01)))\n",
    "\n",
    "    classifier.add(Dropout(rate=0.08))\n",
    "\n",
    "    classifier.add(\n",
    "        Dense(units=128, kernel_initializer='uniform', activation='relu'))\n",
    "\n",
    "    classifier.add(Dropout(rate=0.04))\n",
    "\n",
    "    classifier.add(\n",
    "        Dense(units=128, kernel_initializer='uniform', activation='softmax',\n",
    "              kernel_regularizer=regularizers.l2(0.01),\n",
    "              activity_regularizer=regularizers.l1(0.01)))\n",
    "\n",
    "    classifier.add(\n",
    "        Dense(units=1, kernel_initializer='uniform', activation='sigmoid'))\n",
    "\n",
    "    classifier.compile(\n",
    "        optimizer=optimizer, loss='binary_crossentropy', metrics=['accuracy'])\n",
    "\n",
    "    return classifier"
   ]
  },
  {
   "cell_type": "code",
   "execution_count": 97,
   "metadata": {
    "ExecuteTime": {
     "end_time": "2018-11-19T01:37:28.095809Z",
     "start_time": "2018-11-19T01:37:28.073435Z"
    }
   },
   "outputs": [],
   "source": [
    "bs_1 = randint(10,20)\n",
    "bs_2 = randint(20,30)\n",
    "ep_1 = randint(100,200)\n",
    "ep_2 = randint(200,300)\n",
    "\n",
    "parameters = {'batch_size': [bs_1, bs_2],\n",
    "              'nb_epoch': [ep_1, ep_2],\n",
    "              'optimizer': ['Nadam', 'Adamax']}"
   ]
  },
  {
   "cell_type": "code",
   "execution_count": 98,
   "metadata": {
    "ExecuteTime": {
     "end_time": "2018-11-19T01:37:28.316366Z",
     "start_time": "2018-11-19T01:37:28.284842Z"
    }
   },
   "outputs": [],
   "source": [
    "classifier = KerasClassifier(build_fn=dropout_classifier)"
   ]
  },
  {
   "cell_type": "code",
   "execution_count": 99,
   "metadata": {
    "ExecuteTime": {
     "end_time": "2018-11-19T01:37:28.490829Z",
     "start_time": "2018-11-19T01:37:28.469375Z"
    }
   },
   "outputs": [],
   "source": [
    "grid_search = GridSearchCV(classifier, parameters,\n",
    "                           scoring='f1_micro', cv=5, n_jobs=-4)"
   ]
  },
  {
   "cell_type": "code",
   "execution_count": 100,
   "metadata": {
    "ExecuteTime": {
     "end_time": "2018-11-19T01:37:59.950850Z",
     "start_time": "2018-11-19T01:37:29.067828Z"
    },
    "scrolled": true
   },
   "outputs": [
    {
     "name": "stdout",
     "output_type": "stream",
     "text": [
      "[10, 29, 144, 239]\n",
      "Epoch 1/1\n",
      "1636/1636 [==============================] - 4s 3ms/step - loss: 0.9624 - acc: 0.4939\n",
      "Epoch 1/1\n",
      "1637/1637 [==============================] - 4s 3ms/step - loss: 0.9606 - acc: 0.4985\n",
      "Epoch 1/1\n",
      "1637/1637 [==============================] - 5s 3ms/step - loss: 0.9623 - acc: 0.4875\n",
      "Epoch 1/1\n",
      "1637/1637 [==============================] - 5s 3ms/step - loss: 0.9636 - acc: 0.4777\n",
      "Epoch 1/1\n"
     ]
    },
    {
     "ename": "KeyboardInterrupt",
     "evalue": "",
     "output_type": "error",
     "traceback": [
      "\u001b[0;31m---------------------------------------------------------------------------\u001b[0m",
      "\u001b[0;31mKeyboardInterrupt\u001b[0m                         Traceback (most recent call last)",
      "\u001b[0;32m<ipython-input-100-425bf7732b8a>\u001b[0m in \u001b[0;36m<module>\u001b[0;34m\u001b[0m\n\u001b[1;32m      1\u001b[0m \u001b[0mprint\u001b[0m\u001b[0;34m(\u001b[0m\u001b[0;34m[\u001b[0m\u001b[0mbs_1\u001b[0m\u001b[0;34m,\u001b[0m \u001b[0mbs_2\u001b[0m\u001b[0;34m,\u001b[0m \u001b[0mep_1\u001b[0m\u001b[0;34m,\u001b[0m \u001b[0mep_2\u001b[0m\u001b[0;34m]\u001b[0m\u001b[0;34m)\u001b[0m\u001b[0;34m\u001b[0m\u001b[0m\n\u001b[0;32m----> 2\u001b[0;31m \u001b[0mgrid_search\u001b[0m \u001b[0;34m=\u001b[0m \u001b[0mgrid_search\u001b[0m\u001b[0;34m.\u001b[0m\u001b[0mfit\u001b[0m\u001b[0;34m(\u001b[0m\u001b[0mX\u001b[0m\u001b[0;34m=\u001b[0m\u001b[0mX_train\u001b[0m\u001b[0;34m,\u001b[0m \u001b[0my\u001b[0m\u001b[0;34m=\u001b[0m\u001b[0my_train\u001b[0m\u001b[0;34m)\u001b[0m\u001b[0;34m\u001b[0m\u001b[0m\n\u001b[0m",
      "\u001b[0;32m~/anaconda3/lib/python3.6/site-packages/sklearn/model_selection/_search.py\u001b[0m in \u001b[0;36mfit\u001b[0;34m(self, X, y, groups, **fit_params)\u001b[0m\n\u001b[1;32m    720\u001b[0m                 \u001b[0;32mreturn\u001b[0m \u001b[0mresults_container\u001b[0m\u001b[0;34m[\u001b[0m\u001b[0;36m0\u001b[0m\u001b[0;34m]\u001b[0m\u001b[0;34m\u001b[0m\u001b[0m\n\u001b[1;32m    721\u001b[0m \u001b[0;34m\u001b[0m\u001b[0m\n\u001b[0;32m--> 722\u001b[0;31m             \u001b[0mself\u001b[0m\u001b[0;34m.\u001b[0m\u001b[0m_run_search\u001b[0m\u001b[0;34m(\u001b[0m\u001b[0mevaluate_candidates\u001b[0m\u001b[0;34m)\u001b[0m\u001b[0;34m\u001b[0m\u001b[0m\n\u001b[0m\u001b[1;32m    723\u001b[0m \u001b[0;34m\u001b[0m\u001b[0m\n\u001b[1;32m    724\u001b[0m         \u001b[0mresults\u001b[0m \u001b[0;34m=\u001b[0m \u001b[0mresults_container\u001b[0m\u001b[0;34m[\u001b[0m\u001b[0;36m0\u001b[0m\u001b[0;34m]\u001b[0m\u001b[0;34m\u001b[0m\u001b[0m\n",
      "\u001b[0;32m~/anaconda3/lib/python3.6/site-packages/sklearn/model_selection/_search.py\u001b[0m in \u001b[0;36m_run_search\u001b[0;34m(self, evaluate_candidates)\u001b[0m\n\u001b[1;32m   1189\u001b[0m     \u001b[0;32mdef\u001b[0m \u001b[0m_run_search\u001b[0m\u001b[0;34m(\u001b[0m\u001b[0mself\u001b[0m\u001b[0;34m,\u001b[0m \u001b[0mevaluate_candidates\u001b[0m\u001b[0;34m)\u001b[0m\u001b[0;34m:\u001b[0m\u001b[0;34m\u001b[0m\u001b[0m\n\u001b[1;32m   1190\u001b[0m         \u001b[0;34m\"\"\"Search all candidates in param_grid\"\"\"\u001b[0m\u001b[0;34m\u001b[0m\u001b[0m\n\u001b[0;32m-> 1191\u001b[0;31m         \u001b[0mevaluate_candidates\u001b[0m\u001b[0;34m(\u001b[0m\u001b[0mParameterGrid\u001b[0m\u001b[0;34m(\u001b[0m\u001b[0mself\u001b[0m\u001b[0;34m.\u001b[0m\u001b[0mparam_grid\u001b[0m\u001b[0;34m)\u001b[0m\u001b[0;34m)\u001b[0m\u001b[0;34m\u001b[0m\u001b[0m\n\u001b[0m\u001b[1;32m   1192\u001b[0m \u001b[0;34m\u001b[0m\u001b[0m\n\u001b[1;32m   1193\u001b[0m \u001b[0;34m\u001b[0m\u001b[0m\n",
      "\u001b[0;32m~/anaconda3/lib/python3.6/site-packages/sklearn/model_selection/_search.py\u001b[0m in \u001b[0;36mevaluate_candidates\u001b[0;34m(candidate_params)\u001b[0m\n\u001b[1;32m    709\u001b[0m                                \u001b[0;32mfor\u001b[0m \u001b[0mparameters\u001b[0m\u001b[0;34m,\u001b[0m \u001b[0;34m(\u001b[0m\u001b[0mtrain\u001b[0m\u001b[0;34m,\u001b[0m \u001b[0mtest\u001b[0m\u001b[0;34m)\u001b[0m\u001b[0;34m\u001b[0m\u001b[0m\n\u001b[1;32m    710\u001b[0m                                in product(candidate_params,\n\u001b[0;32m--> 711\u001b[0;31m                                           cv.split(X, y, groups)))\n\u001b[0m\u001b[1;32m    712\u001b[0m \u001b[0;34m\u001b[0m\u001b[0m\n\u001b[1;32m    713\u001b[0m                 \u001b[0mall_candidate_params\u001b[0m\u001b[0;34m.\u001b[0m\u001b[0mextend\u001b[0m\u001b[0;34m(\u001b[0m\u001b[0mcandidate_params\u001b[0m\u001b[0;34m)\u001b[0m\u001b[0;34m\u001b[0m\u001b[0m\n",
      "\u001b[0;32m~/anaconda3/lib/python3.6/site-packages/sklearn/externals/joblib/parallel.py\u001b[0m in \u001b[0;36m__call__\u001b[0;34m(self, iterable)\u001b[0m\n\u001b[1;32m    984\u001b[0m                 \u001b[0mself\u001b[0m\u001b[0;34m.\u001b[0m\u001b[0m_iterating\u001b[0m \u001b[0;34m=\u001b[0m \u001b[0mself\u001b[0m\u001b[0;34m.\u001b[0m\u001b[0m_original_iterator\u001b[0m \u001b[0;32mis\u001b[0m \u001b[0;32mnot\u001b[0m \u001b[0;32mNone\u001b[0m\u001b[0;34m\u001b[0m\u001b[0m\n\u001b[1;32m    985\u001b[0m \u001b[0;34m\u001b[0m\u001b[0m\n\u001b[0;32m--> 986\u001b[0;31m             \u001b[0;32mwhile\u001b[0m \u001b[0mself\u001b[0m\u001b[0;34m.\u001b[0m\u001b[0mdispatch_one_batch\u001b[0m\u001b[0;34m(\u001b[0m\u001b[0miterator\u001b[0m\u001b[0;34m)\u001b[0m\u001b[0;34m:\u001b[0m\u001b[0;34m\u001b[0m\u001b[0m\n\u001b[0m\u001b[1;32m    987\u001b[0m                 \u001b[0;32mpass\u001b[0m\u001b[0;34m\u001b[0m\u001b[0m\n\u001b[1;32m    988\u001b[0m \u001b[0;34m\u001b[0m\u001b[0m\n",
      "\u001b[0;32m~/anaconda3/lib/python3.6/site-packages/sklearn/externals/joblib/parallel.py\u001b[0m in \u001b[0;36mdispatch_one_batch\u001b[0;34m(self, iterator)\u001b[0m\n\u001b[1;32m    823\u001b[0m                 \u001b[0;32mreturn\u001b[0m \u001b[0;32mFalse\u001b[0m\u001b[0;34m\u001b[0m\u001b[0m\n\u001b[1;32m    824\u001b[0m             \u001b[0;32melse\u001b[0m\u001b[0;34m:\u001b[0m\u001b[0;34m\u001b[0m\u001b[0m\n\u001b[0;32m--> 825\u001b[0;31m                 \u001b[0mself\u001b[0m\u001b[0;34m.\u001b[0m\u001b[0m_dispatch\u001b[0m\u001b[0;34m(\u001b[0m\u001b[0mtasks\u001b[0m\u001b[0;34m)\u001b[0m\u001b[0;34m\u001b[0m\u001b[0m\n\u001b[0m\u001b[1;32m    826\u001b[0m                 \u001b[0;32mreturn\u001b[0m \u001b[0;32mTrue\u001b[0m\u001b[0;34m\u001b[0m\u001b[0m\n\u001b[1;32m    827\u001b[0m \u001b[0;34m\u001b[0m\u001b[0m\n",
      "\u001b[0;32m~/anaconda3/lib/python3.6/site-packages/sklearn/externals/joblib/parallel.py\u001b[0m in \u001b[0;36m_dispatch\u001b[0;34m(self, batch)\u001b[0m\n\u001b[1;32m    780\u001b[0m         \u001b[0;32mwith\u001b[0m \u001b[0mself\u001b[0m\u001b[0;34m.\u001b[0m\u001b[0m_lock\u001b[0m\u001b[0;34m:\u001b[0m\u001b[0;34m\u001b[0m\u001b[0m\n\u001b[1;32m    781\u001b[0m             \u001b[0mjob_idx\u001b[0m \u001b[0;34m=\u001b[0m \u001b[0mlen\u001b[0m\u001b[0;34m(\u001b[0m\u001b[0mself\u001b[0m\u001b[0;34m.\u001b[0m\u001b[0m_jobs\u001b[0m\u001b[0;34m)\u001b[0m\u001b[0;34m\u001b[0m\u001b[0m\n\u001b[0;32m--> 782\u001b[0;31m             \u001b[0mjob\u001b[0m \u001b[0;34m=\u001b[0m \u001b[0mself\u001b[0m\u001b[0;34m.\u001b[0m\u001b[0m_backend\u001b[0m\u001b[0;34m.\u001b[0m\u001b[0mapply_async\u001b[0m\u001b[0;34m(\u001b[0m\u001b[0mbatch\u001b[0m\u001b[0;34m,\u001b[0m \u001b[0mcallback\u001b[0m\u001b[0;34m=\u001b[0m\u001b[0mcb\u001b[0m\u001b[0;34m)\u001b[0m\u001b[0;34m\u001b[0m\u001b[0m\n\u001b[0m\u001b[1;32m    783\u001b[0m             \u001b[0;31m# A job can complete so quickly than its callback is\u001b[0m\u001b[0;34m\u001b[0m\u001b[0;34m\u001b[0m\u001b[0m\n\u001b[1;32m    784\u001b[0m             \u001b[0;31m# called before we get here, causing self._jobs to\u001b[0m\u001b[0;34m\u001b[0m\u001b[0;34m\u001b[0m\u001b[0m\n",
      "\u001b[0;32m~/anaconda3/lib/python3.6/site-packages/sklearn/externals/joblib/_parallel_backends.py\u001b[0m in \u001b[0;36mapply_async\u001b[0;34m(self, func, callback)\u001b[0m\n\u001b[1;32m    180\u001b[0m     \u001b[0;32mdef\u001b[0m \u001b[0mapply_async\u001b[0m\u001b[0;34m(\u001b[0m\u001b[0mself\u001b[0m\u001b[0;34m,\u001b[0m \u001b[0mfunc\u001b[0m\u001b[0;34m,\u001b[0m \u001b[0mcallback\u001b[0m\u001b[0;34m=\u001b[0m\u001b[0;32mNone\u001b[0m\u001b[0;34m)\u001b[0m\u001b[0;34m:\u001b[0m\u001b[0;34m\u001b[0m\u001b[0m\n\u001b[1;32m    181\u001b[0m         \u001b[0;34m\"\"\"Schedule a func to be run\"\"\"\u001b[0m\u001b[0;34m\u001b[0m\u001b[0m\n\u001b[0;32m--> 182\u001b[0;31m         \u001b[0mresult\u001b[0m \u001b[0;34m=\u001b[0m \u001b[0mImmediateResult\u001b[0m\u001b[0;34m(\u001b[0m\u001b[0mfunc\u001b[0m\u001b[0;34m)\u001b[0m\u001b[0;34m\u001b[0m\u001b[0m\n\u001b[0m\u001b[1;32m    183\u001b[0m         \u001b[0;32mif\u001b[0m \u001b[0mcallback\u001b[0m\u001b[0;34m:\u001b[0m\u001b[0;34m\u001b[0m\u001b[0m\n\u001b[1;32m    184\u001b[0m             \u001b[0mcallback\u001b[0m\u001b[0;34m(\u001b[0m\u001b[0mresult\u001b[0m\u001b[0;34m)\u001b[0m\u001b[0;34m\u001b[0m\u001b[0m\n",
      "\u001b[0;32m~/anaconda3/lib/python3.6/site-packages/sklearn/externals/joblib/_parallel_backends.py\u001b[0m in \u001b[0;36m__init__\u001b[0;34m(self, batch)\u001b[0m\n\u001b[1;32m    543\u001b[0m         \u001b[0;31m# Don't delay the application, to avoid keeping the input\u001b[0m\u001b[0;34m\u001b[0m\u001b[0;34m\u001b[0m\u001b[0m\n\u001b[1;32m    544\u001b[0m         \u001b[0;31m# arguments in memory\u001b[0m\u001b[0;34m\u001b[0m\u001b[0;34m\u001b[0m\u001b[0m\n\u001b[0;32m--> 545\u001b[0;31m         \u001b[0mself\u001b[0m\u001b[0;34m.\u001b[0m\u001b[0mresults\u001b[0m \u001b[0;34m=\u001b[0m \u001b[0mbatch\u001b[0m\u001b[0;34m(\u001b[0m\u001b[0;34m)\u001b[0m\u001b[0;34m\u001b[0m\u001b[0m\n\u001b[0m\u001b[1;32m    546\u001b[0m \u001b[0;34m\u001b[0m\u001b[0m\n\u001b[1;32m    547\u001b[0m     \u001b[0;32mdef\u001b[0m \u001b[0mget\u001b[0m\u001b[0;34m(\u001b[0m\u001b[0mself\u001b[0m\u001b[0;34m)\u001b[0m\u001b[0;34m:\u001b[0m\u001b[0;34m\u001b[0m\u001b[0m\n",
      "\u001b[0;32m~/anaconda3/lib/python3.6/site-packages/sklearn/externals/joblib/parallel.py\u001b[0m in \u001b[0;36m__call__\u001b[0;34m(self)\u001b[0m\n\u001b[1;32m    259\u001b[0m         \u001b[0;32mwith\u001b[0m \u001b[0mparallel_backend\u001b[0m\u001b[0;34m(\u001b[0m\u001b[0mself\u001b[0m\u001b[0;34m.\u001b[0m\u001b[0m_backend\u001b[0m\u001b[0;34m)\u001b[0m\u001b[0;34m:\u001b[0m\u001b[0;34m\u001b[0m\u001b[0m\n\u001b[1;32m    260\u001b[0m             return [func(*args, **kwargs)\n\u001b[0;32m--> 261\u001b[0;31m                     for func, args, kwargs in self.items]\n\u001b[0m\u001b[1;32m    262\u001b[0m \u001b[0;34m\u001b[0m\u001b[0m\n\u001b[1;32m    263\u001b[0m     \u001b[0;32mdef\u001b[0m \u001b[0m__len__\u001b[0m\u001b[0;34m(\u001b[0m\u001b[0mself\u001b[0m\u001b[0;34m)\u001b[0m\u001b[0;34m:\u001b[0m\u001b[0;34m\u001b[0m\u001b[0m\n",
      "\u001b[0;32m~/anaconda3/lib/python3.6/site-packages/sklearn/externals/joblib/parallel.py\u001b[0m in \u001b[0;36m<listcomp>\u001b[0;34m(.0)\u001b[0m\n\u001b[1;32m    259\u001b[0m         \u001b[0;32mwith\u001b[0m \u001b[0mparallel_backend\u001b[0m\u001b[0;34m(\u001b[0m\u001b[0mself\u001b[0m\u001b[0;34m.\u001b[0m\u001b[0m_backend\u001b[0m\u001b[0;34m)\u001b[0m\u001b[0;34m:\u001b[0m\u001b[0;34m\u001b[0m\u001b[0m\n\u001b[1;32m    260\u001b[0m             return [func(*args, **kwargs)\n\u001b[0;32m--> 261\u001b[0;31m                     for func, args, kwargs in self.items]\n\u001b[0m\u001b[1;32m    262\u001b[0m \u001b[0;34m\u001b[0m\u001b[0m\n\u001b[1;32m    263\u001b[0m     \u001b[0;32mdef\u001b[0m \u001b[0m__len__\u001b[0m\u001b[0;34m(\u001b[0m\u001b[0mself\u001b[0m\u001b[0;34m)\u001b[0m\u001b[0;34m:\u001b[0m\u001b[0;34m\u001b[0m\u001b[0m\n",
      "\u001b[0;32m~/anaconda3/lib/python3.6/site-packages/sklearn/model_selection/_validation.py\u001b[0m in \u001b[0;36m_fit_and_score\u001b[0;34m(estimator, X, y, scorer, train, test, verbose, parameters, fit_params, return_train_score, return_parameters, return_n_test_samples, return_times, return_estimator, error_score)\u001b[0m\n\u001b[1;32m    526\u001b[0m             \u001b[0mestimator\u001b[0m\u001b[0;34m.\u001b[0m\u001b[0mfit\u001b[0m\u001b[0;34m(\u001b[0m\u001b[0mX_train\u001b[0m\u001b[0;34m,\u001b[0m \u001b[0;34m**\u001b[0m\u001b[0mfit_params\u001b[0m\u001b[0;34m)\u001b[0m\u001b[0;34m\u001b[0m\u001b[0m\n\u001b[1;32m    527\u001b[0m         \u001b[0;32melse\u001b[0m\u001b[0;34m:\u001b[0m\u001b[0;34m\u001b[0m\u001b[0m\n\u001b[0;32m--> 528\u001b[0;31m             \u001b[0mestimator\u001b[0m\u001b[0;34m.\u001b[0m\u001b[0mfit\u001b[0m\u001b[0;34m(\u001b[0m\u001b[0mX_train\u001b[0m\u001b[0;34m,\u001b[0m \u001b[0my_train\u001b[0m\u001b[0;34m,\u001b[0m \u001b[0;34m**\u001b[0m\u001b[0mfit_params\u001b[0m\u001b[0;34m)\u001b[0m\u001b[0;34m\u001b[0m\u001b[0m\n\u001b[0m\u001b[1;32m    529\u001b[0m \u001b[0;34m\u001b[0m\u001b[0m\n\u001b[1;32m    530\u001b[0m     \u001b[0;32mexcept\u001b[0m \u001b[0mException\u001b[0m \u001b[0;32mas\u001b[0m \u001b[0me\u001b[0m\u001b[0;34m:\u001b[0m\u001b[0;34m\u001b[0m\u001b[0m\n",
      "\u001b[0;32m~/anaconda3/lib/python3.6/site-packages/keras/wrappers/scikit_learn.py\u001b[0m in \u001b[0;36mfit\u001b[0;34m(self, x, y, sample_weight, **kwargs)\u001b[0m\n\u001b[1;32m    208\u001b[0m         \u001b[0;32mif\u001b[0m \u001b[0msample_weight\u001b[0m \u001b[0;32mis\u001b[0m \u001b[0;32mnot\u001b[0m \u001b[0;32mNone\u001b[0m\u001b[0;34m:\u001b[0m\u001b[0;34m\u001b[0m\u001b[0m\n\u001b[1;32m    209\u001b[0m             \u001b[0mkwargs\u001b[0m\u001b[0;34m[\u001b[0m\u001b[0;34m'sample_weight'\u001b[0m\u001b[0;34m]\u001b[0m \u001b[0;34m=\u001b[0m \u001b[0msample_weight\u001b[0m\u001b[0;34m\u001b[0m\u001b[0m\n\u001b[0;32m--> 210\u001b[0;31m         \u001b[0;32mreturn\u001b[0m \u001b[0msuper\u001b[0m\u001b[0;34m(\u001b[0m\u001b[0mKerasClassifier\u001b[0m\u001b[0;34m,\u001b[0m \u001b[0mself\u001b[0m\u001b[0;34m)\u001b[0m\u001b[0;34m.\u001b[0m\u001b[0mfit\u001b[0m\u001b[0;34m(\u001b[0m\u001b[0mx\u001b[0m\u001b[0;34m,\u001b[0m \u001b[0my\u001b[0m\u001b[0;34m,\u001b[0m \u001b[0;34m**\u001b[0m\u001b[0mkwargs\u001b[0m\u001b[0;34m)\u001b[0m\u001b[0;34m\u001b[0m\u001b[0m\n\u001b[0m\u001b[1;32m    211\u001b[0m \u001b[0;34m\u001b[0m\u001b[0m\n\u001b[1;32m    212\u001b[0m     \u001b[0;32mdef\u001b[0m \u001b[0mpredict\u001b[0m\u001b[0;34m(\u001b[0m\u001b[0mself\u001b[0m\u001b[0;34m,\u001b[0m \u001b[0mx\u001b[0m\u001b[0;34m,\u001b[0m \u001b[0;34m**\u001b[0m\u001b[0mkwargs\u001b[0m\u001b[0;34m)\u001b[0m\u001b[0;34m:\u001b[0m\u001b[0;34m\u001b[0m\u001b[0m\n",
      "\u001b[0;32m~/anaconda3/lib/python3.6/site-packages/keras/wrappers/scikit_learn.py\u001b[0m in \u001b[0;36mfit\u001b[0;34m(self, x, y, **kwargs)\u001b[0m\n\u001b[1;32m    150\u001b[0m         \u001b[0mfit_args\u001b[0m\u001b[0;34m.\u001b[0m\u001b[0mupdate\u001b[0m\u001b[0;34m(\u001b[0m\u001b[0mkwargs\u001b[0m\u001b[0;34m)\u001b[0m\u001b[0;34m\u001b[0m\u001b[0m\n\u001b[1;32m    151\u001b[0m \u001b[0;34m\u001b[0m\u001b[0m\n\u001b[0;32m--> 152\u001b[0;31m         \u001b[0mhistory\u001b[0m \u001b[0;34m=\u001b[0m \u001b[0mself\u001b[0m\u001b[0;34m.\u001b[0m\u001b[0mmodel\u001b[0m\u001b[0;34m.\u001b[0m\u001b[0mfit\u001b[0m\u001b[0;34m(\u001b[0m\u001b[0mx\u001b[0m\u001b[0;34m,\u001b[0m \u001b[0my\u001b[0m\u001b[0;34m,\u001b[0m \u001b[0;34m**\u001b[0m\u001b[0mfit_args\u001b[0m\u001b[0;34m)\u001b[0m\u001b[0;34m\u001b[0m\u001b[0m\n\u001b[0m\u001b[1;32m    153\u001b[0m \u001b[0;34m\u001b[0m\u001b[0m\n\u001b[1;32m    154\u001b[0m         \u001b[0;32mreturn\u001b[0m \u001b[0mhistory\u001b[0m\u001b[0;34m\u001b[0m\u001b[0m\n",
      "\u001b[0;32m~/anaconda3/lib/python3.6/site-packages/keras/engine/training.py\u001b[0m in \u001b[0;36mfit\u001b[0;34m(self, x, y, batch_size, epochs, verbose, callbacks, validation_split, validation_data, shuffle, class_weight, sample_weight, initial_epoch, steps_per_epoch, validation_steps, **kwargs)\u001b[0m\n\u001b[1;32m   1037\u001b[0m                                         \u001b[0minitial_epoch\u001b[0m\u001b[0;34m=\u001b[0m\u001b[0minitial_epoch\u001b[0m\u001b[0;34m,\u001b[0m\u001b[0;34m\u001b[0m\u001b[0m\n\u001b[1;32m   1038\u001b[0m                                         \u001b[0msteps_per_epoch\u001b[0m\u001b[0;34m=\u001b[0m\u001b[0msteps_per_epoch\u001b[0m\u001b[0;34m,\u001b[0m\u001b[0;34m\u001b[0m\u001b[0m\n\u001b[0;32m-> 1039\u001b[0;31m                                         validation_steps=validation_steps)\n\u001b[0m\u001b[1;32m   1040\u001b[0m \u001b[0;34m\u001b[0m\u001b[0m\n\u001b[1;32m   1041\u001b[0m     def evaluate(self, x=None, y=None,\n",
      "\u001b[0;32m~/anaconda3/lib/python3.6/site-packages/keras/engine/training_arrays.py\u001b[0m in \u001b[0;36mfit_loop\u001b[0;34m(model, f, ins, out_labels, batch_size, epochs, verbose, callbacks, val_f, val_ins, shuffle, callback_metrics, initial_epoch, steps_per_epoch, validation_steps)\u001b[0m\n\u001b[1;32m    197\u001b[0m                     \u001b[0mins_batch\u001b[0m\u001b[0;34m[\u001b[0m\u001b[0mi\u001b[0m\u001b[0;34m]\u001b[0m \u001b[0;34m=\u001b[0m \u001b[0mins_batch\u001b[0m\u001b[0;34m[\u001b[0m\u001b[0mi\u001b[0m\u001b[0;34m]\u001b[0m\u001b[0;34m.\u001b[0m\u001b[0mtoarray\u001b[0m\u001b[0;34m(\u001b[0m\u001b[0;34m)\u001b[0m\u001b[0;34m\u001b[0m\u001b[0m\n\u001b[1;32m    198\u001b[0m \u001b[0;34m\u001b[0m\u001b[0m\n\u001b[0;32m--> 199\u001b[0;31m                 \u001b[0mouts\u001b[0m \u001b[0;34m=\u001b[0m \u001b[0mf\u001b[0m\u001b[0;34m(\u001b[0m\u001b[0mins_batch\u001b[0m\u001b[0;34m)\u001b[0m\u001b[0;34m\u001b[0m\u001b[0m\n\u001b[0m\u001b[1;32m    200\u001b[0m                 \u001b[0mouts\u001b[0m \u001b[0;34m=\u001b[0m \u001b[0mto_list\u001b[0m\u001b[0;34m(\u001b[0m\u001b[0mouts\u001b[0m\u001b[0;34m)\u001b[0m\u001b[0;34m\u001b[0m\u001b[0m\n\u001b[1;32m    201\u001b[0m                 \u001b[0;32mfor\u001b[0m \u001b[0ml\u001b[0m\u001b[0;34m,\u001b[0m \u001b[0mo\u001b[0m \u001b[0;32min\u001b[0m \u001b[0mzip\u001b[0m\u001b[0;34m(\u001b[0m\u001b[0mout_labels\u001b[0m\u001b[0;34m,\u001b[0m \u001b[0mouts\u001b[0m\u001b[0;34m)\u001b[0m\u001b[0;34m:\u001b[0m\u001b[0;34m\u001b[0m\u001b[0m\n",
      "\u001b[0;32m~/anaconda3/lib/python3.6/site-packages/keras/backend/tensorflow_backend.py\u001b[0m in \u001b[0;36m__call__\u001b[0;34m(self, inputs)\u001b[0m\n\u001b[1;32m   2713\u001b[0m                 \u001b[0;32mreturn\u001b[0m \u001b[0mself\u001b[0m\u001b[0;34m.\u001b[0m\u001b[0m_legacy_call\u001b[0m\u001b[0;34m(\u001b[0m\u001b[0minputs\u001b[0m\u001b[0;34m)\u001b[0m\u001b[0;34m\u001b[0m\u001b[0m\n\u001b[1;32m   2714\u001b[0m \u001b[0;34m\u001b[0m\u001b[0m\n\u001b[0;32m-> 2715\u001b[0;31m             \u001b[0;32mreturn\u001b[0m \u001b[0mself\u001b[0m\u001b[0;34m.\u001b[0m\u001b[0m_call\u001b[0m\u001b[0;34m(\u001b[0m\u001b[0minputs\u001b[0m\u001b[0;34m)\u001b[0m\u001b[0;34m\u001b[0m\u001b[0m\n\u001b[0m\u001b[1;32m   2716\u001b[0m         \u001b[0;32melse\u001b[0m\u001b[0;34m:\u001b[0m\u001b[0;34m\u001b[0m\u001b[0m\n\u001b[1;32m   2717\u001b[0m             \u001b[0;32mif\u001b[0m \u001b[0mpy_any\u001b[0m\u001b[0;34m(\u001b[0m\u001b[0mis_tensor\u001b[0m\u001b[0;34m(\u001b[0m\u001b[0mx\u001b[0m\u001b[0;34m)\u001b[0m \u001b[0;32mfor\u001b[0m \u001b[0mx\u001b[0m \u001b[0;32min\u001b[0m \u001b[0minputs\u001b[0m\u001b[0;34m)\u001b[0m\u001b[0;34m:\u001b[0m\u001b[0;34m\u001b[0m\u001b[0m\n",
      "\u001b[0;32m~/anaconda3/lib/python3.6/site-packages/keras/backend/tensorflow_backend.py\u001b[0m in \u001b[0;36m_call\u001b[0;34m(self, inputs)\u001b[0m\n\u001b[1;32m   2669\u001b[0m                                 \u001b[0mfeed_symbols\u001b[0m\u001b[0;34m,\u001b[0m\u001b[0;34m\u001b[0m\u001b[0m\n\u001b[1;32m   2670\u001b[0m                                 \u001b[0msymbol_vals\u001b[0m\u001b[0;34m,\u001b[0m\u001b[0;34m\u001b[0m\u001b[0m\n\u001b[0;32m-> 2671\u001b[0;31m                                 session)\n\u001b[0m\u001b[1;32m   2672\u001b[0m         \u001b[0;32mif\u001b[0m \u001b[0mself\u001b[0m\u001b[0;34m.\u001b[0m\u001b[0mrun_metadata\u001b[0m\u001b[0;34m:\u001b[0m\u001b[0;34m\u001b[0m\u001b[0m\n\u001b[1;32m   2673\u001b[0m             \u001b[0mfetched\u001b[0m \u001b[0;34m=\u001b[0m \u001b[0mself\u001b[0m\u001b[0;34m.\u001b[0m\u001b[0m_callable_fn\u001b[0m\u001b[0;34m(\u001b[0m\u001b[0;34m*\u001b[0m\u001b[0marray_vals\u001b[0m\u001b[0;34m,\u001b[0m \u001b[0mrun_metadata\u001b[0m\u001b[0;34m=\u001b[0m\u001b[0mself\u001b[0m\u001b[0;34m.\u001b[0m\u001b[0mrun_metadata\u001b[0m\u001b[0;34m)\u001b[0m\u001b[0;34m\u001b[0m\u001b[0m\n",
      "\u001b[0;32m~/anaconda3/lib/python3.6/site-packages/keras/backend/tensorflow_backend.py\u001b[0m in \u001b[0;36m_make_callable\u001b[0;34m(self, feed_arrays, feed_symbols, symbol_vals, session)\u001b[0m\n\u001b[1;32m   2621\u001b[0m             \u001b[0mcallable_opts\u001b[0m\u001b[0;34m.\u001b[0m\u001b[0mrun_options\u001b[0m\u001b[0;34m.\u001b[0m\u001b[0mCopyFrom\u001b[0m\u001b[0;34m(\u001b[0m\u001b[0mself\u001b[0m\u001b[0;34m.\u001b[0m\u001b[0mrun_options\u001b[0m\u001b[0;34m)\u001b[0m\u001b[0;34m\u001b[0m\u001b[0m\n\u001b[1;32m   2622\u001b[0m         \u001b[0;31m# Create callable.\u001b[0m\u001b[0;34m\u001b[0m\u001b[0;34m\u001b[0m\u001b[0m\n\u001b[0;32m-> 2623\u001b[0;31m         \u001b[0mcallable_fn\u001b[0m \u001b[0;34m=\u001b[0m \u001b[0msession\u001b[0m\u001b[0;34m.\u001b[0m\u001b[0m_make_callable_from_options\u001b[0m\u001b[0;34m(\u001b[0m\u001b[0mcallable_opts\u001b[0m\u001b[0;34m)\u001b[0m\u001b[0;34m\u001b[0m\u001b[0m\n\u001b[0m\u001b[1;32m   2624\u001b[0m         \u001b[0;31m# Cache parameters corresponding to the generated callable, so that\u001b[0m\u001b[0;34m\u001b[0m\u001b[0;34m\u001b[0m\u001b[0m\n\u001b[1;32m   2625\u001b[0m         \u001b[0;31m# we can detect future mismatches and refresh the callable.\u001b[0m\u001b[0;34m\u001b[0m\u001b[0;34m\u001b[0m\u001b[0m\n",
      "\u001b[0;32m~/anaconda3/lib/python3.6/site-packages/tensorflow/python/client/session.py\u001b[0m in \u001b[0;36m_make_callable_from_options\u001b[0;34m(self, callable_options)\u001b[0m\n\u001b[1;32m   1469\u001b[0m     \"\"\"\n\u001b[1;32m   1470\u001b[0m     \u001b[0mself\u001b[0m\u001b[0;34m.\u001b[0m\u001b[0m_extend_graph\u001b[0m\u001b[0;34m(\u001b[0m\u001b[0;34m)\u001b[0m\u001b[0;34m\u001b[0m\u001b[0m\n\u001b[0;32m-> 1471\u001b[0;31m     \u001b[0;32mreturn\u001b[0m \u001b[0mBaseSession\u001b[0m\u001b[0;34m.\u001b[0m\u001b[0m_Callable\u001b[0m\u001b[0;34m(\u001b[0m\u001b[0mself\u001b[0m\u001b[0;34m,\u001b[0m \u001b[0mcallable_options\u001b[0m\u001b[0;34m)\u001b[0m\u001b[0;34m\u001b[0m\u001b[0m\n\u001b[0m\u001b[1;32m   1472\u001b[0m \u001b[0;34m\u001b[0m\u001b[0m\n\u001b[1;32m   1473\u001b[0m \u001b[0;34m\u001b[0m\u001b[0m\n",
      "\u001b[0;32m~/anaconda3/lib/python3.6/site-packages/tensorflow/python/client/session.py\u001b[0m in \u001b[0;36m__init__\u001b[0;34m(self, session, callable_options)\u001b[0m\n\u001b[1;32m   1423\u001b[0m         \u001b[0;32mwith\u001b[0m \u001b[0merrors\u001b[0m\u001b[0;34m.\u001b[0m\u001b[0mraise_exception_on_not_ok_status\u001b[0m\u001b[0;34m(\u001b[0m\u001b[0;34m)\u001b[0m \u001b[0;32mas\u001b[0m \u001b[0mstatus\u001b[0m\u001b[0;34m:\u001b[0m\u001b[0;34m\u001b[0m\u001b[0m\n\u001b[1;32m   1424\u001b[0m           self._handle = tf_session.TF_SessionMakeCallable(\n\u001b[0;32m-> 1425\u001b[0;31m               session._session, options_ptr, status)\n\u001b[0m\u001b[1;32m   1426\u001b[0m       \u001b[0;32mfinally\u001b[0m\u001b[0;34m:\u001b[0m\u001b[0;34m\u001b[0m\u001b[0m\n\u001b[1;32m   1427\u001b[0m         \u001b[0mtf_session\u001b[0m\u001b[0;34m.\u001b[0m\u001b[0mTF_DeleteBuffer\u001b[0m\u001b[0;34m(\u001b[0m\u001b[0moptions_ptr\u001b[0m\u001b[0;34m)\u001b[0m\u001b[0;34m\u001b[0m\u001b[0m\n",
      "\u001b[0;31mKeyboardInterrupt\u001b[0m: "
     ]
    }
   ],
   "source": [
    "print([bs_1, bs_2, ep_1, ep_2])\n",
    "grid_search = grid_search.fit(X=X_train, y=y_train)"
   ]
  },
  {
   "cell_type": "code",
   "execution_count": 23,
   "metadata": {
    "ExecuteTime": {
     "end_time": "2018-11-06T04:33:57.373021Z",
     "start_time": "2018-11-06T04:33:57.337778Z"
    }
   },
   "outputs": [
    {
     "data": {
      "text/plain": [
       "{'batch_size': 11,\n",
       " 'metrics': 'accuracy',\n",
       " 'nb_epoch': 136,\n",
       " 'optimizer': 'Nadam'}"
      ]
     },
     "execution_count": 23,
     "metadata": {},
     "output_type": "execute_result"
    }
   ],
   "source": [
    "best_params = grid_search.best_params_\n",
    "best_params"
   ]
  },
  {
   "cell_type": "code",
   "execution_count": 24,
   "metadata": {
    "ExecuteTime": {
     "end_time": "2018-11-06T04:34:01.439522Z",
     "start_time": "2018-11-06T04:34:01.403470Z"
    }
   },
   "outputs": [
    {
     "data": {
      "text/plain": [
       "0.5"
      ]
     },
     "execution_count": 24,
     "metadata": {},
     "output_type": "execute_result"
    }
   ],
   "source": [
    "best_accu = grid_search.best_score_\n",
    "best_accu"
   ]
  },
  {
   "cell_type": "code",
   "execution_count": 25,
   "metadata": {
    "ExecuteTime": {
     "end_time": "2018-11-06T04:34:04.347062Z",
     "start_time": "2018-11-06T04:34:04.311720Z"
    }
   },
   "outputs": [
    {
     "name": "stderr",
     "output_type": "stream",
     "text": [
      "/home/guess/anaconda3/lib/python3.6/site-packages/sklearn/utils/deprecation.py:125: FutureWarning: You are accessing a training score ('split0_train_score'), which will not be available by default any more in 0.21. If you need training scores, please set return_train_score=True\n",
      "  warnings.warn(*warn_args, **warn_kwargs)\n",
      "/home/guess/anaconda3/lib/python3.6/site-packages/sklearn/utils/deprecation.py:125: FutureWarning: You are accessing a training score ('split1_train_score'), which will not be available by default any more in 0.21. If you need training scores, please set return_train_score=True\n",
      "  warnings.warn(*warn_args, **warn_kwargs)\n",
      "/home/guess/anaconda3/lib/python3.6/site-packages/sklearn/utils/deprecation.py:125: FutureWarning: You are accessing a training score ('split2_train_score'), which will not be available by default any more in 0.21. If you need training scores, please set return_train_score=True\n",
      "  warnings.warn(*warn_args, **warn_kwargs)\n",
      "/home/guess/anaconda3/lib/python3.6/site-packages/sklearn/utils/deprecation.py:125: FutureWarning: You are accessing a training score ('split3_train_score'), which will not be available by default any more in 0.21. If you need training scores, please set return_train_score=True\n",
      "  warnings.warn(*warn_args, **warn_kwargs)\n",
      "/home/guess/anaconda3/lib/python3.6/site-packages/sklearn/utils/deprecation.py:125: FutureWarning: You are accessing a training score ('split4_train_score'), which will not be available by default any more in 0.21. If you need training scores, please set return_train_score=True\n",
      "  warnings.warn(*warn_args, **warn_kwargs)\n",
      "/home/guess/anaconda3/lib/python3.6/site-packages/sklearn/utils/deprecation.py:125: FutureWarning: You are accessing a training score ('mean_train_score'), which will not be available by default any more in 0.21. If you need training scores, please set return_train_score=True\n",
      "  warnings.warn(*warn_args, **warn_kwargs)\n",
      "/home/guess/anaconda3/lib/python3.6/site-packages/sklearn/utils/deprecation.py:125: FutureWarning: You are accessing a training score ('std_train_score'), which will not be available by default any more in 0.21. If you need training scores, please set return_train_score=True\n",
      "  warnings.warn(*warn_args, **warn_kwargs)\n"
     ]
    },
    {
     "data": {
      "text/plain": [
       "{'mean_fit_time': array([1.95626278, 1.86280422, 2.04237003, 2.65089693, 2.50077305,\n",
       "        2.76881981, 3.51045456, 3.13306255, 3.35499706, 3.9417161 ,\n",
       "        3.77045817, 4.10874844, 4.59338212, 4.4006001 , 4.83682075,\n",
       "        5.30044928, 5.13736792, 5.32125216, 5.8378161 , 5.51505432,\n",
       "        5.84917669, 6.35840449, 6.23469224, 6.40556731, 6.94099956,\n",
       "        6.91315556, 7.0387198 , 7.59981046, 7.75728326, 7.8697196 ,\n",
       "        8.61835566, 7.92901921, 8.53506799, 8.75249362, 8.59890614,\n",
       "        9.75399041]),\n",
       " 'std_fit_time': array([0.0407468 , 0.09310205, 0.08139113, 0.10323613, 0.23038569,\n",
       "        0.17639263, 0.24815985, 0.17819387, 0.1059951 , 0.24145006,\n",
       "        0.22014575, 0.25223405, 0.11204237, 0.04961857, 0.29187926,\n",
       "        0.23819855, 0.19555931, 0.19253297, 0.33804709, 0.38337115,\n",
       "        0.19191702, 0.23797548, 0.53996041, 0.11535254, 0.06349024,\n",
       "        0.18512041, 0.06298417, 0.13247473, 0.55428582, 0.16007322,\n",
       "        0.20718979, 0.05266484, 0.21150767, 0.09837604, 0.06242295,\n",
       "        1.23459963]),\n",
       " 'mean_score_time': array([0.14034429, 0.21928048, 0.28989758, 0.41157713, 0.48762689,\n",
       "        0.56446886, 0.69089093, 0.7859046 , 0.86927099, 0.91339655,\n",
       "        1.01017818, 1.09075451, 1.21983662, 1.30320959, 1.36625953,\n",
       "        1.53530593, 1.68115625, 1.6832046 , 1.77523394, 1.91536083,\n",
       "        2.01469359, 2.0816967 , 2.12707052, 2.32283196, 2.35662527,\n",
       "        2.51418171, 2.53429618, 2.68140678, 2.72394891, 2.88245487,\n",
       "        3.04414511, 3.01316881, 3.13038344, 3.21892977, 3.31979175,\n",
       "        3.44596705]),\n",
       " 'std_score_time': array([0.02246667, 0.02462816, 0.02509734, 0.04500839, 0.02478962,\n",
       "        0.04851995, 0.03559127, 0.04257686, 0.05070128, 0.03958537,\n",
       "        0.0337322 , 0.03389661, 0.04349104, 0.03880981, 0.03553286,\n",
       "        0.04886732, 0.04886223, 0.06798815, 0.10150364, 0.07423091,\n",
       "        0.07203778, 0.03011136, 0.07098756, 0.13058823, 0.04659464,\n",
       "        0.07973385, 0.02973725, 0.08299836, 0.06527725, 0.07668016,\n",
       "        0.04519694, 0.02723377, 0.1141101 , 0.05214226, 0.03499113,\n",
       "        0.07443358]),\n",
       " 'param_batch_size': masked_array(data=[11, 11, 11, 11, 11, 11, 11, 11, 11, 11, 11, 11, 11, 11,\n",
       "                    11, 11, 11, 11, 25, 25, 25, 25, 25, 25, 25, 25, 25, 25,\n",
       "                    25, 25, 25, 25, 25, 25, 25, 25],\n",
       "              mask=[False, False, False, False, False, False, False, False,\n",
       "                    False, False, False, False, False, False, False, False,\n",
       "                    False, False, False, False, False, False, False, False,\n",
       "                    False, False, False, False, False, False, False, False,\n",
       "                    False, False, False, False],\n",
       "        fill_value='?',\n",
       "             dtype=object),\n",
       " 'param_metrics': masked_array(data=['accuracy', 'accuracy', 'accuracy', 'accuracy',\n",
       "                    'accuracy', 'accuracy', 'hinge', 'hinge', 'hinge',\n",
       "                    'hinge', 'hinge', 'hinge', 'mape', 'mape', 'mape',\n",
       "                    'mape', 'mape', 'mape', 'accuracy', 'accuracy',\n",
       "                    'accuracy', 'accuracy', 'accuracy', 'accuracy',\n",
       "                    'hinge', 'hinge', 'hinge', 'hinge', 'hinge', 'hinge',\n",
       "                    'mape', 'mape', 'mape', 'mape', 'mape', 'mape'],\n",
       "              mask=[False, False, False, False, False, False, False, False,\n",
       "                    False, False, False, False, False, False, False, False,\n",
       "                    False, False, False, False, False, False, False, False,\n",
       "                    False, False, False, False, False, False, False, False,\n",
       "                    False, False, False, False],\n",
       "        fill_value='?',\n",
       "             dtype=object),\n",
       " 'param_nb_epoch': masked_array(data=[136, 136, 136, 291, 291, 291, 136, 136, 136, 291, 291,\n",
       "                    291, 136, 136, 136, 291, 291, 291, 136, 136, 136, 291,\n",
       "                    291, 291, 136, 136, 136, 291, 291, 291, 136, 136, 136,\n",
       "                    291, 291, 291],\n",
       "              mask=[False, False, False, False, False, False, False, False,\n",
       "                    False, False, False, False, False, False, False, False,\n",
       "                    False, False, False, False, False, False, False, False,\n",
       "                    False, False, False, False, False, False, False, False,\n",
       "                    False, False, False, False],\n",
       "        fill_value='?',\n",
       "             dtype=object),\n",
       " 'param_optimizer': masked_array(data=['Nadam', 'SGD', 'RMSprop', 'Nadam', 'SGD', 'RMSprop',\n",
       "                    'Nadam', 'SGD', 'RMSprop', 'Nadam', 'SGD', 'RMSprop',\n",
       "                    'Nadam', 'SGD', 'RMSprop', 'Nadam', 'SGD', 'RMSprop',\n",
       "                    'Nadam', 'SGD', 'RMSprop', 'Nadam', 'SGD', 'RMSprop',\n",
       "                    'Nadam', 'SGD', 'RMSprop', 'Nadam', 'SGD', 'RMSprop',\n",
       "                    'Nadam', 'SGD', 'RMSprop', 'Nadam', 'SGD', 'RMSprop'],\n",
       "              mask=[False, False, False, False, False, False, False, False,\n",
       "                    False, False, False, False, False, False, False, False,\n",
       "                    False, False, False, False, False, False, False, False,\n",
       "                    False, False, False, False, False, False, False, False,\n",
       "                    False, False, False, False],\n",
       "        fill_value='?',\n",
       "             dtype=object),\n",
       " 'params': [{'batch_size': 11,\n",
       "   'metrics': 'accuracy',\n",
       "   'nb_epoch': 136,\n",
       "   'optimizer': 'Nadam'},\n",
       "  {'batch_size': 11,\n",
       "   'metrics': 'accuracy',\n",
       "   'nb_epoch': 136,\n",
       "   'optimizer': 'SGD'},\n",
       "  {'batch_size': 11,\n",
       "   'metrics': 'accuracy',\n",
       "   'nb_epoch': 136,\n",
       "   'optimizer': 'RMSprop'},\n",
       "  {'batch_size': 11,\n",
       "   'metrics': 'accuracy',\n",
       "   'nb_epoch': 291,\n",
       "   'optimizer': 'Nadam'},\n",
       "  {'batch_size': 11,\n",
       "   'metrics': 'accuracy',\n",
       "   'nb_epoch': 291,\n",
       "   'optimizer': 'SGD'},\n",
       "  {'batch_size': 11,\n",
       "   'metrics': 'accuracy',\n",
       "   'nb_epoch': 291,\n",
       "   'optimizer': 'RMSprop'},\n",
       "  {'batch_size': 11,\n",
       "   'metrics': 'hinge',\n",
       "   'nb_epoch': 136,\n",
       "   'optimizer': 'Nadam'},\n",
       "  {'batch_size': 11, 'metrics': 'hinge', 'nb_epoch': 136, 'optimizer': 'SGD'},\n",
       "  {'batch_size': 11,\n",
       "   'metrics': 'hinge',\n",
       "   'nb_epoch': 136,\n",
       "   'optimizer': 'RMSprop'},\n",
       "  {'batch_size': 11,\n",
       "   'metrics': 'hinge',\n",
       "   'nb_epoch': 291,\n",
       "   'optimizer': 'Nadam'},\n",
       "  {'batch_size': 11, 'metrics': 'hinge', 'nb_epoch': 291, 'optimizer': 'SGD'},\n",
       "  {'batch_size': 11,\n",
       "   'metrics': 'hinge',\n",
       "   'nb_epoch': 291,\n",
       "   'optimizer': 'RMSprop'},\n",
       "  {'batch_size': 11, 'metrics': 'mape', 'nb_epoch': 136, 'optimizer': 'Nadam'},\n",
       "  {'batch_size': 11, 'metrics': 'mape', 'nb_epoch': 136, 'optimizer': 'SGD'},\n",
       "  {'batch_size': 11,\n",
       "   'metrics': 'mape',\n",
       "   'nb_epoch': 136,\n",
       "   'optimizer': 'RMSprop'},\n",
       "  {'batch_size': 11, 'metrics': 'mape', 'nb_epoch': 291, 'optimizer': 'Nadam'},\n",
       "  {'batch_size': 11, 'metrics': 'mape', 'nb_epoch': 291, 'optimizer': 'SGD'},\n",
       "  {'batch_size': 11,\n",
       "   'metrics': 'mape',\n",
       "   'nb_epoch': 291,\n",
       "   'optimizer': 'RMSprop'},\n",
       "  {'batch_size': 25,\n",
       "   'metrics': 'accuracy',\n",
       "   'nb_epoch': 136,\n",
       "   'optimizer': 'Nadam'},\n",
       "  {'batch_size': 25,\n",
       "   'metrics': 'accuracy',\n",
       "   'nb_epoch': 136,\n",
       "   'optimizer': 'SGD'},\n",
       "  {'batch_size': 25,\n",
       "   'metrics': 'accuracy',\n",
       "   'nb_epoch': 136,\n",
       "   'optimizer': 'RMSprop'},\n",
       "  {'batch_size': 25,\n",
       "   'metrics': 'accuracy',\n",
       "   'nb_epoch': 291,\n",
       "   'optimizer': 'Nadam'},\n",
       "  {'batch_size': 25,\n",
       "   'metrics': 'accuracy',\n",
       "   'nb_epoch': 291,\n",
       "   'optimizer': 'SGD'},\n",
       "  {'batch_size': 25,\n",
       "   'metrics': 'accuracy',\n",
       "   'nb_epoch': 291,\n",
       "   'optimizer': 'RMSprop'},\n",
       "  {'batch_size': 25,\n",
       "   'metrics': 'hinge',\n",
       "   'nb_epoch': 136,\n",
       "   'optimizer': 'Nadam'},\n",
       "  {'batch_size': 25, 'metrics': 'hinge', 'nb_epoch': 136, 'optimizer': 'SGD'},\n",
       "  {'batch_size': 25,\n",
       "   'metrics': 'hinge',\n",
       "   'nb_epoch': 136,\n",
       "   'optimizer': 'RMSprop'},\n",
       "  {'batch_size': 25,\n",
       "   'metrics': 'hinge',\n",
       "   'nb_epoch': 291,\n",
       "   'optimizer': 'Nadam'},\n",
       "  {'batch_size': 25, 'metrics': 'hinge', 'nb_epoch': 291, 'optimizer': 'SGD'},\n",
       "  {'batch_size': 25,\n",
       "   'metrics': 'hinge',\n",
       "   'nb_epoch': 291,\n",
       "   'optimizer': 'RMSprop'},\n",
       "  {'batch_size': 25, 'metrics': 'mape', 'nb_epoch': 136, 'optimizer': 'Nadam'},\n",
       "  {'batch_size': 25, 'metrics': 'mape', 'nb_epoch': 136, 'optimizer': 'SGD'},\n",
       "  {'batch_size': 25,\n",
       "   'metrics': 'mape',\n",
       "   'nb_epoch': 136,\n",
       "   'optimizer': 'RMSprop'},\n",
       "  {'batch_size': 25, 'metrics': 'mape', 'nb_epoch': 291, 'optimizer': 'Nadam'},\n",
       "  {'batch_size': 25, 'metrics': 'mape', 'nb_epoch': 291, 'optimizer': 'SGD'},\n",
       "  {'batch_size': 25,\n",
       "   'metrics': 'mape',\n",
       "   'nb_epoch': 291,\n",
       "   'optimizer': 'RMSprop'}],\n",
       " 'split0_test_score': array([0.5, 0.5, 0.5, 0.5, 0.5, 0.5, 0.5, 0.5, 0.5, 0.5, 0.5, 0.5, 0.5,\n",
       "        0.5, 0.5, 0.5, 0.5, 0.5, 0.5, 0.5, 0.5, 0.5, 0.5, 0.5, 0.5, 0.5,\n",
       "        0.5, 0.5, 0.5, 0.5, 0.5, 0.5, 0.5, 0.5, 0.5, 0.5]),\n",
       " 'split1_test_score': array([0.5, 0.5, 0.5, 0.5, 0.5, 0.5, 0.5, 0.5, 0.5, 0.5, 0.5, 0.5, 0.5,\n",
       "        0.5, 0.5, 0.5, 0.5, 0.5, 0.5, 0.5, 0.5, 0.5, 0.5, 0.5, 0.5, 0.5,\n",
       "        0.5, 0.5, 0.5, 0.5, 0.5, 0.5, 0.5, 0.5, 0.5, 0.5]),\n",
       " 'split2_test_score': array([0.5, 0.5, 0.5, 0.5, 0.5, 0.5, 0.5, 0.5, 0.5, 0.5, 0.5, 0.5, 0.5,\n",
       "        0.5, 0.5, 0.5, 0.5, 0.5, 0.5, 0.5, 0.5, 0.5, 0.5, 0.5, 0.5, 0.5,\n",
       "        0.5, 0.5, 0.5, 0.5, 0.5, 0.5, 0.5, 0.5, 0.5, 0.5]),\n",
       " 'split3_test_score': array([0.5, 0.5, 0.5, 0.5, 0.5, 0.5, 0.5, 0.5, 0.5, 0.5, 0.5, 0.5, 0.5,\n",
       "        0.5, 0.5, 0.5, 0.5, 0.5, 0.5, 0.5, 0.5, 0.5, 0.5, 0.5, 0.5, 0.5,\n",
       "        0.5, 0.5, 0.5, 0.5, 0.5, 0.5, 0.5, 0.5, 0.5, 0.5]),\n",
       " 'split4_test_score': array([0.5, 0.5, 0.5, 0.5, 0.5, 0.5, 0.5, 0.5, 0.5, 0.5, 0.5, 0.5, 0.5,\n",
       "        0.5, 0.5, 0.5, 0.5, 0.5, 0.5, 0.5, 0.5, 0.5, 0.5, 0.5, 0.5, 0.5,\n",
       "        0.5, 0.5, 0.5, 0.5, 0.5, 0.5, 0.5, 0.5, 0.5, 0.5]),\n",
       " 'mean_test_score': array([0.5, 0.5, 0.5, 0.5, 0.5, 0.5, 0.5, 0.5, 0.5, 0.5, 0.5, 0.5, 0.5,\n",
       "        0.5, 0.5, 0.5, 0.5, 0.5, 0.5, 0.5, 0.5, 0.5, 0.5, 0.5, 0.5, 0.5,\n",
       "        0.5, 0.5, 0.5, 0.5, 0.5, 0.5, 0.5, 0.5, 0.5, 0.5]),\n",
       " 'std_test_score': array([0., 0., 0., 0., 0., 0., 0., 0., 0., 0., 0., 0., 0., 0., 0., 0., 0.,\n",
       "        0., 0., 0., 0., 0., 0., 0., 0., 0., 0., 0., 0., 0., 0., 0., 0., 0.,\n",
       "        0., 0.]),\n",
       " 'rank_test_score': array([1, 1, 1, 1, 1, 1, 1, 1, 1, 1, 1, 1, 1, 1, 1, 1, 1, 1, 1, 1, 1, 1,\n",
       "        1, 1, 1, 1, 1, 1, 1, 1, 1, 1, 1, 1, 1, 1], dtype=int32),\n",
       " 'split0_train_score': array([0.5, 0.5, 0.5, 0.5, 0.5, 0.5, 0.5, 0.5, 0.5, 0.5, 0.5, 0.5, 0.5,\n",
       "        0.5, 0.5, 0.5, 0.5, 0.5, 0.5, 0.5, 0.5, 0.5, 0.5, 0.5, 0.5, 0.5,\n",
       "        0.5, 0.5, 0.5, 0.5, 0.5, 0.5, 0.5, 0.5, 0.5, 0.5]),\n",
       " 'split1_train_score': array([0.5, 0.5, 0.5, 0.5, 0.5, 0.5, 0.5, 0.5, 0.5, 0.5, 0.5, 0.5, 0.5,\n",
       "        0.5, 0.5, 0.5, 0.5, 0.5, 0.5, 0.5, 0.5, 0.5, 0.5, 0.5, 0.5, 0.5,\n",
       "        0.5, 0.5, 0.5, 0.5, 0.5, 0.5, 0.5, 0.5, 0.5, 0.5]),\n",
       " 'split2_train_score': array([0.5, 0.5, 0.5, 0.5, 0.5, 0.5, 0.5, 0.5, 0.5, 0.5, 0.5, 0.5, 0.5,\n",
       "        0.5, 0.5, 0.5, 0.5, 0.5, 0.5, 0.5, 0.5, 0.5, 0.5, 0.5, 0.5, 0.5,\n",
       "        0.5, 0.5, 0.5, 0.5, 0.5, 0.5, 0.5, 0.5, 0.5, 0.5]),\n",
       " 'split3_train_score': array([0.5, 0.5, 0.5, 0.5, 0.5, 0.5, 0.5, 0.5, 0.5, 0.5, 0.5, 0.5, 0.5,\n",
       "        0.5, 0.5, 0.5, 0.5, 0.5, 0.5, 0.5, 0.5, 0.5, 0.5, 0.5, 0.5, 0.5,\n",
       "        0.5, 0.5, 0.5, 0.5, 0.5, 0.5, 0.5, 0.5, 0.5, 0.5]),\n",
       " 'split4_train_score': array([0.5, 0.5, 0.5, 0.5, 0.5, 0.5, 0.5, 0.5, 0.5, 0.5, 0.5, 0.5, 0.5,\n",
       "        0.5, 0.5, 0.5, 0.5, 0.5, 0.5, 0.5, 0.5, 0.5, 0.5, 0.5, 0.5, 0.5,\n",
       "        0.5, 0.5, 0.5, 0.5, 0.5, 0.5, 0.5, 0.5, 0.5, 0.5]),\n",
       " 'mean_train_score': array([0.5, 0.5, 0.5, 0.5, 0.5, 0.5, 0.5, 0.5, 0.5, 0.5, 0.5, 0.5, 0.5,\n",
       "        0.5, 0.5, 0.5, 0.5, 0.5, 0.5, 0.5, 0.5, 0.5, 0.5, 0.5, 0.5, 0.5,\n",
       "        0.5, 0.5, 0.5, 0.5, 0.5, 0.5, 0.5, 0.5, 0.5, 0.5]),\n",
       " 'std_train_score': array([0., 0., 0., 0., 0., 0., 0., 0., 0., 0., 0., 0., 0., 0., 0., 0., 0.,\n",
       "        0., 0., 0., 0., 0., 0., 0., 0., 0., 0., 0., 0., 0., 0., 0., 0., 0.,\n",
       "        0., 0.])}"
      ]
     },
     "execution_count": 25,
     "metadata": {},
     "output_type": "execute_result"
    }
   ],
   "source": [
    "grid_search.cv_results_"
   ]
  },
  {
   "cell_type": "code",
   "execution_count": 26,
   "metadata": {
    "ExecuteTime": {
     "end_time": "2018-11-06T04:34:09.090595Z",
     "start_time": "2018-11-06T04:34:05.413056Z"
    }
   },
   "outputs": [],
   "source": [
    "y_pred = grid_search.predict(X_test)\n",
    "y_pred = (y_pred > 0.5)"
   ]
  },
  {
   "cell_type": "code",
   "execution_count": 27,
   "metadata": {
    "ExecuteTime": {
     "end_time": "2018-11-06T04:34:10.469030Z",
     "start_time": "2018-11-06T04:34:10.440691Z"
    }
   },
   "outputs": [
    {
     "data": {
      "text/plain": [
       "array([[106,   0],\n",
       "       [108,   0]])"
      ]
     },
     "execution_count": 27,
     "metadata": {},
     "output_type": "execute_result"
    }
   ],
   "source": [
    "cm = confusion_matrix(y_test, y_pred)\n",
    "cm"
   ]
  },
  {
   "cell_type": "code",
   "execution_count": 28,
   "metadata": {
    "ExecuteTime": {
     "end_time": "2018-11-06T04:34:11.931774Z",
     "start_time": "2018-11-06T04:34:11.893709Z"
    }
   },
   "outputs": [
    {
     "name": "stdout",
     "output_type": "stream",
     "text": [
      "classification_report:\n",
      "              precision    recall  f1-score   support\n",
      "\n",
      "           0       0.50      1.00      0.66       106\n",
      "           1       0.00      0.00      0.00       108\n",
      "\n",
      "   micro avg       0.50      0.50      0.50       214\n",
      "   macro avg       0.25      0.50      0.33       214\n",
      "weighted avg       0.25      0.50      0.33       214\n",
      "\n",
      "---------------------------------------------------------------\n",
      "\n",
      "\n",
      "average_precision_score:\n",
      "50.467289719626166%\n",
      "---------------------------------------------------------------\n",
      "\n",
      "\n",
      "f1_score:\n",
      "0.0%\n",
      "---------------------------------------------------------------\n",
      "\n",
      "\n",
      "accuracy_score:\n",
      "49.532710280373834%\n",
      "---------------------------------------------------------------\n",
      "\n",
      "\n",
      "cohen_kappa_score:\n",
      "0.0\n",
      "---------------------------------------------------------------\n",
      "\n",
      "\n",
      "roc_curve:\n",
      "(array([0., 1.]), array([0., 1.]), array([1, 0]))\n",
      "---------------------------------------------------------------\n",
      "\n",
      "\n",
      "roc_auc_score:\n",
      "50.0%\n",
      "---------------------------------------------------------------\n",
      "\n",
      "\n",
      "brier_score_loss:\n",
      "50.467289719626166%\n",
      "---------------------------------------------------------------\n",
      "\n",
      "\n",
      "recall_score:\n",
      "0.0%\n"
     ]
    },
    {
     "name": "stderr",
     "output_type": "stream",
     "text": [
      "/home/guess/anaconda3/lib/python3.6/site-packages/sklearn/metrics/classification.py:1143: UndefinedMetricWarning: Precision and F-score are ill-defined and being set to 0.0 in labels with no predicted samples.\n",
      "  'precision', 'predicted', average, warn_for)\n",
      "/home/guess/anaconda3/lib/python3.6/site-packages/sklearn/metrics/classification.py:1143: UndefinedMetricWarning: F-score is ill-defined and being set to 0.0 due to no predicted samples.\n",
      "  'precision', 'predicted', average, warn_for)\n"
     ]
    }
   ],
   "source": [
    "print(f'classification_report:\\n{classification_report(y_test, y_pred)}')\n",
    "print('---------------------------------------------------------------\\n\\n')\n",
    "print(f'average_precision_score:\\n{average_precision_score(y_test, y_pred)*100}%')\n",
    "print('---------------------------------------------------------------\\n\\n')\n",
    "print(f'f1_score:\\n{f1_score(y_test, y_pred)*100}%')\n",
    "print('---------------------------------------------------------------\\n\\n')\n",
    "print(f'accuracy_score:\\n{accuracy_score(y_test, y_pred)*100}%')\n",
    "print('---------------------------------------------------------------\\n\\n')\n",
    "print(f'cohen_kappa_score:\\n{cohen_kappa_score(y_test, y_pred)}')\n",
    "print('---------------------------------------------------------------\\n\\n')\n",
    "print(f'roc_curve:\\n{roc_curve(y_test, y_pred)}')\n",
    "print('---------------------------------------------------------------\\n\\n')\n",
    "print(f'roc_auc_score:\\n{roc_auc_score(y_test, y_pred)*100}%')\n",
    "print('---------------------------------------------------------------\\n\\n')\n",
    "print(f'brier_score_loss:\\n{brier_score_loss(y_test, y_pred)*100}%')\n",
    "print('---------------------------------------------------------------\\n\\n')\n",
    "print(f'recall_score:\\n{recall_score(y_test, y_pred)*100}%')"
   ]
  },
  {
   "cell_type": "code",
   "execution_count": 29,
   "metadata": {
    "ExecuteTime": {
     "end_time": "2018-11-06T04:01:03.251555Z",
     "start_time": "2018-11-06T04:01:03.218859Z"
    }
   },
   "outputs": [
    {
     "name": "stdout",
     "output_type": "stream",
     "text": [
      "Accuracy = 72.4%\n"
     ]
    }
   ],
   "source": [
    "print(f'Accuracy = {round((cm[0][0]+cm[1][1])/(cm.sum())/.01,1)}%')"
   ]
  },
  {
   "cell_type": "code",
   "execution_count": null,
   "metadata": {},
   "outputs": [],
   "source": [
    "def dropout_classifier_set():\n",
    "    classifier = Sequential()\n",
    "    classifier.add(Dense(units=5, kernel_initializer='uniform',\n",
    "                         activation='relu', input_dim=5))\n",
    "    classifier.add(Dropout(rate=0.12))\n",
    "    classifier.add(\n",
    "        Dense(units=40, kernel_initializer='uniform', activation='relu'))\n",
    "    classifier.add(Dropout(rate=0.08))\n",
    "    classifier.add(\n",
    "        Dense(units=8, kernel_initializer='uniform', activation='relu'))\n",
    "    classifier.add(Dropout(rate=0.04))\n",
    "    classifier.add(\n",
    "        Dense(units=1, kernel_initializer='uniform', activation='sigmoid'))\n",
    "\n",
    "    classifier.compile(\n",
    "        optimizer='Nadam', loss='binary_crossentropy', metrics=['accuracy'])\n",
    "    return classifier"
   ]
  },
  {
   "cell_type": "code",
   "execution_count": null,
   "metadata": {
    "ExecuteTime": {
     "end_time": "2018-11-06T02:07:56.507508Z",
     "start_time": "2018-11-06T02:07:56.382426Z"
    }
   },
   "outputs": [],
   "source": [
    "# classifier = dropout_classifier()"
   ]
  },
  {
   "cell_type": "code",
   "execution_count": null,
   "metadata": {
    "ExecuteTime": {
     "end_time": "2018-11-06T02:00:29.458678Z",
     "start_time": "2018-11-06T02:00:26.411432Z"
    }
   },
   "outputs": [],
   "source": [
    "classifier.fit(X_train, y_train, batch_size=13, \n",
    "                   epochs=250, shuffle=False)"
   ]
  },
  {
   "cell_type": "code",
   "execution_count": null,
   "metadata": {
    "ExecuteTime": {
     "end_time": "2018-11-01T03:36:03.807645Z",
     "start_time": "2018-11-01T03:30:47.503827Z"
    },
    "scrolled": true
   },
   "outputs": [],
   "source": [
    "batch_list = [134, 67, 28, 14, 7, 4]\n",
    "for num in batch_list:\n",
    "    classifier.fit(X_train, y_train, batch_size=num, \n",
    "                   epochs=100, shuffle=False)"
   ]
  },
  {
   "cell_type": "code",
   "execution_count": null,
   "metadata": {
    "ExecuteTime": {
     "end_time": "2018-11-06T01:59:15.011869Z",
     "start_time": "2018-11-06T01:59:14.947060Z"
    }
   },
   "outputs": [],
   "source": [
    "y_pred = classifier.predict(X_test)\n",
    "y_pred = (y_pred > 0.5)"
   ]
  },
  {
   "cell_type": "code",
   "execution_count": null,
   "metadata": {
    "ExecuteTime": {
     "end_time": "2018-11-06T01:59:15.038301Z",
     "start_time": "2018-11-06T01:59:15.014182Z"
    }
   },
   "outputs": [],
   "source": [
    "cm = confusion_matrix(y_test, y_pred)\n",
    "cm"
   ]
  },
  {
   "cell_type": "code",
   "execution_count": null,
   "metadata": {
    "ExecuteTime": {
     "end_time": "2018-11-06T01:59:15.064651Z",
     "start_time": "2018-11-06T01:59:15.040771Z"
    }
   },
   "outputs": [],
   "source": [
    "print(f'Accuracy = {(cm[0][0]+cm[1][1])/(cm.sum())/.01}%')"
   ]
  },
  {
   "cell_type": "markdown",
   "metadata": {},
   "source": [
    "### 75.5% Accuracy on 1824 training, 200 test\n",
    "__3 layers__\n",
    "- layer 1 = ReLU X 7\n",
    "- layer 2 = SoftMax X 14\n",
    "- layer 3 = ReLU X 7\n",
    "- output layer = Sigmoid X 1\n",
    "\n",
    "__metrics__ = Cosine\n",
    "\n",
    "__loss__ = binary_crossentropy\n",
    "\n",
    "__Optimizer__ = Nadam\n",
    "\n",
    "__Batch size__ = 12\n",
    "\n",
    "__Epochs__ = 175\n",
    "\n",
    "no __diff__"
   ]
  },
  {
   "cell_type": "code",
   "execution_count": null,
   "metadata": {
    "ExecuteTime": {
     "end_time": "2018-11-01T02:47:51.033028Z",
     "start_time": "2018-11-01T02:47:51.008356Z"
    }
   },
   "outputs": [],
   "source": [
    "classifier = KerasClassifier(build_fn=_classifier, batch_size=12, epochs=200)"
   ]
  },
  {
   "cell_type": "code",
   "execution_count": null,
   "metadata": {
    "ExecuteTime": {
     "end_time": "2018-11-01T03:01:42.422218Z",
     "start_time": "2018-11-01T02:47:51.405705Z"
    }
   },
   "outputs": [],
   "source": [
    "accus = cross_val_score(estimator=classifier, X=X_train,\n",
    "                        y=y_train, cv=10, n_jobs=-2, scoring='accuracy')\n",
    "accus"
   ]
  },
  {
   "cell_type": "code",
   "execution_count": null,
   "metadata": {
    "ExecuteTime": {
     "end_time": "2018-11-01T03:02:09.616879Z",
     "start_time": "2018-11-01T03:02:09.580513Z"
    }
   },
   "outputs": [],
   "source": [
    "accu_mean = accus.mean()\n",
    "accu_mean"
   ]
  },
  {
   "cell_type": "code",
   "execution_count": null,
   "metadata": {
    "ExecuteTime": {
     "end_time": "2018-11-01T03:02:11.524193Z",
     "start_time": "2018-11-01T03:02:11.498485Z"
    }
   },
   "outputs": [],
   "source": [
    "accu_var = accus.std()\n",
    "accu_var"
   ]
  },
  {
   "cell_type": "code",
   "execution_count": null,
   "metadata": {
    "ExecuteTime": {
     "end_time": "2018-11-01T03:02:26.103511Z",
     "start_time": "2018-11-01T03:02:26.077809Z"
    }
   },
   "outputs": [],
   "source": [
    "accus"
   ]
  },
  {
   "cell_type": "code",
   "execution_count": null,
   "metadata": {
    "ExecuteTime": {
     "end_time": "2018-11-06T02:06:30.726406Z",
     "start_time": "2018-11-06T02:06:30.701155Z"
    }
   },
   "outputs": [],
   "source": [
    "def dropout_classifier(optimizer, metrics):\n",
    "    classifier = Sequential()\n",
    "    classifier.add(Dense(units=5, kernel_initializer='uniform',\n",
    "                         activation='relu', input_dim=5))\n",
    "    classifier.add(Dropout(rate=0.12))\n",
    "    classifier.add(\n",
    "        Dense(units=40, kernel_initializer='uniform', activation='relu'))\n",
    "    classifier.add(Dropout(rate=0.08))\n",
    "    classifier.add(\n",
    "        Dense(units=8, kernel_initializer='uniform', activation='relu'))\n",
    "    classifier.add(Dropout(rate=0.04))\n",
    "    classifier.add(\n",
    "        Dense(units=1, kernel_initializer='uniform', activation='sigmoid'))\n",
    "\n",
    "    classifier.compile(\n",
    "        optimizer=optimizer, loss='binary_crossentropy', metrics=[metrics])\n",
    "    return classifier"
   ]
  },
  {
   "cell_type": "code",
   "execution_count": null,
   "metadata": {
    "ExecuteTime": {
     "end_time": "2018-11-06T02:07:15.850794Z",
     "start_time": "2018-11-06T02:07:00.414066Z"
    },
    "scrolled": true
   },
   "outputs": [],
   "source": []
  },
  {
   "cell_type": "code",
   "execution_count": null,
   "metadata": {},
   "outputs": [],
   "source": []
  }
 ],
 "metadata": {
  "kernelspec": {
   "display_name": "Python 3",
   "language": "python",
   "name": "python3"
  },
  "language_info": {
   "codemirror_mode": {
    "name": "ipython",
    "version": 3
   },
   "file_extension": ".py",
   "mimetype": "text/x-python",
   "name": "python",
   "nbconvert_exporter": "python",
   "pygments_lexer": "ipython3",
   "version": "3.6.6"
  },
  "latex_envs": {
   "LaTeX_envs_menu_present": true,
   "autoclose": false,
   "autocomplete": true,
   "bibliofile": "biblio.bib",
   "cite_by": "apalike",
   "current_citInitial": 1,
   "eqLabelWithNumbers": true,
   "eqNumInitial": 1,
   "hotkeys": {
    "equation": "Ctrl-E",
    "itemize": "Ctrl-I"
   },
   "labels_anchors": false,
   "latex_user_defs": false,
   "report_style_numbering": false,
   "user_envs_cfg": false
  }
 },
 "nbformat": 4,
 "nbformat_minor": 2
}
