{
 "cells": [
  {
   "cell_type": "code",
   "execution_count": 151,
   "metadata": {
    "ExecuteTime": {
     "end_time": "2018-11-19T18:59:33.043067Z",
     "start_time": "2018-11-19T18:59:33.017399Z"
    }
   },
   "outputs": [],
   "source": [
    "import pandas as pd\n",
    "import numpy as np\n",
    "\n",
    "from sklearn.preprocessing import StandardScaler\n",
    "from sklearn.model_selection import train_test_split, cross_val_score, GridSearchCV\n",
    "from sklearn.metrics import confusion_matrix\n",
    "\n",
    "from keras.models import Sequential\n",
    "from keras.layers import Dense, Dropout\n",
    "from keras.wrappers.scikit_learn import KerasClassifier\n",
    "from keras import regularizers\n",
    "\n",
    "from dummies_bins_test_train_cv import get_Xy_train_test, cross_validation_process\n",
    "# from clean_chess_game_log import main_cleanup\n",
    "# _,_,_ = main_cleanup('../data/dest.pgn')"
   ]
  },
  {
   "cell_type": "code",
   "execution_count": 152,
   "metadata": {
    "ExecuteTime": {
     "end_time": "2018-11-19T18:59:33.946197Z",
     "start_time": "2018-11-19T18:59:33.918087Z"
    }
   },
   "outputs": [],
   "source": [
    "df = pd.read_csv('../data/use_for_predictions.csv')"
   ]
  },
  {
   "cell_type": "code",
   "execution_count": 182,
   "metadata": {
    "ExecuteTime": {
     "end_time": "2018-11-19T20:09:59.188515Z",
     "start_time": "2018-11-19T20:09:58.171852Z"
    }
   },
   "outputs": [
    {
     "name": "stdout",
     "output_type": "stream",
     "text": [
      "y Shape: (2098,)\n",
      "X Shape: (2098, 29)\n",
      "X_train Shape: (2076, 29)\n",
      "X_test Shape: (22, 29)\n",
      "y_train Shape: (2076,)\n",
      "y_test Shape: (22,)\n"
     ]
    }
   ],
   "source": [
    "X_train, X_test, y_train, y_test, X, y, df_clean = get_Xy_train_test(df, .985, .995)"
   ]
  },
  {
   "cell_type": "code",
   "execution_count": 183,
   "metadata": {
    "ExecuteTime": {
     "end_time": "2018-11-19T20:10:00.227871Z",
     "start_time": "2018-11-19T20:10:00.205468Z"
    }
   },
   "outputs": [
    {
     "data": {
      "text/plain": [
       "Index(['game_time', 'color', 'diff_bin', 'st_1', 'st_2', 'st_6', 'st_7',\n",
       "       'st_8', 'st_9', 'st_10', 'st_11', 'st_12', 'st_13', 'st_14', 'st_15',\n",
       "       'st_16', 'st_17', 'st_18', 'st_19', 'st_20', 'st_21', 'st_22', 'st_23',\n",
       "       'wd_1', 'wd_2', 'wd_3', 'wd_4', 'wd_5', 'wd_6'],\n",
       "      dtype='object')"
      ]
     },
     "execution_count": 183,
     "metadata": {},
     "output_type": "execute_result"
    }
   ],
   "source": [
    "df_clean.columns"
   ]
  },
  {
   "cell_type": "code",
   "execution_count": 184,
   "metadata": {
    "ExecuteTime": {
     "end_time": "2018-11-19T20:10:00.854008Z",
     "start_time": "2018-11-19T20:10:00.817957Z"
    }
   },
   "outputs": [],
   "source": [
    "X_train = X_train.astype('float64')\n",
    "X_test = X_test.astype('float64')\n",
    "y_train = y_train.astype('int64')\n",
    "y_test = y_test.astype('int64')"
   ]
  },
  {
   "cell_type": "code",
   "execution_count": 185,
   "metadata": {
    "ExecuteTime": {
     "end_time": "2018-11-19T20:10:01.508516Z",
     "start_time": "2018-11-19T20:10:01.476310Z"
    }
   },
   "outputs": [
    {
     "data": {
      "text/plain": [
       "(2076, 29)"
      ]
     },
     "execution_count": 185,
     "metadata": {},
     "output_type": "execute_result"
    }
   ],
   "source": [
    "X_train.shape"
   ]
  },
  {
   "cell_type": "code",
   "execution_count": 186,
   "metadata": {
    "ExecuteTime": {
     "end_time": "2018-11-19T20:10:02.133184Z",
     "start_time": "2018-11-19T20:10:02.097696Z"
    }
   },
   "outputs": [
    {
     "data": {
      "text/plain": [
       "(22, 29)"
      ]
     },
     "execution_count": 186,
     "metadata": {},
     "output_type": "execute_result"
    }
   ],
   "source": [
    "X_test.shape"
   ]
  },
  {
   "cell_type": "code",
   "execution_count": 187,
   "metadata": {
    "ExecuteTime": {
     "end_time": "2018-11-19T20:10:02.779721Z",
     "start_time": "2018-11-19T20:10:02.757093Z"
    }
   },
   "outputs": [
    {
     "data": {
      "text/plain": [
       "(2076,)"
      ]
     },
     "execution_count": 187,
     "metadata": {},
     "output_type": "execute_result"
    }
   ],
   "source": [
    "y_train.shape"
   ]
  },
  {
   "cell_type": "code",
   "execution_count": 188,
   "metadata": {
    "ExecuteTime": {
     "end_time": "2018-11-19T20:10:03.465242Z",
     "start_time": "2018-11-19T20:10:03.440105Z"
    }
   },
   "outputs": [],
   "source": [
    "std_sclr = StandardScaler()\n",
    "X_train = std_sclr.fit_transform(X_train)\n",
    "X_test = std_sclr.fit_transform(X_test)"
   ]
  },
  {
   "cell_type": "code",
   "execution_count": 189,
   "metadata": {
    "ExecuteTime": {
     "end_time": "2018-11-19T20:10:04.824454Z",
     "start_time": "2018-11-19T20:10:04.799846Z"
    }
   },
   "outputs": [
    {
     "data": {
      "text/plain": [
       "array([1.        , 0.49166608, 9.03219677, 1.        , 1.        ,\n",
       "       1.        , 0.28747979, 1.        , 0.4190702 , 1.        ,\n",
       "       0.2082989 , 0.34317429, 0.28747979, 0.2082989 , 0.28747979,\n",
       "       0.2082989 , 0.28747979, 0.28747979, 1.        , 0.2082989 ,\n",
       "       1.        , 1.        , 1.        , 0.38569461, 0.34317429,\n",
       "       0.28747979, 0.44536177, 0.28747979, 0.28747979])"
      ]
     },
     "execution_count": 189,
     "metadata": {},
     "output_type": "execute_result"
    }
   ],
   "source": [
    "std_sclr.scale_"
   ]
  },
  {
   "cell_type": "code",
   "execution_count": 190,
   "metadata": {
    "ExecuteTime": {
     "end_time": "2018-11-19T20:10:30.004453Z",
     "start_time": "2018-11-19T20:10:29.978223Z"
    }
   },
   "outputs": [],
   "source": [
    "def _classifier():\n",
    "    classifier = Sequential()\n",
    "\n",
    "    classifier.add(Dense(units=128, kernel_initializer='uniform',\n",
    "                         activation='softmax', input_dim=29))\n",
    "\n",
    "    classifier.add(\n",
    "        Dense(units=256, kernel_initializer='normal', activation='relu'))\n",
    "\n",
    "    classifier.add(\n",
    "        Dense(units=64, kernel_initializer='uniform', activation='softmax'))\n",
    "\n",
    "    classifier.add(\n",
    "        Dense(units=1, kernel_initializer='normal', activation='sigmoid'))\n",
    "\n",
    "    classifier.compile(\n",
    "        optimizer='nadam', loss='binary_crossentropy', metrics=['binary_accuracy'])\n",
    "\n",
    "    return classifier"
   ]
  },
  {
   "cell_type": "code",
   "execution_count": 191,
   "metadata": {
    "ExecuteTime": {
     "end_time": "2018-11-19T20:10:31.235735Z",
     "start_time": "2018-11-19T20:10:31.130681Z"
    }
   },
   "outputs": [],
   "source": [
    "classifier = _classifier()"
   ]
  },
  {
   "cell_type": "code",
   "execution_count": 192,
   "metadata": {
    "ExecuteTime": {
     "end_time": "2018-11-19T20:13:41.031895Z",
     "start_time": "2018-11-19T20:10:32.986473Z"
    },
    "scrolled": true
   },
   "outputs": [
    {
     "name": "stdout",
     "output_type": "stream",
     "text": [
      "Epoch 1/100\n",
      "2076/2076 [==============================] - 4s 2ms/step - loss: 0.6816 - binary_accuracy: 0.5568\n",
      "Epoch 2/100\n",
      "2076/2076 [==============================] - 2s 920us/step - loss: 0.6141 - binary_accuracy: 0.6965\n",
      "Epoch 3/100\n",
      "2076/2076 [==============================] - 2s 892us/step - loss: 0.5967 - binary_accuracy: 0.7047\n",
      "Epoch 4/100\n",
      "2076/2076 [==============================] - 2s 949us/step - loss: 0.5845 - binary_accuracy: 0.7115\n",
      "Epoch 5/100\n",
      "2076/2076 [==============================] - 2s 900us/step - loss: 0.5751 - binary_accuracy: 0.7134\n",
      "Epoch 6/100\n",
      "2076/2076 [==============================] - 2s 912us/step - loss: 0.5677 - binary_accuracy: 0.7153\n",
      "Epoch 7/100\n",
      "2076/2076 [==============================] - 2s 927us/step - loss: 0.5596 - binary_accuracy: 0.7110\n",
      "Epoch 8/100\n",
      "2076/2076 [==============================] - 2s 918us/step - loss: 0.5522 - binary_accuracy: 0.7129\n",
      "Epoch 9/100\n",
      "2076/2076 [==============================] - 2s 1ms/step - loss: 0.5462 - binary_accuracy: 0.7168\n",
      "Epoch 10/100\n",
      "2076/2076 [==============================] - 2s 1ms/step - loss: 0.5397 - binary_accuracy: 0.7168\n",
      "Epoch 11/100\n",
      "2076/2076 [==============================] - 2s 1ms/step - loss: 0.5338 - binary_accuracy: 0.7254\n",
      "Epoch 12/100\n",
      "2076/2076 [==============================] - 2s 989us/step - loss: 0.5276 - binary_accuracy: 0.7380\n",
      "Epoch 13/100\n",
      "2076/2076 [==============================] - 2s 993us/step - loss: 0.5227 - binary_accuracy: 0.7389\n",
      "Epoch 14/100\n",
      "2076/2076 [==============================] - 2s 1ms/step - loss: 0.5181 - binary_accuracy: 0.7404\n",
      "Epoch 15/100\n",
      "2076/2076 [==============================] - 2s 946us/step - loss: 0.5140 - binary_accuracy: 0.7413\n",
      "Epoch 16/100\n",
      "2076/2076 [==============================] - 2s 950us/step - loss: 0.5111 - binary_accuracy: 0.7442\n",
      "Epoch 17/100\n",
      "2076/2076 [==============================] - 2s 956us/step - loss: 0.5066 - binary_accuracy: 0.7500\n",
      "Epoch 18/100\n",
      "2076/2076 [==============================] - 2s 941us/step - loss: 0.5019 - binary_accuracy: 0.7510\n",
      "Epoch 19/100\n",
      "2076/2076 [==============================] - 2s 914us/step - loss: 0.4977 - binary_accuracy: 0.7534\n",
      "Epoch 20/100\n",
      "2076/2076 [==============================] - 2s 958us/step - loss: 0.4958 - binary_accuracy: 0.7539\n",
      "Epoch 21/100\n",
      "2076/2076 [==============================] - 2s 913us/step - loss: 0.4903 - binary_accuracy: 0.7563\n",
      "Epoch 22/100\n",
      "2076/2076 [==============================] - 2s 888us/step - loss: 0.4882 - binary_accuracy: 0.7567\n",
      "Epoch 23/100\n",
      "2076/2076 [==============================] - 2s 927us/step - loss: 0.4862 - binary_accuracy: 0.7582\n",
      "Epoch 24/100\n",
      "2076/2076 [==============================] - 2s 946us/step - loss: 0.4850 - binary_accuracy: 0.7572\n",
      "Epoch 25/100\n",
      "2076/2076 [==============================] - 2s 909us/step - loss: 0.4822 - binary_accuracy: 0.7601\n",
      "Epoch 26/100\n",
      "2076/2076 [==============================] - 2s 920us/step - loss: 0.4767 - binary_accuracy: 0.7654\n",
      "Epoch 27/100\n",
      "2076/2076 [==============================] - 2s 911us/step - loss: 0.4712 - binary_accuracy: 0.7640\n",
      "Epoch 28/100\n",
      "2076/2076 [==============================] - 2s 1ms/step - loss: 0.4697 - binary_accuracy: 0.7654\n",
      "Epoch 29/100\n",
      "2076/2076 [==============================] - 2s 1ms/step - loss: 0.4641 - binary_accuracy: 0.7731\n",
      "Epoch 30/100\n",
      "2076/2076 [==============================] - 2s 1ms/step - loss: 0.4657 - binary_accuracy: 0.7765\n",
      "Epoch 31/100\n",
      "2076/2076 [==============================] - 2s 1ms/step - loss: 0.4642 - binary_accuracy: 0.7803\n",
      "Epoch 32/100\n",
      "2076/2076 [==============================] - 2s 1ms/step - loss: 0.4559 - binary_accuracy: 0.7871\n",
      "Epoch 33/100\n",
      "2076/2076 [==============================] - 2s 1ms/step - loss: 0.4529 - binary_accuracy: 0.7929\n",
      "Epoch 34/100\n",
      "2076/2076 [==============================] - 1s 716us/step - loss: 0.4513 - binary_accuracy: 0.7958\n",
      "Epoch 35/100\n",
      "2076/2076 [==============================] - 2s 732us/step - loss: 0.4568 - binary_accuracy: 0.7895\n",
      "Epoch 36/100\n",
      "2076/2076 [==============================] - 2s 932us/step - loss: 0.4473 - binary_accuracy: 0.7991\n",
      "Epoch 37/100\n",
      "2076/2076 [==============================] - 1s 719us/step - loss: 0.4421 - binary_accuracy: 0.8064\n",
      "Epoch 38/100\n",
      "2076/2076 [==============================] - 1s 701us/step - loss: 0.4427 - binary_accuracy: 0.8015\n",
      "Epoch 39/100\n",
      "2076/2076 [==============================] - 1s 690us/step - loss: 0.4400 - binary_accuracy: 0.8064\n",
      "Epoch 40/100\n",
      "2076/2076 [==============================] - 2s 741us/step - loss: 0.4339 - binary_accuracy: 0.8194\n",
      "Epoch 41/100\n",
      "2076/2076 [==============================] - 1s 678us/step - loss: 0.4328 - binary_accuracy: 0.8112\n",
      "Epoch 42/100\n",
      "2076/2076 [==============================] - 1s 698us/step - loss: 0.4252 - binary_accuracy: 0.8256\n",
      "Epoch 43/100\n",
      "2076/2076 [==============================] - 1s 691us/step - loss: 0.4259 - binary_accuracy: 0.8237\n",
      "Epoch 44/100\n",
      "2076/2076 [==============================] - 1s 690us/step - loss: 0.4250 - binary_accuracy: 0.8256\n",
      "Epoch 45/100\n",
      "2076/2076 [==============================] - 1s 688us/step - loss: 0.4217 - binary_accuracy: 0.8314\n",
      "Epoch 46/100\n",
      "2076/2076 [==============================] - 1s 701us/step - loss: 0.4229 - binary_accuracy: 0.8295\n",
      "Epoch 47/100\n",
      "2076/2076 [==============================] - 1s 706us/step - loss: 0.4249 - binary_accuracy: 0.8242\n",
      "Epoch 48/100\n",
      "2076/2076 [==============================] - 1s 680us/step - loss: 0.4243 - binary_accuracy: 0.8266\n",
      "Epoch 49/100\n",
      "2076/2076 [==============================] - 1s 685us/step - loss: 0.4230 - binary_accuracy: 0.8232\n",
      "Epoch 50/100\n",
      "2076/2076 [==============================] - 1s 681us/step - loss: 0.4139 - binary_accuracy: 0.8329\n",
      "Epoch 51/100\n",
      "2076/2076 [==============================] - 1s 692us/step - loss: 0.4124 - binary_accuracy: 0.8391\n",
      "Epoch 52/100\n",
      "2076/2076 [==============================] - 2s 878us/step - loss: 0.4037 - binary_accuracy: 0.8415\n",
      "Epoch 53/100\n",
      "2076/2076 [==============================] - 2s 1ms/step - loss: 0.4124 - binary_accuracy: 0.8362\n",
      "Epoch 54/100\n",
      "2076/2076 [==============================] - 2s 986us/step - loss: 0.4085 - binary_accuracy: 0.8372\n",
      "Epoch 55/100\n",
      "2076/2076 [==============================] - 2s 1ms/step - loss: 0.4052 - binary_accuracy: 0.8454\n",
      "Epoch 56/100\n",
      "2076/2076 [==============================] - 2s 1ms/step - loss: 0.4030 - binary_accuracy: 0.8415\n",
      "Epoch 57/100\n",
      "2076/2076 [==============================] - 2s 1ms/step - loss: 0.4022 - binary_accuracy: 0.8420\n",
      "Epoch 58/100\n",
      "2076/2076 [==============================] - 2s 1ms/step - loss: 0.3986 - binary_accuracy: 0.8444\n",
      "Epoch 59/100\n",
      "2076/2076 [==============================] - 2s 998us/step - loss: 0.3964 - binary_accuracy: 0.8463\n",
      "Epoch 60/100\n",
      "2076/2076 [==============================] - 2s 981us/step - loss: 0.3970 - binary_accuracy: 0.8483\n",
      "Epoch 61/100\n",
      "2076/2076 [==============================] - 2s 985us/step - loss: 0.4001 - binary_accuracy: 0.8444\n",
      "Epoch 62/100\n",
      "2076/2076 [==============================] - 2s 1ms/step - loss: 0.3936 - binary_accuracy: 0.8526\n",
      "Epoch 63/100\n",
      "2076/2076 [==============================] - 2s 1ms/step - loss: 0.3869 - binary_accuracy: 0.8550\n",
      "Epoch 64/100\n",
      "2076/2076 [==============================] - 2s 935us/step - loss: 0.3907 - binary_accuracy: 0.8502\n",
      "Epoch 65/100\n",
      "2076/2076 [==============================] - 2s 917us/step - loss: 0.3923 - binary_accuracy: 0.8516\n",
      "Epoch 66/100\n",
      "2076/2076 [==============================] - 2s 947us/step - loss: 0.3862 - binary_accuracy: 0.8555\n",
      "Epoch 67/100\n",
      "2076/2076 [==============================] - 2s 895us/step - loss: 0.3929 - binary_accuracy: 0.8483\n",
      "Epoch 68/100\n",
      "2076/2076 [==============================] - 2s 962us/step - loss: 0.3863 - binary_accuracy: 0.8521\n",
      "Epoch 69/100\n",
      "2076/2076 [==============================] - 2s 957us/step - loss: 0.3879 - binary_accuracy: 0.8468\n",
      "Epoch 70/100\n",
      "2076/2076 [==============================] - 2s 910us/step - loss: 0.3847 - binary_accuracy: 0.8526\n",
      "Epoch 71/100\n",
      "2076/2076 [==============================] - 2s 987us/step - loss: 0.3838 - binary_accuracy: 0.8531\n",
      "Epoch 72/100\n",
      "2076/2076 [==============================] - 2s 906us/step - loss: 0.3784 - binary_accuracy: 0.8540\n",
      "Epoch 73/100\n"
     ]
    },
    {
     "name": "stdout",
     "output_type": "stream",
     "text": [
      "2076/2076 [==============================] - 2s 859us/step - loss: 0.3850 - binary_accuracy: 0.8502\n",
      "Epoch 74/100\n",
      "2076/2076 [==============================] - 2s 831us/step - loss: 0.3864 - binary_accuracy: 0.8497\n",
      "Epoch 75/100\n",
      "2076/2076 [==============================] - 2s 853us/step - loss: 0.3831 - binary_accuracy: 0.8550\n",
      "Epoch 76/100\n",
      "2076/2076 [==============================] - 2s 858us/step - loss: 0.3824 - binary_accuracy: 0.8536\n",
      "Epoch 77/100\n",
      "2076/2076 [==============================] - 2s 859us/step - loss: 0.3777 - binary_accuracy: 0.8526\n",
      "Epoch 78/100\n",
      "2076/2076 [==============================] - 2s 860us/step - loss: 0.3757 - binary_accuracy: 0.8536\n",
      "Epoch 79/100\n",
      "2076/2076 [==============================] - 2s 866us/step - loss: 0.3677 - binary_accuracy: 0.8622\n",
      "Epoch 80/100\n",
      "2076/2076 [==============================] - 2s 847us/step - loss: 0.3710 - binary_accuracy: 0.8579\n",
      "Epoch 81/100\n",
      "2076/2076 [==============================] - 2s 871us/step - loss: 0.3767 - binary_accuracy: 0.8579\n",
      "Epoch 82/100\n",
      "2076/2076 [==============================] - 2s 860us/step - loss: 0.3806 - binary_accuracy: 0.8540\n",
      "Epoch 83/100\n",
      "2076/2076 [==============================] - 2s 848us/step - loss: 0.3693 - binary_accuracy: 0.8589\n",
      "Epoch 84/100\n",
      "2076/2076 [==============================] - 2s 839us/step - loss: 0.3678 - binary_accuracy: 0.8608\n",
      "Epoch 85/100\n",
      "2076/2076 [==============================] - 2s 849us/step - loss: 0.3763 - binary_accuracy: 0.8579\n",
      "Epoch 86/100\n",
      "2076/2076 [==============================] - 2s 849us/step - loss: 0.3627 - binary_accuracy: 0.8618\n",
      "Epoch 87/100\n",
      "2076/2076 [==============================] - 2s 842us/step - loss: 0.3723 - binary_accuracy: 0.8565\n",
      "Epoch 88/100\n",
      "2076/2076 [==============================] - 2s 864us/step - loss: 0.3656 - binary_accuracy: 0.8603\n",
      "Epoch 89/100\n",
      "2076/2076 [==============================] - 2s 857us/step - loss: 0.3699 - binary_accuracy: 0.8584\n",
      "Epoch 90/100\n",
      "2076/2076 [==============================] - 2s 908us/step - loss: 0.3640 - binary_accuracy: 0.8637\n",
      "Epoch 91/100\n",
      "2076/2076 [==============================] - 2s 882us/step - loss: 0.3560 - binary_accuracy: 0.8690\n",
      "Epoch 92/100\n",
      "2076/2076 [==============================] - 2s 856us/step - loss: 0.3653 - binary_accuracy: 0.8622\n",
      "Epoch 93/100\n",
      "2076/2076 [==============================] - 2s 873us/step - loss: 0.3636 - binary_accuracy: 0.8632\n",
      "Epoch 94/100\n",
      "2076/2076 [==============================] - 2s 839us/step - loss: 0.3636 - binary_accuracy: 0.8608\n",
      "Epoch 95/100\n",
      "2076/2076 [==============================] - 2s 868us/step - loss: 0.3611 - binary_accuracy: 0.8656\n",
      "Epoch 96/100\n",
      "2076/2076 [==============================] - 2s 857us/step - loss: 0.3576 - binary_accuracy: 0.8656\n",
      "Epoch 97/100\n",
      "2076/2076 [==============================] - 2s 850us/step - loss: 0.3650 - binary_accuracy: 0.8613\n",
      "Epoch 98/100\n",
      "2076/2076 [==============================] - 2s 877us/step - loss: 0.3697 - binary_accuracy: 0.8569\n",
      "Epoch 99/100\n",
      "2076/2076 [==============================] - 2s 849us/step - loss: 0.3664 - binary_accuracy: 0.8536\n",
      "Epoch 100/100\n",
      "2076/2076 [==============================] - 2s 855us/step - loss: 0.3577 - binary_accuracy: 0.8622\n"
     ]
    },
    {
     "data": {
      "text/plain": [
       "<keras.callbacks.History at 0x7fc031680e10>"
      ]
     },
     "execution_count": 192,
     "metadata": {},
     "output_type": "execute_result"
    }
   ],
   "source": [
    "classifier.fit(X_train, y_train, batch_size=6, epochs=100,\n",
    "               class_weight='balanced', shuffle=False)"
   ]
  },
  {
   "cell_type": "code",
   "execution_count": 193,
   "metadata": {
    "ExecuteTime": {
     "end_time": "2018-11-19T20:13:41.716481Z",
     "start_time": "2018-11-19T20:13:41.034004Z"
    }
   },
   "outputs": [],
   "source": [
    "y_pred = classifier.predict(X_test)\n",
    "y_pred = (y_pred > 0.5)"
   ]
  },
  {
   "cell_type": "code",
   "execution_count": 194,
   "metadata": {
    "ExecuteTime": {
     "end_time": "2018-11-19T20:13:41.740659Z",
     "start_time": "2018-11-19T20:13:41.718144Z"
    }
   },
   "outputs": [
    {
     "data": {
      "text/plain": [
       "array([[7, 3],\n",
       "       [3, 9]])"
      ]
     },
     "execution_count": 194,
     "metadata": {},
     "output_type": "execute_result"
    }
   ],
   "source": [
    "cm = confusion_matrix(y_test, y_pred)\n",
    "cm"
   ]
  },
  {
   "cell_type": "code",
   "execution_count": 195,
   "metadata": {
    "ExecuteTime": {
     "end_time": "2018-11-19T20:14:08.580862Z",
     "start_time": "2018-11-19T20:14:08.548990Z"
    }
   },
   "outputs": [
    {
     "name": "stdout",
     "output_type": "stream",
     "text": [
      "72.7%\n"
     ]
    }
   ],
   "source": [
    "print(f'{((cm[0][0]+cm[1][1])/cm.sum()*100).round(1)}%')"
   ]
  },
  {
   "cell_type": "code",
   "execution_count": 197,
   "metadata": {
    "ExecuteTime": {
     "end_time": "2018-11-19T20:16:29.590663Z",
     "start_time": "2018-11-19T20:16:29.567360Z"
    }
   },
   "outputs": [
    {
     "name": "stdout",
     "output_type": "stream",
     "text": [
      "_________________________________________________________________\n",
      "Layer (type)                 Output Shape              Param #   \n",
      "=================================================================\n",
      "dense_108 (Dense)            (None, 128)               3840      \n",
      "_________________________________________________________________\n",
      "dense_109 (Dense)            (None, 256)               33024     \n",
      "_________________________________________________________________\n",
      "dense_110 (Dense)            (None, 64)                16448     \n",
      "_________________________________________________________________\n",
      "dense_111 (Dense)            (None, 1)                 65        \n",
      "=================================================================\n",
      "Total params: 53,377\n",
      "Trainable params: 53,377\n",
      "Non-trainable params: 0\n",
      "_________________________________________________________________\n"
     ]
    }
   ],
   "source": [
    "classifier.summary()"
   ]
  },
  {
   "cell_type": "code",
   "execution_count": null,
   "metadata": {},
   "outputs": [],
   "source": []
  }
 ],
 "metadata": {
  "kernelspec": {
   "display_name": "Python 3",
   "language": "python",
   "name": "python3"
  },
  "language_info": {
   "codemirror_mode": {
    "name": "ipython",
    "version": 3
   },
   "file_extension": ".py",
   "mimetype": "text/x-python",
   "name": "python",
   "nbconvert_exporter": "python",
   "pygments_lexer": "ipython3",
   "version": "3.6.6"
  },
  "latex_envs": {
   "LaTeX_envs_menu_present": true,
   "autoclose": false,
   "autocomplete": true,
   "bibliofile": "biblio.bib",
   "cite_by": "apalike",
   "current_citInitial": 1,
   "eqLabelWithNumbers": true,
   "eqNumInitial": 1,
   "hotkeys": {
    "equation": "Ctrl-E",
    "itemize": "Ctrl-I"
   },
   "labels_anchors": false,
   "latex_user_defs": false,
   "report_style_numbering": false,
   "user_envs_cfg": false
  }
 },
 "nbformat": 4,
 "nbformat_minor": 2
}
