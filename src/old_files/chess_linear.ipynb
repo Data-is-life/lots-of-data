{
 "cells": [
  {
   "cell_type": "code",
   "execution_count": 24,
   "metadata": {
    "ExecuteTime": {
     "end_time": "2018-08-23T19:37:35.289242Z",
     "start_time": "2018-08-23T19:37:35.268454Z"
    }
   },
   "outputs": [],
   "source": [
    "import pandas as pd\n",
    "import numpy as np\n",
    "import scipy, scipy.stats\n",
    "\n",
    "import statsmodels.formula.api as sm\n",
    "from statsmodels.tools.tools import add_constant\n",
    "from IPython.core.display import HTML\n",
    "\n",
    "from sklearn.linear_model import LinearRegression\n",
    "# from sklearn.pipeline import Pipeline\n",
    "# from sklearn.utils import resample\n",
    "from sklearn.metrics import mean_squared_error\n",
    "# from mpl_toolkits.mplot3d import Axes3D\n",
    "\n",
    "#from basis_expansions.basis_expansions import Polynomial, LinearSpline\n",
    "\n",
    "# from regression_tools.dftransformers import (\n",
    "#     ColumnSelector, Identity, FeatureUnion, MapFeature, Intercept)\n",
    "\n",
    "# from regression_tools.plotting_tools import (\n",
    "#     plot_univariate_smooth, bootstrap_train, display_coef, \n",
    "#     plot_bootstrap_coefs, plot_partial_depenence, \n",
    "#     plot_partial_dependences, predicteds_vs_actuals)\n",
    "\n",
    "%matplotlib inline\n",
    "import matplotlib.pyplot as plt\n",
    "plt.style.use('seaborn-white')"
   ]
  },
  {
   "cell_type": "code",
   "execution_count": 7,
   "metadata": {
    "ExecuteTime": {
     "end_time": "2018-08-23T17:31:11.404351Z",
     "start_time": "2018-08-23T17:31:11.389355Z"
    }
   },
   "outputs": [],
   "source": [
    "def round_to_3(x):\n",
    "    return round(x,3)"
   ]
  },
  {
   "cell_type": "code",
   "execution_count": 4,
   "metadata": {
    "ExecuteTime": {
     "end_time": "2018-08-23T17:28:37.093579Z",
     "start_time": "2018-08-23T17:28:37.061998Z"
    }
   },
   "outputs": [],
   "source": [
    "cdf = pd.read_csv('ddf_final_without_scores.csv')\n",
    "numeric_predictors = ['elo', 'opp_elo', 'diff', 'color',\n",
    "                      'game_time', 'start_time', 'weekday', 'day']\n",
    "X = np.array(cdf[numeric_predictors])\n",
    "y = cdf['result']"
   ]
  },
  {
   "cell_type": "code",
   "execution_count": 8,
   "metadata": {
    "ExecuteTime": {
     "end_time": "2018-08-23T17:31:16.180390Z",
     "start_time": "2018-08-23T17:31:16.079089Z"
    },
    "scrolled": true
   },
   "outputs": [
    {
     "data": {
      "text/html": [
       "<table class=\"simpletable\">\n",
       "<caption>OLS Regression Results</caption>\n",
       "<tr>\n",
       "  <th>Dep. Variable:</th>         <td>result</td>      <th>  R-squared:         </th> <td>   0.129</td>\n",
       "</tr>\n",
       "<tr>\n",
       "  <th>Model:</th>                   <td>OLS</td>       <th>  Adj. R-squared:    </th> <td>   0.125</td>\n",
       "</tr>\n",
       "<tr>\n",
       "  <th>Method:</th>             <td>Least Squares</td>  <th>  F-statistic:       </th> <td>   38.04</td>\n",
       "</tr>\n",
       "<tr>\n",
       "  <th>Date:</th>             <td>Thu, 23 Aug 2018</td> <th>  Prob (F-statistic):</th> <td>5.30e-50</td>\n",
       "</tr>\n",
       "<tr>\n",
       "  <th>Time:</th>                 <td>10:31:16</td>     <th>  Log-Likelihood:    </th> <td> -1133.4</td>\n",
       "</tr>\n",
       "<tr>\n",
       "  <th>No. Observations:</th>      <td>  1809</td>      <th>  AIC:               </th> <td>   2283.</td>\n",
       "</tr>\n",
       "<tr>\n",
       "  <th>Df Residuals:</th>          <td>  1801</td>      <th>  BIC:               </th> <td>   2327.</td>\n",
       "</tr>\n",
       "<tr>\n",
       "  <th>Df Model:</th>              <td>     7</td>      <th>                     </th>     <td> </td>   \n",
       "</tr>\n",
       "<tr>\n",
       "  <th>Covariance Type:</th>      <td>nonrobust</td>    <th>                     </th>     <td> </td>   \n",
       "</tr>\n",
       "</table>\n",
       "<table class=\"simpletable\">\n",
       "<tr>\n",
       "    <td></td>       <th>coef</th>     <th>std err</th>      <th>t</th>      <th>P>|t|</th>  <th>[0.025</th>    <th>0.975]</th>  \n",
       "</tr>\n",
       "<tr>\n",
       "  <th>const</th> <td>    0.8078</td> <td>    0.148</td> <td>    5.460</td> <td> 0.000</td> <td>    0.518</td> <td>    1.098</td>\n",
       "</tr>\n",
       "<tr>\n",
       "  <th>x1</th>    <td>    0.0003</td> <td>    0.000</td> <td>    2.938</td> <td> 0.003</td> <td>    0.000</td> <td>    0.001</td>\n",
       "</tr>\n",
       "<tr>\n",
       "  <th>x2</th>    <td>   -0.0007</td> <td>  6.5e-05</td> <td>  -10.843</td> <td> 0.000</td> <td>   -0.001</td> <td>   -0.001</td>\n",
       "</tr>\n",
       "<tr>\n",
       "  <th>x3</th>    <td>    0.0010</td> <td> 9.34e-05</td> <td>   11.090</td> <td> 0.000</td> <td>    0.001</td> <td>    0.001</td>\n",
       "</tr>\n",
       "<tr>\n",
       "  <th>x4</th>    <td>    0.0671</td> <td>    0.021</td> <td>    3.140</td> <td> 0.002</td> <td>    0.025</td> <td>    0.109</td>\n",
       "</tr>\n",
       "<tr>\n",
       "  <th>x5</th>    <td> 7.399e-05</td> <td> 7.45e-05</td> <td>    0.993</td> <td> 0.321</td> <td>-7.21e-05</td> <td>    0.000</td>\n",
       "</tr>\n",
       "<tr>\n",
       "  <th>x6</th>    <td>-2.939e-06</td> <td> 2.21e-06</td> <td>   -1.328</td> <td> 0.184</td> <td>-7.28e-06</td> <td>  1.4e-06</td>\n",
       "</tr>\n",
       "<tr>\n",
       "  <th>x7</th>    <td>   -0.0002</td> <td>    0.005</td> <td>   -0.046</td> <td> 0.963</td> <td>   -0.011</td> <td>    0.010</td>\n",
       "</tr>\n",
       "<tr>\n",
       "  <th>x8</th>    <td>-5.847e-05</td> <td>    0.001</td> <td>   -0.046</td> <td> 0.963</td> <td>   -0.003</td> <td>    0.002</td>\n",
       "</tr>\n",
       "</table>\n",
       "<table class=\"simpletable\">\n",
       "<tr>\n",
       "  <th>Omnibus:</th>       <td> 0.053</td> <th>  Durbin-Watson:     </th> <td>   2.011</td>\n",
       "</tr>\n",
       "<tr>\n",
       "  <th>Prob(Omnibus):</th> <td> 0.974</td> <th>  Jarque-Bera (JB):  </th> <td> 206.183</td>\n",
       "</tr>\n",
       "<tr>\n",
       "  <th>Skew:</th>          <td>-0.013</td> <th>  Prob(JB):          </th> <td>1.69e-45</td>\n",
       "</tr>\n",
       "<tr>\n",
       "  <th>Kurtosis:</th>      <td> 1.346</td> <th>  Cond. No.          </th> <td>5.67e+17</td>\n",
       "</tr>\n",
       "</table><br/><br/>Warnings:<br/>[1] Standard Errors assume that the covariance matrix of the errors is correctly specified.<br/>[2] The smallest eigenvalue is 1.46e-24. This might indicate that there are<br/>strong multicollinearity problems or that the design matrix is singular."
      ],
      "text/plain": [
       "<class 'statsmodels.iolib.summary.Summary'>\n",
       "\"\"\"\n",
       "                            OLS Regression Results                            \n",
       "==============================================================================\n",
       "Dep. Variable:                 result   R-squared:                       0.129\n",
       "Model:                            OLS   Adj. R-squared:                  0.125\n",
       "Method:                 Least Squares   F-statistic:                     38.04\n",
       "Date:                Thu, 23 Aug 2018   Prob (F-statistic):           5.30e-50\n",
       "Time:                        10:31:16   Log-Likelihood:                -1133.4\n",
       "No. Observations:                1809   AIC:                             2283.\n",
       "Df Residuals:                    1801   BIC:                             2327.\n",
       "Df Model:                           7                                         \n",
       "Covariance Type:            nonrobust                                         \n",
       "==============================================================================\n",
       "                 coef    std err          t      P>|t|      [0.025      0.975]\n",
       "------------------------------------------------------------------------------\n",
       "const          0.8078      0.148      5.460      0.000       0.518       1.098\n",
       "x1             0.0003      0.000      2.938      0.003       0.000       0.001\n",
       "x2            -0.0007    6.5e-05    -10.843      0.000      -0.001      -0.001\n",
       "x3             0.0010   9.34e-05     11.090      0.000       0.001       0.001\n",
       "x4             0.0671      0.021      3.140      0.002       0.025       0.109\n",
       "x5          7.399e-05   7.45e-05      0.993      0.321   -7.21e-05       0.000\n",
       "x6         -2.939e-06   2.21e-06     -1.328      0.184   -7.28e-06     1.4e-06\n",
       "x7            -0.0002      0.005     -0.046      0.963      -0.011       0.010\n",
       "x8         -5.847e-05      0.001     -0.046      0.963      -0.003       0.002\n",
       "==============================================================================\n",
       "Omnibus:                        0.053   Durbin-Watson:                   2.011\n",
       "Prob(Omnibus):                  0.974   Jarque-Bera (JB):              206.183\n",
       "Skew:                          -0.013   Prob(JB):                     1.69e-45\n",
       "Kurtosis:                       1.346   Cond. No.                     5.67e+17\n",
       "==============================================================================\n",
       "\n",
       "Warnings:\n",
       "[1] Standard Errors assume that the covariance matrix of the errors is correctly specified.\n",
       "[2] The smallest eigenvalue is 1.46e-24. This might indicate that there are\n",
       "strong multicollinearity problems or that the design matrix is singular.\n",
       "\"\"\""
      ]
     },
     "execution_count": 8,
     "metadata": {},
     "output_type": "execute_result"
    }
   ],
   "source": [
    "X = add_constant(X)\n",
    "est = sm.OLS(y, X).fit()\n",
    "\n",
    "est.summary()"
   ]
  },
  {
   "cell_type": "code",
   "execution_count": 116,
   "metadata": {
    "ExecuteTime": {
     "end_time": "2018-08-23T20:02:40.123350Z",
     "start_time": "2018-08-23T20:02:40.092219Z"
    }
   },
   "outputs": [],
   "source": [
    "cdf = cdf[cdf['result'] != 0.5]\n",
    "df = cdf[['elo', 'opp_elo', 'diff', 'color',\n",
    "          'game_time', 'start_time', 'weekday',\n",
    "          'day', 'result']].copy()\n",
    "X = df.copy()\n",
    "y = X.pop('result')"
   ]
  },
  {
   "cell_type": "code",
   "execution_count": 117,
   "metadata": {
    "ExecuteTime": {
     "end_time": "2018-08-23T20:02:41.412303Z",
     "start_time": "2018-08-23T20:02:41.342858Z"
    }
   },
   "outputs": [
    {
     "name": "stdout",
     "output_type": "stream",
     "text": [
      "                            OLS Regression Results                            \n",
      "==============================================================================\n",
      "Dep. Variable:                 result   R-squared:                       0.590\n",
      "Model:                            OLS   Adj. R-squared:                  0.585\n",
      "Method:                 Least Squares   F-statistic:                     127.4\n",
      "Date:                Thu, 23 Aug 2018   Prob (F-statistic):          1.14e-308\n",
      "Time:                        13:02:41   Log-Likelihood:                -1055.0\n",
      "No. Observations:                1703   AIC:                             2148.\n",
      "Df Residuals:                    1684   BIC:                             2251.\n",
      "Df Model:                          19                                         \n",
      "Covariance Type:            nonrobust                                         \n",
      "==========================================================================================\n",
      "                             coef    std err          t      P>|t|      [0.025      0.975]\n",
      "------------------------------------------------------------------------------------------\n",
      "elo                        0.0031      0.002      1.403      0.161      -0.001       0.007\n",
      "opp_elo                   -0.0018      0.002     -0.818      0.413      -0.006       0.003\n",
      "elo:opp_elo            -1.003e-06   3.39e-07     -2.957      0.003   -1.67e-06   -3.38e-07\n",
      "diff                       0.0050      0.004      1.113      0.266      -0.004       0.014\n",
      "elo:diff               -3.909e-06   7.73e-06     -0.506      0.613   -1.91e-05    1.12e-05\n",
      "opp_elo:diff           -4.195e-06   6.09e-06     -0.689      0.491   -1.61e-05    7.75e-06\n",
      "elo:opp_elo:diff         2.34e-09   7.02e-09      0.333      0.739   -1.14e-08    1.61e-08\n",
      "color                     -2.5153      2.254     -1.116      0.265      -6.936       1.905\n",
      "elo:color                 -0.0006      0.005     -0.123      0.902      -0.011       0.009\n",
      "opp_elo:color              0.0067      0.004      1.746      0.081      -0.001       0.014\n",
      "elo:opp_elo:color      -3.577e-06   3.14e-06     -1.138      0.255   -9.74e-06    2.59e-06\n",
      "diff:color                -0.0073      0.007     -1.016      0.310      -0.022       0.007\n",
      "elo:diff:color          1.653e-05   1.27e-05      1.305      0.192   -8.31e-06    4.14e-05\n",
      "opp_elo:diff:color      9.426e-06   8.89e-06      1.060      0.289   -8.01e-06    2.69e-05\n",
      "elo:opp_elo:diff:color -1.334e-08   1.03e-08     -1.298      0.194   -3.35e-08    6.82e-09\n",
      "game_time                  0.0004      0.000      1.500      0.134      -0.000       0.001\n",
      "start_time               2.79e-06   8.94e-06      0.312      0.755   -1.47e-05    2.03e-05\n",
      "game_time:start_time   -1.497e-08   1.63e-08     -0.916      0.360    -4.7e-08    1.71e-08\n",
      "weekday                    0.0017      0.012      0.146      0.884      -0.021       0.025\n",
      "day                        0.0003      0.002      0.143      0.886      -0.004       0.005\n",
      "weekday:day               -0.0003      0.001     -0.392      0.695      -0.002       0.001\n",
      "==============================================================================\n",
      "Omnibus:                      499.137   Durbin-Watson:                   2.051\n",
      "Prob(Omnibus):                  0.000   Jarque-Bera (JB):               79.619\n",
      "Skew:                          -0.060   Prob(JB):                     5.14e-18\n",
      "Kurtosis:                       1.948   Cond. No.                     7.06e+20\n",
      "==============================================================================\n",
      "\n",
      "Warnings:\n",
      "[1] Standard Errors assume that the covariance matrix of the errors is correctly specified.\n",
      "[2] The smallest eigenvalue is 5.59e-23. This might indicate that there are\n",
      "strong multicollinearity problems or that the design matrix is singular.\n"
     ]
    }
   ],
   "source": [
    "mod = sm.ols(\n",
    "    formula='result ~ elo * opp_elo * diff * color + game_time * start_time + weekday * day -1'\n",
    "    , data=df)\n",
    "res = mod.fit()\n",
    "print(res.summary())"
   ]
  },
  {
   "cell_type": "code",
   "execution_count": 118,
   "metadata": {
    "ExecuteTime": {
     "end_time": "2018-08-23T20:02:45.024786Z",
     "start_time": "2018-08-23T20:02:45.006960Z"
    }
   },
   "outputs": [
    {
     "data": {
      "text/plain": [
       "0.5897417500648034"
      ]
     },
     "execution_count": 118,
     "metadata": {},
     "output_type": "execute_result"
    }
   ],
   "source": [
    "res.rsquared"
   ]
  },
  {
   "cell_type": "code",
   "execution_count": 119,
   "metadata": {
    "ExecuteTime": {
     "end_time": "2018-08-23T20:02:45.911714Z",
     "start_time": "2018-08-23T20:02:45.884519Z"
    }
   },
   "outputs": [
    {
     "data": {
      "text/plain": [
       "elo                       0.160754\n",
       "opp_elo                   0.413399\n",
       "elo:opp_elo               0.003154\n",
       "diff                      0.265948\n",
       "elo:diff                  0.612921\n",
       "opp_elo:diff              0.491175\n",
       "elo:opp_elo:diff          0.738950\n",
       "color                     0.264598\n",
       "elo:color                 0.902458\n",
       "opp_elo:color             0.081074\n",
       "elo:opp_elo:color         0.255382\n",
       "diff:color                0.309866\n",
       "elo:diff:color            0.192076\n",
       "opp_elo:diff:color        0.289168\n",
       "elo:opp_elo:diff:color    0.194493\n",
       "game_time                 0.133719\n",
       "start_time                0.754957\n",
       "game_time:start_time      0.359981\n",
       "weekday                   0.883736\n",
       "day                       0.886046\n",
       "weekday:day               0.695254\n",
       "dtype: float64"
      ]
     },
     "execution_count": 119,
     "metadata": {},
     "output_type": "execute_result"
    }
   ],
   "source": [
    "res.pvalues"
   ]
  },
  {
   "cell_type": "code",
   "execution_count": 120,
   "metadata": {
    "ExecuteTime": {
     "end_time": "2018-08-23T20:02:46.939185Z",
     "start_time": "2018-08-23T20:02:46.920401Z"
    }
   },
   "outputs": [
    {
     "data": {
      "text/plain": [
       "elo                       2.213984e-03\n",
       "opp_elo                   2.253523e-03\n",
       "elo:opp_elo               3.392829e-07\n",
       "diff                      4.448659e-03\n",
       "elo:diff                  7.725798e-06\n",
       "opp_elo:diff              6.092649e-06\n",
       "elo:opp_elo:diff          7.021059e-09\n",
       "color                     2.253917e+00\n",
       "elo:color                 5.050843e-03\n",
       "opp_elo:color             3.854535e-03\n",
       "elo:opp_elo:color         3.143596e-06\n",
       "diff:color                7.232989e-03\n",
       "elo:diff:color            1.266384e-05\n",
       "opp_elo:diff:color        8.889616e-06\n",
       "elo:opp_elo:diff:color    1.027875e-08\n",
       "game_time                 2.546212e-04\n",
       "start_time                8.936654e-06\n",
       "game_time:start_time      1.634535e-08\n",
       "weekday                   1.167506e-02\n",
       "day                       2.274896e-03\n",
       "weekday:day               6.497482e-04\n",
       "dtype: float64"
      ]
     },
     "execution_count": 120,
     "metadata": {},
     "output_type": "execute_result"
    }
   ],
   "source": [
    "res.bse"
   ]
  },
  {
   "cell_type": "code",
   "execution_count": 121,
   "metadata": {
    "ExecuteTime": {
     "end_time": "2018-08-23T20:02:48.469928Z",
     "start_time": "2018-08-23T20:02:48.450498Z"
    }
   },
   "outputs": [
    {
     "data": {
      "text/plain": [
       "array([-0.24949245,  1.08542183, -0.11175111, ...,  0.33191003,\n",
       "        0.51061958,  0.41307099])"
      ]
     },
     "execution_count": 121,
     "metadata": {},
     "output_type": "execute_result"
    }
   ],
   "source": [
    "res.predict()"
   ]
  },
  {
   "cell_type": "code",
   "execution_count": 122,
   "metadata": {
    "ExecuteTime": {
     "end_time": "2018-08-23T20:02:50.585889Z",
     "start_time": "2018-08-23T20:02:50.567436Z"
    }
   },
   "outputs": [
    {
     "name": "stdout",
     "output_type": "stream",
     "text": [
      "elo                       3.106567e-03\n",
      "opp_elo                  -1.843673e-03\n",
      "elo:opp_elo              -1.003109e-06\n",
      "diff                      4.950520e-03\n",
      "elo:diff                 -3.909275e-06\n",
      "opp_elo:diff             -4.195350e-06\n",
      "elo:opp_elo:diff          2.340114e-09\n",
      "color                    -2.515286e+00\n",
      "elo:color                -6.191091e-04\n",
      "opp_elo:color             6.728227e-03\n",
      "elo:opp_elo:color        -3.576661e-06\n",
      "diff:color               -7.347336e-03\n",
      "elo:diff:color            1.652613e-05\n",
      "opp_elo:diff:color        9.425502e-06\n",
      "elo:opp_elo:diff:color   -1.334099e-08\n",
      "game_time                 3.820131e-04\n",
      "start_time                2.789667e-06\n",
      "game_time:start_time     -1.496664e-08\n",
      "weekday                   1.707565e-03\n",
      "day                       3.260622e-04\n",
      "weekday:day              -2.545723e-04\n",
      "dtype: float64\n"
     ]
    }
   ],
   "source": [
    "print(res.params)"
   ]
  },
  {
   "cell_type": "code",
   "execution_count": 123,
   "metadata": {
    "ExecuteTime": {
     "end_time": "2018-08-23T20:02:52.427981Z",
     "start_time": "2018-08-23T20:02:52.394719Z"
    },
    "scrolled": false
   },
   "outputs": [
    {
     "name": "stdout",
     "output_type": "stream",
     "text": [
      "                            OLS Regression Results                            \n",
      "==============================================================================\n",
      "Dep. Variable:                 result   R-squared:                       0.553\n",
      "Model:                            OLS   Adj. R-squared:                  0.551\n",
      "Method:                 Least Squares   F-statistic:                     299.7\n",
      "Date:                Thu, 23 Aug 2018   Prob (F-statistic):          4.18e-291\n",
      "Time:                        13:02:52   Log-Likelihood:                -1128.0\n",
      "No. Observations:                1703   AIC:                             2270.\n",
      "Df Residuals:                    1696   BIC:                             2308.\n",
      "Df Model:                           7                                         \n",
      "Covariance Type:            nonrobust                                         \n",
      "==============================================================================\n",
      "                 coef    std err          t      P>|t|      [0.025      0.975]\n",
      "------------------------------------------------------------------------------\n",
      "elo            0.0009   6.27e-05     13.907      0.000       0.001       0.001\n",
      "opp_elo       -0.0004   4.33e-05    -10.335      0.000      -0.001      -0.000\n",
      "diff           0.0013   8.59e-05     15.372      0.000       0.001       0.001\n",
      "color          0.0821      0.023      3.611      0.000       0.038       0.127\n",
      "game_time      0.0002   7.66e-05      2.442      0.015    3.68e-05       0.000\n",
      "start_time  8.181e-08   2.27e-06      0.036      0.971   -4.37e-06    4.53e-06\n",
      "weekday       -0.0009      0.006     -0.153      0.878      -0.012       0.010\n",
      "day            0.0003      0.001      0.203      0.839      -0.002       0.003\n",
      "==============================================================================\n",
      "Omnibus:                        0.050   Durbin-Watson:                   2.015\n",
      "Prob(Omnibus):                  0.975   Jarque-Bera (JB):              206.025\n",
      "Skew:                          -0.013   Prob(JB):                     1.83e-45\n",
      "Kurtosis:                       1.296   Cond. No.                     1.99e+17\n",
      "==============================================================================\n",
      "\n",
      "Warnings:\n",
      "[1] Standard Errors assume that the covariance matrix of the errors is correctly specified.\n",
      "[2] The smallest eigenvalue is 1.12e-23. This might indicate that there are\n",
      "strong multicollinearity problems or that the design matrix is singular.\n"
     ]
    }
   ],
   "source": [
    "final = sm.OLS(y, X).fit()\n",
    "\n",
    "print(final.summary())"
   ]
  },
  {
   "cell_type": "code",
   "execution_count": 58,
   "metadata": {
    "ExecuteTime": {
     "end_time": "2018-08-18T21:50:01.282203Z",
     "start_time": "2018-08-18T21:50:00.974610Z"
    }
   },
   "outputs": [
    {
     "data": {
      "image/png": "[encoded data removed]",
      "text/plain": [
       "<Figure size 432x288 with 1 Axes>"
      ]
     },
     "metadata": {},
     "output_type": "display_data"
    }
   ],
   "source": [
    "elo = cdf['elo'].values\n",
    "opp_elo = cdf['opp_elo'].values\n",
    "diff = cdf['diff'].values\n",
    "color_ = cdf['color'].values\n",
    "start_time = cdf['start_time'].values\n",
    "game_time = cdf['game_time'].values\n",
    "weekday = cdf['weekday'].values\n",
    "day = cdf['day'].values\n",
    "\n",
    "# Ploting the scores as scatter plot\n",
    "fig = plt.figure()\n",
    "ax = Axes3D(fig)\n",
    "ax.scatter(diff, game_time, y, color='#ef1234')\n",
    "plt.show()"
   ]
  },
  {
   "cell_type": "code",
   "execution_count": null,
   "metadata": {
    "ExecuteTime": {
     "end_time": "2018-08-18T21:50:01.392241Z",
     "start_time": "2018-08-18T21:50:00.720Z"
    }
   },
   "outputs": [],
   "source": [
    "# weekday_fit = Pipeline([('weekday', ColumnSelector(name='weekday')), (\n",
    "#     'weekday_spline', LinearSpline(knots=[0, 1, 2, 3, 4, 5, 6]))])\n",
    "# game_time_fit = Pipeline([('game_time', ColumnSelector(name='game_time')), (\n",
    "#     'game_time_spline', LinearSpline(knots=[150, 300, 450, 600]))])\n",
    "# color_fit = Pipeline([('color', ColumnSelector(name='color')), (\n",
    "#     'color_spline', LinearSpline(knots=[1]))])\n",
    "# elo_fit = Pipeline([('elo', ColumnSelector(name='elo')), (\n",
    "#     'elo_spline', LinearSpline(knots=[600, 700, 800, 900, 1000]))])\n",
    "# diff_fit = Pipeline([('diff', ColumnSelector(name='diff')), (\n",
    "#     'diff_spline', LinearSpline(knots=[-500, -100, -50, -20, -10, -5, 0, 0, 5, 10, 20, 50, 100, 500]))])\n",
    "# opp_elo_fit = Pipeline([('opp_elo', ColumnSelector(name='opp_elo')), (\n",
    "#     'opp_elo_spline', LinearSpline(knots=[600, 700, 800, 900, 1000, 1100, 1300, 1800]))])\n",
    "# day_fit = Pipeline([('day', ColumnSelector(name='day')), (\n",
    "#     'day_spline', LinearSpline(knots=[5, 10, 15, 20, 25, 30]))])\n",
    "# start_time_fit = Pipeline([('start_time', ColumnSelector(name='start_time')), (\n",
    "#     'start_time_spline', LinearSpline(knots=[0, 8000, 12000, 16000, 18000, 20000, 23999]))])"
   ]
  },
  {
   "cell_type": "code",
   "execution_count": null,
   "metadata": {
    "ExecuteTime": {
     "end_time": "2018-08-18T21:50:01.393291Z",
     "start_time": "2018-08-18T21:50:00.723Z"
    }
   },
   "outputs": [],
   "source": [
    "# result_pipeline = FeatureUnion([\n",
    "#     ('intercept', Intercept()), ('diff_fit', diff_fit),\n",
    "#     ('elo_fit', elo_fit), ('opp_elo_fit', opp_elo_fit),\n",
    "#     ('color_fit', color_fit), ('game_time_fit', game_time_fit),\n",
    "#     ('start_time_fit', start_time_fit), ('weekday_fit', weekday_fit),\n",
    "#     ('day_fit', day_fit)])\n",
    "# result_pipeline.fit(X)\n",
    "# result_features = result_pipeline.transform(X)\n",
    "# result_model = LinearRegression(fit_intercept=False)\n",
    "# result_model.fit(result_features.values, y.values)"
   ]
  },
  {
   "cell_type": "code",
   "execution_count": null,
   "metadata": {
    "ExecuteTime": {
     "end_time": "2018-08-18T21:50:01.394325Z",
     "start_time": "2018-08-18T21:50:00.725Z"
    }
   },
   "outputs": [],
   "source": [
    "# bootstrap_models = bootstrap_train(\n",
    "#     LinearRegression, result_features.values,\n",
    "#     y.values, fit_intercept=False, bootstraps=10000)"
   ]
  },
  {
   "cell_type": "code",
   "execution_count": null,
   "metadata": {
    "ExecuteTime": {
     "end_time": "2018-08-18T21:50:01.395360Z",
     "start_time": "2018-08-18T21:50:00.731Z"
    },
    "scrolled": true
   },
   "outputs": [],
   "source": [
    "# diff_spec = ColumnSelector(name=\"diff\")\n",
    "# color_spec = ColumnSelector(name=\"color\")\n",
    "# game_spec = ColumnSelector(name=\"game_time\")\n",
    "# st_spec = ColumnSelector(name=\"start_time\")\n",
    "# wd_spec = ColumnSelector(name=\"weekday\")\n",
    "\n",
    "\n",
    "# balanced_pipeline = FeatureUnion([\n",
    "#     ('intercept', Intercept()), ('diff_fit', diff_spec),\n",
    "#     ('color_fit', color_spec), ('game_time_fit', game_spec),\n",
    "#     ('start_time_fit', st_spec), ('weekday_fit', wd_spec)])\n",
    "# balanced_pipeline = FeatureUnion([\n",
    "#     ('intercept', Intercept()), ('diff_fit', diff_spec),\n",
    "#     ('color_fit', color_spec), ('start_time_fit', st_spec)])\n",
    "# balanced_pipeline.fit(X)\n",
    "# balanced_features = balanced_pipeline.transform(X)\n",
    "# balanced_features.head()"
   ]
  },
  {
   "cell_type": "code",
   "execution_count": null,
   "metadata": {
    "ExecuteTime": {
     "end_time": "2018-08-18T21:50:01.396285Z",
     "start_time": "2018-08-18T21:50:00.734Z"
    }
   },
   "outputs": [],
   "source": [
    "# balanced_model = LinearRegression(fit_intercept=False)\n",
    "# balanced_model.fit(balanced_features, y)"
   ]
  },
  {
   "cell_type": "code",
   "execution_count": null,
   "metadata": {
    "ExecuteTime": {
     "end_time": "2018-08-18T21:50:01.397323Z",
     "start_time": "2018-08-18T21:50:00.736Z"
    }
   },
   "outputs": [],
   "source": [
    "# balanced_bootstrap = bootstrap_train(\n",
    "#     LinearRegression, balanced_features.values,\n",
    "#     y.values, fit_intercept=False, bootstraps=10000)"
   ]
  },
  {
   "cell_type": "code",
   "execution_count": null,
   "metadata": {
    "ExecuteTime": {
     "end_time": "2018-08-18T21:50:01.398299Z",
     "start_time": "2018-08-18T21:50:00.737Z"
    }
   },
   "outputs": [],
   "source": [
    "# y_hat = balanced_model.predict(balanced_features.values)"
   ]
  },
  {
   "cell_type": "code",
   "execution_count": null,
   "metadata": {
    "ExecuteTime": {
     "end_time": "2018-08-18T21:50:01.399228Z",
     "start_time": "2018-08-18T21:50:00.739Z"
    }
   },
   "outputs": [],
   "source": [
    "# def rss(y, y_hat):\n",
    "#     return np.sum((y - y_hat)**2)"
   ]
  },
  {
   "cell_type": "code",
   "execution_count": null,
   "metadata": {
    "ExecuteTime": {
     "end_time": "2018-08-18T21:50:01.400314Z",
     "start_time": "2018-08-18T21:50:00.742Z"
    }
   },
   "outputs": [],
   "source": [
    "# print(\"RSS: {}\".format(rss(y, y_hat)))"
   ]
  },
  {
   "cell_type": "code",
   "execution_count": null,
   "metadata": {
    "ExecuteTime": {
     "end_time": "2018-08-18T21:50:01.401234Z",
     "start_time": "2018-08-18T21:50:00.744Z"
    }
   },
   "outputs": [],
   "source": [
    "# def rsq(y, y_hat):\n",
    "#     ss_tot = rss(y, np.mean(y))\n",
    "#     ss_res = rss(y, y_hat)\n",
    "#     return 1 - (ss_res / ss_tot)"
   ]
  },
  {
   "cell_type": "code",
   "execution_count": null,
   "metadata": {
    "ExecuteTime": {
     "end_time": "2018-08-18T21:50:01.402180Z",
     "start_time": "2018-08-18T21:50:00.747Z"
    }
   },
   "outputs": [],
   "source": [
    "# print(\"R^2: {}\".format(rsq(y, y_hat)))"
   ]
  },
  {
   "cell_type": "code",
   "execution_count": null,
   "metadata": {
    "ExecuteTime": {
     "end_time": "2018-08-18T21:50:01.403208Z",
     "start_time": "2018-08-18T21:50:00.751Z"
    }
   },
   "outputs": [],
   "source": [
    "# def bootstrap_rsq(X, y, pipeline, n_boot=10000):\n",
    "#     rsqs = []\n",
    "#     for _ in range(n_boot):\n",
    "#         X_boot, y_boot = resample(X, y)\n",
    "#         X_transform = pipeline.transform(X_boot)\n",
    "#         model = LinearRegression(fit_intercept=False)\n",
    "#         model.fit(X_transform.values, y_boot)\n",
    "#         y_boot_hat = model.predict(X_transform.values)\n",
    "#         rsqs.append(rsq(y_boot, y_boot_hat))\n",
    "#     return rsqs"
   ]
  },
  {
   "cell_type": "code",
   "execution_count": null,
   "metadata": {
    "ExecuteTime": {
     "end_time": "2018-08-18T21:50:01.404275Z",
     "start_time": "2018-08-18T21:50:00.755Z"
    }
   },
   "outputs": [],
   "source": [
    "# rsqs = bootstrap_rsq(X, y, balanced_pipeline)"
   ]
  },
  {
   "cell_type": "code",
   "execution_count": null,
   "metadata": {
    "ExecuteTime": {
     "end_time": "2018-08-18T21:50:01.405707Z",
     "start_time": "2018-08-18T21:50:00.758Z"
    }
   },
   "outputs": [],
   "source": [
    "# def plot_many_residuals(var_names, y_hat, n_bins=50):\n",
    "#     fig, axs = plt.subplots(len(var_names), figsize=(12, 3*len(var_names)))\n",
    "#     for ax, name in zip(axs, var_names):\n",
    "#         x = cdf[name]\n",
    "#         residual_plot(ax, x, y, y_hat)\n",
    "#         ax.set_xlabel(name)\n",
    "#         ax.set_title(\"Model Residuals by {}\".format(name))\n",
    "#     return fig, axs"
   ]
  },
  {
   "cell_type": "code",
   "execution_count": null,
   "metadata": {
    "ExecuteTime": {
     "end_time": "2018-08-18T21:50:01.406702Z",
     "start_time": "2018-08-18T21:50:00.760Z"
    }
   },
   "outputs": [],
   "source": [
    "# def residual_plot(ax, x, y, y_hat, n_bins=50):\n",
    "#     residuals = y - y_hat\n",
    "#     ax.axhline(0, color=\"black\", linestyle=\"--\")\n",
    "#     ax.scatter(x, residuals, color=\"grey\", alpha=0.5)\n",
    "#     ax.set_ylabel(\"Residuals ($y - \\hat y$)\")"
   ]
  },
  {
   "cell_type": "code",
   "execution_count": null,
   "metadata": {
    "ExecuteTime": {
     "end_time": "2018-08-18T21:50:01.407742Z",
     "start_time": "2018-08-18T21:50:00.763Z"
    }
   },
   "outputs": [],
   "source": [
    "# weekday_fit.transform(cdf)\n",
    "# game_time_fit.transform(cdf)\n",
    "# color_fit.transform(cdf)\n",
    "# elo_fit.transform(cdf)\n",
    "# diff_fit.transform(cdf)\n",
    "# opp_elo_fit.transform(cdf)\n",
    "# day_fit.transform(cdf)\n",
    "# start_time_fit.transform(cdf)\n",
    "# print('hello')"
   ]
  },
  {
   "cell_type": "code",
   "execution_count": null,
   "metadata": {
    "ExecuteTime": {
     "end_time": "2018-08-18T21:50:01.408751Z",
     "start_time": "2018-08-18T21:50:00.767Z"
    },
    "scrolled": true
   },
   "outputs": [],
   "source": [
    "# def plot_basis(axs, basis_expansion, t):\n",
    "#     basis = basis_expansion.fit_transform(t)\n",
    "#     for idx, ax in enumerate(axs.flatten()):\n",
    "#         ax.plot(t, basis[:, idx])"
   ]
  },
  {
   "cell_type": "code",
   "execution_count": null,
   "metadata": {
    "ExecuteTime": {
     "end_time": "2018-08-18T21:50:01.409508Z",
     "start_time": "2018-08-18T21:50:00.767Z"
    },
    "scrolled": true
   },
   "outputs": [],
   "source": [
    "# def plot_one_univariate(ax, var_name, mask=None, bootstrap=100):\n",
    "#     if mask is None:\n",
    "#         plot_univariate_smooth(ax, cdf[var_name].values.reshape(-1, 1),\n",
    "#                                cdf['result'], bootstrap=bootstrap)\n",
    "#     else:\n",
    "#         plot_univariate_smooth(ax, cdf[var_name].values.reshape(-1, 1),\n",
    "#                                cdf['result'], mask=mask, bootstrap=bootstrap)"
   ]
  },
  {
   "cell_type": "code",
   "execution_count": null,
   "metadata": {
    "ExecuteTime": {
     "end_time": "2018-08-18T21:50:01.410878Z",
     "start_time": "2018-08-18T21:50:00.771Z"
    },
    "scrolled": true
   },
   "outputs": [],
   "source": [
    "# def plot_many_predicteds_vs_actuals(var_names, y_hat, n_bins=50):\n",
    "#     fig, axs = plt.subplots(len(var_names), figsize=(12, 3*len(var_names)))\n",
    "#     for ax, name in zip(axs, var_names):\n",
    "#         x = cdf[name]\n",
    "#         predicteds_vs_actuals(ax, x, cdf[\"result\"], y_hat, n_bins=n_bins)\n",
    "#         ax.set_title(\"{} Predicteds vs. Actuals\".format(name))\n",
    "#     return fig, axs"
   ]
  },
  {
   "cell_type": "code",
   "execution_count": null,
   "metadata": {
    "ExecuteTime": {
     "end_time": "2018-08-18T21:50:01.411790Z",
     "start_time": "2018-08-18T21:50:00.773Z"
    }
   },
   "outputs": [],
   "source": [
    "# def residual_plot(ax, x, y, y_hat, n_bins=50):\n",
    "#     residuals = y - y_hat\n",
    "#     ax.axhline(0, color=\"black\", linestyle=\"--\")\n",
    "#     ax.scatter(x, residuals, color=\"grey\", alpha=0.5)\n",
    "#     ax.set_ylabel(\"Residuals ($y - \\hat y$)\")\n",
    "# fig, ax = plt.subplots(figsize=(12, 3))\n",
    "# residual_plot(ax, y_hat, cdf[\"result\"], y_hat)\n",
    "# ax.set_title(\"Residuals by Predicted Values\")\n",
    "# ax.set_xlabel(\"$\\hat y$\")\n",
    "# plt.show()"
   ]
  }
 ],
 "metadata": {
  "kernelspec": {
   "display_name": "Python 3",
   "language": "python",
   "name": "python3"
  },
  "language_info": {
   "codemirror_mode": {
    "name": "ipython",
    "version": 3
   },
   "file_extension": ".py",
   "mimetype": "text/x-python",
   "name": "python",
   "nbconvert_exporter": "python",
   "pygments_lexer": "ipython3",
   "version": "3.6.6"
  },
  "latex_envs": {
   "LaTeX_envs_menu_present": true,
   "autoclose": false,
   "autocomplete": true,
   "bibliofile": "biblio.bib",
   "cite_by": "apalike",
   "current_citInitial": 1,
   "eqLabelWithNumbers": true,
   "eqNumInitial": 1,
   "hotkeys": {
    "equation": "Ctrl-E",
    "itemize": "Ctrl-I"
   },
   "labels_anchors": false,
   "latex_user_defs": false,
   "report_style_numbering": false,
   "user_envs_cfg": false
  }
 },
 "nbformat": 4,
 "nbformat_minor": 2
}
