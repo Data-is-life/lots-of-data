{
 "cells": [
  {
   "cell_type": "markdown",
   "metadata": {},
   "source": [
    "# Running all Classification Models to get the best predictions"
   ]
  },
  {
   "cell_type": "code",
   "execution_count": 14,
   "metadata": {
    "ExecuteTime": {
     "end_time": "2019-02-17T04:49:01.521626Z",
     "start_time": "2019-02-17T04:49:01.504007Z"
    }
   },
   "outputs": [],
   "source": [
    "from sklearn.ensemble import AdaBoostClassifier\n",
    "from sklearn.ensemble import BaggingClassifier\n",
    "from sklearn.ensemble import BaseEnsemble\n",
    "from sklearn.ensemble import ExtraTreesClassifier\n",
    "from sklearn.ensemble import GradientBoostingClassifier\n",
    "from sklearn.ensemble import IsolationForest\n",
    "from sklearn.ensemble import VotingClassifier"
   ]
  },
  {
   "cell_type": "code",
   "execution_count": null,
   "metadata": {},
   "outputs": [],
   "source": [
    "AdaBoostClassifier(\n",
    "    base_estimator=[], n_estimators=[10, 50, 100], learning_rate=[0.5, 1.0, 2.0],\n",
    "    algorithm=['SAMME', 'SAMME.R'], random_state=5)\n",
    "\n",
    "BaggingClassifier(\n",
    "    base_estimator=[], n_estimators=[10, 50, 100], max_features=[0.25, 0.5, 0.75, 1.0],\n",
    "    bootstrap=[True, False], bootstrap_features=[True, False], random_state=5)\n",
    "\n",
    "ExtraTreesClassifier(\n",
    "    n_estimators=[50, 100, 200, 400], criterion=['gini', 'entropy'],\n",
    "    max_depth=[None, 10, 20, 100], min_samples_split=[2, 5, 10, 20],\n",
    "    min_samples_leaf=[1, 5, 10, 20], max_features=['auto', 'sqrt', 'log2'],\n",
    "    max_leaf_nodes=[None, 5, 20, 100], min_impurity_decrease=[0.0, 0.05, 0.1],\n",
    "    bootstrap=[True, False], random_state=5, class_weight=['balanced', None])\n",
    "\n",
    "GradientBoostingClassifier(\n",
    "    loss=['deviance', 'exponential'], learning_rate=[0.05, 0.1, 0.2],\n",
    "    n_estimators=[100, 200, 400], min_samples_split=[2, 5, 10],\n",
    "    min_samples_leaf=[1, 5, 10], max_depth=[3, 6, 15], min_impurity_decrease=[0.0, 0.05, 0.10],\n",
    "    random_state=5, max_features=['auto', 'sqrt', 'log2'], max_leaf_nodes=[None, 5, 20, 100],\n",
    "    tol=[0.01, 0.001, 0.0001])\n",
    "\n",
    "IsolationForest(n_estimators=[100, 200, 400], contamination=[0.05, 0.1, 0.2, 'auto'],\n",
    "                max_features=[0.25, 0.5, 0.75, 1.0], bootstrap=[True, False],\n",
    "                behaviour=['old', 'new'], random_state=5)\n",
    "\n",
    "VotingClassifier(estimators=[], voting='soft', n_jobs=-1)"
   ]
  },
  {
   "cell_type": "code",
   "execution_count": 17,
   "metadata": {
    "ExecuteTime": {
     "end_time": "2019-01-06T02:19:55.443321Z",
     "start_time": "2019-01-06T02:19:55.421906Z"
    }
   },
   "outputs": [],
   "source": [
    "# from dummies_bins_test_train_cv import initial_df\n",
    "# from dummies_bins_test_train_cv import bin_df_get_y\n",
    "# from dummies_bins_test_train_cv import partial_df\n",
    "# from dummies_bins_test_train_cv import xy_custom\n",
    "\n",
    "# from col_info import all_cols\n",
    "\n",
    "from pandas import read_csv, DataFrame\n",
    "\n",
    "from sklearn.discriminant_analysis import LinearDiscriminantAnalysis\n",
    "\n",
    "from sklearn.ensemble import RandomForestClassifier\n",
    "from sklearn.ensemble import AdaBoostClassifier\n",
    "\n",
    "from sklearn.gaussian_process import GaussianProcessClassifier\n",
    "\n",
    "from sklearn.linear_model import LogisticRegression\n",
    "from sklearn.linear_model import RidgeClassifier\n",
    "from sklearn.linear_model import SGDClassifier\n",
    "\n",
    "from sklearn.metrics import *\n",
    "from sklearn.model_selection import cross_val_score\n",
    "\n",
    "from sklearn.neighbors import KNeighborsClassifier\n",
    "from random import randint"
   ]
  },
  {
   "cell_type": "code",
   "execution_count": 18,
   "metadata": {
    "ExecuteTime": {
     "end_time": "2019-01-06T02:20:05.006469Z",
     "start_time": "2019-01-06T02:19:55.911969Z"
    },
    "scrolled": true
   },
   "outputs": [],
   "source": [
    "from clean_chess_game_log import main_cleanup\n",
    "_, _, _ = main_cleanup('../data/dest.pgn')"
   ]
  },
  {
   "cell_type": "code",
   "execution_count": 15,
   "metadata": {
    "ExecuteTime": {
     "end_time": "2019-01-06T02:06:39.649639Z",
     "start_time": "2019-01-06T02:06:39.627901Z"
    }
   },
   "outputs": [
    {
     "ename": "NameError",
     "evalue": "name 'initial_df' is not defined",
     "output_type": "error",
     "traceback": [
      "\u001b[0;31m---------------------------------------------------------------------------\u001b[0m",
      "\u001b[0;31mNameError\u001b[0m                                 Traceback (most recent call last)",
      "\u001b[0;32m<ipython-input-15-6518720b5247>\u001b[0m in \u001b[0;36m<module>\u001b[0;34m\u001b[0m\n\u001b[0;32m----> 1\u001b[0;31m \u001b[0mdf\u001b[0m\u001b[0;34m,\u001b[0m \u001b[0mdf_len\u001b[0m \u001b[0;34m=\u001b[0m \u001b[0minitial_df\u001b[0m\u001b[0;34m(\u001b[0m\u001b[0;34m'../data/use_for_predictions.csv'\u001b[0m\u001b[0;34m)\u001b[0m\u001b[0;34m\u001b[0m\u001b[0;34m\u001b[0m\u001b[0m\n\u001b[0m",
      "\u001b[0;31mNameError\u001b[0m: name 'initial_df' is not defined"
     ]
    }
   ],
   "source": [
    "df, df_len = initial_df('../data/use_for_predictions.csv')"
   ]
  },
  {
   "cell_type": "code",
   "execution_count": 4,
   "metadata": {
    "ExecuteTime": {
     "end_time": "2018-12-14T23:41:58.934473Z",
     "start_time": "2018-12-14T23:41:58.912079Z"
    }
   },
   "outputs": [],
   "source": [
    "def get_df_splits_dict(df):\n",
    "    LDF = len(df)\n",
    "\n",
    "    sfr = int((LDF/4)*.2)\n",
    "    sfv = int((LDF/5)*.2)\n",
    "    ssx = int((LDF/6)*.2)\n",
    "    sght = int((LDF/8)*.2)\n",
    "    slvn = int((LDF/11)*.2)\n",
    "    sftn = int((LDF/15)*.2)\n",
    "    stwnt = int((LDF/20)*.2)\n",
    "\n",
    "    split_dict = {1/4: [sfr-(randint(6, 9)*i) for i in range(0,7)],\n",
    "                  1/5: [sfv-(randint(5, 7)*i) for i in range(0,7)],\n",
    "                  1/6: [ssx-(randint(3, 4)*i) for i in range(0,7)],\n",
    "                  1/8: [sght-(randint(2, 4)*i) for i in range(0,7)],\n",
    "                  1/11: [slvn-(randint(2, 3)*i) for i in range(0,7)],\n",
    "                  1/15: [sftn-(randint(1, 2)*i) for i in range(0,7)],\n",
    "                  1/20: [stwnt-(1*i) for i in range(0,7)]}\n",
    "    \n",
    "    return split_dict"
   ]
  },
  {
   "cell_type": "code",
   "execution_count": 5,
   "metadata": {
    "ExecuteTime": {
     "end_time": "2018-12-14T23:41:58.954452Z",
     "start_time": "2018-12-14T23:41:58.937491Z"
    }
   },
   "outputs": [],
   "source": [
    "# result_df = DataFrame(columns=['cols', 'df_split', 'test_split', 'cm', 'model'])"
   ]
  },
  {
   "cell_type": "markdown",
   "metadata": {},
   "source": [
    "## Linear Discriminant Analysis"
   ]
  },
  {
   "cell_type": "code",
   "execution_count": 6,
   "metadata": {
    "ExecuteTime": {
     "end_time": "2018-12-14T23:43:54.882702Z",
     "start_time": "2018-12-14T23:41:58.956581Z"
    },
    "scrolled": true
   },
   "outputs": [
    {
     "name": "stdout",
     "output_type": "stream",
     "text": [
      "{0.25: [110, 103, 98, 86, 82, 70, 56], 0.2: [88, 83, 78, 70, 64, 58, 46], 0.16666666666666666: [73, 69, 67, 64, 57, 53, 49], 0.125: [55, 52, 49, 46, 43, 45, 37], 0.09090909090909091: [40, 37, 34, 31, 28, 30, 22], 0.06666666666666667: [29, 28, 25, 23, 25, 24, 23], 0.05: [22, 21, 20, 19, 18, 17, 16]}\n",
      "0.25\n",
      "0.2\n",
      "0.1667\n",
      "0.125\n",
      "0.0909\n",
      "0.0667\n",
      "0.05\n",
      "6185\n"
     ]
    }
   ],
   "source": [
    "LDA_df = DataFrame(columns=['cols', 'df_split', 'test_split', 'cm', 'model'])\n",
    "split_dict = get_df_splits_dict(df)\n",
    "print(split_dict)\n",
    "for k, v in split_dict.items():\n",
    "    print(round(k, 4))\n",
    "    df_s = partial_df(df, k)\n",
    "    df_s, y = bin_df_get_y(df_s)\n",
    "    for i in v:\n",
    "        for clm in all_cols:\n",
    "            results = {}\n",
    "            X_train, X_test, y_train, y_test, X = xy_custom(df_s, y, i, clm)\n",
    "            LDA_clf = LinearDiscriminantAnalysis(solver='lsqr', shrinkage='auto'\n",
    "                                                 ).fit(X_train, y_train)\n",
    "            y_pred = LDA_clf.predict(X_test)\n",
    "            y_pred = (y_pred > 0.5)\n",
    "            cm = confusion_matrix(y_test, y_pred)\n",
    "            if (cm[0][0] + cm[1][0] > 0):\n",
    "                if (cm[0][1] + cm[1][1] > 0):\n",
    "                    if LDA_clf.score(X_test, y_test) >= .66:\n",
    "                        results['cols'] = clm\n",
    "                        results['df_split'] = round(k, 3)\n",
    "                        results['test_split'] = i\n",
    "                        results['cm'] = list(cm)\n",
    "                        results['model'] = 'LDA'\n",
    "                        LDA_df = LDA_df.append([results], ignore_index=True)\n",
    "print(len(LDA_df))\n",
    "LDA_df.to_csv('../data/LDA_results.csv', index=False)"
   ]
  },
  {
   "cell_type": "markdown",
   "metadata": {},
   "source": [
    "## Logistic Regression"
   ]
  },
  {
   "cell_type": "code",
   "execution_count": 7,
   "metadata": {
    "ExecuteTime": {
     "end_time": "2018-12-14T23:46:32.623608Z",
     "start_time": "2018-12-14T23:43:54.884516Z"
    },
    "scrolled": true
   },
   "outputs": [
    {
     "name": "stdout",
     "output_type": "stream",
     "text": [
      "{0.25: [110, 103, 92, 89, 82, 70, 74], 0.2: [88, 83, 78, 73, 60, 58, 52], 0.16666666666666666: [73, 70, 67, 61, 57, 53, 49], 0.125: [55, 53, 49, 49, 47, 35, 37], 0.09090909090909091: [40, 38, 34, 31, 28, 25, 28], 0.06666666666666667: [29, 27, 27, 26, 25, 24, 17], 0.05: [22, 21, 20, 19, 18, 17, 16]}\n",
      "0.25\n",
      "0.2\n",
      "0.1667\n",
      "0.125\n",
      "0.0909\n",
      "0.0667\n",
      "0.05\n",
      "7258\n"
     ]
    }
   ],
   "source": [
    "LRC_df = DataFrame(columns=['cols', 'df_split', 'test_split', 'cm', 'model'])\n",
    "split_dict = get_df_splits_dict(df)\n",
    "print(split_dict)\n",
    "for k, v in split_dict.items():\n",
    "    print(round(k, 4))\n",
    "    df_s = partial_df(df, k)\n",
    "    df_s, y = bin_df_get_y(df_s)\n",
    "    for i in v:\n",
    "        for clm in all_cols:\n",
    "            results = {}\n",
    "            X_train, X_test, y_train, y_test, X = xy_custom(df_s, y, i, clm)\n",
    "            lgst_reg_clf = LogisticRegression(penalty='l2', class_weight='balanced', random_state=8,\n",
    "                                              max_iter=5000, C=1e-3, solver='lbfgs',\n",
    "                                              multi_class='auto').fit(X_train, y_train)\n",
    "            y_pred = lgst_reg_clf.predict(X_test)\n",
    "            y_pred = (y_pred > 0.5)\n",
    "            cm = confusion_matrix(y_test, y_pred)\n",
    "            if (cm[0][0] + cm[1][0] > 0):\n",
    "                if (cm[0][1] + cm[1][1] > 0):\n",
    "                    if lgst_reg_clf.score(X_test, y_test) >= .66:\n",
    "                        results['cols'] = clm\n",
    "                        results['df_split'] = round(k, 3)\n",
    "                        results['test_split'] = i\n",
    "                        results['cm'] = list(cm)\n",
    "                        results['model'] = 'LRC'\n",
    "                        LRC_df = LRC_df.append([results], ignore_index=True)\n",
    "print(len(LRC_df))\n",
    "LRC_df.to_csv('../data/LRC_results.csv', index=False)"
   ]
  },
  {
   "cell_type": "markdown",
   "metadata": {},
   "source": [
    "## K Neighbors Classifier"
   ]
  },
  {
   "cell_type": "code",
   "execution_count": 8,
   "metadata": {
    "ExecuteTime": {
     "end_time": "2018-12-14T23:48:09.534171Z",
     "start_time": "2018-12-14T23:46:32.625348Z"
    },
    "scrolled": true
   },
   "outputs": [
    {
     "name": "stdout",
     "output_type": "stream",
     "text": [
      "{0.25: [110, 104, 96, 83, 78, 80, 68], 0.2: [88, 83, 78, 67, 60, 53, 46], 0.16666666666666666: [73, 70, 67, 64, 61, 53, 49], 0.125: [55, 51, 49, 49, 47, 35, 37], 0.09090909090909091: [40, 37, 34, 31, 28, 25, 28], 0.06666666666666667: [29, 27, 27, 26, 21, 19, 17], 0.05: [22, 21, 20, 19, 18, 17, 16]}\n",
      "0.25\n",
      "0.2\n",
      "0.1667\n",
      "0.125\n",
      "0.0909\n",
      "0.0667\n",
      "0.05\n",
      "7107\n"
     ]
    }
   ],
   "source": [
    "KNN_df = DataFrame(columns=['cols', 'df_split', 'test_split', 'cm', 'model'])\n",
    "split_dict = get_df_splits_dict(df)\n",
    "print(split_dict)\n",
    "for k, v in split_dict.items():\n",
    "    print(round(k, 4))\n",
    "    df_s = partial_df(df, k)\n",
    "    df_s, y = bin_df_get_y(df_s)\n",
    "    for i in v:\n",
    "        for clm in all_cols:\n",
    "            results = {}\n",
    "            X_train, X_test, y_train, y_test, X = xy_custom(df_s, y, i, clm)\n",
    "            KNN_clf = KNeighborsClassifier(n_neighbors=11, algorithm='auto',\n",
    "                                           leaf_size=int(len(df_s)*0.04),\n",
    "                                           metric='manhattan',\n",
    "                                           p=1).fit(X_train, y_train)\n",
    "            \n",
    "            y_pred = KNN_clf.predict(X_test)\n",
    "            y_pred = (y_pred > 0.5)\n",
    "            cm = confusion_matrix(y_test, y_pred)\n",
    "            \n",
    "            if (cm[0][0] + cm[1][0] > 1):\n",
    "                if (cm[0][1] + cm[1][1] > 1):\n",
    "                    if KNN_clf.score(X_test, y_test) >= .6:\n",
    "                        results['cols'] = clm\n",
    "                        results['df_split'] = round(k, 3)\n",
    "                        results['test_split'] = i\n",
    "                        results['cm'] = list(cm)\n",
    "                        results['model'] = 'KNN'\n",
    "                        KNN_df = KNN_df.append([results], ignore_index=True)\n",
    "print(len(KNN_df))\n",
    "KNN_df.to_csv('../data/KNN_results.csv', index=False)"
   ]
  },
  {
   "cell_type": "markdown",
   "metadata": {},
   "source": [
    "## SGD Classifier"
   ]
  },
  {
   "cell_type": "code",
   "execution_count": null,
   "metadata": {},
   "outputs": [],
   "source": []
  },
  {
   "cell_type": "code",
   "execution_count": 9,
   "metadata": {
    "ExecuteTime": {
     "end_time": "2018-12-14T23:51:54.683828Z",
     "start_time": "2018-12-14T23:48:09.535874Z"
    },
    "scrolled": true
   },
   "outputs": [
    {
     "name": "stdout",
     "output_type": "stream",
     "text": [
      "{0.25: [110, 102, 98, 89, 78, 70, 56], 0.2: [88, 83, 76, 70, 60, 58, 58], 0.16666666666666666: [73, 70, 65, 61, 57, 53, 49], 0.125: [55, 51, 47, 43, 47, 45, 43], 0.09090909090909091: [40, 38, 34, 31, 28, 30, 22], 0.06666666666666667: [29, 27, 27, 23, 25, 19, 23], 0.05: [22, 21, 20, 19, 18, 17, 16]}\n",
      "0.25\n",
      "0.2\n",
      "0.1667\n",
      "0.125\n",
      "0.0909\n",
      "0.0667\n",
      "0.05\n",
      "5249\n"
     ]
    }
   ],
   "source": [
    "SGD_df = DataFrame(columns=['cols', 'df_split', 'test_split', 'cm', 'model'])\n",
    "split_dict = get_df_splits_dict(df)\n",
    "print(split_dict)\n",
    "for k, v in split_dict.items():\n",
    "    print(round(k, 4))\n",
    "    df_s = partial_df(df, k)\n",
    "    df_s, y = bin_df_get_y(df_s)\n",
    "    for i in v:\n",
    "        for clm in all_cols:\n",
    "            results = {}\n",
    "            X_train, X_test, y_train, y_test, X = xy_custom(df_s, y, i, clm)\n",
    "            SGD_clf = SGDClassifier(loss='hinge', penalty='l2', max_iter=1e3,\n",
    "                                    shuffle=False, random_state=8,\n",
    "                                    class_weight='balanced').fit(X_train, y_train)\n",
    "            y_pred = SGD_clf.predict(X_test)\n",
    "            y_pred = (y_pred > 0.5)\n",
    "            cm = confusion_matrix(y_test, y_pred)\n",
    "            if (cm[0][0] + cm[1][0] > 0):\n",
    "                if (cm[0][1] + cm[1][1] > 0):\n",
    "                    if SGD_clf.score(X_test, y_test) >= .66:\n",
    "                        results['cols'] = clm\n",
    "                        results['df_split'] = round(k, 3)\n",
    "                        results['test_split'] = i\n",
    "                        results['cm'] = list(cm)\n",
    "                        results['model'] = 'SGD'\n",
    "                        SGD_df = SGD_df.append([results], ignore_index=True)\n",
    "print(len(SGD_df))\n",
    "SGD_df.to_csv('../data/SGD_results.csv', index=False)"
   ]
  },
  {
   "cell_type": "markdown",
   "metadata": {},
   "source": [
    "## Ridge Classifier"
   ]
  },
  {
   "cell_type": "code",
   "execution_count": 10,
   "metadata": {
    "ExecuteTime": {
     "end_time": "2018-12-14T23:54:03.401180Z",
     "start_time": "2018-12-14T23:51:54.685483Z"
    }
   },
   "outputs": [
    {
     "name": "stdout",
     "output_type": "stream",
     "text": [
      "{0.25: [110, 102, 98, 86, 86, 75, 62], 0.2: [88, 82, 74, 73, 68, 63, 46], 0.16666666666666666: [73, 70, 67, 64, 61, 58, 49], 0.125: [55, 53, 47, 43, 47, 45, 31], 0.09090909090909091: [40, 37, 34, 31, 32, 25, 28], 0.06666666666666667: [29, 27, 25, 23, 25, 24, 17], 0.05: [22, 21, 20, 19, 18, 17, 16]}\n",
      "0.25\n",
      "0.2\n",
      "0.1667\n",
      "0.125\n",
      "0.0909\n",
      "0.0667\n",
      "0.05\n",
      "6234\n"
     ]
    }
   ],
   "source": [
    "RDC_df = DataFrame(columns=['cols', 'df_split', 'test_split', 'cm', 'model'])\n",
    "split_dict = get_df_splits_dict(df)\n",
    "print(split_dict)\n",
    "for k, v in split_dict.items():\n",
    "    print(round(k, 4))\n",
    "    df_s = partial_df(df, k)\n",
    "    df_s, y = bin_df_get_y(df_s)\n",
    "    for i in v:\n",
    "        for clm in all_cols:\n",
    "            results = {}\n",
    "            X_train, X_test, y_train, y_test, X = xy_custom(df_s, y, i, clm)\n",
    "            ridge_clf = RidgeClassifier(class_weight='balanced', random_state=8\n",
    "                                        ).fit(X_train, y_train)\n",
    "            y_pred = ridge_clf.predict(X_test)\n",
    "            y_pred = (y_pred > 0.5)\n",
    "            cm = confusion_matrix(y_test, y_pred)\n",
    "            if (cm[0][0] + cm[1][0] > 1):\n",
    "                if (cm[0][1] + cm[1][1] > 1):\n",
    "                    if ridge_clf.score(X_test, y_test) >= .66:\n",
    "                        results['cols'] = clm\n",
    "                        results['df_split'] = round(k, 3)\n",
    "                        results['test_split'] = i\n",
    "                        results['cm'] = list(cm)\n",
    "                        results['model'] = 'RDG'\n",
    "                        RDC_df = RDC_df.append([results], ignore_index=True)\n",
    "print(len(RDC_df))\n",
    "RDC_df.to_csv('../data/RDC_results.csv', index=False)"
   ]
  },
  {
   "cell_type": "markdown",
   "metadata": {},
   "source": [
    "## Gaussian Process Classifier"
   ]
  },
  {
   "cell_type": "code",
   "execution_count": 11,
   "metadata": {
    "ExecuteTime": {
     "end_time": "2018-12-15T00:02:30.780590Z",
     "start_time": "2018-12-14T23:54:03.402930Z"
    },
    "scrolled": true
   },
   "outputs": [
    {
     "name": "stdout",
     "output_type": "stream",
     "text": [
      "{0.25: [110, 101, 94, 92, 74, 80, 68], 0.2: [88, 82, 74, 70, 60, 63, 46], 0.16666666666666666: [73, 69, 67, 64, 61, 58, 49], 0.125: [55, 51, 47, 49, 43, 35, 37], 0.09090909090909091: [40, 38, 34, 34, 32, 30, 28], 0.06666666666666667: [29, 28, 27, 26, 25, 19, 17], 0.05: [22, 21, 20, 19, 18, 17, 16]}\n",
      "0.25\n",
      "0.2\n",
      "0.1667\n",
      "0.125\n",
      "0.0909\n",
      "0.0667\n",
      "0.05\n",
      "2434\n"
     ]
    }
   ],
   "source": [
    "GPC_df = DataFrame(columns=['cols', 'df_split', 'test_split', 'cm', 'model'])\n",
    "split_dict = get_df_splits_dict(df)\n",
    "print(split_dict)\n",
    "for k, v in split_dict.items():\n",
    "    print(round(k, 4))\n",
    "    df_s = partial_df(df, k)\n",
    "    df_s, y = bin_df_get_y(df_s)\n",
    "    for i in v:\n",
    "        for clm in all_cols:\n",
    "            results = {}\n",
    "            X_train, X_test, y_train, y_test, X = xy_custom(df_s, y, i, clm)\n",
    "            gpc_rbf_clf = GaussianProcessClassifier(n_restarts_optimizer=10,\n",
    "                                                    random_state=9).fit(X_train, y_train)\n",
    "            y_pred = gpc_rbf_clf.predict(X_test)\n",
    "            y_pred = (y_pred > 0.5)\n",
    "            cm = confusion_matrix(y_test, y_pred)\n",
    "            if (cm[0][0] + cm[1][0] > 0):\n",
    "                if (cm[0][1] + cm[1][1] > 0):\n",
    "                    if gpc_rbf_clf.score(X_test, y_test) >= .66:\n",
    "                        results['cols'] = clm\n",
    "                        results['df_split'] = round(k, 3)\n",
    "                        results['test_split'] = i\n",
    "                        results['cm'] = list(cm)\n",
    "                        results['model'] = 'GPC'\n",
    "                        GPC_df = GPC_df.append([results], ignore_index=True)\n",
    "print(len(GPC_df))\n",
    "GPC_df.to_csv('../data/GPC_results.csv', index=False)"
   ]
  },
  {
   "cell_type": "markdown",
   "metadata": {},
   "source": [
    "## Random Forest Classifier"
   ]
  },
  {
   "cell_type": "code",
   "execution_count": 12,
   "metadata": {
    "ExecuteTime": {
     "end_time": "2018-12-15T00:16:26.203052Z",
     "start_time": "2018-12-15T00:02:30.785162Z"
    },
    "scrolled": true
   },
   "outputs": [
    {
     "name": "stdout",
     "output_type": "stream",
     "text": [
      "{0.25: [110, 102, 98, 83, 74, 75, 74], 0.2: [88, 82, 74, 70, 68, 63, 52], 0.16666666666666666: [73, 70, 67, 61, 61, 53, 49], 0.125: [55, 52, 47, 49, 43, 40, 37], 0.09090909090909091: [40, 38, 36, 31, 32, 30, 22], 0.06666666666666667: [29, 28, 25, 23, 21, 19, 17], 0.05: [22, 21, 20, 19, 18, 17, 16]}\n",
      "0.25\n",
      "0.2\n",
      "0.1667\n",
      "0.125\n",
      "0.0909\n",
      "0.0667\n",
      "0.05\n",
      "6477\n"
     ]
    }
   ],
   "source": [
    "RFC_df = DataFrame(columns=['cols', 'df_split', 'test_split', 'cm', 'model'])\n",
    "split_dict = get_df_splits_dict(df)\n",
    "print(split_dict)\n",
    "for k, v in split_dict.items():\n",
    "    print(round(k, 4))\n",
    "    df_s = partial_df(df, k)\n",
    "    df_s, y = bin_df_get_y(df_s)\n",
    "    for i in v:\n",
    "        for clm in all_cols:\n",
    "            results = {}\n",
    "            X_train, X_test, y_train, y_test, X = xy_custom(df_s, y, i, clm)\n",
    "            rand_frst_clf = RandomForestClassifier(n_estimators=100, criterion='entropy',\n",
    "                                                   min_samples_leaf=2, random_state=8,\n",
    "                                                   class_weight='balanced').fit(X_train, y_train)\n",
    "            y_pred = rand_frst_clf.predict(X_test)\n",
    "            y_pred = (y_pred > 0.5)\n",
    "            cm = confusion_matrix(y_test, y_pred)\n",
    "            if (cm[0][0] + cm[1][0] > 0):\n",
    "                if (cm[0][1] + cm[1][1] > 0):\n",
    "                    if rand_frst_clf.score(X_test, y_test) >= .66:\n",
    "                        results['cols'] = clm\n",
    "                        results['df_split'] = round(k, 3)\n",
    "                        results['test_split'] = i\n",
    "                        results['cm'] = list(cm)\n",
    "                        results['model'] = 'RFC'\n",
    "                        RFC_df = RFC_df.append([results], ignore_index=True)\n",
    "print(len(RFC_df))\n",
    "RFC_df.to_csv('../data/RFC_results.csv', index=False)"
   ]
  },
  {
   "cell_type": "markdown",
   "metadata": {},
   "source": [
    "## Ada Boost Classifier"
   ]
  },
  {
   "cell_type": "code",
   "execution_count": 13,
   "metadata": {
    "ExecuteTime": {
     "end_time": "2018-12-15T00:40:24.408396Z",
     "start_time": "2018-12-15T00:16:26.204889Z"
    },
    "scrolled": true
   },
   "outputs": [
    {
     "name": "stdout",
     "output_type": "stream",
     "text": [
      "{0.25: [110, 102, 98, 92, 74, 65, 68], 0.2: [88, 82, 76, 67, 60, 58, 46], 0.16666666666666666: [73, 69, 65, 61, 61, 53, 49], 0.125: [55, 52, 51, 46, 43, 40, 37], 0.09090909090909091: [40, 38, 36, 34, 32, 30, 28], 0.06666666666666667: [29, 28, 27, 23, 25, 19, 23], 0.05: [22, 21, 20, 19, 18, 17, 16]}\n",
      "0.25\n",
      "0.2\n",
      "0.1667\n",
      "0.125\n",
      "0.0909\n",
      "0.0667\n",
      "0.05\n",
      "6820\n"
     ]
    }
   ],
   "source": [
    "ABC_df = DataFrame(columns=['cols', 'df_split', 'test_split', 'cm', 'model'])\n",
    "split_dict = get_df_splits_dict(df)\n",
    "print(split_dict)\n",
    "for k, v in split_dict.items():\n",
    "    print(round(k, 4))\n",
    "    df_s = partial_df(df, k)\n",
    "    df_s, y = bin_df_get_y(df_s)\n",
    "    for i in v:\n",
    "        for clm in all_cols:\n",
    "            results = {}\n",
    "            X_train, X_test, y_train, y_test, X = xy_custom(df_s, y, i, clm)\n",
    "            ada_clf = AdaBoostClassifier(n_estimators=150, learning_rate=0.01,\n",
    "                                         random_state=8).fit(X_train, y_train)\n",
    "            y_pred = ada_clf.predict(X_test)\n",
    "            y_pred = (y_pred > 0.5)\n",
    "            cm = confusion_matrix(y_test, y_pred)\n",
    "            if (cm[0][0] + cm[1][0] > 0):\n",
    "                if (cm[0][1] + cm[1][1] > 0):\n",
    "                    if ada_clf.score(X_test, y_test) >= .66:\n",
    "                        results['cols'] = clm\n",
    "                        results['df_split'] = round(k, 3)\n",
    "                        results['test_split'] = i\n",
    "                        results['cm'] = list(cm)\n",
    "                        results['model'] = 'ABC'\n",
    "                        ABC_df = ABC_df.append([results], ignore_index=True)\n",
    "print(len(ABC_df))\n",
    "ABC_df.to_csv('../data/ABC_results.csv', index=False)"
   ]
  },
  {
   "cell_type": "code",
   "execution_count": null,
   "metadata": {},
   "outputs": [],
   "source": []
  }
 ],
 "metadata": {
  "kernelspec": {
   "display_name": "Python 3",
   "language": "python",
   "name": "python3"
  },
  "language_info": {
   "codemirror_mode": {
    "name": "ipython",
    "version": 3
   },
   "file_extension": ".py",
   "mimetype": "text/x-python",
   "name": "python",
   "nbconvert_exporter": "python",
   "pygments_lexer": "ipython3",
   "version": "3.7.3"
  },
  "latex_envs": {
   "LaTeX_envs_menu_present": false,
   "autoclose": false,
   "autocomplete": true,
   "bibliofile": "biblio.bib",
   "cite_by": "apalike",
   "current_citInitial": 1,
   "eqLabelWithNumbers": true,
   "eqNumInitial": 1,
   "hotkeys": {
    "equation": "Ctrl-E",
    "itemize": "Ctrl-I"
   },
   "labels_anchors": false,
   "latex_user_defs": false,
   "report_style_numbering": false,
   "user_envs_cfg": false
  }
 },
 "nbformat": 4,
 "nbformat_minor": 2
}
