{
 "cells": [
  {
   "cell_type": "code",
   "execution_count": 1,
   "metadata": {
    "ExecuteTime": {
     "end_time": "2019-04-11T00:57:14.872133Z",
     "start_time": "2019-04-11T00:57:13.893610Z"
    }
   },
   "outputs": [],
   "source": [
    "from pandas import read_csv\n",
    "from sklearn.ensemble import RandomForestClassifier\n",
    "from sklearn.model_selection import train_test_split\n",
    "from sklearn.metrics import classification_report, confusion_matrix, roc_auc_score\n",
    "from sklearn.preprocessing import MaxAbsScaler\n",
    "from sklearn.feature_selection import SelectPercentile, f_classif\n",
    "import statsmodels.api as sm\n",
    "from scipy import stats"
   ]
  },
  {
   "cell_type": "code",
   "execution_count": 2,
   "metadata": {
    "ExecuteTime": {
     "end_time": "2019-04-11T00:57:14.895940Z",
     "start_time": "2019-04-11T00:57:14.874084Z"
    }
   },
   "outputs": [],
   "source": [
    "df = read_csv('../data/use_for_predictions.csv')\n",
    "df = df[df['result'] != 0.5]"
   ]
  },
  {
   "cell_type": "code",
   "execution_count": 3,
   "metadata": {
    "ExecuteTime": {
     "end_time": "2019-04-11T00:57:14.917069Z",
     "start_time": "2019-04-11T00:57:14.898174Z"
    }
   },
   "outputs": [],
   "source": [
    "y = df['result'].values\n",
    "X = df.drop(columns=['result', 'day', 'day_game_num', 'weekday', 'elo', 'start_time']).values"
   ]
  },
  {
   "cell_type": "code",
   "execution_count": 4,
   "metadata": {
    "ExecuteTime": {
     "end_time": "2019-04-11T00:57:15.124581Z",
     "start_time": "2019-04-11T00:57:15.077210Z"
    }
   },
   "outputs": [],
   "source": [
    "X_train, X_test, y_train, y_test = train_test_split(X, y, test_size=0.05, random_state=5, shuffle=False)\n",
    "mmx = MaxAbsScaler().fit(X_train)\n",
    "X_train = mmx.transform(X_train)\n",
    "X_test = mmx.transform(X_test)"
   ]
  },
  {
   "cell_type": "code",
   "execution_count": 5,
   "metadata": {
    "ExecuteTime": {
     "end_time": "2019-04-11T00:57:16.167160Z",
     "start_time": "2019-04-11T00:57:15.294835Z"
    }
   },
   "outputs": [],
   "source": [
    "model = RandomForestClassifier(n_estimators=500, max_depth=10,\n",
    "                               n_jobs=-1)\n",
    "model.fit(X_train, y_train)\n",
    "y_pred = model.predict(X_test)"
   ]
  },
  {
   "cell_type": "code",
   "execution_count": 6,
   "metadata": {
    "ExecuteTime": {
     "end_time": "2019-04-11T00:57:16.192005Z",
     "start_time": "2019-04-11T00:57:16.172184Z"
    }
   },
   "outputs": [
    {
     "name": "stdout",
     "output_type": "stream",
     "text": [
      "              precision    recall  f1-score   support\n",
      "\n",
      "         0.0       0.64      0.89      0.74        63\n",
      "         1.0       0.82      0.49      0.61        63\n",
      "\n",
      "   micro avg       0.69      0.69      0.69       126\n",
      "   macro avg       0.73      0.69      0.68       126\n",
      "weighted avg       0.73      0.69      0.68       126\n",
      "\n",
      "[[56  7]\n",
      " [32 31]]\n"
     ]
    }
   ],
   "source": [
    "print(classification_report(y_test, y_pred))\n",
    "print(confusion_matrix(y_test, y_pred))"
   ]
  },
  {
   "cell_type": "code",
   "execution_count": 7,
   "metadata": {
    "ExecuteTime": {
     "end_time": "2019-04-11T00:57:16.313744Z",
     "start_time": "2019-04-11T00:57:16.193697Z"
    }
   },
   "outputs": [
    {
     "name": "stdout",
     "output_type": "stream",
     "text": [
      "73.38\n"
     ]
    }
   ],
   "source": [
    "y_pred = model.predict_proba(X_test)\n",
    "print(round(roc_auc_score(y_test, y_pred[:, 1])*100, 2))"
   ]
  },
  {
   "cell_type": "code",
   "execution_count": 8,
   "metadata": {
    "ExecuteTime": {
     "end_time": "2019-04-11T00:57:17.058222Z",
     "start_time": "2019-04-11T00:57:16.931487Z"
    }
   },
   "outputs": [
    {
     "data": {
      "text/plain": [
       "array([0.59864423, 0.33994334, 0.03509844, 0.02631399])"
      ]
     },
     "execution_count": 8,
     "metadata": {},
     "output_type": "execute_result"
    }
   ],
   "source": [
    "model.feature_importances_"
   ]
  },
  {
   "cell_type": "code",
   "execution_count": 9,
   "metadata": {
    "ExecuteTime": {
     "end_time": "2019-04-11T00:57:18.495166Z",
     "start_time": "2019-04-11T00:57:18.456183Z"
    }
   },
   "outputs": [
    {
     "name": "stdout",
     "output_type": "stream",
     "text": [
      "Optimization terminated successfully.\n",
      "         Current function value: 0.582180\n",
      "         Iterations 7\n",
      "                           Logit Regression Results                           \n",
      "==============================================================================\n",
      "Dep. Variable:                      y   No. Observations:                 2514\n",
      "Model:                          Logit   Df Residuals:                     2510\n",
      "Method:                           MLE   Df Model:                            3\n",
      "Date:                Wed, 10 Apr 2019   Pseudo R-squ.:                  0.1601\n",
      "Time:                        17:57:18   Log-Likelihood:                -1463.6\n",
      "converged:                       True   LL-Null:                       -1742.5\n",
      "                                        LLR p-value:                1.389e-120\n",
      "==============================================================================\n",
      "                 coef    std err          z      P>|z|      [0.025      0.975]\n",
      "------------------------------------------------------------------------------\n",
      "x1             0.0187      0.001     17.041      0.000       0.017       0.021\n",
      "x2            -0.0006      0.000     -2.999      0.003      -0.001      -0.000\n",
      "x3             0.0008      0.000      2.377      0.017       0.000       0.001\n",
      "x4             0.3318      0.089      3.737      0.000       0.158       0.506\n",
      "==============================================================================\n"
     ]
    }
   ],
   "source": [
    "est = sm.Logit(y, X)\n",
    "est2 = est.fit(maxiter=3500)\n",
    "print(est2.summary())"
   ]
  },
  {
   "cell_type": "code",
   "execution_count": 10,
   "metadata": {
    "ExecuteTime": {
     "end_time": "2019-04-11T00:57:19.365585Z",
     "start_time": "2019-04-11T00:57:19.345804Z"
    }
   },
   "outputs": [
    {
     "name": "stdout",
     "output_type": "stream",
     "text": [
      "[1.26919956e-68 2.43730194e-41 3.86856974e-06 6.62896057e-03]\n",
      "[326.04166139 188.11362772  21.42397691   7.38314543]\n"
     ]
    }
   ],
   "source": [
    "fs = SelectPercentile(f_classif, 10).fit(X, y)\n",
    "print(fs.pvalues_)\n",
    "print(fs.scores_)"
   ]
  },
  {
   "cell_type": "code",
   "execution_count": null,
   "metadata": {},
   "outputs": [],
   "source": []
  },
  {
   "cell_type": "code",
   "execution_count": null,
   "metadata": {},
   "outputs": [],
   "source": []
  }
 ],
 "metadata": {
  "kernelspec": {
   "display_name": "Python 3",
   "language": "python",
   "name": "python3"
  },
  "language_info": {
   "codemirror_mode": {
    "name": "ipython",
    "version": 3
   },
   "file_extension": ".py",
   "mimetype": "text/x-python",
   "name": "python",
   "nbconvert_exporter": "python",
   "pygments_lexer": "ipython3",
   "version": "3.7.3"
  },
  "latex_envs": {
   "LaTeX_envs_menu_present": true,
   "autoclose": false,
   "autocomplete": true,
   "bibliofile": "biblio.bib",
   "cite_by": "apalike",
   "current_citInitial": 1,
   "eqLabelWithNumbers": true,
   "eqNumInitial": 1,
   "hotkeys": {
    "equation": "Ctrl-E",
    "itemize": "Ctrl-I"
   },
   "labels_anchors": false,
   "latex_user_defs": false,
   "report_style_numbering": false,
   "user_envs_cfg": false
  }
 },
 "nbformat": 4,
 "nbformat_minor": 2
}
