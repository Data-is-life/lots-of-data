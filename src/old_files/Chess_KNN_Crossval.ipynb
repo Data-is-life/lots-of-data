{
 "cells": [
  {
   "cell_type": "code",
   "execution_count": 15,
   "metadata": {},
   "outputs": [],
   "source": [
    "import pandas as pd\n",
    "import numpy as np\n",
    "import seaborn as sns\n",
    "from math import sqrt\n",
    "import random\n",
    "\n",
    "import matplotlib.pyplot as plt\n",
    "%matplotlib inline\n",
    "\n",
    "from sklearn.neighbors import KNeighborsRegressor\n",
    "from sklearn.model_selection import KFold, train_test_split, cross_val_score\n",
    "from sklearn import preprocessing, svm\n",
    "from sklearn.metrics import confusion_matrix, accuracy_score, mean_squared_error\n",
    "from sklearn.linear_model import LinearRegression, LogisticRegression\n",
    "from sklearn.model_selection import train_test_split"
   ]
  },
  {
   "cell_type": "code",
   "execution_count": 16,
   "metadata": {},
   "outputs": [],
   "source": [
    "cdf = pd.read_csv('ddf_final_without_scores.csv')\n",
    "cdf = cdf[['result', 'diff', 'color', 'game_time', 'elo', \n",
    "           'opp_elo', 'start_time', 'weekday', 'day']]\n",
    "#cdf = cdf[cdf['result']!=0.5]"
   ]
  },
  {
   "cell_type": "code",
   "execution_count": 17,
   "metadata": {},
   "outputs": [],
   "source": [
    "X = np.array(cdf.drop(['result'],1))\n",
    "y = np.array(cdf['result'])"
   ]
  },
  {
   "cell_type": "code",
   "execution_count": 18,
   "metadata": {},
   "outputs": [],
   "source": [
    "X_train, X_test, y_train, y_test = train_test_split(X, y, test_size=0.25)"
   ]
  },
  {
   "cell_type": "code",
   "execution_count": 19,
   "metadata": {},
   "outputs": [
    {
     "data": {
      "text/plain": [
       "KNeighborsRegressor(algorithm='auto', leaf_size=30, metric='minkowski',\n",
       "          metric_params=None, n_jobs=1, n_neighbors=5, p=2,\n",
       "          weights='uniform')"
      ]
     },
     "execution_count": 19,
     "metadata": {},
     "output_type": "execute_result"
    }
   ],
   "source": [
    "knr = KNeighborsRegressor()\n",
    "knr.fit(X_train, y_train)"
   ]
  },
  {
   "cell_type": "code",
   "execution_count": 20,
   "metadata": {},
   "outputs": [],
   "source": [
    "# Fit your model using the training set\n",
    "knr = KNeighborsRegressor()\n",
    "knr.fit(X_train, y_train)\n",
    "\n",
    "# Call predict to get the predicted values for training and test set\n",
    "train_predicted = knr.predict(X_train)\n",
    "test_predicted = knr.predict(X_test)"
   ]
  },
  {
   "cell_type": "code",
   "execution_count": 21,
   "metadata": {},
   "outputs": [
    {
     "data": {
      "text/plain": [
       "0.4026735870393228"
      ]
     },
     "execution_count": 21,
     "metadata": {},
     "output_type": "execute_result"
    }
   ],
   "source": [
    "def rmse(predictions, targets):\n",
    "\n",
    "    differences = predictions - targets            \n",
    "    differences_squared = differences ** 2                   \n",
    "    mean_of_differences_squared = differences_squared.mean()  \n",
    "    rmse_val = np.sqrt(mean_of_differences_squared)           \n",
    "    return rmse_val\n",
    "\n",
    "rmse(y_train, train_predicted)"
   ]
  },
  {
   "cell_type": "code",
   "execution_count": 24,
   "metadata": {},
   "outputs": [
    {
     "data": {
      "text/plain": [
       "0.4026735870393228"
      ]
     },
     "execution_count": 24,
     "metadata": {},
     "output_type": "execute_result"
    }
   ],
   "source": [
    "mean_squared_error(y_train, train_predicted)**.5"
   ]
  },
  {
   "cell_type": "code",
   "execution_count": 25,
   "metadata": {},
   "outputs": [
    {
     "name": "stdout",
     "output_type": "stream",
     "text": [
      "0.4026735870393228 0.4947405501073566\n"
     ]
    }
   ],
   "source": [
    "training_rmse = rmse(y_train, train_predicted)\n",
    "testing_rmse = rmse(y_test, test_predicted)\n",
    "\n",
    "print(training_rmse, testing_rmse)"
   ]
  },
  {
   "cell_type": "code",
   "execution_count": 26,
   "metadata": {},
   "outputs": [
    {
     "data": {
      "text/plain": [
       "0.5006566457105193"
      ]
     },
     "execution_count": 26,
     "metadata": {},
     "output_type": "execute_result"
    }
   ],
   "source": [
    "def crossVal(X_train, y_train, k=5):\n",
    "    kf = KFold(n_splits=k)\n",
    "    splits = kf.split(X_train, y_train)\n",
    "    split_rmse = []\n",
    "    \n",
    "    for train_index, test_index in splits:\n",
    "\n",
    "        fold_training_X = X_train[train_index]\n",
    "        fold_training_Y = y_train[train_index]\n",
    "        fold_testing_X = X_train[test_index]\n",
    "        fold_testing_Y = y_train[test_index]\n",
    "        \n",
    "        knr = KNeighborsRegressor()\n",
    "        knr.fit(fold_training_X, fold_training_Y)\n",
    "        predictions = knr.predict(fold_testing_X)\n",
    "        \n",
    "        split_rmse.append(rmse(predictions, fold_testing_Y))\n",
    "    \n",
    "    return np.mean(split_rmse)\n",
    "    \n",
    "crossVal(X_train, y_train)"
   ]
  },
  {
   "cell_type": "code",
   "execution_count": 31,
   "metadata": {},
   "outputs": [],
   "source": [
    "output = []\n",
    "sizes = []\n",
    "for size in [.1, .15, .2, .25, .3, .35, .4, .45, .5, .55, .60, .65, .70, .75, .8, .85, .9, .95, 1]:\n",
    "    X_train, X_test, y_train, y_test = train_test_split(X, y, test_size=size)\n",
    "    output.append(crossVal(X_train, y_train))\n",
    "    sizes.append(size)\n",
    "\n",
    "remse_values = list(zip(sizes, output))"
   ]
  },
  {
   "cell_type": "code",
   "execution_count": 32,
   "metadata": {},
   "outputs": [
    {
     "data": {
      "image/png": "[encoded data removed]",
      "text/plain": [
       "<Figure size 432x288 with 1 Axes>"
      ]
     },
     "metadata": {},
     "output_type": "display_data"
    }
   ],
   "source": [
    "plt.plot(sizes, output)\n",
    "plt.xlabel('Testing Set Size')\n",
    "plt.ylabel('RMSE')\n",
    "plt.show()"
   ]
  },
  {
   "cell_type": "code",
   "execution_count": 33,
   "metadata": {},
   "outputs": [],
   "source": [
    "def crossVal(X_train, y_train):\n",
    "    knr = KNeighborsRegressor()\n",
    "    knr.fit(X_train, y_train)\n",
    "    train_predicted = knr.predict(X_train)\n",
    "    test_predicted = knr.predict(X_test)"
   ]
  },
  {
   "cell_type": "code",
   "execution_count": 35,
   "metadata": {},
   "outputs": [],
   "source": [
    "kf = KFold(n_splits=4, random_state=1, shuffle=True)"
   ]
  },
  {
   "cell_type": "code",
   "execution_count": 38,
   "metadata": {},
   "outputs": [
    {
     "name": "stdout",
     "output_type": "stream",
     "text": [
      "TRAIN:0l [   1    2    4 ... 1805 1807 1808] TEST: [   0    3    8   19   22   30   37   39   40   47   48   49   51   53\n",
      "   56   58   60   65   75   80   81   82   91   94   98  101  102  104\n",
      "  107  108  111  115  119  120  126  133  140  158  161  167  169  177\n",
      "  181  186  190  194  201  202  204  208  223  227  228  231  236  241\n",
      "  248  255  258  259  264  267  268  270  275  281  282  283  285  286\n",
      "  288  292  293  297  299  301  302  303  304  305  309  325  330  331\n",
      "  335  336  341  348  351  361  366  368  372  375  382  385  386  389\n",
      "  396  400  403  406  408  418  421  424  428  432  434  435  442  446\n",
      "  447  453  462  464  478  480  486  507  510  512  525  527  528  531\n",
      "  534  535  536  546  553  555  556  563  571  573  577  587  592  593\n",
      "  596  598  599  602  607  612  613  619  620  622  631  632  634  640\n",
      "  643  644  649  650  653  654  655  659  664  669  671  672  674  679\n",
      "  683  693  697  698  700  702  703  708  713  718  725  729  733  736\n",
      "  737  745  750  759  764  767  768  769  778  779  786  789  791  801\n",
      "  804  808  810  812  819  820  821  823  826  827  828  839  857  859\n",
      "  861  863  868  870  881  888  890  891  893  895  900  902  904  913\n",
      "  916  922  931  942  943  955  957  962  966  969  979  983  984  986\n",
      "  987  990  994  995  997 1004 1008 1011 1013 1014 1017 1026 1035 1038\n",
      " 1041 1053 1071 1073 1074 1078 1080 1083 1085 1087 1089 1092 1097 1102\n",
      " 1104 1116 1119 1123 1124 1127 1128 1129 1141 1144 1145 1147 1156 1157\n",
      " 1163 1166 1177 1178 1179 1180 1196 1205 1206 1208 1209 1210 1211 1218\n",
      " 1220 1221 1225 1227 1231 1234 1238 1245 1250 1252 1264 1268 1269 1271\n",
      " 1273 1276 1282 1285 1286 1292 1301 1302 1304 1309 1310 1313 1317 1322\n",
      " 1328 1330 1334 1335 1336 1352 1357 1358 1363 1364 1367 1368 1369 1371\n",
      " 1373 1374 1376 1378 1386 1390 1394 1395 1399 1400 1403 1406 1407 1409\n",
      " 1412 1413 1416 1418 1422 1427 1439 1440 1441 1443 1444 1451 1452 1457\n",
      " 1458 1461 1466 1467 1470 1474 1475 1477 1479 1484 1491 1494 1498 1499\n",
      " 1501 1506 1509 1510 1512 1520 1522 1525 1530 1531 1537 1539 1541 1545\n",
      " 1546 1549 1567 1574 1575 1587 1588 1589 1597 1601 1611 1614 1615 1620\n",
      " 1622 1625 1628 1636 1639 1641 1643 1648 1650 1651 1655 1656 1657 1661\n",
      " 1670 1673 1680 1681 1685 1688 1696 1697 1702 1705 1708 1709 1718 1721\n",
      " 1725 1732 1734 1743 1747 1751 1757 1759 1769 1774 1782 1785 1787 1793\n",
      " 1794 1795 1796 1801 1806]\n"
     ]
    },
    {
     "ename": "ValueError",
     "evalue": "Found input variables with inconsistent numbers of samples: [453, 1356]",
     "output_type": "error",
     "traceback": [
      "\u001b[0;31m---------------------------------------------------------------------------\u001b[0m",
      "\u001b[0;31mValueError\u001b[0m                                Traceback (most recent call last)",
      "\u001b[0;32m<ipython-input-38-1ca7c7c2ded7>\u001b[0m in \u001b[0;36m<module>\u001b[0;34m()\u001b[0m\n\u001b[1;32m      4\u001b[0m     \u001b[0mX_train\u001b[0m\u001b[0;34m,\u001b[0m \u001b[0mX_test\u001b[0m \u001b[0;34m=\u001b[0m \u001b[0mX\u001b[0m\u001b[0;34m[\u001b[0m\u001b[0mtrain_index\u001b[0m\u001b[0;34m]\u001b[0m\u001b[0;34m,\u001b[0m \u001b[0mX\u001b[0m\u001b[0;34m[\u001b[0m\u001b[0mtest_index\u001b[0m\u001b[0;34m]\u001b[0m\u001b[0;34m\u001b[0m\u001b[0m\n\u001b[1;32m      5\u001b[0m     \u001b[0my_train\u001b[0m\u001b[0;34m,\u001b[0m \u001b[0my_test\u001b[0m \u001b[0;34m=\u001b[0m \u001b[0my\u001b[0m\u001b[0;34m[\u001b[0m\u001b[0mtrain_index\u001b[0m\u001b[0;34m]\u001b[0m\u001b[0;34m,\u001b[0m \u001b[0my\u001b[0m\u001b[0;34m[\u001b[0m\u001b[0mtest_index\u001b[0m\u001b[0;34m]\u001b[0m\u001b[0;34m\u001b[0m\u001b[0m\n\u001b[0;32m----> 6\u001b[0;31m     \u001b[0mrmse\u001b[0m\u001b[0;34m.\u001b[0m\u001b[0mappend\u001b[0m\u001b[0;34m(\u001b[0m\u001b[0msqrt\u001b[0m\u001b[0;34m(\u001b[0m\u001b[0mmean_squared_error\u001b[0m\u001b[0;34m(\u001b[0m\u001b[0mX_test\u001b[0m\u001b[0;34m,\u001b[0m \u001b[0mX_train\u001b[0m\u001b[0;34m)\u001b[0m\u001b[0;34m)\u001b[0m\u001b[0;34m)\u001b[0m\u001b[0;34m\u001b[0m\u001b[0m\n\u001b[0m\u001b[1;32m      7\u001b[0m \u001b[0;32mreturn\u001b[0m \u001b[0mrmse\u001b[0m\u001b[0;34m\u001b[0m\u001b[0m\n",
      "\u001b[0;32m~/anaconda3/lib/python3.6/site-packages/sklearn/metrics/regression.py\u001b[0m in \u001b[0;36mmean_squared_error\u001b[0;34m(y_true, y_pred, sample_weight, multioutput)\u001b[0m\n\u001b[1;32m    236\u001b[0m     \"\"\"\n\u001b[1;32m    237\u001b[0m     y_type, y_true, y_pred, multioutput = _check_reg_targets(\n\u001b[0;32m--> 238\u001b[0;31m         y_true, y_pred, multioutput)\n\u001b[0m\u001b[1;32m    239\u001b[0m     output_errors = np.average((y_true - y_pred) ** 2, axis=0,\n\u001b[1;32m    240\u001b[0m                                weights=sample_weight)\n",
      "\u001b[0;32m~/anaconda3/lib/python3.6/site-packages/sklearn/metrics/regression.py\u001b[0m in \u001b[0;36m_check_reg_targets\u001b[0;34m(y_true, y_pred, multioutput)\u001b[0m\n\u001b[1;32m     73\u001b[0m \u001b[0;34m\u001b[0m\u001b[0m\n\u001b[1;32m     74\u001b[0m     \"\"\"\n\u001b[0;32m---> 75\u001b[0;31m     \u001b[0mcheck_consistent_length\u001b[0m\u001b[0;34m(\u001b[0m\u001b[0my_true\u001b[0m\u001b[0;34m,\u001b[0m \u001b[0my_pred\u001b[0m\u001b[0;34m)\u001b[0m\u001b[0;34m\u001b[0m\u001b[0m\n\u001b[0m\u001b[1;32m     76\u001b[0m     \u001b[0my_true\u001b[0m \u001b[0;34m=\u001b[0m \u001b[0mcheck_array\u001b[0m\u001b[0;34m(\u001b[0m\u001b[0my_true\u001b[0m\u001b[0;34m,\u001b[0m \u001b[0mensure_2d\u001b[0m\u001b[0;34m=\u001b[0m\u001b[0;32mFalse\u001b[0m\u001b[0;34m)\u001b[0m\u001b[0;34m\u001b[0m\u001b[0m\n\u001b[1;32m     77\u001b[0m     \u001b[0my_pred\u001b[0m \u001b[0;34m=\u001b[0m \u001b[0mcheck_array\u001b[0m\u001b[0;34m(\u001b[0m\u001b[0my_pred\u001b[0m\u001b[0;34m,\u001b[0m \u001b[0mensure_2d\u001b[0m\u001b[0;34m=\u001b[0m\u001b[0;32mFalse\u001b[0m\u001b[0;34m)\u001b[0m\u001b[0;34m\u001b[0m\u001b[0m\n",
      "\u001b[0;32m~/anaconda3/lib/python3.6/site-packages/sklearn/utils/validation.py\u001b[0m in \u001b[0;36mcheck_consistent_length\u001b[0;34m(*arrays)\u001b[0m\n\u001b[1;32m    202\u001b[0m     \u001b[0;32mif\u001b[0m \u001b[0mlen\u001b[0m\u001b[0;34m(\u001b[0m\u001b[0muniques\u001b[0m\u001b[0;34m)\u001b[0m \u001b[0;34m>\u001b[0m \u001b[0;36m1\u001b[0m\u001b[0;34m:\u001b[0m\u001b[0;34m\u001b[0m\u001b[0m\n\u001b[1;32m    203\u001b[0m         raise ValueError(\"Found input variables with inconsistent numbers of\"\n\u001b[0;32m--> 204\u001b[0;31m                          \" samples: %r\" % [int(l) for l in lengths])\n\u001b[0m\u001b[1;32m    205\u001b[0m \u001b[0;34m\u001b[0m\u001b[0m\n\u001b[1;32m    206\u001b[0m \u001b[0;34m\u001b[0m\u001b[0m\n",
      "\u001b[0;31mValueError\u001b[0m: Found input variables with inconsistent numbers of samples: [453, 1356]"
     ]
    }
   ],
   "source": [
    "rmse = []\n",
    "for train_index, test_index in kf.split(X):\n",
    "    print(\"TRAIN:0l\", train_index, \"TEST:\", test_index)\n",
    "    X_train, X_test = X[train_index], X[test_index]\n",
    "    y_train, y_test = y[train_index], y[test_index]\n",
    "    rmse.append(sqrt(mean_squared_error(X_test, X_train)))\n",
    "return rmse"
   ]
  },
  {
   "cell_type": "code",
   "execution_count": null,
   "metadata": {},
   "outputs": [],
   "source": []
  },
  {
   "cell_type": "code",
   "execution_count": null,
   "metadata": {},
   "outputs": [],
   "source": []
  },
  {
   "cell_type": "code",
   "execution_count": null,
   "metadata": {},
   "outputs": [],
   "source": []
  },
  {
   "cell_type": "code",
   "execution_count": null,
   "metadata": {},
   "outputs": [],
   "source": []
  },
  {
   "cell_type": "code",
   "execution_count": null,
   "metadata": {},
   "outputs": [],
   "source": []
  },
  {
   "cell_type": "code",
   "execution_count": null,
   "metadata": {},
   "outputs": [],
   "source": []
  },
  {
   "cell_type": "code",
   "execution_count": null,
   "metadata": {},
   "outputs": [],
   "source": []
  },
  {
   "cell_type": "code",
   "execution_count": null,
   "metadata": {},
   "outputs": [],
   "source": []
  },
  {
   "cell_type": "code",
   "execution_count": null,
   "metadata": {},
   "outputs": [],
   "source": []
  },
  {
   "cell_type": "code",
   "execution_count": null,
   "metadata": {},
   "outputs": [],
   "source": []
  },
  {
   "cell_type": "code",
   "execution_count": null,
   "metadata": {},
   "outputs": [],
   "source": []
  },
  {
   "cell_type": "code",
   "execution_count": null,
   "metadata": {},
   "outputs": [],
   "source": []
  },
  {
   "cell_type": "code",
   "execution_count": null,
   "metadata": {},
   "outputs": [],
   "source": []
  },
  {
   "cell_type": "code",
   "execution_count": null,
   "metadata": {},
   "outputs": [],
   "source": []
  },
  {
   "cell_type": "code",
   "execution_count": null,
   "metadata": {},
   "outputs": [],
   "source": []
  },
  {
   "cell_type": "code",
   "execution_count": 360,
   "metadata": {},
   "outputs": [],
   "source": [
    "X = preprocessing.scale(X)"
   ]
  },
  {
   "cell_type": "code",
   "execution_count": 361,
   "metadata": {},
   "outputs": [],
   "source": [
    "X_train, X_test, y_train, y_test = train_test_split(X, y, test_size=0.3)"
   ]
  },
  {
   "cell_type": "code",
   "execution_count": 362,
   "metadata": {},
   "outputs": [
    {
     "data": {
      "text/plain": [
       "LinearRegression(copy_X=True, fit_intercept=True, n_jobs=4, normalize=False)"
      ]
     },
     "execution_count": 362,
     "metadata": {},
     "output_type": "execute_result"
    }
   ],
   "source": [
    "clf = LinearRegression(n_jobs=4)\n",
    "#clf = svm.SVR(kernel='poly')\n",
    "#clf = neighbors.KNeighborsClassifier()\n",
    "clf.fit(X_train, y_train)"
   ]
  },
  {
   "cell_type": "code",
   "execution_count": 363,
   "metadata": {},
   "outputs": [
    {
     "data": {
      "text/plain": [
       "0.1446356706111247"
      ]
     },
     "execution_count": 363,
     "metadata": {},
     "output_type": "execute_result"
    }
   ],
   "source": [
    "accuracy = clf.score(X_test, y_test)\n",
    "accuracy"
   ]
  },
  {
   "cell_type": "code",
   "execution_count": 365,
   "metadata": {},
   "outputs": [],
   "source": [
    "forecast_set = clf.predict(X_test)"
   ]
  },
  {
   "cell_type": "code",
   "execution_count": 366,
   "metadata": {},
   "outputs": [
    {
     "data": {
      "text/plain": [
       "array([ 0.65256515,  0.45079628,  0.45251988,  0.49043919,  0.33631725,\n",
       "        0.51812399,  0.39736453,  0.45196215,  0.5250184 ,  0.14165704,\n",
       "        0.5662778 ,  0.48699198,  0.42494221, -0.08241158,  0.48871558,\n",
       "        0.46286151,  0.52835849,  0.52835849,  0.60947503,  0.51122957,\n",
       "        0.20359968,  0.69048446,  0.65773597,  0.50422803,  0.49561   ,\n",
       "        0.71116771,  0.58968714,  0.54387093,  0.421495  ,  0.42083015,\n",
       "        0.46458512,  0.40253535,  0.31301502,  0.46813945,  0.45596709,\n",
       "        0.47158666,  0.43989692,  0.43366735,  0.76104513,  0.38702291,\n",
       "        0.48009756,  0.62326387,  0.46286151,  0.35366041,  0.49571712,\n",
       "        0.54397806,  0.70254969,  0.46986305,  0.51295317,  0.35772163,\n",
       "        0.5594905 ,  0.53708364,  0.66118318,  0.45524597,  0.41632419,\n",
       "        0.34159518,  0.61464585,  0.60247349,  0.63015829,  0.38630178,\n",
       "        0.63116077,  0.53536003,  0.45952143,  0.45424349,  0.50695411,\n",
       "        0.50022309,  0.57845015,  0.55938338,  0.24334971,  0.54042372,\n",
       "        0.57428182,  0.63450086,  0.63005117,  0.68703725,  0.71461492,\n",
       "        0.27771469,  0.5250184 ,  0.50250442,  0.59396259,  0.57834303,\n",
       "        0.66390926,  0.69382454,  0.52257368,  0.52429728,  0.54387093,\n",
       "        0.49733361,  0.421495  ,  0.73808054,  0.50433515,  0.54387093,\n",
       "        0.52252283,  0.41560306,  0.52674201,  0.48699198,  0.42605181,\n",
       "        0.80341412,  0.58807065,  0.50022309,  0.41632419,  0.51467678,\n",
       "        0.58006663,  0.49043919,  0.48982519,  0.48182116,  0.63116077,\n",
       "        0.49916433,  0.46630872,  0.50078082, -0.72714686,  0.43528384,\n",
       "        0.60258062,  0.52846561,  0.55521504,  0.56394019,  0.59213187,\n",
       "        0.43873105,  0.62154027,  0.53352931,  0.29911907, -0.50814194,\n",
       "        0.37495767,  0.54053085,  0.4232186 ,  0.46458512,  0.6059207 ,\n",
       "        0.50088794,  0.04330445,  0.53814239,  0.53352931,  0.60936791,\n",
       "        0.43283911,  0.4226046 ,  0.34565639,  0.46113791,  0.47492675,\n",
       "        0.45251988,  0.39736453,  0.45702585,  0.39675053,  0.44745619,\n",
       "        0.60085701,  0.53453179,  0.36472317,  0.5232948 ,  0.53980972,\n",
       "        0.32603189,  0.61809306,  0.55259608, -0.1549101 ,  0.48354477,\n",
       "        0.60258062,  0.43366735,  0.50422803,  0.44045465,  0.51395565,\n",
       "        0.53636251, -1.09421839,  0.25947616,  0.36806325,  0.36978686,\n",
       "        0.52146407,  0.54487342,  0.47609262,  0.56566379,  0.36389492,\n",
       "        0.53525291,  0.24162611,  0.41632419,  0.53108458,  0.37323407,\n",
       "        0.45779782,  0.56110698,  0.44390186,  0.47943271,  0.70872298,\n",
       "        0.31635511,  0.63705271,  0.60936791,  0.39219372,  0.48009756,\n",
       "        0.51467678,  0.50939884,  0.50950596,  0.64839682,  0.19503793,\n",
       "        0.59668868,  0.59557908,  0.42494221,  0.59313435,  0.57500294,\n",
       "        0.42666581,  0.64567073,  0.5300821 ,  0.56038586,  0.43356023,\n",
       "        0.43539096,  0.62771356,  0.45251988,  0.38713003,  0.29060816,\n",
       "        0.34321166,  0.65935245,  0.54848402,  0.4576907 ,  0.65945957,\n",
       "        0.51801686,  0.50088794,  0.43366735,  0.58179024,  0.28533023,\n",
       "        0.65601236,  0.41287698,  0.59223899,  0.50088794,  0.57834303,\n",
       "        0.46397112,  0.50422803,  0.49488888,  0.51284605,  0.43011302,\n",
       "        0.46458512,  0.61464585,  0.46803233,  0.40770616,  0.4129841 ,\n",
       "        0.29667434,  0.56466131,  0.27509572,  0.50261154,  0.29911907,\n",
       "        0.4232186 ,  0.6336055 ,  0.56283059,  0.56283059,  0.45424349,\n",
       "        0.42494221,  0.54397806,  0.60602783,  0.42777542,  0.59396259,\n",
       "        0.51557214,  0.46975593,  0.50250442,  0.65428876,  0.62498748,\n",
       "        0.47264541,  0.69499042,  0.40942977,  0.44400898,  0.67425089,\n",
       "        0.45079628,  0.35082721,  0.4129841 ,  0.51456965,  0.38185209,\n",
       "        0.55938338,  0.5974098 ,  0.57945263,  0.62671108,  0.58179024,\n",
       "        0.612094  ,  0.48182116,  0.3208048 ,  0.43873105,  0.48365189,\n",
       "        0.47837396,  0.55421256,  0.44835155,  0.48365189,  0.43183663,\n",
       "        0.48810158,  0.48365189,  0.41632419, -0.26967049, -0.47194624,\n",
       "        0.5974098 ,  0.54742527,  0.0933961 ,  0.53536003,  0.43194375,\n",
       "        0.61626233,  0.53870012,  0.63877631,  0.49216279,  0.40253535,\n",
       "        0.59913341,  0.61464585,  0.38985611,  0.55593617,  0.57834303,\n",
       "        0.39047012,  0.50189042,  0.54559454,  0.44328786,  0.56638492,\n",
       "       -0.53059965,  0.41287698,  0.44907268,  0.57489582,  0.48182116,\n",
       "        0.56638492,  0.66463039,  0.48009756,  0.57489582,  0.51984759,\n",
       "        0.33025107,  0.4870991 ,  0.6403928 ,  0.37323407,  0.55776689,\n",
       "        0.53870012,  0.61981666,  0.63794807,  0.48354477,  0.50088794,\n",
       "        0.41743379,  0.28360662,  0.42677294,  0.39736453,  0.38713003,\n",
       "        0.43873105,  0.59051538,  0.53880724,  0.4938864 , -0.19449673,\n",
       "        0.46803233,  0.55527131,  0.41987852,  0.44318074,  0.65428876,\n",
       "        0.49744073,  0.48020468,  0.51056471,  0.61636945,  0.58462345,\n",
       "        0.83009644,  0.53018922,  0.48120716,  0.48982519,  0.56110698,\n",
       "        0.55015135,  0.44045465,  0.38991238,  0.40425895,  0.51912647,\n",
       "        0.63015829,  0.58362096,  0.5776219 ,  0.42249748,  0.42494221,\n",
       "        0.49744073,  0.5318057 ,  0.44390186,  0.49226991,  0.47426189,\n",
       "        0.61981666,  0.53536003,  0.67669562,  0.46286151,  0.45079628,\n",
       "        0.40598256,  0.44217826,  0.51040132,  0.53708364,  0.4226046 ,\n",
       "        0.40264247,  0.48354477,  0.60258062,  0.4938864 ,  0.55776689,\n",
       "        0.55087247,  0.54042372,  0.43883817,  0.60430422,  0.48526837,\n",
       "        0.49043919,  0.48526837,  0.45251988,  0.55076535,  0.43117178,\n",
       "        0.62326387,  0.40770616,  0.44562547,  0.61798594,  0.57661942,\n",
       "        0.54570166,  0.44328786,  0.52491128,  0.53018922,  0.4594143 ,\n",
       "        0.54742527,  0.52835849,  0.45424349,  0.51456965,  0.59913341,\n",
       "        0.45524597,  0.54904175,  0.62671108,  0.50595163,  0.42077388,\n",
       "        0.45368576,  0.49054631,  0.36461604,  0.58868466,  0.60764431,\n",
       "        0.569111  ,  0.59223899,  0.60430422,  0.44506774,  0.73691466,\n",
       "        0.40181422,  0.36572565,  0.50778236,  0.38802539,  0.5250184 ,\n",
       "        0.45262701,  0.50950596,  0.6421164 ,  0.53363643,  0.49571712,\n",
       "        0.58351384,  0.66118318,  0.48810158,  0.56466131,  0.78355911,\n",
       "        0.60185949,  0.64049992,  0.50261154,  0.4509034 ,  0.47492675,\n",
       "        0.34843875,  0.5612141 ,  0.52663489,  0.34148806,  0.65428876,\n",
       "        0.51801686,  0.38702291,  0.43700744,  0.5318057 ,  0.41815491,\n",
       "        0.52835849,  0.43528384,  0.63705271,  0.7127842 ,  0.69393167,\n",
       "        0.47147954,  0.19848514,  0.40942977,  0.32669674,  0.46386399,\n",
       "        0.6318819 ,  0.64222352,  0.44217826,  0.60947503,  0.32152593,\n",
       "        0.54498054,  0.4491798 ,  0.67841922,  0.37151046,  0.39853041,\n",
       "        0.45251988,  0.49043919,  0.22266646,  0.65773597,  0.57317221,\n",
       "        0.4576907 ,  0.52157119,  0.51467678,  0.52491128,  0.50088794,\n",
       "        0.57155573,  0.52674201,  0.54214733,  0.58017375,  0.46113791,\n",
       "        0.57489582,  0.42666581,  0.73463333,  0.49216279,  0.6501767 ,\n",
       "        0.71978574,  0.43800992,  0.39574805,  0.48643425,  0.57500294,\n",
       "        0.5594905 ,  0.60602783,  0.40770616,  0.62326387,  0.52090634,\n",
       "        0.50361402,  0.43456271,  0.4853755 ,  0.55776689,  0.73185097,\n",
       "        0.68186643,  0.64911794,  0.5232948 ,  0.50433515,  0.85411978,\n",
       "        0.4938864 ,  0.37161758,  0.48287992,  0.47248202,  0.6059207 ,\n",
       "        0.60085701,  0.44400898,  0.54731814,  0.35883123, -0.30308383,\n",
       "        0.40081174])"
      ]
     },
     "execution_count": 366,
     "metadata": {},
     "output_type": "execute_result"
    }
   ],
   "source": [
    "forecast_set"
   ]
  },
  {
   "cell_type": "code",
   "execution_count": null,
   "metadata": {},
   "outputs": [],
   "source": []
  },
  {
   "cell_type": "code",
   "execution_count": null,
   "metadata": {},
   "outputs": [],
   "source": []
  }
 ],
 "metadata": {
  "kernelspec": {
   "display_name": "Python 3",
   "language": "python",
   "name": "python3"
  },
  "language_info": {
   "codemirror_mode": {
    "name": "ipython",
    "version": 3
   },
   "file_extension": ".py",
   "mimetype": "text/x-python",
   "name": "python",
   "nbconvert_exporter": "python",
   "pygments_lexer": "ipython3",
   "version": "3.6.6"
  }
 },
 "nbformat": 4,
 "nbformat_minor": 2
}
