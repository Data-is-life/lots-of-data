{
 "cells": [
  {
   "cell_type": "markdown",
   "metadata": {},
   "source": [
    "# Running all Classification Models to get the best predictions\n",
    "## Then, moving on to Neural Networks to get \"Better Predictions\""
   ]
  },
  {
   "cell_type": "code",
   "execution_count": 54,
   "metadata": {
    "ExecuteTime": {
     "end_time": "2018-11-16T23:34:37.503445Z",
     "start_time": "2018-11-16T23:34:37.476195Z"
    }
   },
   "outputs": [],
   "source": [
    "import pandas as pd\n",
    "import numpy as np\n",
    "import random\n",
    "\n",
    "from sklearn.discriminant_analysis import LinearDiscriminantAnalysis\n",
    "from sklearn.discriminant_analysis import QuadraticDiscriminantAnalysis\n",
    "\n",
    "from sklearn.ensemble import AdaBoostClassifier\n",
    "from sklearn.ensemble import ExtraTreesClassifier\n",
    "from sklearn.ensemble import GradientBoostingClassifier\n",
    "from sklearn.ensemble import RandomForestClassifier\n",
    "from sklearn.ensemble import VotingClassifier\n",
    "\n",
    "from sklearn.gaussian_process import GaussianProcessClassifier\n",
    "from sklearn.gaussian_process.kernels import RBF\n",
    "\n",
    "from sklearn.linear_model import LogisticRegression\n",
    "from sklearn.linear_model import LogisticRegressionCV\n",
    "from sklearn.linear_model import RidgeClassifier\n",
    "from sklearn.linear_model import RidgeClassifierCV\n",
    "from sklearn.linear_model import SGDClassifier\n",
    "\n",
    "from sklearn.metrics import *\n",
    "\n",
    "from sklearn.model_selection import train_test_split\n",
    "from sklearn.model_selection import cross_val_score\n",
    "from sklearn.model_selection import GridSearchCV\n",
    "\n",
    "from sklearn.neighbors import KDTree\n",
    "from sklearn.neighbors import KNeighborsClassifier\n",
    "\n",
    "from sklearn.neural_network import MLPClassifier\n",
    "\n",
    "from sklearn.svm import LinearSVC\n",
    "\n",
    "from dummies_bins_test_train_cv import get_Xy_train_test, cross_validation_process\n",
    "from clean_chess_game_log import main_cleanup\n",
    "\n",
    "from warnings import filterwarnings\n",
    "filterwarnings('ignore')"
   ]
  },
  {
   "cell_type": "code",
   "execution_count": 55,
   "metadata": {
    "ExecuteTime": {
     "end_time": "2018-11-16T23:34:46.201526Z",
     "start_time": "2018-11-16T23:34:37.884603Z"
    }
   },
   "outputs": [],
   "source": [
    "_,_,_ = main_cleanup('../data/dest.pgn')"
   ]
  },
  {
   "cell_type": "code",
   "execution_count": 56,
   "metadata": {
    "ExecuteTime": {
     "end_time": "2018-11-16T23:34:46.222317Z",
     "start_time": "2018-11-16T23:34:46.203778Z"
    }
   },
   "outputs": [],
   "source": [
    "df = pd.read_csv('../data/use_for_predictions.csv')"
   ]
  },
  {
   "cell_type": "code",
   "execution_count": 63,
   "metadata": {
    "ExecuteTime": {
     "end_time": "2018-11-16T23:35:24.828353Z",
     "start_time": "2018-11-16T23:35:24.693929Z"
    }
   },
   "outputs": [
    {
     "name": "stdout",
     "output_type": "stream",
     "text": [
      "y Shape: (2101,)\n",
      "X Shape: (2101, 20)\n",
      "X_train Shape: (2061, 20)\n",
      "X_test Shape: (40, 20)\n",
      "y_train Shape: (2061,)\n",
      "y_test Shape: (40,)\n"
     ]
    }
   ],
   "source": [
    "X_train, X_test, y_train, y_test, X, y, df_clean = get_Xy_train_test(df, .98, .99)"
   ]
  },
  {
   "cell_type": "markdown",
   "metadata": {},
   "source": [
    "### Linear Discriminant Analysis"
   ]
  },
  {
   "cell_type": "code",
   "execution_count": 64,
   "metadata": {
    "ExecuteTime": {
     "end_time": "2018-11-16T23:35:26.340980Z",
     "start_time": "2018-11-16T23:35:26.278593Z"
    },
    "scrolled": false
   },
   "outputs": [
    {
     "name": "stdout",
     "output_type": "stream",
     "text": [
      "Average_Accuracy(average_precision)=75.76%\n",
      "Standard_Deviation=0.24\n",
      "True_Score(Mean/SD)=3.162\n",
      "\n",
      "Prediction_Confusion_Matrix=[10|9]:[4|17]\n",
      "Prediction_Accuracy=67.5%\n"
     ]
    }
   ],
   "source": [
    "LDA_clf = LinearDiscriminantAnalysis(solver = 'lsqr', shrinkage='auto').fit(X_train, y_train)\n",
    "LDA_scores = cross_validation_process(LDA_clf, X_test, y_test, cv=11)"
   ]
  },
  {
   "cell_type": "markdown",
   "metadata": {},
   "source": [
    "### Quadratic Discriminant Analysis"
   ]
  },
  {
   "cell_type": "code",
   "execution_count": 65,
   "metadata": {
    "ExecuteTime": {
     "end_time": "2018-11-16T23:35:34.195134Z",
     "start_time": "2018-11-16T23:35:34.146803Z"
    },
    "scrolled": false
   },
   "outputs": [
    {
     "name": "stdout",
     "output_type": "stream",
     "text": [
      "Average_Accuracy(average_precision)=84.85%\n",
      "Standard_Deviation=0.216\n",
      "True_Score(Mean/SD)=3.935\n",
      "\n",
      "Prediction_Confusion_Matrix=[10|9]:[2|19]\n",
      "Prediction_Accuracy=72.5%\n"
     ]
    }
   ],
   "source": [
    "QDA_clf = QuadraticDiscriminantAnalysis(reg_param=0.26055).fit(X_train, y_train)\n",
    "QDA_scores = cross_validation_process(QDA_clf, X_test, y_test, cv=11)"
   ]
  },
  {
   "cell_type": "markdown",
   "metadata": {},
   "source": [
    "### Gaussian Process Classifier"
   ]
  },
  {
   "cell_type": "code",
   "execution_count": 66,
   "metadata": {
    "ExecuteTime": {
     "end_time": "2018-11-16T23:35:38.403081Z",
     "start_time": "2018-11-16T23:35:35.646712Z"
    },
    "scrolled": false
   },
   "outputs": [
    {
     "name": "stdout",
     "output_type": "stream",
     "text": [
      "Average_Accuracy(average_precision)=82.58%\n",
      "Standard_Deviation=0.186\n",
      "True_Score(Mean/SD)=4.435\n",
      "\n",
      "Prediction_Confusion_Matrix=[12|7]:[5|16]\n",
      "Prediction_Accuracy=70.0%\n"
     ]
    }
   ],
   "source": [
    "gpc_rbf_clf = GaussianProcessClassifier(n_jobs=-2, n_restarts_optimizer=10,\n",
    "                                        random_state=9).fit(X_train, y_train)\n",
    "gpc_rbf_score = cross_validation_process(gpc_rbf_clf, X_test, y_test, cv=11)"
   ]
  },
  {
   "cell_type": "markdown",
   "metadata": {},
   "source": [
    "### Logistic Regression"
   ]
  },
  {
   "cell_type": "code",
   "execution_count": 67,
   "metadata": {
    "ExecuteTime": {
     "end_time": "2018-11-16T23:35:40.812575Z",
     "start_time": "2018-11-16T23:35:39.595149Z"
    },
    "scrolled": false
   },
   "outputs": [
    {
     "name": "stdout",
     "output_type": "stream",
     "text": [
      "Average_Accuracy(average_precision)=84.09%\n",
      "Standard_Deviation=0.161\n",
      "True_Score(Mean/SD)=5.233\n",
      "\n",
      "Prediction_Confusion_Matrix=[10|9]:[5|16]\n",
      "Prediction_Accuracy=65.0%\n"
     ]
    }
   ],
   "source": [
    "lgst_reg_clf = LogisticRegression(penalty='l2', class_weight='balanced', random_state=9, \n",
    "                                  max_iter=5000, C=1e-3, solver='lbfgs', n_jobs=8, \n",
    "                                  multi_class='auto').fit(X_train, y_train)\n",
    "\n",
    "lgst_reg_score = cross_validation_process(lgst_reg_clf, X_test, y_test, cv=11)"
   ]
  },
  {
   "cell_type": "markdown",
   "metadata": {},
   "source": [
    "### Logistic Regression CV"
   ]
  },
  {
   "cell_type": "code",
   "execution_count": 68,
   "metadata": {
    "ExecuteTime": {
     "end_time": "2018-11-16T23:35:48.389500Z",
     "start_time": "2018-11-16T23:35:42.626451Z"
    },
    "scrolled": true
   },
   "outputs": [
    {
     "name": "stdout",
     "output_type": "stream",
     "text": [
      "Average_Accuracy(average_precision)=78.79%\n",
      "Standard_Deviation=0.168\n",
      "True_Score(Mean/SD)=4.689\n",
      "\n",
      "Prediction_Confusion_Matrix=[10|9]:[4|17]\n",
      "Prediction_Accuracy=67.5%\n"
     ]
    }
   ],
   "source": [
    "lgst_reg_cv_clf = LogisticRegressionCV(Cs=10, penalty='l2', cv=6,\n",
    "                                       class_weight='balanced', random_state=9,\n",
    "                                       solver='newton-cg', n_jobs=-2).fit(X_train, y_train)\n",
    "lgst_reg_cv_score = cross_validation_process(lgst_reg_cv_clf, X_test, y_test, cv=11)"
   ]
  },
  {
   "cell_type": "markdown",
   "metadata": {},
   "source": [
    "### Ada Boost Classifier"
   ]
  },
  {
   "cell_type": "code",
   "execution_count": 69,
   "metadata": {
    "ExecuteTime": {
     "end_time": "2018-11-16T23:35:52.302923Z",
     "start_time": "2018-11-16T23:35:49.490544Z"
    },
    "scrolled": false
   },
   "outputs": [
    {
     "name": "stdout",
     "output_type": "stream",
     "text": [
      "Average_Accuracy(average_precision)=81.06%\n",
      "Standard_Deviation=0.182\n",
      "True_Score(Mean/SD)=4.466\n",
      "\n",
      "Prediction_Confusion_Matrix=[11|8]:[7|14]\n",
      "Prediction_Accuracy=62.5%\n"
     ]
    }
   ],
   "source": [
    "ada_clf = AdaBoostClassifier(n_estimators=274, learning_rate=0.013,\n",
    "                             random_state=9).fit(X_train, y_train)\n",
    "ada_scores = cross_validation_process(ada_clf, X_test, y_test, cv=11)"
   ]
  },
  {
   "cell_type": "markdown",
   "metadata": {},
   "source": [
    "### SGD Classifier"
   ]
  },
  {
   "cell_type": "code",
   "execution_count": 70,
   "metadata": {
    "ExecuteTime": {
     "end_time": "2018-11-16T23:35:53.710838Z",
     "start_time": "2018-11-16T23:35:53.546607Z"
    },
    "scrolled": false
   },
   "outputs": [
    {
     "name": "stdout",
     "output_type": "stream",
     "text": [
      "Average_Accuracy(average_precision)=85.61%\n",
      "Standard_Deviation=0.188\n",
      "True_Score(Mean/SD)=4.546\n",
      "\n",
      "Prediction_Confusion_Matrix=[11|8]:[8|13]\n",
      "Prediction_Accuracy=60.0%\n"
     ]
    }
   ],
   "source": [
    "SGD_clf = SGDClassifier(loss='hinge', penalty='l2', max_iter=1e3,\n",
    "                        shuffle=False, n_jobs=8, random_state=9,\n",
    "                        class_weight='balanced').fit(X_train, y_train)\n",
    "SGD_score = cross_validation_process(SGD_clf, X_test, y_test, cv=11)"
   ]
  },
  {
   "cell_type": "markdown",
   "metadata": {},
   "source": [
    "### Random Forest Classifier"
   ]
  },
  {
   "cell_type": "code",
   "execution_count": 71,
   "metadata": {
    "ExecuteTime": {
     "end_time": "2018-11-16T23:36:03.145700Z",
     "start_time": "2018-11-16T23:35:54.925484Z"
    },
    "scrolled": true
   },
   "outputs": [
    {
     "name": "stdout",
     "output_type": "stream",
     "text": [
      "Average_Accuracy(average_precision)=75.0%\n",
      "Standard_Deviation=0.21\n",
      "True_Score(Mean/SD)=3.568\n",
      "\n",
      "Prediction_Confusion_Matrix=[13|6]:[4|17]\n",
      "Prediction_Accuracy=75.0%\n"
     ]
    }
   ],
   "source": [
    "rand_frst_clf = RandomForestClassifier(n_estimators=1000, criterion='entropy', n_jobs=-2,\n",
    "                                       min_samples_leaf=2, random_state=9,\n",
    "                                       class_weight='balanced').fit(X_train, y_train)\n",
    "\n",
    "rand_frst_score = cross_validation_process(rand_frst_clf, X_test, y_test, cv=11)"
   ]
  },
  {
   "cell_type": "markdown",
   "metadata": {},
   "source": [
    "### Ridge Classifier"
   ]
  },
  {
   "cell_type": "code",
   "execution_count": 72,
   "metadata": {
    "ExecuteTime": {
     "end_time": "2018-11-16T23:36:06.264194Z",
     "start_time": "2018-11-16T23:36:06.197343Z"
    },
    "scrolled": false
   },
   "outputs": [
    {
     "name": "stdout",
     "output_type": "stream",
     "text": [
      "Average_Accuracy(average_precision)=78.79%\n",
      "Standard_Deviation=0.193\n",
      "True_Score(Mean/SD)=4.092\n",
      "\n",
      "Prediction_Confusion_Matrix=[10|9]:[4|17]\n",
      "Prediction_Accuracy=67.5%\n"
     ]
    }
   ],
   "source": [
    "ridge_clf = RidgeClassifier(class_weight='balanced', random_state=9\n",
    "                           ).fit(X_train, y_train)\n",
    "ridge_score = cross_validation_process(ridge_clf, X_test, y_test, cv=11)"
   ]
  },
  {
   "cell_type": "markdown",
   "metadata": {},
   "source": [
    "### Ridge Classifier CV"
   ]
  },
  {
   "cell_type": "code",
   "execution_count": 73,
   "metadata": {
    "ExecuteTime": {
     "end_time": "2018-11-16T23:36:09.346056Z",
     "start_time": "2018-11-16T23:36:07.529586Z"
    },
    "scrolled": true
   },
   "outputs": [
    {
     "name": "stdout",
     "output_type": "stream",
     "text": [
      "Average_Accuracy(f1)=62.42%\n",
      "Standard_Deviation=0.309\n",
      "True_Score(Mean/SD)=2.019\n",
      "\n",
      "Prediction_Confusion_Matrix=[10|9]:[4|17]\n",
      "Prediction_Accuracy=67.5%\n"
     ]
    }
   ],
   "source": [
    "ridge_cv_clf = RidgeClassifierCV(scoring='average_precision', cv=20,\n",
    "                                 class_weight='balanced').fit(X_train, y_train)\n",
    "ridge_cv_score = cross_validation_process(ridge_cv_clf, X_test, y_test, cv=11, scoring='f1')"
   ]
  },
  {
   "cell_type": "markdown",
   "metadata": {},
   "source": [
    "### K Neighbors Classifier"
   ]
  },
  {
   "cell_type": "code",
   "execution_count": 74,
   "metadata": {
    "ExecuteTime": {
     "end_time": "2018-11-16T23:36:10.639782Z",
     "start_time": "2018-11-16T23:36:10.386182Z"
    },
    "scrolled": false
   },
   "outputs": [
    {
     "name": "stdout",
     "output_type": "stream",
     "text": [
      "Average_Accuracy(f1)=71.21%\n",
      "Standard_Deviation=0.302\n",
      "True_Score(Mean/SD)=2.361\n",
      "\n",
      "Prediction_Confusion_Matrix=[12|7]:[6|15]\n",
      "Prediction_Accuracy=67.5%\n"
     ]
    }
   ],
   "source": [
    "KNN_clf = KNeighborsClassifier(n_neighbors=19, leaf_size=88, n_jobs=8).fit(X_train, y_train)\n",
    "KNN_score = cross_validation_process(KNN_clf, X_test, y_test, cv=11, scoring='f1')"
   ]
  },
  {
   "cell_type": "markdown",
   "metadata": {},
   "source": [
    "### Multi-layer Perceptron classifier"
   ]
  },
  {
   "cell_type": "code",
   "execution_count": 75,
   "metadata": {
    "ExecuteTime": {
     "end_time": "2018-11-16T23:36:45.307792Z",
     "start_time": "2018-11-16T23:36:11.613648Z"
    },
    "scrolled": false
   },
   "outputs": [
    {
     "name": "stdout",
     "output_type": "stream",
     "text": [
      "Average_Accuracy(f1)=55.45%\n",
      "Standard_Deviation=0.367\n",
      "True_Score(Mean/SD)=1.512\n",
      "\n",
      "Prediction_Confusion_Matrix=[13|6]:[5|16]\n",
      "Prediction_Accuracy=72.5%\n"
     ]
    }
   ],
   "source": [
    "MLP_clf = MLPClassifier(hidden_layer_sizes=(64,), activation='logistic', solver='lbfgs', \n",
    "                        alpha=0.0001, batch_size=8, max_iter=5000,\n",
    "                        random_state=9, validation_fraction=0.1,\n",
    "                        verbose=True).fit(X_train, y_train)\n",
    "\n",
    "MLP_score = cross_validation_process(MLP_clf, X_test, y_test, cv=11, scoring='f1')"
   ]
  },
  {
   "cell_type": "code",
   "execution_count": 31,
   "metadata": {
    "ExecuteTime": {
     "end_time": "2018-11-16T23:01:09.558942Z",
     "start_time": "2018-11-16T23:01:09.540058Z"
    }
   },
   "outputs": [],
   "source": [
    "# classification_scoring = ['accuracy', 'balanced_accuracy', 'average_precision',\n",
    "#                           'brier_score_loss', 'f1', 'f1_micro', 'f1_macro',\n",
    "#                           'f1_weighted', 'neg_log_loss', 'precision',\n",
    "#                           'recall', 'roc_auc']"
   ]
  },
  {
   "cell_type": "code",
   "execution_count": null,
   "metadata": {},
   "outputs": [],
   "source": []
  },
  {
   "cell_type": "code",
   "execution_count": null,
   "metadata": {},
   "outputs": [],
   "source": []
  },
  {
   "cell_type": "code",
   "execution_count": null,
   "metadata": {},
   "outputs": [],
   "source": []
  }
 ],
 "metadata": {
  "kernelspec": {
   "display_name": "Python 3",
   "language": "python",
   "name": "python3"
  },
  "language_info": {
   "codemirror_mode": {
    "name": "ipython",
    "version": 3
   },
   "file_extension": ".py",
   "mimetype": "text/x-python",
   "name": "python",
   "nbconvert_exporter": "python",
   "pygments_lexer": "ipython3",
   "version": "3.6.6"
  },
  "latex_envs": {
   "LaTeX_envs_menu_present": false,
   "autoclose": false,
   "autocomplete": true,
   "bibliofile": "biblio.bib",
   "cite_by": "apalike",
   "current_citInitial": 1,
   "eqLabelWithNumbers": true,
   "eqNumInitial": 1,
   "hotkeys": {
    "equation": "Ctrl-E",
    "itemize": "Ctrl-I"
   },
   "labels_anchors": false,
   "latex_user_defs": false,
   "report_style_numbering": false,
   "user_envs_cfg": false
  }
 },
 "nbformat": 4,
 "nbformat_minor": 2
}
