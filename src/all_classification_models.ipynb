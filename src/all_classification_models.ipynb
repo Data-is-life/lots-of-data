{
 "cells": [
  {
   "cell_type": "markdown",
   "metadata": {},
   "source": [
    "# Running all Classification Models to get the best predictions\n",
    "## Then, moving on to Neural Networks to get \"Better Predictions\""
   ]
  },
  {
   "cell_type": "code",
   "execution_count": 59,
   "metadata": {
    "ExecuteTime": {
     "end_time": "2018-11-09T04:44:02.092189Z",
     "start_time": "2018-11-09T04:44:02.074063Z"
    }
   },
   "outputs": [],
   "source": [
    "import pandas as pd\n",
    "import numpy as np\n",
    "\n",
    "from sklearn.discriminant_analysis import LinearDiscriminantAnalysis\n",
    "from sklearn.discriminant_analysis import QuadraticDiscriminantAnalysis\n",
    "\n",
    "from sklearn.ensemble import AdaBoostClassifier\n",
    "from sklearn.ensemble import ExtraTreesClassifier\n",
    "from sklearn.ensemble import GradientBoostingClassifier\n",
    "from sklearn.ensemble import RandomForestClassifier\n",
    "from sklearn.ensemble import VotingClassifier\n",
    "\n",
    "from sklearn.gaussian_process import GaussianProcessClassifier\n",
    "from sklearn.gaussian_process.kernels import RBF\n",
    "\n",
    "from sklearn.linear_model import LogisticRegression\n",
    "from sklearn.linear_model import LogisticRegressionCV\n",
    "from sklearn.linear_model import RidgeClassifier\n",
    "from sklearn.linear_model import RidgeClassifierCV\n",
    "from sklearn.linear_model import SGDClassifier\n",
    "\n",
    "from sklearn.metrics import *\n",
    "\n",
    "from sklearn.model_selection import train_test_split\n",
    "from sklearn.model_selection import cross_val_score\n",
    "from sklearn.model_selection import GridSearchCV\n",
    "\n",
    "from sklearn.neighbors import KDTree\n",
    "from sklearn.neighbors import KNeighborsClassifier\n",
    "\n",
    "from sklearn.neural_network import MLPClassifier\n",
    "\n",
    "from sklearn.svm import LinearSVC\n",
    "\n",
    "from dummies_bins_test_train_cv import *\n",
    "\n",
    "from warnings import filterwarnings\n",
    "filterwarnings('ignore')"
   ]
  },
  {
   "cell_type": "code",
   "execution_count": 60,
   "metadata": {
    "ExecuteTime": {
     "end_time": "2018-11-09T04:44:02.807736Z",
     "start_time": "2018-11-09T04:44:02.785527Z"
    }
   },
   "outputs": [],
   "source": [
    "df = pd.read_csv('../data/use_for_analysis.csv')"
   ]
  },
  {
   "cell_type": "code",
   "execution_count": 106,
   "metadata": {
    "ExecuteTime": {
     "end_time": "2018-11-09T04:56:36.001358Z",
     "start_time": "2018-11-09T04:56:35.901221Z"
    }
   },
   "outputs": [
    {
     "name": "stdout",
     "output_type": "stream",
     "text": [
      "y Shape: (2048,)\n",
      "X Shape: (2048, 31)\n",
      "X_train Shape: (1642, 31)\n",
      "X_test Shape: (406, 31)\n",
      "y_train Shape: (1642,)\n",
      "y_test Shape: (406,)\n"
     ]
    }
   ],
   "source": [
    "X_train, X_test, y_train, y_test = get_Xy_train_test(df, .8, .9)"
   ]
  },
  {
   "cell_type": "markdown",
   "metadata": {},
   "source": [
    "### Linear Discriminant Analysis"
   ]
  },
  {
   "cell_type": "code",
   "execution_count": 107,
   "metadata": {
    "ExecuteTime": {
     "end_time": "2018-11-09T04:56:38.448488Z",
     "start_time": "2018-11-09T04:56:38.353757Z"
    },
    "scrolled": false
   },
   "outputs": [
    {
     "name": "stdout",
     "output_type": "stream",
     "text": [
      "Average_Accuracy(average_precision)=72.18%\n",
      "Standard_Deviation=0.065\n",
      "Scores(average_precision)=[0.741 0.728 0.803 0.778 0.83  0.696 0.676 0.599 0.753 0.671 0.665]\n",
      "No Feature Importances\n",
      "Prediction_Confusion_Matrix=\n",
      "[[141  63]\n",
      " [ 51 151]]\n",
      "Prediction_Accuracy=71.92%\n"
     ]
    }
   ],
   "source": [
    "LDA_clf = LinearDiscriminantAnalysis(solver = 'lsqr', shrinkage='auto').fit(X_train, y_train)\n",
    "LDA_scores = cross_validation_process(LDA_clf, X_test, y_test, cv=11)"
   ]
  },
  {
   "cell_type": "markdown",
   "metadata": {},
   "source": [
    "### Quadratic Discriminant Analysis\n",
    "\n",
    "Best results with:\n",
    "- reg_param = 0.26055\n",
    "- reg_param = 0.36968\n",
    "- reg_param = 0.96127\n",
    "- reg_param = 0.83353\n",
    "- reg_param = 0.77121"
   ]
  },
  {
   "cell_type": "code",
   "execution_count": 108,
   "metadata": {
    "ExecuteTime": {
     "end_time": "2018-11-09T04:56:40.554767Z",
     "start_time": "2018-11-09T04:56:40.275983Z"
    },
    "scrolled": false
   },
   "outputs": [
    {
     "name": "stdout",
     "output_type": "stream",
     "text": [
      "0.96127\n",
      "Average_Accuracy(average_precision)=81.0%\n",
      "Standard_Deviation=0.059\n",
      "Scores(average_precision)=[0.817 0.805 0.902 0.711 0.845 0.74  0.86  0.858 0.825 0.716 0.832]\n",
      "No Feature Importances\n",
      "Prediction_Confusion_Matrix=\n",
      "[[142  62]\n",
      " [ 53 149]]\n",
      "Prediction_Accuracy=71.67%\n",
      "0.83353\n",
      "Average_Accuracy(average_precision)=81.17%\n",
      "Standard_Deviation=0.056\n",
      "Scores(average_precision)=[0.817 0.802 0.899 0.711 0.841 0.77  0.86  0.858 0.825 0.716 0.829]\n",
      "No Feature Importances\n",
      "Prediction_Confusion_Matrix=\n",
      "[[143  61]\n",
      " [ 54 148]]\n",
      "Prediction_Accuracy=71.67%\n",
      "0.77121\n",
      "Average_Accuracy(average_precision)=80.82%\n",
      "Standard_Deviation=0.061\n",
      "Scores(average_precision)=[0.811 0.802 0.899 0.684 0.841 0.77  0.86  0.858 0.825 0.711 0.829]\n",
      "No Feature Importances\n",
      "Prediction_Confusion_Matrix=\n",
      "[[143  61]\n",
      " [ 54 148]]\n",
      "Prediction_Accuracy=71.67%\n",
      "0.26055\n",
      "Average_Accuracy(average_precision)=75.23%\n",
      "Standard_Deviation=0.062\n",
      "Scores(average_precision)=[0.743 0.757 0.841 0.706 0.861 0.724 0.673 0.768 0.821 0.675 0.707]\n",
      "No Feature Importances\n",
      "Prediction_Confusion_Matrix=\n",
      "[[128  76]\n",
      " [ 45 157]]\n",
      "Prediction_Accuracy=70.2%\n",
      "0.36968\n",
      "Average_Accuracy(average_precision)=78.28%\n",
      "Standard_Deviation=0.054\n",
      "Scores(average_precision)=[0.755 0.765 0.872 0.701 0.85  0.751 0.8   0.806 0.828 0.697 0.786]\n",
      "No Feature Importances\n",
      "Prediction_Confusion_Matrix=\n",
      "[[130  74]\n",
      " [ 47 155]]\n",
      "Prediction_Accuracy=70.2%\n"
     ]
    }
   ],
   "source": [
    "reg_param = [0.96127, 0.83353, 0.77121, 0.26055, 0.36968]\n",
    "for num in reg_param:\n",
    "    print(num)\n",
    "    QDA_clf = QuadraticDiscriminantAnalysis(reg_param=num).fit(X_train, y_train)\n",
    "    QDA_scores = cross_validation_process(QDA_clf, X_test, y_test, cv=11)"
   ]
  },
  {
   "cell_type": "markdown",
   "metadata": {},
   "source": [
    "### Gaussian Process Classifier"
   ]
  },
  {
   "cell_type": "code",
   "execution_count": 109,
   "metadata": {
    "ExecuteTime": {
     "end_time": "2018-11-09T04:56:48.856413Z",
     "start_time": "2018-11-09T04:56:47.230894Z"
    },
    "scrolled": false
   },
   "outputs": [
    {
     "name": "stdout",
     "output_type": "stream",
     "text": [
      "Average_Accuracy(average_precision)=77.47%\n",
      "Standard_Deviation=0.087\n",
      "Scores(average_precision)=[0.566 0.937 0.781 0.764 0.864 0.784 0.79  0.749 0.749 0.731 0.808]\n",
      "No Feature Importances\n",
      "Prediction_Confusion_Matrix=\n",
      "[[153  51]\n",
      " [ 52 150]]\n",
      "Prediction_Accuracy=74.63%\n"
     ]
    }
   ],
   "source": [
    "gpc_rbf_clf = GaussianProcessClassifier(n_jobs=-2, max_iter_predict=100, n_restarts_optimizer=10,\n",
    "                                        random_state=9).fit(X_train, y_train)\n",
    "gpc_rbf_score = cross_validation_process(gpc_rbf_clf, X_test, y_test, cv=11)"
   ]
  },
  {
   "cell_type": "markdown",
   "metadata": {},
   "source": [
    "### Logistic Regression"
   ]
  },
  {
   "cell_type": "code",
   "execution_count": 110,
   "metadata": {
    "ExecuteTime": {
     "end_time": "2018-11-09T04:56:52.564696Z",
     "start_time": "2018-11-09T04:56:52.247308Z"
    },
    "scrolled": false
   },
   "outputs": [
    {
     "name": "stdout",
     "output_type": "stream",
     "text": [
      "Average_Accuracy(average_precision)=77.61%\n",
      "Standard_Deviation=0.05\n",
      "Scores(average_precision)=[0.761 0.742 0.841 0.719 0.895 0.759 0.79  0.745 0.805 0.732 0.748]\n",
      "No Feature Importances\n",
      "Prediction_Confusion_Matrix=\n",
      "[[143  61]\n",
      " [ 52 150]]\n",
      "Prediction_Accuracy=72.17%\n"
     ]
    }
   ],
   "source": [
    "lgst_reg_clf = LogisticRegression(penalty='l2', class_weight='balanced', random_state=9, \n",
    "                                  solver='newton-cg', n_jobs=-2, multi_class='auto').fit(X_train, y_train)\n",
    "\n",
    "lgst_reg_score = cross_validation_process(lgst_reg_clf, X_test, y_test, cv=11)"
   ]
  },
  {
   "cell_type": "markdown",
   "metadata": {},
   "source": [
    "### Logistic Regression CV\n",
    "\n",
    "Best results with:\n",
    "\n",
    "- Cs = 10, cv = 6\n",
    "- Cs = 16, cv = 4\n",
    "- Cs = 19, cv = 6\n",
    "- Cs = 19, cv = 12\n",
    "- Cs = 25, cv = 6\n",
    "- Cs = 25, cv = 12"
   ]
  },
  {
   "cell_type": "code",
   "execution_count": 104,
   "metadata": {
    "ExecuteTime": {
     "end_time": "2018-11-09T04:52:09.199174Z",
     "start_time": "2018-11-09T04:51:50.479212Z"
    },
    "scrolled": true
   },
   "outputs": [
    {
     "name": "stdout",
     "output_type": "stream",
     "text": [
      "Average_Accuracy(average_precision)=96.21%\n",
      "Standard_Deviation=0.12\n",
      "Scores(average_precision)=[1.    0.583 1.    1.    1.    1.    1.    1.    1.    1.    1.   ]\n",
      "No Feature Importances\n",
      "Prediction_Confusion_Matrix=\n",
      "[[3 2]\n",
      " [4 9]]\n",
      "Prediction_Accuracy=66.67%\n",
      "Average_Accuracy(average_precision)=96.21%\n",
      "Standard_Deviation=0.12\n",
      "Scores(average_precision)=[1.    0.583 1.    1.    1.    1.    1.    1.    1.    1.    1.   ]\n",
      "No Feature Importances\n",
      "Prediction_Confusion_Matrix=\n",
      "[[ 3  2]\n",
      " [ 3 10]]\n",
      "Prediction_Accuracy=72.22%\n",
      "Average_Accuracy(average_precision)=96.21%\n",
      "Standard_Deviation=0.12\n",
      "Scores(average_precision)=[1.    0.583 1.    1.    1.    1.    1.    1.    1.    1.    1.   ]\n",
      "No Feature Importances\n",
      "Prediction_Confusion_Matrix=\n",
      "[[3 2]\n",
      " [4 9]]\n",
      "Prediction_Accuracy=66.67%\n"
     ]
    },
    {
     "ename": "ValueError",
     "evalue": "n_splits=12 cannot be greater than the number of members in each class.",
     "output_type": "error",
     "traceback": [
      "\u001b[0;31m---------------------------------------------------------------------------\u001b[0m",
      "\u001b[0;31mValueError\u001b[0m                                Traceback (most recent call last)",
      "\u001b[0;32m<ipython-input-104-72f20206723d>\u001b[0m in \u001b[0;36m<module>\u001b[0;34m\u001b[0m\n\u001b[1;32m     13\u001b[0m                                                    solver='newton-cg', n_jobs=-2).fit(X_train, y_train)\n\u001b[1;32m     14\u001b[0m             lgst_reg_cv_score = cross_validation_process(\n\u001b[0;32m---> 15\u001b[0;31m                 lgst_reg_cv_clf, X_test, y_test, cv=11)\n\u001b[0m",
      "\u001b[0;32m~/lots-of-data/src/dummies_bins_test_train_cv.py\u001b[0m in \u001b[0;36mcross_validation_process\u001b[0;34m(classifier, X_test, y_test, cv, scoring)\u001b[0m\n\u001b[1;32m     99\u001b[0m \u001b[0;34m\u001b[0m\u001b[0m\n\u001b[1;32m    100\u001b[0m     scores = cross_val_score(\n\u001b[0;32m--> 101\u001b[0;31m         classifier, X_test, y_test, cv=cv, scoring=scoring)\n\u001b[0m\u001b[1;32m    102\u001b[0m     \u001b[0mprint\u001b[0m\u001b[0;34m(\u001b[0m\u001b[0;34mf'Average_Accuracy({scoring})={round(scores.mean()*100,2)}%'\u001b[0m\u001b[0;34m)\u001b[0m\u001b[0;34m\u001b[0m\u001b[0m\n\u001b[1;32m    103\u001b[0m     \u001b[0mprint\u001b[0m\u001b[0;34m(\u001b[0m\u001b[0;34mf'Standard_Deviation={round(scores.std(),3)}'\u001b[0m\u001b[0;34m)\u001b[0m\u001b[0;34m\u001b[0m\u001b[0m\n",
      "\u001b[0;32m~/anaconda3/lib/python3.6/site-packages/sklearn/model_selection/_validation.py\u001b[0m in \u001b[0;36mcross_val_score\u001b[0;34m(estimator, X, y, groups, scoring, cv, n_jobs, verbose, fit_params, pre_dispatch, error_score)\u001b[0m\n\u001b[1;32m    400\u001b[0m                                 \u001b[0mfit_params\u001b[0m\u001b[0;34m=\u001b[0m\u001b[0mfit_params\u001b[0m\u001b[0;34m,\u001b[0m\u001b[0;34m\u001b[0m\u001b[0m\n\u001b[1;32m    401\u001b[0m                                 \u001b[0mpre_dispatch\u001b[0m\u001b[0;34m=\u001b[0m\u001b[0mpre_dispatch\u001b[0m\u001b[0;34m,\u001b[0m\u001b[0;34m\u001b[0m\u001b[0m\n\u001b[0;32m--> 402\u001b[0;31m                                 error_score=error_score)\n\u001b[0m\u001b[1;32m    403\u001b[0m     \u001b[0;32mreturn\u001b[0m \u001b[0mcv_results\u001b[0m\u001b[0;34m[\u001b[0m\u001b[0;34m'test_score'\u001b[0m\u001b[0;34m]\u001b[0m\u001b[0;34m\u001b[0m\u001b[0m\n\u001b[1;32m    404\u001b[0m \u001b[0;34m\u001b[0m\u001b[0m\n",
      "\u001b[0;32m~/anaconda3/lib/python3.6/site-packages/sklearn/model_selection/_validation.py\u001b[0m in \u001b[0;36mcross_validate\u001b[0;34m(estimator, X, y, groups, scoring, cv, n_jobs, verbose, fit_params, pre_dispatch, return_train_score, return_estimator, error_score)\u001b[0m\n\u001b[1;32m    238\u001b[0m             \u001b[0mreturn_times\u001b[0m\u001b[0;34m=\u001b[0m\u001b[0;32mTrue\u001b[0m\u001b[0;34m,\u001b[0m \u001b[0mreturn_estimator\u001b[0m\u001b[0;34m=\u001b[0m\u001b[0mreturn_estimator\u001b[0m\u001b[0;34m,\u001b[0m\u001b[0;34m\u001b[0m\u001b[0m\n\u001b[1;32m    239\u001b[0m             error_score=error_score)\n\u001b[0;32m--> 240\u001b[0;31m         for train, test in cv.split(X, y, groups))\n\u001b[0m\u001b[1;32m    241\u001b[0m \u001b[0;34m\u001b[0m\u001b[0m\n\u001b[1;32m    242\u001b[0m     \u001b[0mzipped_scores\u001b[0m \u001b[0;34m=\u001b[0m \u001b[0mlist\u001b[0m\u001b[0;34m(\u001b[0m\u001b[0mzip\u001b[0m\u001b[0;34m(\u001b[0m\u001b[0;34m*\u001b[0m\u001b[0mscores\u001b[0m\u001b[0;34m)\u001b[0m\u001b[0;34m)\u001b[0m\u001b[0;34m\u001b[0m\u001b[0m\n",
      "\u001b[0;32m~/anaconda3/lib/python3.6/site-packages/sklearn/externals/joblib/parallel.py\u001b[0m in \u001b[0;36m__call__\u001b[0;34m(self, iterable)\u001b[0m\n\u001b[1;32m    981\u001b[0m             \u001b[0;31m# remaining jobs.\u001b[0m\u001b[0;34m\u001b[0m\u001b[0;34m\u001b[0m\u001b[0m\n\u001b[1;32m    982\u001b[0m             \u001b[0mself\u001b[0m\u001b[0;34m.\u001b[0m\u001b[0m_iterating\u001b[0m \u001b[0;34m=\u001b[0m \u001b[0;32mFalse\u001b[0m\u001b[0;34m\u001b[0m\u001b[0m\n\u001b[0;32m--> 983\u001b[0;31m             \u001b[0;32mif\u001b[0m \u001b[0mself\u001b[0m\u001b[0;34m.\u001b[0m\u001b[0mdispatch_one_batch\u001b[0m\u001b[0;34m(\u001b[0m\u001b[0miterator\u001b[0m\u001b[0;34m)\u001b[0m\u001b[0;34m:\u001b[0m\u001b[0;34m\u001b[0m\u001b[0m\n\u001b[0m\u001b[1;32m    984\u001b[0m                 \u001b[0mself\u001b[0m\u001b[0;34m.\u001b[0m\u001b[0m_iterating\u001b[0m \u001b[0;34m=\u001b[0m \u001b[0mself\u001b[0m\u001b[0;34m.\u001b[0m\u001b[0m_original_iterator\u001b[0m \u001b[0;32mis\u001b[0m \u001b[0;32mnot\u001b[0m \u001b[0;32mNone\u001b[0m\u001b[0;34m\u001b[0m\u001b[0m\n\u001b[1;32m    985\u001b[0m \u001b[0;34m\u001b[0m\u001b[0m\n",
      "\u001b[0;32m~/anaconda3/lib/python3.6/site-packages/sklearn/externals/joblib/parallel.py\u001b[0m in \u001b[0;36mdispatch_one_batch\u001b[0;34m(self, iterator)\u001b[0m\n\u001b[1;32m    823\u001b[0m                 \u001b[0;32mreturn\u001b[0m \u001b[0;32mFalse\u001b[0m\u001b[0;34m\u001b[0m\u001b[0m\n\u001b[1;32m    824\u001b[0m             \u001b[0;32melse\u001b[0m\u001b[0;34m:\u001b[0m\u001b[0;34m\u001b[0m\u001b[0m\n\u001b[0;32m--> 825\u001b[0;31m                 \u001b[0mself\u001b[0m\u001b[0;34m.\u001b[0m\u001b[0m_dispatch\u001b[0m\u001b[0;34m(\u001b[0m\u001b[0mtasks\u001b[0m\u001b[0;34m)\u001b[0m\u001b[0;34m\u001b[0m\u001b[0m\n\u001b[0m\u001b[1;32m    826\u001b[0m                 \u001b[0;32mreturn\u001b[0m \u001b[0;32mTrue\u001b[0m\u001b[0;34m\u001b[0m\u001b[0m\n\u001b[1;32m    827\u001b[0m \u001b[0;34m\u001b[0m\u001b[0m\n",
      "\u001b[0;32m~/anaconda3/lib/python3.6/site-packages/sklearn/externals/joblib/parallel.py\u001b[0m in \u001b[0;36m_dispatch\u001b[0;34m(self, batch)\u001b[0m\n\u001b[1;32m    780\u001b[0m         \u001b[0;32mwith\u001b[0m \u001b[0mself\u001b[0m\u001b[0;34m.\u001b[0m\u001b[0m_lock\u001b[0m\u001b[0;34m:\u001b[0m\u001b[0;34m\u001b[0m\u001b[0m\n\u001b[1;32m    781\u001b[0m             \u001b[0mjob_idx\u001b[0m \u001b[0;34m=\u001b[0m \u001b[0mlen\u001b[0m\u001b[0;34m(\u001b[0m\u001b[0mself\u001b[0m\u001b[0;34m.\u001b[0m\u001b[0m_jobs\u001b[0m\u001b[0;34m)\u001b[0m\u001b[0;34m\u001b[0m\u001b[0m\n\u001b[0;32m--> 782\u001b[0;31m             \u001b[0mjob\u001b[0m \u001b[0;34m=\u001b[0m \u001b[0mself\u001b[0m\u001b[0;34m.\u001b[0m\u001b[0m_backend\u001b[0m\u001b[0;34m.\u001b[0m\u001b[0mapply_async\u001b[0m\u001b[0;34m(\u001b[0m\u001b[0mbatch\u001b[0m\u001b[0;34m,\u001b[0m \u001b[0mcallback\u001b[0m\u001b[0;34m=\u001b[0m\u001b[0mcb\u001b[0m\u001b[0;34m)\u001b[0m\u001b[0;34m\u001b[0m\u001b[0m\n\u001b[0m\u001b[1;32m    783\u001b[0m             \u001b[0;31m# A job can complete so quickly than its callback is\u001b[0m\u001b[0;34m\u001b[0m\u001b[0;34m\u001b[0m\u001b[0m\n\u001b[1;32m    784\u001b[0m             \u001b[0;31m# called before we get here, causing self._jobs to\u001b[0m\u001b[0;34m\u001b[0m\u001b[0;34m\u001b[0m\u001b[0m\n",
      "\u001b[0;32m~/anaconda3/lib/python3.6/site-packages/sklearn/externals/joblib/_parallel_backends.py\u001b[0m in \u001b[0;36mapply_async\u001b[0;34m(self, func, callback)\u001b[0m\n\u001b[1;32m    180\u001b[0m     \u001b[0;32mdef\u001b[0m \u001b[0mapply_async\u001b[0m\u001b[0;34m(\u001b[0m\u001b[0mself\u001b[0m\u001b[0;34m,\u001b[0m \u001b[0mfunc\u001b[0m\u001b[0;34m,\u001b[0m \u001b[0mcallback\u001b[0m\u001b[0;34m=\u001b[0m\u001b[0;32mNone\u001b[0m\u001b[0;34m)\u001b[0m\u001b[0;34m:\u001b[0m\u001b[0;34m\u001b[0m\u001b[0m\n\u001b[1;32m    181\u001b[0m         \u001b[0;34m\"\"\"Schedule a func to be run\"\"\"\u001b[0m\u001b[0;34m\u001b[0m\u001b[0m\n\u001b[0;32m--> 182\u001b[0;31m         \u001b[0mresult\u001b[0m \u001b[0;34m=\u001b[0m \u001b[0mImmediateResult\u001b[0m\u001b[0;34m(\u001b[0m\u001b[0mfunc\u001b[0m\u001b[0;34m)\u001b[0m\u001b[0;34m\u001b[0m\u001b[0m\n\u001b[0m\u001b[1;32m    183\u001b[0m         \u001b[0;32mif\u001b[0m \u001b[0mcallback\u001b[0m\u001b[0;34m:\u001b[0m\u001b[0;34m\u001b[0m\u001b[0m\n\u001b[1;32m    184\u001b[0m             \u001b[0mcallback\u001b[0m\u001b[0;34m(\u001b[0m\u001b[0mresult\u001b[0m\u001b[0;34m)\u001b[0m\u001b[0;34m\u001b[0m\u001b[0m\n",
      "\u001b[0;32m~/anaconda3/lib/python3.6/site-packages/sklearn/externals/joblib/_parallel_backends.py\u001b[0m in \u001b[0;36m__init__\u001b[0;34m(self, batch)\u001b[0m\n\u001b[1;32m    543\u001b[0m         \u001b[0;31m# Don't delay the application, to avoid keeping the input\u001b[0m\u001b[0;34m\u001b[0m\u001b[0;34m\u001b[0m\u001b[0m\n\u001b[1;32m    544\u001b[0m         \u001b[0;31m# arguments in memory\u001b[0m\u001b[0;34m\u001b[0m\u001b[0;34m\u001b[0m\u001b[0m\n\u001b[0;32m--> 545\u001b[0;31m         \u001b[0mself\u001b[0m\u001b[0;34m.\u001b[0m\u001b[0mresults\u001b[0m \u001b[0;34m=\u001b[0m \u001b[0mbatch\u001b[0m\u001b[0;34m(\u001b[0m\u001b[0;34m)\u001b[0m\u001b[0;34m\u001b[0m\u001b[0m\n\u001b[0m\u001b[1;32m    546\u001b[0m \u001b[0;34m\u001b[0m\u001b[0m\n\u001b[1;32m    547\u001b[0m     \u001b[0;32mdef\u001b[0m \u001b[0mget\u001b[0m\u001b[0;34m(\u001b[0m\u001b[0mself\u001b[0m\u001b[0;34m)\u001b[0m\u001b[0;34m:\u001b[0m\u001b[0;34m\u001b[0m\u001b[0m\n",
      "\u001b[0;32m~/anaconda3/lib/python3.6/site-packages/sklearn/externals/joblib/parallel.py\u001b[0m in \u001b[0;36m__call__\u001b[0;34m(self)\u001b[0m\n\u001b[1;32m    259\u001b[0m         \u001b[0;32mwith\u001b[0m \u001b[0mparallel_backend\u001b[0m\u001b[0;34m(\u001b[0m\u001b[0mself\u001b[0m\u001b[0;34m.\u001b[0m\u001b[0m_backend\u001b[0m\u001b[0;34m)\u001b[0m\u001b[0;34m:\u001b[0m\u001b[0;34m\u001b[0m\u001b[0m\n\u001b[1;32m    260\u001b[0m             return [func(*args, **kwargs)\n\u001b[0;32m--> 261\u001b[0;31m                     for func, args, kwargs in self.items]\n\u001b[0m\u001b[1;32m    262\u001b[0m \u001b[0;34m\u001b[0m\u001b[0m\n\u001b[1;32m    263\u001b[0m     \u001b[0;32mdef\u001b[0m \u001b[0m__len__\u001b[0m\u001b[0;34m(\u001b[0m\u001b[0mself\u001b[0m\u001b[0;34m)\u001b[0m\u001b[0;34m:\u001b[0m\u001b[0;34m\u001b[0m\u001b[0m\n",
      "\u001b[0;32m~/anaconda3/lib/python3.6/site-packages/sklearn/externals/joblib/parallel.py\u001b[0m in \u001b[0;36m<listcomp>\u001b[0;34m(.0)\u001b[0m\n\u001b[1;32m    259\u001b[0m         \u001b[0;32mwith\u001b[0m \u001b[0mparallel_backend\u001b[0m\u001b[0;34m(\u001b[0m\u001b[0mself\u001b[0m\u001b[0;34m.\u001b[0m\u001b[0m_backend\u001b[0m\u001b[0;34m)\u001b[0m\u001b[0;34m:\u001b[0m\u001b[0;34m\u001b[0m\u001b[0m\n\u001b[1;32m    260\u001b[0m             return [func(*args, **kwargs)\n\u001b[0;32m--> 261\u001b[0;31m                     for func, args, kwargs in self.items]\n\u001b[0m\u001b[1;32m    262\u001b[0m \u001b[0;34m\u001b[0m\u001b[0m\n\u001b[1;32m    263\u001b[0m     \u001b[0;32mdef\u001b[0m \u001b[0m__len__\u001b[0m\u001b[0;34m(\u001b[0m\u001b[0mself\u001b[0m\u001b[0;34m)\u001b[0m\u001b[0;34m:\u001b[0m\u001b[0;34m\u001b[0m\u001b[0m\n",
      "\u001b[0;32m~/anaconda3/lib/python3.6/site-packages/sklearn/model_selection/_validation.py\u001b[0m in \u001b[0;36m_fit_and_score\u001b[0;34m(estimator, X, y, scorer, train, test, verbose, parameters, fit_params, return_train_score, return_parameters, return_n_test_samples, return_times, return_estimator, error_score)\u001b[0m\n\u001b[1;32m    526\u001b[0m             \u001b[0mestimator\u001b[0m\u001b[0;34m.\u001b[0m\u001b[0mfit\u001b[0m\u001b[0;34m(\u001b[0m\u001b[0mX_train\u001b[0m\u001b[0;34m,\u001b[0m \u001b[0;34m**\u001b[0m\u001b[0mfit_params\u001b[0m\u001b[0;34m)\u001b[0m\u001b[0;34m\u001b[0m\u001b[0m\n\u001b[1;32m    527\u001b[0m         \u001b[0;32melse\u001b[0m\u001b[0;34m:\u001b[0m\u001b[0;34m\u001b[0m\u001b[0m\n\u001b[0;32m--> 528\u001b[0;31m             \u001b[0mestimator\u001b[0m\u001b[0;34m.\u001b[0m\u001b[0mfit\u001b[0m\u001b[0;34m(\u001b[0m\u001b[0mX_train\u001b[0m\u001b[0;34m,\u001b[0m \u001b[0my_train\u001b[0m\u001b[0;34m,\u001b[0m \u001b[0;34m**\u001b[0m\u001b[0mfit_params\u001b[0m\u001b[0;34m)\u001b[0m\u001b[0;34m\u001b[0m\u001b[0m\n\u001b[0m\u001b[1;32m    529\u001b[0m \u001b[0;34m\u001b[0m\u001b[0m\n\u001b[1;32m    530\u001b[0m     \u001b[0;32mexcept\u001b[0m \u001b[0mException\u001b[0m \u001b[0;32mas\u001b[0m \u001b[0me\u001b[0m\u001b[0;34m:\u001b[0m\u001b[0;34m\u001b[0m\u001b[0m\n",
      "\u001b[0;32m~/anaconda3/lib/python3.6/site-packages/sklearn/linear_model/logistic.py\u001b[0m in \u001b[0;36mfit\u001b[0;34m(self, X, y, sample_weight)\u001b[0m\n\u001b[1;32m   1735\u001b[0m         \u001b[0;31m# init cross-validation generator\u001b[0m\u001b[0;34m\u001b[0m\u001b[0;34m\u001b[0m\u001b[0m\n\u001b[1;32m   1736\u001b[0m         \u001b[0mcv\u001b[0m \u001b[0;34m=\u001b[0m \u001b[0mcheck_cv\u001b[0m\u001b[0;34m(\u001b[0m\u001b[0mself\u001b[0m\u001b[0;34m.\u001b[0m\u001b[0mcv\u001b[0m\u001b[0;34m,\u001b[0m \u001b[0my\u001b[0m\u001b[0;34m,\u001b[0m \u001b[0mclassifier\u001b[0m\u001b[0;34m=\u001b[0m\u001b[0;32mTrue\u001b[0m\u001b[0;34m)\u001b[0m\u001b[0;34m\u001b[0m\u001b[0m\n\u001b[0;32m-> 1737\u001b[0;31m         \u001b[0mfolds\u001b[0m \u001b[0;34m=\u001b[0m \u001b[0mlist\u001b[0m\u001b[0;34m(\u001b[0m\u001b[0mcv\u001b[0m\u001b[0;34m.\u001b[0m\u001b[0msplit\u001b[0m\u001b[0;34m(\u001b[0m\u001b[0mX\u001b[0m\u001b[0;34m,\u001b[0m \u001b[0my\u001b[0m\u001b[0;34m)\u001b[0m\u001b[0;34m)\u001b[0m\u001b[0;34m\u001b[0m\u001b[0m\n\u001b[0m\u001b[1;32m   1738\u001b[0m \u001b[0;34m\u001b[0m\u001b[0m\n\u001b[1;32m   1739\u001b[0m         \u001b[0;31m# Use the label encoded classes\u001b[0m\u001b[0;34m\u001b[0m\u001b[0;34m\u001b[0m\u001b[0m\n",
      "\u001b[0;32m~/anaconda3/lib/python3.6/site-packages/sklearn/model_selection/_split.py\u001b[0m in \u001b[0;36msplit\u001b[0;34m(self, X, y, groups)\u001b[0m\n\u001b[1;32m    329\u001b[0m                 .format(self.n_splits, n_samples))\n\u001b[1;32m    330\u001b[0m \u001b[0;34m\u001b[0m\u001b[0m\n\u001b[0;32m--> 331\u001b[0;31m         \u001b[0;32mfor\u001b[0m \u001b[0mtrain\u001b[0m\u001b[0;34m,\u001b[0m \u001b[0mtest\u001b[0m \u001b[0;32min\u001b[0m \u001b[0msuper\u001b[0m\u001b[0;34m(\u001b[0m\u001b[0m_BaseKFold\u001b[0m\u001b[0;34m,\u001b[0m \u001b[0mself\u001b[0m\u001b[0;34m)\u001b[0m\u001b[0;34m.\u001b[0m\u001b[0msplit\u001b[0m\u001b[0;34m(\u001b[0m\u001b[0mX\u001b[0m\u001b[0;34m,\u001b[0m \u001b[0my\u001b[0m\u001b[0;34m,\u001b[0m \u001b[0mgroups\u001b[0m\u001b[0;34m)\u001b[0m\u001b[0;34m:\u001b[0m\u001b[0;34m\u001b[0m\u001b[0m\n\u001b[0m\u001b[1;32m    332\u001b[0m             \u001b[0;32myield\u001b[0m \u001b[0mtrain\u001b[0m\u001b[0;34m,\u001b[0m \u001b[0mtest\u001b[0m\u001b[0;34m\u001b[0m\u001b[0m\n\u001b[1;32m    333\u001b[0m \u001b[0;34m\u001b[0m\u001b[0m\n",
      "\u001b[0;32m~/anaconda3/lib/python3.6/site-packages/sklearn/model_selection/_split.py\u001b[0m in \u001b[0;36msplit\u001b[0;34m(self, X, y, groups)\u001b[0m\n\u001b[1;32m     98\u001b[0m         \u001b[0mX\u001b[0m\u001b[0;34m,\u001b[0m \u001b[0my\u001b[0m\u001b[0;34m,\u001b[0m \u001b[0mgroups\u001b[0m \u001b[0;34m=\u001b[0m \u001b[0mindexable\u001b[0m\u001b[0;34m(\u001b[0m\u001b[0mX\u001b[0m\u001b[0;34m,\u001b[0m \u001b[0my\u001b[0m\u001b[0;34m,\u001b[0m \u001b[0mgroups\u001b[0m\u001b[0;34m)\u001b[0m\u001b[0;34m\u001b[0m\u001b[0m\n\u001b[1;32m     99\u001b[0m         \u001b[0mindices\u001b[0m \u001b[0;34m=\u001b[0m \u001b[0mnp\u001b[0m\u001b[0;34m.\u001b[0m\u001b[0marange\u001b[0m\u001b[0;34m(\u001b[0m\u001b[0m_num_samples\u001b[0m\u001b[0;34m(\u001b[0m\u001b[0mX\u001b[0m\u001b[0;34m)\u001b[0m\u001b[0;34m)\u001b[0m\u001b[0;34m\u001b[0m\u001b[0m\n\u001b[0;32m--> 100\u001b[0;31m         \u001b[0;32mfor\u001b[0m \u001b[0mtest_index\u001b[0m \u001b[0;32min\u001b[0m \u001b[0mself\u001b[0m\u001b[0;34m.\u001b[0m\u001b[0m_iter_test_masks\u001b[0m\u001b[0;34m(\u001b[0m\u001b[0mX\u001b[0m\u001b[0;34m,\u001b[0m \u001b[0my\u001b[0m\u001b[0;34m,\u001b[0m \u001b[0mgroups\u001b[0m\u001b[0;34m)\u001b[0m\u001b[0;34m:\u001b[0m\u001b[0;34m\u001b[0m\u001b[0m\n\u001b[0m\u001b[1;32m    101\u001b[0m             \u001b[0mtrain_index\u001b[0m \u001b[0;34m=\u001b[0m \u001b[0mindices\u001b[0m\u001b[0;34m[\u001b[0m\u001b[0mnp\u001b[0m\u001b[0;34m.\u001b[0m\u001b[0mlogical_not\u001b[0m\u001b[0;34m(\u001b[0m\u001b[0mtest_index\u001b[0m\u001b[0;34m)\u001b[0m\u001b[0;34m]\u001b[0m\u001b[0;34m\u001b[0m\u001b[0m\n\u001b[1;32m    102\u001b[0m             \u001b[0mtest_index\u001b[0m \u001b[0;34m=\u001b[0m \u001b[0mindices\u001b[0m\u001b[0;34m[\u001b[0m\u001b[0mtest_index\u001b[0m\u001b[0;34m]\u001b[0m\u001b[0;34m\u001b[0m\u001b[0m\n",
      "\u001b[0;32m~/anaconda3/lib/python3.6/site-packages/sklearn/model_selection/_split.py\u001b[0m in \u001b[0;36m_iter_test_masks\u001b[0;34m(self, X, y, groups)\u001b[0m\n\u001b[1;32m    653\u001b[0m \u001b[0;34m\u001b[0m\u001b[0m\n\u001b[1;32m    654\u001b[0m     \u001b[0;32mdef\u001b[0m \u001b[0m_iter_test_masks\u001b[0m\u001b[0;34m(\u001b[0m\u001b[0mself\u001b[0m\u001b[0;34m,\u001b[0m \u001b[0mX\u001b[0m\u001b[0;34m,\u001b[0m \u001b[0my\u001b[0m\u001b[0;34m=\u001b[0m\u001b[0;32mNone\u001b[0m\u001b[0;34m,\u001b[0m \u001b[0mgroups\u001b[0m\u001b[0;34m=\u001b[0m\u001b[0;32mNone\u001b[0m\u001b[0;34m)\u001b[0m\u001b[0;34m:\u001b[0m\u001b[0;34m\u001b[0m\u001b[0m\n\u001b[0;32m--> 655\u001b[0;31m         \u001b[0mtest_folds\u001b[0m \u001b[0;34m=\u001b[0m \u001b[0mself\u001b[0m\u001b[0;34m.\u001b[0m\u001b[0m_make_test_folds\u001b[0m\u001b[0;34m(\u001b[0m\u001b[0mX\u001b[0m\u001b[0;34m,\u001b[0m \u001b[0my\u001b[0m\u001b[0;34m)\u001b[0m\u001b[0;34m\u001b[0m\u001b[0m\n\u001b[0m\u001b[1;32m    656\u001b[0m         \u001b[0;32mfor\u001b[0m \u001b[0mi\u001b[0m \u001b[0;32min\u001b[0m \u001b[0mrange\u001b[0m\u001b[0;34m(\u001b[0m\u001b[0mself\u001b[0m\u001b[0;34m.\u001b[0m\u001b[0mn_splits\u001b[0m\u001b[0;34m)\u001b[0m\u001b[0;34m:\u001b[0m\u001b[0;34m\u001b[0m\u001b[0m\n\u001b[1;32m    657\u001b[0m             \u001b[0;32myield\u001b[0m \u001b[0mtest_folds\u001b[0m \u001b[0;34m==\u001b[0m \u001b[0mi\u001b[0m\u001b[0;34m\u001b[0m\u001b[0m\n",
      "\u001b[0;32m~/anaconda3/lib/python3.6/site-packages/sklearn/model_selection/_split.py\u001b[0m in \u001b[0;36m_make_test_folds\u001b[0;34m(self, X, y)\u001b[0m\n\u001b[1;32m    618\u001b[0m             raise ValueError(\"n_splits=%d cannot be greater than the\"\n\u001b[1;32m    619\u001b[0m                              \u001b[0;34m\" number of members in each class.\"\u001b[0m\u001b[0;34m\u001b[0m\u001b[0m\n\u001b[0;32m--> 620\u001b[0;31m                              % (self.n_splits))\n\u001b[0m\u001b[1;32m    621\u001b[0m         \u001b[0;32mif\u001b[0m \u001b[0mself\u001b[0m\u001b[0;34m.\u001b[0m\u001b[0mn_splits\u001b[0m \u001b[0;34m>\u001b[0m \u001b[0mmin_groups\u001b[0m\u001b[0;34m:\u001b[0m\u001b[0;34m\u001b[0m\u001b[0m\n\u001b[1;32m    622\u001b[0m             warnings.warn((\"The least populated class in y has only %d\"\n",
      "\u001b[0;31mValueError\u001b[0m: n_splits=12 cannot be greater than the number of members in each class."
     ]
    }
   ],
   "source": [
    "Cs_cv = {10: 6, 16: 4, 19: [6, 12], 25: [6, 12]}\n",
    "for k, v in Cs_cv.items():\n",
    "    if type(v) != list:\n",
    "        lgst_reg_cv_clf = LogisticRegressionCV(Cs=k, penalty='l2', cv=v,\n",
    "                                               class_weight='balanced', random_state=9,\n",
    "                                               solver='newton-cg', n_jobs=-2).fit(X_train, y_train)\n",
    "        lgst_reg_cv_score = cross_validation_process(\n",
    "            lgst_reg_cv_clf, X_test, y_test, cv=11)\n",
    "    else:\n",
    "        for num in v:\n",
    "            lgst_reg_cv_clf = LogisticRegressionCV(Cs=k, penalty='l2', cv=num,\n",
    "                                                   class_weight='balanced', random_state=9,\n",
    "                                                   solver='newton-cg', n_jobs=-2).fit(X_train, y_train)\n",
    "            lgst_reg_cv_score = cross_validation_process(\n",
    "                lgst_reg_cv_clf, X_test, y_test, cv=11)"
   ]
  },
  {
   "cell_type": "markdown",
   "metadata": {},
   "source": [
    "### Ada Boost Classifier \n",
    "\n",
    "Best results with:\n",
    "\n",
    "- n_estimators=235, learning_rate=1.442\n",
    "- n_estimators=52, learning_rate=0.155\n",
    "- n_estimators=274, learning_rate=0.013\n",
    "- n_estimators=162, learning_rate=0.767"
   ]
  },
  {
   "cell_type": "code",
   "execution_count": 111,
   "metadata": {
    "ExecuteTime": {
     "end_time": "2018-11-09T04:57:04.130235Z",
     "start_time": "2018-11-09T04:56:59.521724Z"
    },
    "scrolled": false
   },
   "outputs": [
    {
     "name": "stdout",
     "output_type": "stream",
     "text": [
      "Average_Accuracy(average_precision)=74.54%\n",
      "Standard_Deviation=0.036\n",
      "Scores(average_precision)=[0.746 0.731 0.689 0.797 0.765]\n",
      "Feature importance = [0.01702128 0.79574468 0.00851064 0.00425532 0.00425532 0.00425532\n",
      " 0.00425532 0.00851064 0.00425532 0.00851064 0.00425532 0.00851064\n",
      " 0.00851064 0.00851064 0.00851064 0.00425532 0.00425532 0.00851064\n",
      " 0.00425532 0.00851064 0.00425532 0.00425532 0.01276596 0.00851064\n",
      " 0.00851064 0.00425532 0.00425532 0.         0.00851064 0.01276596\n",
      " 0.00425532]\n",
      "Prediction_Confusion_Matrix=\n",
      "[[146  58]\n",
      " [ 54 148]]\n",
      "Prediction_Accuracy=72.41%\n",
      "Average_Accuracy(average_precision)=78.75%\n",
      "Standard_Deviation=0.019\n",
      "Scores(average_precision)=[0.814 0.754 0.785 0.796 0.789]\n",
      "Feature importance = [0.09615385 0.69230769 0.         0.         0.01923077 0.\n",
      " 0.         0.         0.         0.         0.         0.05769231\n",
      " 0.         0.         0.         0.         0.03846154 0.\n",
      " 0.03846154 0.         0.05769231 0.         0.         0.\n",
      " 0.         0.         0.         0.         0.         0.\n",
      " 0.        ]\n",
      "Prediction_Confusion_Matrix=\n",
      "[[145  59]\n",
      " [ 50 152]]\n",
      "Prediction_Accuracy=73.15%\n",
      "Average_Accuracy(average_precision)=79.08%\n",
      "Standard_Deviation=0.026\n",
      "Scores(average_precision)=[0.779 0.757 0.838 0.785 0.794]\n",
      "Feature importance = [0.06934307 0.93065693 0.         0.         0.         0.\n",
      " 0.         0.         0.         0.         0.         0.\n",
      " 0.         0.         0.         0.         0.         0.\n",
      " 0.         0.         0.         0.         0.         0.\n",
      " 0.         0.         0.         0.         0.         0.\n",
      " 0.        ]\n",
      "Prediction_Confusion_Matrix=\n",
      "[[142  62]\n",
      " [ 45 157]]\n",
      "Prediction_Accuracy=73.65%\n",
      "Average_Accuracy(average_precision)=76.85%\n",
      "Standard_Deviation=0.018\n",
      "Scores(average_precision)=[0.764 0.756 0.744 0.787 0.791]\n",
      "Feature importance = [0.01851852 0.80864198 0.00617284 0.00617284 0.01234568 0.\n",
      " 0.00617284 0.         0.00617284 0.00617284 0.00617284 0.01234568\n",
      " 0.00617284 0.         0.         0.01234568 0.01234568 0.00617284\n",
      " 0.01234568 0.         0.01234568 0.01234568 0.         0.00617284\n",
      " 0.         0.         0.00617284 0.00617284 0.01234568 0.\n",
      " 0.00617284]\n",
      "Prediction_Confusion_Matrix=\n",
      "[[141  63]\n",
      " [ 56 146]]\n",
      "Prediction_Accuracy=70.69%\n"
     ]
    }
   ],
   "source": [
    "n_estimators_learning_rate = {235: 1.442, 52:0.155, 274:0.013, 162:0.767}\n",
    "for k, v in n_estimators_learning_rate.items():\n",
    "    ada_clf = AdaBoostClassifier(n_estimators=k, learning_rate=v, \n",
    "                                 random_state=9).fit(X_train, y_train)\n",
    "    ada_scores = cross_validation_process(ada_clf, X_test, y_test, cv=5)"
   ]
  },
  {
   "cell_type": "markdown",
   "metadata": {},
   "source": [
    "### SGD Classifier\n",
    "\n",
    "Best results with:\n",
    "\n",
    "- max_iter = 28782, n_iter_no_change = 50\n",
    "- max_iter = 32421, n_iter_no_change = 54\n",
    "- max_iter = 43631, n_iter_no_change = 74\n",
    "- max_iter = 37278, n_iter_no_change = 70\n",
    "- max_iter = 38125, n_iter_no_change = 122"
   ]
  },
  {
   "cell_type": "code",
   "execution_count": 112,
   "metadata": {
    "ExecuteTime": {
     "end_time": "2018-11-09T04:58:40.837273Z",
     "start_time": "2018-11-09T04:57:35.347794Z"
    },
    "scrolled": false
   },
   "outputs": [
    {
     "name": "stdout",
     "output_type": "stream",
     "text": [
      "Average_Accuracy(average_precision)=79.03%\n",
      "Standard_Deviation=0.061\n",
      "Scores(average_precision)=[0.789 0.745 0.847 0.663 0.89  0.711 0.803 0.838 0.789 0.796 0.823]\n",
      "No Feature Importances\n",
      "Prediction_Confusion_Matrix=\n",
      "[[150  54]\n",
      " [ 54 148]]\n",
      "Prediction_Accuracy=73.4%\n",
      "Average_Accuracy(average_precision)=79.0%\n",
      "Standard_Deviation=0.061\n",
      "Scores(average_precision)=[0.794 0.745 0.847 0.659 0.89  0.711 0.808 0.834 0.792 0.796 0.814]\n",
      "No Feature Importances\n",
      "Prediction_Confusion_Matrix=\n",
      "[[150  54]\n",
      " [ 54 148]]\n",
      "Prediction_Accuracy=73.4%\n",
      "Average_Accuracy(average_precision)=78.87%\n",
      "Standard_Deviation=0.062\n",
      "Scores(average_precision)=[0.793 0.748 0.843 0.654 0.893 0.711 0.8   0.831 0.792 0.806 0.804]\n",
      "No Feature Importances\n",
      "Prediction_Confusion_Matrix=\n",
      "[[148  56]\n",
      " [ 54 148]]\n",
      "Prediction_Accuracy=72.91%\n",
      "Average_Accuracy(average_precision)=78.91%\n",
      "Standard_Deviation=0.062\n",
      "Scores(average_precision)=[0.795 0.748 0.847 0.654 0.89  0.711 0.806 0.834 0.792 0.796 0.806]\n",
      "No Feature Importances\n",
      "Prediction_Confusion_Matrix=\n",
      "[[148  56]\n",
      " [ 54 148]]\n",
      "Prediction_Accuracy=72.91%\n",
      "Average_Accuracy(average_precision)=78.87%\n",
      "Standard_Deviation=0.062\n",
      "Scores(average_precision)=[0.795 0.748 0.84  0.654 0.893 0.711 0.806 0.834 0.792 0.796 0.806]\n",
      "No Feature Importances\n",
      "Prediction_Confusion_Matrix=\n",
      "[[148  56]\n",
      " [ 52 150]]\n",
      "Prediction_Accuracy=73.4%\n"
     ]
    }
   ],
   "source": [
    "max_iter_no_change = {28782: 50, 32421: 54, 43631: 74, 37278: 70, 38125: 122}\n",
    "for k, v in max_iter_no_change.items():\n",
    "    SGD_clf = SGDClassifier(loss='squared_hinge', max_iter=k, shuffle=False,\n",
    "                            n_jobs=-2, random_state=9, n_iter_no_change=v,\n",
    "                            class_weight='balanced').fit(X_train, y_train)\n",
    "\n",
    "    SGD_score = cross_validation_process(SGD_clf, X_test, y_test, cv=11)"
   ]
  },
  {
   "cell_type": "markdown",
   "metadata": {},
   "source": [
    "### Extra Trees Classifier"
   ]
  },
  {
   "cell_type": "code",
   "execution_count": 113,
   "metadata": {
    "ExecuteTime": {
     "end_time": "2018-11-09T04:58:56.433374Z",
     "start_time": "2018-11-09T04:58:40.839975Z"
    },
    "scrolled": false
   },
   "outputs": [
    {
     "name": "stdout",
     "output_type": "stream",
     "text": [
      "Average_Accuracy(average_precision)=68.45%\n",
      "Standard_Deviation=0.068\n",
      "Scores(average_precision)=[0.622 0.777 0.635 0.658 0.829 0.694 0.648 0.598 0.692 0.636 0.741]\n",
      "Feature importance = [0.03278258 0.61256464 0.01697444 0.0178955  0.00387358 0.00102736\n",
      " 0.00172665 0.00261806 0.00616034 0.00975212 0.00849698 0.01267351\n",
      " 0.01171283 0.01117057 0.01224095 0.01285297 0.00870145 0.01441823\n",
      " 0.01107123 0.01157128 0.00928118 0.01089327 0.00974335 0.01021005\n",
      " 0.0084434  0.02550935 0.02370963 0.022785   0.01953123 0.01854422\n",
      " 0.02106406]\n",
      "Prediction_Confusion_Matrix=\n",
      "[[116  88]\n",
      " [ 69 133]]\n",
      "Prediction_Accuracy=61.33%\n"
     ]
    }
   ],
   "source": [
    "XTsC_clf = ExtraTreesClassifier(n_estimators=1000, criterion='entropy',  n_jobs=-2, \n",
    "                                random_state=9, class_weight='balanced').fit(X_train, y_train)\n",
    "XTsC_score = cross_validation_process(XTsC_clf, X_test, y_test, cv=11)"
   ]
  },
  {
   "cell_type": "markdown",
   "metadata": {},
   "source": [
    "### Random Forest Classifier"
   ]
  },
  {
   "cell_type": "code",
   "execution_count": 114,
   "metadata": {
    "ExecuteTime": {
     "end_time": "2018-11-09T04:59:41.643131Z",
     "start_time": "2018-11-09T04:58:56.436106Z"
    },
    "scrolled": false
   },
   "outputs": [
    {
     "name": "stdout",
     "output_type": "stream",
     "text": [
      "Average_Accuracy(average_precision)=75.58%\n",
      "Standard_Deviation=0.077\n",
      "Scores(average_precision)=[0.651 0.896 0.756 0.784 0.86  0.759 0.668 0.716 0.748 0.659 0.817]\n",
      "Feature importance = [0.03896967 0.53205951 0.01767907 0.02193352 0.00509787 0.00090894\n",
      " 0.00157552 0.0029848  0.00591752 0.01255108 0.01172073 0.01630022\n",
      " 0.01398996 0.01282607 0.01377878 0.01532679 0.01366621 0.01783172\n",
      " 0.01477573 0.0155923  0.01334679 0.01366169 0.0113848  0.01257791\n",
      " 0.01104185 0.02918496 0.02806254 0.02356712 0.02338254 0.02317912\n",
      " 0.02512467]\n",
      "Prediction_Confusion_Matrix=\n",
      "[[135  69]\n",
      " [ 59 143]]\n",
      "Prediction_Accuracy=68.47%\n"
     ]
    }
   ],
   "source": [
    "rand_frst_clf = RandomForestClassifier(n_estimators=4000, criterion='entropy', n_jobs=-2, \n",
    "                                       random_state=9).fit(X_train, y_train)\n",
    "\n",
    "rand_frst_score = cross_validation_process(rand_frst_clf, X_test, y_test, cv=11)"
   ]
  },
  {
   "cell_type": "markdown",
   "metadata": {},
   "source": [
    "### Ridge Classifier\n",
    "\n",
    "Best results with:\n",
    "\n",
    "- alpha = 10.13\n",
    "- alpha = 7.37\n",
    "- alpha = 13.69"
   ]
  },
  {
   "cell_type": "code",
   "execution_count": 115,
   "metadata": {
    "ExecuteTime": {
     "end_time": "2018-11-09T04:59:41.877249Z",
     "start_time": "2018-11-09T04:59:41.649797Z"
    },
    "scrolled": false
   },
   "outputs": [
    {
     "name": "stdout",
     "output_type": "stream",
     "text": [
      "Average_Accuracy(average_precision)=75.02%\n",
      "Standard_Deviation=0.059\n",
      "Scores(average_precision)=[0.751 0.736 0.833 0.728 0.877 0.717 0.732 0.673 0.802 0.708 0.695]\n",
      "No Feature Importances\n",
      "Prediction_Confusion_Matrix=\n",
      "[[136  68]\n",
      " [ 48 154]]\n",
      "Prediction_Accuracy=71.43%\n",
      "Average_Accuracy(average_precision)=74.09%\n",
      "Standard_Deviation=0.062\n",
      "Scores(average_precision)=[0.751 0.741 0.83  0.722 0.882 0.72  0.708 0.663 0.763 0.7   0.671]\n",
      "No Feature Importances\n",
      "Prediction_Confusion_Matrix=\n",
      "[[136  68]\n",
      " [ 49 153]]\n",
      "Prediction_Accuracy=71.18%\n",
      "Average_Accuracy(average_precision)=76.11%\n",
      "Standard_Deviation=0.053\n",
      "Scores(average_precision)=[0.755 0.752 0.837 0.731 0.875 0.725 0.762 0.708 0.801 0.717 0.707]\n",
      "No Feature Importances\n",
      "Prediction_Confusion_Matrix=\n",
      "[[137  67]\n",
      " [ 48 154]]\n",
      "Prediction_Accuracy=71.67%\n"
     ]
    }
   ],
   "source": [
    "alphas = [10.13, 7.37, 13.69]\n",
    "for a in alphas:\n",
    "    ridge_clf = RidgeClassifier(alpha=a, class_weight='balanced', solver='auto',\n",
    "                                random_state=9).fit(X_train, y_train)\n",
    "    ridge_score = cross_validation_process(ridge_clf, X_test, y_test, cv=11)"
   ]
  },
  {
   "cell_type": "markdown",
   "metadata": {},
   "source": [
    "### Ridge Classifier CV"
   ]
  },
  {
   "cell_type": "code",
   "execution_count": 116,
   "metadata": {
    "ExecuteTime": {
     "end_time": "2018-11-09T04:59:44.799269Z",
     "start_time": "2018-11-09T04:59:41.883557Z"
    },
    "scrolled": true
   },
   "outputs": [
    {
     "name": "stdout",
     "output_type": "stream",
     "text": [
      "Average_Accuracy(average_precision)=75.02%\n",
      "Standard_Deviation=0.059\n",
      "Scores(average_precision)=[0.751 0.736 0.833 0.728 0.877 0.717 0.732 0.673 0.802 0.708 0.695]\n",
      "No Feature Importances\n",
      "Prediction_Confusion_Matrix=\n",
      "[[136  68]\n",
      " [ 48 154]]\n",
      "Prediction_Accuracy=71.43%\n"
     ]
    }
   ],
   "source": [
    "ridge_cv_clf = RidgeClassifierCV(scoring='average_precision', cv=20,\n",
    "                                 class_weight='balanced').fit(X_train, y_train)\n",
    "ridge_cv_score = cross_validation_process(ridge_cv_clf, X_test, y_test, cv=11)"
   ]
  },
  {
   "cell_type": "markdown",
   "metadata": {},
   "source": [
    "### K Neighbors Classifier\n",
    "\n",
    "Best results with:\n",
    "\n",
    "- n_neighbors = 19, leaf_size = 28\n",
    "- n_neighbors = 17, leaf_size = 135\n",
    "- n_neighbors = 19, leaf_size = 88\n",
    "- n_neighbors = 14, leaf_size = 88\n",
    "- n_neighbors = 18, leaf_size = 88"
   ]
  },
  {
   "cell_type": "code",
   "execution_count": 117,
   "metadata": {
    "ExecuteTime": {
     "end_time": "2018-11-09T04:59:46.073503Z",
     "start_time": "2018-11-09T04:59:44.801579Z"
    },
    "scrolled": false
   },
   "outputs": [
    {
     "name": "stdout",
     "output_type": "stream",
     "text": [
      "Average_Accuracy(average_precision)=80.35%\n",
      "Standard_Deviation=0.05\n",
      "Scores(average_precision)=[0.766 0.857 0.848 0.747 0.859 0.762 0.85  0.833 0.772 0.71  0.835]\n",
      "No Feature Importances\n",
      "Prediction_Confusion_Matrix=\n",
      "[[150  54]\n",
      " [ 50 152]]\n",
      "Prediction_Accuracy=74.38%\n",
      "Average_Accuracy(average_precision)=80.66%\n",
      "Standard_Deviation=0.05\n",
      "Scores(average_precision)=[0.762 0.866 0.852 0.75  0.853 0.763 0.847 0.845 0.79  0.715 0.83 ]\n",
      "No Feature Importances\n",
      "Prediction_Confusion_Matrix=\n",
      "[[148  56]\n",
      " [ 53 149]]\n",
      "Prediction_Accuracy=73.15%\n",
      "Average_Accuracy(average_precision)=80.04%\n",
      "Standard_Deviation=0.051\n",
      "Scores(average_precision)=[0.741 0.837 0.869 0.763 0.853 0.76  0.84  0.831 0.768 0.709 0.834]\n",
      "No Feature Importances\n",
      "Prediction_Confusion_Matrix=\n",
      "[[147  57]\n",
      " [ 50 152]]\n",
      "Prediction_Accuracy=73.65%\n",
      "Average_Accuracy(average_precision)=78.96%\n",
      "Standard_Deviation=0.057\n",
      "Scores(average_precision)=[0.739 0.843 0.849 0.688 0.85  0.747 0.843 0.825 0.765 0.717 0.82 ]\n",
      "No Feature Importances\n",
      "Prediction_Confusion_Matrix=\n",
      "[[159  45]\n",
      " [ 54 148]]\n",
      "Prediction_Accuracy=75.62%\n",
      "Average_Accuracy(average_precision)=79.95%\n",
      "Standard_Deviation=0.053\n",
      "Scores(average_precision)=[0.749 0.848 0.868 0.753 0.852 0.745 0.828 0.85  0.765 0.71  0.826]\n",
      "No Feature Importances\n",
      "Prediction_Confusion_Matrix=\n",
      "[[157  47]\n",
      " [ 57 145]]\n",
      "Prediction_Accuracy=74.38%\n"
     ]
    }
   ],
   "source": [
    "n_neighbors_leaf_size = {19:[28, 88], 17:88, 14:88, 18:88}\n",
    "for k, v in n_neighbors_leaf_size.items():\n",
    "    if type(v) != list:\n",
    "        KNN_clf = KNeighborsClassifier(n_neighbors=k, leaf_size=v, n_jobs=-2).fit(X_train, y_train)\n",
    "        KNN_score = cross_validation_process(KNN_clf, X_test, y_test, cv=11)\n",
    "    else:\n",
    "        for num in v:\n",
    "            KNN_clf = KNeighborsClassifier(n_neighbors=k, leaf_size=num, n_jobs=-2).fit(X_train, y_train)\n",
    "            KNN_score = cross_validation_process(KNN_clf, X_test, y_test, cv=11)"
   ]
  },
  {
   "cell_type": "markdown",
   "metadata": {},
   "source": [
    "### Multi-layer Perceptron classifier"
   ]
  },
  {
   "cell_type": "code",
   "execution_count": 118,
   "metadata": {
    "ExecuteTime": {
     "end_time": "2018-11-09T05:00:11.057017Z",
     "start_time": "2018-11-09T04:59:46.076824Z"
    },
    "scrolled": false
   },
   "outputs": [
    {
     "name": "stdout",
     "output_type": "stream",
     "text": [
      "Average_Accuracy(average_precision)=73.67%\n",
      "Standard_Deviation=0.072\n",
      "Scores(average_precision)=[0.727 0.726 0.842 0.738 0.844 0.652 0.643 0.752 0.798 0.617 0.766]\n",
      "No Feature Importances\n",
      "Prediction_Confusion_Matrix=\n",
      "[[143  61]\n",
      " [ 52 150]]\n",
      "Prediction_Accuracy=72.17%\n"
     ]
    }
   ],
   "source": [
    "MLP_clf = MLPClassifier(hidden_layer_sizes=(200,), activation='logistic', solver='lbfgs', \n",
    "                        alpha=0.0001, batch_size=8, learning_rate='constant', max_iter=500, \n",
    "                        shuffle=False, random_state=9, validation_fraction=0.05, \n",
    "                        n_iter_no_change=30).fit(X_train, y_train)\n",
    "\n",
    "MLP_score = cross_validation_process(MLP_clf, X_test, y_test, cv=11)"
   ]
  },
  {
   "cell_type": "markdown",
   "metadata": {},
   "source": [
    "### Best for small dataset:\n",
    "\n",
    "15 for test:\n",
    "1. KNN = 83% [[4 1][2 11]]\n",
    "2. Random Forest = 83% [[5 0][3 10]]\n",
    "3. Ada Boost Classifier = 83% [[4 1][2 11]]\n",
    "4. Gaussian Process Classifier = 83% [[4 1][2 11]]"
   ]
  },
  {
   "cell_type": "code",
   "execution_count": 76,
   "metadata": {
    "ExecuteTime": {
     "end_time": "2018-11-09T04:47:10.020174Z",
     "start_time": "2018-11-09T04:47:10.006198Z"
    }
   },
   "outputs": [],
   "source": [
    "# classification_scoring = ['accuracy', 'balanced_accuracy', 'average_precision',\n",
    "#                           'brier_score_loss', 'f1', 'f1_micro', 'f1_macro',\n",
    "#                           'f1_weighted', 'neg_log_loss', 'precision',\n",
    "#                           'recall', 'roc_auc']"
   ]
  },
  {
   "cell_type": "code",
   "execution_count": 77,
   "metadata": {
    "ExecuteTime": {
     "end_time": "2018-11-09T04:47:10.042817Z",
     "start_time": "2018-11-09T04:47:10.022296Z"
    }
   },
   "outputs": [],
   "source": [
    "# classifiers = [\n",
    "#     KNeighborsClassifier(3),\n",
    "#     SVC(kernel=\"linear\", C=0.025),\n",
    "#     SVC(gamma=2, C=1),\n",
    "#     GaussianProcessClassifier(1.0 * RBF(1.0)),\n",
    "#     DecisionTreeClassifier(max_depth=5),\n",
    "#     RandomForestClassifier(max_depth=5, n_estimators=10, max_features=1),\n",
    "#     MLPClassifier(alpha=1),\n",
    "#     AdaBoostClassifier(),\n",
    "#     GaussianNB(),\n",
    "#     QuadraticDiscriminantAnalysis()]"
   ]
  },
  {
   "cell_type": "code",
   "execution_count": 78,
   "metadata": {
    "ExecuteTime": {
     "end_time": "2018-11-09T04:47:10.064743Z",
     "start_time": "2018-11-09T04:47:10.045073Z"
    }
   },
   "outputs": [],
   "source": [
    "# clf1 = LogisticRegression(solver='lbfgs', multi_class='multinomial',\n",
    "#                           random_state=1)\n",
    "# clf2 = RandomForestClassifier(n_estimators=50, random_state=1)\n",
    "# clf3 = GaussianNB()\n",
    "\n",
    "# eclf = VotingClassifier(estimators=[('lr', clf1), ('rf', clf2), ('gnb', clf3)], voting='hard')\n",
    "\n",
    "# for clf, label in zip([clf1, clf2, clf3, eclf], ['Logistic Regression', 'Random Forest', 'naive Bayes', 'Ensemble']):\n",
    "#     scores = cross_val_score(clf, X, y, cv=5, scoring='accuracy')\n",
    "#     print(\"Accuracy: %0.2f (+/- %0.2f) [%s]\" % (scores.mean(), scores.std(), label))"
   ]
  },
  {
   "cell_type": "code",
   "execution_count": 79,
   "metadata": {
    "ExecuteTime": {
     "end_time": "2018-11-09T04:47:10.086828Z",
     "start_time": "2018-11-09T04:47:10.066539Z"
    }
   },
   "outputs": [],
   "source": [
    "# clf = DecisionTreeClassifier(max_depth=None, min_samples_split=2,\n",
    "#     random_state=0)\n",
    "# scores = cross_val_score(clf, X, y, cv=5)\n",
    "# scores.mean()\n",
    "\n",
    "\n",
    "# clf = RandomForestClassifier(n_estimators=10, max_depth=None,\n",
    "#     min_samples_split=2, random_state=0)\n",
    "# scores = cross_val_score(clf, X, y, cv=5)\n",
    "# scores.mean()\n",
    "\n",
    "\n",
    "# clf = ExtraTreesClassifier(n_estimators=10, max_depth=None,\n",
    "#     min_samples_split=2, random_state=0)\n",
    "# scores = cross_val_score(clf, X, y, cv=5)\n",
    "# scores.mean() > 0.999"
   ]
  },
  {
   "cell_type": "code",
   "execution_count": null,
   "metadata": {
    "ExecuteTime": {
     "end_time": "2018-11-06T19:10:38.952154Z",
     "start_time": "2018-11-06T19:10:38.935223Z"
    }
   },
   "outputs": [],
   "source": [
    "# est = GradientBoostingRegressor\n",
    "# mean_squared_error(y_test, est.predict(X_test))  \n",
    "# clf.score(X_test, y_test)"
   ]
  }
 ],
 "metadata": {
  "kernelspec": {
   "display_name": "Python 3",
   "language": "python",
   "name": "python3"
  },
  "language_info": {
   "codemirror_mode": {
    "name": "ipython",
    "version": 3
   },
   "file_extension": ".py",
   "mimetype": "text/x-python",
   "name": "python",
   "nbconvert_exporter": "python",
   "pygments_lexer": "ipython3",
   "version": "3.6.6"
  },
  "latex_envs": {
   "LaTeX_envs_menu_present": false,
   "autoclose": false,
   "autocomplete": true,
   "bibliofile": "biblio.bib",
   "cite_by": "apalike",
   "current_citInitial": 1,
   "eqLabelWithNumbers": true,
   "eqNumInitial": 1,
   "hotkeys": {
    "equation": "Ctrl-E",
    "itemize": "Ctrl-I"
   },
   "labels_anchors": false,
   "latex_user_defs": false,
   "report_style_numbering": false,
   "user_envs_cfg": false
  }
 },
 "nbformat": 4,
 "nbformat_minor": 2
}
