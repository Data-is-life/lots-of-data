{
 "cells": [
  {
   "cell_type": "markdown",
   "metadata": {},
   "source": [
    "# Running all Classification Models to get the best predictions\n",
    "## Then, moving on to Neural Networks to get \"Better Predictions\""
   ]
  },
  {
   "cell_type": "code",
   "execution_count": 1,
   "metadata": {
    "ExecuteTime": {
     "end_time": "2018-11-21T20:00:32.294939Z",
     "start_time": "2018-11-21T20:00:31.547455Z"
    }
   },
   "outputs": [],
   "source": [
    "from pandas import read_csv\n",
    "from sklearn.ensemble import AdaBoostClassifier\n",
    "from sklearn.ensemble import RandomForestClassifier\n",
    "from sklearn.gaussian_process import GaussianProcessClassifier\n",
    "from sklearn.linear_model import LogisticRegression\n",
    "from sklearn.linear_model import SGDClassifier\n",
    "from sklearn.neighbors import KNeighborsClassifier\n",
    "from dummies_bins_test_train_cv import get_Xy_train_test\n",
    "from dummies_bins_test_train_cv import cross_validation_process\n",
    "# from clean_chess_game_log import main_cleanup\n",
    "# _, _, _ = main_cleanup('../data/dest.pgn')"
   ]
  },
  {
   "cell_type": "code",
   "execution_count": 3,
   "metadata": {
    "ExecuteTime": {
     "end_time": "2018-11-21T18:43:50.702963Z",
     "start_time": "2018-11-21T18:43:50.682883Z"
    }
   },
   "outputs": [],
   "source": [
    "df = read_csv('../data/use_for_predictions.csv')"
   ]
  },
  {
   "cell_type": "code",
   "execution_count": 26,
   "metadata": {
    "ExecuteTime": {
     "end_time": "2018-11-21T19:33:40.057275Z",
     "start_time": "2018-11-21T19:33:40.010258Z"
    }
   },
   "outputs": [
    {
     "name": "stdout",
     "output_type": "stream",
     "text": [
      "y Shape: (2117,)\n",
      "X Shape: (2117, 30)\n",
      "X_train Shape: (2097, 30)\n",
      "X_test Shape: (20, 30)\n",
      "y_train Shape: (2097,)\n",
      "y_test Shape: (20,)\n"
     ]
    }
   ],
   "source": [
    "X_train, X_test, y_train, y_test, X, y, df_clean = get_Xy_train_test(df, .985, .995)"
   ]
  },
  {
   "cell_type": "markdown",
   "metadata": {},
   "source": [
    "__2117 - Total Games__\n",
    "\n",
    "__Round 1:__\n",
    "\n",
    "- 1956 - Training Set\n",
    "- 161 - Test Set \n",
    "- Split - 92.4/7.6\n",
    "\n",
    "__Round 2:__\n",
    "\n",
    "- 2037 - Training Set\n",
    "- 80 - Test Set\n",
    "- Split - 96.2/3.8\n",
    "\n",
    "__Round 3:__\n",
    "\n",
    "- 2037 - Training Set\n",
    "- 20 - Test Set\n",
    "- Split - 99.1/0.9"
   ]
  },
  {
   "cell_type": "markdown",
   "metadata": {},
   "source": [
    "### Linear Discriminant Analysis\n",
    "\n",
    "__Round 1 Results:__<br>\n",
    "Accuracy - $68.32$%<br>\n",
    "|TP - 43|FP - 30|<br>\n",
    "|FN - 21|TN - 67|<br>\n",
    "__110 Correct Predictions, 51 Wrong Predictions__<br>\n",
    "*I'm really considering deleting this model*<br>\n",
    "<br>\n",
    "__Round 2 Results:__<br>\n",
    "Accuracy - $66.25$%<br>\n",
    "|TP - 19|FP - 16|<br>\n",
    "|FN - 11|TN - 34|<br>\n",
    "__53 Correct Predictions, 27 Wrong Predictions__<br>\n",
    "*Even worse than the last round!*<br>\n",
    "<br>\n",
    "__Round 3 Results:__<br>\n",
    "Accuracy - $65.00$%<br>\n",
    "|TP - 6|FP - 3|<br>\n",
    "|FN - 4|TN - 7|<br>\n",
    "__13 Correct Predictions, 7 Wrong Predictions__<br>\n",
    "*Keeps getting worse. Set for deletion*\n",
    "\n",
    "__DELETED<br>\n",
    "Code:__\n",
    "```python\n",
    "from sklearn.discriminant_analysis import LinearDiscriminantAnalysis\n",
    "LDA_clf = LinearDiscriminantAnalysis(solver='lsqr', shrinkage='auto'\n",
    "                                    ).fit(X_train, y_train)\n",
    "\n",
    "cross_validation_process(LDA_clf, X_train, y_train, X_test, y_test, cv=11)\n",
    "```"
   ]
  },
  {
   "cell_type": "markdown",
   "metadata": {},
   "source": [
    "### Gaussian Process Classifier"
   ]
  },
  {
   "cell_type": "markdown",
   "metadata": {},
   "source": [
    "__Round 1 Results:__<br>\n",
    "Accuracy - $73.29$%<br>\n",
    "|TP - 51|FP - 22|<br>\n",
    "|FN - 21|TN - 67|<br>\n",
    "__118 Correct Predictions, 43 Wrong Predictions__<br>\n",
    "*The most balanced predictor. Still, GPC can do better than 73.29%*\n",
    "<br>\n",
    "<br>\n",
    "__Round 2 Results:__<br>\n",
    "Accuracy - $71.25$%<br>\n",
    "|TP - 23|FP - 12|<br>\n",
    "|FN - 11|TN - 34|<br>\n",
    "__57 Correct Predictions, 23 Wrong Predictions__<br>\n",
    "*What happened GPC?!*<br>\n",
    "<br>\n",
    "__Round 3 Results:__<br>\n",
    "Accuracy - $70.00$%<br>\n",
    "|TP - 8|FP - 1|<br>\n",
    "|FN - 5|TN - 6|<br>\n",
    "__14 Correct Predictions, 6 Wrong Predictions__<br>\n",
    "*I vouched for you man!*"
   ]
  },
  {
   "cell_type": "code",
   "execution_count": 28,
   "metadata": {
    "ExecuteTime": {
     "end_time": "2018-11-21T19:34:10.308264Z",
     "start_time": "2018-11-21T19:33:44.588906Z"
    },
    "scrolled": false
   },
   "outputs": [
    {
     "name": "stdout",
     "output_type": "stream",
     "text": [
      "Average_Accuracy(average_precision)=75.63%\n",
      "Scores(average_precision)=[0.731 0.742 0.805 0.706 0.735 0.725 0.772 0.771 0.724 0.83  0.78 ]\n",
      "Standard_Deviation=0.036\n",
      "\n",
      "Prediction_Confusion_Matrix:\n",
      "[8|1]    \t                                \n",
      "[5|6]\n",
      "Prediction_Accuracy=70.0%\n",
      "No Feature Importances\n",
      "\n",
      "Classification Report:\n",
      "              precision    recall  f1-score   support\n",
      "\n",
      "         0.0       0.62      0.89      0.73         9\n",
      "         1.0       0.86      0.55      0.67        11\n",
      "\n",
      "   micro avg       0.70      0.70      0.70        20\n",
      "   macro avg       0.74      0.72      0.70        20\n",
      "weighted avg       0.75      0.70      0.69        20\n",
      "\n",
      "\n"
     ]
    }
   ],
   "source": [
    "gpc_rbf_clf = GaussianProcessClassifier(n_jobs=-2, n_restarts_optimizer=10,\n",
    "                                        random_state=9).fit(X_train, y_train)\n",
    "cross_validation_process(gpc_rbf_clf, X_train, y_train, X_test, y_test, cv=11)"
   ]
  },
  {
   "cell_type": "markdown",
   "metadata": {},
   "source": [
    "### Logistic Regression"
   ]
  },
  {
   "cell_type": "markdown",
   "metadata": {},
   "source": [
    "__Round 1 Results:__<br>\n",
    "Accuracy - $71.43$%<br>\n",
    "|TP - 47|FP - 26|<br>\n",
    "|FN - 20|TN - 68|<br>\n",
    "__115 Correct Predictions, 46 Wrong Predictions__<br>\n",
    "*Logistic Regression is fairly balanced. 71.43% = Not so good...*<br>\n",
    "<br>\n",
    "__Round 2 Results:__<br>\n",
    "Accuracy - $68.75$%<br>\n",
    "|TP - 21|FP - 14|<br>|\n",
    "|FN - 11|TN - 34|<br>\n",
    "__55 Correct Predictions, 25 Wrong Predictions__<br>\n",
    "*I was hoping to see better results...*<br>\n",
    "<br>\n",
    "__Round 3 Results:__<br>\n",
    "Accuracy - $80.00$%<br>\n",
    "|TP - 9|FP - 0|<br>\n",
    "|FN - 4|TN - 7|<br>\n",
    "__16 Correct Predictions, 4 Wrong Predictions__<br>\n",
    "*How did you do that!?*"
   ]
  },
  {
   "cell_type": "code",
   "execution_count": 29,
   "metadata": {
    "ExecuteTime": {
     "end_time": "2018-11-21T19:34:11.979477Z",
     "start_time": "2018-11-21T19:34:10.311906Z"
    },
    "scrolled": false
   },
   "outputs": [
    {
     "name": "stdout",
     "output_type": "stream",
     "text": [
      "Average_Accuracy(average_precision)=77.56%\n",
      "Scores(average_precision)=[0.749 0.809 0.77  0.757 0.744 0.727 0.798 0.853 0.73  0.795 0.801]\n",
      "Standard_Deviation=0.037\n",
      "\n",
      "Prediction_Confusion_Matrix:\n",
      "[9|0]    \t                                \n",
      "[4|7]\n",
      "Prediction_Accuracy=80.0%\n",
      "No Feature Importances\n",
      "\n",
      "Classification Report:\n",
      "              precision    recall  f1-score   support\n",
      "\n",
      "         0.0       0.69      1.00      0.82         9\n",
      "         1.0       1.00      0.64      0.78        11\n",
      "\n",
      "   micro avg       0.80      0.80      0.80        20\n",
      "   macro avg       0.85      0.82      0.80        20\n",
      "weighted avg       0.86      0.80      0.80        20\n",
      "\n",
      "\n"
     ]
    }
   ],
   "source": [
    "lgst_reg_clf = LogisticRegression(penalty='l2', class_weight='balanced', random_state=9, \n",
    "                                  max_iter=5000, C=1e-3, solver='lbfgs', n_jobs=8, \n",
    "                                  multi_class='auto').fit(X_train, y_train)\n",
    "\n",
    "cross_validation_process(lgst_reg_clf, X_train, y_train, X_test, y_test, cv=11)"
   ]
  },
  {
   "cell_type": "markdown",
   "metadata": {},
   "source": [
    "### Ada Boost Classifier"
   ]
  },
  {
   "cell_type": "markdown",
   "metadata": {},
   "source": [
    "__Round 1 Results:__<br>\n",
    "Accuracy - $72.67$%<br>\n",
    "|TP - 47|FP - 26|<br>\n",
    "|FN - 18|TN - 70|<br>\n",
    "__117 Correct Predictions, 44 Wrong Predictions__<br>\n",
    "*Pretty well balanced predictions. Still at 72.67% though...*<br>\n",
    "<br>\n",
    "__Round 2 Results:__<br>\n",
    "Accuracy - $70.00$%<br>\n",
    "|TP - 23|FP - 12|<br>\n",
    "|FN - 12|TN - 33|<br>\n",
    "__56 Correct Predictions, 24 Wrong Predictions__<br>\n",
    "*At least you're not the only one who did worse...*<<br>\n",
    "<br>\n",
    "__Round 3 Results:__<br>\n",
    "Accuracy - $80.00$%<br>\n",
    "|TP - 9|FP - 0|<br>\n",
    "|FN - 4|TN - 7|<br>\n",
    "__16 Correct Predictions, 4 Wrong Predictions__<br>\n",
    "*Hey Logistic! You've got a competition!*"
   ]
  },
  {
   "cell_type": "code",
   "execution_count": 30,
   "metadata": {
    "ExecuteTime": {
     "end_time": "2018-11-21T19:34:17.343459Z",
     "start_time": "2018-11-21T19:34:11.982142Z"
    },
    "scrolled": false
   },
   "outputs": [
    {
     "name": "stdout",
     "output_type": "stream",
     "text": [
      "Average_Accuracy(average_precision)=75.43%\n",
      "Scores(average_precision)=[0.729 0.77  0.733 0.733 0.74  0.735 0.77  0.816 0.707 0.785 0.779]\n",
      "Standard_Deviation=0.031\n",
      "\n",
      "Prediction_Confusion_Matrix:\n",
      "[9|0]    \t                                \n",
      "[4|7]\n",
      "Prediction_Accuracy=80.0%\n",
      "Feature importance = [0.0729927 0.9270073 0.        0.        0.        0.        0.\n",
      " 0.        0.        0.        0.        0.        0.        0.\n",
      " 0.        0.        0.        0.        0.        0.        0.\n",
      " 0.        0.        0.        0.        0.        0.        0.\n",
      " 0.        0.       ]\n",
      "\n",
      "Classification Report:\n",
      "              precision    recall  f1-score   support\n",
      "\n",
      "         0.0       0.69      1.00      0.82         9\n",
      "         1.0       1.00      0.64      0.78        11\n",
      "\n",
      "   micro avg       0.80      0.80      0.80        20\n",
      "   macro avg       0.85      0.82      0.80        20\n",
      "weighted avg       0.86      0.80      0.80        20\n",
      "\n",
      "\n"
     ]
    }
   ],
   "source": [
    "ada_clf = AdaBoostClassifier(n_estimators=274, learning_rate=0.013,\n",
    "                             random_state=9).fit(X_train, y_train)\n",
    "cross_validation_process(ada_clf, X_train, y_train, X_test, y_test, cv=11)"
   ]
  },
  {
   "cell_type": "markdown",
   "metadata": {},
   "source": [
    "### SGD Classifier"
   ]
  },
  {
   "cell_type": "markdown",
   "metadata": {},
   "source": [
    "__Round 1 Results:__<br>\n",
    "Accuracy - $73.91$%<br>\n",
    "|TP - 39|FP - 34|<br>\n",
    "|FN - 08|TN - 80|<br>\n",
    "__119 Correct Predictions, 42 Wrong Predictions__<br>\n",
    "*Seems like, SGD is great at predicting losses, not so good at predicting wins.* $lol$<br>\n",
    "<br>\n",
    "__Round 2 Results:__<br>\n",
    "Accuracy - $71.25$%<br>\n",
    "|TP - 21|FP - 14|<br>\n",
    "|FN - 09|TN - 36|<br>\n",
    "__57 Correct Predictions, 23 Wrong Predictions__<br>\n",
    "*I should not look at your prediction before starting a game, or you'll de-motivate me to play horribly. $lol. sigh$*<br>\n",
    "<br>\n",
    "__Round 3 Results:__<br>\n",
    "Accuracy - $70.00$%<br>\n",
    "|TP - 9|FP - 0|<br>\n",
    "|FN - 6|TN - 5|<br>\n",
    "__14 Correct Predictions, 6 Wrong Predictions__<br>\n",
    "*Somethings never change* $sigh$"
   ]
  },
  {
   "cell_type": "code",
   "execution_count": 31,
   "metadata": {
    "ExecuteTime": {
     "end_time": "2018-11-21T19:34:18.947475Z",
     "start_time": "2018-11-21T19:34:17.345940Z"
    },
    "scrolled": false
   },
   "outputs": [
    {
     "name": "stdout",
     "output_type": "stream",
     "text": [
      "Average_Accuracy(average_precision)=77.53%\n",
      "Scores(average_precision)=[0.754 0.793 0.758 0.756 0.754 0.768 0.778 0.855 0.716 0.799 0.796]\n",
      "Standard_Deviation=0.034\n",
      "\n",
      "Prediction_Confusion_Matrix:\n",
      "[9|0]    \t                                \n",
      "[6|5]\n",
      "Prediction_Accuracy=70.0%\n",
      "No Feature Importances\n",
      "\n",
      "Classification Report:\n",
      "              precision    recall  f1-score   support\n",
      "\n",
      "         0.0       0.60      1.00      0.75         9\n",
      "         1.0       1.00      0.45      0.62        11\n",
      "\n",
      "   micro avg       0.70      0.70      0.70        20\n",
      "   macro avg       0.80      0.73      0.69        20\n",
      "weighted avg       0.82      0.70      0.68        20\n",
      "\n",
      "\n"
     ]
    }
   ],
   "source": [
    "SGD_clf = SGDClassifier(loss='hinge', penalty='l2', max_iter=1e3,\n",
    "                        shuffle=False, n_jobs=8, random_state=9,\n",
    "                        class_weight='balanced').fit(X_train, y_train)\n",
    "cross_validation_process(SGD_clf, X_train, y_train, X_test, y_test, cv=11)"
   ]
  },
  {
   "cell_type": "markdown",
   "metadata": {},
   "source": [
    "### Random Forest Classifier"
   ]
  },
  {
   "cell_type": "markdown",
   "metadata": {},
   "source": [
    "__Round 1 Results:__<br>\n",
    "Accuracy - $72.67$%<br>\n",
    "|TP - 51|FP - 22|<br>\n",
    "|FN - 22|TN - 66|<br>\n",
    "__117 Correct Predictions, 44 Wrong Predictions__<br>\n",
    "*Same FP & FN... Interesting*<br>\n",
    "<br>\n",
    "__Round 2 Results:__<br>\n",
    "Accuracy - $73.75$%<br>\n",
    "|TP - 23|FP - 12|<br>\n",
    "|FN - 09|TN - 36|<br>\n",
    "__59 Correct Predictions, 21 Wrong Predictions__<br>\n",
    "*Best of the bunch so far!*<br>\n",
    "<br>\n",
    "__Round 3 Results:__<br>\n",
    "Accuracy - $70.00$%<br>\n",
    "|TP - 8|FP - 1|<br>\n",
    "|FN - 5|TN - 6|<br>\n",
    "__14 Correct Predictions, 6 Wrong Predictions__<br>\n",
    "*Oh, what a fool I was for having higher expectations from you*"
   ]
  },
  {
   "cell_type": "code",
   "execution_count": 32,
   "metadata": {
    "ExecuteTime": {
     "end_time": "2018-11-21T19:34:39.477228Z",
     "start_time": "2018-11-21T19:34:18.949549Z"
    },
    "scrolled": false
   },
   "outputs": [
    {
     "name": "stdout",
     "output_type": "stream",
     "text": [
      "Average_Accuracy(average_precision)=76.69%\n",
      "Scores(average_precision)=[0.748 0.742 0.798 0.724 0.752 0.748 0.766 0.842 0.712 0.797 0.808]\n",
      "Standard_Deviation=0.038\n",
      "\n",
      "Prediction_Confusion_Matrix:\n",
      "[8|1]    \t                                \n",
      "[5|6]\n",
      "Prediction_Accuracy=70.0%\n",
      "Feature importance = [3.63203874e-02 5.96128663e-01 1.43801682e-02 1.89663135e-02\n",
      " 3.07432464e-04 1.62632886e-03 1.52931326e-03 4.02291259e-03\n",
      " 1.09567882e-02 1.28804635e-02 1.41265899e-02 1.13020288e-02\n",
      " 1.16013212e-02 1.10708717e-02 1.30704427e-02 1.31405292e-02\n",
      " 1.53919710e-02 1.31540602e-02 1.41165597e-02 1.25468356e-02\n",
      " 1.06193100e-02 9.74413130e-03 9.95067952e-03 1.12480752e-02\n",
      " 2.51336219e-02 2.29640742e-02 2.11096500e-02 2.13543840e-02\n",
      " 1.98161860e-02 2.14199064e-02]\n",
      "\n",
      "Classification Report:\n",
      "              precision    recall  f1-score   support\n",
      "\n",
      "         0.0       0.62      0.89      0.73         9\n",
      "         1.0       0.86      0.55      0.67        11\n",
      "\n",
      "   micro avg       0.70      0.70      0.70        20\n",
      "   macro avg       0.74      0.72      0.70        20\n",
      "weighted avg       0.75      0.70      0.69        20\n",
      "\n",
      "\n"
     ]
    }
   ],
   "source": [
    "rand_frst_clf = RandomForestClassifier(n_estimators=1000, criterion='entropy', n_jobs=-2,\n",
    "                                       min_samples_leaf=2, random_state=9,\n",
    "                                       class_weight='balanced').fit(X_train, y_train)\n",
    "\n",
    "cross_validation_process(rand_frst_clf, X_train, y_train, X_test, y_test, cv=11)"
   ]
  },
  {
   "cell_type": "markdown",
   "metadata": {},
   "source": [
    "### Ridge Classifier\n",
    "__Round 1 Results:__<br>\n",
    "Accuracy - $68.32$%<br>\n",
    "|TP - 42|FP - 31|<br>\n",
    "|FN - 20|TN - 68|<br>\n",
    "__110 Correct Predictions, 51 Wrong Predictions__<br>\n",
    "*Another model considered for deletion, if it doesn't perform better in the next round*<br>\n",
    "<br>\n",
    "__Round 2 Results:__<br>\n",
    "Accuracy - $65.00$%<br>\n",
    "|TP - 18|FP - 17|<br>\n",
    "|FN - 11|TN - 34|<br>\n",
    "__57 Correct Predictions, 23 Wrong Predictions__<br>\n",
    "*I can do better than that! Not even $2/3$*<br>\n",
    "<br>\n",
    "__Round 3 Results:__<br>\n",
    "Accuracy - $65.00$%<br>\n",
    "|TP - 6|FP - 3|<br>\n",
    "|FN - 4|TN - 7|<br>\n",
    "__13 Correct Predictions, 7 Wrong Predictions__<br>\n",
    "*I'm done with you. Deleting after this*<br>\n",
    "__DELETED<br>\n",
    "Code:__\n",
    "```python\n",
    "from sklearn.linear_model import RidgeClassifier\n",
    "ridge_clf = RidgeClassifier(class_weight='balanced', random_state=9\n",
    "                           ).fit(X_train, y_train)\n",
    "cross_validation_process(ridge_clf, X_train, y_train, X_test, y_test, cv=11)\n",
    "```"
   ]
  },
  {
   "cell_type": "markdown",
   "metadata": {},
   "source": [
    "### K Neighbors Classifier"
   ]
  },
  {
   "cell_type": "markdown",
   "metadata": {},
   "source": [
    "__Round 1 Results:__<br>\n",
    "Accuracy - $74.53$%<br>\n",
    "|TP - 51|FP - 22|<br>\n",
    "|FN - 19|TN - 69|<br>\n",
    "__120 Correct Predictions, 41 Wrong Predictions__<br>\n",
    "*The best so far. Could you better on smaller test set though? Let's find out in the next round!*<br>\n",
    "<br>\n",
    "__Round 2 Results:__<br>\n",
    "Accuracy - $68.75$%<br>\n",
    "|TP - 21|FP - 14|<br>\n",
    "|FN - 11|TN - 34|<br>\n",
    "__55 Correct Predictions, 25 Wrong Predictions__<br>\n",
    "*$DUDE!!$*<br>\n",
    "<br>\n",
    "__Round 3 Results:__<br>\n",
    "Accuracy - $70.00$%<br>\n",
    "|TP - 8|FP - 1|<br>\n",
    "|FN - 5|TN - 6|<br>\n",
    "__14 Correct Predictions, 6 Wrong Predictions__<br>\n",
    "*$Seriously!!$*<br>"
   ]
  },
  {
   "cell_type": "code",
   "execution_count": 38,
   "metadata": {
    "ExecuteTime": {
     "end_time": "2018-11-21T19:59:15.228119Z",
     "start_time": "2018-11-21T19:59:14.870274Z"
    },
    "scrolled": false
   },
   "outputs": [
    {
     "name": "stdout",
     "output_type": "stream",
     "text": [
      "Average_Accuracy(average_precision)=75.79%\n",
      "Scores(average_precision)=[0.722 0.779 0.766 0.736 0.713 0.732 0.774 0.805 0.736 0.793 0.781]\n",
      "Standard_Deviation=0.03\n",
      "\n",
      "Prediction_Confusion_Matrix:\n",
      "[8|1]    \t                                \n",
      "[5|6]\n",
      "Prediction_Accuracy=70.0%\n",
      "No Feature Importances\n",
      "\n",
      "Classification Report:\n",
      "              precision    recall  f1-score   support\n",
      "\n",
      "         0.0       0.62      0.89      0.73         9\n",
      "         1.0       0.86      0.55      0.67        11\n",
      "\n",
      "   micro avg       0.70      0.70      0.70        20\n",
      "   macro avg       0.74      0.72      0.70        20\n",
      "weighted avg       0.75      0.70      0.69        20\n",
      "\n",
      "\n"
     ]
    }
   ],
   "source": [
    "KNN_clf = KNeighborsClassifier(n_neighbors=19, leaf_size=88, n_jobs=8,\n",
    "                              metric='manhattan').fit(X_train, y_train)\n",
    "cross_validation_process(KNN_clf, X_train, y_train, X_test, y_test, cv=11)"
   ]
  },
  {
   "cell_type": "markdown",
   "metadata": {},
   "source": [
    "### Multi-layer Perceptron classifier"
   ]
  },
  {
   "cell_type": "markdown",
   "metadata": {},
   "source": [
    "__Round 1 Results:__<br>\n",
    "Accuracy - $70.19$%<br>\n",
    "|TP - 48|FP - 25|<br>\n",
    "|FN - 23|TN - 65|<br>\n",
    "__113 Correct Predictions, 48 Wrong Predictions__<br>\n",
    "*Well balanced predictions. Takes a lot longer than other classification models and the accuracy score doesn't look all that great.*<br>\n",
    "<br>\n",
    "__Round 2 Results:__<br>\n",
    "Accuracy - $68.75$%<br>\n",
    "|TP - 21|FP - 14|<br>\n",
    "|FN - 11|TN - 34|<br>\n",
    "__55 Correct Predictions, 25 Wrong Predictions__<br>\n",
    "*Same as Logistic only takes 150X longer.*<br>\n",
    "<br>\n",
    "__Round 3 Results:__<br>\n",
    "Accuracy - $80.00$%<br>\n",
    "|TP - 9|FP - 0|<br>\n",
    "|FN - 4|TN - 7|<br>\n",
    "__16 Correct Predictions, 4 Wrong Predictions__<br>\n",
    "*Again! Same as Logistic only takes 150X longer.*<br>\n",
    "__DELETED<br>\n",
    "Code:__\n",
    "```python\n",
    "from sklearn.neural_network import MLPClassifier\n",
    "MLP_clf = MLPClassifier(hidden_layer_sizes=(256,), solver='lbfgs', \n",
    "                        batch_size=8, max_iter=5000, shuffle=False,\n",
    "                        random_state=9, verbose=True).fit(X_train, y_train)\n",
    "\n",
    "cross_validation_process(MLP_clf, X_train, y_train, X_test, y_test, cv=11)\n",
    "```"
   ]
  },
  {
   "cell_type": "code",
   "execution_count": 36,
   "metadata": {
    "ExecuteTime": {
     "end_time": "2018-11-21T19:37:37.816621Z",
     "start_time": "2018-11-21T19:37:37.797365Z"
    }
   },
   "outputs": [],
   "source": [
    "# classification_scoring = ['accuracy', 'balanced_accuracy', 'average_precision',\n",
    "#                           'brier_score_loss', 'f1', 'f1_micro', 'f1_macro',\n",
    "#                           'f1_weighted', 'neg_log_loss', 'precision',\n",
    "#                           'recall', 'roc_auc']"
   ]
  },
  {
   "cell_type": "code",
   "execution_count": null,
   "metadata": {},
   "outputs": [],
   "source": []
  },
  {
   "cell_type": "code",
   "execution_count": null,
   "metadata": {},
   "outputs": [],
   "source": []
  }
 ],
 "metadata": {
  "kernelspec": {
   "display_name": "Python 3",
   "language": "python",
   "name": "python3"
  },
  "language_info": {
   "codemirror_mode": {
    "name": "ipython",
    "version": 3
   },
   "file_extension": ".py",
   "mimetype": "text/x-python",
   "name": "python",
   "nbconvert_exporter": "python",
   "pygments_lexer": "ipython3",
   "version": "3.6.6"
  },
  "latex_envs": {
   "LaTeX_envs_menu_present": false,
   "autoclose": false,
   "autocomplete": true,
   "bibliofile": "biblio.bib",
   "cite_by": "apalike",
   "current_citInitial": 1,
   "eqLabelWithNumbers": true,
   "eqNumInitial": 1,
   "hotkeys": {
    "equation": "Ctrl-E",
    "itemize": "Ctrl-I"
   },
   "labels_anchors": false,
   "latex_user_defs": false,
   "report_style_numbering": false,
   "user_envs_cfg": false
  }
 },
 "nbformat": 4,
 "nbformat_minor": 2
}
