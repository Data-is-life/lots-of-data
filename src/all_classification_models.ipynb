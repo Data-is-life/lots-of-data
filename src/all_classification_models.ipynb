{
 "cells": [
  {
   "cell_type": "markdown",
   "metadata": {},
   "source": [
    "# Running all Classification Models to get the best predictions\n",
    "## Then, moving on to Neural Networks to get \"Better Predictions\""
   ]
  },
  {
   "cell_type": "code",
   "execution_count": 1,
   "metadata": {
    "ExecuteTime": {
     "end_time": "2018-11-17T03:10:42.387803Z",
     "start_time": "2018-11-17T03:10:41.562960Z"
    }
   },
   "outputs": [],
   "source": [
    "import pandas as pd\n",
    "import numpy as np\n",
    "import random\n",
    "\n",
    "from sklearn.discriminant_analysis import LinearDiscriminantAnalysis\n",
    "from sklearn.discriminant_analysis import QuadraticDiscriminantAnalysis\n",
    "\n",
    "from sklearn.ensemble import AdaBoostClassifier\n",
    "from sklearn.ensemble import ExtraTreesClassifier\n",
    "from sklearn.ensemble import GradientBoostingClassifier\n",
    "from sklearn.ensemble import RandomForestClassifier\n",
    "from sklearn.ensemble import VotingClassifier\n",
    "\n",
    "from sklearn.gaussian_process import GaussianProcessClassifier\n",
    "from sklearn.gaussian_process.kernels import RBF\n",
    "\n",
    "from sklearn.linear_model import LogisticRegression\n",
    "from sklearn.linear_model import LogisticRegressionCV\n",
    "from sklearn.linear_model import RidgeClassifier\n",
    "from sklearn.linear_model import RidgeClassifierCV\n",
    "from sklearn.linear_model import SGDClassifier\n",
    "\n",
    "from sklearn.metrics import *\n",
    "\n",
    "from sklearn.model_selection import train_test_split\n",
    "from sklearn.model_selection import cross_val_score\n",
    "from sklearn.model_selection import GridSearchCV\n",
    "\n",
    "from sklearn.neighbors import KDTree\n",
    "from sklearn.neighbors import KNeighborsClassifier\n",
    "\n",
    "from sklearn.neural_network import MLPClassifier\n",
    "\n",
    "from sklearn.svm import LinearSVC\n",
    "\n",
    "from dummies_bins_test_train_cv import get_Xy_train_test, cross_validation_process\n",
    "from clean_chess_game_log import main_cleanup\n",
    "\n",
    "from warnings import filterwarnings\n",
    "filterwarnings('ignore')"
   ]
  },
  {
   "cell_type": "code",
   "execution_count": 2,
   "metadata": {
    "ExecuteTime": {
     "end_time": "2018-11-17T03:10:50.690479Z",
     "start_time": "2018-11-17T03:10:42.676088Z"
    }
   },
   "outputs": [],
   "source": [
    "_,_,_ = main_cleanup('../data/dest.pgn')"
   ]
  },
  {
   "cell_type": "code",
   "execution_count": 35,
   "metadata": {
    "ExecuteTime": {
     "end_time": "2018-11-17T03:16:44.524669Z",
     "start_time": "2018-11-17T03:16:44.497565Z"
    }
   },
   "outputs": [],
   "source": [
    "df = pd.read_csv('../data/use_for_predictions.csv')"
   ]
  },
  {
   "cell_type": "code",
   "execution_count": 36,
   "metadata": {
    "ExecuteTime": {
     "end_time": "2018-11-17T03:16:44.554273Z",
     "start_time": "2018-11-17T03:16:44.528626Z"
    }
   },
   "outputs": [],
   "source": [
    "df = df[500:]"
   ]
  },
  {
   "cell_type": "code",
   "execution_count": 37,
   "metadata": {
    "ExecuteTime": {
     "end_time": "2018-11-17T03:16:44.748283Z",
     "start_time": "2018-11-17T03:16:44.559553Z"
    }
   },
   "outputs": [
    {
     "name": "stdout",
     "output_type": "stream",
     "text": [
      "y Shape: (1624,)\n",
      "X Shape: (1624, 20)\n",
      "X_train Shape: (1555, 20)\n",
      "X_test Shape: (69, 20)\n",
      "y_train Shape: (1555,)\n",
      "y_test Shape: (69,)\n"
     ]
    }
   ],
   "source": [
    "X_train, X_test, y_train, y_test, X, y, df_clean = get_Xy_train_test(df, .95, .97)"
   ]
  },
  {
   "cell_type": "markdown",
   "metadata": {},
   "source": [
    "### Linear Discriminant Analysis"
   ]
  },
  {
   "cell_type": "code",
   "execution_count": 38,
   "metadata": {
    "ExecuteTime": {
     "end_time": "2018-11-17T03:16:44.827389Z",
     "start_time": "2018-11-17T03:16:44.749992Z"
    },
    "scrolled": false
   },
   "outputs": [
    {
     "name": "stdout",
     "output_type": "stream",
     "text": [
      "Average_Accuracy(average_precision)=84.31%\n",
      "Standard_Deviation=0.146\n",
      "True_Score(Mean/SD)=5.767\n",
      "\n",
      "Prediction_Confusion_Matrix=[17|12]:[10|30]\n",
      "Prediction_Accuracy=68.12%\n"
     ]
    }
   ],
   "source": [
    "LDA_clf = LinearDiscriminantAnalysis(solver = 'lsqr', shrinkage='auto').fit(X_train, y_train)\n",
    "LDA_scores = cross_validation_process(LDA_clf, X_test, y_test, cv=11)"
   ]
  },
  {
   "cell_type": "markdown",
   "metadata": {},
   "source": [
    "### Quadratic Discriminant Analysis"
   ]
  },
  {
   "cell_type": "code",
   "execution_count": 39,
   "metadata": {
    "ExecuteTime": {
     "end_time": "2018-11-17T03:16:44.891194Z",
     "start_time": "2018-11-17T03:16:44.830289Z"
    },
    "scrolled": false
   },
   "outputs": [
    {
     "name": "stdout",
     "output_type": "stream",
     "text": [
      "Average_Accuracy(average_precision)=81.64%\n",
      "Standard_Deviation=0.133\n",
      "True_Score(Mean/SD)=6.149\n",
      "\n",
      "Prediction_Confusion_Matrix=[14|15]:[6|34]\n",
      "Prediction_Accuracy=69.57%\n"
     ]
    }
   ],
   "source": [
    "QDA_clf = QuadraticDiscriminantAnalysis(reg_param=0.26055).fit(X_train, y_train)\n",
    "QDA_scores = cross_validation_process(QDA_clf, X_test, y_test, cv=11)"
   ]
  },
  {
   "cell_type": "markdown",
   "metadata": {},
   "source": [
    "### Gaussian Process Classifier"
   ]
  },
  {
   "cell_type": "code",
   "execution_count": 40,
   "metadata": {
    "ExecuteTime": {
     "end_time": "2018-11-17T03:16:46.371460Z",
     "start_time": "2018-11-17T03:16:44.893199Z"
    },
    "scrolled": false
   },
   "outputs": [
    {
     "name": "stdout",
     "output_type": "stream",
     "text": [
      "Average_Accuracy(average_precision)=87.95%\n",
      "Standard_Deviation=0.112\n",
      "True_Score(Mean/SD)=7.885\n",
      "\n",
      "Prediction_Confusion_Matrix=[21|8]:[9|31]\n",
      "Prediction_Accuracy=75.36%\n"
     ]
    }
   ],
   "source": [
    "gpc_rbf_clf = GaussianProcessClassifier(n_jobs=-2, n_restarts_optimizer=10,\n",
    "                                        random_state=9).fit(X_train, y_train)\n",
    "gpc_rbf_score = cross_validation_process(gpc_rbf_clf, X_test, y_test, cv=11)"
   ]
  },
  {
   "cell_type": "markdown",
   "metadata": {},
   "source": [
    "### Logistic Regression"
   ]
  },
  {
   "cell_type": "code",
   "execution_count": 41,
   "metadata": {
    "ExecuteTime": {
     "end_time": "2018-11-17T03:16:47.067788Z",
     "start_time": "2018-11-17T03:16:46.373830Z"
    },
    "scrolled": false
   },
   "outputs": [
    {
     "name": "stdout",
     "output_type": "stream",
     "text": [
      "Average_Accuracy(average_precision)=86.94%\n",
      "Standard_Deviation=0.082\n",
      "True_Score(Mean/SD)=10.539\n",
      "\n",
      "Prediction_Confusion_Matrix=[16|13]:[11|29]\n",
      "Prediction_Accuracy=65.22%\n"
     ]
    }
   ],
   "source": [
    "lgst_reg_clf = LogisticRegression(penalty='l2', class_weight='balanced', random_state=9, \n",
    "                                  max_iter=5000, C=1e-3, solver='lbfgs', n_jobs=8, \n",
    "                                  multi_class='auto').fit(X_train, y_train)\n",
    "\n",
    "lgst_reg_score = cross_validation_process(lgst_reg_clf, X_test, y_test, cv=11)"
   ]
  },
  {
   "cell_type": "markdown",
   "metadata": {},
   "source": [
    "### Logistic Regression CV"
   ]
  },
  {
   "cell_type": "code",
   "execution_count": 42,
   "metadata": {
    "ExecuteTime": {
     "end_time": "2018-11-17T03:16:51.782405Z",
     "start_time": "2018-11-17T03:16:47.070111Z"
    },
    "scrolled": true
   },
   "outputs": [
    {
     "name": "stdout",
     "output_type": "stream",
     "text": [
      "Average_Accuracy(average_precision)=86.6%\n",
      "Standard_Deviation=0.091\n",
      "True_Score(Mean/SD)=9.552\n",
      "\n",
      "Prediction_Confusion_Matrix=[15|14]:[11|29]\n",
      "Prediction_Accuracy=63.77%\n"
     ]
    }
   ],
   "source": [
    "lgst_reg_cv_clf = LogisticRegressionCV(Cs=10, penalty='l2', cv=6,\n",
    "                                       class_weight='balanced', random_state=9,\n",
    "                                       solver='newton-cg', n_jobs=-2).fit(X_train, y_train)\n",
    "lgst_reg_cv_score = cross_validation_process(lgst_reg_cv_clf, X_test, y_test, cv=11)"
   ]
  },
  {
   "cell_type": "markdown",
   "metadata": {},
   "source": [
    "### Ada Boost Classifier"
   ]
  },
  {
   "cell_type": "code",
   "execution_count": 43,
   "metadata": {
    "ExecuteTime": {
     "end_time": "2018-11-17T03:16:54.612162Z",
     "start_time": "2018-11-17T03:16:51.784111Z"
    },
    "scrolled": false
   },
   "outputs": [
    {
     "name": "stdout",
     "output_type": "stream",
     "text": [
      "Average_Accuracy(average_precision)=82.1%\n",
      "Standard_Deviation=0.151\n",
      "True_Score(Mean/SD)=5.443\n",
      "\n",
      "Prediction_Confusion_Matrix=[17|12]:[12|28]\n",
      "Prediction_Accuracy=65.22%\n"
     ]
    }
   ],
   "source": [
    "ada_clf = AdaBoostClassifier(n_estimators=274, learning_rate=0.013,\n",
    "                             random_state=9).fit(X_train, y_train)\n",
    "ada_scores = cross_validation_process(ada_clf, X_test, y_test, cv=11)"
   ]
  },
  {
   "cell_type": "markdown",
   "metadata": {},
   "source": [
    "### SGD Classifier"
   ]
  },
  {
   "cell_type": "code",
   "execution_count": 44,
   "metadata": {
    "ExecuteTime": {
     "end_time": "2018-11-17T03:16:54.773689Z",
     "start_time": "2018-11-17T03:16:54.613865Z"
    },
    "scrolled": false
   },
   "outputs": [
    {
     "name": "stdout",
     "output_type": "stream",
     "text": [
      "Average_Accuracy(average_precision)=81.81%\n",
      "Standard_Deviation=0.155\n",
      "True_Score(Mean/SD)=5.268\n",
      "\n",
      "Prediction_Confusion_Matrix=[17|12]:[12|28]\n",
      "Prediction_Accuracy=65.22%\n"
     ]
    }
   ],
   "source": [
    "SGD_clf = SGDClassifier(loss='hinge', penalty='l2', max_iter=1e3,\n",
    "                        shuffle=False, n_jobs=8, random_state=9,\n",
    "                        class_weight='balanced').fit(X_train, y_train)\n",
    "SGD_score = cross_validation_process(SGD_clf, X_test, y_test, cv=11)"
   ]
  },
  {
   "cell_type": "markdown",
   "metadata": {},
   "source": [
    "### Random Forest Classifier"
   ]
  },
  {
   "cell_type": "code",
   "execution_count": 45,
   "metadata": {
    "ExecuteTime": {
     "end_time": "2018-11-17T03:17:11.113036Z",
     "start_time": "2018-11-17T03:17:02.534147Z"
    },
    "scrolled": true
   },
   "outputs": [
    {
     "name": "stdout",
     "output_type": "stream",
     "text": [
      "Average_Accuracy(average_precision)=82.87%\n",
      "Standard_Deviation=0.152\n",
      "True_Score(Mean/SD)=5.463\n",
      "\n",
      "Prediction_Confusion_Matrix=[21|8]:[9|31]\n",
      "Prediction_Accuracy=75.36%\n"
     ]
    }
   ],
   "source": [
    "rand_frst_clf = RandomForestClassifier(n_estimators=1000, criterion='entropy', n_jobs=-2,\n",
    "                                       min_samples_leaf=2, random_state=9,\n",
    "                                       class_weight='balanced').fit(X_train, y_train)\n",
    "\n",
    "rand_frst_score = cross_validation_process(rand_frst_clf, X_test, y_test, cv=11)"
   ]
  },
  {
   "cell_type": "markdown",
   "metadata": {},
   "source": [
    "### Ridge Classifier"
   ]
  },
  {
   "cell_type": "code",
   "execution_count": 46,
   "metadata": {
    "ExecuteTime": {
     "end_time": "2018-11-17T03:17:11.178724Z",
     "start_time": "2018-11-17T03:17:11.116239Z"
    },
    "scrolled": false
   },
   "outputs": [
    {
     "name": "stdout",
     "output_type": "stream",
     "text": [
      "Average_Accuracy(average_precision)=81.03%\n",
      "Standard_Deviation=0.178\n",
      "True_Score(Mean/SD)=4.562\n",
      "\n",
      "Prediction_Confusion_Matrix=[15|14]:[8|32]\n",
      "Prediction_Accuracy=68.12%\n"
     ]
    }
   ],
   "source": [
    "ridge_clf = RidgeClassifier(class_weight='balanced', random_state=9\n",
    "                           ).fit(X_train, y_train)\n",
    "ridge_score = cross_validation_process(ridge_clf, X_test, y_test, cv=11)"
   ]
  },
  {
   "cell_type": "markdown",
   "metadata": {},
   "source": [
    "### Ridge Classifier CV"
   ]
  },
  {
   "cell_type": "code",
   "execution_count": 47,
   "metadata": {
    "ExecuteTime": {
     "end_time": "2018-11-17T03:17:12.934402Z",
     "start_time": "2018-11-17T03:17:11.180964Z"
    },
    "scrolled": true
   },
   "outputs": [
    {
     "name": "stdout",
     "output_type": "stream",
     "text": [
      "Average_Accuracy(f1)=63.72%\n",
      "Standard_Deviation=0.254\n",
      "True_Score(Mean/SD)=2.507\n",
      "\n",
      "Prediction_Confusion_Matrix=[15|14]:[9|31]\n",
      "Prediction_Accuracy=66.67%\n"
     ]
    }
   ],
   "source": [
    "ridge_cv_clf = RidgeClassifierCV(scoring='average_precision', cv=20,\n",
    "                                 class_weight='balanced').fit(X_train, y_train)\n",
    "ridge_cv_score = cross_validation_process(ridge_cv_clf, X_test, y_test, cv=11, scoring='f1')"
   ]
  },
  {
   "cell_type": "markdown",
   "metadata": {},
   "source": [
    "### K Neighbors Classifier"
   ]
  },
  {
   "cell_type": "code",
   "execution_count": 48,
   "metadata": {
    "ExecuteTime": {
     "end_time": "2018-11-17T03:17:13.183399Z",
     "start_time": "2018-11-17T03:17:12.936972Z"
    },
    "scrolled": false
   },
   "outputs": [
    {
     "name": "stdout",
     "output_type": "stream",
     "text": [
      "Average_Accuracy(f1)=76.02%\n",
      "Standard_Deviation=0.142\n",
      "True_Score(Mean/SD)=5.348\n",
      "\n",
      "Prediction_Confusion_Matrix=[20|9]:[10|30]\n",
      "Prediction_Accuracy=72.46%\n"
     ]
    }
   ],
   "source": [
    "KNN_clf = KNeighborsClassifier(n_neighbors=19, leaf_size=88, n_jobs=8).fit(X_train, y_train)\n",
    "KNN_score = cross_validation_process(KNN_clf, X_test, y_test, cv=11, scoring='f1')"
   ]
  },
  {
   "cell_type": "markdown",
   "metadata": {},
   "source": [
    "### Multi-layer Perceptron classifier"
   ]
  },
  {
   "cell_type": "code",
   "execution_count": 49,
   "metadata": {
    "ExecuteTime": {
     "end_time": "2018-11-17T03:17:53.520176Z",
     "start_time": "2018-11-17T03:17:17.286960Z"
    },
    "scrolled": false
   },
   "outputs": [
    {
     "name": "stdout",
     "output_type": "stream",
     "text": [
      "Average_Accuracy(f1)=63.85%\n",
      "Standard_Deviation=0.152\n",
      "True_Score(Mean/SD)=4.195\n",
      "\n",
      "Prediction_Confusion_Matrix=[18|11]:[14|26]\n",
      "Prediction_Accuracy=63.77%\n"
     ]
    }
   ],
   "source": [
    "MLP_clf = MLPClassifier(hidden_layer_sizes=(64,), activation='logistic', solver='lbfgs', \n",
    "                        alpha=0.0001, batch_size=8, max_iter=5000,\n",
    "                        random_state=9, validation_fraction=0.1,\n",
    "                        verbose=True).fit(X_train, y_train)\n",
    "\n",
    "MLP_score = cross_validation_process(MLP_clf, X_test, y_test, cv=11, scoring='f1')"
   ]
  },
  {
   "cell_type": "code",
   "execution_count": 34,
   "metadata": {
    "ExecuteTime": {
     "end_time": "2018-11-17T03:16:44.493307Z",
     "start_time": "2018-11-17T03:16:44.477795Z"
    }
   },
   "outputs": [],
   "source": [
    "# classification_scoring = ['accuracy', 'balanced_accuracy', 'average_precision',\n",
    "#                           'brier_score_loss', 'f1', 'f1_micro', 'f1_macro',\n",
    "#                           'f1_weighted', 'neg_log_loss', 'precision',\n",
    "#                           'recall', 'roc_auc']"
   ]
  },
  {
   "cell_type": "code",
   "execution_count": null,
   "metadata": {},
   "outputs": [],
   "source": []
  },
  {
   "cell_type": "code",
   "execution_count": null,
   "metadata": {},
   "outputs": [],
   "source": []
  },
  {
   "cell_type": "code",
   "execution_count": null,
   "metadata": {},
   "outputs": [],
   "source": []
  }
 ],
 "metadata": {
  "kernelspec": {
   "display_name": "Python 3",
   "language": "python",
   "name": "python3"
  },
  "language_info": {
   "codemirror_mode": {
    "name": "ipython",
    "version": 3
   },
   "file_extension": ".py",
   "mimetype": "text/x-python",
   "name": "python",
   "nbconvert_exporter": "python",
   "pygments_lexer": "ipython3",
   "version": "3.6.6"
  },
  "latex_envs": {
   "LaTeX_envs_menu_present": false,
   "autoclose": false,
   "autocomplete": true,
   "bibliofile": "biblio.bib",
   "cite_by": "apalike",
   "current_citInitial": 1,
   "eqLabelWithNumbers": true,
   "eqNumInitial": 1,
   "hotkeys": {
    "equation": "Ctrl-E",
    "itemize": "Ctrl-I"
   },
   "labels_anchors": false,
   "latex_user_defs": false,
   "report_style_numbering": false,
   "user_envs_cfg": false
  }
 },
 "nbformat": 4,
 "nbformat_minor": 2
}
