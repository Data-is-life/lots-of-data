{
 "cells": [
  {
   "cell_type": "markdown",
   "metadata": {},
   "source": [
    "# Running all Classification Models to get the best predictions\n",
    "## Then, moving on to Neural Networks to get \"Better Predictions\""
   ]
  },
  {
   "cell_type": "code",
   "execution_count": 25,
   "metadata": {
    "ExecuteTime": {
     "end_time": "2018-11-09T04:31:52.157786Z",
     "start_time": "2018-11-09T04:31:52.137979Z"
    }
   },
   "outputs": [],
   "source": [
    "import pandas as pd\n",
    "import numpy as np\n",
    "\n",
    "from sklearn.discriminant_analysis import LinearDiscriminantAnalysis\n",
    "from sklearn.discriminant_analysis import QuadraticDiscriminantAnalysis\n",
    "\n",
    "from sklearn.ensemble import AdaBoostClassifier\n",
    "from sklearn.ensemble import ExtraTreesClassifier\n",
    "from sklearn.ensemble import GradientBoostingClassifier\n",
    "from sklearn.ensemble import RandomForestClassifier\n",
    "from sklearn.ensemble import VotingClassifier\n",
    "\n",
    "from sklearn.gaussian_process import GaussianProcessClassifier\n",
    "from sklearn.gaussian_process.kernels import RBF\n",
    "\n",
    "from sklearn.linear_model import LogisticRegression\n",
    "from sklearn.linear_model import LogisticRegressionCV\n",
    "from sklearn.linear_model import RidgeClassifier\n",
    "from sklearn.linear_model import RidgeClassifierCV\n",
    "from sklearn.linear_model import SGDClassifier\n",
    "\n",
    "from sklearn.metrics import *\n",
    "\n",
    "from sklearn.model_selection import train_test_split\n",
    "from sklearn.model_selection import cross_val_score\n",
    "from sklearn.model_selection import GridSearchCV\n",
    "\n",
    "from sklearn.tree import DecisionTreeClassifier\n",
    "\n",
    "from sklearn.neighbors import KDTree\n",
    "from sklearn.neighbors import KNeighborsClassifier\n",
    "from sklearn.neighbors import NearestCentroid\n",
    "from sklearn.neighbors import RadiusNeighborsClassifier\n",
    "\n",
    "from sklearn.neural_network import MLPClassifier\n",
    "\n",
    "from sklearn.svm import LinearSVC\n",
    "\n",
    "from dummies_bins_test_train_cv import *\n",
    "\n",
    "from warnings import filterwarnings\n",
    "filterwarnings('ignore')"
   ]
  },
  {
   "cell_type": "code",
   "execution_count": 26,
   "metadata": {
    "ExecuteTime": {
     "end_time": "2018-11-09T04:31:52.509142Z",
     "start_time": "2018-11-09T04:31:52.478073Z"
    }
   },
   "outputs": [],
   "source": [
    "df = pd.read_csv('../data/use_for_analysis.csv')"
   ]
  },
  {
   "cell_type": "code",
   "execution_count": 48,
   "metadata": {
    "ExecuteTime": {
     "end_time": "2018-11-09T04:36:49.062952Z",
     "start_time": "2018-11-09T04:36:48.973113Z"
    }
   },
   "outputs": [
    {
     "name": "stdout",
     "output_type": "stream",
     "text": [
      "y Shape: (2048,)\n",
      "X Shape: (2048, 31)\n",
      "X_train Shape: (2013, 31)\n",
      "X_test Shape: (35, 31)\n",
      "y_train Shape: (2013,)\n",
      "y_test Shape: (35,)\n"
     ]
    }
   ],
   "source": [
    "X_train, X_test, y_train, y_test = get_Xy_train_test(df, .98, .99)"
   ]
  },
  {
   "cell_type": "markdown",
   "metadata": {},
   "source": [
    "### Linear Discriminant Analysis"
   ]
  },
  {
   "cell_type": "code",
   "execution_count": 49,
   "metadata": {
    "ExecuteTime": {
     "end_time": "2018-11-09T04:36:50.871869Z",
     "start_time": "2018-11-09T04:36:50.856797Z"
    },
    "scrolled": false
   },
   "outputs": [],
   "source": [
    "# LDA_clf = LinearDiscriminantAnalysis(solver = 'lsqr', shrinkage='auto').fit(X_train, y_train)\n",
    "# LDA_scores = cross_validation_process(LDA_clf, X_test, y_test, cv=11)"
   ]
  },
  {
   "cell_type": "markdown",
   "metadata": {},
   "source": [
    "### Quadratic Discriminant Analysis\n",
    "\n",
    "Best results with:\n",
    "- reg_param = 0.26055\n",
    "- reg_param = 0.36968\n",
    "- reg_param = 0.96127\n",
    "- reg_param = 0.83353\n",
    "- reg_param = 0.77121"
   ]
  },
  {
   "cell_type": "code",
   "execution_count": 50,
   "metadata": {
    "ExecuteTime": {
     "end_time": "2018-11-09T04:36:51.633440Z",
     "start_time": "2018-11-09T04:36:51.618330Z"
    },
    "scrolled": true
   },
   "outputs": [],
   "source": [
    "# reg_param = [0.96127, 0.83353, 0.77121, 0.26055, 0.36968]\n",
    "# for num in reg_param:\n",
    "#     print(num)\n",
    "#     QDA_clf = QuadraticDiscriminantAnalysis(reg_param=num).fit(X_train, y_train)\n",
    "#     QDA_scores = cross_validation_process(QDA_clf, X_test, y_test, cv=11)"
   ]
  },
  {
   "cell_type": "markdown",
   "metadata": {},
   "source": [
    "### Gaussian Process Classifier"
   ]
  },
  {
   "cell_type": "code",
   "execution_count": 51,
   "metadata": {
    "ExecuteTime": {
     "end_time": "2018-11-09T04:36:54.889378Z",
     "start_time": "2018-11-09T04:36:52.669258Z"
    },
    "scrolled": false
   },
   "outputs": [
    {
     "name": "stdout",
     "output_type": "stream",
     "text": [
      "Average_Accuracy(average_precision)=77.27%\n",
      "Standard_Deviation=0.216\n",
      "Scores(average_precision)=[0.5   0.75  0.5   0.583 0.583 1.    1.    0.583 1.    1.    1.   ]\n",
      "No Feature Importances\n",
      "Prediction_Confusion_Matrix=\n",
      "[[ 9  5]\n",
      " [ 6 15]]\n",
      "Prediction_Accuracy=68.57%\n"
     ]
    }
   ],
   "source": [
    "gpc_rbf_clf = GaussianProcessClassifier(n_jobs=-2, max_iter_predict=100, n_restarts_optimizer=10,\n",
    "                                        random_state=9).fit(X_train, y_train)\n",
    "gpc_rbf_score = cross_validation_process(gpc_rbf_clf, X_test, y_test, cv=11)"
   ]
  },
  {
   "cell_type": "markdown",
   "metadata": {},
   "source": [
    "### Logistic Regression"
   ]
  },
  {
   "cell_type": "code",
   "execution_count": 52,
   "metadata": {
    "ExecuteTime": {
     "end_time": "2018-11-09T04:37:01.135390Z",
     "start_time": "2018-11-09T04:37:00.941747Z"
    },
    "scrolled": false
   },
   "outputs": [
    {
     "name": "stdout",
     "output_type": "stream",
     "text": [
      "Average_Accuracy(average_precision)=82.58%\n",
      "Standard_Deviation=0.206\n",
      "Scores(average_precision)=[0.583 1.    0.5   0.833 1.    0.583 1.    0.583 1.    1.    1.   ]\n",
      "No Feature Importances\n",
      "Prediction_Confusion_Matrix=\n",
      "[[10  4]\n",
      " [ 6 15]]\n",
      "Prediction_Accuracy=71.43%\n"
     ]
    }
   ],
   "source": [
    "lgst_reg_clf = LogisticRegression(penalty='l2', class_weight='balanced', random_state=9, \n",
    "                                  solver='newton-cg', n_jobs=-2, multi_class='auto').fit(X_train, y_train)\n",
    "\n",
    "lgst_reg_score = cross_validation_process(lgst_reg_clf, X_test, y_test, cv=11)"
   ]
  },
  {
   "cell_type": "markdown",
   "metadata": {},
   "source": [
    "### Logistic Regression CV\n",
    "\n",
    "Best results with:\n",
    "\n",
    "- Cs = 10, cv = 6\n",
    "- Cs = 16, cv = 4\n",
    "- Cs = 19, cv = 6\n",
    "- Cs = 19, cv = 12\n",
    "- Cs = 25, cv = 6\n",
    "- Cs = 25, cv = 12"
   ]
  },
  {
   "cell_type": "code",
   "execution_count": 43,
   "metadata": {
    "ExecuteTime": {
     "end_time": "2018-11-09T04:35:44.454818Z",
     "start_time": "2018-11-09T04:34:29.230651Z"
    },
    "scrolled": false
   },
   "outputs": [
    {
     "name": "stdout",
     "output_type": "stream",
     "text": [
      "Average_Accuracy(average_precision)=82.0%\n",
      "Standard_Deviation=0.091\n",
      "Scores(average_precision)=[0.737 0.838 0.788 0.787 0.823 0.812 0.948 0.938 0.757 0.643 0.948]\n",
      "No Feature Importances\n",
      "Prediction_Confusion_Matrix=\n",
      "[[57 26]\n",
      " [21 61]]\n",
      "Prediction_Accuracy=71.52%\n",
      "Average_Accuracy(average_precision)=81.98%\n",
      "Standard_Deviation=0.085\n",
      "Scores(average_precision)=[0.737 0.838 0.886 0.787 0.735 0.812 0.898 0.938 0.757 0.681 0.948]\n",
      "No Feature Importances\n",
      "Prediction_Confusion_Matrix=\n",
      "[[55 28]\n",
      " [22 60]]\n",
      "Prediction_Accuracy=69.7%\n",
      "Average_Accuracy(average_precision)=81.47%\n",
      "Standard_Deviation=0.091\n",
      "Scores(average_precision)=[0.665 0.838 0.788 0.787 0.823 0.812 0.924 0.938 0.757 0.681 0.948]\n",
      "No Feature Importances\n",
      "Prediction_Confusion_Matrix=\n",
      "[[57 26]\n",
      " [21 61]]\n",
      "Prediction_Accuracy=71.52%\n",
      "Average_Accuracy(average_precision)=79.59%\n",
      "Standard_Deviation=0.107\n",
      "Scores(average_precision)=[0.737 0.838 0.657 0.787 0.651 0.812 0.948 0.938 0.757 0.681 0.948]\n",
      "No Feature Importances\n",
      "Prediction_Confusion_Matrix=\n",
      "[[56 27]\n",
      " [23 59]]\n",
      "Prediction_Accuracy=69.7%\n",
      "Average_Accuracy(average_precision)=81.6%\n",
      "Standard_Deviation=0.095\n",
      "Scores(average_precision)=[0.665 0.838 0.788 0.787 0.823 0.812 0.948 0.938 0.757 0.671 0.948]\n",
      "No Feature Importances\n",
      "Prediction_Confusion_Matrix=\n",
      "[[57 26]\n",
      " [21 61]]\n",
      "Prediction_Accuracy=71.52%\n",
      "Average_Accuracy(average_precision)=79.61%\n",
      "Standard_Deviation=0.107\n",
      "Scores(average_precision)=[0.737 0.838 0.657 0.787 0.662 0.812 0.948 0.938 0.757 0.671 0.948]\n",
      "No Feature Importances\n",
      "Prediction_Confusion_Matrix=\n",
      "[[56 27]\n",
      " [22 60]]\n",
      "Prediction_Accuracy=70.3%\n"
     ]
    }
   ],
   "source": [
    "Cs_cv = {10: 6, 16: 4, 19: [6, 12], 25: [6, 12]}\n",
    "for k, v in Cs_cv.items():\n",
    "    if type(v) != list:\n",
    "        lgst_reg_cv_clf = LogisticRegressionCV(Cs=k, penalty='l2', cv=v,\n",
    "                                               class_weight='balanced', random_state=9,\n",
    "                                               solver='newton-cg', n_jobs=-2).fit(X_train, y_train)\n",
    "        lgst_reg_cv_score = cross_validation_process(\n",
    "            lgst_reg_cv_clf, X_test, y_test, cv=11)\n",
    "    else:\n",
    "        for num in v:\n",
    "            lgst_reg_cv_clf = LogisticRegressionCV(Cs=k, penalty='l2', cv=num,\n",
    "                                                   class_weight='balanced', random_state=9,\n",
    "                                                   solver='newton-cg', n_jobs=-2).fit(X_train, y_train)\n",
    "            lgst_reg_cv_score = cross_validation_process(\n",
    "                lgst_reg_cv_clf, X_test, y_test, cv=11)"
   ]
  },
  {
   "cell_type": "markdown",
   "metadata": {},
   "source": [
    "### Ada Boost Classifier \n",
    "\n",
    "Best results with:\n",
    "\n",
    "- n_estimators=235, learning_rate=1.442\n",
    "- n_estimators=52, learning_rate=0.155\n",
    "- n_estimators=274, learning_rate=0.013\n",
    "- n_estimators=162, learning_rate=0.767"
   ]
  },
  {
   "cell_type": "code",
   "execution_count": 53,
   "metadata": {
    "ExecuteTime": {
     "end_time": "2018-11-09T04:37:15.155644Z",
     "start_time": "2018-11-09T04:37:11.046349Z"
    },
    "scrolled": false
   },
   "outputs": [
    {
     "name": "stdout",
     "output_type": "stream",
     "text": [
      "Average_Accuracy(average_precision)=60.71%\n",
      "Standard_Deviation=0.103\n",
      "Scores(average_precision)=[0.66  0.733 0.43  0.646 0.567]\n",
      "Feature importance = [0.01276596 0.87659574 0.00425532 0.00851064 0.         0.\n",
      " 0.00425532 0.00425532 0.00425532 0.00425532 0.00851064 0.00425532\n",
      " 0.00425532 0.00425532 0.00425532 0.00425532 0.00851064 0.00425532\n",
      " 0.         0.00425532 0.         0.00425532 0.00851064 0.\n",
      " 0.00425532 0.         0.         0.         0.01276596 0.\n",
      " 0.00425532]\n",
      "Prediction_Confusion_Matrix=\n",
      "[[11  3]\n",
      " [ 5 16]]\n",
      "Prediction_Accuracy=77.14%\n",
      "Average_Accuracy(average_precision)=66.67%\n",
      "Standard_Deviation=0.128\n",
      "Scores(average_precision)=[0.72  0.817 0.43  0.667 0.7  ]\n",
      "Feature importance = [0.11538462 0.63461538 0.         0.01923077 0.         0.\n",
      " 0.01923077 0.         0.         0.         0.         0.07692308\n",
      " 0.         0.         0.         0.         0.09615385 0.\n",
      " 0.         0.         0.03846154 0.         0.         0.\n",
      " 0.         0.         0.         0.         0.         0.\n",
      " 0.        ]\n",
      "Prediction_Confusion_Matrix=\n",
      "[[ 9  5]\n",
      " [ 6 15]]\n",
      "Prediction_Accuracy=68.57%\n",
      "Average_Accuracy(average_precision)=67.86%\n",
      "Standard_Deviation=0.105\n",
      "Scores(average_precision)=[0.717 0.817 0.493 0.667 0.7  ]\n",
      "Feature importance = [0.08394161 0.90510949 0.         0.         0.         0.\n",
      " 0.         0.         0.         0.         0.         0.\n",
      " 0.         0.         0.         0.         0.01094891 0.\n",
      " 0.         0.         0.         0.         0.         0.\n",
      " 0.         0.         0.         0.         0.         0.\n",
      " 0.        ]\n",
      "Prediction_Confusion_Matrix=\n",
      "[[ 9  5]\n",
      " [ 6 15]]\n",
      "Prediction_Accuracy=68.57%\n",
      "Average_Accuracy(average_precision)=65.13%\n",
      "Standard_Deviation=0.108\n",
      "Scores(average_precision)=[0.76  0.733 0.451 0.667 0.646]\n",
      "Feature importance = [0.01234568 0.83950617 0.00617284 0.00617284 0.00617284 0.00617284\n",
      " 0.00617284 0.         0.00617284 0.         0.00617284 0.01234568\n",
      " 0.00617284 0.         0.00617284 0.01234568 0.01234568 0.\n",
      " 0.01234568 0.         0.01234568 0.00617284 0.         0.00617284\n",
      " 0.         0.         0.         0.         0.01234568 0.\n",
      " 0.00617284]\n",
      "Prediction_Confusion_Matrix=\n",
      "[[ 9  5]\n",
      " [ 3 18]]\n",
      "Prediction_Accuracy=77.14%\n"
     ]
    }
   ],
   "source": [
    "n_estimators_learning_rate = {235: 1.442, 52:0.155, 274:0.013, 162:0.767}\n",
    "for k, v in n_estimators_learning_rate.items():\n",
    "    ada_clf = AdaBoostClassifier(n_estimators=k, learning_rate=v, \n",
    "                                 random_state=9).fit(X_train, y_train)\n",
    "    ada_scores = cross_validation_process(ada_clf, X_test, y_test, cv=5)"
   ]
  },
  {
   "cell_type": "markdown",
   "metadata": {},
   "source": [
    "### SGD Classifier\n",
    "\n",
    "Best results with:\n",
    "\n",
    "- max_iter = 28782, n_iter_no_change = 50\n",
    "- max_iter = 32421, n_iter_no_change = 54\n",
    "- max_iter = 43631, n_iter_no_change = 74\n",
    "- max_iter = 37278, n_iter_no_change = 70\n",
    "- max_iter = 38125, n_iter_no_change = 122"
   ]
  },
  {
   "cell_type": "code",
   "execution_count": 45,
   "metadata": {
    "ExecuteTime": {
     "end_time": "2018-11-09T04:36:29.942257Z",
     "start_time": "2018-11-09T04:35:48.866485Z"
    },
    "scrolled": false
   },
   "outputs": [
    {
     "name": "stdout",
     "output_type": "stream",
     "text": [
      "Average_Accuracy(average_precision)=81.18%\n",
      "Standard_Deviation=0.11\n",
      "Scores(average_precision)=[0.655 0.89  0.763 0.817 0.732 0.86  0.938 0.898 0.804 0.605 0.968]\n",
      "No Feature Importances\n",
      "Prediction_Confusion_Matrix=\n",
      "[[64 19]\n",
      " [28 54]]\n",
      "Prediction_Accuracy=71.52%\n",
      "Average_Accuracy(average_precision)=81.16%\n",
      "Standard_Deviation=0.11\n",
      "Scores(average_precision)=[0.651 0.885 0.763 0.812 0.732 0.86  0.938 0.898 0.816 0.605 0.968]\n",
      "No Feature Importances\n",
      "Prediction_Confusion_Matrix=\n",
      "[[64 19]\n",
      " [28 54]]\n",
      "Prediction_Accuracy=71.52%\n",
      "Average_Accuracy(average_precision)=80.8%\n",
      "Standard_Deviation=0.103\n",
      "Scores(average_precision)=[0.651 0.885 0.763 0.812 0.732 0.848 0.895 0.898 0.816 0.619 0.968]\n",
      "No Feature Importances\n",
      "Prediction_Confusion_Matrix=\n",
      "[[65 18]\n",
      " [29 53]]\n",
      "Prediction_Accuracy=71.52%\n",
      "Average_Accuracy(average_precision)=80.8%\n",
      "Standard_Deviation=0.103\n",
      "Scores(average_precision)=[0.651 0.885 0.763 0.812 0.732 0.848 0.895 0.898 0.816 0.619 0.968]\n",
      "No Feature Importances\n",
      "Prediction_Confusion_Matrix=\n",
      "[[64 19]\n",
      " [28 54]]\n",
      "Prediction_Accuracy=71.52%\n",
      "Average_Accuracy(average_precision)=80.8%\n",
      "Standard_Deviation=0.103\n",
      "Scores(average_precision)=[0.651 0.885 0.763 0.812 0.732 0.848 0.895 0.898 0.816 0.619 0.968]\n",
      "No Feature Importances\n",
      "Prediction_Confusion_Matrix=\n",
      "[[64 19]\n",
      " [28 54]]\n",
      "Prediction_Accuracy=71.52%\n"
     ]
    }
   ],
   "source": [
    "max_iter_no_change = {28782: 50, 32421: 54, 43631: 74, 37278: 70, 38125: 122}\n",
    "for k, v in max_iter_no_change.items():\n",
    "    SGD_clf = SGDClassifier(loss='squared_hinge', max_iter=k, shuffle=False,\n",
    "                            n_jobs=-2, random_state=9, n_iter_no_change=v,\n",
    "                            class_weight='balanced').fit(X_train, y_train)\n",
    "\n",
    "    SGD_score = cross_validation_process(SGD_clf, X_test, y_test, cv=11)"
   ]
  },
  {
   "cell_type": "markdown",
   "metadata": {},
   "source": [
    "### Extra Trees Classifier"
   ]
  },
  {
   "cell_type": "code",
   "execution_count": 109,
   "metadata": {
    "ExecuteTime": {
     "end_time": "2018-11-07T23:55:30.758700Z",
     "start_time": "2018-11-07T23:55:20.314304Z"
    },
    "scrolled": false
   },
   "outputs": [
    {
     "name": "stdout",
     "output_type": "stream",
     "text": [
      "Average_Accuracy(average_precision)=70.01%\n",
      "Standard_Deviation=0.141\n",
      "Scores(average_precision)=[0.821 0.594 0.679 0.826 0.836 0.563 0.711 0.521 0.789 0.458 0.903]\n",
      "Feature importance = [0.03060234 0.65005562 0.01421729 0.01500371 0.00488075 0.00121955\n",
      " 0.0022092  0.00219584 0.00531976 0.00849126 0.00764247 0.0102056\n",
      " 0.01037916 0.0116754  0.00861654 0.01122099 0.00809361 0.01307338\n",
      " 0.00941251 0.00947067 0.00679895 0.00917978 0.00820033 0.0080446\n",
      " 0.00788828 0.02442886 0.02262717 0.02160814 0.01647008 0.01916307\n",
      " 0.02160509]\n",
      "Prediction_Confusion_Matrix=\n",
      "[[38 14]\n",
      " [20 40]]\n",
      "Prediction_Accuracy=69.64%\n"
     ]
    }
   ],
   "source": [
    "XTsC_clf = ExtraTreesClassifier(n_estimators=1000, criterion='entropy',  n_jobs=-2, \n",
    "                                random_state=9, class_weight='balanced').fit(X_train, y_train)\n",
    "XTsC_score = cross_validation_process(XTsC_clf, X_test, y_test, cv=11)"
   ]
  },
  {
   "cell_type": "markdown",
   "metadata": {},
   "source": [
    "### Random Forest Classifier"
   ]
  },
  {
   "cell_type": "code",
   "execution_count": 54,
   "metadata": {
    "ExecuteTime": {
     "end_time": "2018-11-09T04:38:29.882488Z",
     "start_time": "2018-11-09T04:37:56.202068Z"
    },
    "scrolled": false
   },
   "outputs": [
    {
     "name": "stdout",
     "output_type": "stream",
     "text": [
      "Average_Accuracy(average_precision)=78.79%\n",
      "Standard_Deviation=0.231\n",
      "Scores(average_precision)=[0.417 1.    0.417 0.833 0.583 0.833 1.    0.583 1.    1.    1.   ]\n",
      "Feature importance = [0.03799435 0.557336   0.01556679 0.0193183  0.00602155 0.0009961\n",
      " 0.00162014 0.00266387 0.00562044 0.01252442 0.01160935 0.01436175\n",
      " 0.01286127 0.01376815 0.01258245 0.01441936 0.01231022 0.01690866\n",
      " 0.01385695 0.01507053 0.0124893  0.01254792 0.01055795 0.01071132\n",
      " 0.01063345 0.02806966 0.02677807 0.02251057 0.02199995 0.0217764\n",
      " 0.02451477]\n",
      "Prediction_Confusion_Matrix=\n",
      "[[11  3]\n",
      " [ 7 14]]\n",
      "Prediction_Accuracy=71.43%\n"
     ]
    }
   ],
   "source": [
    "rand_frst_clf = RandomForestClassifier(n_estimators=4000, criterion='entropy', n_jobs=-2, \n",
    "                                       random_state=9).fit(X_train, y_train)\n",
    "\n",
    "rand_frst_score = cross_validation_process(rand_frst_clf, X_test, y_test, cv=11)"
   ]
  },
  {
   "cell_type": "markdown",
   "metadata": {},
   "source": [
    "### Ridge Classifier\n",
    "\n",
    "Best results with:\n",
    "\n",
    "- alpha = 10.13\n",
    "- alpha = 7.37\n",
    "- alpha = 13.69"
   ]
  },
  {
   "cell_type": "code",
   "execution_count": 55,
   "metadata": {
    "ExecuteTime": {
     "end_time": "2018-11-09T04:39:03.823442Z",
     "start_time": "2018-11-09T04:39:03.679804Z"
    },
    "scrolled": false
   },
   "outputs": [
    {
     "name": "stdout",
     "output_type": "stream",
     "text": [
      "Average_Accuracy(average_precision)=82.58%\n",
      "Standard_Deviation=0.206\n",
      "Scores(average_precision)=[0.583 1.    0.5   0.833 1.    0.583 1.    0.583 1.    1.    1.   ]\n",
      "No Feature Importances\n",
      "Prediction_Confusion_Matrix=\n",
      "[[ 9  5]\n",
      " [ 5 16]]\n",
      "Prediction_Accuracy=71.43%\n",
      "Average_Accuracy(average_precision)=82.58%\n",
      "Standard_Deviation=0.206\n",
      "Scores(average_precision)=[0.583 1.    0.5   0.833 1.    0.583 1.    0.583 1.    1.    1.   ]\n",
      "No Feature Importances\n",
      "Prediction_Confusion_Matrix=\n",
      "[[ 9  5]\n",
      " [ 5 16]]\n",
      "Prediction_Accuracy=71.43%\n",
      "Average_Accuracy(average_precision)=86.36%\n",
      "Standard_Deviation=0.196\n",
      "Scores(average_precision)=[1.    1.    0.5   0.833 1.    0.583 1.    0.583 1.    1.    1.   ]\n",
      "No Feature Importances\n",
      "Prediction_Confusion_Matrix=\n",
      "[[ 9  5]\n",
      " [ 5 16]]\n",
      "Prediction_Accuracy=71.43%\n"
     ]
    }
   ],
   "source": [
    "alphas = [10.13, 7.37, 13.69]\n",
    "for a in alphas:\n",
    "    ridge_clf = RidgeClassifier(alpha=a, class_weight='balanced', solver='auto',\n",
    "                                random_state=9).fit(X_train, y_train)\n",
    "    ridge_score = cross_validation_process(ridge_clf, X_test, y_test, cv=11)"
   ]
  },
  {
   "cell_type": "markdown",
   "metadata": {},
   "source": [
    "### Ridge Classifier CV"
   ]
  },
  {
   "cell_type": "code",
   "execution_count": 56,
   "metadata": {
    "ExecuteTime": {
     "end_time": "2018-11-09T04:39:13.916105Z",
     "start_time": "2018-11-09T04:39:11.816645Z"
    },
    "scrolled": false
   },
   "outputs": [
    {
     "name": "stdout",
     "output_type": "stream",
     "text": [
      "Average_Accuracy(average_precision)=78.03%\n",
      "Standard_Deviation=0.202\n",
      "Scores(average_precision)=[0.417 1.    0.75  0.833 0.583 0.583 1.    0.583 0.833 1.    1.   ]\n",
      "No Feature Importances\n",
      "Prediction_Confusion_Matrix=\n",
      "[[ 9  5]\n",
      " [ 5 16]]\n",
      "Prediction_Accuracy=71.43%\n"
     ]
    }
   ],
   "source": [
    "ridge_cv_clf = RidgeClassifierCV(scoring='average_precision', cv=20,\n",
    "                                 class_weight='balanced').fit(X_train, y_train)\n",
    "ridge_cv_score = cross_validation_process(ridge_cv_clf, X_test, y_test, cv=11)"
   ]
  },
  {
   "cell_type": "markdown",
   "metadata": {},
   "source": [
    "### K Neighbors Classifier\n",
    "\n",
    "Best results with:\n",
    "\n",
    "- n_neighbors = 19, leaf_size = 28\n",
    "- n_neighbors = 17, leaf_size = 135\n",
    "- n_neighbors = 19, leaf_size = 88\n",
    "- n_neighbors = 14, leaf_size = 88\n",
    "- n_neighbors = 18, leaf_size = 88"
   ]
  },
  {
   "cell_type": "code",
   "execution_count": 57,
   "metadata": {
    "ExecuteTime": {
     "end_time": "2018-11-09T04:39:22.861312Z",
     "start_time": "2018-11-09T04:39:21.653502Z"
    },
    "scrolled": false
   },
   "outputs": [
    {
     "name": "stdout",
     "output_type": "stream",
     "text": [
      "Average_Accuracy(average_precision)=81.82%\n",
      "Standard_Deviation=0.191\n",
      "Scores(average_precision)=[1.    1.    0.5   0.833 1.    0.583 0.833 0.583 1.    0.667 1.   ]\n",
      "No Feature Importances\n",
      "Prediction_Confusion_Matrix=\n",
      "[[11  3]\n",
      " [ 5 16]]\n",
      "Prediction_Accuracy=77.14%\n",
      "Average_Accuracy(average_precision)=81.82%\n",
      "Standard_Deviation=0.191\n",
      "Scores(average_precision)=[1.    1.    0.5   0.833 1.    0.583 0.833 0.583 1.    0.667 1.   ]\n",
      "No Feature Importances\n",
      "Prediction_Confusion_Matrix=\n",
      "[[11  3]\n",
      " [ 5 16]]\n",
      "Prediction_Accuracy=77.14%\n",
      "Average_Accuracy(average_precision)=89.39%\n",
      "Standard_Deviation=0.163\n",
      "Scores(average_precision)=[1.    1.    0.5   0.833 1.    0.667 1.    0.833 1.    1.    1.   ]\n",
      "No Feature Importances\n",
      "Prediction_Confusion_Matrix=\n",
      "[[11  3]\n",
      " [ 5 16]]\n",
      "Prediction_Accuracy=77.14%\n",
      "Average_Accuracy(average_precision)=81.06%\n",
      "Standard_Deviation=0.178\n",
      "Scores(average_precision)=[0.75  1.    0.5   0.833 0.583 0.583 0.833 0.833 1.    1.    1.   ]\n",
      "No Feature Importances\n",
      "Prediction_Confusion_Matrix=\n",
      "[[10  4]\n",
      " [ 6 15]]\n",
      "Prediction_Accuracy=71.43%\n",
      "Average_Accuracy(average_precision)=84.85%\n",
      "Standard_Deviation=0.191\n",
      "Scores(average_precision)=[1.    1.    0.5   0.833 1.    0.583 1.    0.583 1.    0.833 1.   ]\n",
      "No Feature Importances\n",
      "Prediction_Confusion_Matrix=\n",
      "[[11  3]\n",
      " [ 5 16]]\n",
      "Prediction_Accuracy=77.14%\n"
     ]
    }
   ],
   "source": [
    "n_neighbors_leaf_size = {19:[28, 88], 17:88, 14:88, 18:88}\n",
    "for k, v in n_neighbors_leaf_size.items():\n",
    "    if type(v) != list:\n",
    "        KNN_clf = KNeighborsClassifier(n_neighbors=k, leaf_size=v, n_jobs=-2).fit(X_train, y_train)\n",
    "        KNN_score = cross_validation_process(KNN_clf, X_test, y_test, cv=11)\n",
    "    else:\n",
    "        for num in v:\n",
    "            KNN_clf = KNeighborsClassifier(n_neighbors=k, leaf_size=num, n_jobs=-2).fit(X_train, y_train)\n",
    "            KNN_score = cross_validation_process(KNN_clf, X_test, y_test, cv=11)"
   ]
  },
  {
   "cell_type": "markdown",
   "metadata": {},
   "source": [
    "### Multi-layer Perceptron classifier"
   ]
  },
  {
   "cell_type": "code",
   "execution_count": 58,
   "metadata": {
    "ExecuteTime": {
     "end_time": "2018-11-09T04:39:43.876120Z",
     "start_time": "2018-11-09T04:39:30.764895Z"
    },
    "scrolled": false
   },
   "outputs": [
    {
     "name": "stdout",
     "output_type": "stream",
     "text": [
      "Average_Accuracy(average_precision)=77.27%\n",
      "Standard_Deviation=0.192\n",
      "Scores(average_precision)=[0.417 1.    0.833 0.833 0.583 0.833 1.    0.583 0.583 0.833 1.   ]\n",
      "No Feature Importances\n",
      "Prediction_Confusion_Matrix=\n",
      "[[10  4]\n",
      " [ 6 15]]\n",
      "Prediction_Accuracy=71.43%\n"
     ]
    }
   ],
   "source": [
    "MLP_clf = MLPClassifier(hidden_layer_sizes=(200,), activation='logistic', solver='lbfgs', \n",
    "                        alpha=0.0001, batch_size=8, learning_rate='constant', max_iter=500, \n",
    "                        shuffle=False, random_state=9, validation_fraction=0.05, \n",
    "                        n_iter_no_change=30).fit(X_train, y_train)\n",
    "\n",
    "MLP_score = cross_validation_process(MLP_clf, X_test, y_test, cv=11)"
   ]
  },
  {
   "cell_type": "code",
   "execution_count": 18,
   "metadata": {
    "ExecuteTime": {
     "end_time": "2018-11-07T23:07:55.203907Z",
     "start_time": "2018-11-07T23:07:55.189100Z"
    }
   },
   "outputs": [],
   "source": [
    "# classification_scoring = ['accuracy', 'balanced_accuracy', 'average_precision',\n",
    "#                           'brier_score_loss', 'f1', 'f1_micro', 'f1_macro',\n",
    "#                           'f1_weighted', 'neg_log_loss', 'precision',\n",
    "#                           'recall', 'roc_auc']"
   ]
  },
  {
   "cell_type": "code",
   "execution_count": 19,
   "metadata": {
    "ExecuteTime": {
     "end_time": "2018-11-07T23:07:55.221954Z",
     "start_time": "2018-11-07T23:07:55.205932Z"
    }
   },
   "outputs": [],
   "source": [
    "# classifiers = [\n",
    "#     KNeighborsClassifier(3),\n",
    "#     SVC(kernel=\"linear\", C=0.025),\n",
    "#     SVC(gamma=2, C=1),\n",
    "#     GaussianProcessClassifier(1.0 * RBF(1.0)),\n",
    "#     DecisionTreeClassifier(max_depth=5),\n",
    "#     RandomForestClassifier(max_depth=5, n_estimators=10, max_features=1),\n",
    "#     MLPClassifier(alpha=1),\n",
    "#     AdaBoostClassifier(),\n",
    "#     GaussianNB(),\n",
    "#     QuadraticDiscriminantAnalysis()]"
   ]
  },
  {
   "cell_type": "code",
   "execution_count": null,
   "metadata": {
    "ExecuteTime": {
     "end_time": "2018-11-06T19:06:38.178227Z",
     "start_time": "2018-11-06T19:06:38.155186Z"
    }
   },
   "outputs": [],
   "source": [
    "# clf1 = LogisticRegression(solver='lbfgs', multi_class='multinomial',\n",
    "#                           random_state=1)\n",
    "# clf2 = RandomForestClassifier(n_estimators=50, random_state=1)\n",
    "# clf3 = GaussianNB()\n",
    "\n",
    "# eclf = VotingClassifier(estimators=[('lr', clf1), ('rf', clf2), ('gnb', clf3)], voting='hard')\n",
    "\n",
    "# for clf, label in zip([clf1, clf2, clf3, eclf], ['Logistic Regression', 'Random Forest', 'naive Bayes', 'Ensemble']):\n",
    "#     scores = cross_val_score(clf, X, y, cv=5, scoring='accuracy')\n",
    "#     print(\"Accuracy: %0.2f (+/- %0.2f) [%s]\" % (scores.mean(), scores.std(), label))"
   ]
  },
  {
   "cell_type": "code",
   "execution_count": null,
   "metadata": {
    "ExecuteTime": {
     "end_time": "2018-11-06T19:09:07.421611Z",
     "start_time": "2018-11-06T19:09:07.404994Z"
    }
   },
   "outputs": [],
   "source": [
    "# clf = DecisionTreeClassifier(max_depth=None, min_samples_split=2,\n",
    "#     random_state=0)\n",
    "# scores = cross_val_score(clf, X, y, cv=5)\n",
    "# scores.mean()\n",
    "\n",
    "\n",
    "# clf = RandomForestClassifier(n_estimators=10, max_depth=None,\n",
    "#     min_samples_split=2, random_state=0)\n",
    "# scores = cross_val_score(clf, X, y, cv=5)\n",
    "# scores.mean()\n",
    "\n",
    "\n",
    "# clf = ExtraTreesClassifier(n_estimators=10, max_depth=None,\n",
    "#     min_samples_split=2, random_state=0)\n",
    "# scores = cross_val_score(clf, X, y, cv=5)\n",
    "# scores.mean() > 0.999"
   ]
  },
  {
   "cell_type": "code",
   "execution_count": null,
   "metadata": {
    "ExecuteTime": {
     "end_time": "2018-11-06T19:10:38.952154Z",
     "start_time": "2018-11-06T19:10:38.935223Z"
    }
   },
   "outputs": [],
   "source": [
    "# est = GradientBoostingRegressor\n",
    "# mean_squared_error(y_test, est.predict(X_test))  \n",
    "# clf.score(X_test, y_test)"
   ]
  }
 ],
 "metadata": {
  "kernelspec": {
   "display_name": "Python 3",
   "language": "python",
   "name": "python3"
  },
  "language_info": {
   "codemirror_mode": {
    "name": "ipython",
    "version": 3
   },
   "file_extension": ".py",
   "mimetype": "text/x-python",
   "name": "python",
   "nbconvert_exporter": "python",
   "pygments_lexer": "ipython3",
   "version": "3.6.6"
  },
  "latex_envs": {
   "LaTeX_envs_menu_present": false,
   "autoclose": false,
   "autocomplete": true,
   "bibliofile": "biblio.bib",
   "cite_by": "apalike",
   "current_citInitial": 1,
   "eqLabelWithNumbers": true,
   "eqNumInitial": 1,
   "hotkeys": {
    "equation": "Ctrl-E",
    "itemize": "Ctrl-I"
   },
   "labels_anchors": false,
   "latex_user_defs": false,
   "report_style_numbering": false,
   "user_envs_cfg": false
  }
 },
 "nbformat": 4,
 "nbformat_minor": 2
}
