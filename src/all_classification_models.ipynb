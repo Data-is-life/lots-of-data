{
 "cells": [
  {
   "cell_type": "markdown",
   "metadata": {},
   "source": [
    "# Running all Classification Models to get the best predictions\n",
    "## Then, moving on to Neural Networks to get \"Better Predictions\""
   ]
  },
  {
   "cell_type": "code",
   "execution_count": 1,
   "metadata": {
    "ExecuteTime": {
     "end_time": "2018-11-11T03:04:55.055535Z",
     "start_time": "2018-11-11T03:04:54.303221Z"
    }
   },
   "outputs": [],
   "source": [
    "import pandas as pd\n",
    "import numpy as np\n",
    "import random\n",
    "\n",
    "from sklearn.discriminant_analysis import LinearDiscriminantAnalysis\n",
    "from sklearn.discriminant_analysis import QuadraticDiscriminantAnalysis\n",
    "\n",
    "from sklearn.ensemble import AdaBoostClassifier\n",
    "from sklearn.ensemble import ExtraTreesClassifier\n",
    "from sklearn.ensemble import GradientBoostingClassifier\n",
    "from sklearn.ensemble import RandomForestClassifier\n",
    "from sklearn.ensemble import VotingClassifier\n",
    "\n",
    "from sklearn.gaussian_process import GaussianProcessClassifier\n",
    "from sklearn.gaussian_process.kernels import RBF\n",
    "\n",
    "from sklearn.linear_model import LogisticRegression\n",
    "from sklearn.linear_model import LogisticRegressionCV\n",
    "from sklearn.linear_model import RidgeClassifier\n",
    "from sklearn.linear_model import RidgeClassifierCV\n",
    "from sklearn.linear_model import SGDClassifier\n",
    "\n",
    "from sklearn.metrics import *\n",
    "\n",
    "from sklearn.model_selection import train_test_split\n",
    "from sklearn.model_selection import cross_val_score\n",
    "from sklearn.model_selection import GridSearchCV\n",
    "\n",
    "from sklearn.neighbors import KDTree\n",
    "from sklearn.neighbors import KNeighborsClassifier\n",
    "\n",
    "from sklearn.neural_network import MLPClassifier\n",
    "\n",
    "from sklearn.svm import LinearSVC\n",
    "\n",
    "from dummies_bins_test_train_cv import *\n",
    "\n",
    "from warnings import filterwarnings\n",
    "filterwarnings('ignore')"
   ]
  },
  {
   "cell_type": "code",
   "execution_count": 2,
   "metadata": {
    "ExecuteTime": {
     "end_time": "2018-11-11T03:04:55.080793Z",
     "start_time": "2018-11-11T03:04:55.057759Z"
    }
   },
   "outputs": [],
   "source": [
    "df = pd.read_csv('../data/use_for_analysis.csv')"
   ]
  },
  {
   "cell_type": "code",
   "execution_count": 3,
   "metadata": {
    "ExecuteTime": {
     "end_time": "2018-11-11T03:04:55.378581Z",
     "start_time": "2018-11-11T03:04:55.242809Z"
    }
   },
   "outputs": [
    {
     "name": "stdout",
     "output_type": "stream",
     "text": [
      "y Shape: (2076,)\n",
      "X Shape: (2076, 20)\n",
      "X_train Shape: (2039, 20)\n",
      "X_test Shape: (37, 20)\n",
      "y_train Shape: (2039,)\n",
      "y_test Shape: (37,)\n"
     ]
    }
   ],
   "source": [
    "X_train, X_test, y_train, y_test, X, y, df_clean = get_Xy_train_test(df, .98, .99)"
   ]
  },
  {
   "cell_type": "markdown",
   "metadata": {},
   "source": [
    "### Linear Discriminant Analysis"
   ]
  },
  {
   "cell_type": "code",
   "execution_count": 4,
   "metadata": {
    "ExecuteTime": {
     "end_time": "2018-11-11T03:04:56.759252Z",
     "start_time": "2018-11-11T03:04:56.666838Z"
    },
    "scrolled": false
   },
   "outputs": [
    {
     "name": "stdout",
     "output_type": "stream",
     "text": [
      "Average_Accuracy(average_precision)=93.94%\n",
      "Standard_Deviation=0.08\n",
      "True_Score(Mean/SD)=11.717\n",
      "\n",
      "Prediction_Confusion_Matrix=[6|9]:[4|18]\n",
      "Prediction_Accuracy=64.86%\n"
     ]
    }
   ],
   "source": [
    "LDA_clf = LinearDiscriminantAnalysis(solver = 'lsqr', shrinkage='auto').fit(X_train, y_train)\n",
    "LDA_scores = cross_validation_process(LDA_clf, X_test, y_test, cv=11)"
   ]
  },
  {
   "cell_type": "markdown",
   "metadata": {},
   "source": [
    "### Quadratic Discriminant Analysis\n",
    "\n",
    "Best results with:\n",
    "- reg_param = 0.26055\n",
    "- reg_param = 0.36968\n",
    "- reg_param = 0.96127\n",
    "- reg_param = 0.83353\n",
    "- reg_param = 0.77121"
   ]
  },
  {
   "cell_type": "code",
   "execution_count": 5,
   "metadata": {
    "ExecuteTime": {
     "end_time": "2018-11-11T03:04:57.834198Z",
     "start_time": "2018-11-11T03:04:57.787103Z"
    },
    "scrolled": false
   },
   "outputs": [
    {
     "name": "stdout",
     "output_type": "stream",
     "text": [
      "Average_Accuracy(average_precision)=86.36%\n",
      "Standard_Deviation=0.152\n",
      "True_Score(Mean/SD)=5.686\n",
      "\n",
      "Prediction_Confusion_Matrix=[6|9]:[3|19]\n",
      "Prediction_Accuracy=67.57%\n"
     ]
    }
   ],
   "source": [
    "QDA_clf = QuadraticDiscriminantAnalysis(reg_param=0.26055).fit(X_train, y_train)\n",
    "QDA_scores = cross_validation_process(QDA_clf, X_test, y_test, cv=11)"
   ]
  },
  {
   "cell_type": "markdown",
   "metadata": {},
   "source": [
    "### Gaussian Process Classifier"
   ]
  },
  {
   "cell_type": "code",
   "execution_count": 6,
   "metadata": {
    "ExecuteTime": {
     "end_time": "2018-11-11T03:05:01.020967Z",
     "start_time": "2018-11-11T03:04:58.615867Z"
    },
    "scrolled": false
   },
   "outputs": [
    {
     "name": "stdout",
     "output_type": "stream",
     "text": [
      "Average_Accuracy(average_precision)=92.42%\n",
      "Standard_Deviation=0.083\n",
      "True_Score(Mean/SD)=11.137\n",
      "\n",
      "Prediction_Confusion_Matrix=[9|6]:[4|18]\n",
      "Prediction_Accuracy=72.97%\n"
     ]
    }
   ],
   "source": [
    "gpc_rbf_clf = GaussianProcessClassifier(n_jobs=-2, n_restarts_optimizer=10,\n",
    "                                        random_state=9).fit(X_train, y_train)\n",
    "gpc_rbf_score = cross_validation_process(gpc_rbf_clf, X_test, y_test, cv=11)"
   ]
  },
  {
   "cell_type": "markdown",
   "metadata": {},
   "source": [
    "### Logistic Regression"
   ]
  },
  {
   "cell_type": "code",
   "execution_count": 7,
   "metadata": {
    "ExecuteTime": {
     "end_time": "2018-11-11T03:05:02.338641Z",
     "start_time": "2018-11-11T03:05:01.023092Z"
    },
    "scrolled": false
   },
   "outputs": [
    {
     "name": "stdout",
     "output_type": "stream",
     "text": [
      "Average_Accuracy(average_precision)=90.91%\n",
      "Standard_Deviation=0.083\n",
      "True_Score(Mean/SD)=10.954\n",
      "\n",
      "Prediction_Confusion_Matrix=[6|9]:[5|17]\n",
      "Prediction_Accuracy=62.16%\n"
     ]
    }
   ],
   "source": [
    "lgst_reg_clf = LogisticRegression(penalty='l2', class_weight='balanced', random_state=9, \n",
    "                                  max_iter=5000, C=1e-3, solver='lbfgs', n_jobs=8, \n",
    "                                  multi_class='auto').fit(X_train, y_train)\n",
    "\n",
    "lgst_reg_score = cross_validation_process(lgst_reg_clf, X_test, y_test, cv=11)"
   ]
  },
  {
   "cell_type": "markdown",
   "metadata": {},
   "source": [
    "### Logistic Regression CV\n",
    "\n",
    "Best results with:\n",
    "\n",
    "- Cs = 10, cv = 6\n",
    "- Cs = 16, cv = 4\n",
    "- Cs = 19, cv = 6\n",
    "- Cs = 19, cv = 12\n",
    "- Cs = 25, cv = 6\n",
    "- Cs = 25, cv = 12"
   ]
  },
  {
   "cell_type": "code",
   "execution_count": 9,
   "metadata": {
    "ExecuteTime": {
     "end_time": "2018-11-11T03:05:15.791914Z",
     "start_time": "2018-11-11T03:05:09.034434Z"
    },
    "scrolled": true
   },
   "outputs": [
    {
     "name": "stdout",
     "output_type": "stream",
     "text": [
      "Average_Accuracy(average_precision)=88.64%\n",
      "Standard_Deviation=0.089\n",
      "True_Score(Mean/SD)=9.96\n",
      "\n",
      "Prediction_Confusion_Matrix=[6|9]:[5|17]\n",
      "Prediction_Accuracy=62.16%\n"
     ]
    }
   ],
   "source": [
    "lgst_reg_cv_clf = LogisticRegressionCV(Cs=10, penalty='l2', cv=6,\n",
    "                                       class_weight='balanced', random_state=9,\n",
    "                                       solver='newton-cg', n_jobs=-2).fit(X_train, y_train)\n",
    "lgst_reg_cv_score = cross_validation_process(lgst_reg_cv_clf, X_test, y_test, cv=11)"
   ]
  },
  {
   "cell_type": "markdown",
   "metadata": {},
   "source": [
    "### Ada Boost Classifier"
   ]
  },
  {
   "cell_type": "code",
   "execution_count": 22,
   "metadata": {
    "ExecuteTime": {
     "end_time": "2018-11-11T03:54:41.714834Z",
     "start_time": "2018-11-11T03:54:38.974616Z"
    },
    "scrolled": false
   },
   "outputs": [
    {
     "name": "stdout",
     "output_type": "stream",
     "text": [
      "Average_Accuracy(average_precision)=82.58%\n",
      "Standard_Deviation=0.14\n",
      "True_Score(Mean/SD)=5.911\n",
      "\n",
      "Prediction_Confusion_Matrix=[8|7]:[4|18]\n",
      "Prediction_Accuracy=70.27%\n"
     ]
    }
   ],
   "source": [
    "ada_clf = AdaBoostClassifier(n_estimators=274, learning_rate=0.013,\n",
    "                             random_state=9).fit(X_train, y_train)\n",
    "ada_scores = cross_validation_process(ada_clf, X_test, y_test, cv=11)"
   ]
  },
  {
   "cell_type": "markdown",
   "metadata": {},
   "source": [
    "### SGD Classifier"
   ]
  },
  {
   "cell_type": "code",
   "execution_count": 21,
   "metadata": {
    "ExecuteTime": {
     "end_time": "2018-11-11T03:54:18.593622Z",
     "start_time": "2018-11-11T03:54:15.401805Z"
    },
    "scrolled": false
   },
   "outputs": [
    {
     "name": "stdout",
     "output_type": "stream",
     "text": [
      "Average_Accuracy(average_precision)=92.42%\n",
      "Standard_Deviation=0.083\n",
      "True_Score(Mean/SD)=11.137\n",
      "\n",
      "Prediction_Confusion_Matrix=[7|8]:[2|20]\n",
      "Prediction_Accuracy=72.97%\n"
     ]
    }
   ],
   "source": [
    "SGD_clf = SGDClassifier(loss='hinge', penalty='elasticnet', max_iter=1e4,\n",
    "                        shuffle=False, n_jobs=8, random_state=9,\n",
    "                        class_weight='balanced').fit(X_train, y_train)\n",
    "SGD_score = cross_validation_process(SGD_clf, X_test, y_test, cv=11)"
   ]
  },
  {
   "cell_type": "markdown",
   "metadata": {},
   "source": [
    "### Random Forest Classifier"
   ]
  },
  {
   "cell_type": "code",
   "execution_count": 14,
   "metadata": {
    "ExecuteTime": {
     "end_time": "2018-11-11T03:35:07.539675Z",
     "start_time": "2018-11-11T03:34:58.905897Z"
    },
    "scrolled": true
   },
   "outputs": [
    {
     "name": "stdout",
     "output_type": "stream",
     "text": [
      "Average_Accuracy(average_precision)=93.94%\n",
      "Standard_Deviation=0.08\n",
      "True_Score(Mean/SD)=11.717\n",
      "\n",
      "Prediction_Confusion_Matrix=[11|4]:[6|16]\n",
      "Prediction_Accuracy=72.97%\n"
     ]
    }
   ],
   "source": [
    "rand_frst_clf = RandomForestClassifier(n_estimators=1000, criterion='entropy', n_jobs=-2,\n",
    "                                       min_samples_leaf=2, random_state=9,\n",
    "                                       class_weight='balanced').fit(X_train, y_train)\n",
    "\n",
    "rand_frst_score = cross_validation_process(rand_frst_clf, X_test, y_test, cv=11)"
   ]
  },
  {
   "cell_type": "markdown",
   "metadata": {},
   "source": [
    "### Ridge Classifier"
   ]
  },
  {
   "cell_type": "code",
   "execution_count": 46,
   "metadata": {
    "ExecuteTime": {
     "end_time": "2018-11-11T03:58:14.992072Z",
     "start_time": "2018-11-11T03:58:14.922670Z"
    },
    "scrolled": false
   },
   "outputs": [
    {
     "name": "stdout",
     "output_type": "stream",
     "text": [
      "Average_Accuracy(average_precision)=93.94%\n",
      "Standard_Deviation=0.08\n",
      "True_Score(Mean/SD)=11.717\n",
      "\n",
      "Prediction_Confusion_Matrix=[6|9]:[4|18]\n",
      "Prediction_Accuracy=64.86%\n"
     ]
    }
   ],
   "source": [
    "ridge_clf = RidgeClassifier(class_weight='balanced', random_state=9\n",
    "                           ).fit(X_train, y_train)\n",
    "ridge_score = cross_validation_process(ridge_clf, X_test, y_test, cv=11)"
   ]
  },
  {
   "cell_type": "markdown",
   "metadata": {},
   "source": [
    "### Ridge Classifier CV"
   ]
  },
  {
   "cell_type": "code",
   "execution_count": 47,
   "metadata": {
    "ExecuteTime": {
     "end_time": "2018-11-11T03:58:19.425958Z",
     "start_time": "2018-11-11T03:58:17.664617Z"
    },
    "scrolled": true
   },
   "outputs": [
    {
     "name": "stdout",
     "output_type": "stream",
     "text": [
      "Average_Accuracy(average_precision)=93.94%\n",
      "Standard_Deviation=0.08\n",
      "True_Score(Mean/SD)=11.717\n",
      "\n",
      "Prediction_Confusion_Matrix=[6|9]:[4|18]\n",
      "Prediction_Accuracy=64.86%\n"
     ]
    }
   ],
   "source": [
    "ridge_cv_clf = RidgeClassifierCV(scoring='average_precision', cv=20,\n",
    "                                 class_weight='balanced').fit(X_train, y_train)\n",
    "ridge_cv_score = cross_validation_process(ridge_cv_clf, X_test, y_test, cv=11)"
   ]
  },
  {
   "cell_type": "markdown",
   "metadata": {},
   "source": [
    "### K Neighbors Classifier"
   ]
  },
  {
   "cell_type": "code",
   "execution_count": 72,
   "metadata": {
    "ExecuteTime": {
     "end_time": "2018-11-11T04:01:08.360291Z",
     "start_time": "2018-11-11T04:01:08.103751Z"
    },
    "scrolled": false
   },
   "outputs": [
    {
     "name": "stdout",
     "output_type": "stream",
     "text": [
      "Average_Accuracy(average_precision)=85.61%\n",
      "Standard_Deviation=0.155\n",
      "True_Score(Mean/SD)=5.514\n",
      "\n",
      "Prediction_Confusion_Matrix=[8|7]:[4|18]\n",
      "Prediction_Accuracy=70.27%\n"
     ]
    }
   ],
   "source": [
    "KNN_clf = KNeighborsClassifier(n_neighbors=19, leaf_size=88, n_jobs=8).fit(X_train, y_train)\n",
    "KNN_score = cross_validation_process(KNN_clf, X_test, y_test, cv=11)"
   ]
  },
  {
   "cell_type": "markdown",
   "metadata": {},
   "source": [
    "### Multi-layer Perceptron classifier"
   ]
  },
  {
   "cell_type": "code",
   "execution_count": 79,
   "metadata": {
    "ExecuteTime": {
     "end_time": "2018-11-11T04:03:08.561526Z",
     "start_time": "2018-11-11T04:02:41.699276Z"
    },
    "scrolled": false
   },
   "outputs": [
    {
     "name": "stdout",
     "output_type": "stream",
     "text": [
      "Average_Accuracy(average_precision)=84.85%\n",
      "Standard_Deviation=0.132\n",
      "True_Score(Mean/SD)=6.424\n",
      "\n",
      "Prediction_Confusion_Matrix=[7|8]:[5|17]\n",
      "Prediction_Accuracy=64.86%\n"
     ]
    }
   ],
   "source": [
    "MLP_clf = MLPClassifier(hidden_layer_sizes=(64,), activation='logistic', solver='lbfgs', \n",
    "                        alpha=0.0001, batch_size=8, learning_rate='constant', max_iter=5000, \n",
    "                        shuffle=False, random_state=9, validation_fraction=0.1, \n",
    "                        n_iter_no_change=30).fit(X_train, y_train)\n",
    "\n",
    "MLP_score = cross_validation_process(MLP_clf, X_test, y_test, cv=11)"
   ]
  },
  {
   "cell_type": "markdown",
   "metadata": {},
   "source": [
    "### Best for small dataset:\n",
    "\n",
    "15 for test:\n",
    "1. KNN = 83% [[4 1][2 11]]\n",
    "2. Random Forest = 83% [[5 0][3 10]]\n",
    "3. Ada Boost Classifier = 83% [[4 1][2 11]]\n",
    "4. Gaussian Process Classifier = 83% [[4 1][2 11]]"
   ]
  },
  {
   "cell_type": "code",
   "execution_count": null,
   "metadata": {
    "ExecuteTime": {
     "end_time": "2018-11-09T04:47:10.020174Z",
     "start_time": "2018-11-09T04:47:10.006198Z"
    }
   },
   "outputs": [],
   "source": [
    "# classification_scoring = ['accuracy', 'balanced_accuracy', 'average_precision',\n",
    "#                           'brier_score_loss', 'f1', 'f1_micro', 'f1_macro',\n",
    "#                           'f1_weighted', 'neg_log_loss', 'precision',\n",
    "#                           'recall', 'roc_auc']"
   ]
  }
 ],
 "metadata": {
  "kernelspec": {
   "display_name": "Python 3",
   "language": "python",
   "name": "python3"
  },
  "language_info": {
   "codemirror_mode": {
    "name": "ipython",
    "version": 3
   },
   "file_extension": ".py",
   "mimetype": "text/x-python",
   "name": "python",
   "nbconvert_exporter": "python",
   "pygments_lexer": "ipython3",
   "version": "3.6.6"
  },
  "latex_envs": {
   "LaTeX_envs_menu_present": false,
   "autoclose": false,
   "autocomplete": true,
   "bibliofile": "biblio.bib",
   "cite_by": "apalike",
   "current_citInitial": 1,
   "eqLabelWithNumbers": true,
   "eqNumInitial": 1,
   "hotkeys": {
    "equation": "Ctrl-E",
    "itemize": "Ctrl-I"
   },
   "labels_anchors": false,
   "latex_user_defs": false,
   "report_style_numbering": false,
   "user_envs_cfg": false
  }
 },
 "nbformat": 4,
 "nbformat_minor": 2
}
