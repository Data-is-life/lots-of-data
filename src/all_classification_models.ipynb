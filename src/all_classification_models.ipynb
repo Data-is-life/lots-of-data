{
 "cells": [
  {
   "cell_type": "markdown",
   "metadata": {},
   "source": [
    "# Running all Classification Models to get the best predictions\n",
    "## Then, moving on to Neural Networks to get \"Better Predictions\""
   ]
  },
  {
   "cell_type": "code",
   "execution_count": 12,
   "metadata": {
    "ExecuteTime": {
     "end_time": "2018-11-15T18:24:19.717759Z",
     "start_time": "2018-11-15T18:24:19.685973Z"
    }
   },
   "outputs": [],
   "source": [
    "import pandas as pd\n",
    "import numpy as np\n",
    "import random\n",
    "\n",
    "from sklearn.discriminant_analysis import LinearDiscriminantAnalysis\n",
    "from sklearn.discriminant_analysis import QuadraticDiscriminantAnalysis\n",
    "\n",
    "from sklearn.ensemble import AdaBoostClassifier\n",
    "from sklearn.ensemble import ExtraTreesClassifier\n",
    "from sklearn.ensemble import GradientBoostingClassifier\n",
    "from sklearn.ensemble import RandomForestClassifier\n",
    "from sklearn.ensemble import VotingClassifier\n",
    "\n",
    "from sklearn.gaussian_process import GaussianProcessClassifier\n",
    "from sklearn.gaussian_process.kernels import RBF\n",
    "\n",
    "from sklearn.linear_model import LogisticRegression\n",
    "from sklearn.linear_model import LogisticRegressionCV\n",
    "from sklearn.linear_model import RidgeClassifier\n",
    "from sklearn.linear_model import RidgeClassifierCV\n",
    "from sklearn.linear_model import SGDClassifier\n",
    "\n",
    "from sklearn.metrics import *\n",
    "\n",
    "from sklearn.model_selection import train_test_split\n",
    "from sklearn.model_selection import cross_val_score\n",
    "from sklearn.model_selection import GridSearchCV\n",
    "\n",
    "from sklearn.neighbors import KDTree\n",
    "from sklearn.neighbors import KNeighborsClassifier\n",
    "\n",
    "from sklearn.neural_network import MLPClassifier\n",
    "\n",
    "from sklearn.svm import LinearSVC\n",
    "\n",
    "from dummies_bins_test_train_cv import *\n",
    "from clean_chess_game_log import *\n",
    "\n",
    "from warnings import filterwarnings\n",
    "filterwarnings('ignore')"
   ]
  },
  {
   "cell_type": "code",
   "execution_count": 14,
   "metadata": {
    "ExecuteTime": {
     "end_time": "2018-11-15T18:24:37.841276Z",
     "start_time": "2018-11-15T18:24:37.819682Z"
    }
   },
   "outputs": [],
   "source": [
    "df = pd.read_csv('../data/use_for_predictions.csv')"
   ]
  },
  {
   "cell_type": "code",
   "execution_count": 41,
   "metadata": {
    "ExecuteTime": {
     "end_time": "2018-11-15T18:29:05.006513Z",
     "start_time": "2018-11-15T18:29:04.874379Z"
    }
   },
   "outputs": [
    {
     "name": "stdout",
     "output_type": "stream",
     "text": [
      "y Shape: (2091,)\n",
      "X Shape: (2091, 20)\n",
      "X_train Shape: (2056, 20)\n",
      "X_test Shape: (35, 20)\n",
      "y_train Shape: (2056,)\n",
      "y_test Shape: (35,)\n"
     ]
    }
   ],
   "source": [
    "X_train, X_test, y_train, y_test, X, y, df_clean = get_Xy_train_test(df, .98, .99)"
   ]
  },
  {
   "cell_type": "markdown",
   "metadata": {},
   "source": [
    "### Linear Discriminant Analysis"
   ]
  },
  {
   "cell_type": "code",
   "execution_count": 42,
   "metadata": {
    "ExecuteTime": {
     "end_time": "2018-11-15T18:29:06.132490Z",
     "start_time": "2018-11-15T18:29:06.067482Z"
    },
    "scrolled": false
   },
   "outputs": [
    {
     "name": "stdout",
     "output_type": "stream",
     "text": [
      "Average_Accuracy(average_precision)=88.64%\n",
      "Standard_Deviation=0.208\n",
      "True_Score(Mean/SD)=4.261\n",
      "\n",
      "Prediction_Confusion_Matrix=[9|8]:[3|15]\n",
      "Prediction_Accuracy=68.57%\n"
     ]
    }
   ],
   "source": [
    "LDA_clf = LinearDiscriminantAnalysis(solver = 'lsqr', shrinkage='auto').fit(X_train, y_train)\n",
    "LDA_scores = cross_validation_process(LDA_clf, X_test, y_test, cv=11)"
   ]
  },
  {
   "cell_type": "markdown",
   "metadata": {},
   "source": [
    "### Quadratic Discriminant Analysis"
   ]
  },
  {
   "cell_type": "code",
   "execution_count": 43,
   "metadata": {
    "ExecuteTime": {
     "end_time": "2018-11-15T18:29:06.563822Z",
     "start_time": "2018-11-15T18:29:06.515920Z"
    },
    "scrolled": false
   },
   "outputs": [
    {
     "name": "stdout",
     "output_type": "stream",
     "text": [
      "Average_Accuracy(average_precision)=90.91%\n",
      "Standard_Deviation=0.196\n",
      "True_Score(Mean/SD)=4.636\n",
      "\n",
      "Prediction_Confusion_Matrix=[9|8]:[1|17]\n",
      "Prediction_Accuracy=74.29%\n"
     ]
    }
   ],
   "source": [
    "QDA_clf = QuadraticDiscriminantAnalysis(reg_param=0.26055).fit(X_train, y_train)\n",
    "QDA_scores = cross_validation_process(QDA_clf, X_test, y_test, cv=11)"
   ]
  },
  {
   "cell_type": "markdown",
   "metadata": {},
   "source": [
    "### Gaussian Process Classifier"
   ]
  },
  {
   "cell_type": "code",
   "execution_count": 44,
   "metadata": {
    "ExecuteTime": {
     "end_time": "2018-11-15T18:29:09.772380Z",
     "start_time": "2018-11-15T18:29:06.775088Z"
    },
    "scrolled": false
   },
   "outputs": [
    {
     "name": "stdout",
     "output_type": "stream",
     "text": [
      "Average_Accuracy(average_precision)=78.79%\n",
      "Standard_Deviation=0.234\n",
      "True_Score(Mean/SD)=3.367\n",
      "\n",
      "Prediction_Confusion_Matrix=[11|6]:[3|15]\n",
      "Prediction_Accuracy=74.29%\n"
     ]
    }
   ],
   "source": [
    "gpc_rbf_clf = GaussianProcessClassifier(n_jobs=-2, n_restarts_optimizer=10,\n",
    "                                        random_state=9).fit(X_train, y_train)\n",
    "gpc_rbf_score = cross_validation_process(gpc_rbf_clf, X_test, y_test, cv=11)"
   ]
  },
  {
   "cell_type": "markdown",
   "metadata": {},
   "source": [
    "### Logistic Regression"
   ]
  },
  {
   "cell_type": "code",
   "execution_count": 45,
   "metadata": {
    "ExecuteTime": {
     "end_time": "2018-11-15T18:29:10.454856Z",
     "start_time": "2018-11-15T18:29:09.775296Z"
    },
    "scrolled": false
   },
   "outputs": [
    {
     "name": "stdout",
     "output_type": "stream",
     "text": [
      "Average_Accuracy(average_precision)=87.88%\n",
      "Standard_Deviation=0.179\n",
      "True_Score(Mean/SD)=4.911\n",
      "\n",
      "Prediction_Confusion_Matrix=[9|8]:[5|13]\n",
      "Prediction_Accuracy=62.86%\n"
     ]
    }
   ],
   "source": [
    "lgst_reg_clf = LogisticRegression(penalty='l2', class_weight='balanced', random_state=9, \n",
    "                                  max_iter=5000, C=1e-3, solver='lbfgs', n_jobs=8, \n",
    "                                  multi_class='auto').fit(X_train, y_train)\n",
    "\n",
    "lgst_reg_score = cross_validation_process(lgst_reg_clf, X_test, y_test, cv=11)"
   ]
  },
  {
   "cell_type": "markdown",
   "metadata": {},
   "source": [
    "### Logistic Regression CV"
   ]
  },
  {
   "cell_type": "code",
   "execution_count": 46,
   "metadata": {
    "ExecuteTime": {
     "end_time": "2018-11-15T18:29:15.743777Z",
     "start_time": "2018-11-15T18:29:10.456968Z"
    },
    "scrolled": true
   },
   "outputs": [
    {
     "name": "stdout",
     "output_type": "stream",
     "text": [
      "Average_Accuracy(average_precision)=86.36%\n",
      "Standard_Deviation=0.225\n",
      "True_Score(Mean/SD)=3.83\n",
      "\n",
      "Prediction_Confusion_Matrix=[9|8]:[3|15]\n",
      "Prediction_Accuracy=68.57%\n"
     ]
    }
   ],
   "source": [
    "lgst_reg_cv_clf = LogisticRegressionCV(Cs=10, penalty='l2', cv=6,\n",
    "                                       class_weight='balanced', random_state=9,\n",
    "                                       solver='newton-cg', n_jobs=-2).fit(X_train, y_train)\n",
    "lgst_reg_cv_score = cross_validation_process(lgst_reg_cv_clf, X_test, y_test, cv=11)"
   ]
  },
  {
   "cell_type": "markdown",
   "metadata": {},
   "source": [
    "### Ada Boost Classifier"
   ]
  },
  {
   "cell_type": "code",
   "execution_count": 47,
   "metadata": {
    "ExecuteTime": {
     "end_time": "2018-11-15T18:29:18.609900Z",
     "start_time": "2018-11-15T18:29:15.747052Z"
    },
    "scrolled": false
   },
   "outputs": [
    {
     "name": "stdout",
     "output_type": "stream",
     "text": [
      "Average_Accuracy(average_precision)=81.82%\n",
      "Standard_Deviation=0.241\n",
      "True_Score(Mean/SD)=3.402\n",
      "\n",
      "Prediction_Confusion_Matrix=[10|7]:[6|12]\n",
      "Prediction_Accuracy=62.86%\n"
     ]
    }
   ],
   "source": [
    "ada_clf = AdaBoostClassifier(n_estimators=274, learning_rate=0.013,\n",
    "                             random_state=9).fit(X_train, y_train)\n",
    "ada_scores = cross_validation_process(ada_clf, X_test, y_test, cv=11)"
   ]
  },
  {
   "cell_type": "markdown",
   "metadata": {},
   "source": [
    "### SGD Classifier"
   ]
  },
  {
   "cell_type": "code",
   "execution_count": 48,
   "metadata": {
    "ExecuteTime": {
     "end_time": "2018-11-15T18:29:18.773883Z",
     "start_time": "2018-11-15T18:29:18.613037Z"
    },
    "scrolled": false
   },
   "outputs": [
    {
     "name": "stdout",
     "output_type": "stream",
     "text": [
      "Average_Accuracy(average_precision)=80.3%\n",
      "Standard_Deviation=0.236\n",
      "True_Score(Mean/SD)=3.396\n",
      "\n",
      "Prediction_Confusion_Matrix=[9|8]:[6|12]\n",
      "Prediction_Accuracy=60.0%\n"
     ]
    }
   ],
   "source": [
    "SGD_clf = SGDClassifier(loss='hinge', penalty='l2', max_iter=1e3,\n",
    "                        shuffle=False, n_jobs=8, random_state=9,\n",
    "                        class_weight='balanced').fit(X_train, y_train)\n",
    "SGD_score = cross_validation_process(SGD_clf, X_test, y_test, cv=11)"
   ]
  },
  {
   "cell_type": "markdown",
   "metadata": {},
   "source": [
    "### Random Forest Classifier"
   ]
  },
  {
   "cell_type": "code",
   "execution_count": 49,
   "metadata": {
    "ExecuteTime": {
     "end_time": "2018-11-15T18:29:27.211300Z",
     "start_time": "2018-11-15T18:29:18.776195Z"
    },
    "scrolled": true
   },
   "outputs": [
    {
     "name": "stdout",
     "output_type": "stream",
     "text": [
      "Average_Accuracy(average_precision)=93.18%\n",
      "Standard_Deviation=0.17\n",
      "True_Score(Mean/SD)=5.49\n",
      "\n",
      "Prediction_Confusion_Matrix=[11|6]:[3|15]\n",
      "Prediction_Accuracy=74.29%\n"
     ]
    }
   ],
   "source": [
    "rand_frst_clf = RandomForestClassifier(n_estimators=1000, criterion='entropy', n_jobs=-2,\n",
    "                                       min_samples_leaf=2, random_state=9,\n",
    "                                       class_weight='balanced').fit(X_train, y_train)\n",
    "\n",
    "rand_frst_score = cross_validation_process(rand_frst_clf, X_test, y_test, cv=11)"
   ]
  },
  {
   "cell_type": "markdown",
   "metadata": {},
   "source": [
    "### Ridge Classifier"
   ]
  },
  {
   "cell_type": "code",
   "execution_count": 50,
   "metadata": {
    "ExecuteTime": {
     "end_time": "2018-11-15T18:29:27.267830Z",
     "start_time": "2018-11-15T18:29:27.213810Z"
    },
    "scrolled": false
   },
   "outputs": [
    {
     "name": "stdout",
     "output_type": "stream",
     "text": [
      "Average_Accuracy(average_precision)=84.85%\n",
      "Standard_Deviation=0.248\n",
      "True_Score(Mean/SD)=3.418\n",
      "\n",
      "Prediction_Confusion_Matrix=[9|8]:[3|15]\n",
      "Prediction_Accuracy=68.57%\n"
     ]
    }
   ],
   "source": [
    "ridge_clf = RidgeClassifier(class_weight='balanced', random_state=9\n",
    "                           ).fit(X_train, y_train)\n",
    "ridge_score = cross_validation_process(ridge_clf, X_test, y_test, cv=11)"
   ]
  },
  {
   "cell_type": "markdown",
   "metadata": {},
   "source": [
    "### Ridge Classifier CV"
   ]
  },
  {
   "cell_type": "code",
   "execution_count": 51,
   "metadata": {
    "ExecuteTime": {
     "end_time": "2018-11-15T18:29:29.134419Z",
     "start_time": "2018-11-15T18:29:27.270026Z"
    },
    "scrolled": true
   },
   "outputs": [
    {
     "name": "stdout",
     "output_type": "stream",
     "text": [
      "Average_Accuracy(average_precision)=84.85%\n",
      "Standard_Deviation=0.248\n",
      "True_Score(Mean/SD)=3.418\n",
      "\n",
      "Prediction_Confusion_Matrix=[9|8]:[3|15]\n",
      "Prediction_Accuracy=68.57%\n"
     ]
    }
   ],
   "source": [
    "ridge_cv_clf = RidgeClassifierCV(scoring='average_precision', cv=20,\n",
    "                                 class_weight='balanced').fit(X_train, y_train)\n",
    "ridge_cv_score = cross_validation_process(ridge_cv_clf, X_test, y_test, cv=11)"
   ]
  },
  {
   "cell_type": "markdown",
   "metadata": {},
   "source": [
    "### K Neighbors Classifier"
   ]
  },
  {
   "cell_type": "code",
   "execution_count": 52,
   "metadata": {
    "ExecuteTime": {
     "end_time": "2018-11-15T18:29:29.383883Z",
     "start_time": "2018-11-15T18:29:29.136762Z"
    },
    "scrolled": false
   },
   "outputs": [
    {
     "name": "stdout",
     "output_type": "stream",
     "text": [
      "Average_Accuracy(average_precision)=71.21%\n",
      "Standard_Deviation=0.193\n",
      "True_Score(Mean/SD)=3.698\n",
      "\n",
      "Prediction_Confusion_Matrix=[10|7]:[5|13]\n",
      "Prediction_Accuracy=65.71%\n"
     ]
    }
   ],
   "source": [
    "KNN_clf = KNeighborsClassifier(n_neighbors=19, leaf_size=88, n_jobs=8).fit(X_train, y_train)\n",
    "KNN_score = cross_validation_process(KNN_clf, X_test, y_test, cv=11)"
   ]
  },
  {
   "cell_type": "markdown",
   "metadata": {},
   "source": [
    "### Multi-layer Perceptron classifier"
   ]
  },
  {
   "cell_type": "code",
   "execution_count": 53,
   "metadata": {
    "ExecuteTime": {
     "end_time": "2018-11-15T18:30:01.993300Z",
     "start_time": "2018-11-15T18:29:29.386859Z"
    },
    "scrolled": false
   },
   "outputs": [
    {
     "name": "stdout",
     "output_type": "stream",
     "text": [
      "Average_Accuracy(average_precision)=85.61%\n",
      "Standard_Deviation=0.239\n",
      "True_Score(Mean/SD)=3.588\n",
      "\n",
      "Prediction_Confusion_Matrix=[11|6]:[3|15]\n",
      "Prediction_Accuracy=74.29%\n"
     ]
    }
   ],
   "source": [
    "MLP_clf = MLPClassifier(hidden_layer_sizes=(64,), activation='logistic', solver='lbfgs', \n",
    "                        alpha=0.0001, batch_size=8, max_iter=5000,\n",
    "                        random_state=9, validation_fraction=0.1,\n",
    "                        verbose=True).fit(X_train, y_train)\n",
    "\n",
    "MLP_score = cross_validation_process(MLP_clf, X_test, y_test, cv=11)"
   ]
  },
  {
   "cell_type": "code",
   "execution_count": 46,
   "metadata": {
    "ExecuteTime": {
     "end_time": "2018-11-12T19:40:39.272094Z",
     "start_time": "2018-11-12T19:40:39.252598Z"
    }
   },
   "outputs": [],
   "source": [
    "# classification_scoring = ['accuracy', 'balanced_accuracy', 'average_precision',\n",
    "#                           'brier_score_loss', 'f1', 'f1_micro', 'f1_macro',\n",
    "#                           'f1_weighted', 'neg_log_loss', 'precision',\n",
    "#                           'recall', 'roc_auc']"
   ]
  },
  {
   "cell_type": "code",
   "execution_count": null,
   "metadata": {},
   "outputs": [],
   "source": []
  }
 ],
 "metadata": {
  "kernelspec": {
   "display_name": "Python 3",
   "language": "python",
   "name": "python3"
  },
  "language_info": {
   "codemirror_mode": {
    "name": "ipython",
    "version": 3
   },
   "file_extension": ".py",
   "mimetype": "text/x-python",
   "name": "python",
   "nbconvert_exporter": "python",
   "pygments_lexer": "ipython3",
   "version": "3.6.6"
  },
  "latex_envs": {
   "LaTeX_envs_menu_present": false,
   "autoclose": false,
   "autocomplete": true,
   "bibliofile": "biblio.bib",
   "cite_by": "apalike",
   "current_citInitial": 1,
   "eqLabelWithNumbers": true,
   "eqNumInitial": 1,
   "hotkeys": {
    "equation": "Ctrl-E",
    "itemize": "Ctrl-I"
   },
   "labels_anchors": false,
   "latex_user_defs": false,
   "report_style_numbering": false,
   "user_envs_cfg": false
  }
 },
 "nbformat": 4,
 "nbformat_minor": 2
}
