{
 "cells": [
  {
   "cell_type": "markdown",
   "metadata": {},
   "source": [
    "# Running all Classification Models to get the best predictions\n",
    "## Then, moving on to Neural Networks to get \"Better Predictions\""
   ]
  },
  {
   "cell_type": "code",
   "execution_count": 101,
   "metadata": {
    "ExecuteTime": {
     "end_time": "2018-11-07T23:52:50.166763Z",
     "start_time": "2018-11-07T23:52:50.140563Z"
    }
   },
   "outputs": [],
   "source": [
    "import pandas as pd\n",
    "import numpy as np\n",
    "\n",
    "from sklearn.discriminant_analysis import LinearDiscriminantAnalysis\n",
    "from sklearn.discriminant_analysis import QuadraticDiscriminantAnalysis\n",
    "\n",
    "from sklearn.ensemble import AdaBoostClassifier\n",
    "from sklearn.ensemble import ExtraTreesClassifier\n",
    "from sklearn.ensemble import GradientBoostingClassifier\n",
    "from sklearn.ensemble import RandomForestClassifier\n",
    "from sklearn.ensemble import VotingClassifier\n",
    "\n",
    "from sklearn.gaussian_process import GaussianProcessClassifier\n",
    "from sklearn.gaussian_process.kernels import RBF\n",
    "\n",
    "from sklearn.linear_model import LogisticRegression\n",
    "from sklearn.linear_model import LogisticRegressionCV\n",
    "from sklearn.linear_model import RidgeClassifier\n",
    "from sklearn.linear_model import RidgeClassifierCV\n",
    "from sklearn.linear_model import SGDClassifier\n",
    "\n",
    "from sklearn.metrics import *\n",
    "\n",
    "from sklearn.model_selection import train_test_split\n",
    "from sklearn.model_selection import cross_val_score\n",
    "from sklearn.model_selection import GridSearchCV\n",
    "\n",
    "from sklearn.tree import DecisionTreeClassifier\n",
    "\n",
    "from sklearn.neighbors import KDTree\n",
    "from sklearn.neighbors import KNeighborsClassifier\n",
    "from sklearn.neighbors import NearestCentroid\n",
    "from sklearn.neighbors import RadiusNeighborsClassifier\n",
    "\n",
    "from sklearn.neural_network import MLPClassifier\n",
    "\n",
    "from sklearn.svm import LinearSVC\n",
    "\n",
    "from df_functions import *\n",
    "\n",
    "from warnings import filterwarnings\n",
    "filterwarnings('ignore')"
   ]
  },
  {
   "cell_type": "code",
   "execution_count": 96,
   "metadata": {
    "ExecuteTime": {
     "end_time": "2018-11-07T23:51:59.982550Z",
     "start_time": "2018-11-07T23:51:59.947812Z"
    }
   },
   "outputs": [],
   "source": [
    "df = pd.read_csv('../data/df_for_model.csv')"
   ]
  },
  {
   "cell_type": "code",
   "execution_count": 97,
   "metadata": {
    "ExecuteTime": {
     "end_time": "2018-11-07T23:52:01.224972Z",
     "start_time": "2018-11-07T23:52:01.137067Z"
    }
   },
   "outputs": [
    {
     "name": "stdout",
     "output_type": "stream",
     "text": [
      "y Shape: (2076,)\n",
      "X Shape: (2076, 31)\n",
      "X_train Shape: (1964, 31)\n",
      "X_test Shape: (112, 31)\n",
      "y_train Shape: (1964,)\n",
      "y_test Shape: (112,)\n"
     ]
    }
   ],
   "source": [
    "X_train, X_test, y_train, y_test = get_Xy_train_test(df)"
   ]
  },
  {
   "cell_type": "markdown",
   "metadata": {},
   "source": [
    "### Linear Discriminant Analysis"
   ]
  },
  {
   "cell_type": "code",
   "execution_count": 98,
   "metadata": {
    "ExecuteTime": {
     "end_time": "2018-11-07T23:52:03.237963Z",
     "start_time": "2018-11-07T23:52:03.213538Z"
    }
   },
   "outputs": [
    {
     "data": {
      "text/plain": [
       "array([[1, 31, 0, ..., 0, 0, 0],\n",
       "       [0, 117, 0, ..., 0, 0, 0],\n",
       "       [0, 15, 0, ..., 0, 0, 0],\n",
       "       ...,\n",
       "       [0, 79, 0, ..., 0, 1, 0],\n",
       "       [0, 69, 0, ..., 0, 1, 0],\n",
       "       [1, 64, 0, ..., 0, 1, 0]], dtype=object)"
      ]
     },
     "execution_count": 98,
     "metadata": {},
     "output_type": "execute_result"
    }
   ],
   "source": [
    "X_train"
   ]
  },
  {
   "cell_type": "code",
   "execution_count": 102,
   "metadata": {
    "ExecuteTime": {
     "end_time": "2018-11-07T23:52:53.246447Z",
     "start_time": "2018-11-07T23:52:53.148610Z"
    },
    "scrolled": false
   },
   "outputs": [
    {
     "name": "stdout",
     "output_type": "stream",
     "text": [
      "Average_Accuracy(average_precision)=81.2%\n",
      "Standard_Deviation=0.107\n",
      "Scores(average_precision)=[0.883 0.713 0.924 0.917 0.882 0.925 0.686 0.709 0.76  0.63  0.903]\n",
      "No Feature Importances\n",
      "Prediction_Confusion_Matrix=\n",
      "[[35 17]\n",
      " [15 45]]\n",
      "Prediction_Accuracy=71.43%\n"
     ]
    }
   ],
   "source": [
    "LDA_clf = LinearDiscriminantAnalysis(solver = 'lsqr', shrinkage='auto').fit(X_train, y_train)\n",
    "LDA_scores = cross_validation_process(LDA_clf, X_test, y_test, cv=11)"
   ]
  },
  {
   "cell_type": "markdown",
   "metadata": {},
   "source": [
    "### Quadratic Discriminant Analysis\n",
    "\n",
    "Best results with:\n",
    "- reg_param = 0.26055\n",
    "- reg_param = 0.36968\n",
    "- reg_param = 0.25357\n",
    "- reg_param = 0.43083\n",
    "- reg_param = 0.72097"
   ]
  },
  {
   "cell_type": "code",
   "execution_count": 103,
   "metadata": {
    "ExecuteTime": {
     "end_time": "2018-11-07T23:52:55.907021Z",
     "start_time": "2018-11-07T23:52:55.692089Z"
    },
    "scrolled": false
   },
   "outputs": [
    {
     "name": "stdout",
     "output_type": "stream",
     "text": [
      "Average_Accuracy(average_precision)=83.34%\n",
      "Standard_Deviation=0.089\n",
      "Scores(average_precision)=[0.811 0.749 0.821 0.911 0.931 0.911 0.71  0.759 0.826 0.739 1.   ]\n",
      "No Feature Importances\n",
      "Prediction_Confusion_Matrix=\n",
      "[[31 21]\n",
      " [12 48]]\n",
      "Prediction_Accuracy=70.54%\n",
      "Average_Accuracy(average_precision)=83.89%\n",
      "Standard_Deviation=0.09\n",
      "Scores(average_precision)=[0.852 0.749 0.821 0.911 0.948 0.911 0.71  0.826 0.76  0.739 1.   ]\n",
      "No Feature Importances\n",
      "Prediction_Confusion_Matrix=\n",
      "[[31 21]\n",
      " [12 48]]\n",
      "Prediction_Accuracy=70.54%\n",
      "Average_Accuracy(average_precision)=83.32%\n",
      "Standard_Deviation=0.087\n",
      "Scores(average_precision)=[0.811 0.76  0.821 0.911 0.917 0.911 0.71  0.759 0.826 0.739 1.   ]\n",
      "No Feature Importances\n",
      "Prediction_Confusion_Matrix=\n",
      "[[31 21]\n",
      " [11 49]]\n",
      "Prediction_Accuracy=71.43%\n",
      "Average_Accuracy(average_precision)=83.02%\n",
      "Standard_Deviation=0.094\n",
      "Scores(average_precision)=[0.852 0.693 0.821 0.911 0.948 0.871 0.71  0.826 0.76  0.739 1.   ]\n",
      "No Feature Importances\n",
      "Prediction_Confusion_Matrix=\n",
      "[[31 21]\n",
      " [13 47]]\n",
      "Prediction_Accuracy=69.64%\n",
      "Average_Accuracy(average_precision)=83.34%\n",
      "Standard_Deviation=0.098\n",
      "Scores(average_precision)=[0.83  0.677 0.863 0.911 0.948 0.903 0.71  0.826 0.76  0.739 1.   ]\n",
      "No Feature Importances\n",
      "Prediction_Confusion_Matrix=\n",
      "[[34 18]\n",
      " [15 45]]\n",
      "Prediction_Accuracy=70.54%\n"
     ]
    }
   ],
   "source": [
    "reg_param = [0.26055, 0.36968, 0.25357, 0.43083, 0.72097]\n",
    "for num in reg_param:\n",
    "    QDA_clf = QuadraticDiscriminantAnalysis(reg_param=num).fit(X_train, y_train)\n",
    "    QDA_scores = cross_validation_process(QDA_clf, X_test, y_test, cv=11)"
   ]
  },
  {
   "cell_type": "markdown",
   "metadata": {},
   "source": [
    "### Gaussian Process Classifier"
   ]
  },
  {
   "cell_type": "code",
   "execution_count": 104,
   "metadata": {
    "ExecuteTime": {
     "end_time": "2018-11-07T23:53:10.166616Z",
     "start_time": "2018-11-07T23:53:07.781246Z"
    },
    "scrolled": false
   },
   "outputs": [
    {
     "name": "stdout",
     "output_type": "stream",
     "text": [
      "Average_Accuracy(average_precision)=79.51%\n",
      "Standard_Deviation=0.135\n",
      "Scores(average_precision)=[0.828 0.609 0.775 1.    0.931 0.659 0.808 0.709 0.821 0.605 1.   ]\n",
      "No Feature Importances\n",
      "Prediction_Confusion_Matrix=\n",
      "[[39 13]\n",
      " [17 43]]\n",
      "Prediction_Accuracy=73.21%\n"
     ]
    }
   ],
   "source": [
    "gpc_rbf_clf = GaussianProcessClassifier(n_jobs=-2, max_iter_predict=100, n_restarts_optimizer=10,\n",
    "                                        random_state=9).fit(X_train, y_train)\n",
    "gpc_rbf_score = cross_validation_process(gpc_rbf_clf, X_test, y_test, cv=11)"
   ]
  },
  {
   "cell_type": "markdown",
   "metadata": {},
   "source": [
    "### Logistic Regression"
   ]
  },
  {
   "cell_type": "code",
   "execution_count": 105,
   "metadata": {
    "ExecuteTime": {
     "end_time": "2018-11-07T23:53:15.568265Z",
     "start_time": "2018-11-07T23:53:14.249139Z"
    },
    "scrolled": false
   },
   "outputs": [
    {
     "name": "stdout",
     "output_type": "stream",
     "text": [
      "Average_Accuracy(average_precision)=82.11%\n",
      "Standard_Deviation=0.113\n",
      "Scores(average_precision)=[0.811 0.649 0.896 0.931 0.931 0.911 0.71  0.761 0.76  0.673 1.   ]\n",
      "No Feature Importances\n",
      "Prediction_Confusion_Matrix=\n",
      "[[38 14]\n",
      " [16 44]]\n",
      "Prediction_Accuracy=73.21%\n"
     ]
    }
   ],
   "source": [
    "lgst_reg_clf = LogisticRegression(penalty='l2', class_weight='balanced', random_state=9, \n",
    "                                  solver='newton-cg', n_jobs=-2, multi_class='auto').fit(X_train, y_train)\n",
    "\n",
    "lgst_reg_score = cross_validation_process(lgst_reg_clf, X_test, y_test, cv=11)"
   ]
  },
  {
   "cell_type": "markdown",
   "metadata": {},
   "source": [
    "### Logistic Regression CV\n",
    "\n",
    "Best results with:\n",
    "\n",
    "- Cs = 10, cv = 6\n",
    "- Cs = 16, cv = 4\n",
    "- Cs = 19, cv = 6\n",
    "- Cs = 19, cv = 12\n",
    "- Cs = 25, cv = 6\n",
    "- Cs = 25, cv = 12"
   ]
  },
  {
   "cell_type": "code",
   "execution_count": 106,
   "metadata": {
    "ExecuteTime": {
     "end_time": "2018-11-07T23:54:28.185301Z",
     "start_time": "2018-11-07T23:53:18.327464Z"
    },
    "scrolled": false
   },
   "outputs": [
    {
     "name": "stdout",
     "output_type": "stream",
     "text": [
      "Average_Accuracy(average_precision)=83.2%\n",
      "Standard_Deviation=0.097\n",
      "Scores(average_precision)=[0.841 0.677 0.863 0.911 0.948 0.876 0.71  0.826 0.76  0.739 1.   ]\n",
      "No Feature Importances\n",
      "Prediction_Confusion_Matrix=\n",
      "[[38 14]\n",
      " [16 44]]\n",
      "Prediction_Accuracy=73.21%\n",
      "Average_Accuracy(average_precision)=81.74%\n",
      "Standard_Deviation=0.119\n",
      "Scores(average_precision)=[0.841 0.677 0.863 0.911 0.948 0.876 0.71  0.826 0.76  0.579 1.   ]\n",
      "No Feature Importances\n",
      "Prediction_Confusion_Matrix=\n",
      "[[35 17]\n",
      " [17 43]]\n",
      "Prediction_Accuracy=69.64%\n",
      "Average_Accuracy(average_precision)=83.02%\n",
      "Standard_Deviation=0.097\n",
      "Scores(average_precision)=[0.822 0.677 0.863 0.911 0.948 0.876 0.71  0.826 0.76  0.739 1.   ]\n",
      "No Feature Importances\n",
      "Prediction_Confusion_Matrix=\n",
      "[[35 17]\n",
      " [17 43]]\n",
      "Prediction_Accuracy=69.64%\n",
      "Average_Accuracy(average_precision)=81.61%\n",
      "Standard_Deviation=0.122\n",
      "Scores(average_precision)=[0.841 0.677 0.863 0.911 0.948 0.876 0.71  0.826 0.76  0.564 1.   ]\n",
      "No Feature Importances\n",
      "Prediction_Confusion_Matrix=\n",
      "[[35 17]\n",
      " [17 43]]\n",
      "Prediction_Accuracy=69.64%\n",
      "Average_Accuracy(average_precision)=83.2%\n",
      "Standard_Deviation=0.097\n",
      "Scores(average_precision)=[0.841 0.677 0.863 0.911 0.948 0.876 0.71  0.826 0.76  0.739 1.   ]\n",
      "No Feature Importances\n",
      "Prediction_Confusion_Matrix=\n",
      "[[35 17]\n",
      " [17 43]]\n",
      "Prediction_Accuracy=69.64%\n",
      "Average_Accuracy(average_precision)=81.74%\n",
      "Standard_Deviation=0.119\n",
      "Scores(average_precision)=[0.841 0.677 0.863 0.911 0.948 0.876 0.71  0.826 0.76  0.579 1.   ]\n",
      "No Feature Importances\n",
      "Prediction_Confusion_Matrix=\n",
      "[[35 17]\n",
      " [17 43]]\n",
      "Prediction_Accuracy=69.64%\n"
     ]
    }
   ],
   "source": [
    "Cs_cv = {10: 6, 16: 4, 19: [6, 12], 25: [6, 12]}\n",
    "for k, v in Cs_cv.items():\n",
    "    if type(v) != list:\n",
    "        lgst_reg_cv_clf = LogisticRegressionCV(Cs=k, penalty='l2', cv=v,\n",
    "                                               class_weight='balanced', random_state=9,\n",
    "                                               solver='newton-cg', n_jobs=-2).fit(X_train, y_train)\n",
    "        lgst_reg_cv_score = cross_validation_process(\n",
    "            lgst_reg_cv_clf, X_test, y_test, cv=11)\n",
    "    else:\n",
    "        for num in v:\n",
    "            lgst_reg_cv_clf = LogisticRegressionCV(Cs=k, penalty='l2', cv=num,\n",
    "                                                   class_weight='balanced', random_state=9,\n",
    "                                                   solver='newton-cg', n_jobs=-2).fit(X_train, y_train)\n",
    "            lgst_reg_cv_score = cross_validation_process(\n",
    "                lgst_reg_cv_clf, X_test, y_test, cv=11)"
   ]
  },
  {
   "cell_type": "markdown",
   "metadata": {},
   "source": [
    "### Ada Boost Classifier \n",
    "\n",
    "Best results with:\n",
    "\n",
    "- n_estimators=235, learning_rate=1.442\n",
    "- n_estimators=52, learning_rate=0.155\n",
    "- n_estimators=274, learning_rate=0.013\n",
    "- n_estimators=162, learning_rate=0.767"
   ]
  },
  {
   "cell_type": "code",
   "execution_count": 107,
   "metadata": {
    "ExecuteTime": {
     "end_time": "2018-11-07T23:54:32.732903Z",
     "start_time": "2018-11-07T23:54:28.187483Z"
    },
    "scrolled": false
   },
   "outputs": [
    {
     "name": "stdout",
     "output_type": "stream",
     "text": [
      "Average_Accuracy(average_precision)=72.98%\n",
      "Standard_Deviation=0.08\n",
      "Scores(average_precision)=[0.644 0.822 0.79  0.623 0.769]\n",
      "Feature importance = [0.01702128 0.85106383 0.00425532 0.00851064 0.00425532 0.00425532\n",
      " 0.00425532 0.         0.00425532 0.         0.00851064 0.01276596\n",
      " 0.         0.         0.         0.01276596 0.00851064 0.00425532\n",
      " 0.00425532 0.00425532 0.00425532 0.00425532 0.00425532 0.00425532\n",
      " 0.         0.00425532 0.00425532 0.         0.01276596 0.00425532\n",
      " 0.00425532]\n",
      "Prediction_Confusion_Matrix=\n",
      "[[40 12]\n",
      " [14 46]]\n",
      "Prediction_Accuracy=76.79%\n",
      "Average_Accuracy(average_precision)=78.4%\n",
      "Standard_Deviation=0.063\n",
      "Scores(average_precision)=[0.697 0.838 0.765 0.871 0.749]\n",
      "Feature importance = [0.09615385 0.65384615 0.         0.         0.         0.\n",
      " 0.01923077 0.         0.         0.         0.         0.07692308\n",
      " 0.         0.         0.         0.         0.07692308 0.\n",
      " 0.         0.         0.05769231 0.         0.         0.\n",
      " 0.         0.         0.         0.         0.01923077 0.\n",
      " 0.        ]\n",
      "Prediction_Confusion_Matrix=\n",
      "[[38 14]\n",
      " [15 45]]\n",
      "Prediction_Accuracy=74.11%\n",
      "Average_Accuracy(average_precision)=80.13%\n",
      "Standard_Deviation=0.066\n",
      "Scores(average_precision)=[0.71  0.877 0.736 0.851 0.832]\n",
      "Feature importance = [0.05839416 0.90875912 0.         0.         0.         0.\n",
      " 0.         0.         0.         0.         0.         0.\n",
      " 0.         0.         0.         0.         0.02189781 0.\n",
      " 0.         0.         0.01094891 0.         0.         0.\n",
      " 0.         0.         0.         0.         0.         0.\n",
      " 0.        ]\n",
      "Prediction_Confusion_Matrix=\n",
      "[[35 17]\n",
      " [10 50]]\n",
      "Prediction_Accuracy=75.89%\n",
      "Average_Accuracy(average_precision)=72.19%\n",
      "Standard_Deviation=0.076\n",
      "Scores(average_precision)=[0.665 0.836 0.789 0.669 0.65 ]\n",
      "Feature importance = [0.01234568 0.85185185 0.00617284 0.00617284 0.00617284 0.00617284\n",
      " 0.00617284 0.         0.00617284 0.         0.00617284 0.01234568\n",
      " 0.         0.         0.         0.00617284 0.01234568 0.\n",
      " 0.01234568 0.         0.01234568 0.00617284 0.00617284 0.01234568\n",
      " 0.         0.         0.         0.         0.01234568 0.\n",
      " 0.        ]\n",
      "Prediction_Confusion_Matrix=\n",
      "[[36 16]\n",
      " [13 47]]\n",
      "Prediction_Accuracy=74.11%\n"
     ]
    }
   ],
   "source": [
    "n_estimators_learning_rate = {235: 1.442, 52:0.155, 274:0.013, 162:0.767}\n",
    "for k, v in n_estimators_learning_rate.items():\n",
    "    ada_clf = AdaBoostClassifier(n_estimators=k, learning_rate=v, \n",
    "                                 random_state=9).fit(X_train, y_train)\n",
    "    ada_scores = cross_validation_process(ada_clf, X_test, y_test, cv=5)"
   ]
  },
  {
   "cell_type": "markdown",
   "metadata": {},
   "source": [
    "### SGD Classifier\n",
    "\n",
    "Best results with:\n",
    "\n",
    "- max_iter = 28782, n_iter_no_change = 50\n",
    "- max_iter = 32421, n_iter_no_change = 54\n",
    "- max_iter = 43631, n_iter_no_change = 74\n",
    "- max_iter = 37278, n_iter_no_change = 70\n",
    "- max_iter = 38125, n_iter_no_change = 122"
   ]
  },
  {
   "cell_type": "code",
   "execution_count": 108,
   "metadata": {
    "ExecuteTime": {
     "end_time": "2018-11-07T23:55:15.745066Z",
     "start_time": "2018-11-07T23:54:40.029588Z"
    },
    "scrolled": false
   },
   "outputs": [
    {
     "name": "stdout",
     "output_type": "stream",
     "text": [
      "Average_Accuracy(average_precision)=82.25%\n",
      "Standard_Deviation=0.13\n",
      "Scores(average_precision)=[0.822 0.633 0.933 1.    0.915 0.903 0.71  0.673 0.786 0.673 1.   ]\n",
      "No Feature Importances\n",
      "Prediction_Confusion_Matrix=\n",
      "[[40 12]\n",
      " [20 40]]\n",
      "Prediction_Accuracy=71.43%\n",
      "Average_Accuracy(average_precision)=82.25%\n",
      "Standard_Deviation=0.13\n",
      "Scores(average_precision)=[0.822 0.633 0.933 1.    0.915 0.903 0.71  0.673 0.786 0.673 1.   ]\n",
      "No Feature Importances\n",
      "Prediction_Confusion_Matrix=\n",
      "[[40 12]\n",
      " [20 40]]\n",
      "Prediction_Accuracy=71.43%\n",
      "Average_Accuracy(average_precision)=82.39%\n",
      "Standard_Deviation=0.127\n",
      "Scores(average_precision)=[0.822 0.649 0.924 1.    0.915 0.911 0.71  0.673 0.786 0.673 1.   ]\n",
      "No Feature Importances\n",
      "Prediction_Confusion_Matrix=\n",
      "[[40 12]\n",
      " [19 41]]\n",
      "Prediction_Accuracy=72.32%\n",
      "Average_Accuracy(average_precision)=82.17%\n",
      "Standard_Deviation=0.129\n",
      "Scores(average_precision)=[0.822 0.633 0.924 1.    0.915 0.903 0.71  0.673 0.786 0.673 1.   ]\n",
      "No Feature Importances\n",
      "Prediction_Confusion_Matrix=\n",
      "[[40 12]\n",
      " [19 41]]\n",
      "Prediction_Accuracy=72.32%\n",
      "Average_Accuracy(average_precision)=81.88%\n",
      "Standard_Deviation=0.128\n",
      "Scores(average_precision)=[0.822 0.633 0.924 1.    0.915 0.871 0.71  0.673 0.786 0.673 1.   ]\n",
      "No Feature Importances\n",
      "Prediction_Confusion_Matrix=\n",
      "[[40 12]\n",
      " [19 41]]\n",
      "Prediction_Accuracy=72.32%\n"
     ]
    }
   ],
   "source": [
    "max_iter_no_change = {28782: 50, 32421: 54, 43631: 74, 37278: 70, 38125: 122}\n",
    "for k, v in max_iter_no_change.items():\n",
    "    SGD_clf = SGDClassifier(loss='squared_hinge', max_iter=k, shuffle=False,\n",
    "                            n_jobs=-2, random_state=9, n_iter_no_change=v,\n",
    "                            class_weight='balanced').fit(X_train, y_train)\n",
    "\n",
    "    SGD_score = cross_validation_process(SGD_clf, X_test, y_test, cv=11)"
   ]
  },
  {
   "cell_type": "markdown",
   "metadata": {},
   "source": [
    "### Extra Trees Classifier"
   ]
  },
  {
   "cell_type": "code",
   "execution_count": 109,
   "metadata": {
    "ExecuteTime": {
     "end_time": "2018-11-07T23:55:30.758700Z",
     "start_time": "2018-11-07T23:55:20.314304Z"
    },
    "scrolled": false
   },
   "outputs": [
    {
     "name": "stdout",
     "output_type": "stream",
     "text": [
      "Average_Accuracy(average_precision)=70.01%\n",
      "Standard_Deviation=0.141\n",
      "Scores(average_precision)=[0.821 0.594 0.679 0.826 0.836 0.563 0.711 0.521 0.789 0.458 0.903]\n",
      "Feature importance = [0.03060234 0.65005562 0.01421729 0.01500371 0.00488075 0.00121955\n",
      " 0.0022092  0.00219584 0.00531976 0.00849126 0.00764247 0.0102056\n",
      " 0.01037916 0.0116754  0.00861654 0.01122099 0.00809361 0.01307338\n",
      " 0.00941251 0.00947067 0.00679895 0.00917978 0.00820033 0.0080446\n",
      " 0.00788828 0.02442886 0.02262717 0.02160814 0.01647008 0.01916307\n",
      " 0.02160509]\n",
      "Prediction_Confusion_Matrix=\n",
      "[[38 14]\n",
      " [20 40]]\n",
      "Prediction_Accuracy=69.64%\n"
     ]
    }
   ],
   "source": [
    "XTsC_clf = ExtraTreesClassifier(n_estimators=1000, criterion='entropy',  n_jobs=-2, \n",
    "                                random_state=9, class_weight='balanced').fit(X_train, y_train)\n",
    "XTsC_score = cross_validation_process(XTsC_clf, X_test, y_test, cv=11)"
   ]
  },
  {
   "cell_type": "markdown",
   "metadata": {},
   "source": [
    "### Random Forest Classifier"
   ]
  },
  {
   "cell_type": "code",
   "execution_count": 110,
   "metadata": {
    "ExecuteTime": {
     "end_time": "2018-11-07T23:55:40.533550Z",
     "start_time": "2018-11-07T23:55:30.762409Z"
    },
    "scrolled": false
   },
   "outputs": [
    {
     "name": "stdout",
     "output_type": "stream",
     "text": [
      "Average_Accuracy(average_precision)=76.6%\n",
      "Standard_Deviation=0.15\n",
      "Scores(average_precision)=[0.828 0.577 0.811 0.872 0.948 0.796 0.63  0.609 0.877 0.511 0.967]\n",
      "Feature importance = [0.03802654 0.5593087  0.01573585 0.01968121 0.00611734 0.00105308\n",
      " 0.00208805 0.0027664  0.00573028 0.01198725 0.01107348 0.01415184\n",
      " 0.0127006  0.0136036  0.01277841 0.01410468 0.0124786  0.01728935\n",
      " 0.01384796 0.01439999 0.01200993 0.01266845 0.01016387 0.0106572\n",
      " 0.01053087 0.02777376 0.02634397 0.02301732 0.02126997 0.02208004\n",
      " 0.02456141]\n",
      "Prediction_Confusion_Matrix=\n",
      "[[38 14]\n",
      " [17 43]]\n",
      "Prediction_Accuracy=72.32%\n"
     ]
    }
   ],
   "source": [
    "rand_frst_clf = RandomForestClassifier(n_estimators=1000, criterion='entropy', n_jobs=-2, \n",
    "                                       random_state=9).fit(X_train, y_train)\n",
    "\n",
    "rand_frst_score = cross_validation_process(rand_frst_clf, X_test, y_test, cv=11)"
   ]
  },
  {
   "cell_type": "markdown",
   "metadata": {},
   "source": [
    "### Ridge Classifier\n",
    "\n",
    "Best results with:\n",
    "\n",
    "- alpha = 10.13\n",
    "- alpha = 7.37\n",
    "- alpha = 13.69"
   ]
  },
  {
   "cell_type": "code",
   "execution_count": 111,
   "metadata": {
    "ExecuteTime": {
     "end_time": "2018-11-07T23:55:40.722830Z",
     "start_time": "2018-11-07T23:55:40.538311Z"
    },
    "scrolled": false
   },
   "outputs": [
    {
     "name": "stdout",
     "output_type": "stream",
     "text": [
      "Average_Accuracy(average_precision)=83.44%\n",
      "Standard_Deviation=0.104\n",
      "Scores(average_precision)=[0.822 0.676 0.924 0.931 0.931 0.911 0.71  0.775 0.76  0.739 1.   ]\n",
      "No Feature Importances\n",
      "Prediction_Confusion_Matrix=\n",
      "[[36 16]\n",
      " [15 45]]\n",
      "Prediction_Accuracy=72.32%\n",
      "Average_Accuracy(average_precision)=82.91%\n",
      "Standard_Deviation=0.11\n",
      "Scores(average_precision)=[0.822 0.676 0.896 0.931 0.931 0.911 0.71  0.825 0.76  0.659 1.   ]\n",
      "No Feature Importances\n",
      "Prediction_Confusion_Matrix=\n",
      "[[36 16]\n",
      " [15 45]]\n",
      "Prediction_Accuracy=72.32%\n",
      "Average_Accuracy(average_precision)=83.67%\n",
      "Standard_Deviation=0.104\n",
      "Scores(average_precision)=[0.863 0.665 0.924 0.911 0.931 0.911 0.71  0.789 0.76  0.739 1.   ]\n",
      "No Feature Importances\n",
      "Prediction_Confusion_Matrix=\n",
      "[[36 16]\n",
      " [14 46]]\n",
      "Prediction_Accuracy=73.21%\n"
     ]
    }
   ],
   "source": [
    "alphas = [10.13, 7.37, 13.69]\n",
    "for a in alphas:\n",
    "    ridge_clf = RidgeClassifier(alpha=a, class_weight='balanced', solver='auto',\n",
    "                                random_state=9).fit(X_train, y_train)\n",
    "    ridge_score = cross_validation_process(ridge_clf, X_test, y_test, cv=11)"
   ]
  },
  {
   "cell_type": "markdown",
   "metadata": {},
   "source": [
    "### Ridge Classifier CV"
   ]
  },
  {
   "cell_type": "code",
   "execution_count": 112,
   "metadata": {
    "ExecuteTime": {
     "end_time": "2018-11-07T23:55:43.568591Z",
     "start_time": "2018-11-07T23:55:40.725501Z"
    },
    "scrolled": false
   },
   "outputs": [
    {
     "name": "stdout",
     "output_type": "stream",
     "text": [
      "Average_Accuracy(average_precision)=79.81%\n",
      "Standard_Deviation=0.136\n",
      "Scores(average_precision)=[0.822 0.719 0.683 0.944 0.933 0.925 0.686 0.775 0.76  0.531 1.   ]\n",
      "No Feature Importances\n",
      "Prediction_Confusion_Matrix=\n",
      "[[36 16]\n",
      " [15 45]]\n",
      "Prediction_Accuracy=72.32%\n"
     ]
    }
   ],
   "source": [
    "ridge_cv_clf = RidgeClassifierCV(scoring='average_precision', cv=20,\n",
    "                                 class_weight='balanced').fit(X_train, y_train)\n",
    "ridge_cv_score = cross_validation_process(ridge_cv_clf, X_test, y_test, cv=11)"
   ]
  },
  {
   "cell_type": "markdown",
   "metadata": {},
   "source": [
    "### K Neighbors Classifier\n",
    "\n",
    "Best results with:\n",
    "\n",
    "- n_neighbors = 19, leaf_size = 28\n",
    "- n_neighbors = 17, leaf_size = 135\n",
    "- n_neighbors = 19, leaf_size = 88\n",
    "- n_neighbors = 14, leaf_size = 88\n",
    "- n_neighbors = 18, leaf_size = 88"
   ]
  },
  {
   "cell_type": "code",
   "execution_count": 113,
   "metadata": {
    "ExecuteTime": {
     "end_time": "2018-11-07T23:55:45.117886Z",
     "start_time": "2018-11-07T23:55:43.913167Z"
    },
    "scrolled": false
   },
   "outputs": [
    {
     "name": "stdout",
     "output_type": "stream",
     "text": [
      "Average_Accuracy(average_precision)=78.7%\n",
      "Standard_Deviation=0.111\n",
      "Scores(average_precision)=[0.821 0.584 0.713 0.948 0.85  0.886 0.66  0.792 0.786 0.683 0.933]\n",
      "No Feature Importances\n",
      "Prediction_Confusion_Matrix=\n",
      "[[37 15]\n",
      " [16 44]]\n",
      "Prediction_Accuracy=72.32%\n",
      "Average_Accuracy(average_precision)=79.23%\n",
      "Standard_Deviation=0.084\n",
      "Scores(average_precision)=[0.821 0.695 0.713 0.948 0.817 0.876 0.696 0.792 0.786 0.683 0.887]\n",
      "No Feature Importances\n",
      "Prediction_Confusion_Matrix=\n",
      "[[39 13]\n",
      " [15 45]]\n",
      "Prediction_Accuracy=75.0%\n",
      "Average_Accuracy(average_precision)=80.29%\n",
      "Standard_Deviation=0.118\n",
      "Scores(average_precision)=[0.843 0.605 0.78  0.952 0.877 0.836 0.676 0.792 0.883 0.62  0.967]\n",
      "No Feature Importances\n",
      "Prediction_Confusion_Matrix=\n",
      "[[38 14]\n",
      " [14 46]]\n",
      "Prediction_Accuracy=75.0%\n",
      "Average_Accuracy(average_precision)=79.57%\n",
      "Standard_Deviation=0.111\n",
      "Scores(average_precision)=[0.867 0.64  0.863 0.976 0.836 0.786 0.616 0.792 0.836 0.642 0.9  ]\n",
      "No Feature Importances\n",
      "Prediction_Confusion_Matrix=\n",
      "[[41 11]\n",
      " [19 41]]\n",
      "Prediction_Accuracy=73.21%\n",
      "Average_Accuracy(average_precision)=77.96%\n",
      "Standard_Deviation=0.109\n",
      "Scores(average_precision)=[0.821 0.66  0.713 0.948 0.883 0.886 0.696 0.725 0.769 0.587 0.887]\n",
      "No Feature Importances\n",
      "Prediction_Confusion_Matrix=\n",
      "[[40 12]\n",
      " [18 42]]\n",
      "Prediction_Accuracy=73.21%\n"
     ]
    }
   ],
   "source": [
    "n_neighbors_leaf_size = {19:[28, 88], 17:88, 14:88, 18:88}\n",
    "for k, v in n_neighbors_leaf_size.items():\n",
    "    if type(v) != list:\n",
    "        KNN_clf = KNeighborsClassifier(n_neighbors=k, leaf_size=v, n_jobs=-2).fit(X_train, y_train)\n",
    "        KNN_score = cross_validation_process(KNN_clf, X_test, y_test, cv=11)\n",
    "    else:\n",
    "        for num in v:\n",
    "            KNN_clf = KNeighborsClassifier(n_neighbors=k, leaf_size=num, n_jobs=-2).fit(X_train, y_train)\n",
    "            KNN_score = cross_validation_process(KNN_clf, X_test, y_test, cv=11)"
   ]
  },
  {
   "cell_type": "markdown",
   "metadata": {},
   "source": [
    "### Multi-layer Perceptron classifier"
   ]
  },
  {
   "cell_type": "code",
   "execution_count": 114,
   "metadata": {
    "ExecuteTime": {
     "end_time": "2018-11-07T23:56:06.440539Z",
     "start_time": "2018-11-07T23:55:48.716456Z"
    },
    "scrolled": false
   },
   "outputs": [
    {
     "name": "stdout",
     "output_type": "stream",
     "text": [
      "Average_Accuracy(average_precision)=74.32%\n",
      "Standard_Deviation=0.146\n",
      "Scores(average_precision)=[0.735 0.549 0.668 0.813 0.933 0.925 0.593 0.811 0.71  0.511 0.927]\n",
      "No Feature Importances\n",
      "Prediction_Confusion_Matrix=\n",
      "[[37 15]\n",
      " [15 45]]\n",
      "Prediction_Accuracy=73.21%\n"
     ]
    }
   ],
   "source": [
    "MLP_clf = MLPClassifier(hidden_layer_sizes=(200,), activation='logistic', solver='lbfgs', \n",
    "                        alpha=0.0001, batch_size=8, learning_rate='constant', max_iter=500, \n",
    "                        shuffle=False, random_state=9, validation_fraction=0.05, \n",
    "                        n_iter_no_change=30).fit(X_train, y_train)\n",
    "\n",
    "MLP_score = cross_validation_process(MLP_clf, X_test, y_test, cv=11)"
   ]
  },
  {
   "cell_type": "code",
   "execution_count": 18,
   "metadata": {
    "ExecuteTime": {
     "end_time": "2018-11-07T23:07:55.203907Z",
     "start_time": "2018-11-07T23:07:55.189100Z"
    }
   },
   "outputs": [],
   "source": [
    "# classification_scoring = ['accuracy', 'balanced_accuracy', 'average_precision',\n",
    "#                           'brier_score_loss', 'f1', 'f1_micro', 'f1_macro',\n",
    "#                           'f1_weighted', 'neg_log_loss', 'precision',\n",
    "#                           'recall', 'roc_auc']"
   ]
  },
  {
   "cell_type": "code",
   "execution_count": 19,
   "metadata": {
    "ExecuteTime": {
     "end_time": "2018-11-07T23:07:55.221954Z",
     "start_time": "2018-11-07T23:07:55.205932Z"
    }
   },
   "outputs": [],
   "source": [
    "# classifiers = [\n",
    "#     KNeighborsClassifier(3),\n",
    "#     SVC(kernel=\"linear\", C=0.025),\n",
    "#     SVC(gamma=2, C=1),\n",
    "#     GaussianProcessClassifier(1.0 * RBF(1.0)),\n",
    "#     DecisionTreeClassifier(max_depth=5),\n",
    "#     RandomForestClassifier(max_depth=5, n_estimators=10, max_features=1),\n",
    "#     MLPClassifier(alpha=1),\n",
    "#     AdaBoostClassifier(),\n",
    "#     GaussianNB(),\n",
    "#     QuadraticDiscriminantAnalysis()]"
   ]
  },
  {
   "cell_type": "code",
   "execution_count": null,
   "metadata": {
    "ExecuteTime": {
     "end_time": "2018-11-06T19:06:38.178227Z",
     "start_time": "2018-11-06T19:06:38.155186Z"
    }
   },
   "outputs": [],
   "source": [
    "# clf1 = LogisticRegression(solver='lbfgs', multi_class='multinomial',\n",
    "#                           random_state=1)\n",
    "# clf2 = RandomForestClassifier(n_estimators=50, random_state=1)\n",
    "# clf3 = GaussianNB()\n",
    "\n",
    "# eclf = VotingClassifier(estimators=[('lr', clf1), ('rf', clf2), ('gnb', clf3)], voting='hard')\n",
    "\n",
    "# for clf, label in zip([clf1, clf2, clf3, eclf], ['Logistic Regression', 'Random Forest', 'naive Bayes', 'Ensemble']):\n",
    "#     scores = cross_val_score(clf, X, y, cv=5, scoring='accuracy')\n",
    "#     print(\"Accuracy: %0.2f (+/- %0.2f) [%s]\" % (scores.mean(), scores.std(), label))"
   ]
  },
  {
   "cell_type": "code",
   "execution_count": null,
   "metadata": {
    "ExecuteTime": {
     "end_time": "2018-11-06T19:09:07.421611Z",
     "start_time": "2018-11-06T19:09:07.404994Z"
    }
   },
   "outputs": [],
   "source": [
    "# clf = DecisionTreeClassifier(max_depth=None, min_samples_split=2,\n",
    "#     random_state=0)\n",
    "# scores = cross_val_score(clf, X, y, cv=5)\n",
    "# scores.mean()\n",
    "\n",
    "\n",
    "# clf = RandomForestClassifier(n_estimators=10, max_depth=None,\n",
    "#     min_samples_split=2, random_state=0)\n",
    "# scores = cross_val_score(clf, X, y, cv=5)\n",
    "# scores.mean()\n",
    "\n",
    "\n",
    "# clf = ExtraTreesClassifier(n_estimators=10, max_depth=None,\n",
    "#     min_samples_split=2, random_state=0)\n",
    "# scores = cross_val_score(clf, X, y, cv=5)\n",
    "# scores.mean() > 0.999"
   ]
  },
  {
   "cell_type": "code",
   "execution_count": null,
   "metadata": {
    "ExecuteTime": {
     "end_time": "2018-11-06T19:10:38.952154Z",
     "start_time": "2018-11-06T19:10:38.935223Z"
    }
   },
   "outputs": [],
   "source": [
    "# est = GradientBoostingRegressor\n",
    "# mean_squared_error(y_test, est.predict(X_test))  \n",
    "# clf.score(X_test, y_test)"
   ]
  }
 ],
 "metadata": {
  "kernelspec": {
   "display_name": "Python 3",
   "language": "python",
   "name": "python3"
  },
  "language_info": {
   "codemirror_mode": {
    "name": "ipython",
    "version": 3
   },
   "file_extension": ".py",
   "mimetype": "text/x-python",
   "name": "python",
   "nbconvert_exporter": "python",
   "pygments_lexer": "ipython3",
   "version": "3.6.6"
  },
  "latex_envs": {
   "LaTeX_envs_menu_present": false,
   "autoclose": false,
   "autocomplete": true,
   "bibliofile": "biblio.bib",
   "cite_by": "apalike",
   "current_citInitial": 1,
   "eqLabelWithNumbers": true,
   "eqNumInitial": 1,
   "hotkeys": {
    "equation": "Ctrl-E",
    "itemize": "Ctrl-I"
   },
   "labels_anchors": false,
   "latex_user_defs": false,
   "report_style_numbering": false,
   "user_envs_cfg": false
  }
 },
 "nbformat": 4,
 "nbformat_minor": 2
}
