{
 "cells": [
  {
   "cell_type": "markdown",
   "metadata": {},
   "source": [
    "# Running all Classification Models to get the best predictions\n",
    "## Then, moving on to Neural Networks to get \"Better Predictions\""
   ]
  },
  {
   "cell_type": "markdown",
   "metadata": {},
   "source": [
    "### Ran all the models. Deleting these:\n",
    "1. __Multinomial Naive-Bayes__\n",
    "> __Code__<br>\n",
    ">multinomial_nb_clf = MultinomialNB(alpha=1).fit(X_train, y_train)<br>\n",
    ">ml_nb_scores = cross_validation_process(multinomial_nb_clf, X_test, y_test, cv=11)\n",
    "\n",
    "`Average Accuracy(average_precision) = 46.67%\n",
    "Scores(average_precision) = 0.459, 0.445, 0.535, 0.499, 0.417, \n",
    "                            0.378, 0.641, 0.542, 0.520, 0.377, \n",
    "                            0.322\n",
    "Confusion_matrix = | 45 | 36 |\n",
    "                   | 29 | 46 |\n",
    "Confusion_matrix accuracy = 58.33%`\n",
    "\n",
    "2. __Gaussian Naive-Bayes__\n",
    "\n",
    "> __Code__<br>\n",
    ">gaussian_nb_clf = GaussianNB().fit(X_train, y_train)<br>\n",
    ">gaussian_nb_score = cross_validation_process(gaussian_nb_clf, X_test, y_test)\n",
    "\n",
    "`Average Accuracy(average_precision) = 46.16%\n",
    "Scores(average_precision):, 0.460, 0.426, 0.562, 0.459, 0.442,\n",
    "                            0.408, 0.617, 0.513, 0.508, 0.365,\n",
    "                            0.319\n",
    "confusion_matrix = | 3 | 78 |\n",
    "                   | 0 | 75 |\n",
    "confusion_matrix accuracy: 50.00%`\n",
    "\n",
    "3. __One Vs Rest Classifier__\n",
    "\n",
    "> __Code__<br>\n",
    ">ovr_clf = OneVsRestClassifier(LinearSVC(penalty='l2', loss='hinge', dual=True, \n",
    "                                        C=32.0, random_state=9)).fit(X_train, y_train)<br>\n",
    ">ovr_score = cross_validation_process(ovr_clf, X_test, y_test, cv=11)\n",
    "\n",
    "`Average Accuracy(average_precision) = 53.73%\n",
    "Scores(average_precision) = 0.468, 0.488, 0.570, 0.517, 0.554,\n",
    "                            0.453, 0.876, 0.613, 0.699, 0.356,\n",
    "                            0.315\n",
    "confusion_matrix = | 81 | 0 |\n",
    "                   | 75 | 0 |\n",
    "confusion_matrix accuracy = 51.92%`\n",
    "\n",
    "4. __One Vs One Classifier__\n",
    "\n",
    "> __Code__<br>\n",
    "ovo_clf = OneVsOneClassifier(LinearSVC(penalty='l2', loss='hinge', dual=True, \n",
    "                                       C=32.0, class_weight='balanced', \n",
    "                                       random_state=9)).fit(X_train, y_train)<br>\n",
    ">ovo_score = cross_validation_process(ovo_clf, X_test, y_test, cv=11)\n",
    "\n",
    "`Average Accuracy(average_precision) = 53.73%\n",
    "Scores(average_precision) = 0.468, 0.488, 0.570, 0.517, 0.554,\n",
    "                            0.453, 0.876, 0.613, 0.699, 0.356,\n",
    "                            0.315\n",
    "confusion_matrix = | 81 | 0 |\n",
    "                   | 75 | 0 |\n",
    "confusion_matrix accuracy = 51.92%`\n",
    "\n",
    "5. __Bernoulli Naive-Bayes__\n",
    "\n",
    "> __Code__<br>\n",
    ">brnl_clf = BernoulliNB().fit(X_train, y_train)<br>\n",
    ">brnl_score = cross_validation_process(brnl_clf, X_test, y_test)\n",
    "\n",
    "`Average Accuracy(average_precision) = 48.87%\n",
    "Scores(average_precision) = 0.465, 0.465, 0.576, 0.502, 0.464,\n",
    "                            0.399, 0.695, 0.579, 0.517, 0.362,\n",
    "                            0.350\n",
    "confusion_matrix = | 43 | 38 |\n",
    "                   | 32 | 43 |\n",
    "confusion_matrix accuracy: 55.13%`\n",
    "\n",
    "6. __Decision Tree Classifier__\n",
    "\n",
    "> __Code__<br>\n",
    ">dec_tree_clf = DecisionTreeClassifier().fit(X_train, y_train)<br>\n",
    ">dec_tree_score = cross_validation_process(dec_tree_clf, X_test, y_test)\n",
    "\n",
    "`Average Accuracy(average_precision) = 56.05%\n",
    "Scores(average_precision) = 0.580, 0.427, 0.581, 0.429, 0.540,\n",
    "                            0.700, 0.738, 0.468, 0.500, 0.531,\n",
    "                            0.672\n",
    "confusion_matrix = | 44 | 37 |\n",
    "                   | 27 | 48 |\n",
    "confusion_matrix accuracy: 58.97%`\n",
    "\n",
    "7. __Extra Tree Classifier__\n",
    "\n",
    "> __Code__<br>\n",
    ">ET_clf = ExtraTreeClassifier(criterion='entropy', random_state=9, \n",
    "                             class_weight='balanced').fit(X_train, y_train)<br>\n",
    ">ET_score = cross_validation_process(ET_clf, X_test, y_test)\n",
    "\n",
    "`Average Accuracy(average_precision) = 51.59%\n",
    "Scores(average_precision) = 0.644, 0.415, 0.454, 0.481, 0.500,\n",
    "                            0.586, 0.653, 0.539, 0.540, 0.419,\n",
    "                            0.445\n",
    "confusion_matrix = | 47 | 34 |\n",
    "                   | 28 | 47 |\n",
    "confusion_matrix accuracy: 60.26%`\n",
    "\n",
    "8. __Gradient Boosting Classifier__\n",
    "\n",
    "> __Code__<br>\n",
    ">grad_boost_clf = GradientBoostingClassifier(n_estimators=1000, learning_rate=.1, \n",
    "                                            max_depth=500000, random_state=9, \n",
    "                                            n_iter_no_change=100).fit(X_train, y_train)<br>\n",
    ">grad_boost_score = cross_validation_process(grad_boost_clf, X_test, y_test, cv=11)\n",
    "\n",
    "`Average Accuracy(average_precision) = 73.26%\n",
    "Scores(average_precision) = 0.666, 0.395, 0.818, 0.759, 0.724,\n",
    "                            0.757, 0.877, 0.733, 0.704, 0.695,\n",
    "                            0.931\n",
    "confusion_matrix = | 48 | 33 |\n",
    "                   | 27 | 48 |\n",
    "confusion_matrix accuracy: 61.54%`\n",
    "\n",
    "9. __Random Forest Classifier__\n",
    "\n",
    "> __Code__<br>\n",
    ">rand_frst_clf = RandomForestClassifier(n_estimators=100, criterion='entropy', n_jobs=-2, \n",
    "                                       random_state=9).fit(X_train, y_train)<br>\n",
    ">rand_frst_score = cross_validation_process(rand_frst_clf, X_test, y_test, cv=11)\n",
    "\n",
    "`Average Accuracy(average_precision) = 73.66%\n",
    "Scores(average_precision) = 0.761, 0.638, 0.818, 0.678, 0.557,\n",
    "                            0.811, 0.927, 0.775, 0.773, 0.623,\n",
    "                            0.739\n",
    "confusion_matrix = | 53 | 28 |\n",
    "                   | 23 | 52 |\n",
    "confusion_matrix accuracy = 67.31%`\n",
    "\n",
    "10. __Extra Trees Classifier__\n",
    "\n",
    "> __Code__<br>\n",
    ">XTsC_clf = ExtraTreesClassifier(n_estimators=1000, criterion='entropy',  n_jobs=-2, \n",
    "                                random_state=9, class_weight='balanced').fit(X_train, y_train)<br>\n",
    ">XTsC_score = cross_validation_process(XTsC_clf, X_test, y_test, cv=11)\n",
    "\n",
    "`Average Accuracy(average_precision) = 67.23%\n",
    "Scores(average_precision) = 0.758, 0.536, 0.779, 0.641, 0.593,\n",
    "                            0.786, 0.792, 0.556, 0.596, 0.505,\n",
    "                            0.855\n",
    "confusion_matrix = | 53 | 28 |\n",
    "                   | 22 | 53 |\n",
    "confusion_matrix accuracy = 67.95%`"
   ]
  },
  {
   "cell_type": "code",
   "execution_count": 77,
   "metadata": {
    "ExecuteTime": {
     "end_time": "2018-11-07T04:53:00.763345Z",
     "start_time": "2018-11-07T04:53:00.738488Z"
    }
   },
   "outputs": [],
   "source": [
    "import pandas as pd\n",
    "import numpy as np\n",
    "\n",
    "from sklearn.discriminant_analysis import LinearDiscriminantAnalysis\n",
    "from sklearn.discriminant_analysis import QuadraticDiscriminantAnalysis\n",
    "\n",
    "from sklearn.ensemble import AdaBoostClassifier\n",
    "from sklearn.ensemble import ExtraTreesClassifier\n",
    "from sklearn.ensemble import GradientBoostingClassifier\n",
    "from sklearn.ensemble import RandomForestClassifier\n",
    "from sklearn.ensemble import VotingClassifier\n",
    "\n",
    "from sklearn.gaussian_process import GaussianProcessClassifier\n",
    "from sklearn.gaussian_process.kernels import RBF\n",
    "\n",
    "from sklearn.linear_model import LogisticRegression\n",
    "from sklearn.linear_model import LogisticRegressionCV\n",
    "from sklearn.linear_model import RidgeClassifier\n",
    "from sklearn.linear_model import RidgeClassifierCV\n",
    "from sklearn.linear_model import SGDClassifier\n",
    "\n",
    "from sklearn.metrics import *\n",
    "\n",
    "from sklearn.model_selection import train_test_split\n",
    "from sklearn.model_selection import cross_val_score\n",
    "from sklearn.model_selection import GridSearchCV\n",
    "\n",
    "from sklearn.tree import DecisionTreeClassifier\n",
    "\n",
    "from sklearn.neighbors import KDTree\n",
    "from sklearn.neighbors import KNeighborsClassifier\n",
    "from sklearn.neighbors import NearestCentroid\n",
    "from sklearn.neighbors import RadiusNeighborsClassifier\n",
    "\n",
    "from sklearn.neural_network import MLPClassifier\n",
    "\n",
    "from sklearn.svm import LinearSVC\n",
    "\n",
    "from df_functions import *\n",
    "\n",
    "from warnings import filterwarnings\n",
    "filterwarnings('ignore')"
   ]
  },
  {
   "cell_type": "code",
   "execution_count": 78,
   "metadata": {
    "ExecuteTime": {
     "end_time": "2018-11-07T04:53:01.479162Z",
     "start_time": "2018-11-07T04:53:01.454320Z"
    }
   },
   "outputs": [],
   "source": [
    "df = pd.read_csv('../data/df_for_model.csv')"
   ]
  },
  {
   "cell_type": "code",
   "execution_count": 164,
   "metadata": {
    "ExecuteTime": {
     "end_time": "2018-11-07T05:37:59.415793Z",
     "start_time": "2018-11-07T05:37:59.326672Z"
    }
   },
   "outputs": [
    {
     "name": "stdout",
     "output_type": "stream",
     "text": [
      "y Shape: (2076,)\n",
      "X Shape: (2076, 31)\n",
      "X_train Shape: (1997, 31)\n",
      "X_test Shape: (79, 31)\n",
      "y_train Shape: (1997,)\n",
      "y_test Shape: (79,)\n"
     ]
    }
   ],
   "source": [
    "X_train, X_test, y_train, y_test = get_Xy_train_test(df)"
   ]
  },
  {
   "cell_type": "markdown",
   "metadata": {},
   "source": [
    "### Linear Discriminant Analysis"
   ]
  },
  {
   "cell_type": "code",
   "execution_count": 175,
   "metadata": {
    "ExecuteTime": {
     "end_time": "2018-11-07T05:42:52.132185Z",
     "start_time": "2018-11-07T05:42:52.059717Z"
    },
    "scrolled": false
   },
   "outputs": [
    {
     "name": "stdout",
     "output_type": "stream",
     "text": [
      "Average Accuracy(average_precision) = 79.39%\n",
      "Standard Deviation = 0.171\n",
      "Scores(average_precision) = [0.83  1.    0.732 0.917 0.679 1.    0.817 0.56  0.476 0.722 1.   ]\n",
      "Prediction Confusion Matrix = \n",
      "[[24 13]\n",
      " [ 9 33]]\n",
      "Prediction Accuracy: 72.15%\n"
     ]
    }
   ],
   "source": [
    "LDA_clf = LinearDiscriminantAnalysis(solver = 'lsqr', shrinkage='auto').fit(X_train, y_train)\n",
    "LDA_scores = cross_validation_process(LDA_clf, X_test, y_test, cv=11)"
   ]
  },
  {
   "cell_type": "markdown",
   "metadata": {},
   "source": [
    "### Quadratic Discriminant Analysis"
   ]
  },
  {
   "cell_type": "code",
   "execution_count": 176,
   "metadata": {
    "ExecuteTime": {
     "end_time": "2018-11-07T05:42:53.776965Z",
     "start_time": "2018-11-07T05:42:53.715289Z"
    },
    "scrolled": false
   },
   "outputs": [
    {
     "name": "stdout",
     "output_type": "stream",
     "text": [
      "Average Accuracy(average_precision) = 82.16%\n",
      "Standard Deviation = 0.172\n",
      "Scores(average_precision) = [0.876 1.    0.56  1.    0.679 0.854 0.888 0.493 0.917 0.95 ]\n",
      "Prediction Confusion Matrix = \n",
      "[[25 12]\n",
      " [ 9 33]]\n",
      "Prediction Accuracy: 73.42%\n"
     ]
    }
   ],
   "source": [
    "QDA_clf = QuadraticDiscriminantAnalysis(reg_param=0.86).fit(X_train, y_train)\n",
    "QDA_scores = cross_validation_process(QDA_clf, X_test, y_test, cv=10)"
   ]
  },
  {
   "cell_type": "markdown",
   "metadata": {},
   "source": [
    "### Gaussian Process Classifier"
   ]
  },
  {
   "cell_type": "code",
   "execution_count": 177,
   "metadata": {
    "ExecuteTime": {
     "end_time": "2018-11-07T05:42:57.195806Z",
     "start_time": "2018-11-07T05:42:54.934102Z"
    },
    "scrolled": false
   },
   "outputs": [
    {
     "name": "stdout",
     "output_type": "stream",
     "text": [
      "Average Accuracy(average_precision) = 89.26%\n",
      "Standard Deviation = 0.107\n",
      "Scores(average_precision) = [0.917 1.    0.817 1.    0.95  0.771 0.679 0.893 0.793 1.    1.   ]\n",
      "Prediction Confusion Matrix = \n",
      "[[27 10]\n",
      " [ 9 33]]\n",
      "Prediction Accuracy: 75.95%\n"
     ]
    }
   ],
   "source": [
    "gpc_rbf_clf = GaussianProcessClassifier(n_jobs=-2, max_iter_predict=100, n_restarts_optimizer=10,\n",
    "                                        random_state=9).fit(X_train, y_train)\n",
    "gpc_rbf_score = cross_validation_process(gpc_rbf_clf, X_test, y_test, cv=11)"
   ]
  },
  {
   "cell_type": "markdown",
   "metadata": {},
   "source": [
    "### Logistic Regression"
   ]
  },
  {
   "cell_type": "code",
   "execution_count": 178,
   "metadata": {
    "ExecuteTime": {
     "end_time": "2018-11-07T05:43:06.967091Z",
     "start_time": "2018-11-07T05:43:05.674764Z"
    },
    "scrolled": false
   },
   "outputs": [
    {
     "name": "stdout",
     "output_type": "stream",
     "text": [
      "Average Accuracy(average_precision) = 84.98%\n",
      "Standard Deviation = 0.125\n",
      "Scores(average_precision) = [0.854 1.    0.643 0.917 0.679 0.95  0.95  0.804 0.685 0.867 1.   ]\n",
      "Prediction Confusion Matrix = \n",
      "[[26 11]\n",
      " [11 31]]\n",
      "Prediction Accuracy: 72.15%\n"
     ]
    }
   ],
   "source": [
    "lgst_reg_clf = LogisticRegression(penalty='l2', class_weight='balanced', random_state=9, \n",
    "                                  solver='newton-cg', n_jobs=-2, multi_class='auto').fit(X_train, y_train)\n",
    "\n",
    "lgst_reg_score = cross_validation_process(lgst_reg_clf, X_test, y_test, cv=11)"
   ]
  },
  {
   "cell_type": "markdown",
   "metadata": {},
   "source": [
    "### Logistic Regression CV"
   ]
  },
  {
   "cell_type": "code",
   "execution_count": 179,
   "metadata": {
    "ExecuteTime": {
     "end_time": "2018-11-07T05:43:22.515226Z",
     "start_time": "2018-11-07T05:43:13.884694Z"
    },
    "scrolled": false
   },
   "outputs": [
    {
     "name": "stdout",
     "output_type": "stream",
     "text": [
      "Average Accuracy(average_precision) = 83.39%\n",
      "Standard Deviation = 0.162\n",
      "Scores(average_precision) = [0.817 1.    0.56  1.    0.679 0.888 1.    0.804 0.56  0.867 1.   ]\n",
      "Prediction Confusion Matrix = \n",
      "[[24 13]\n",
      " [11 31]]\n",
      "Prediction Accuracy: 69.62%\n"
     ]
    }
   ],
   "source": [
    "lgst_reg_cv_clf = LogisticRegressionCV(Cs=19, penalty='l2', cv=5,\n",
    "                                       class_weight='balanced', random_state=9, \n",
    "                                       solver='newton-cg', n_jobs=-2).fit(X_train, y_train)\n",
    "lgst_reg_cv_score = cross_validation_process(lgst_reg_cv_clf, X_test, y_test, cv=11)"
   ]
  },
  {
   "cell_type": "markdown",
   "metadata": {},
   "source": [
    "### Ada Boost Classifier \n",
    "\n",
    "Best results with:\n",
    "\n",
    "n_estimators=235, learning_rate=1.442<br>\n",
    "n_estimators=52, learning_rate=0.155<br>\n",
    "n_estimators=274, learning_rate=0.013<br>\n",
    "n_estimators=162, learning_rate=0.767<br>"
   ]
  },
  {
   "cell_type": "code",
   "execution_count": 180,
   "metadata": {
    "ExecuteTime": {
     "end_time": "2018-11-07T05:43:27.549433Z",
     "start_time": "2018-11-07T05:43:26.180791Z"
    },
    "scrolled": false
   },
   "outputs": [
    {
     "name": "stdout",
     "output_type": "stream",
     "text": [
      "Average Accuracy(average_precision) = 74.33%\n",
      "Standard Deviation = 0.16\n",
      "Scores(average_precision) = [1.    0.811 0.695 0.511 0.7  ]\n",
      "Prediction Confusion Matrix = \n",
      "[[28  9]\n",
      " [ 8 34]]\n",
      "Prediction Accuracy: 78.48%\n"
     ]
    }
   ],
   "source": [
    "ada_clf = AdaBoostClassifier(n_estimators=235, learning_rate=1.442, random_state=9).fit(X_train, y_train)\n",
    "ada_scores = cross_validation_process(ada_clf, X_test, y_test, cv=5)"
   ]
  },
  {
   "cell_type": "markdown",
   "metadata": {},
   "source": [
    "### SGD Classifier"
   ]
  },
  {
   "cell_type": "code",
   "execution_count": 181,
   "metadata": {
    "ExecuteTime": {
     "end_time": "2018-11-07T05:43:31.716789Z",
     "start_time": "2018-11-07T05:43:29.880575Z"
    },
    "scrolled": false
   },
   "outputs": [
    {
     "name": "stdout",
     "output_type": "stream",
     "text": [
      "Average Accuracy(average_precision) = 85.15%\n",
      "Standard Deviation = 0.132\n",
      "Scores(average_precision) = [1.    1.    0.793 0.917 0.804 0.95  0.95  0.804 0.643 0.589 0.917]\n",
      "Prediction Confusion Matrix = \n",
      "[[25 12]\n",
      " [ 9 33]]\n",
      "Prediction Accuracy: 73.42%\n"
     ]
    }
   ],
   "source": [
    "SGD_clf = SGDClassifier(loss='squared_hinge', max_iter=10000, shuffle=False, \n",
    "                        n_jobs=-2, random_state=9, n_iter_no_change=50, \n",
    "                        class_weight='balanced').fit(X_train, y_train)\n",
    "\n",
    "SGD_score = cross_validation_process(SGD_clf, X_test, y_test, cv=11)"
   ]
  },
  {
   "cell_type": "markdown",
   "metadata": {},
   "source": [
    "### Extra Trees Classifier"
   ]
  },
  {
   "cell_type": "code",
   "execution_count": 182,
   "metadata": {
    "ExecuteTime": {
     "end_time": "2018-11-07T05:43:41.604246Z",
     "start_time": "2018-11-07T05:43:31.945789Z"
    },
    "scrolled": false
   },
   "outputs": [
    {
     "name": "stdout",
     "output_type": "stream",
     "text": [
      "Average Accuracy(average_precision) = 75.75%\n",
      "Standard Deviation = 0.14\n",
      "Scores(average_precision) = [0.625 0.95  0.95  0.65  0.771 0.817 0.71  0.768 0.476 0.7   0.917]\n",
      "Prediction Confusion Matrix = \n",
      "[[27 10]\n",
      " [14 28]]\n",
      "Prediction Accuracy: 69.62%\n"
     ]
    }
   ],
   "source": [
    "XTsC_clf = ExtraTreesClassifier(n_estimators=1000, criterion='entropy',  n_jobs=-2, \n",
    "                                random_state=9, class_weight='balanced').fit(X_train, y_train)\n",
    "XTsC_score = cross_validation_process(XTsC_clf, X_test, y_test, cv=11)"
   ]
  },
  {
   "cell_type": "markdown",
   "metadata": {},
   "source": [
    "### Random Forest Classifier"
   ]
  },
  {
   "cell_type": "code",
   "execution_count": 183,
   "metadata": {
    "ExecuteTime": {
     "end_time": "2018-11-07T05:43:50.589891Z",
     "start_time": "2018-11-07T05:43:41.607690Z"
    },
    "scrolled": false
   },
   "outputs": [
    {
     "name": "stdout",
     "output_type": "stream",
     "text": [
      "Average Accuracy(average_precision) = 82.28%\n",
      "Standard Deviation = 0.149\n",
      "Scores(average_precision) = [0.854 1.    0.83  1.    0.679 0.854 0.804 0.747 0.476 0.806 1.   ]\n",
      "Prediction Confusion Matrix = \n",
      "[[26 11]\n",
      " [11 31]]\n",
      "Prediction Accuracy: 72.15%\n"
     ]
    }
   ],
   "source": [
    "rand_frst_clf = RandomForestClassifier(n_estimators=1000, criterion='entropy', n_jobs=-2, \n",
    "                                       random_state=9).fit(X_train, y_train)\n",
    "\n",
    "rand_frst_score = cross_validation_process(rand_frst_clf, X_test, y_test, cv=11)"
   ]
  },
  {
   "cell_type": "markdown",
   "metadata": {},
   "source": [
    "### Ridge Classifier"
   ]
  },
  {
   "cell_type": "code",
   "execution_count": 184,
   "metadata": {
    "ExecuteTime": {
     "end_time": "2018-11-07T05:43:50.661477Z",
     "start_time": "2018-11-07T05:43:50.592043Z"
    },
    "scrolled": false
   },
   "outputs": [
    {
     "name": "stdout",
     "output_type": "stream",
     "text": [
      "Average Accuracy(average_precision) = 87.64%\n",
      "Standard Deviation = 0.113\n",
      "Scores(average_precision) = [0.888 1.    0.768 0.917 0.679 0.95  1.    0.888 0.685 0.867 1.   ]\n",
      "Prediction Confusion Matrix = \n",
      "[[23 14]\n",
      " [ 8 34]]\n",
      "Prediction Accuracy: 72.15%\n"
     ]
    }
   ],
   "source": [
    "ridge_clf = RidgeClassifier(alpha=20.0, class_weight='balanced', solver='sparse_cg', \n",
    "                            random_state=9).fit(X_train, y_train)\n",
    "ridge_score = cross_validation_process(ridge_clf, X_test, y_test, cv=11)"
   ]
  },
  {
   "cell_type": "markdown",
   "metadata": {},
   "source": [
    "### Ridge Classifier CV"
   ]
  },
  {
   "cell_type": "code",
   "execution_count": 185,
   "metadata": {
    "ExecuteTime": {
     "end_time": "2018-11-07T05:43:53.214295Z",
     "start_time": "2018-11-07T05:43:50.664691Z"
    },
    "scrolled": false
   },
   "outputs": [
    {
     "name": "stdout",
     "output_type": "stream",
     "text": [
      "Average Accuracy(average_precision) = 83.02%\n",
      "Standard Deviation = 0.164\n",
      "Scores(average_precision) = [1.    1.    0.75  0.917 0.771 0.888 0.854 0.888 0.476 0.589 1.   ]\n",
      "Prediction Confusion Matrix = \n",
      "[[23 14]\n",
      " [ 7 35]]\n",
      "Prediction Accuracy: 73.42%\n"
     ]
    }
   ],
   "source": [
    "ridge_cv_clf = RidgeClassifierCV(scoring='average_precision', cv=20, class_weight='balanced').fit(X_train, y_train)\n",
    "ridge_cv_score = cross_validation_process(ridge_cv_clf, X_test, y_test, cv=11)"
   ]
  },
  {
   "cell_type": "markdown",
   "metadata": {},
   "source": [
    "### K Neighbors Classifier"
   ]
  },
  {
   "cell_type": "code",
   "execution_count": 186,
   "metadata": {
    "ExecuteTime": {
     "end_time": "2018-11-07T05:43:57.472680Z",
     "start_time": "2018-11-07T05:43:53.220413Z"
    },
    "scrolled": false
   },
   "outputs": [
    {
     "name": "stdout",
     "output_type": "stream",
     "text": [
      "2\n",
      "Average Accuracy(average_precision) = 78.68%\n",
      "Standard Deviation = 0.151\n",
      "Scores(average_precision) = [0.812 0.95  0.608 1.    0.705 0.664 0.733 0.83  0.518 0.833 1.   ]\n",
      "Prediction Confusion Matrix = \n",
      "[[31  6]\n",
      " [22 20]]\n",
      "Prediction Accuracy: 64.56%\n",
      "3\n",
      "Average Accuracy(average_precision) = 81.41%\n",
      "Standard Deviation = 0.17\n",
      "Scores(average_precision) = [0.875 1.    0.583 1.    0.721 0.643 0.85  0.747 0.536 1.    1.   ]\n",
      "Prediction Confusion Matrix = \n",
      "[[23 14]\n",
      " [13 29]]\n",
      "Prediction Accuracy: 65.82%\n",
      "4\n",
      "Average Accuracy(average_precision) = 82.28%\n",
      "Standard Deviation = 0.155\n",
      "Scores(average_precision) = [0.917 1.    0.583 1.    0.7   0.768 0.85  0.83  0.536 0.867 1.   ]\n",
      "Prediction Confusion Matrix = \n",
      "[[28  9]\n",
      " [18 24]]\n",
      "Prediction Accuracy: 65.82%\n",
      "5\n",
      "Average Accuracy(average_precision) = 82.14%\n",
      "Standard Deviation = 0.161\n",
      "Scores(average_precision) = [0.917 1.    0.583 1.    0.679 0.71  0.8   0.888 0.543 0.917 1.   ]\n",
      "Prediction Confusion Matrix = \n",
      "[[27 10]\n",
      " [12 30]]\n",
      "Prediction Accuracy: 72.15%\n",
      "6\n",
      "Average Accuracy(average_precision) = 81.3%\n",
      "Standard Deviation = 0.159\n",
      "Scores(average_precision) = [0.917 1.    0.583 1.    0.692 0.733 0.733 0.825 0.543 0.917 1.   ]\n",
      "Prediction Confusion Matrix = \n",
      "[[28  9]\n",
      " [16 26]]\n",
      "Prediction Accuracy: 68.35%\n",
      "7\n",
      "Average Accuracy(average_precision) = 82.72%\n",
      "Standard Deviation = 0.159\n",
      "Scores(average_precision) = [0.917 1.    0.601 1.    0.692 0.693 0.9   0.888 0.543 0.867 1.   ]\n",
      "Prediction Confusion Matrix = \n",
      "[[26 11]\n",
      " [12 30]]\n",
      "Prediction Accuracy: 70.89%\n",
      "8\n",
      "Average Accuracy(average_precision) = 82.68%\n",
      "Standard Deviation = 0.17\n",
      "Scores(average_precision) = [0.917 1.    0.56  1.    0.725 0.668 1.    0.817 0.543 0.867 1.   ]\n",
      "Prediction Confusion Matrix = \n",
      "[[29  8]\n",
      " [14 28]]\n",
      "Prediction Accuracy: 72.15%\n",
      "9\n",
      "Average Accuracy(average_precision) = 82.87%\n",
      "Standard Deviation = 0.169\n",
      "Scores(average_precision) = [0.854 1.    0.518 1.    0.725 0.71  1.    0.825 0.568 0.917 1.   ]\n",
      "Prediction Confusion Matrix = \n",
      "[[27 10]\n",
      " [11 31]]\n",
      "Prediction Accuracy: 73.42%\n",
      "10\n",
      "Average Accuracy(average_precision) = 83.48%\n",
      "Standard Deviation = 0.149\n",
      "Scores(average_precision) = [0.854 1.    0.685 1.    0.7   0.71  0.95  0.825 0.543 0.917 1.   ]\n",
      "Prediction Confusion Matrix = \n",
      "[[29  8]\n",
      " [13 29]]\n",
      "Prediction Accuracy: 73.42%\n",
      "11\n",
      "Average Accuracy(average_precision) = 83.0%\n",
      "Standard Deviation = 0.163\n",
      "Scores(average_precision) = [0.833 1.    0.619 1.    0.7   0.693 0.95  0.9   0.518 0.917 1.   ]\n",
      "Prediction Confusion Matrix = \n",
      "[[28  9]\n",
      " [12 30]]\n",
      "Prediction Accuracy: 73.42%\n",
      "12\n",
      "Average Accuracy(average_precision) = 84.37%\n",
      "Standard Deviation = 0.149\n",
      "Scores(average_precision) = [0.817 1.    0.702 1.    0.7   0.668 0.95  0.95  0.577 0.917 1.   ]\n",
      "Prediction Confusion Matrix = \n",
      "[[30  7]\n",
      " [12 30]]\n",
      "Prediction Accuracy: 75.95%\n",
      "13\n",
      "Average Accuracy(average_precision) = 84.66%\n",
      "Standard Deviation = 0.149\n",
      "Scores(average_precision) = [0.817 1.    0.685 1.    0.725 0.693 0.95  1.    0.577 0.867 1.   ]\n",
      "Prediction Confusion Matrix = \n",
      "[[29  8]\n",
      " [10 32]]\n",
      "Prediction Accuracy: 77.22%\n",
      "14\n",
      "Average Accuracy(average_precision) = 85.58%\n",
      "Standard Deviation = 0.15\n",
      "Scores(average_precision) = [0.817 1.    0.768 1.    0.725 0.661 1.    1.    0.577 0.867 1.   ]\n",
      "Prediction Confusion Matrix = \n",
      "[[31  6]\n",
      " [12 30]]\n",
      "Prediction Accuracy: 77.22%\n",
      "15\n",
      "Average Accuracy(average_precision) = 84.44%\n",
      "Standard Deviation = 0.161\n",
      "Scores(average_precision) = [0.817 1.    0.618 1.    0.725 0.685 1.    1.    0.577 0.867 1.   ]\n",
      "Prediction Confusion Matrix = \n",
      "[[30  7]\n",
      " [ 9 33]]\n",
      "Prediction Accuracy: 79.75%\n",
      "16\n",
      "Average Accuracy(average_precision) = 84.34%\n",
      "Standard Deviation = 0.159\n",
      "Scores(average_precision) = [0.733 1.    0.643 1.    0.725 0.75  1.    1.    0.56  0.867 1.   ]\n",
      "Prediction Confusion Matrix = \n",
      "[[30  7]\n",
      " [10 32]]\n",
      "Prediction Accuracy: 78.48%\n",
      "17\n",
      "Average Accuracy(average_precision) = 84.07%\n",
      "Standard Deviation = 0.154\n",
      "Scores(average_precision) = [0.733 1.    0.643 1.    0.725 0.771 1.    0.95  0.56  0.867 1.   ]\n",
      "Prediction Confusion Matrix = \n",
      "[[29  8]\n",
      " [ 9 33]]\n",
      "Prediction Accuracy: 78.48%\n",
      "18\n",
      "Average Accuracy(average_precision) = 84.07%\n",
      "Standard Deviation = 0.157\n",
      "Scores(average_precision) = [0.733 1.    0.518 1.    0.725 0.771 1.    0.95  0.685 0.867 1.   ]\n",
      "Prediction Confusion Matrix = \n",
      "[[30  7]\n",
      " [11 31]]\n",
      "Prediction Accuracy: 77.22%\n",
      "19\n",
      "Average Accuracy(average_precision) = 85.4%\n",
      "Standard Deviation = 0.141\n",
      "Scores(average_precision) = [0.733 1.    0.601 1.    0.725 0.833 1.    0.95  0.685 0.867 1.   ]\n",
      "Prediction Confusion Matrix = \n",
      "[[29  8]\n",
      " [10 32]]\n",
      "Prediction Accuracy: 77.22%\n"
     ]
    }
   ],
   "source": [
    "for num in range(2,20):\n",
    "    print(num)\n",
    "    KNN_clf = KNeighborsClassifier(n_neighbors=num, leaf_size=45, n_jobs=-2).fit(X_train, y_train)\n",
    "    KNN_score = cross_validation_process(KNN_clf, X_test, y_test, cv=11)"
   ]
  },
  {
   "cell_type": "markdown",
   "metadata": {},
   "source": [
    "### Multi-layer Perceptron classifier"
   ]
  },
  {
   "cell_type": "code",
   "execution_count": 187,
   "metadata": {
    "ExecuteTime": {
     "end_time": "2018-11-07T05:44:00.049933Z",
     "start_time": "2018-11-07T05:43:57.474402Z"
    },
    "scrolled": false
   },
   "outputs": [
    {
     "name": "stdout",
     "output_type": "stream",
     "text": [
      "Average Accuracy(average_precision) = 65.8%\n",
      "Standard Deviation = 0.16\n",
      "Scores(average_precision) = [0.771 0.679 0.475 0.525 0.608 1.    0.685 0.622 0.451 0.556 0.867]\n",
      "Prediction Confusion Matrix = \n",
      "[[24 13]\n",
      " [11 31]]\n",
      "Prediction Accuracy: 69.62%\n"
     ]
    }
   ],
   "source": [
    "MLP_clf = MLPClassifier(solver='lbfgs', random_state=9, shuffle=False).fit(X_train, y_train)\n",
    "MLP_score = cross_validation_process(MLP_clf, X_test, y_test, cv=11)"
   ]
  },
  {
   "cell_type": "code",
   "execution_count": 68,
   "metadata": {
    "ExecuteTime": {
     "end_time": "2018-11-07T04:47:52.113092Z",
     "start_time": "2018-11-07T04:47:52.099093Z"
    }
   },
   "outputs": [],
   "source": [
    "# classification_scoring = ['accuracy', 'balanced_accuracy', 'average_precision',\n",
    "#                           'brier_score_loss', 'f1', 'f1_micro', 'f1_macro',\n",
    "#                           'f1_weighted', 'neg_log_loss', 'precision',\n",
    "#                           'recall', 'roc_auc']"
   ]
  },
  {
   "cell_type": "code",
   "execution_count": 69,
   "metadata": {
    "ExecuteTime": {
     "end_time": "2018-11-07T04:47:52.131088Z",
     "start_time": "2018-11-07T04:47:52.115189Z"
    }
   },
   "outputs": [],
   "source": [
    "# classifiers = [\n",
    "#     KNeighborsClassifier(3),\n",
    "#     SVC(kernel=\"linear\", C=0.025),\n",
    "#     SVC(gamma=2, C=1),\n",
    "#     GaussianProcessClassifier(1.0 * RBF(1.0)),\n",
    "#     DecisionTreeClassifier(max_depth=5),\n",
    "#     RandomForestClassifier(max_depth=5, n_estimators=10, max_features=1),\n",
    "#     MLPClassifier(alpha=1),\n",
    "#     AdaBoostClassifier(),\n",
    "#     GaussianNB(),\n",
    "#     QuadraticDiscriminantAnalysis()]"
   ]
  },
  {
   "cell_type": "code",
   "execution_count": null,
   "metadata": {
    "ExecuteTime": {
     "end_time": "2018-11-06T19:06:38.178227Z",
     "start_time": "2018-11-06T19:06:38.155186Z"
    }
   },
   "outputs": [],
   "source": [
    "# clf1 = LogisticRegression(solver='lbfgs', multi_class='multinomial',\n",
    "#                           random_state=1)\n",
    "# clf2 = RandomForestClassifier(n_estimators=50, random_state=1)\n",
    "# clf3 = GaussianNB()\n",
    "\n",
    "# eclf = VotingClassifier(estimators=[('lr', clf1), ('rf', clf2), ('gnb', clf3)], voting='hard')\n",
    "\n",
    "# for clf, label in zip([clf1, clf2, clf3, eclf], ['Logistic Regression', 'Random Forest', 'naive Bayes', 'Ensemble']):\n",
    "#     scores = cross_val_score(clf, X, y, cv=5, scoring='accuracy')\n",
    "#     print(\"Accuracy: %0.2f (+/- %0.2f) [%s]\" % (scores.mean(), scores.std(), label))"
   ]
  },
  {
   "cell_type": "code",
   "execution_count": null,
   "metadata": {
    "ExecuteTime": {
     "end_time": "2018-11-06T19:09:07.421611Z",
     "start_time": "2018-11-06T19:09:07.404994Z"
    }
   },
   "outputs": [],
   "source": [
    "# clf = DecisionTreeClassifier(max_depth=None, min_samples_split=2,\n",
    "#     random_state=0)\n",
    "# scores = cross_val_score(clf, X, y, cv=5)\n",
    "# scores.mean()\n",
    "\n",
    "\n",
    "# clf = RandomForestClassifier(n_estimators=10, max_depth=None,\n",
    "#     min_samples_split=2, random_state=0)\n",
    "# scores = cross_val_score(clf, X, y, cv=5)\n",
    "# scores.mean()\n",
    "\n",
    "\n",
    "# clf = ExtraTreesClassifier(n_estimators=10, max_depth=None,\n",
    "#     min_samples_split=2, random_state=0)\n",
    "# scores = cross_val_score(clf, X, y, cv=5)\n",
    "# scores.mean() > 0.999"
   ]
  },
  {
   "cell_type": "code",
   "execution_count": null,
   "metadata": {
    "ExecuteTime": {
     "end_time": "2018-11-06T19:10:38.952154Z",
     "start_time": "2018-11-06T19:10:38.935223Z"
    }
   },
   "outputs": [],
   "source": [
    "# est = GradientBoostingRegressor\n",
    "# mean_squared_error(y_test, est.predict(X_test))  \n",
    "# clf.score(X_test, y_test)"
   ]
  }
 ],
 "metadata": {
  "kernelspec": {
   "display_name": "Python 3",
   "language": "python",
   "name": "python3"
  },
  "language_info": {
   "codemirror_mode": {
    "name": "ipython",
    "version": 3
   },
   "file_extension": ".py",
   "mimetype": "text/x-python",
   "name": "python",
   "nbconvert_exporter": "python",
   "pygments_lexer": "ipython3",
   "version": "3.6.6"
  },
  "latex_envs": {
   "LaTeX_envs_menu_present": false,
   "autoclose": false,
   "autocomplete": true,
   "bibliofile": "biblio.bib",
   "cite_by": "apalike",
   "current_citInitial": 1,
   "eqLabelWithNumbers": true,
   "eqNumInitial": 1,
   "hotkeys": {
    "equation": "Ctrl-E",
    "itemize": "Ctrl-I"
   },
   "labels_anchors": false,
   "latex_user_defs": false,
   "report_style_numbering": false,
   "user_envs_cfg": false
  }
 },
 "nbformat": 4,
 "nbformat_minor": 2
}
