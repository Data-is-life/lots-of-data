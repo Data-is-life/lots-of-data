{
 "cells": [
  {
   "cell_type": "code",
   "execution_count": 162,
   "metadata": {
    "ExecuteTime": {
     "end_time": "2018-11-06T22:37:41.531192Z",
     "start_time": "2018-11-06T22:37:41.511867Z"
    }
   },
   "outputs": [],
   "source": [
    "import pandas as pd\n",
    "import numpy as np\n",
    "\n",
    "from sklearn.discriminant_analysis import LinearDiscriminantAnalysis\n",
    "from sklearn.discriminant_analysis import QuadraticDiscriminantAnalysis\n",
    "\n",
    "from sklearn.ensemble import AdaBoostClassifier\n",
    "from sklearn.ensemble import ExtraTreesClassifier\n",
    "from sklearn.ensemble import GradientBoostingClassifier\n",
    "from sklearn.ensemble import RandomForestClassifier\n",
    "from sklearn.ensemble import VotingClassifier\n",
    "\n",
    "from sklearn.gaussian_process import GaussianProcessClassifier\n",
    "from sklearn.gaussian_process.kernels import RBF\n",
    "\n",
    "from sklearn.linear_model import LogisticRegression\n",
    "from sklearn.linear_model import LogisticRegressionCV\n",
    "from sklearn.linear_model import RidgeClassifier\n",
    "from sklearn.linear_model import RidgeClassifierCV\n",
    "from sklearn.linear_model import SGDClassifier\n",
    "\n",
    "from sklearn.metrics import *\n",
    "\n",
    "from sklearn.model_selection import KFold\n",
    "from sklearn.model_selection import train_test_split\n",
    "from sklearn.model_selection import cross_val_score\n",
    "from sklearn.model_selection import GridSearchCV\n",
    "\n",
    "from sklearn.multiclass import OneVsOneClassifier\n",
    "from sklearn.multiclass import OneVsRestClassifier\n",
    "from sklearn.multiclass import OutputCodeClassifier\n",
    "\n",
    "from sklearn.tree import DecisionTreeClassifier\n",
    "from sklearn.tree import ExtraTreeClassifier\n",
    "\n",
    "from sklearn.naive_bayes import BernoulliNB\n",
    "from sklearn.naive_bayes import GaussianNB\n",
    "from sklearn.naive_bayes import MultinomialNB\n",
    "\n",
    "from sklearn.neighbors import KDTree\n",
    "from sklearn.neighbors import KNeighborsClassifier\n",
    "from sklearn.neighbors import NearestCentroid\n",
    "from sklearn.neighbors import RadiusNeighborsClassifier\n",
    "\n",
    "from sklearn.neural_network import MLPClassifier\n",
    "\n",
    "from sklearn.svm import LinearSVC\n",
    "\n",
    "from df_functions import *"
   ]
  },
  {
   "cell_type": "code",
   "execution_count": 143,
   "metadata": {
    "ExecuteTime": {
     "end_time": "2018-11-06T22:33:53.924370Z",
     "start_time": "2018-11-06T22:33:53.901192Z"
    }
   },
   "outputs": [],
   "source": [
    "df = pd.read_csv('../data/df_for_model.csv')"
   ]
  },
  {
   "cell_type": "code",
   "execution_count": 144,
   "metadata": {
    "ExecuteTime": {
     "end_time": "2018-11-06T22:33:54.679651Z",
     "start_time": "2018-11-06T22:33:54.569958Z"
    }
   },
   "outputs": [
    {
     "name": "stdout",
     "output_type": "stream",
     "text": [
      "y Shape: (2076,)\n",
      "X Shape: (2076, 31)\n",
      "X_train Shape: (1966, 31)\n",
      "X_test Shape: (110, 31)\n",
      "y_train Shape: (1966,)\n",
      "y_test Shape: (110,)\n"
     ]
    },
    {
     "name": "stderr",
     "output_type": "stream",
     "text": [
      "/home/guess/lots-of-data/src/df_functions.py:22: SettingWithCopyWarning: \n",
      "A value is trying to be set on a copy of a slice from a DataFrame.\n",
      "Try using .loc[row_indexer,col_indexer] = value instead\n",
      "\n",
      "See the caveats in the documentation: http://pandas.pydata.org/pandas-docs/stable/indexing.html#indexing-view-versus-copy\n",
      "  df['diff_bin'] = pd.cut(df['diff'], bins=bins, labels=labels)\n"
     ]
    }
   ],
   "source": [
    "X_train, X_test, y_train, y_test = get_Xy_train_test(df)"
   ]
  },
  {
   "cell_type": "code",
   "execution_count": 283,
   "metadata": {
    "ExecuteTime": {
     "end_time": "2018-11-06T23:12:53.102491Z",
     "start_time": "2018-11-06T23:12:53.017446Z"
    },
    "scrolled": true
   },
   "outputs": [
    {
     "name": "stdout",
     "output_type": "stream",
     "text": [
      "Average Accuracy(average_precision) = 77.98%\n",
      "\n",
      "Standard Deviation = 0.15\n",
      "\n",
      "Scores(average_precision):\n",
      " [0.84166667 0.64960317 0.66071429 0.925      0.91111111 0.925\n",
      " 0.65952381 0.82111111 0.68619048 0.49777778 1.        ]\n",
      "\n",
      "Classification Report:\n",
      "              precision    recall  f1-score   support\n",
      "\n",
      "         0.0       0.72      0.69      0.71        52\n",
      "         1.0       0.73      0.76      0.75        58\n",
      "\n",
      "   micro avg       0.73      0.73      0.73       110\n",
      "   macro avg       0.73      0.73      0.73       110\n",
      "weighted avg       0.73      0.73      0.73       110\n",
      "\n",
      "\n",
      "confusion_matrix:\n",
      "[[36 16]\n",
      " [14 44]]\n",
      "\n",
      "confusion_matrix accuracy: 72.72727272727273%\n",
      "-----------------------------------------------------------------------\n"
     ]
    },
    {
     "name": "stderr",
     "output_type": "stream",
     "text": [
      "/home/guess/anaconda3/lib/python3.6/site-packages/sklearn/discriminant_analysis.py:388: UserWarning: Variables are collinear.\n",
      "  warnings.warn(\"Variables are collinear.\")\n",
      "/home/guess/anaconda3/lib/python3.6/site-packages/sklearn/discriminant_analysis.py:388: UserWarning: Variables are collinear.\n",
      "  warnings.warn(\"Variables are collinear.\")\n",
      "/home/guess/anaconda3/lib/python3.6/site-packages/sklearn/discriminant_analysis.py:388: UserWarning: Variables are collinear.\n",
      "  warnings.warn(\"Variables are collinear.\")\n",
      "/home/guess/anaconda3/lib/python3.6/site-packages/sklearn/discriminant_analysis.py:388: UserWarning: Variables are collinear.\n",
      "  warnings.warn(\"Variables are collinear.\")\n",
      "/home/guess/anaconda3/lib/python3.6/site-packages/sklearn/discriminant_analysis.py:388: UserWarning: Variables are collinear.\n",
      "  warnings.warn(\"Variables are collinear.\")\n",
      "/home/guess/anaconda3/lib/python3.6/site-packages/sklearn/discriminant_analysis.py:388: UserWarning: Variables are collinear.\n",
      "  warnings.warn(\"Variables are collinear.\")\n",
      "/home/guess/anaconda3/lib/python3.6/site-packages/sklearn/discriminant_analysis.py:388: UserWarning: Variables are collinear.\n",
      "  warnings.warn(\"Variables are collinear.\")\n",
      "/home/guess/anaconda3/lib/python3.6/site-packages/sklearn/discriminant_analysis.py:388: UserWarning: Variables are collinear.\n",
      "  warnings.warn(\"Variables are collinear.\")\n",
      "/home/guess/anaconda3/lib/python3.6/site-packages/sklearn/discriminant_analysis.py:388: UserWarning: Variables are collinear.\n",
      "  warnings.warn(\"Variables are collinear.\")\n",
      "/home/guess/anaconda3/lib/python3.6/site-packages/sklearn/discriminant_analysis.py:388: UserWarning: Variables are collinear.\n",
      "  warnings.warn(\"Variables are collinear.\")\n",
      "/home/guess/anaconda3/lib/python3.6/site-packages/sklearn/discriminant_analysis.py:388: UserWarning: Variables are collinear.\n",
      "  warnings.warn(\"Variables are collinear.\")\n"
     ]
    }
   ],
   "source": [
    "LDA_clf = LinearDiscriminantAnalysis(solver = 'svd').fit(X_train, y_train)\n",
    "LDA_scores = cross_validation_process(LDA_clf, X_test, y_test, cv=11)"
   ]
  },
  {
   "cell_type": "code",
   "execution_count": 282,
   "metadata": {
    "ExecuteTime": {
     "end_time": "2018-11-06T23:12:39.067559Z",
     "start_time": "2018-11-06T23:12:38.995048Z"
    },
    "scrolled": true
   },
   "outputs": [
    {
     "name": "stdout",
     "output_type": "stream",
     "text": [
      "Average Accuracy(average_precision) = 83.09%\n",
      "\n",
      "Standard Deviation = 0.091\n",
      "\n",
      "Scores(average_precision):\n",
      " [0.7645202  0.75138889 0.84329004 0.94285714 0.92666667 0.87619048\n",
      " 0.71       0.82619048 0.75952381 0.73928571 1.        ]\n",
      "\n",
      "Classification Report:\n",
      "              precision    recall  f1-score   support\n",
      "\n",
      "         0.0       0.71      0.67      0.69        52\n",
      "         1.0       0.72      0.76      0.74        58\n",
      "\n",
      "   micro avg       0.72      0.72      0.72       110\n",
      "   macro avg       0.72      0.72      0.72       110\n",
      "weighted avg       0.72      0.72      0.72       110\n",
      "\n",
      "\n",
      "confusion_matrix:\n",
      "[[35 17]\n",
      " [14 44]]\n",
      "\n",
      "confusion_matrix accuracy: 71.81818181818181%\n",
      "-----------------------------------------------------------------------\n"
     ]
    },
    {
     "name": "stderr",
     "output_type": "stream",
     "text": [
      "/home/guess/anaconda3/lib/python3.6/site-packages/sklearn/discriminant_analysis.py:686: UserWarning: Variables are collinear\n",
      "  warnings.warn(\"Variables are collinear\")\n",
      "/home/guess/anaconda3/lib/python3.6/site-packages/sklearn/discriminant_analysis.py:686: UserWarning: Variables are collinear\n",
      "  warnings.warn(\"Variables are collinear\")\n",
      "/home/guess/anaconda3/lib/python3.6/site-packages/sklearn/discriminant_analysis.py:686: UserWarning: Variables are collinear\n",
      "  warnings.warn(\"Variables are collinear\")\n",
      "/home/guess/anaconda3/lib/python3.6/site-packages/sklearn/discriminant_analysis.py:686: UserWarning: Variables are collinear\n",
      "  warnings.warn(\"Variables are collinear\")\n",
      "/home/guess/anaconda3/lib/python3.6/site-packages/sklearn/discriminant_analysis.py:686: UserWarning: Variables are collinear\n",
      "  warnings.warn(\"Variables are collinear\")\n",
      "/home/guess/anaconda3/lib/python3.6/site-packages/sklearn/discriminant_analysis.py:686: UserWarning: Variables are collinear\n",
      "  warnings.warn(\"Variables are collinear\")\n",
      "/home/guess/anaconda3/lib/python3.6/site-packages/sklearn/discriminant_analysis.py:686: UserWarning: Variables are collinear\n",
      "  warnings.warn(\"Variables are collinear\")\n",
      "/home/guess/anaconda3/lib/python3.6/site-packages/sklearn/discriminant_analysis.py:686: UserWarning: Variables are collinear\n",
      "  warnings.warn(\"Variables are collinear\")\n",
      "/home/guess/anaconda3/lib/python3.6/site-packages/sklearn/discriminant_analysis.py:686: UserWarning: Variables are collinear\n",
      "  warnings.warn(\"Variables are collinear\")\n",
      "/home/guess/anaconda3/lib/python3.6/site-packages/sklearn/discriminant_analysis.py:686: UserWarning: Variables are collinear\n",
      "  warnings.warn(\"Variables are collinear\")\n",
      "/home/guess/anaconda3/lib/python3.6/site-packages/sklearn/discriminant_analysis.py:686: UserWarning: Variables are collinear\n",
      "  warnings.warn(\"Variables are collinear\")\n",
      "/home/guess/anaconda3/lib/python3.6/site-packages/sklearn/discriminant_analysis.py:686: UserWarning: Variables are collinear\n",
      "  warnings.warn(\"Variables are collinear\")\n"
     ]
    }
   ],
   "source": [
    "QDA_clf = QuadraticDiscriminantAnalysis(reg_param=1).fit(X_train, y_train)\n",
    "QDA_scores = cross_validation_process(QDA_clf, X_test, y_test, cv=11)"
   ]
  },
  {
   "cell_type": "code",
   "execution_count": 281,
   "metadata": {
    "ExecuteTime": {
     "end_time": "2018-11-06T23:12:19.092970Z",
     "start_time": "2018-11-06T23:12:17.957103Z"
    },
    "scrolled": true
   },
   "outputs": [
    {
     "name": "stdout",
     "output_type": "stream",
     "text": [
      "Average Accuracy(average_precision) = 75.96%\n",
      "\n",
      "Standard Deviation = 0.157\n",
      "\n",
      "Scores(average_precision):\n",
      " [0.82840909 0.65694444 0.76203704 0.90285714 0.885      0.96666667\n",
      " 0.62952381 0.52539683 0.85285714 0.46928571 0.87666667]\n",
      "\n",
      "Classification Report:\n",
      "              precision    recall  f1-score   support\n",
      "\n",
      "         0.0       0.74      0.71      0.73        52\n",
      "         1.0       0.75      0.78      0.76        58\n",
      "\n",
      "   micro avg       0.75      0.75      0.75       110\n",
      "   macro avg       0.74      0.74      0.74       110\n",
      "weighted avg       0.75      0.75      0.75       110\n",
      "\n",
      "\n",
      "confusion_matrix:\n",
      "[[37 15]\n",
      " [13 45]]\n",
      "\n",
      "confusion_matrix accuracy: 74.54545454545455%\n",
      "-----------------------------------------------------------------------\n"
     ]
    }
   ],
   "source": [
    "ada_clf = AdaBoostClassifier(n_estimators=100, learning_rate=0.25, random_state=9).fit(X_train, y_train)\n",
    "ada_scores = cross_validation_process(ada_clf, X_test, y_test, cv=11)"
   ]
  },
  {
   "cell_type": "code",
   "execution_count": 293,
   "metadata": {
    "ExecuteTime": {
     "end_time": "2018-11-06T23:19:51.672166Z",
     "start_time": "2018-11-06T23:19:46.686670Z"
    }
   },
   "outputs": [
    {
     "name": "stdout",
     "output_type": "stream",
     "text": [
      "Average Accuracy(average_precision) = 67.94%\n",
      "\n",
      "Standard Deviation = 0.069\n",
      "\n",
      "Scores(average_precision):\n",
      " [0.67400031 0.79456909 0.70457092 0.63297498 0.59100844]\n",
      "\n",
      "Classification Report:\n",
      "              precision    recall  f1-score   support\n",
      "\n",
      "         0.0       0.67      0.71      0.69        52\n",
      "         1.0       0.73      0.69      0.71        58\n",
      "\n",
      "   micro avg       0.70      0.70      0.70       110\n",
      "   macro avg       0.70      0.70      0.70       110\n",
      "weighted avg       0.70      0.70      0.70       110\n",
      "\n",
      "\n",
      "confusion_matrix:\n",
      "[[37 15]\n",
      " [18 40]]\n",
      "\n",
      "confusion_matrix accuracy: 70.0%\n",
      "-----------------------------------------------------------------------\n"
     ]
    }
   ],
   "source": [
    "XTsC_clf = ExtraTreesClassifier(n_estimators=1000, criterion='entropy',  n_jobs=-2, \n",
    "                                random_state=9, class_weight='balanced').fit(X_train, y_train)\n",
    "XTsC_score = cross_validation_process(XTsC_clf, X_test, y_test)"
   ]
  },
  {
   "cell_type": "code",
   "execution_count": 290,
   "metadata": {
    "ExecuteTime": {
     "end_time": "2018-11-06T23:17:41.166895Z",
     "start_time": "2018-11-06T23:17:39.173314Z"
    },
    "scrolled": true
   },
   "outputs": [
    {
     "name": "stdout",
     "output_type": "stream",
     "text": [
      "Average Accuracy(average_precision) = 65.52%\n",
      "\n",
      "Standard Deviation = 0.079\n",
      "\n",
      "Scores(average_precision):\n",
      " [0.62468317 0.78000306 0.66111666 0.53571429 0.67465867]\n",
      "\n",
      "Classification Report:\n",
      "              precision    recall  f1-score   support\n",
      "\n",
      "         0.0       0.63      0.52      0.57        52\n",
      "         1.0       0.63      0.72      0.67        58\n",
      "\n",
      "   micro avg       0.63      0.63      0.63       110\n",
      "   macro avg       0.63      0.62      0.62       110\n",
      "weighted avg       0.63      0.63      0.62       110\n",
      "\n",
      "\n",
      "confusion_matrix:\n",
      "[[27 25]\n",
      " [16 42]]\n",
      "\n",
      "confusion_matrix accuracy: 62.727272727272734%\n",
      "-----------------------------------------------------------------------\n"
     ]
    }
   ],
   "source": [
    "grad_boost_clf = GradientBoostingClassifier(n_estimators=10000, learning_rate=0.1,\n",
    "                                            max_depth=50, random_state=9,\n",
    "                                            n_iter_no_change=50).fit(X_train, y_train)\n",
    "grad_boost_score = cross_validation_process(grad_boost_clf, X_test, y_test)"
   ]
  },
  {
   "cell_type": "code",
   "execution_count": 280,
   "metadata": {
    "ExecuteTime": {
     "end_time": "2018-11-06T23:12:06.264914Z",
     "start_time": "2018-11-06T23:12:05.105026Z"
    },
    "scrolled": true
   },
   "outputs": [
    {
     "name": "stdout",
     "output_type": "stream",
     "text": [
      "Average Accuracy(average_precision) = 79.6%\n",
      "\n",
      "Standard Deviation = 0.154\n",
      "\n",
      "Scores(average_precision):\n",
      " [0.8218254  0.66071429 0.74027778 0.96666667 0.92666667 0.96666667\n",
      " 0.72952381 0.58888889 0.87666667 0.51111111 0.96666667]\n",
      "\n",
      "Classification Report:\n",
      "              precision    recall  f1-score   support\n",
      "\n",
      "         0.0       0.67      0.69      0.68        52\n",
      "         1.0       0.71      0.69      0.70        58\n",
      "\n",
      "   micro avg       0.69      0.69      0.69       110\n",
      "   macro avg       0.69      0.69      0.69       110\n",
      "weighted avg       0.69      0.69      0.69       110\n",
      "\n",
      "\n",
      "confusion_matrix:\n",
      "[[36 16]\n",
      " [18 40]]\n",
      "\n",
      "confusion_matrix accuracy: 69.0909090909091%\n",
      "-----------------------------------------------------------------------\n"
     ]
    }
   ],
   "source": [
    "rand_frst_clf = RandomForestClassifier(n_estimators=100, criterion='entropy', n_jobs=-2, \n",
    "                                       random_state=9).fit(X_train, y_train)\n",
    "\n",
    "rand_frst_score = cross_validation_process(rand_frst_clf, X_test, y_test, cv=11)"
   ]
  },
  {
   "cell_type": "code",
   "execution_count": 279,
   "metadata": {
    "ExecuteTime": {
     "end_time": "2018-11-06T23:11:53.980549Z",
     "start_time": "2018-11-06T23:11:51.504885Z"
    },
    "scrolled": true
   },
   "outputs": [
    {
     "name": "stdout",
     "output_type": "stream",
     "text": [
      "Average Accuracy(average_precision) = 81.43%\n",
      "\n",
      "Standard Deviation = 0.126\n",
      "\n",
      "Scores(average_precision):\n",
      " [0.79960317 0.69305556 0.69126984 1.         0.90285714 0.92666667\n",
      " 0.80833333 0.70873016 0.82111111 0.60539683 1.        ]\n",
      "\n",
      "Classification Report:\n",
      "              precision    recall  f1-score   support\n",
      "\n",
      "         0.0       0.71      0.75      0.73        52\n",
      "         1.0       0.76      0.72      0.74        58\n",
      "\n",
      "   micro avg       0.74      0.74      0.74       110\n",
      "   macro avg       0.74      0.74      0.74       110\n",
      "weighted avg       0.74      0.74      0.74       110\n",
      "\n",
      "\n",
      "confusion_matrix:\n",
      "[[39 13]\n",
      " [16 42]]\n",
      "\n",
      "confusion_matrix accuracy: 73.63636363636363%\n",
      "-----------------------------------------------------------------------\n"
     ]
    }
   ],
   "source": [
    "gpc_rbf_clf = GaussianProcessClassifier(n_jobs=-2, max_iter_predict=300, \n",
    "                                        random_state=9).fit(X_train, y_train)\n",
    "gpc_rbf_score = cross_validation_process(gpc_rbf_clf, X_test, y_test, cv=11)"
   ]
  },
  {
   "cell_type": "code",
   "execution_count": 278,
   "metadata": {
    "ExecuteTime": {
     "end_time": "2018-11-06T23:11:44.958067Z",
     "start_time": "2018-11-06T23:11:44.743317Z"
    },
    "scrolled": true
   },
   "outputs": [
    {
     "name": "stdout",
     "output_type": "stream",
     "text": [
      "Average Accuracy(average_precision) = 81.48%\n",
      "\n",
      "Standard Deviation = 0.111\n",
      "\n",
      "Scores(average_precision):\n",
      " [0.81071429 0.66051587 0.86174242 0.94285714 0.90285714 0.91111111\n",
      " 0.71       0.73111111 0.75952381 0.67261905 1.        ]\n",
      "\n",
      "Classification Report:\n",
      "              precision    recall  f1-score   support\n",
      "\n",
      "         0.0       0.70      0.73      0.72        52\n",
      "         1.0       0.75      0.72      0.74        58\n",
      "\n",
      "   micro avg       0.73      0.73      0.73       110\n",
      "   macro avg       0.73      0.73      0.73       110\n",
      "weighted avg       0.73      0.73      0.73       110\n",
      "\n",
      "\n",
      "confusion_matrix:\n",
      "[[38 14]\n",
      " [16 42]]\n",
      "\n",
      "confusion_matrix accuracy: 72.72727272727273%\n",
      "-----------------------------------------------------------------------\n"
     ]
    }
   ],
   "source": [
    "lgst_reg_clf = LogisticRegression(penalty='l2', tol=0.00001,\n",
    "                                  class_weight='balanced', random_state=9, \n",
    "                                  solver='newton-cg', n_jobs=-2).fit(X_train, y_train)\n",
    "\n",
    "lgst_reg_score = cross_validation_process(lgst_reg_clf, X_test, y_test, cv=11)"
   ]
  },
  {
   "cell_type": "code",
   "execution_count": 277,
   "metadata": {
    "ExecuteTime": {
     "end_time": "2018-11-06T23:11:27.827032Z",
     "start_time": "2018-11-06T23:11:13.332895Z"
    },
    "scrolled": true
   },
   "outputs": [
    {
     "name": "stderr",
     "output_type": "stream",
     "text": [
      "/home/guess/.local/lib/python3.6/site-packages/scipy/optimize/linesearch.py:313: LineSearchWarning: The line search algorithm did not converge\n",
      "  warn('The line search algorithm did not converge', LineSearchWarning)\n",
      "/home/guess/anaconda3/lib/python3.6/site-packages/sklearn/utils/optimize.py:195: UserWarning: Line Search failed\n",
      "  warnings.warn('Line Search failed')\n"
     ]
    },
    {
     "name": "stdout",
     "output_type": "stream",
     "text": [
      "Average Accuracy(average_precision) = 83.09%\n",
      "\n",
      "Standard Deviation = 0.091\n",
      "\n",
      "Scores(average_precision):\n",
      " [0.7645202  0.75138889 0.84329004 0.94285714 0.92666667 0.87619048\n",
      " 0.71       0.82619048 0.75952381 0.73928571 1.        ]\n",
      "\n",
      "Classification Report:\n",
      "              precision    recall  f1-score   support\n",
      "\n",
      "         0.0       0.69      0.67      0.68        52\n",
      "         1.0       0.71      0.72      0.72        58\n",
      "\n",
      "   micro avg       0.70      0.70      0.70       110\n",
      "   macro avg       0.70      0.70      0.70       110\n",
      "weighted avg       0.70      0.70      0.70       110\n",
      "\n",
      "\n",
      "confusion_matrix:\n",
      "[[35 17]\n",
      " [16 42]]\n",
      "\n",
      "confusion_matrix accuracy: 70.0%\n",
      "-----------------------------------------------------------------------\n"
     ]
    }
   ],
   "source": [
    "lgst_reg_cv_clf = LogisticRegressionCV(Cs=20, penalty='l2', tol=0.00001, cv=7,\n",
    "                                       class_weight='balanced', random_state=9, \n",
    "                                       solver='newton-cg', n_jobs=-2).fit(X_train, y_train)\n",
    "lgst_reg_cv_score = cross_validation_process(lgst_reg_cv_clf, X_test, y_test, cv=11)"
   ]
  },
  {
   "cell_type": "code",
   "execution_count": 276,
   "metadata": {
    "ExecuteTime": {
     "end_time": "2018-11-06T23:11:04.055189Z",
     "start_time": "2018-11-06T23:11:03.968027Z"
    },
    "scrolled": true
   },
   "outputs": [
    {
     "name": "stdout",
     "output_type": "stream",
     "text": [
      "Average Accuracy(average_precision) = 83.03%\n",
      "\n",
      "Standard Deviation = 0.095\n",
      "\n",
      "Scores(average_precision):\n",
      " [0.80694444 0.71904762 0.82840909 0.94285714 0.92666667 0.91111111\n",
      " 0.71       0.78928571 0.75952381 0.73928571 1.        ]\n",
      "\n",
      "Classification Report:\n",
      "              precision    recall  f1-score   support\n",
      "\n",
      "         0.0       0.72      0.65      0.69        52\n",
      "         1.0       0.71      0.78      0.74        58\n",
      "\n",
      "   micro avg       0.72      0.72      0.72       110\n",
      "   macro avg       0.72      0.71      0.72       110\n",
      "weighted avg       0.72      0.72      0.72       110\n",
      "\n",
      "\n",
      "confusion_matrix:\n",
      "[[34 18]\n",
      " [13 45]]\n",
      "\n",
      "confusion_matrix accuracy: 71.81818181818181%\n",
      "-----------------------------------------------------------------------\n"
     ]
    }
   ],
   "source": [
    "ridge_clf = RidgeClassifier(alpha=20.0, class_weight='balanced', solver='sparse_cg', \n",
    "                            random_state=9).fit(X_train, y_train)\n",
    "ridge_score = cross_validation_process(ridge_clf, X_test, y_test, cv=11)"
   ]
  },
  {
   "cell_type": "code",
   "execution_count": 275,
   "metadata": {
    "ExecuteTime": {
     "end_time": "2018-11-06T23:10:41.129682Z",
     "start_time": "2018-11-06T23:10:38.355717Z"
    },
    "scrolled": true
   },
   "outputs": [
    {
     "name": "stderr",
     "output_type": "stream",
     "text": [
      "/home/guess/anaconda3/lib/python3.6/site-packages/sklearn/model_selection/_search.py:841: DeprecationWarning: The default of the `iid` parameter will change from True to False in version 0.22 and will be removed in 0.24. This will change numeric results when test-set sizes are unequal.\n",
      "  DeprecationWarning)\n",
      "/home/guess/anaconda3/lib/python3.6/site-packages/sklearn/model_selection/_search.py:841: DeprecationWarning: The default of the `iid` parameter will change from True to False in version 0.22 and will be removed in 0.24. This will change numeric results when test-set sizes are unequal.\n",
      "  DeprecationWarning)\n",
      "/home/guess/anaconda3/lib/python3.6/site-packages/sklearn/model_selection/_search.py:841: DeprecationWarning: The default of the `iid` parameter will change from True to False in version 0.22 and will be removed in 0.24. This will change numeric results when test-set sizes are unequal.\n",
      "  DeprecationWarning)\n",
      "/home/guess/anaconda3/lib/python3.6/site-packages/sklearn/metrics/ranking.py:521: RuntimeWarning: invalid value encountered in true_divide\n",
      "  recall = tps / tps[-1]\n",
      "/home/guess/anaconda3/lib/python3.6/site-packages/sklearn/metrics/ranking.py:521: RuntimeWarning: invalid value encountered in true_divide\n",
      "  recall = tps / tps[-1]\n",
      "/home/guess/anaconda3/lib/python3.6/site-packages/sklearn/metrics/ranking.py:521: RuntimeWarning: invalid value encountered in true_divide\n",
      "  recall = tps / tps[-1]\n",
      "/home/guess/anaconda3/lib/python3.6/site-packages/sklearn/model_selection/_search.py:841: DeprecationWarning: The default of the `iid` parameter will change from True to False in version 0.22 and will be removed in 0.24. This will change numeric results when test-set sizes are unequal.\n",
      "  DeprecationWarning)\n",
      "/home/guess/anaconda3/lib/python3.6/site-packages/sklearn/metrics/ranking.py:521: RuntimeWarning: invalid value encountered in true_divide\n",
      "  recall = tps / tps[-1]\n",
      "/home/guess/anaconda3/lib/python3.6/site-packages/sklearn/metrics/ranking.py:521: RuntimeWarning: invalid value encountered in true_divide\n",
      "  recall = tps / tps[-1]\n",
      "/home/guess/anaconda3/lib/python3.6/site-packages/sklearn/metrics/ranking.py:521: RuntimeWarning: invalid value encountered in true_divide\n",
      "  recall = tps / tps[-1]\n",
      "/home/guess/anaconda3/lib/python3.6/site-packages/sklearn/model_selection/_search.py:841: DeprecationWarning: The default of the `iid` parameter will change from True to False in version 0.22 and will be removed in 0.24. This will change numeric results when test-set sizes are unequal.\n",
      "  DeprecationWarning)\n",
      "/home/guess/anaconda3/lib/python3.6/site-packages/sklearn/metrics/ranking.py:521: RuntimeWarning: invalid value encountered in true_divide\n",
      "  recall = tps / tps[-1]\n",
      "/home/guess/anaconda3/lib/python3.6/site-packages/sklearn/metrics/ranking.py:521: RuntimeWarning: invalid value encountered in true_divide\n",
      "  recall = tps / tps[-1]\n",
      "/home/guess/anaconda3/lib/python3.6/site-packages/sklearn/metrics/ranking.py:521: RuntimeWarning: invalid value encountered in true_divide\n",
      "  recall = tps / tps[-1]\n",
      "/home/guess/anaconda3/lib/python3.6/site-packages/sklearn/model_selection/_search.py:841: DeprecationWarning: The default of the `iid` parameter will change from True to False in version 0.22 and will be removed in 0.24. This will change numeric results when test-set sizes are unequal.\n",
      "  DeprecationWarning)\n",
      "/home/guess/anaconda3/lib/python3.6/site-packages/sklearn/metrics/ranking.py:521: RuntimeWarning: invalid value encountered in true_divide\n",
      "  recall = tps / tps[-1]\n",
      "/home/guess/anaconda3/lib/python3.6/site-packages/sklearn/metrics/ranking.py:521: RuntimeWarning: invalid value encountered in true_divide\n",
      "  recall = tps / tps[-1]\n",
      "/home/guess/anaconda3/lib/python3.6/site-packages/sklearn/metrics/ranking.py:521: RuntimeWarning: invalid value encountered in true_divide\n",
      "  recall = tps / tps[-1]\n",
      "/home/guess/anaconda3/lib/python3.6/site-packages/sklearn/model_selection/_search.py:841: DeprecationWarning: The default of the `iid` parameter will change from True to False in version 0.22 and will be removed in 0.24. This will change numeric results when test-set sizes are unequal.\n",
      "  DeprecationWarning)\n",
      "/home/guess/anaconda3/lib/python3.6/site-packages/sklearn/model_selection/_search.py:841: DeprecationWarning: The default of the `iid` parameter will change from True to False in version 0.22 and will be removed in 0.24. This will change numeric results when test-set sizes are unequal.\n",
      "  DeprecationWarning)\n"
     ]
    },
    {
     "name": "stdout",
     "output_type": "stream",
     "text": [
      "Average Accuracy(average_precision) = 80.4%\n",
      "\n",
      "Standard Deviation = 0.137\n",
      "\n",
      "Scores(average_precision):\n",
      " [0.81071429 0.69126984 0.86174242 0.925      0.91111111 0.925\n",
      " 0.68619048 0.77539683 0.75952381 0.49777778 1.        ]\n",
      "\n",
      "Classification Report:\n",
      "              precision    recall  f1-score   support\n",
      "\n",
      "         0.0       0.71      0.65      0.68        52\n",
      "         1.0       0.71      0.76      0.73        58\n",
      "\n",
      "   micro avg       0.71      0.71      0.71       110\n",
      "   macro avg       0.71      0.71      0.71       110\n",
      "weighted avg       0.71      0.71      0.71       110\n",
      "\n",
      "\n",
      "confusion_matrix:\n",
      "[[34 18]\n",
      " [14 44]]\n",
      "\n",
      "confusion_matrix accuracy: 70.9090909090909%\n",
      "-----------------------------------------------------------------------\n"
     ]
    },
    {
     "name": "stderr",
     "output_type": "stream",
     "text": [
      "/home/guess/anaconda3/lib/python3.6/site-packages/sklearn/model_selection/_search.py:841: DeprecationWarning: The default of the `iid` parameter will change from True to False in version 0.22 and will be removed in 0.24. This will change numeric results when test-set sizes are unequal.\n",
      "  DeprecationWarning)\n",
      "/home/guess/anaconda3/lib/python3.6/site-packages/sklearn/model_selection/_search.py:841: DeprecationWarning: The default of the `iid` parameter will change from True to False in version 0.22 and will be removed in 0.24. This will change numeric results when test-set sizes are unequal.\n",
      "  DeprecationWarning)\n"
     ]
    }
   ],
   "source": [
    "ridge_cv_clf = RidgeClassifierCV(scoring='average_precision', cv=20, class_weight='balanced').fit(X_train, y_train)\n",
    "ridge_cv_score = cross_validation_process(ridge_cv_clf, X_test, y_test, cv=11)"
   ]
  },
  {
   "cell_type": "code",
   "execution_count": 270,
   "metadata": {
    "ExecuteTime": {
     "end_time": "2018-11-06T23:08:41.228680Z",
     "start_time": "2018-11-06T23:08:39.050193Z"
    }
   },
   "outputs": [
    {
     "name": "stdout",
     "output_type": "stream",
     "text": [
      "Average Accuracy(average_precision) = 82.06%\n",
      "\n",
      "Standard Deviation = 0.133\n",
      "\n",
      "Scores(average_precision):\n",
      " [0.80694444 0.67638889 0.87662338 1.         0.94285714 0.91111111\n",
      " 0.78619048 0.69444444 0.75952381 0.57261905 1.        ]\n",
      "\n",
      "Classification Report:\n",
      "              precision    recall  f1-score   support\n",
      "\n",
      "         0.0       0.69      0.77      0.73        52\n",
      "         1.0       0.77      0.69      0.73        58\n",
      "\n",
      "   micro avg       0.73      0.73      0.73       110\n",
      "   macro avg       0.73      0.73      0.73       110\n",
      "weighted avg       0.73      0.73      0.73       110\n",
      "\n",
      "\n",
      "confusion_matrix:\n",
      "[[40 12]\n",
      " [18 40]]\n",
      "\n",
      "confusion_matrix accuracy: 72.72727272727273%\n",
      "-----------------------------------------------------------------------\n"
     ]
    }
   ],
   "source": [
    "SGD_clf = SGDClassifier(loss='squared_hinge', max_iter=10000, shuffle=False, \n",
    "                        n_jobs=-2, random_state=9, n_iter_no_change=50, \n",
    "                        class_weight='balanced').fit(X_train, y_train)\n",
    "\n",
    "SGD_score = cross_validation_process(SGD_clf, X_test, y_test, cv=11)"
   ]
  },
  {
   "cell_type": "code",
   "execution_count": 274,
   "metadata": {
    "ExecuteTime": {
     "end_time": "2018-11-06T23:10:23.973440Z",
     "start_time": "2018-11-06T23:10:23.768364Z"
    },
    "scrolled": true
   },
   "outputs": [
    {
     "name": "stdout",
     "output_type": "stream",
     "text": [
      "Average Accuracy(average_precision) = 52.12%\n",
      "\n",
      "Standard Deviation = 0.143\n",
      "\n",
      "Scores(average_precision):\n",
      " [0.85238095 0.42622655 0.68257576 0.37055556 0.47555556 0.545\n",
      " 0.65873016 0.41904762 0.40349206 0.46928571 0.43015873]\n",
      "\n",
      "Classification Report:\n",
      "              precision    recall  f1-score   support\n",
      "\n",
      "         0.0       0.55      0.87      0.67        52\n",
      "         1.0       0.75      0.36      0.49        58\n",
      "\n",
      "   micro avg       0.60      0.60      0.60       110\n",
      "   macro avg       0.65      0.61      0.58       110\n",
      "weighted avg       0.65      0.60      0.58       110\n",
      "\n",
      "\n",
      "confusion_matrix:\n",
      "[[45  7]\n",
      " [37 21]]\n",
      "\n",
      "confusion_matrix accuracy: 60.0%\n",
      "-----------------------------------------------------------------------\n"
     ]
    },
    {
     "name": "stderr",
     "output_type": "stream",
     "text": [
      "/home/guess/anaconda3/lib/python3.6/site-packages/sklearn/svm/base.py:922: ConvergenceWarning: Liblinear failed to converge, increase the number of iterations.\n",
      "  \"the number of iterations.\", ConvergenceWarning)\n",
      "/home/guess/anaconda3/lib/python3.6/site-packages/sklearn/svm/base.py:922: ConvergenceWarning: Liblinear failed to converge, increase the number of iterations.\n",
      "  \"the number of iterations.\", ConvergenceWarning)\n",
      "/home/guess/anaconda3/lib/python3.6/site-packages/sklearn/svm/base.py:922: ConvergenceWarning: Liblinear failed to converge, increase the number of iterations.\n",
      "  \"the number of iterations.\", ConvergenceWarning)\n",
      "/home/guess/anaconda3/lib/python3.6/site-packages/sklearn/svm/base.py:922: ConvergenceWarning: Liblinear failed to converge, increase the number of iterations.\n",
      "  \"the number of iterations.\", ConvergenceWarning)\n",
      "/home/guess/anaconda3/lib/python3.6/site-packages/sklearn/svm/base.py:922: ConvergenceWarning: Liblinear failed to converge, increase the number of iterations.\n",
      "  \"the number of iterations.\", ConvergenceWarning)\n",
      "/home/guess/anaconda3/lib/python3.6/site-packages/sklearn/svm/base.py:922: ConvergenceWarning: Liblinear failed to converge, increase the number of iterations.\n",
      "  \"the number of iterations.\", ConvergenceWarning)\n",
      "/home/guess/anaconda3/lib/python3.6/site-packages/sklearn/svm/base.py:922: ConvergenceWarning: Liblinear failed to converge, increase the number of iterations.\n",
      "  \"the number of iterations.\", ConvergenceWarning)\n",
      "/home/guess/anaconda3/lib/python3.6/site-packages/sklearn/svm/base.py:922: ConvergenceWarning: Liblinear failed to converge, increase the number of iterations.\n",
      "  \"the number of iterations.\", ConvergenceWarning)\n",
      "/home/guess/anaconda3/lib/python3.6/site-packages/sklearn/svm/base.py:922: ConvergenceWarning: Liblinear failed to converge, increase the number of iterations.\n",
      "  \"the number of iterations.\", ConvergenceWarning)\n",
      "/home/guess/anaconda3/lib/python3.6/site-packages/sklearn/svm/base.py:922: ConvergenceWarning: Liblinear failed to converge, increase the number of iterations.\n",
      "  \"the number of iterations.\", ConvergenceWarning)\n",
      "/home/guess/anaconda3/lib/python3.6/site-packages/sklearn/svm/base.py:922: ConvergenceWarning: Liblinear failed to converge, increase the number of iterations.\n",
      "  \"the number of iterations.\", ConvergenceWarning)\n",
      "/home/guess/anaconda3/lib/python3.6/site-packages/sklearn/svm/base.py:922: ConvergenceWarning: Liblinear failed to converge, increase the number of iterations.\n",
      "  \"the number of iterations.\", ConvergenceWarning)\n"
     ]
    }
   ],
   "source": [
    "ovo_clf = OneVsOneClassifier(LinearSVC(penalty='l2', loss='hinge', dual=True,\n",
    "                                       C=32.0, class_weight='balanced',\n",
    "                                       random_state=9)).fit(X_train, y_train)\n",
    "ovo_score = cross_validation_process(ovo_clf, X_test, y_test, cv=11)"
   ]
  },
  {
   "cell_type": "code",
   "execution_count": 273,
   "metadata": {
    "ExecuteTime": {
     "end_time": "2018-11-06T23:10:03.011392Z",
     "start_time": "2018-11-06T23:10:02.799791Z"
    },
    "scrolled": true
   },
   "outputs": [
    {
     "name": "stdout",
     "output_type": "stream",
     "text": [
      "Average Accuracy(average_precision) = 52.12%\n",
      "\n",
      "Standard Deviation = 0.143\n",
      "\n",
      "Scores(average_precision):\n",
      " [0.85238095 0.42622655 0.68257576 0.37055556 0.47555556 0.545\n",
      " 0.65873016 0.41904762 0.40349206 0.46928571 0.43015873]\n",
      "\n",
      "Classification Report:\n",
      "              precision    recall  f1-score   support\n",
      "\n",
      "         0.0       0.55      0.87      0.67        52\n",
      "         1.0       0.75      0.36      0.49        58\n",
      "\n",
      "   micro avg       0.60      0.60      0.60       110\n",
      "   macro avg       0.65      0.61      0.58       110\n",
      "weighted avg       0.65      0.60      0.58       110\n",
      "\n",
      "\n",
      "confusion_matrix:\n",
      "[[45  7]\n",
      " [37 21]]\n",
      "\n",
      "confusion_matrix accuracy: 60.0%\n",
      "-----------------------------------------------------------------------\n"
     ]
    },
    {
     "name": "stderr",
     "output_type": "stream",
     "text": [
      "/home/guess/anaconda3/lib/python3.6/site-packages/sklearn/svm/base.py:922: ConvergenceWarning: Liblinear failed to converge, increase the number of iterations.\n",
      "  \"the number of iterations.\", ConvergenceWarning)\n",
      "/home/guess/anaconda3/lib/python3.6/site-packages/sklearn/svm/base.py:922: ConvergenceWarning: Liblinear failed to converge, increase the number of iterations.\n",
      "  \"the number of iterations.\", ConvergenceWarning)\n",
      "/home/guess/anaconda3/lib/python3.6/site-packages/sklearn/svm/base.py:922: ConvergenceWarning: Liblinear failed to converge, increase the number of iterations.\n",
      "  \"the number of iterations.\", ConvergenceWarning)\n",
      "/home/guess/anaconda3/lib/python3.6/site-packages/sklearn/svm/base.py:922: ConvergenceWarning: Liblinear failed to converge, increase the number of iterations.\n",
      "  \"the number of iterations.\", ConvergenceWarning)\n",
      "/home/guess/anaconda3/lib/python3.6/site-packages/sklearn/svm/base.py:922: ConvergenceWarning: Liblinear failed to converge, increase the number of iterations.\n",
      "  \"the number of iterations.\", ConvergenceWarning)\n",
      "/home/guess/anaconda3/lib/python3.6/site-packages/sklearn/svm/base.py:922: ConvergenceWarning: Liblinear failed to converge, increase the number of iterations.\n",
      "  \"the number of iterations.\", ConvergenceWarning)\n",
      "/home/guess/anaconda3/lib/python3.6/site-packages/sklearn/svm/base.py:922: ConvergenceWarning: Liblinear failed to converge, increase the number of iterations.\n",
      "  \"the number of iterations.\", ConvergenceWarning)\n",
      "/home/guess/anaconda3/lib/python3.6/site-packages/sklearn/svm/base.py:922: ConvergenceWarning: Liblinear failed to converge, increase the number of iterations.\n",
      "  \"the number of iterations.\", ConvergenceWarning)\n",
      "/home/guess/anaconda3/lib/python3.6/site-packages/sklearn/svm/base.py:922: ConvergenceWarning: Liblinear failed to converge, increase the number of iterations.\n",
      "  \"the number of iterations.\", ConvergenceWarning)\n",
      "/home/guess/anaconda3/lib/python3.6/site-packages/sklearn/svm/base.py:922: ConvergenceWarning: Liblinear failed to converge, increase the number of iterations.\n",
      "  \"the number of iterations.\", ConvergenceWarning)\n",
      "/home/guess/anaconda3/lib/python3.6/site-packages/sklearn/svm/base.py:922: ConvergenceWarning: Liblinear failed to converge, increase the number of iterations.\n",
      "  \"the number of iterations.\", ConvergenceWarning)\n",
      "/home/guess/anaconda3/lib/python3.6/site-packages/sklearn/svm/base.py:922: ConvergenceWarning: Liblinear failed to converge, increase the number of iterations.\n",
      "  \"the number of iterations.\", ConvergenceWarning)\n"
     ]
    }
   ],
   "source": [
    "ovr_clf = OneVsRestClassifier(LinearSVC(penalty='l2', loss='hinge', dual=True,\n",
    "                                        C=32.0, random_state=9)).fit(X_train, y_train)\n",
    "ovr_score = cross_validation_process(ovr_clf, X_test, y_test, cv=11)"
   ]
  },
  {
   "cell_type": "code",
   "execution_count": null,
   "metadata": {},
   "outputs": [],
   "source": [
    "OC_clf = OutputCodeClassifier().fit(X_train, y_train)\n",
    "OC_score = cross_validation_process(OC_clf, X_test, y_test)"
   ]
  },
  {
   "cell_type": "code",
   "execution_count": null,
   "metadata": {
    "ExecuteTime": {
     "end_time": "2018-11-06T20:33:52.765455Z",
     "start_time": "2018-11-06T20:33:52.741198Z"
    }
   },
   "outputs": [],
   "source": [
    "dec_tree_clf = DecisionTreeClassifier().fit(X_train, y_train)\n",
    "dec_tree_score = cross_validation_process(dec_tree_clf, X_test, y_test)"
   ]
  },
  {
   "cell_type": "code",
   "execution_count": 188,
   "metadata": {
    "ExecuteTime": {
     "end_time": "2018-11-06T22:46:00.900945Z",
     "start_time": "2018-11-06T22:46:00.854181Z"
    },
    "scrolled": true
   },
   "outputs": [
    {
     "name": "stdout",
     "output_type": "stream",
     "text": [
      "Average Accuracy(average_precision) = 59.07%\n",
      "\n",
      "Standard Deviation = 0.076\n",
      "\n",
      "Scores(average_precision):\n",
      " [0.56086957 0.5771526  0.73484848 0.56980519 0.51082251]\n",
      "\n",
      "Classification Report:\n",
      "              precision    recall  f1-score   support\n",
      "\n",
      "         0.0       0.59      0.58      0.58        52\n",
      "         1.0       0.63      0.64      0.63        58\n",
      "\n",
      "   micro avg       0.61      0.61      0.61       110\n",
      "   macro avg       0.61      0.61      0.61       110\n",
      "weighted avg       0.61      0.61      0.61       110\n",
      "\n",
      "\n",
      "confusion_matrix:\n",
      "[[30 22]\n",
      " [21 37]]\n",
      "\n",
      "confusion_matrix accuracy: 60.909090909090914%\n",
      "-----------------------------------------------------------------------\n"
     ]
    }
   ],
   "source": [
    "ET_clf = ExtraTreeClassifier(criterion='entropy', random_state=9, \n",
    "                             class_weight='balanced').fit(X_train, y_train)\n",
    "ET_score = cross_validation_process(ET_clf, X_test, y_test)"
   ]
  },
  {
   "cell_type": "code",
   "execution_count": 193,
   "metadata": {
    "ExecuteTime": {
     "end_time": "2018-11-06T22:46:53.359578Z",
     "start_time": "2018-11-06T22:46:53.304525Z"
    },
    "scrolled": true
   },
   "outputs": [
    {
     "name": "stdout",
     "output_type": "stream",
     "text": [
      "Average Accuracy(average_precision) = 57.35%\n",
      "\n",
      "Standard Deviation = 0.092\n",
      "\n",
      "Scores(average_precision):\n",
      " [0.6676276  0.5060393  0.60415765 0.66015125 0.4294104 ]\n",
      "\n",
      "Classification Report:\n",
      "              precision    recall  f1-score   support\n",
      "\n",
      "         0.0       0.51      0.54      0.52        52\n",
      "         1.0       0.56      0.53      0.55        58\n",
      "\n",
      "   micro avg       0.54      0.54      0.54       110\n",
      "   macro avg       0.54      0.54      0.54       110\n",
      "weighted avg       0.54      0.54      0.54       110\n",
      "\n",
      "\n",
      "confusion_matrix:\n",
      "[[28 24]\n",
      " [27 31]]\n",
      "\n",
      "confusion_matrix accuracy: 53.63636363636364%\n",
      "-----------------------------------------------------------------------\n"
     ]
    }
   ],
   "source": [
    "brnl_clf = BernoulliNB().fit(X_train, y_train)\n",
    "brnl_score = cross_validation_process(brnl_clf, X_test, y_test)"
   ]
  },
  {
   "cell_type": "code",
   "execution_count": 155,
   "metadata": {
    "ExecuteTime": {
     "end_time": "2018-11-06T22:35:58.973720Z",
     "start_time": "2018-11-06T22:35:58.937632Z"
    },
    "scrolled": true
   },
   "outputs": [
    {
     "name": "stdout",
     "output_type": "stream",
     "text": [
      "Average Accuracy(average_precision) = 56.21%\n",
      "\n",
      "Standard Deviation = 0.078\n",
      "\n",
      "Scores(average_precision):\n",
      " [0.5756423  0.54630845 0.61900742 0.64791202 0.42170414]\n",
      "\n",
      "Classification Report:\n",
      "              precision    recall  f1-score   support\n",
      "\n",
      "         0.0       1.00      0.04      0.07        52\n",
      "         1.0       0.54      1.00      0.70        58\n",
      "\n",
      "   micro avg       0.55      0.55      0.55       110\n",
      "   macro avg       0.77      0.52      0.39       110\n",
      "weighted avg       0.76      0.55      0.40       110\n",
      "\n",
      "\n",
      "confusion_matrix:\n",
      "[[ 2 50]\n",
      " [ 0 58]]\n",
      "\n",
      "confusion_matrix accuracy: 54.54545454545454%\n",
      "-----------------------------------------------------------------------\n"
     ]
    }
   ],
   "source": [
    "gaussian_nb_clf = GaussianNB().fit(X_train, y_train)\n",
    "gaussian_nb_score = cross_validation_process(gaussian_nb_clf, X_test, y_test)"
   ]
  },
  {
   "cell_type": "code",
   "execution_count": 157,
   "metadata": {
    "ExecuteTime": {
     "end_time": "2018-11-06T22:36:22.119782Z",
     "start_time": "2018-11-06T22:36:22.080698Z"
    },
    "scrolled": true
   },
   "outputs": [
    {
     "name": "stdout",
     "output_type": "stream",
     "text": [
      "Average Accuracy(average_precision) = 55.39%\n",
      "\n",
      "Standard Deviation = 0.085\n",
      "\n",
      "Scores(average_precision):\n",
      " [0.6619818  0.53103503 0.56673812 0.60132616 0.40851047]\n",
      "\n",
      "Classification Report:\n",
      "              precision    recall  f1-score   support\n",
      "\n",
      "         0.0       0.56      0.56      0.56        52\n",
      "         1.0       0.60      0.60      0.60        58\n",
      "\n",
      "   micro avg       0.58      0.58      0.58       110\n",
      "   macro avg       0.58      0.58      0.58       110\n",
      "weighted avg       0.58      0.58      0.58       110\n",
      "\n",
      "\n",
      "confusion_matrix:\n",
      "[[29 23]\n",
      " [23 35]]\n",
      "\n",
      "confusion_matrix accuracy: 58.18181818181818%\n",
      "-----------------------------------------------------------------------\n"
     ]
    }
   ],
   "source": [
    "multinomial_nb_clf = MultinomialNB(alpha=1).fit(X_train, y_train)\n",
    "ml_nb_scores = cross_validation_process(multinomial_nb_clf, X_test, y_test)"
   ]
  },
  {
   "cell_type": "code",
   "execution_count": 271,
   "metadata": {
    "ExecuteTime": {
     "end_time": "2018-11-06T23:09:21.439425Z",
     "start_time": "2018-11-06T23:09:21.262334Z"
    },
    "scrolled": true
   },
   "outputs": [
    {
     "name": "stdout",
     "output_type": "stream",
     "text": [
      "Average Accuracy(average_precision) = 78.88%\n",
      "\n",
      "Standard Deviation = 0.122\n",
      "\n",
      "Scores(average_precision):\n",
      " [0.72626263 0.66468254 0.78571429 1.         0.87111111 0.86285714\n",
      " 0.67238095 0.69761905 0.82111111 0.60833333 0.96666667]\n",
      "\n",
      "Classification Report:\n",
      "              precision    recall  f1-score   support\n",
      "\n",
      "         0.0       0.67      0.73      0.70        52\n",
      "         1.0       0.74      0.67      0.70        58\n",
      "\n",
      "   micro avg       0.70      0.70      0.70       110\n",
      "   macro avg       0.70      0.70      0.70       110\n",
      "weighted avg       0.70      0.70      0.70       110\n",
      "\n",
      "\n",
      "confusion_matrix:\n",
      "[[38 14]\n",
      " [19 39]]\n",
      "\n",
      "confusion_matrix accuracy: 70.0%\n",
      "-----------------------------------------------------------------------\n"
     ]
    }
   ],
   "source": [
    "KNN_clf = KNeighborsClassifier(leaf_size=45, n_jobs=-2).fit(X_train, y_train)\n",
    "KNN_score = cross_validation_process(KNN_clf, X_test, y_test, cv=11)"
   ]
  },
  {
   "cell_type": "code",
   "execution_count": 272,
   "metadata": {
    "ExecuteTime": {
     "end_time": "2018-11-06T23:09:37.232356Z",
     "start_time": "2018-11-06T23:09:34.644863Z"
    },
    "scrolled": true
   },
   "outputs": [
    {
     "name": "stdout",
     "output_type": "stream",
     "text": [
      "Average Accuracy(average_precision) = 65.83%\n",
      "\n",
      "Standard Deviation = 0.101\n",
      "\n",
      "Scores(average_precision):\n",
      " [0.81051587 0.49814815 0.64051227 0.69619048 0.58       0.67833333\n",
      " 0.68619048 0.78928571 0.65444444 0.47777778 0.72952381]\n",
      "\n",
      "Classification Report:\n",
      "              precision    recall  f1-score   support\n",
      "\n",
      "         0.0       0.69      0.71      0.70        52\n",
      "         1.0       0.73      0.71      0.72        58\n",
      "\n",
      "   micro avg       0.71      0.71      0.71       110\n",
      "   macro avg       0.71      0.71      0.71       110\n",
      "weighted avg       0.71      0.71      0.71       110\n",
      "\n",
      "\n",
      "confusion_matrix:\n",
      "[[37 15]\n",
      " [17 41]]\n",
      "\n",
      "confusion_matrix accuracy: 70.9090909090909%\n",
      "-----------------------------------------------------------------------\n"
     ]
    }
   ],
   "source": [
    "MLP_clf = MLPClassifier(solver='lbfgs', random_state=9).fit(X_train, y_train)\n",
    "MLP_score = cross_validation_process(MLP_clf, X_test, y_test, cv=11)"
   ]
  },
  {
   "cell_type": "code",
   "execution_count": null,
   "metadata": {
    "ExecuteTime": {
     "end_time": "2018-11-06T20:33:54.265099Z",
     "start_time": "2018-11-06T20:33:54.249649Z"
    }
   },
   "outputs": [],
   "source": [
    "# classification_scoring = ['accuracy', 'balanced_accuracy', 'average_precision',\n",
    "#                           'brier_score_loss', 'f1', 'f1_micro', 'f1_macro',\n",
    "#                           'f1_weighted', 'neg_log_loss', 'precision',\n",
    "#                           'recall', 'roc_auc']"
   ]
  },
  {
   "cell_type": "code",
   "execution_count": null,
   "metadata": {
    "ExecuteTime": {
     "end_time": "2018-11-06T20:51:38.601213Z",
     "start_time": "2018-11-06T20:51:38.586411Z"
    }
   },
   "outputs": [],
   "source": [
    "# classifiers = [\n",
    "#     KNeighborsClassifier(3),\n",
    "#     SVC(kernel=\"linear\", C=0.025),\n",
    "#     SVC(gamma=2, C=1),\n",
    "#     GaussianProcessClassifier(1.0 * RBF(1.0)),\n",
    "#     DecisionTreeClassifier(max_depth=5),\n",
    "#     RandomForestClassifier(max_depth=5, n_estimators=10, max_features=1),\n",
    "#     MLPClassifier(alpha=1),\n",
    "#     AdaBoostClassifier(),\n",
    "#     GaussianNB(),\n",
    "#     QuadraticDiscriminantAnalysis()]"
   ]
  },
  {
   "cell_type": "code",
   "execution_count": null,
   "metadata": {
    "ExecuteTime": {
     "end_time": "2018-11-06T19:06:38.178227Z",
     "start_time": "2018-11-06T19:06:38.155186Z"
    }
   },
   "outputs": [],
   "source": [
    "# clf1 = LogisticRegression(solver='lbfgs', multi_class='multinomial',\n",
    "#                           random_state=1)\n",
    "# clf2 = RandomForestClassifier(n_estimators=50, random_state=1)\n",
    "# clf3 = GaussianNB()\n",
    "\n",
    "# eclf = VotingClassifier(estimators=[('lr', clf1), ('rf', clf2), ('gnb', clf3)], voting='hard')\n",
    "\n",
    "# for clf, label in zip([clf1, clf2, clf3, eclf], ['Logistic Regression', 'Random Forest', 'naive Bayes', 'Ensemble']):\n",
    "#     scores = cross_val_score(clf, X, y, cv=5, scoring='accuracy')\n",
    "#     print(\"Accuracy: %0.2f (+/- %0.2f) [%s]\" % (scores.mean(), scores.std(), label))"
   ]
  },
  {
   "cell_type": "code",
   "execution_count": null,
   "metadata": {
    "ExecuteTime": {
     "end_time": "2018-11-06T19:07:59.475075Z",
     "start_time": "2018-11-06T19:07:59.458250Z"
    }
   },
   "outputs": [],
   "source": []
  },
  {
   "cell_type": "code",
   "execution_count": null,
   "metadata": {
    "ExecuteTime": {
     "end_time": "2018-11-06T19:09:07.421611Z",
     "start_time": "2018-11-06T19:09:07.404994Z"
    }
   },
   "outputs": [],
   "source": [
    "# clf = DecisionTreeClassifier(max_depth=None, min_samples_split=2,\n",
    "#     random_state=0)\n",
    "# scores = cross_val_score(clf, X, y, cv=5)\n",
    "# scores.mean()\n",
    "\n",
    "\n",
    "# clf = RandomForestClassifier(n_estimators=10, max_depth=None,\n",
    "#     min_samples_split=2, random_state=0)\n",
    "# scores = cross_val_score(clf, X, y, cv=5)\n",
    "# scores.mean()\n",
    "\n",
    "\n",
    "# clf = ExtraTreesClassifier(n_estimators=10, max_depth=None,\n",
    "#     min_samples_split=2, random_state=0)\n",
    "# scores = cross_val_score(clf, X, y, cv=5)\n",
    "# scores.mean() > 0.999"
   ]
  },
  {
   "cell_type": "code",
   "execution_count": null,
   "metadata": {
    "ExecuteTime": {
     "end_time": "2018-11-06T19:10:38.952154Z",
     "start_time": "2018-11-06T19:10:38.935223Z"
    }
   },
   "outputs": [],
   "source": [
    "# est = GradientBoostingRegressor\n",
    "# mean_squared_error(y_test, est.predict(X_test))  \n",
    "# clf.score(X_test, y_test)"
   ]
  }
 ],
 "metadata": {
  "kernelspec": {
   "display_name": "Python 3",
   "language": "python",
   "name": "python3"
  },
  "language_info": {
   "codemirror_mode": {
    "name": "ipython",
    "version": 3
   },
   "file_extension": ".py",
   "mimetype": "text/x-python",
   "name": "python",
   "nbconvert_exporter": "python",
   "pygments_lexer": "ipython3",
   "version": "3.6.6"
  },
  "latex_envs": {
   "LaTeX_envs_menu_present": true,
   "autoclose": false,
   "autocomplete": true,
   "bibliofile": "biblio.bib",
   "cite_by": "apalike",
   "current_citInitial": 1,
   "eqLabelWithNumbers": true,
   "eqNumInitial": 1,
   "hotkeys": {
    "equation": "Ctrl-E",
    "itemize": "Ctrl-I"
   },
   "labels_anchors": false,
   "latex_user_defs": false,
   "report_style_numbering": false,
   "user_envs_cfg": false
  }
 },
 "nbformat": 4,
 "nbformat_minor": 2
}
