{
 "cells": [
  {
   "cell_type": "code",
   "execution_count": 263,
   "metadata": {
    "ExecuteTime": {
     "end_time": "2018-10-20T20:51:52.974392Z",
     "start_time": "2018-10-20T20:51:52.946420Z"
    }
   },
   "outputs": [],
   "source": [
    "import pandas as pd\n",
    "import numpy as np\n",
    "import tensorflow\n",
    "import theano\n",
    "import pickle\n",
    "\n",
    "from pandas import *\n",
    "\n",
    "from sklearn.preprocessing import LabelEncoder, OneHotEncoder, StandardScaler\n",
    "from sklearn.model_selection import train_test_split, cross_val_score, GridSearchCV\n",
    "from sklearn.metrics import confusion_matrix\n",
    "\n",
    "import keras\n",
    "from keras.models import Sequential\n",
    "from keras.layers import Dense, Dropout, LSTM\n",
    "from keras.wrappers.scikit_learn import KerasClassifier\n",
    "\n",
    "import matplotlib.pyplot as plt\n",
    "%matplotlib inline\n",
    "from sklearn.externals.joblib import parallel_backend"
   ]
  },
  {
   "cell_type": "code",
   "execution_count": 264,
   "metadata": {
    "ExecuteTime": {
     "end_time": "2018-10-20T20:51:53.157381Z",
     "start_time": "2018-10-20T20:51:53.118552Z"
    }
   },
   "outputs": [],
   "source": [
    "df = pd.read_csv('../data/df_for_model.csv')\n",
    "# df['start_time'] = df['start_time']//1000\n",
    "df = df[df['result'] != 0.5]\n",
    "numeric_predictors = ['color', 'elo', 'opp_elo',\n",
    "                      'game_time', 'start_time', 'weekday', 'day']\n",
    "X = df[numeric_predictors]\n",
    "y = np.array(df['result'])"
   ]
  },
  {
   "cell_type": "code",
   "execution_count": 265,
   "metadata": {
    "ExecuteTime": {
     "end_time": "2018-10-20T20:51:53.279571Z",
     "start_time": "2018-10-20T20:51:53.255931Z"
    }
   },
   "outputs": [
    {
     "data": {
      "text/plain": [
       "(2024, 7)"
      ]
     },
     "execution_count": 265,
     "metadata": {},
     "output_type": "execute_result"
    }
   ],
   "source": [
    "X.shape"
   ]
  },
  {
   "cell_type": "code",
   "execution_count": 266,
   "metadata": {
    "ExecuteTime": {
     "end_time": "2018-10-20T20:51:53.390217Z",
     "start_time": "2018-10-20T20:51:53.356809Z"
    }
   },
   "outputs": [
    {
     "data": {
      "text/plain": [
       "(2024,)"
      ]
     },
     "execution_count": 266,
     "metadata": {},
     "output_type": "execute_result"
    }
   ],
   "source": [
    "y.shape"
   ]
  },
  {
   "cell_type": "code",
   "execution_count": 267,
   "metadata": {
    "ExecuteTime": {
     "end_time": "2018-10-20T20:51:53.511557Z",
     "start_time": "2018-10-20T20:51:53.488512Z"
    }
   },
   "outputs": [],
   "source": [
    "# X_train, X_test, y_train, y_test = train_test_split(X, y, test_size = 0.1)"
   ]
  },
  {
   "cell_type": "code",
   "execution_count": 268,
   "metadata": {
    "ExecuteTime": {
     "end_time": "2018-10-20T20:51:53.747256Z",
     "start_time": "2018-10-20T20:51:53.720372Z"
    }
   },
   "outputs": [],
   "source": [
    "X_train = X[:1824]\n",
    "y_train = y[:1824]\n",
    "X_test = X[1824:]\n",
    "y_test = y[1824:]"
   ]
  },
  {
   "cell_type": "code",
   "execution_count": 269,
   "metadata": {
    "ExecuteTime": {
     "end_time": "2018-10-20T20:51:53.827998Z",
     "start_time": "2018-10-20T20:51:53.805260Z"
    }
   },
   "outputs": [
    {
     "data": {
      "text/plain": [
       "(1824, 7)"
      ]
     },
     "execution_count": 269,
     "metadata": {},
     "output_type": "execute_result"
    }
   ],
   "source": [
    "X_train.shape"
   ]
  },
  {
   "cell_type": "code",
   "execution_count": 270,
   "metadata": {
    "ExecuteTime": {
     "end_time": "2018-10-20T20:51:53.919934Z",
     "start_time": "2018-10-20T20:51:53.892880Z"
    }
   },
   "outputs": [
    {
     "data": {
      "text/plain": [
       "(200, 7)"
      ]
     },
     "execution_count": 270,
     "metadata": {},
     "output_type": "execute_result"
    }
   ],
   "source": [
    "X_test.shape"
   ]
  },
  {
   "cell_type": "code",
   "execution_count": 271,
   "metadata": {
    "ExecuteTime": {
     "end_time": "2018-10-20T20:51:54.071656Z",
     "start_time": "2018-10-20T20:51:54.046455Z"
    }
   },
   "outputs": [
    {
     "data": {
      "text/plain": [
       "(1824,)"
      ]
     },
     "execution_count": 271,
     "metadata": {},
     "output_type": "execute_result"
    }
   ],
   "source": [
    "y_train.shape"
   ]
  },
  {
   "cell_type": "code",
   "execution_count": 272,
   "metadata": {
    "ExecuteTime": {
     "end_time": "2018-10-20T20:51:54.302685Z",
     "start_time": "2018-10-20T20:51:54.262348Z"
    }
   },
   "outputs": [
    {
     "name": "stderr",
     "output_type": "stream",
     "text": [
      "/home/guess/anaconda3/lib/python3.6/site-packages/sklearn/preprocessing/data.py:617: DataConversionWarning: Data with input dtype int64, float64 were all converted to float64 by StandardScaler.\n",
      "  return self.partial_fit(X, y)\n",
      "/home/guess/anaconda3/lib/python3.6/site-packages/sklearn/base.py:462: DataConversionWarning: Data with input dtype int64, float64 were all converted to float64 by StandardScaler.\n",
      "  return self.fit(X, **fit_params).transform(X)\n",
      "/home/guess/anaconda3/lib/python3.6/site-packages/sklearn/preprocessing/data.py:617: DataConversionWarning: Data with input dtype int64, float64 were all converted to float64 by StandardScaler.\n",
      "  return self.partial_fit(X, y)\n",
      "/home/guess/anaconda3/lib/python3.6/site-packages/sklearn/base.py:462: DataConversionWarning: Data with input dtype int64, float64 were all converted to float64 by StandardScaler.\n",
      "  return self.fit(X, **fit_params).transform(X)\n"
     ]
    }
   ],
   "source": [
    "std_sclr = StandardScaler()\n",
    "X_train = std_sclr.fit_transform(X_train)\n",
    "X_test = std_sclr.fit_transform(X_test)"
   ]
  },
  {
   "cell_type": "code",
   "execution_count": 273,
   "metadata": {
    "ExecuteTime": {
     "end_time": "2018-10-20T20:51:54.418985Z",
     "start_time": "2018-10-20T20:51:54.392469Z"
    }
   },
   "outputs": [
    {
     "data": {
      "text/plain": [
       "array([  0.499975  ,  37.17137474, 132.40086858, 139.94284548,\n",
       "         4.71242772,   2.05814844,   8.63622458])"
      ]
     },
     "execution_count": 273,
     "metadata": {},
     "output_type": "execute_result"
    }
   ],
   "source": [
    "std_sclr.scale_"
   ]
  },
  {
   "cell_type": "code",
   "execution_count": 274,
   "metadata": {
    "ExecuteTime": {
     "end_time": "2018-10-20T20:51:54.559054Z",
     "start_time": "2018-10-20T20:51:54.518258Z"
    }
   },
   "outputs": [],
   "source": [
    "def _classifier():\n",
    "    classifier = Sequential()\n",
    "    \n",
    "    classifier.add(Dense(units=7, kernel_initializer='uniform',\n",
    "                         activation='relu', input_dim=7))\n",
    "    \n",
    "    classifier.add(\n",
    "        Dense(units=28, kernel_initializer='uniform', activation='softsign'))\n",
    "    \n",
    "    classifier.add(\n",
    "        Dense(units=4, activation='relu'))\n",
    "    \n",
    "    classifier.add(\n",
    "        Dense(units=1, kernel_initializer='uniform', activation='sigmoid'))\n",
    "\n",
    "    classifier.compile(\n",
    "        optimizer='nadam', loss='binary_crossentropy', metrics=['accuracy'])\n",
    "\n",
    "    return classifier"
   ]
  },
  {
   "cell_type": "code",
   "execution_count": 275,
   "metadata": {
    "ExecuteTime": {
     "end_time": "2018-10-20T20:51:55.131552Z",
     "start_time": "2018-10-20T20:51:55.032255Z"
    }
   },
   "outputs": [],
   "source": [
    "classifier = _classifier()"
   ]
  },
  {
   "cell_type": "code",
   "execution_count": 276,
   "metadata": {
    "ExecuteTime": {
     "end_time": "2018-10-20T20:52:10.425299Z",
     "start_time": "2018-10-20T20:51:55.572477Z"
    },
    "scrolled": true
   },
   "outputs": [
    {
     "name": "stdout",
     "output_type": "stream",
     "text": [
      "Epoch 1/20\n",
      "1824/1824 [==============================] - 2s 974us/step - loss: 0.6792 - acc: 0.5746\n",
      "Epoch 2/20\n",
      "1824/1824 [==============================] - 1s 377us/step - loss: 0.5805 - acc: 0.7018\n",
      "Epoch 3/20\n",
      "1824/1824 [==============================] - 1s 345us/step - loss: 0.5659 - acc: 0.7007\n",
      "Epoch 4/20\n",
      "1824/1824 [==============================] - 1s 391us/step - loss: 0.5634 - acc: 0.7111\n",
      "Epoch 5/20\n",
      "1824/1824 [==============================] - 1s 354us/step - loss: 0.5621 - acc: 0.7083\n",
      "Epoch 6/20\n",
      "1824/1824 [==============================] - 1s 319us/step - loss: 0.5620 - acc: 0.7111\n",
      "Epoch 7/20\n",
      "1824/1824 [==============================] - 1s 379us/step - loss: 0.5582 - acc: 0.7089\n",
      "Epoch 8/20\n",
      "1824/1824 [==============================] - 1s 339us/step - loss: 0.5597 - acc: 0.7111\n",
      "Epoch 9/20\n",
      "1824/1824 [==============================] - 1s 343us/step - loss: 0.5573 - acc: 0.7094\n",
      "Epoch 10/20\n",
      "1824/1824 [==============================] - 1s 411us/step - loss: 0.5563 - acc: 0.7072\n",
      "Epoch 11/20\n",
      "1824/1824 [==============================] - 1s 402us/step - loss: 0.5539 - acc: 0.7116\n",
      "Epoch 12/20\n",
      "1824/1824 [==============================] - 1s 400us/step - loss: 0.5542 - acc: 0.7160\n",
      "Epoch 13/20\n",
      "1824/1824 [==============================] - 1s 371us/step - loss: 0.5542 - acc: 0.7122\n",
      "Epoch 14/20\n",
      "1824/1824 [==============================] - 1s 353us/step - loss: 0.5555 - acc: 0.7089\n",
      "Epoch 15/20\n",
      "1824/1824 [==============================] - 1s 372us/step - loss: 0.5544 - acc: 0.7072\n",
      "Epoch 16/20\n",
      "1824/1824 [==============================] - 1s 372us/step - loss: 0.5520 - acc: 0.7166\n",
      "Epoch 17/20\n",
      "1824/1824 [==============================] - 1s 387us/step - loss: 0.5533 - acc: 0.7111\n",
      "Epoch 18/20\n",
      "1824/1824 [==============================] - 1s 352us/step - loss: 0.5526 - acc: 0.7138\n",
      "Epoch 19/20\n",
      "1824/1824 [==============================] - 1s 351us/step - loss: 0.5528 - acc: 0.7144\n",
      "Epoch 20/20\n",
      "1824/1824 [==============================] - 1s 352us/step - loss: 0.5503 - acc: 0.7209\n"
     ]
    },
    {
     "data": {
      "text/plain": [
       "<keras.callbacks.History at 0x7fc6c28e8940>"
      ]
     },
     "execution_count": 276,
     "metadata": {},
     "output_type": "execute_result"
    }
   ],
   "source": [
    "classifier.fit(X_train, y_train, batch_size=10, epochs=20)"
   ]
  },
  {
   "cell_type": "code",
   "execution_count": 277,
   "metadata": {
    "ExecuteTime": {
     "end_time": "2018-10-20T20:52:10.785829Z",
     "start_time": "2018-10-20T20:52:10.427791Z"
    }
   },
   "outputs": [],
   "source": [
    "y_pred = classifier.predict(X_test)\n",
    "y_pred = (y_pred > 0.5)"
   ]
  },
  {
   "cell_type": "code",
   "execution_count": 278,
   "metadata": {
    "ExecuteTime": {
     "end_time": "2018-10-20T20:52:10.821562Z",
     "start_time": "2018-10-20T20:52:10.788249Z"
    }
   },
   "outputs": [
    {
     "data": {
      "text/plain": [
       "array([[65, 39],\n",
       "       [27, 69]])"
      ]
     },
     "execution_count": 278,
     "metadata": {},
     "output_type": "execute_result"
    }
   ],
   "source": [
    "cm = confusion_matrix(y_test, y_pred)\n",
    "cm"
   ]
  },
  {
   "cell_type": "code",
   "execution_count": 279,
   "metadata": {
    "ExecuteTime": {
     "end_time": "2018-10-20T20:52:10.852708Z",
     "start_time": "2018-10-20T20:52:10.824070Z"
    }
   },
   "outputs": [
    {
     "data": {
      "text/plain": [
       "0.67"
      ]
     },
     "execution_count": 279,
     "metadata": {},
     "output_type": "execute_result"
    }
   ],
   "source": [
    "(cm[0][0]+cm[1][1])/200"
   ]
  },
  {
   "cell_type": "markdown",
   "metadata": {},
   "source": [
    "### 75.5% Accuracy on 1824 training, 200 test\n",
    "__3 layers__\n",
    "- layer 1 = ReLU X 7\n",
    "- layer 2 = SoftMax X 14\n",
    "- layer 3 = ReLU X 7\n",
    "- output layer = Sigmoid X 1\n",
    "\n",
    "__metrics__ = Cosine\n",
    "\n",
    "__loss__ = binary_crossentropy\n",
    "\n",
    "__Optimizer__ = Nadam\n",
    "\n",
    "__Batch size__ = 12\n",
    "\n",
    "__Epochs__ = 175\n",
    "\n",
    "no __diff__"
   ]
  },
  {
   "cell_type": "code",
   "execution_count": 128,
   "metadata": {
    "ExecuteTime": {
     "end_time": "2018-10-18T16:31:43.167518Z",
     "start_time": "2018-10-18T16:31:43.143247Z"
    }
   },
   "outputs": [],
   "source": [
    "classifier = KerasClassifier(\n",
    "    build_fn=_classifier, batch_size=10, epochs=200)"
   ]
  },
  {
   "cell_type": "code",
   "execution_count": 390,
   "metadata": {
    "ExecuteTime": {
     "end_time": "2018-10-20T03:52:48.350969Z",
     "start_time": "2018-10-20T03:52:48.329051Z"
    }
   },
   "outputs": [],
   "source": [
    "accus = cross_val_score(estimator=classifier, X=X_train,\n",
    "                        y=y_train, cv=10, n_jobs=-4)"
   ]
  },
  {
   "cell_type": "code",
   "execution_count": null,
   "metadata": {
    "ExecuteTime": {
     "end_time": "2018-10-18T05:09:13.614250Z",
     "start_time": "2018-10-18T05:08:19.665Z"
    }
   },
   "outputs": [],
   "source": [
    "accus"
   ]
  },
  {
   "cell_type": "code",
   "execution_count": null,
   "metadata": {
    "ExecuteTime": {
     "end_time": "2018-10-18T05:09:13.615837Z",
     "start_time": "2018-10-18T05:08:21.370Z"
    }
   },
   "outputs": [],
   "source": [
    "accu_mean = accus.mean()\n",
    "accu_mean"
   ]
  },
  {
   "cell_type": "code",
   "execution_count": null,
   "metadata": {
    "ExecuteTime": {
     "end_time": "2018-10-18T05:09:13.617230Z",
     "start_time": "2018-10-18T05:08:21.709Z"
    }
   },
   "outputs": [],
   "source": [
    "accu_var = accus.std()\n",
    "accu_var"
   ]
  },
  {
   "cell_type": "code",
   "execution_count": 12,
   "metadata": {
    "ExecuteTime": {
     "end_time": "2018-10-20T04:28:14.220079Z",
     "start_time": "2018-10-20T04:28:14.191022Z"
    }
   },
   "outputs": [],
   "source": [
    "def dropout_classifier(optimizer):\n",
    "    classifier = Sequential()\n",
    "    classifier.add(Dense(units=7, kernel_initializer='uniform',\n",
    "                         activation='relu', input_dim=7))\n",
    "    classifier.add(Dropout(rate=0.12))\n",
    "    classifier.add(\n",
    "        Dense(units=28, kernel_initializer='uniform', activation='softsign'))\n",
    "    classifier.add(Dropout(rate=0.08))\n",
    "    classifier.add(\n",
    "        Dense(units=4, kernel_initializer='uniform', activation='relu'))\n",
    "    classifier.add(Dropout(rate=0.04))\n",
    "    classifier.add(\n",
    "        Dense(units=1, kernel_initializer='uniform', activation='sigmoid'))\n",
    "\n",
    "    classifier.compile(\n",
    "        optimizer=optimizer, loss='binary_crossentropy', metrics=['accuracy'])\n",
    "    return classifier"
   ]
  },
  {
   "cell_type": "code",
   "execution_count": 13,
   "metadata": {
    "ExecuteTime": {
     "end_time": "2018-10-20T04:28:14.860773Z",
     "start_time": "2018-10-20T04:28:14.837029Z"
    }
   },
   "outputs": [],
   "source": [
    "classifier = KerasClassifier(build_fn=dropout_classifier)"
   ]
  },
  {
   "cell_type": "code",
   "execution_count": 14,
   "metadata": {
    "ExecuteTime": {
     "end_time": "2018-10-20T04:28:17.940636Z",
     "start_time": "2018-10-20T04:28:17.906664Z"
    }
   },
   "outputs": [],
   "source": [
    "parameters = {'batch_size': [10,20,30], 'nb_epoch': [100, 150, 200],\n",
    "              'optimizer': ['Nadam', 'Adadelta', 'adamax']}"
   ]
  },
  {
   "cell_type": "code",
   "execution_count": 15,
   "metadata": {
    "ExecuteTime": {
     "end_time": "2018-10-20T04:28:18.806455Z",
     "start_time": "2018-10-20T04:28:18.782469Z"
    }
   },
   "outputs": [],
   "source": [
    "grid_search = GridSearchCV(classifier, parameters,\n",
    "                           scoring='accuracy', cv=5, n_jobs=-4)"
   ]
  },
  {
   "cell_type": "code",
   "execution_count": 16,
   "metadata": {
    "ExecuteTime": {
     "end_time": "2018-10-20T04:40:48.714277Z",
     "start_time": "2018-10-20T04:28:19.482509Z"
    },
    "scrolled": true
   },
   "outputs": [
    {
     "name": "stdout",
     "output_type": "stream",
     "text": [
      "Epoch 1/1\n",
      "1520/1520 [==============================] - 1s 787us/step - loss: 0.6791 - acc: 0.5533\n",
      "Epoch 1/1\n",
      "1520/1520 [==============================] - 1s 795us/step - loss: 0.6797 - acc: 0.5711\n",
      "Epoch 1/1\n",
      "1520/1520 [==============================] - 1s 787us/step - loss: 0.6933 - acc: 0.4849\n",
      "Epoch 1/1\n",
      "1520/1520 [==============================] - 1s 830us/step - loss: 0.6845 - acc: 0.5618\n",
      "Epoch 1/1\n",
      "1520/1520 [==============================] - 1s 929us/step - loss: 0.6765 - acc: 0.5250\n",
      "Epoch 1/1\n",
      "1520/1520 [==============================] - 1s 853us/step - loss: 0.6932 - acc: 0.4862\n",
      "Epoch 1/1\n",
      "1520/1520 [==============================] - 1s 852us/step - loss: 0.6932 - acc: 0.5033\n",
      "Epoch 1/1\n",
      "1520/1520 [==============================] - 1s 887us/step - loss: 0.6932 - acc: 0.4829\n",
      "Epoch 1/1\n",
      "1520/1520 [==============================] - 1s 919us/step - loss: 0.6932 - acc: 0.4868\n",
      "Epoch 1/1\n",
      "1520/1520 [==============================] - 1s 932us/step - loss: 0.6932 - acc: 0.5086\n",
      "Epoch 1/1\n",
      "1520/1520 [==============================] - 2s 1ms/step - loss: 0.6931 - acc: 0.4987\n",
      "Epoch 1/1\n",
      "1520/1520 [==============================] - 1s 954us/step - loss: 0.6932 - acc: 0.4947\n",
      "Epoch 1/1\n",
      "1520/1520 [==============================] - 1s 978us/step - loss: 0.6932 - acc: 0.4875\n",
      "Epoch 1/1\n",
      "1520/1520 [==============================] - 2s 991us/step - loss: 0.6932 - acc: 0.4664\n",
      "Epoch 1/1\n",
      "1520/1520 [==============================] - 2s 1ms/step - loss: 0.6932 - acc: 0.4888\n",
      "Epoch 1/1\n",
      "1520/1520 [==============================] - 2s 1ms/step - loss: 0.6933 - acc: 0.4842\n",
      "Epoch 1/1\n",
      "1520/1520 [==============================] - 2s 1ms/step - loss: 0.6793 - acc: 0.5599\n",
      "Epoch 1/1\n",
      "1520/1520 [==============================] - 2s 1ms/step - loss: 0.6871 - acc: 0.5342\n",
      "Epoch 1/1\n",
      "1520/1520 [==============================] - 2s 1ms/step - loss: 0.6933 - acc: 0.4724\n",
      "Epoch 1/1\n",
      "1520/1520 [==============================] - 2s 1ms/step - loss: 0.6859 - acc: 0.5270\n",
      "Epoch 1/1\n",
      "1520/1520 [==============================] - 2s 1ms/step - loss: 0.6933 - acc: 0.4888\n",
      "Epoch 1/1\n",
      "1520/1520 [==============================] - 2s 1ms/step - loss: 0.6932 - acc: 0.5033\n",
      "Epoch 1/1\n",
      "1520/1520 [==============================] - 2s 1ms/step - loss: 0.6932 - acc: 0.4967\n",
      "Epoch 1/1\n",
      "1520/1520 [==============================] - 2s 1ms/step - loss: 0.6932 - acc: 0.4934\n",
      "Epoch 1/1\n",
      "1520/1520 [==============================] - 2s 1ms/step - loss: 0.6932 - acc: 0.5053\n",
      "Epoch 1/1\n",
      "1520/1520 [==============================] - 2s 1ms/step - loss: 0.6930 - acc: 0.5092\n",
      "Epoch 1/1\n",
      "1520/1520 [==============================] - 2s 1ms/step - loss: 0.6931 - acc: 0.5046\n",
      "Epoch 1/1\n",
      "1520/1520 [==============================] - 2s 1ms/step - loss: 0.6932 - acc: 0.4941\n",
      "Epoch 1/1\n",
      "1520/1520 [==============================] - 2s 1ms/step - loss: 0.6932 - acc: 0.4954\n",
      "Epoch 1/1\n",
      "1520/1520 [==============================] - 2s 1ms/step - loss: 0.6933 - acc: 0.4888\n",
      "Epoch 1/1\n",
      "1520/1520 [==============================] - 3s 2ms/step - loss: 0.6650 - acc: 0.5921\n",
      "Epoch 1/1\n",
      "1520/1520 [==============================] - 2s 2ms/step - loss: 0.6823 - acc: 0.5605\n",
      "Epoch 1/1\n",
      "1520/1520 [==============================] - 2s 2ms/step - loss: 0.6933 - acc: 0.4974\n",
      "Epoch 1/1\n",
      "1520/1520 [==============================] - 3s 2ms/step - loss: 0.6813 - acc: 0.5507\n",
      "Epoch 1/1\n",
      "1520/1520 [==============================] - 3s 2ms/step - loss: 0.6866 - acc: 0.5322\n",
      "Epoch 1/1\n",
      "1520/1520 [==============================] - 3s 2ms/step - loss: 0.6932 - acc: 0.4816\n",
      "Epoch 1/1\n",
      "1520/1520 [==============================] - 3s 2ms/step - loss: 0.6932 - acc: 0.4882\n",
      "Epoch 1/1\n",
      "1520/1520 [==============================] - 3s 2ms/step - loss: 0.6932 - acc: 0.4849\n",
      "Epoch 1/1\n",
      "1520/1520 [==============================] - 3s 2ms/step - loss: 0.6932 - acc: 0.4697\n",
      "Epoch 1/1\n",
      "1520/1520 [==============================] - 3s 2ms/step - loss: 0.6932 - acc: 0.4928\n",
      "Epoch 1/1\n",
      "1520/1520 [==============================] - 3s 2ms/step - loss: 0.6932 - acc: 0.5007\n",
      "Epoch 1/1\n",
      "1520/1520 [==============================] - 3s 2ms/step - loss: 0.6932 - acc: 0.5079\n",
      "Epoch 1/1\n",
      "1520/1520 [==============================] - 3s 2ms/step - loss: 0.6933 - acc: 0.4947\n",
      "Epoch 1/1\n",
      "1520/1520 [==============================] - 3s 2ms/step - loss: 0.6932 - acc: 0.4987\n",
      "Epoch 1/1\n",
      "1520/1520 [==============================] - 3s 2ms/step - loss: 0.6932 - acc: 0.4842\n",
      "Epoch 1/1\n",
      "1520/1520 [==============================] - 3s 2ms/step - loss: 0.6909 - acc: 0.5250\n",
      "Epoch 1/1\n",
      "1520/1520 [==============================] - 3s 2ms/step - loss: 0.6932 - acc: 0.5000\n",
      "Epoch 1/1\n",
      "1520/1520 [==============================] - 3s 2ms/step - loss: 0.6919 - acc: 0.5184\n",
      "Epoch 1/1\n",
      "1520/1520 [==============================] - 3s 2ms/step - loss: 0.6911 - acc: 0.5546\n",
      "Epoch 1/1\n",
      "1520/1520 [==============================] - 3s 2ms/step - loss: 0.6898 - acc: 0.5480\n",
      "Epoch 1/1\n",
      "1520/1520 [==============================] - 3s 2ms/step - loss: 0.6932 - acc: 0.4908\n",
      "Epoch 1/1\n",
      "1520/1520 [==============================] - 3s 2ms/step - loss: 0.6932 - acc: 0.4914\n",
      "Epoch 1/1\n",
      "1520/1520 [==============================] - 3s 2ms/step - loss: 0.6932 - acc: 0.4836\n",
      "Epoch 1/1\n",
      "1520/1520 [==============================] - 3s 2ms/step - loss: 0.6932 - acc: 0.4868\n",
      "Epoch 1/1\n",
      "1520/1520 [==============================] - 3s 2ms/step - loss: 0.6932 - acc: 0.5039\n",
      "Epoch 1/1\n",
      "1520/1520 [==============================] - 3s 2ms/step - loss: 0.6931 - acc: 0.5000\n",
      "Epoch 1/1\n",
      "1520/1520 [==============================] - 3s 2ms/step - loss: 0.6932 - acc: 0.4974\n",
      "Epoch 1/1\n",
      "1520/1520 [==============================] - 3s 2ms/step - loss: 0.6932 - acc: 0.4888\n",
      "Epoch 1/1\n",
      "1520/1520 [==============================] - 3s 2ms/step - loss: 0.6932 - acc: 0.4974\n",
      "Epoch 1/1\n",
      "1520/1520 [==============================] - 3s 2ms/step - loss: 0.6932 - acc: 0.4901\n",
      "Epoch 1/1\n",
      "1520/1520 [==============================] - 3s 2ms/step - loss: 0.6932 - acc: 0.4868\n",
      "Epoch 1/1\n",
      "1520/1520 [==============================] - 3s 2ms/step - loss: 0.6910 - acc: 0.5033\n",
      "Epoch 1/1\n",
      "1520/1520 [==============================] - 3s 2ms/step - loss: 0.6929 - acc: 0.5072\n",
      "Epoch 1/1\n",
      "1520/1520 [==============================] - 3s 2ms/step - loss: 0.6933 - acc: 0.4908\n",
      "Epoch 1/1\n",
      "1520/1520 [==============================] - 3s 2ms/step - loss: 0.6910 - acc: 0.5309\n",
      "Epoch 1/1\n",
      "1520/1520 [==============================] - 3s 2ms/step - loss: 0.6932 - acc: 0.4901\n",
      "Epoch 1/1\n",
      "1520/1520 [==============================] - 3s 2ms/step - loss: 0.6932 - acc: 0.4612\n",
      "Epoch 1/1\n",
      "1520/1520 [==============================] - 4s 2ms/step - loss: 0.6932 - acc: 0.4836\n",
      "Epoch 1/1\n",
      "1520/1520 [==============================] - 4s 2ms/step - loss: 0.6932 - acc: 0.4678\n",
      "Epoch 1/1\n",
      "1520/1520 [==============================] - 4s 2ms/step - loss: 0.6932 - acc: 0.4954\n",
      "Epoch 1/1\n",
      "1520/1520 [==============================] - 4s 2ms/step - loss: 0.6932 - acc: 0.5007\n",
      "Epoch 1/1\n",
      "1520/1520 [==============================] - 4s 2ms/step - loss: 0.6931 - acc: 0.5059\n",
      "Epoch 1/1\n",
      "1520/1520 [==============================] - 4s 2ms/step - loss: 0.6933 - acc: 0.4882\n",
      "Epoch 1/1\n",
      "1520/1520 [==============================] - 4s 2ms/step - loss: 0.6932 - acc: 0.4980\n",
      "Epoch 1/1\n",
      "1520/1520 [==============================] - 4s 2ms/step - loss: 0.6931 - acc: 0.5092\n",
      "Epoch 1/1\n",
      "1520/1520 [==============================] - 4s 3ms/step - loss: 0.6889 - acc: 0.5355\n",
      "Epoch 1/1\n",
      "1520/1520 [==============================] - 4s 3ms/step - loss: 0.6932 - acc: 0.4974\n",
      "Epoch 1/1\n",
      "1520/1520 [==============================] - 4s 3ms/step - loss: 0.6932 - acc: 0.4822\n",
      "Epoch 1/1\n",
      "1520/1520 [==============================] - 4s 3ms/step - loss: 0.6927 - acc: 0.5289\n",
      "Epoch 1/1\n",
      "1520/1520 [==============================] - 4s 3ms/step - loss: 0.6932 - acc: 0.4947\n",
      "Epoch 1/1\n",
      "1520/1520 [==============================] - 4s 3ms/step - loss: 0.6933 - acc: 0.4809\n",
      "Epoch 1/1\n",
      "1520/1520 [==============================] - 4s 3ms/step - loss: 0.6932 - acc: 0.4980\n",
      "Epoch 1/1\n",
      "1520/1520 [==============================] - 4s 3ms/step - loss: 0.6932 - acc: 0.4789\n",
      "Epoch 1/1\n",
      "1520/1520 [==============================] - 4s 3ms/step - loss: 0.6932 - acc: 0.4901\n",
      "Epoch 1/1\n",
      "1520/1520 [==============================] - 4s 3ms/step - loss: 0.6932 - acc: 0.5020\n",
      "Epoch 1/1\n"
     ]
    },
    {
     "name": "stdout",
     "output_type": "stream",
     "text": [
      "1520/1520 [==============================] - 4s 3ms/step - loss: 0.6932 - acc: 0.5007\n",
      "Epoch 1/1\n",
      "1520/1520 [==============================] - 4s 3ms/step - loss: 0.6932 - acc: 0.5020\n",
      "Epoch 1/1\n",
      "1520/1520 [==============================] - 4s 3ms/step - loss: 0.6931 - acc: 0.5039\n",
      "Epoch 1/1\n",
      "1520/1520 [==============================] - 4s 3ms/step - loss: 0.6932 - acc: 0.4974\n",
      "Epoch 1/1\n",
      "1520/1520 [==============================] - 4s 3ms/step - loss: 0.6931 - acc: 0.5099\n",
      "Epoch 1/1\n",
      "1520/1520 [==============================] - 4s 3ms/step - loss: 0.6932 - acc: 0.4829\n",
      "Epoch 1/1\n",
      "1520/1520 [==============================] - 4s 3ms/step - loss: 0.6932 - acc: 0.4882\n",
      "Epoch 1/1\n",
      "1520/1520 [==============================] - 5s 3ms/step - loss: 0.6932 - acc: 0.4849\n",
      "Epoch 1/1\n",
      "1520/1520 [==============================] - 5s 3ms/step - loss: 0.6932 - acc: 0.4947\n",
      "Epoch 1/1\n",
      "1520/1520 [==============================] - 5s 3ms/step - loss: 0.6930 - acc: 0.5072\n",
      "Epoch 1/1\n",
      "1520/1520 [==============================] - 4s 3ms/step - loss: 0.6932 - acc: 0.4961\n",
      "Epoch 1/1\n",
      "1520/1520 [==============================] - 5s 3ms/step - loss: 0.6932 - acc: 0.4928\n",
      "Epoch 1/1\n",
      "1520/1520 [==============================] - 5s 3ms/step - loss: 0.6932 - acc: 0.4928\n",
      "Epoch 1/1\n",
      "1520/1520 [==============================] - 5s 3ms/step - loss: 0.6932 - acc: 0.4987\n",
      "Epoch 1/1\n",
      "1520/1520 [==============================] - 5s 3ms/step - loss: 0.6932 - acc: 0.5079\n",
      "Epoch 1/1\n",
      "1520/1520 [==============================] - 5s 3ms/step - loss: 0.6932 - acc: 0.4967\n",
      "Epoch 1/1\n",
      "1520/1520 [==============================] - 5s 3ms/step - loss: 0.6932 - acc: 0.4941\n",
      "Epoch 1/1\n",
      "1520/1520 [==============================] - 5s 3ms/step - loss: 0.6932 - acc: 0.5046\n",
      "Epoch 1/1\n",
      "1520/1520 [==============================] - 5s 3ms/step - loss: 0.6932 - acc: 0.4961\n",
      "Epoch 1/1\n",
      "1520/1520 [==============================] - 5s 3ms/step - loss: 0.6931 - acc: 0.5059\n",
      "Epoch 1/1\n",
      "1520/1520 [==============================] - 5s 3ms/step - loss: 0.6929 - acc: 0.5270\n",
      "Epoch 1/1\n",
      "1520/1520 [==============================] - 5s 3ms/step - loss: 0.6931 - acc: 0.5066\n",
      "Epoch 1/1\n",
      "1520/1520 [==============================] - 5s 3ms/step - loss: 0.6932 - acc: 0.4796\n",
      "Epoch 1/1\n",
      "1520/1520 [==============================] - 5s 3ms/step - loss: 0.6932 - acc: 0.4967\n",
      "Epoch 1/1\n",
      "1520/1520 [==============================] - 5s 3ms/step - loss: 0.6930 - acc: 0.5243\n",
      "Epoch 1/1\n",
      "1520/1520 [==============================] - 5s 3ms/step - loss: 0.6932 - acc: 0.4776\n",
      "Epoch 1/1\n",
      "1520/1520 [==============================] - 5s 3ms/step - loss: 0.6932 - acc: 0.4914\n",
      "Epoch 1/1\n",
      "1520/1520 [==============================] - 5s 3ms/step - loss: 0.6932 - acc: 0.5026\n",
      "Epoch 1/1\n",
      "1520/1520 [==============================] - 5s 3ms/step - loss: 0.6932 - acc: 0.4954\n",
      "Epoch 1/1\n",
      "1520/1520 [==============================] - 5s 3ms/step - loss: 0.6932 - acc: 0.5086\n",
      "Epoch 1/1\n",
      "1520/1520 [==============================] - 5s 4ms/step - loss: 0.6932 - acc: 0.4980\n",
      "Epoch 1/1\n",
      "1520/1520 [==============================] - 5s 4ms/step - loss: 0.6931 - acc: 0.5013\n",
      "Epoch 1/1\n",
      "1520/1520 [==============================] - 5s 4ms/step - loss: 0.6931 - acc: 0.5046\n",
      "Epoch 1/1\n",
      "1520/1520 [==============================] - 5s 4ms/step - loss: 0.6932 - acc: 0.4987\n",
      "Epoch 1/1\n",
      "1520/1520 [==============================] - 5s 4ms/step - loss: 0.6931 - acc: 0.5046\n",
      "Epoch 1/1\n",
      "1520/1520 [==============================] - 6s 4ms/step - loss: 0.6931 - acc: 0.5046\n",
      "Epoch 1/1\n",
      "1520/1520 [==============================] - 6s 4ms/step - loss: 0.6922 - acc: 0.4980\n",
      "Epoch 1/1\n",
      "1520/1520 [==============================] - 6s 4ms/step - loss: 0.6928 - acc: 0.5013\n",
      "Epoch 1/1\n",
      "1520/1520 [==============================] - 6s 4ms/step - loss: 0.6932 - acc: 0.4908\n",
      "Epoch 1/1\n",
      "1520/1520 [==============================] - 6s 4ms/step - loss: 0.6932 - acc: 0.5072\n",
      "Epoch 1/1\n",
      "1520/1520 [==============================] - 6s 4ms/step - loss: 0.6932 - acc: 0.4961\n",
      "Epoch 1/1\n",
      "1520/1520 [==============================] - 6s 4ms/step - loss: 0.6932 - acc: 0.4697\n",
      "Epoch 1/1\n",
      "1520/1520 [==============================] - 6s 4ms/step - loss: 0.6932 - acc: 0.5053\n",
      "Epoch 1/1\n",
      "1520/1520 [==============================] - 6s 4ms/step - loss: 0.6932 - acc: 0.4888\n",
      "Epoch 1/1\n",
      "1520/1520 [==============================] - 6s 4ms/step - loss: 0.6932 - acc: 0.4941\n",
      "Epoch 1/1\n",
      "1520/1520 [==============================] - 6s 4ms/step - loss: 0.6932 - acc: 0.4987\n",
      "Epoch 1/1\n",
      "1520/1520 [==============================] - 6s 4ms/step - loss: 0.6931 - acc: 0.5059\n",
      "Epoch 1/1\n",
      "1520/1520 [==============================] - 6s 4ms/step - loss: 0.6932 - acc: 0.5020\n",
      "Epoch 1/1\n",
      "1520/1520 [==============================] - 6s 4ms/step - loss: 0.6932 - acc: 0.4914\n",
      "Epoch 1/1\n",
      "1520/1520 [==============================] - 7s 5ms/step - loss: 0.6931 - acc: 0.5092\n",
      "Epoch 1/1\n",
      "1900/1900 [==============================] - 8s 4ms/step - loss: 0.6742 - acc: 0.5805\n"
     ]
    }
   ],
   "source": [
    "grid_search = grid_search.fit(X=X_train, y=y_train)"
   ]
  },
  {
   "cell_type": "code",
   "execution_count": 17,
   "metadata": {
    "ExecuteTime": {
     "end_time": "2018-10-20T04:40:48.737066Z",
     "start_time": "2018-10-20T04:40:48.716317Z"
    }
   },
   "outputs": [
    {
     "data": {
      "text/plain": [
       "{'batch_size': 10, 'nb_epoch': 200, 'optimizer': 'Nadam'}"
      ]
     },
     "execution_count": 17,
     "metadata": {},
     "output_type": "execute_result"
    }
   ],
   "source": [
    "best_params = grid_search.best_params_\n",
    "best_params"
   ]
  },
  {
   "cell_type": "code",
   "execution_count": 18,
   "metadata": {
    "ExecuteTime": {
     "end_time": "2018-10-20T04:40:48.766281Z",
     "start_time": "2018-10-20T04:40:48.739293Z"
    },
    "scrolled": true
   },
   "outputs": [
    {
     "data": {
      "text/plain": [
       "0.6163157894736843"
      ]
     },
     "execution_count": 18,
     "metadata": {},
     "output_type": "execute_result"
    }
   ],
   "source": [
    "best_accu = grid_search.best_score_\n",
    "best_accu"
   ]
  },
  {
   "cell_type": "code",
   "execution_count": 19,
   "metadata": {
    "ExecuteTime": {
     "end_time": "2018-10-20T04:40:51.334697Z",
     "start_time": "2018-10-20T04:40:48.768478Z"
    }
   },
   "outputs": [],
   "source": [
    "y_pred = grid_search.predict(X_test)\n",
    "y_pred = (y_pred > 0.5)"
   ]
  },
  {
   "cell_type": "code",
   "execution_count": 20,
   "metadata": {
    "ExecuteTime": {
     "end_time": "2018-10-20T04:40:51.359274Z",
     "start_time": "2018-10-20T04:40:51.336760Z"
    }
   },
   "outputs": [
    {
     "data": {
      "text/plain": [
       "array([[53, 14],\n",
       "       [19, 38]])"
      ]
     },
     "execution_count": 20,
     "metadata": {},
     "output_type": "execute_result"
    }
   ],
   "source": [
    "cm = confusion_matrix(y_test, y_pred)\n",
    "cm"
   ]
  },
  {
   "cell_type": "code",
   "execution_count": 21,
   "metadata": {
    "ExecuteTime": {
     "end_time": "2018-10-20T04:41:16.175429Z",
     "start_time": "2018-10-20T04:41:16.148787Z"
    }
   },
   "outputs": [
    {
     "data": {
      "text/plain": [
       "0.7580645161290323"
      ]
     },
     "execution_count": 21,
     "metadata": {},
     "output_type": "execute_result"
    }
   ],
   "source": [
    "(56+38)/(67+57)"
   ]
  },
  {
   "cell_type": "code",
   "execution_count": null,
   "metadata": {},
   "outputs": [],
   "source": []
  },
  {
   "cell_type": "code",
   "execution_count": null,
   "metadata": {},
   "outputs": [],
   "source": []
  }
 ],
 "metadata": {
  "kernelspec": {
   "display_name": "Python 3",
   "language": "python",
   "name": "python3"
  },
  "language_info": {
   "codemirror_mode": {
    "name": "ipython",
    "version": 3
   },
   "file_extension": ".py",
   "mimetype": "text/x-python",
   "name": "python",
   "nbconvert_exporter": "python",
   "pygments_lexer": "ipython3",
   "version": "3.6.6"
  }
 },
 "nbformat": 4,
 "nbformat_minor": 2
}
