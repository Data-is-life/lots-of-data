{
 "cells": [
  {
   "cell_type": "code",
   "execution_count": 1,
   "metadata": {
    "ExecuteTime": {
     "end_time": "2018-11-06T03:20:12.979828Z",
     "start_time": "2018-11-06T03:20:10.592286Z"
    }
   },
   "outputs": [
    {
     "name": "stderr",
     "output_type": "stream",
     "text": [
      "Using TensorFlow backend.\n"
     ]
    }
   ],
   "source": [
    "import pandas as pd\n",
    "import numpy as np\n",
    "import tensorflow\n",
    "import theano\n",
    "import pickle\n",
    "\n",
    "from pandas import *\n",
    "\n",
    "from sklearn.preprocessing import LabelEncoder, OneHotEncoder, StandardScaler\n",
    "from sklearn.model_selection import train_test_split, cross_val_score, GridSearchCV\n",
    "from sklearn.metrics import *\n",
    "\n",
    "from keras.models import Sequential\n",
    "from keras.layers import Dense, Dropout, LSTM\n",
    "from keras.wrappers.scikit_learn import KerasClassifier\n",
    "from keras import backend\n",
    "\n",
    "import matplotlib.pyplot as plt\n",
    "%matplotlib inline\n",
    "from sklearn.externals.joblib import parallel_backend\n",
    "from random import *"
   ]
  },
  {
   "cell_type": "code",
   "execution_count": 2,
   "metadata": {
    "ExecuteTime": {
     "end_time": "2018-11-06T03:20:13.022763Z",
     "start_time": "2018-11-06T03:20:12.982010Z"
    }
   },
   "outputs": [],
   "source": [
    "df = pd.read_csv('../data/df_for_model.csv')\n",
    "# df['start_time'] = df['start_time']//1000\n",
    "df = df[df['result'] != 0.5]"
   ]
  },
  {
   "cell_type": "code",
   "execution_count": 3,
   "metadata": {
    "ExecuteTime": {
     "end_time": "2018-11-06T03:20:13.047533Z",
     "start_time": "2018-11-06T03:20:13.025556Z"
    }
   },
   "outputs": [],
   "source": [
    "bins = list(range(-2000, -499, 50))\n",
    "bins.extend(list(range(-490, -199, 10)))\n",
    "bins.extend(list(range(-195, 196, 5)))\n",
    "bins.extend(list(range(200, 501, 10)))\n",
    "bins.extend(list(range(550, 2001, 50)))"
   ]
  },
  {
   "cell_type": "code",
   "execution_count": 4,
   "metadata": {
    "ExecuteTime": {
     "end_time": "2018-11-06T03:20:13.238463Z",
     "start_time": "2018-11-06T03:20:13.050044Z"
    }
   },
   "outputs": [],
   "source": [
    "df['diff_bin'] = pd.cut(df['diff'], bins=bins, labels=bins[:len(bins)-1])"
   ]
  },
  {
   "cell_type": "code",
   "execution_count": 5,
   "metadata": {
    "ExecuteTime": {
     "end_time": "2018-11-06T03:20:13.261591Z",
     "start_time": "2018-11-06T03:20:13.240993Z"
    }
   },
   "outputs": [],
   "source": [
    "numeric_predictors = ['color', 'diff_bin', 'game_time', 'start_time', 'weekday']\n",
    "# X = df[numeric_predictors].values\n",
    "X = df[numeric_predictors]\n",
    "y = np.array(df['result'])"
   ]
  },
  {
   "cell_type": "code",
   "execution_count": 6,
   "metadata": {
    "ExecuteTime": {
     "end_time": "2018-11-06T03:20:13.284631Z",
     "start_time": "2018-11-06T03:20:13.263298Z"
    }
   },
   "outputs": [
    {
     "data": {
      "text/plain": [
       "(2076, 5)"
      ]
     },
     "execution_count": 6,
     "metadata": {},
     "output_type": "execute_result"
    }
   ],
   "source": [
    "X.shape"
   ]
  },
  {
   "cell_type": "code",
   "execution_count": 7,
   "metadata": {
    "ExecuteTime": {
     "end_time": "2018-11-06T03:20:13.312782Z",
     "start_time": "2018-11-06T03:20:13.286198Z"
    },
    "scrolled": true
   },
   "outputs": [
    {
     "data": {
      "text/plain": [
       "(2076,)"
      ]
     },
     "execution_count": 7,
     "metadata": {},
     "output_type": "execute_result"
    }
   ],
   "source": [
    "y.shape"
   ]
  },
  {
   "cell_type": "code",
   "execution_count": 8,
   "metadata": {
    "ExecuteTime": {
     "end_time": "2018-11-06T03:20:13.342734Z",
     "start_time": "2018-11-06T03:20:13.315032Z"
    }
   },
   "outputs": [],
   "source": [
    "X = X.astype('float64')\n",
    "y = y.astype('int64')"
   ]
  },
  {
   "cell_type": "code",
   "execution_count": 9,
   "metadata": {
    "ExecuteTime": {
     "end_time": "2018-11-06T03:20:13.368799Z",
     "start_time": "2018-11-06T03:20:13.346687Z"
    }
   },
   "outputs": [],
   "source": [
    "# X_train, X_test, y_train, y_test = train_test_split(X, y, test_size = 0.15, random_state=6)"
   ]
  },
  {
   "cell_type": "code",
   "execution_count": 10,
   "metadata": {
    "ExecuteTime": {
     "end_time": "2018-11-06T03:20:13.393631Z",
     "start_time": "2018-11-06T03:20:13.370469Z"
    }
   },
   "outputs": [
    {
     "data": {
      "text/plain": [
       "1833"
      ]
     },
     "execution_count": 10,
     "metadata": {},
     "output_type": "execute_result"
    }
   ],
   "source": [
    "limi = randint(int(len(X)*.85), int(len(X)*.9))\n",
    "limi"
   ]
  },
  {
   "cell_type": "code",
   "execution_count": 11,
   "metadata": {
    "ExecuteTime": {
     "end_time": "2018-11-06T03:20:13.416748Z",
     "start_time": "2018-11-06T03:20:13.395193Z"
    }
   },
   "outputs": [],
   "source": [
    "X_train = X[:limi]\n",
    "y_train = y[:limi]\n",
    "X_test = X[limi:]\n",
    "y_test = y[limi:]"
   ]
  },
  {
   "cell_type": "code",
   "execution_count": 12,
   "metadata": {
    "ExecuteTime": {
     "end_time": "2018-11-06T03:20:13.445289Z",
     "start_time": "2018-11-06T03:20:13.418370Z"
    }
   },
   "outputs": [
    {
     "data": {
      "text/plain": [
       "(1833, 5)"
      ]
     },
     "execution_count": 12,
     "metadata": {},
     "output_type": "execute_result"
    }
   ],
   "source": [
    "X_train.shape"
   ]
  },
  {
   "cell_type": "code",
   "execution_count": 13,
   "metadata": {
    "ExecuteTime": {
     "end_time": "2018-11-06T03:20:13.473430Z",
     "start_time": "2018-11-06T03:20:13.446899Z"
    }
   },
   "outputs": [
    {
     "data": {
      "text/plain": [
       "(243, 5)"
      ]
     },
     "execution_count": 13,
     "metadata": {},
     "output_type": "execute_result"
    }
   ],
   "source": [
    "X_test.shape"
   ]
  },
  {
   "cell_type": "code",
   "execution_count": 14,
   "metadata": {
    "ExecuteTime": {
     "end_time": "2018-11-06T03:20:13.505618Z",
     "start_time": "2018-11-06T03:20:13.475499Z"
    }
   },
   "outputs": [
    {
     "data": {
      "text/plain": [
       "(1833,)"
      ]
     },
     "execution_count": 14,
     "metadata": {},
     "output_type": "execute_result"
    }
   ],
   "source": [
    "y_train.shape"
   ]
  },
  {
   "cell_type": "code",
   "execution_count": 15,
   "metadata": {
    "ExecuteTime": {
     "end_time": "2018-11-06T03:20:13.566515Z",
     "start_time": "2018-11-06T03:20:13.507384Z"
    }
   },
   "outputs": [],
   "source": [
    "std_sclr = StandardScaler()\n",
    "X_train = std_sclr.fit_transform(X_train)\n",
    "X_test = std_sclr.fit_transform(X_test)"
   ]
  },
  {
   "cell_type": "code",
   "execution_count": 16,
   "metadata": {
    "ExecuteTime": {
     "end_time": "2018-11-06T03:20:13.587576Z",
     "start_time": "2018-11-06T03:20:13.568360Z"
    }
   },
   "outputs": [],
   "source": [
    "# std_sclr.scale_"
   ]
  },
  {
   "cell_type": "code",
   "execution_count": 17,
   "metadata": {
    "ExecuteTime": {
     "end_time": "2018-11-06T03:20:13.616990Z",
     "start_time": "2018-11-06T03:20:13.589195Z"
    }
   },
   "outputs": [],
   "source": [
    "# def _classifier():\n",
    "#     classifier = Sequential()\n",
    "\n",
    "#     classifier.add(Dense(units=13, kernel_initializer='uniform',\n",
    "#                          activation='relu', input_dim=5))\n",
    "\n",
    "#     classifier.add(\n",
    "#         Dense(units=83, kernel_initializer='uniform', activation='softmax'))\n",
    "\n",
    "#     classifier.add(\n",
    "#         Dense(units=13, kernel_initializer='uniform', activation='relu'))\n",
    "\n",
    "# #     classifier.add(\n",
    "# #         Dense(units=109, kernel_initializer='uniform', activation='softmax'))\n",
    "\n",
    "# #     classifier.add(\n",
    "# #         Dense(units=47, kernel_initializer='uniform', activation='relu'))\n",
    "\n",
    "# #     classifier.add(\n",
    "# #         Dense(units=11, kernel_initializer='uniform', activation='softmax'))\n",
    "\n",
    "#     classifier.add(\n",
    "#         Dense(units=1, kernel_initializer='uniform', activation='sigmoid'))\n",
    "\n",
    "#     classifier.compile(\n",
    "#         optimizer='sgd', loss='binary_crossentropy', metrics=['hinge'])\n",
    "\n",
    "#     return classifier"
   ]
  },
  {
   "cell_type": "code",
   "execution_count": 18,
   "metadata": {
    "ExecuteTime": {
     "end_time": "2018-11-06T03:20:13.650206Z",
     "start_time": "2018-11-06T03:20:13.620301Z"
    }
   },
   "outputs": [],
   "source": [
    "def dropout_classifier(optimizer, metrics):\n",
    "    classifier = Sequential()\n",
    "    classifier.add(Dense(units=5, kernel_initializer='uniform',\n",
    "                         activation='relu', input_dim=5))\n",
    "    classifier.add(Dropout(rate=0.16))\n",
    "    classifier.add(\n",
    "        Dense(units=23, kernel_initializer='uniform', activation='softmax'))\n",
    "    classifier.add(Dropout(rate=0.08))\n",
    "    classifier.add(\n",
    "        Dense(units=8, kernel_initializer='uniform', activation='relu'))\n",
    "    classifier.add(Dropout(rate=0.04))\n",
    "    classifier.add(\n",
    "        Dense(units=1, kernel_initializer='uniform', activation='tanh'))\n",
    "\n",
    "    classifier.compile(\n",
    "        optimizer=optimizer, loss='binary_crossentropy', metrics=[metrics])\n",
    "    return classifier"
   ]
  },
  {
   "cell_type": "code",
   "execution_count": 19,
   "metadata": {
    "ExecuteTime": {
     "end_time": "2018-11-06T03:20:14.039987Z",
     "start_time": "2018-11-06T03:20:14.004877Z"
    }
   },
   "outputs": [
    {
     "name": "stdout",
     "output_type": "stream",
     "text": [
      "[19, 26, 132, 215]\n"
     ]
    }
   ],
   "source": [
    "bs_1 = randint(10,20)\n",
    "bs_2 = randint(20,30)\n",
    "ep_1 = randint(100,200)\n",
    "ep_2 = randint(200,300)\n",
    "\n",
    "print([bs_1, bs_2, ep_1, ep_2])"
   ]
  },
  {
   "cell_type": "code",
   "execution_count": 20,
   "metadata": {
    "ExecuteTime": {
     "end_time": "2018-11-06T03:20:14.343428Z",
     "start_time": "2018-11-06T03:20:14.308487Z"
    }
   },
   "outputs": [],
   "source": [
    "parameters = {'batch_size': [bs_1, bs_2],\n",
    "              'nb_epoch': [ep_1, ep_2],\n",
    "              'optimizer': ['Nadam', 'SGD', 'RMSprop'],\n",
    "              'metrics': ['accuracy', 'hinge', 'mape']\n",
    "              }"
   ]
  },
  {
   "cell_type": "code",
   "execution_count": 21,
   "metadata": {
    "ExecuteTime": {
     "end_time": "2018-11-06T03:20:15.765509Z",
     "start_time": "2018-11-06T03:20:15.742914Z"
    }
   },
   "outputs": [],
   "source": [
    "classifier = KerasClassifier(build_fn=dropout_classifier)"
   ]
  },
  {
   "cell_type": "code",
   "execution_count": 22,
   "metadata": {
    "ExecuteTime": {
     "end_time": "2018-11-06T03:20:16.659444Z",
     "start_time": "2018-11-06T03:20:16.634470Z"
    }
   },
   "outputs": [],
   "source": [
    "grid_search = GridSearchCV(classifier, parameters,\n",
    "                           scoring='balanced_accuracy', cv=5, n_jobs=-2)"
   ]
  },
  {
   "cell_type": "code",
   "execution_count": null,
   "metadata": {
    "ExecuteTime": {
     "start_time": "2018-11-06T03:20:17.456Z"
    },
    "scrolled": true
   },
   "outputs": [
    {
     "name": "stdout",
     "output_type": "stream",
     "text": [
      "Epoch 1/1\n",
      "1466/1466 [==============================] - 1s 661us/step - loss: 1.8553 - acc: 0.5007\n",
      "Epoch 1/1\n",
      "1466/1466 [==============================] - 1s 661us/step - loss: 2.5490 - acc: 0.5089\n",
      "Epoch 1/1\n",
      "1466/1466 [==============================] - 1s 702us/step - loss: 7.9711 - acc: 0.5055\n",
      "Epoch 1/1\n",
      "1467/1467 [==============================] - 1s 702us/step - loss: 2.0759 - acc: 0.5003\n",
      "Epoch 1/1\n",
      "1467/1467 [==============================] - 1s 746us/step - loss: 2.1653 - acc: 0.5078\n",
      "Epoch 1/1\n",
      "1466/1466 [==============================] - 1s 659us/step - loss: 7.9615 - acc: 0.4986\n",
      "Epoch 1/1\n",
      "1466/1466 [==============================] - 1s 685us/step - loss: 8.0395 - acc: 0.4932\n",
      "Epoch 1/1\n",
      "1466/1466 [==============================] - 1s 647us/step - loss: 4.1472 - acc: 0.4966\n",
      "Epoch 1/1\n",
      "1467/1467 [==============================] - 1s 669us/step - loss: 7.9176 - acc: 0.5017\n",
      "Epoch 1/1\n",
      "1467/1467 [==============================] - 1s 711us/step - loss: 6.4868 - acc: 0.4942\n",
      "Epoch 1/1\n",
      "1466/1466 [==============================] - 1s 769us/step - loss: 1.9777 - acc: 0.5007\n",
      "Epoch 1/1\n",
      "1466/1466 [==============================] - 1s 802us/step - loss: 2.1920 - acc: 0.5089\n",
      "Epoch 1/1\n",
      "1466/1466 [==============================] - 1s 868us/step - loss: 2.1920 - acc: 0.5055\n",
      "Epoch 1/1\n",
      "1467/1467 [==============================] - 1s 863us/step - loss: 2.1074 - acc: 0.5003\n",
      "Epoch 1/1\n",
      "1467/1467 [==============================] - 1s 923us/step - loss: 7.9327 - acc: 0.5078\n",
      "Epoch 1/1\n",
      "1466/1466 [==============================] - 1s 957us/step - loss: 1.9077 - acc: 0.5007\n",
      "Epoch 1/1\n",
      "1466/1466 [==============================] - 1s 977us/step - loss: 1.7413 - acc: 0.5089\n",
      "Epoch 1/1\n",
      "1466/1466 [==============================] - 2s 1ms/step - loss: 2.4574 - acc: 0.5055\n",
      "Epoch 1/1\n",
      "1467/1467 [==============================] - 2s 1ms/step - loss: 1.8800 - acc: 0.5003\n",
      "Epoch 1/1\n",
      "1467/1467 [==============================] - 2s 1ms/step - loss: 2.1446 - acc: 0.5078\n",
      "Epoch 1/1\n",
      "1466/1466 [==============================] - 2s 1ms/step - loss: 7.9443 - acc: 0.4986\n",
      "Epoch 1/1\n",
      "1466/1466 [==============================] - 1s 988us/step - loss: 7.9161 - acc: 0.5089\n",
      "Epoch 1/1\n",
      "1466/1466 [==============================] - 1s 994us/step - loss: 7.9711 - acc: 0.5055\n",
      "Epoch 1/1\n",
      "1467/1467 [==============================] - 2s 1ms/step - loss: 7.8792 - acc: 0.5058\n",
      "Epoch 1/1\n",
      "1467/1467 [==============================] - 2s 1ms/step - loss: 8.0616 - acc: 0.4942\n",
      "Epoch 1/1\n",
      "1466/1466 [==============================] - 2s 1ms/step - loss: 1.8981 - acc: 0.5007\n",
      "Epoch 1/1\n",
      "1466/1466 [==============================] - 2s 1ms/step - loss: 3.4856 - acc: 0.5089\n",
      "Epoch 1/1\n",
      "1466/1466 [==============================] - 2s 1ms/step - loss: 7.9711 - acc: 0.5055\n",
      "Epoch 1/1\n",
      "1467/1467 [==============================] - 2s 1ms/step - loss: 2.1739 - acc: 0.5003\n",
      "Epoch 1/1\n",
      "1467/1467 [==============================] - 2s 1ms/step - loss: 1.9232 - acc: 0.5078\n",
      "Epoch 1/1\n",
      "1466/1466 [==============================] - 2s 2ms/step - loss: 1.9935 - hinge: 0.9876\n",
      "Epoch 1/1\n",
      "1466/1466 [==============================] - 2s 2ms/step - loss: 7.9161 - hinge: 1.0033\n",
      "Epoch 1/1\n",
      "1466/1466 [==============================] - 2s 2ms/step - loss: 3.1744 - hinge: 0.9965\n",
      "Epoch 1/1\n",
      "1467/1467 [==============================] - 2s 2ms/step - loss: 1.6613 - hinge: 0.9711\n",
      "Epoch 1/1\n",
      "1467/1467 [==============================] - 2s 1ms/step - loss: 2.0070 - hinge: 0.9869\n",
      "Epoch 1/1\n",
      "1466/1466 [==============================] - 2s 1ms/step - loss: 7.9859 - hinge: 0.5075\n",
      "Epoch 1/1\n",
      "1466/1466 [==============================] - 2s 2ms/step - loss: 7.9161 - hinge: 1.0002\n",
      "Epoch 1/1\n",
      "1466/1466 [==============================] - 2s 2ms/step - loss: 7.9711 - hinge: 1.0004\n",
      "Epoch 1/1\n",
      "1467/1467 [==============================] - 2s 1ms/step - loss: 8.0536 - hinge: 1.0011\n",
      "Epoch 1/1\n",
      "1467/1467 [==============================] - 2s 2ms/step - loss: 6.0767 - hinge: 0.5133\n",
      "Epoch 1/1\n",
      "1466/1466 [==============================] - 2s 2ms/step - loss: 2.1784 - hinge: 0.9871\n",
      "Epoch 1/1\n",
      "1466/1466 [==============================] - 2s 2ms/step - loss: 7.9161 - hinge: 1.0009\n",
      "Epoch 1/1\n",
      "1466/1466 [==============================] - 2s 2ms/step - loss: 2.1297 - hinge: 0.9908\n",
      "Epoch 1/1\n",
      "1467/1467 [==============================] - 2s 2ms/step - loss: 2.0258 - hinge: 0.9885\n",
      "Epoch 1/1\n"
     ]
    }
   ],
   "source": [
    "grid_search = grid_search.fit(X=X_train, y=y_train, shuffle=False)"
   ]
  },
  {
   "cell_type": "code",
   "execution_count": null,
   "metadata": {
    "ExecuteTime": {
     "end_time": "2018-11-06T03:10:44.225794Z",
     "start_time": "2018-11-06T03:09:28.562Z"
    }
   },
   "outputs": [],
   "source": [
    "best_params = grid_search.best_params_\n",
    "best_params"
   ]
  },
  {
   "cell_type": "code",
   "execution_count": null,
   "metadata": {
    "ExecuteTime": {
     "end_time": "2018-11-06T03:10:44.227090Z",
     "start_time": "2018-11-06T03:09:29.010Z"
    }
   },
   "outputs": [],
   "source": [
    "best_accu = grid_search.best_score_\n",
    "best_accu"
   ]
  },
  {
   "cell_type": "code",
   "execution_count": null,
   "metadata": {
    "ExecuteTime": {
     "end_time": "2018-11-06T03:10:44.228355Z",
     "start_time": "2018-11-06T03:09:30.015Z"
    }
   },
   "outputs": [],
   "source": [
    "grid_search.cv_results_"
   ]
  },
  {
   "cell_type": "code",
   "execution_count": null,
   "metadata": {
    "ExecuteTime": {
     "end_time": "2018-11-06T03:10:44.229726Z",
     "start_time": "2018-11-06T03:09:30.755Z"
    }
   },
   "outputs": [],
   "source": [
    "y_pred = grid_search.predict(X_test)\n",
    "y_pred = (y_pred > 0.5)"
   ]
  },
  {
   "cell_type": "code",
   "execution_count": null,
   "metadata": {
    "ExecuteTime": {
     "end_time": "2018-11-06T03:10:44.230893Z",
     "start_time": "2018-11-06T03:09:31.526Z"
    }
   },
   "outputs": [],
   "source": [
    "cm = confusion_matrix(y_test, y_pred)\n",
    "cm"
   ]
  },
  {
   "cell_type": "code",
   "execution_count": null,
   "metadata": {
    "ExecuteTime": {
     "end_time": "2018-11-06T03:10:44.232285Z",
     "start_time": "2018-11-06T03:09:32.372Z"
    }
   },
   "outputs": [],
   "source": [
    "print(f'classification_report:\\n{classification_report(y_test, y_pred)}')\n",
    "print('---------------------------------------------------------------\\n\\n')\n",
    "print(f'average_precision_score:\\n{average_precision_score(y_test, y_pred)}')\n",
    "print('---------------------------------------------------------------\\n\\n')\n",
    "print(f'f1_score:\\n{f1_score(y_test, y_pred)}')\n",
    "print('---------------------------------------------------------------\\n\\n')\n",
    "print(f'accuracy_score:\\n{accuracy_score(y_test, y_pred)}')\n",
    "print('---------------------------------------------------------------\\n\\n')\n",
    "print(f'cohen_kappa_score:\\n{cohen_kappa_score(y_test, y_pred)}')\n",
    "print('---------------------------------------------------------------\\n\\n')\n",
    "print(f'roc_curve:\\n{roc_curve(y_test, y_pred)}')\n",
    "print('---------------------------------------------------------------\\n\\n')\n",
    "print(f'roc_auc_score:\\n{roc_auc_score(y_test, y_pred)}')\n",
    "print('---------------------------------------------------------------\\n\\n')\n",
    "print(f'brier_score_loss:\\n{brier_score_loss(y_test, y_pred)}')\n",
    "print('---------------------------------------------------------------\\n\\n')\n",
    "print(recall_score(y_test, y_pred))"
   ]
  },
  {
   "cell_type": "code",
   "execution_count": null,
   "metadata": {
    "ExecuteTime": {
     "end_time": "2018-11-06T03:10:44.233642Z",
     "start_time": "2018-11-06T03:09:33.847Z"
    }
   },
   "outputs": [],
   "source": [
    "print(f'Accuracy = {round((cm[0][0]+cm[1][1])/(cm.sum())/.01,1)}%')"
   ]
  },
  {
   "cell_type": "code",
   "execution_count": 47,
   "metadata": {
    "ExecuteTime": {
     "end_time": "2018-11-06T02:50:09.373874Z",
     "start_time": "2018-11-06T02:50:09.191437Z"
    }
   },
   "outputs": [
    {
     "ename": "NameError",
     "evalue": "name 'history' is not defined",
     "output_type": "error",
     "traceback": [
      "\u001b[0;31m---------------------------------------------------------------------------\u001b[0m",
      "\u001b[0;31mNameError\u001b[0m                                 Traceback (most recent call last)",
      "\u001b[0;32m<ipython-input-47-2661688c08ef>\u001b[0m in \u001b[0;36m<module>\u001b[0;34m\u001b[0m\n\u001b[0;32m----> 1\u001b[0;31m \u001b[0mplt\u001b[0m\u001b[0;34m.\u001b[0m\u001b[0mplot\u001b[0m\u001b[0;34m(\u001b[0m\u001b[0mhistory\u001b[0m\u001b[0;34m.\u001b[0m\u001b[0mhistory\u001b[0m\u001b[0;34m[\u001b[0m\u001b[0;34m'acc'\u001b[0m\u001b[0;34m]\u001b[0m\u001b[0;34m)\u001b[0m\u001b[0;34m\u001b[0m\u001b[0m\n\u001b[0m\u001b[1;32m      2\u001b[0m \u001b[0mplt\u001b[0m\u001b[0;34m.\u001b[0m\u001b[0mplot\u001b[0m\u001b[0;34m(\u001b[0m\u001b[0mhistory\u001b[0m\u001b[0;34m.\u001b[0m\u001b[0mhistory\u001b[0m\u001b[0;34m[\u001b[0m\u001b[0;34m'val_acc'\u001b[0m\u001b[0;34m]\u001b[0m\u001b[0;34m)\u001b[0m\u001b[0;34m\u001b[0m\u001b[0m\n\u001b[1;32m      3\u001b[0m \u001b[0mplt\u001b[0m\u001b[0;34m.\u001b[0m\u001b[0mtitle\u001b[0m\u001b[0;34m(\u001b[0m\u001b[0;34m'model accuracy'\u001b[0m\u001b[0;34m)\u001b[0m\u001b[0;34m\u001b[0m\u001b[0m\n\u001b[1;32m      4\u001b[0m \u001b[0mplt\u001b[0m\u001b[0;34m.\u001b[0m\u001b[0mylabel\u001b[0m\u001b[0;34m(\u001b[0m\u001b[0;34m'accuracy'\u001b[0m\u001b[0;34m)\u001b[0m\u001b[0;34m\u001b[0m\u001b[0m\n\u001b[1;32m      5\u001b[0m \u001b[0mplt\u001b[0m\u001b[0;34m.\u001b[0m\u001b[0mxlabel\u001b[0m\u001b[0;34m(\u001b[0m\u001b[0;34m'epoch'\u001b[0m\u001b[0;34m)\u001b[0m\u001b[0;34m\u001b[0m\u001b[0m\n",
      "\u001b[0;31mNameError\u001b[0m: name 'history' is not defined"
     ]
    }
   ],
   "source": [
    "plt.plot(grid_search.grid_search['acc'])\n",
    "plt.plot(grid_search.grid_search['val_acc'])\n",
    "plt.title('model accuracy')\n",
    "plt.ylabel('accuracy')\n",
    "plt.xlabel('epoch')\n",
    "plt.legend(['train', 'test'], loc='upper left')\n",
    "plt.show()\n",
    "# summarize history for loss\n",
    "plt.plot(grid_search.grid_search['loss'])\n",
    "plt.plot(grid_search.grid_search['val_loss'])\n",
    "plt.title('model loss')\n",
    "plt.ylabel('loss')\n",
    "plt.xlabel('epoch')\n",
    "plt.legend(['train', 'test'], loc='upper left')\n",
    "plt.show()"
   ]
  },
  {
   "cell_type": "code",
   "execution_count": null,
   "metadata": {},
   "outputs": [],
   "source": [
    "def dropout_classifier_set():\n",
    "    classifier = Sequential()\n",
    "    classifier.add(Dense(units=5, kernel_initializer='uniform',\n",
    "                         activation='relu', input_dim=5))\n",
    "    classifier.add(Dropout(rate=0.12))\n",
    "    classifier.add(\n",
    "        Dense(units=40, kernel_initializer='uniform', activation='relu'))\n",
    "    classifier.add(Dropout(rate=0.08))\n",
    "    classifier.add(\n",
    "        Dense(units=8, kernel_initializer='uniform', activation='relu'))\n",
    "    classifier.add(Dropout(rate=0.04))\n",
    "    classifier.add(\n",
    "        Dense(units=1, kernel_initializer='uniform', activation='sigmoid'))\n",
    "\n",
    "    classifier.compile(\n",
    "        optimizer='Nadam', loss='binary_crossentropy', metrics=['accuracy'])\n",
    "    return classifier"
   ]
  },
  {
   "cell_type": "code",
   "execution_count": null,
   "metadata": {
    "ExecuteTime": {
     "end_time": "2018-11-06T02:07:56.507508Z",
     "start_time": "2018-11-06T02:07:56.382426Z"
    }
   },
   "outputs": [],
   "source": [
    "# classifier = dropout_classifier()"
   ]
  },
  {
   "cell_type": "code",
   "execution_count": null,
   "metadata": {
    "ExecuteTime": {
     "end_time": "2018-11-06T02:00:29.458678Z",
     "start_time": "2018-11-06T02:00:26.411432Z"
    }
   },
   "outputs": [],
   "source": [
    "classifier.fit(X_train, y_train, batch_size=13, \n",
    "                   epochs=250, shuffle=False)"
   ]
  },
  {
   "cell_type": "code",
   "execution_count": null,
   "metadata": {
    "ExecuteTime": {
     "end_time": "2018-11-01T03:36:03.807645Z",
     "start_time": "2018-11-01T03:30:47.503827Z"
    },
    "scrolled": true
   },
   "outputs": [],
   "source": [
    "batch_list = [134, 67, 28, 14, 7, 4]\n",
    "for num in batch_list:\n",
    "    classifier.fit(X_train, y_train, batch_size=num, \n",
    "                   epochs=100, shuffle=False)"
   ]
  },
  {
   "cell_type": "code",
   "execution_count": null,
   "metadata": {
    "ExecuteTime": {
     "end_time": "2018-11-06T01:59:15.011869Z",
     "start_time": "2018-11-06T01:59:14.947060Z"
    }
   },
   "outputs": [],
   "source": [
    "y_pred = classifier.predict(X_test)\n",
    "y_pred = (y_pred > 0.5)"
   ]
  },
  {
   "cell_type": "code",
   "execution_count": null,
   "metadata": {
    "ExecuteTime": {
     "end_time": "2018-11-06T01:59:15.038301Z",
     "start_time": "2018-11-06T01:59:15.014182Z"
    }
   },
   "outputs": [],
   "source": [
    "cm = confusion_matrix(y_test, y_pred)\n",
    "cm"
   ]
  },
  {
   "cell_type": "code",
   "execution_count": null,
   "metadata": {
    "ExecuteTime": {
     "end_time": "2018-11-06T01:59:15.064651Z",
     "start_time": "2018-11-06T01:59:15.040771Z"
    }
   },
   "outputs": [],
   "source": [
    "print(f'Accuracy = {(cm[0][0]+cm[1][1])/(cm.sum())/.01}%')"
   ]
  },
  {
   "cell_type": "markdown",
   "metadata": {},
   "source": [
    "### 75.5% Accuracy on 1824 training, 200 test\n",
    "__3 layers__\n",
    "- layer 1 = ReLU X 7\n",
    "- layer 2 = SoftMax X 14\n",
    "- layer 3 = ReLU X 7\n",
    "- output layer = Sigmoid X 1\n",
    "\n",
    "__metrics__ = Cosine\n",
    "\n",
    "__loss__ = binary_crossentropy\n",
    "\n",
    "__Optimizer__ = Nadam\n",
    "\n",
    "__Batch size__ = 12\n",
    "\n",
    "__Epochs__ = 175\n",
    "\n",
    "no __diff__"
   ]
  },
  {
   "cell_type": "code",
   "execution_count": null,
   "metadata": {
    "ExecuteTime": {
     "end_time": "2018-11-01T02:47:51.033028Z",
     "start_time": "2018-11-01T02:47:51.008356Z"
    }
   },
   "outputs": [],
   "source": [
    "classifier = KerasClassifier(build_fn=_classifier, batch_size=12, epochs=200)"
   ]
  },
  {
   "cell_type": "code",
   "execution_count": null,
   "metadata": {
    "ExecuteTime": {
     "end_time": "2018-11-01T03:01:42.422218Z",
     "start_time": "2018-11-01T02:47:51.405705Z"
    }
   },
   "outputs": [],
   "source": [
    "accus = cross_val_score(estimator=classifier, X=X_train,\n",
    "                        y=y_train, cv=10, n_jobs=-2, scoring='accuracy')\n",
    "accus"
   ]
  },
  {
   "cell_type": "code",
   "execution_count": null,
   "metadata": {
    "ExecuteTime": {
     "end_time": "2018-11-01T03:02:09.616879Z",
     "start_time": "2018-11-01T03:02:09.580513Z"
    }
   },
   "outputs": [],
   "source": [
    "accu_mean = accus.mean()\n",
    "accu_mean"
   ]
  },
  {
   "cell_type": "code",
   "execution_count": null,
   "metadata": {
    "ExecuteTime": {
     "end_time": "2018-11-01T03:02:11.524193Z",
     "start_time": "2018-11-01T03:02:11.498485Z"
    }
   },
   "outputs": [],
   "source": [
    "accu_var = accus.std()\n",
    "accu_var"
   ]
  },
  {
   "cell_type": "code",
   "execution_count": null,
   "metadata": {
    "ExecuteTime": {
     "end_time": "2018-11-01T03:02:26.103511Z",
     "start_time": "2018-11-01T03:02:26.077809Z"
    }
   },
   "outputs": [],
   "source": [
    "accus"
   ]
  },
  {
   "cell_type": "code",
   "execution_count": null,
   "metadata": {
    "ExecuteTime": {
     "end_time": "2018-11-06T02:06:30.726406Z",
     "start_time": "2018-11-06T02:06:30.701155Z"
    }
   },
   "outputs": [],
   "source": [
    "def dropout_classifier(optimizer, metrics):\n",
    "    classifier = Sequential()\n",
    "    classifier.add(Dense(units=5, kernel_initializer='uniform',\n",
    "                         activation='relu', input_dim=5))\n",
    "    classifier.add(Dropout(rate=0.12))\n",
    "    classifier.add(\n",
    "        Dense(units=40, kernel_initializer='uniform', activation='relu'))\n",
    "    classifier.add(Dropout(rate=0.08))\n",
    "    classifier.add(\n",
    "        Dense(units=8, kernel_initializer='uniform', activation='relu'))\n",
    "    classifier.add(Dropout(rate=0.04))\n",
    "    classifier.add(\n",
    "        Dense(units=1, kernel_initializer='uniform', activation='sigmoid'))\n",
    "\n",
    "    classifier.compile(\n",
    "        optimizer=optimizer, loss='binary_crossentropy', metrics=[metrics])\n",
    "    return classifier"
   ]
  },
  {
   "cell_type": "code",
   "execution_count": null,
   "metadata": {
    "ExecuteTime": {
     "end_time": "2018-11-06T02:07:15.850794Z",
     "start_time": "2018-11-06T02:07:00.414066Z"
    },
    "scrolled": true
   },
   "outputs": [],
   "source": []
  },
  {
   "cell_type": "code",
   "execution_count": null,
   "metadata": {},
   "outputs": [],
   "source": []
  }
 ],
 "metadata": {
  "kernelspec": {
   "display_name": "Python 3",
   "language": "python",
   "name": "python3"
  },
  "language_info": {
   "codemirror_mode": {
    "name": "ipython",
    "version": 3
   },
   "file_extension": ".py",
   "mimetype": "text/x-python",
   "name": "python",
   "nbconvert_exporter": "python",
   "pygments_lexer": "ipython3",
   "version": "3.6.6"
  },
  "latex_envs": {
   "LaTeX_envs_menu_present": true,
   "autoclose": false,
   "autocomplete": true,
   "bibliofile": "biblio.bib",
   "cite_by": "apalike",
   "current_citInitial": 1,
   "eqLabelWithNumbers": true,
   "eqNumInitial": 1,
   "hotkeys": {
    "equation": "Ctrl-E",
    "itemize": "Ctrl-I"
   },
   "labels_anchors": false,
   "latex_user_defs": false,
   "report_style_numbering": false,
   "user_envs_cfg": false
  }
 },
 "nbformat": 4,
 "nbformat_minor": 2
}
