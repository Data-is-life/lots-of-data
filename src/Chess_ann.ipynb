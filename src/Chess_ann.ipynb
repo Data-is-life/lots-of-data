{
 "cells": [
  {
   "cell_type": "code",
   "execution_count": 1,
   "metadata": {
    "ExecuteTime": {
     "end_time": "2018-11-06T03:20:12.979828Z",
     "start_time": "2018-11-06T03:20:10.592286Z"
    }
   },
   "outputs": [
    {
     "name": "stderr",
     "output_type": "stream",
     "text": [
      "Using TensorFlow backend.\n"
     ]
    }
   ],
   "source": [
    "import pandas as pd\n",
    "import numpy as np\n",
    "import tensorflow\n",
    "import theano\n",
    "import pickle\n",
    "\n",
    "from pandas import *\n",
    "\n",
    "from sklearn.preprocessing import LabelEncoder, OneHotEncoder, StandardScaler\n",
    "from sklearn.model_selection import train_test_split, cross_val_score, GridSearchCV\n",
    "from sklearn.metrics import *\n",
    "\n",
    "from keras.models import Sequential\n",
    "from keras.layers import Dense, Dropout, LSTM\n",
    "from keras.wrappers.scikit_learn import KerasClassifier\n",
    "from keras import backend\n",
    "\n",
    "import matplotlib.pyplot as plt\n",
    "%matplotlib inline\n",
    "from sklearn.externals.joblib import parallel_backend\n",
    "from random import *"
   ]
  },
  {
   "cell_type": "code",
   "execution_count": 2,
   "metadata": {
    "ExecuteTime": {
     "end_time": "2018-11-06T03:20:13.022763Z",
     "start_time": "2018-11-06T03:20:12.982010Z"
    }
   },
   "outputs": [],
   "source": [
    "df = pd.read_csv('../data/df_for_model.csv')\n",
    "# df['start_time'] = df['start_time']//1000\n",
    "df = df[df['result'] != 0.5]"
   ]
  },
  {
   "cell_type": "code",
   "execution_count": 3,
   "metadata": {
    "ExecuteTime": {
     "end_time": "2018-11-06T03:20:13.047533Z",
     "start_time": "2018-11-06T03:20:13.025556Z"
    }
   },
   "outputs": [],
   "source": [
    "bins = list(range(-2000, -499, 50))\n",
    "bins.extend(list(range(-490, -199, 10)))\n",
    "bins.extend(list(range(-195, 196, 5)))\n",
    "bins.extend(list(range(200, 501, 10)))\n",
    "bins.extend(list(range(550, 2001, 50)))"
   ]
  },
  {
   "cell_type": "code",
   "execution_count": 4,
   "metadata": {
    "ExecuteTime": {
     "end_time": "2018-11-06T03:20:13.238463Z",
     "start_time": "2018-11-06T03:20:13.050044Z"
    }
   },
   "outputs": [],
   "source": [
    "df['diff_bin'] = pd.cut(df['diff'], bins=bins, labels=bins[:len(bins)-1])"
   ]
  },
  {
   "cell_type": "code",
   "execution_count": 5,
   "metadata": {
    "ExecuteTime": {
     "end_time": "2018-11-06T03:20:13.261591Z",
     "start_time": "2018-11-06T03:20:13.240993Z"
    }
   },
   "outputs": [],
   "source": [
    "numeric_predictors = ['color', 'diff_bin', 'game_time', 'start_time', 'weekday']\n",
    "# X = df[numeric_predictors].values\n",
    "X = df[numeric_predictors]\n",
    "y = np.array(df['result'])"
   ]
  },
  {
   "cell_type": "code",
   "execution_count": 6,
   "metadata": {
    "ExecuteTime": {
     "end_time": "2018-11-06T03:20:13.284631Z",
     "start_time": "2018-11-06T03:20:13.263298Z"
    }
   },
   "outputs": [
    {
     "data": {
      "text/plain": [
       "(2076, 5)"
      ]
     },
     "execution_count": 6,
     "metadata": {},
     "output_type": "execute_result"
    }
   ],
   "source": [
    "X.shape"
   ]
  },
  {
   "cell_type": "code",
   "execution_count": 7,
   "metadata": {
    "ExecuteTime": {
     "end_time": "2018-11-06T03:20:13.312782Z",
     "start_time": "2018-11-06T03:20:13.286198Z"
    },
    "scrolled": true
   },
   "outputs": [
    {
     "data": {
      "text/plain": [
       "(2076,)"
      ]
     },
     "execution_count": 7,
     "metadata": {},
     "output_type": "execute_result"
    }
   ],
   "source": [
    "y.shape"
   ]
  },
  {
   "cell_type": "code",
   "execution_count": 8,
   "metadata": {
    "ExecuteTime": {
     "end_time": "2018-11-06T03:20:13.342734Z",
     "start_time": "2018-11-06T03:20:13.315032Z"
    }
   },
   "outputs": [],
   "source": [
    "X = X.astype('float64')\n",
    "y = y.astype('int64')"
   ]
  },
  {
   "cell_type": "code",
   "execution_count": 9,
   "metadata": {
    "ExecuteTime": {
     "end_time": "2018-11-06T03:20:13.368799Z",
     "start_time": "2018-11-06T03:20:13.346687Z"
    }
   },
   "outputs": [],
   "source": [
    "# X_train, X_test, y_train, y_test = train_test_split(X, y, test_size = 0.15, random_state=6)"
   ]
  },
  {
   "cell_type": "code",
   "execution_count": 10,
   "metadata": {
    "ExecuteTime": {
     "end_time": "2018-11-06T03:20:13.393631Z",
     "start_time": "2018-11-06T03:20:13.370469Z"
    }
   },
   "outputs": [
    {
     "data": {
      "text/plain": [
       "1833"
      ]
     },
     "execution_count": 10,
     "metadata": {},
     "output_type": "execute_result"
    }
   ],
   "source": [
    "limi = randint(int(len(X)*.85), int(len(X)*.9))\n",
    "limi"
   ]
  },
  {
   "cell_type": "code",
   "execution_count": 11,
   "metadata": {
    "ExecuteTime": {
     "end_time": "2018-11-06T03:20:13.416748Z",
     "start_time": "2018-11-06T03:20:13.395193Z"
    }
   },
   "outputs": [],
   "source": [
    "X_train = X[:limi]\n",
    "y_train = y[:limi]\n",
    "X_test = X[limi:]\n",
    "y_test = y[limi:]"
   ]
  },
  {
   "cell_type": "code",
   "execution_count": 12,
   "metadata": {
    "ExecuteTime": {
     "end_time": "2018-11-06T03:20:13.445289Z",
     "start_time": "2018-11-06T03:20:13.418370Z"
    }
   },
   "outputs": [
    {
     "data": {
      "text/plain": [
       "(1833, 5)"
      ]
     },
     "execution_count": 12,
     "metadata": {},
     "output_type": "execute_result"
    }
   ],
   "source": [
    "X_train.shape"
   ]
  },
  {
   "cell_type": "code",
   "execution_count": 13,
   "metadata": {
    "ExecuteTime": {
     "end_time": "2018-11-06T03:20:13.473430Z",
     "start_time": "2018-11-06T03:20:13.446899Z"
    }
   },
   "outputs": [
    {
     "data": {
      "text/plain": [
       "(243, 5)"
      ]
     },
     "execution_count": 13,
     "metadata": {},
     "output_type": "execute_result"
    }
   ],
   "source": [
    "X_test.shape"
   ]
  },
  {
   "cell_type": "code",
   "execution_count": 14,
   "metadata": {
    "ExecuteTime": {
     "end_time": "2018-11-06T03:20:13.505618Z",
     "start_time": "2018-11-06T03:20:13.475499Z"
    }
   },
   "outputs": [
    {
     "data": {
      "text/plain": [
       "(1833,)"
      ]
     },
     "execution_count": 14,
     "metadata": {},
     "output_type": "execute_result"
    }
   ],
   "source": [
    "y_train.shape"
   ]
  },
  {
   "cell_type": "code",
   "execution_count": 15,
   "metadata": {
    "ExecuteTime": {
     "end_time": "2018-11-06T03:20:13.566515Z",
     "start_time": "2018-11-06T03:20:13.507384Z"
    }
   },
   "outputs": [],
   "source": [
    "std_sclr = StandardScaler()\n",
    "X_train = std_sclr.fit_transform(X_train)\n",
    "X_test = std_sclr.fit_transform(X_test)"
   ]
  },
  {
   "cell_type": "code",
   "execution_count": 16,
   "metadata": {
    "ExecuteTime": {
     "end_time": "2018-11-06T03:20:13.587576Z",
     "start_time": "2018-11-06T03:20:13.568360Z"
    }
   },
   "outputs": [],
   "source": [
    "# std_sclr.scale_"
   ]
  },
  {
   "cell_type": "code",
   "execution_count": 17,
   "metadata": {
    "ExecuteTime": {
     "end_time": "2018-11-06T03:20:13.616990Z",
     "start_time": "2018-11-06T03:20:13.589195Z"
    }
   },
   "outputs": [],
   "source": [
    "# def _classifier():\n",
    "#     classifier = Sequential()\n",
    "\n",
    "#     classifier.add(Dense(units=13, kernel_initializer='uniform',\n",
    "#                          activation='relu', input_dim=5))\n",
    "\n",
    "#     classifier.add(\n",
    "#         Dense(units=83, kernel_initializer='uniform', activation='softmax'))\n",
    "\n",
    "#     classifier.add(\n",
    "#         Dense(units=13, kernel_initializer='uniform', activation='relu'))\n",
    "\n",
    "# #     classifier.add(\n",
    "# #         Dense(units=109, kernel_initializer='uniform', activation='softmax'))\n",
    "\n",
    "# #     classifier.add(\n",
    "# #         Dense(units=47, kernel_initializer='uniform', activation='relu'))\n",
    "\n",
    "# #     classifier.add(\n",
    "# #         Dense(units=11, kernel_initializer='uniform', activation='softmax'))\n",
    "\n",
    "#     classifier.add(\n",
    "#         Dense(units=1, kernel_initializer='uniform', activation='sigmoid'))\n",
    "\n",
    "#     classifier.compile(\n",
    "#         optimizer='sgd', loss='binary_crossentropy', metrics=['hinge'])\n",
    "\n",
    "#     return classifier"
   ]
  },
  {
   "cell_type": "code",
   "execution_count": 18,
   "metadata": {
    "ExecuteTime": {
     "end_time": "2018-11-06T03:20:13.650206Z",
     "start_time": "2018-11-06T03:20:13.620301Z"
    }
   },
   "outputs": [],
   "source": [
    "def dropout_classifier(optimizer, metrics):\n",
    "    classifier = Sequential()\n",
    "    classifier.add(Dense(units=5, kernel_initializer='uniform',\n",
    "                         activation='relu', input_dim=5))\n",
    "    classifier.add(Dropout(rate=0.16))\n",
    "    classifier.add(\n",
    "        Dense(units=23, kernel_initializer='uniform', activation='softmax'))\n",
    "    classifier.add(Dropout(rate=0.08))\n",
    "    classifier.add(\n",
    "        Dense(units=8, kernel_initializer='uniform', activation='relu'))\n",
    "    classifier.add(Dropout(rate=0.04))\n",
    "    classifier.add(\n",
    "        Dense(units=1, kernel_initializer='uniform', activation='tanh'))\n",
    "\n",
    "    classifier.compile(\n",
    "        optimizer=optimizer, loss='binary_crossentropy', metrics=[metrics])\n",
    "    return classifier"
   ]
  },
  {
   "cell_type": "code",
   "execution_count": 20,
   "metadata": {
    "ExecuteTime": {
     "end_time": "2018-11-06T03:20:14.343428Z",
     "start_time": "2018-11-06T03:20:14.308487Z"
    }
   },
   "outputs": [],
   "source": [
    "bs_1 = randint(10,20)\n",
    "bs_2 = randint(20,30)\n",
    "ep_1 = randint(100,200)\n",
    "ep_2 = randint(200,300)\n",
    "\n",
    "parameters = {'batch_size': [bs_1, bs_2],\n",
    "              'nb_epoch': [ep_1, ep_2],\n",
    "              'optimizer': ['Nadam', 'SGD', 'RMSprop'],\n",
    "              'metrics': ['accuracy', 'hinge', 'mape']\n",
    "              }"
   ]
  },
  {
   "cell_type": "code",
   "execution_count": 21,
   "metadata": {
    "ExecuteTime": {
     "end_time": "2018-11-06T03:20:15.765509Z",
     "start_time": "2018-11-06T03:20:15.742914Z"
    }
   },
   "outputs": [],
   "source": [
    "classifier = KerasClassifier(build_fn=dropout_classifier)"
   ]
  },
  {
   "cell_type": "code",
   "execution_count": 22,
   "metadata": {
    "ExecuteTime": {
     "end_time": "2018-11-06T03:20:16.659444Z",
     "start_time": "2018-11-06T03:20:16.634470Z"
    }
   },
   "outputs": [],
   "source": [
    "grid_search = GridSearchCV(classifier, parameters,\n",
    "                           scoring='balanced_accuracy', cv=5, n_jobs=-2)"
   ]
  },
  {
   "cell_type": "code",
   "execution_count": null,
   "metadata": {
    "ExecuteTime": {
     "start_time": "2018-11-06T03:20:17.456Z"
    },
    "scrolled": true
   },
   "outputs": [
    {
     "name": "stdout",
     "output_type": "stream",
     "text": [
      "Epoch 1/1\n",
      "1466/1466 [==============================] - 1s 661us/step - loss: 1.8553 - acc: 0.5007\n",
      "Epoch 1/1\n",
      "1466/1466 [==============================] - 1s 661us/step - loss: 2.5490 - acc: 0.5089\n",
      "Epoch 1/1\n",
      "1466/1466 [==============================] - 1s 702us/step - loss: 7.9711 - acc: 0.5055\n",
      "Epoch 1/1\n",
      "1467/1467 [==============================] - 1s 702us/step - loss: 2.0759 - acc: 0.5003\n",
      "Epoch 1/1\n",
      "1467/1467 [==============================] - 1s 746us/step - loss: 2.1653 - acc: 0.5078\n",
      "Epoch 1/1\n",
      "1466/1466 [==============================] - 1s 659us/step - loss: 7.9615 - acc: 0.4986\n",
      "Epoch 1/1\n",
      "1466/1466 [==============================] - 1s 685us/step - loss: 8.0395 - acc: 0.4932\n",
      "Epoch 1/1\n",
      "1466/1466 [==============================] - 1s 647us/step - loss: 4.1472 - acc: 0.4966\n",
      "Epoch 1/1\n",
      "1467/1467 [==============================] - 1s 669us/step - loss: 7.9176 - acc: 0.5017\n",
      "Epoch 1/1\n",
      "1467/1467 [==============================] - 1s 711us/step - loss: 6.4868 - acc: 0.4942\n",
      "Epoch 1/1\n",
      "1466/1466 [==============================] - 1s 769us/step - loss: 1.9777 - acc: 0.5007\n",
      "Epoch 1/1\n",
      "1466/1466 [==============================] - 1s 802us/step - loss: 2.1920 - acc: 0.5089\n",
      "Epoch 1/1\n",
      "1466/1466 [==============================] - 1s 868us/step - loss: 2.1920 - acc: 0.5055\n",
      "Epoch 1/1\n",
      "1467/1467 [==============================] - 1s 863us/step - loss: 2.1074 - acc: 0.5003\n",
      "Epoch 1/1\n",
      "1467/1467 [==============================] - 1s 923us/step - loss: 7.9327 - acc: 0.5078\n",
      "Epoch 1/1\n",
      "1466/1466 [==============================] - 1s 957us/step - loss: 1.9077 - acc: 0.5007\n",
      "Epoch 1/1\n",
      "1466/1466 [==============================] - 1s 977us/step - loss: 1.7413 - acc: 0.5089\n",
      "Epoch 1/1\n",
      "1466/1466 [==============================] - 2s 1ms/step - loss: 2.4574 - acc: 0.5055\n",
      "Epoch 1/1\n",
      "1467/1467 [==============================] - 2s 1ms/step - loss: 1.8800 - acc: 0.5003\n",
      "Epoch 1/1\n",
      "1467/1467 [==============================] - 2s 1ms/step - loss: 2.1446 - acc: 0.5078\n",
      "Epoch 1/1\n",
      "1466/1466 [==============================] - 2s 1ms/step - loss: 7.9443 - acc: 0.4986\n",
      "Epoch 1/1\n",
      "1466/1466 [==============================] - 1s 988us/step - loss: 7.9161 - acc: 0.5089\n",
      "Epoch 1/1\n",
      "1466/1466 [==============================] - 1s 994us/step - loss: 7.9711 - acc: 0.5055\n",
      "Epoch 1/1\n",
      "1467/1467 [==============================] - 2s 1ms/step - loss: 7.8792 - acc: 0.5058\n",
      "Epoch 1/1\n",
      "1467/1467 [==============================] - 2s 1ms/step - loss: 8.0616 - acc: 0.4942\n",
      "Epoch 1/1\n",
      "1466/1466 [==============================] - 2s 1ms/step - loss: 1.8981 - acc: 0.5007\n",
      "Epoch 1/1\n",
      "1466/1466 [==============================] - 2s 1ms/step - loss: 3.4856 - acc: 0.5089\n",
      "Epoch 1/1\n",
      "1466/1466 [==============================] - 2s 1ms/step - loss: 7.9711 - acc: 0.5055\n",
      "Epoch 1/1\n",
      "1467/1467 [==============================] - 2s 1ms/step - loss: 2.1739 - acc: 0.5003\n",
      "Epoch 1/1\n",
      "1467/1467 [==============================] - 2s 1ms/step - loss: 1.9232 - acc: 0.5078\n",
      "Epoch 1/1\n",
      "1466/1466 [==============================] - 2s 2ms/step - loss: 1.9935 - hinge: 0.9876\n",
      "Epoch 1/1\n",
      "1466/1466 [==============================] - 2s 2ms/step - loss: 7.9161 - hinge: 1.0033\n",
      "Epoch 1/1\n",
      "1466/1466 [==============================] - 2s 2ms/step - loss: 3.1744 - hinge: 0.9965\n",
      "Epoch 1/1\n",
      "1467/1467 [==============================] - 2s 2ms/step - loss: 1.6613 - hinge: 0.9711\n",
      "Epoch 1/1\n",
      "1467/1467 [==============================] - 2s 1ms/step - loss: 2.0070 - hinge: 0.9869\n",
      "Epoch 1/1\n",
      "1466/1466 [==============================] - 2s 1ms/step - loss: 7.9859 - hinge: 0.5075\n",
      "Epoch 1/1\n",
      "1466/1466 [==============================] - 2s 2ms/step - loss: 7.9161 - hinge: 1.0002\n",
      "Epoch 1/1\n",
      "1466/1466 [==============================] - 2s 2ms/step - loss: 7.9711 - hinge: 1.0004\n",
      "Epoch 1/1\n",
      "1467/1467 [==============================] - 2s 1ms/step - loss: 8.0536 - hinge: 1.0011\n",
      "Epoch 1/1\n",
      "1467/1467 [==============================] - 2s 2ms/step - loss: 6.0767 - hinge: 0.5133\n",
      "Epoch 1/1\n",
      "1466/1466 [==============================] - 2s 2ms/step - loss: 2.1784 - hinge: 0.9871\n",
      "Epoch 1/1\n",
      "1466/1466 [==============================] - 2s 2ms/step - loss: 7.9161 - hinge: 1.0009\n",
      "Epoch 1/1\n",
      "1466/1466 [==============================] - 2s 2ms/step - loss: 2.1297 - hinge: 0.9908\n",
      "Epoch 1/1\n",
      "1467/1467 [==============================] - 2s 2ms/step - loss: 2.0258 - hinge: 0.9885\n",
      "Epoch 1/1\n",
      "1467/1467 [==============================] - 3s 2ms/step - loss: 1.8961 - hinge: 0.9857\n",
      "Epoch 1/1\n",
      "1466/1466 [==============================] - 2s 2ms/step - loss: 2.1981 - hinge: 0.9922\n",
      "Epoch 1/1\n",
      "1466/1466 [==============================] - 3s 2ms/step - loss: 2.3095 - hinge: 0.9948\n",
      "Epoch 1/1\n",
      "1466/1466 [==============================] - 3s 2ms/step - loss: 1.9969 - hinge: 0.9863\n",
      "Epoch 1/1\n",
      "1467/1467 [==============================] - 3s 2ms/step - loss: 2.0198 - hinge: 0.9871\n",
      "Epoch 1/1\n",
      "1467/1467 [==============================] - 3s 2ms/step - loss: 7.9327 - hinge: 1.0023\n",
      "Epoch 1/1\n",
      "1466/1466 [==============================] - 2s 2ms/step - loss: 8.1184 - hinge: 0.5566\n",
      "Epoch 1/1\n",
      "1466/1466 [==============================] - 3s 2ms/step - loss: 7.9161 - hinge: 1.0000\n",
      "Epoch 1/1\n",
      "1466/1466 [==============================] - 3s 2ms/step - loss: 7.9835 - hinge: 0.5109\n",
      "Epoch 1/1\n",
      "1467/1467 [==============================] - 3s 2ms/step - loss: 8.0536 - hinge: 1.0003\n",
      "Epoch 1/1\n",
      "1467/1467 [==============================] - 3s 2ms/step - loss: 8.0358 - hinge: 0.5133\n",
      "Epoch 1/1\n",
      "1466/1466 [==============================] - 3s 2ms/step - loss: 8.0481 - hinge: 1.0018\n",
      "Epoch 1/1\n",
      "1466/1466 [==============================] - 3s 2ms/step - loss: 1.7653 - hinge: 0.9813\n",
      "Epoch 1/1\n",
      "1466/1466 [==============================] - 3s 2ms/step - loss: 1.9091 - hinge: 0.9860\n",
      "Epoch 1/1\n",
      "1467/1467 [==============================] - 3s 2ms/step - loss: 8.0536 - hinge: 1.0021\n",
      "Epoch 1/1\n",
      "1467/1467 [==============================] - 3s 2ms/step - loss: 2.4682 - hinge: 0.9959\n",
      "Epoch 1/1\n",
      "1466/1466 [==============================] - 3s 2ms/step - loss: 1.8059 - mean_absolute_percentage_error: 21060801.3220\n",
      "Epoch 1/1\n",
      "1466/1466 [==============================] - 3s 2ms/step - loss: 1.9238 - mean_absolute_percentage_error: 13963112.1138\n",
      "Epoch 1/1\n",
      "1466/1466 [==============================] - 3s 2ms/step - loss: 7.9711 - mean_absolute_percentage_error: 3445482.8779\n",
      "Epoch 1/1\n",
      "1467/1467 [==============================] - 3s 2ms/step - loss: 1.8312 - mean_absolute_percentage_error: 18484555.0558\n",
      "Epoch 1/1\n",
      "1467/1467 [==============================] - 3s 2ms/step - loss: 7.9327 - mean_absolute_percentage_error: 3171098.0417\n",
      "Epoch 1/1\n",
      "1466/1466 [==============================] - 3s 2ms/step - loss: 7.9442 - mean_absolute_percentage_error: 494544170.2300\n",
      "Epoch 1/1\n",
      "1466/1466 [==============================] - 3s 2ms/step - loss: 8.0369 - mean_absolute_percentage_error: 501366753.6260\n",
      "Epoch 1/1\n",
      "1466/1466 [==============================] - 3s 2ms/step - loss: 7.9711 - mean_absolute_percentage_error: 1081513.4730\n",
      "Epoch 1/1\n",
      "1467/1467 [==============================] - 3s 2ms/step - loss: 8.0536 - mean_absolute_percentage_error: 673107.8485\n",
      "Epoch 1/1\n",
      "1467/1467 [==============================] - 3s 2ms/step - loss: 7.9327 - mean_absolute_percentage_error: 95296.0271\n",
      "Epoch 1/1\n",
      "1466/1466 [==============================] - 4s 3ms/step - loss: 2.0102 - mean_absolute_percentage_error: 12766834.1990\n",
      "Epoch 1/1\n",
      "1466/1466 [==============================] - 4s 3ms/step - loss: 2.0118 - mean_absolute_percentage_error: 12434793.4500\n",
      "Epoch 1/1\n",
      "1466/1466 [==============================] - 4s 3ms/step - loss: 1.8799 - mean_absolute_percentage_error: 16152979.1999\n",
      "Epoch 1/1\n",
      "1467/1467 [==============================] - 4s 3ms/step - loss: 2.0024 - mean_absolute_percentage_error: 11962171.7288\n",
      "Epoch 1/1\n",
      "1467/1467 [==============================] - 3s 2ms/step - loss: 2.1784 - mean_absolute_percentage_error: 8657302.5690\n",
      "Epoch 1/1\n",
      "1466/1466 [==============================] - 4s 3ms/step - loss: 1.8071 - mean_absolute_percentage_error: 20123993.8563\n",
      "Epoch 1/1\n",
      "1466/1466 [==============================] - 4s 2ms/step - loss: 1.7656 - mean_absolute_percentage_error: 18481430.0514\n",
      "Epoch 1/1\n",
      "1466/1466 [==============================] - 4s 2ms/step - loss: 1.6721 - mean_absolute_percentage_error: 26650194.2566\n",
      "Epoch 1/1\n"
     ]
    },
    {
     "name": "stdout",
     "output_type": "stream",
     "text": [
      "1467/1467 [==============================] - 4s 3ms/step - loss: 5.1240 - mean_absolute_percentage_error: 7884136.1464\n",
      "Epoch 1/1\n",
      "1467/1467 [==============================] - 4s 3ms/step - loss: 1.8387 - mean_absolute_percentage_error: 21317228.1576\n",
      "Epoch 1/1\n",
      "1466/1466 [==============================] - 4s 2ms/step - loss: 8.0481 - mean_absolute_percentage_error: 1080170.4415\n",
      "Epoch 1/1\n",
      "1466/1466 [==============================] - 4s 2ms/step - loss: 7.9161 - mean_absolute_percentage_error: 728113.6880\n",
      "Epoch 1/1\n",
      "1466/1466 [==============================] - 4s 3ms/step - loss: 8.0201 - mean_absolute_percentage_error: 497954416.8637\n",
      "Epoch 1/1\n",
      "1467/1467 [==============================] - 4s 3ms/step - loss: 7.9021 - mean_absolute_percentage_error: 492844682.9389\n",
      "Epoch 1/1\n",
      "1467/1467 [==============================] - 4s 3ms/step - loss: 7.9327 - mean_absolute_percentage_error: 574191.8967\n",
      "Epoch 1/1\n",
      "1466/1466 [==============================] - 4s 3ms/step - loss: 1.9521 - mean_absolute_percentage_error: 13692533.2469\n",
      "Epoch 1/1\n",
      "1466/1466 [==============================] - 4s 3ms/step - loss: 1.9218 - mean_absolute_percentage_error: 13250616.3505\n",
      "Epoch 1/1\n",
      "1466/1466 [==============================] - 5s 3ms/step - loss: 1.9168 - mean_absolute_percentage_error: 15447396.2412\n",
      "Epoch 1/1\n",
      "1467/1467 [==============================] - 4s 3ms/step - loss: 1.8741 - mean_absolute_percentage_error: 16030962.4001\n",
      "Epoch 1/1\n",
      "1467/1467 [==============================] - 5s 3ms/step - loss: 2.1617 - mean_absolute_percentage_error: 8070365.4464\n",
      "Epoch 1/1\n",
      "1466/1466 [==============================] - 4s 3ms/step - loss: 2.3908 - acc: 0.5007\n",
      "Epoch 1/1\n",
      "1466/1466 [==============================] - 4s 3ms/step - loss: 1.8839 - acc: 0.5089\n",
      "Epoch 1/1\n",
      "1466/1466 [==============================] - 5s 3ms/step - loss: 1.8876 - acc: 0.5055\n",
      "Epoch 1/1\n",
      "1467/1467 [==============================] - 5s 3ms/step - loss: 1.7736 - acc: 0.5003\n",
      "Epoch 1/1\n",
      "1467/1467 [==============================] - 4s 3ms/step - loss: 1.8464 - acc: 0.5078\n",
      "Epoch 1/1\n",
      "1466/1466 [==============================] - 4s 3ms/step - loss: 7.9040 - acc: 0.5007\n",
      "Epoch 1/1\n",
      "1466/1466 [==============================] - 4s 3ms/step - loss: 6.6348 - acc: 0.4966\n",
      "Epoch 1/1\n",
      "1466/1466 [==============================] - 4s 3ms/step - loss: 7.9694 - acc: 0.5000\n",
      "Epoch 1/1\n",
      "1467/1467 [==============================] - 5s 3ms/step - loss: 7.8489 - acc: 0.5051\n",
      "Epoch 1/1\n",
      "1467/1467 [==============================] - 5s 3ms/step - loss: 7.9642 - acc: 0.4976\n",
      "Epoch 1/1\n",
      "1466/1466 [==============================] - 4s 3ms/step - loss: 2.4253 - acc: 0.5007\n",
      "Epoch 1/1\n",
      "1466/1466 [==============================] - 5s 3ms/step - loss: 2.0615 - acc: 0.5089\n",
      "Epoch 1/1\n",
      "1466/1466 [==============================] - 5s 3ms/step - loss: 2.0399 - acc: 0.5055\n",
      "Epoch 1/1\n",
      "1467/1467 [==============================] - 5s 3ms/step - loss: 2.3273 - acc: 0.5003\n",
      "Epoch 1/1\n",
      "1467/1467 [==============================] - 5s 3ms/step - loss: 2.1131 - acc: 0.5078\n",
      "Epoch 1/1\n",
      "1466/1466 [==============================] - 5s 3ms/step - loss: 2.4418 - acc: 0.5007\n",
      "Epoch 1/1\n",
      "1466/1466 [==============================] - 5s 3ms/step - loss: 1.8155 - acc: 0.5089\n",
      "Epoch 1/1\n",
      "1466/1466 [==============================] - 5s 3ms/step - loss: 1.7970 - acc: 0.5055\n",
      "Epoch 1/1\n",
      "1467/1467 [==============================] - 5s 3ms/step - loss: 8.0536 - acc: 0.5003\n",
      "Epoch 1/1\n",
      "1467/1467 [==============================] - 5s 3ms/step - loss: 2.3548 - acc: 0.5078\n",
      "Epoch 1/1\n",
      "1466/1466 [==============================] - 5s 3ms/step - loss: 7.9097 - acc: 0.5007\n",
      "Epoch 1/1\n",
      "1466/1466 [==============================] - 5s 3ms/step - loss: 8.0042 - acc: 0.4966\n",
      "Epoch 1/1\n",
      "1466/1466 [==============================] - 5s 3ms/step - loss: 7.9275 - acc: 0.5000\n",
      "Epoch 1/1\n",
      "1467/1467 [==============================] - 5s 4ms/step - loss: 7.8842 - acc: 0.5051\n",
      "Epoch 1/1\n",
      "1467/1467 [==============================] - 5s 3ms/step - loss: 7.9327 - acc: 0.5078\n",
      "Epoch 1/1\n",
      "1466/1466 [==============================] - 5s 3ms/step - loss: 2.1272 - acc: 0.5007\n",
      "Epoch 1/1\n",
      "1466/1466 [==============================] - 5s 3ms/step - loss: 2.4112 - acc: 0.5089\n",
      "Epoch 1/1\n",
      "1466/1466 [==============================] - 5s 3ms/step - loss: 7.9711 - acc: 0.5055\n",
      "Epoch 1/1\n",
      "1467/1467 [==============================] - 5s 3ms/step - loss: 2.2552 - acc: 0.5003\n",
      "Epoch 1/1\n",
      "1467/1467 [==============================] - 5s 3ms/step - loss: 2.1789 - acc: 0.5078\n",
      "Epoch 1/1\n",
      "1466/1466 [==============================] - 5s 4ms/step - loss: 2.0039 - hinge: 0.9870\n",
      "Epoch 1/1\n",
      "1466/1466 [==============================] - 5s 4ms/step - loss: 7.9161 - hinge: 1.0002\n",
      "Epoch 1/1\n",
      "1466/1466 [==============================] - 5s 4ms/step - loss: 2.2721 - hinge: 0.9933\n",
      "Epoch 1/1\n",
      "1467/1467 [==============================] - 5s 4ms/step - loss: 1.9394 - hinge: 0.9859\n",
      "Epoch 1/1\n",
      "1467/1467 [==============================] - 5s 4ms/step - loss: 7.9327 - hinge: 1.0022\n",
      "Epoch 1/1\n",
      "1466/1466 [==============================] - 5s 4ms/step - loss: 7.9094 - hinge: 0.5089\n",
      "Epoch 1/1\n",
      "1466/1466 [==============================] - 5s 4ms/step - loss: 7.9884 - hinge: 0.5150\n",
      "Epoch 1/1\n",
      "1466/1466 [==============================] - 5s 4ms/step - loss: 7.9574 - hinge: 0.5116\n",
      "Epoch 1/1\n",
      "1467/1467 [==============================] - 5s 4ms/step - loss: 5.9184 - hinge: 0.5065\n",
      "Epoch 1/1\n",
      "1467/1467 [==============================] - 6s 4ms/step - loss: 7.9327 - hinge: 1.0005\n",
      "Epoch 1/1\n",
      "1466/1466 [==============================] - 6s 4ms/step - loss: 2.0802 - hinge: 0.9902\n",
      "Epoch 1/1\n",
      "1466/1466 [==============================] - 6s 4ms/step - loss: 1.9664 - hinge: 0.9880\n",
      "Epoch 1/1\n",
      "1466/1466 [==============================] - 6s 4ms/step - loss: 7.9711 - hinge: 1.0016\n",
      "Epoch 1/1\n",
      "1467/1467 [==============================] - 6s 4ms/step - loss: 1.9542 - hinge: 0.9862\n",
      "Epoch 1/1\n",
      "1467/1467 [==============================] - 6s 4ms/step - loss: 1.9759 - hinge: 0.9889\n",
      "Epoch 1/1\n",
      "1466/1466 [==============================] - 6s 4ms/step - loss: 2.4314 - hinge: 0.9955\n",
      "Epoch 1/1\n",
      "1466/1466 [==============================] - 6s 4ms/step - loss: 7.9161 - hinge: 1.0004\n",
      "Epoch 1/1\n",
      "1466/1466 [==============================] - 6s 4ms/step - loss: 1.9160 - hinge: 0.9864\n",
      "Epoch 1/1\n",
      "1467/1467 [==============================] - 6s 4ms/step - loss: 1.7314 - hinge: 0.9766\n",
      "Epoch 1/1\n",
      "1467/1467 [==============================] - 6s 4ms/step - loss: 1.9885 - hinge: 0.9882\n",
      "Epoch 1/1\n",
      "1466/1466 [==============================] - 6s 4ms/step - loss: 7.9557 - hinge: 0.5089\n",
      "Epoch 1/1\n",
      "1466/1466 [==============================] - 6s 4ms/step - loss: 7.9797 - hinge: 0.5150\n",
      "Epoch 1/1\n",
      "1466/1466 [==============================] - 6s 4ms/step - loss: 2.3899 - hinge: 0.5257\n",
      "Epoch 1/1\n",
      "1467/1467 [==============================] - 6s 4ms/step - loss: 8.0536 - hinge: 1.0004\n",
      "Epoch 1/1\n",
      "1467/1467 [==============================] - 6s 4ms/step - loss: 7.9781 - hinge: 0.5140\n",
      "Epoch 1/1\n",
      "1466/1466 [==============================] - 6s 4ms/step - loss: 8.0481 - hinge: 1.0017\n",
      "Epoch 1/1\n",
      "1466/1466 [==============================] - 6s 4ms/step - loss: 2.2354 - hinge: 0.9928\n",
      "Epoch 1/1\n",
      "1466/1466 [==============================] - 6s 4ms/step - loss: 1.9939 - hinge: 0.9886\n",
      "Epoch 1/1\n",
      "1467/1467 [==============================] - 7s 5ms/step - loss: 8.0536 - hinge: 1.0016\n",
      "Epoch 1/1\n",
      "1467/1467 [==============================] - 7s 5ms/step - loss: 7.9327 - hinge: 1.0002\n",
      "Epoch 1/1\n",
      "1466/1466 [==============================] - 7s 5ms/step - loss: 8.0481 - mean_absolute_percentage_error: 2844961.8704\n",
      "Epoch 1/1\n",
      "1466/1466 [==============================] - 7s 5ms/step - loss: 1.6746 - mean_absolute_percentage_error: 23774008.1488\n",
      "Epoch 1/1\n",
      "1466/1466 [==============================] - 7s 5ms/step - loss: 2.0137 - mean_absolute_percentage_error: 10973574.7212\n",
      "Epoch 1/1\n",
      "1467/1467 [==============================] - 7s 5ms/step - loss: 2.3937 - mean_absolute_percentage_error: 6081640.1512\n",
      "Epoch 1/1\n",
      "1467/1467 [==============================] - 7s 5ms/step - loss: 2.2852 - mean_absolute_percentage_error: 6794695.3665\n"
     ]
    }
   ],
   "source": [
    "print([bs_1, bs_2, ep_1, ep_2])\n",
    "grid_search = grid_search.fit(X=X_train, y=y_train, shuffle=False)"
   ]
  },
  {
   "cell_type": "code",
   "execution_count": null,
   "metadata": {
    "ExecuteTime": {
     "start_time": "2018-11-06T03:34:38.629Z"
    }
   },
   "outputs": [],
   "source": [
    "best_params = grid_search.best_params_\n",
    "best_params"
   ]
  },
  {
   "cell_type": "code",
   "execution_count": null,
   "metadata": {
    "ExecuteTime": {
     "start_time": "2018-11-06T03:34:38.843Z"
    }
   },
   "outputs": [],
   "source": [
    "best_accu = grid_search.best_score_\n",
    "best_accu"
   ]
  },
  {
   "cell_type": "code",
   "execution_count": null,
   "metadata": {
    "ExecuteTime": {
     "start_time": "2018-11-06T03:34:39.056Z"
    }
   },
   "outputs": [],
   "source": [
    "grid_search.cv_results_"
   ]
  },
  {
   "cell_type": "code",
   "execution_count": null,
   "metadata": {
    "ExecuteTime": {
     "start_time": "2018-11-06T03:34:39.234Z"
    }
   },
   "outputs": [],
   "source": [
    "y_pred = grid_search.predict(X_test)\n",
    "y_pred = (y_pred > 0.5)"
   ]
  },
  {
   "cell_type": "code",
   "execution_count": null,
   "metadata": {
    "ExecuteTime": {
     "start_time": "2018-11-06T03:34:39.440Z"
    }
   },
   "outputs": [],
   "source": [
    "cm = confusion_matrix(y_test, y_pred)\n",
    "cm"
   ]
  },
  {
   "cell_type": "code",
   "execution_count": null,
   "metadata": {
    "ExecuteTime": {
     "start_time": "2018-11-06T03:34:39.613Z"
    }
   },
   "outputs": [],
   "source": [
    "print(f'classification_report:\\n{classification_report(y_test, y_pred)}')\n",
    "print('---------------------------------------------------------------\\n\\n')\n",
    "print(f'average_precision_score:\\n{average_precision_score(y_test, y_pred)}')\n",
    "print('---------------------------------------------------------------\\n\\n')\n",
    "print(f'f1_score:\\n{f1_score(y_test, y_pred)}')\n",
    "print('---------------------------------------------------------------\\n\\n')\n",
    "print(f'accuracy_score:\\n{accuracy_score(y_test, y_pred)}')\n",
    "print('---------------------------------------------------------------\\n\\n')\n",
    "print(f'cohen_kappa_score:\\n{cohen_kappa_score(y_test, y_pred)}')\n",
    "print('---------------------------------------------------------------\\n\\n')\n",
    "print(f'roc_curve:\\n{roc_curve(y_test, y_pred)}')\n",
    "print('---------------------------------------------------------------\\n\\n')\n",
    "print(f'roc_auc_score:\\n{roc_auc_score(y_test, y_pred)}')\n",
    "print('---------------------------------------------------------------\\n\\n')\n",
    "print(f'brier_score_loss:\\n{brier_score_loss(y_test, y_pred)}')\n",
    "print('---------------------------------------------------------------\\n\\n')\n",
    "print(recall_score(y_test, y_pred))"
   ]
  },
  {
   "cell_type": "code",
   "execution_count": null,
   "metadata": {
    "ExecuteTime": {
     "start_time": "2018-11-06T03:34:41.588Z"
    }
   },
   "outputs": [],
   "source": [
    "print(f'Accuracy = {round((cm[0][0]+cm[1][1])/(cm.sum())/.01,1)}%')"
   ]
  },
  {
   "cell_type": "code",
   "execution_count": null,
   "metadata": {
    "ExecuteTime": {
     "start_time": "2018-11-06T03:34:43.780Z"
    }
   },
   "outputs": [],
   "source": [
    "plt.plot(grid_search.grid_search['acc'])\n",
    "plt.plot(grid_search.grid_search['val_acc'])\n",
    "plt.title('model accuracy')\n",
    "plt.ylabel('accuracy')\n",
    "plt.xlabel('epoch')\n",
    "plt.legend(['train', 'test'], loc='upper left')\n",
    "plt.show()\n",
    "# summarize history for loss\n",
    "plt.plot(grid_search.grid_search['loss'])\n",
    "plt.plot(grid_search.grid_search['val_loss'])\n",
    "plt.title('model loss')\n",
    "plt.ylabel('loss')\n",
    "plt.xlabel('epoch')\n",
    "plt.legend(['train', 'test'], loc='upper left')\n",
    "plt.show()"
   ]
  },
  {
   "cell_type": "code",
   "execution_count": null,
   "metadata": {},
   "outputs": [],
   "source": [
    "def dropout_classifier_set():\n",
    "    classifier = Sequential()\n",
    "    classifier.add(Dense(units=5, kernel_initializer='uniform',\n",
    "                         activation='relu', input_dim=5))\n",
    "    classifier.add(Dropout(rate=0.12))\n",
    "    classifier.add(\n",
    "        Dense(units=40, kernel_initializer='uniform', activation='relu'))\n",
    "    classifier.add(Dropout(rate=0.08))\n",
    "    classifier.add(\n",
    "        Dense(units=8, kernel_initializer='uniform', activation='relu'))\n",
    "    classifier.add(Dropout(rate=0.04))\n",
    "    classifier.add(\n",
    "        Dense(units=1, kernel_initializer='uniform', activation='sigmoid'))\n",
    "\n",
    "    classifier.compile(\n",
    "        optimizer='Nadam', loss='binary_crossentropy', metrics=['accuracy'])\n",
    "    return classifier"
   ]
  },
  {
   "cell_type": "code",
   "execution_count": null,
   "metadata": {
    "ExecuteTime": {
     "end_time": "2018-11-06T02:07:56.507508Z",
     "start_time": "2018-11-06T02:07:56.382426Z"
    }
   },
   "outputs": [],
   "source": [
    "# classifier = dropout_classifier()"
   ]
  },
  {
   "cell_type": "code",
   "execution_count": null,
   "metadata": {
    "ExecuteTime": {
     "end_time": "2018-11-06T02:00:29.458678Z",
     "start_time": "2018-11-06T02:00:26.411432Z"
    }
   },
   "outputs": [],
   "source": [
    "classifier.fit(X_train, y_train, batch_size=13, \n",
    "                   epochs=250, shuffle=False)"
   ]
  },
  {
   "cell_type": "code",
   "execution_count": null,
   "metadata": {
    "ExecuteTime": {
     "end_time": "2018-11-01T03:36:03.807645Z",
     "start_time": "2018-11-01T03:30:47.503827Z"
    },
    "scrolled": true
   },
   "outputs": [],
   "source": [
    "batch_list = [134, 67, 28, 14, 7, 4]\n",
    "for num in batch_list:\n",
    "    classifier.fit(X_train, y_train, batch_size=num, \n",
    "                   epochs=100, shuffle=False)"
   ]
  },
  {
   "cell_type": "code",
   "execution_count": null,
   "metadata": {
    "ExecuteTime": {
     "end_time": "2018-11-06T01:59:15.011869Z",
     "start_time": "2018-11-06T01:59:14.947060Z"
    }
   },
   "outputs": [],
   "source": [
    "y_pred = classifier.predict(X_test)\n",
    "y_pred = (y_pred > 0.5)"
   ]
  },
  {
   "cell_type": "code",
   "execution_count": null,
   "metadata": {
    "ExecuteTime": {
     "end_time": "2018-11-06T01:59:15.038301Z",
     "start_time": "2018-11-06T01:59:15.014182Z"
    }
   },
   "outputs": [],
   "source": [
    "cm = confusion_matrix(y_test, y_pred)\n",
    "cm"
   ]
  },
  {
   "cell_type": "code",
   "execution_count": null,
   "metadata": {
    "ExecuteTime": {
     "end_time": "2018-11-06T01:59:15.064651Z",
     "start_time": "2018-11-06T01:59:15.040771Z"
    }
   },
   "outputs": [],
   "source": [
    "print(f'Accuracy = {(cm[0][0]+cm[1][1])/(cm.sum())/.01}%')"
   ]
  },
  {
   "cell_type": "markdown",
   "metadata": {},
   "source": [
    "### 75.5% Accuracy on 1824 training, 200 test\n",
    "__3 layers__\n",
    "- layer 1 = ReLU X 7\n",
    "- layer 2 = SoftMax X 14\n",
    "- layer 3 = ReLU X 7\n",
    "- output layer = Sigmoid X 1\n",
    "\n",
    "__metrics__ = Cosine\n",
    "\n",
    "__loss__ = binary_crossentropy\n",
    "\n",
    "__Optimizer__ = Nadam\n",
    "\n",
    "__Batch size__ = 12\n",
    "\n",
    "__Epochs__ = 175\n",
    "\n",
    "no __diff__"
   ]
  },
  {
   "cell_type": "code",
   "execution_count": null,
   "metadata": {
    "ExecuteTime": {
     "end_time": "2018-11-01T02:47:51.033028Z",
     "start_time": "2018-11-01T02:47:51.008356Z"
    }
   },
   "outputs": [],
   "source": [
    "classifier = KerasClassifier(build_fn=_classifier, batch_size=12, epochs=200)"
   ]
  },
  {
   "cell_type": "code",
   "execution_count": null,
   "metadata": {
    "ExecuteTime": {
     "end_time": "2018-11-01T03:01:42.422218Z",
     "start_time": "2018-11-01T02:47:51.405705Z"
    }
   },
   "outputs": [],
   "source": [
    "accus = cross_val_score(estimator=classifier, X=X_train,\n",
    "                        y=y_train, cv=10, n_jobs=-2, scoring='accuracy')\n",
    "accus"
   ]
  },
  {
   "cell_type": "code",
   "execution_count": null,
   "metadata": {
    "ExecuteTime": {
     "end_time": "2018-11-01T03:02:09.616879Z",
     "start_time": "2018-11-01T03:02:09.580513Z"
    }
   },
   "outputs": [],
   "source": [
    "accu_mean = accus.mean()\n",
    "accu_mean"
   ]
  },
  {
   "cell_type": "code",
   "execution_count": null,
   "metadata": {
    "ExecuteTime": {
     "end_time": "2018-11-01T03:02:11.524193Z",
     "start_time": "2018-11-01T03:02:11.498485Z"
    }
   },
   "outputs": [],
   "source": [
    "accu_var = accus.std()\n",
    "accu_var"
   ]
  },
  {
   "cell_type": "code",
   "execution_count": null,
   "metadata": {
    "ExecuteTime": {
     "end_time": "2018-11-01T03:02:26.103511Z",
     "start_time": "2018-11-01T03:02:26.077809Z"
    }
   },
   "outputs": [],
   "source": [
    "accus"
   ]
  },
  {
   "cell_type": "code",
   "execution_count": null,
   "metadata": {
    "ExecuteTime": {
     "end_time": "2018-11-06T02:06:30.726406Z",
     "start_time": "2018-11-06T02:06:30.701155Z"
    }
   },
   "outputs": [],
   "source": [
    "def dropout_classifier(optimizer, metrics):\n",
    "    classifier = Sequential()\n",
    "    classifier.add(Dense(units=5, kernel_initializer='uniform',\n",
    "                         activation='relu', input_dim=5))\n",
    "    classifier.add(Dropout(rate=0.12))\n",
    "    classifier.add(\n",
    "        Dense(units=40, kernel_initializer='uniform', activation='relu'))\n",
    "    classifier.add(Dropout(rate=0.08))\n",
    "    classifier.add(\n",
    "        Dense(units=8, kernel_initializer='uniform', activation='relu'))\n",
    "    classifier.add(Dropout(rate=0.04))\n",
    "    classifier.add(\n",
    "        Dense(units=1, kernel_initializer='uniform', activation='sigmoid'))\n",
    "\n",
    "    classifier.compile(\n",
    "        optimizer=optimizer, loss='binary_crossentropy', metrics=[metrics])\n",
    "    return classifier"
   ]
  },
  {
   "cell_type": "code",
   "execution_count": null,
   "metadata": {
    "ExecuteTime": {
     "end_time": "2018-11-06T02:07:15.850794Z",
     "start_time": "2018-11-06T02:07:00.414066Z"
    },
    "scrolled": true
   },
   "outputs": [],
   "source": []
  },
  {
   "cell_type": "code",
   "execution_count": null,
   "metadata": {},
   "outputs": [],
   "source": []
  }
 ],
 "metadata": {
  "kernelspec": {
   "display_name": "Python 3",
   "language": "python",
   "name": "python3"
  },
  "language_info": {
   "codemirror_mode": {
    "name": "ipython",
    "version": 3
   },
   "file_extension": ".py",
   "mimetype": "text/x-python",
   "name": "python",
   "nbconvert_exporter": "python",
   "pygments_lexer": "ipython3",
   "version": "3.6.6"
  },
  "latex_envs": {
   "LaTeX_envs_menu_present": true,
   "autoclose": false,
   "autocomplete": true,
   "bibliofile": "biblio.bib",
   "cite_by": "apalike",
   "current_citInitial": 1,
   "eqLabelWithNumbers": true,
   "eqNumInitial": 1,
   "hotkeys": {
    "equation": "Ctrl-E",
    "itemize": "Ctrl-I"
   },
   "labels_anchors": false,
   "latex_user_defs": false,
   "report_style_numbering": false,
   "user_envs_cfg": false
  }
 },
 "nbformat": 4,
 "nbformat_minor": 2
}
