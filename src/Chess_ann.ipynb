{
 "cells": [
  {
   "cell_type": "code",
   "execution_count": 85,
   "metadata": {
    "ExecuteTime": {
     "end_time": "2018-10-21T23:22:52.485976Z",
     "start_time": "2018-10-21T23:22:52.458584Z"
    }
   },
   "outputs": [],
   "source": [
    "import pandas as pd\n",
    "import numpy as np\n",
    "import tensorflow\n",
    "import theano\n",
    "import pickle\n",
    "\n",
    "from pandas import *\n",
    "\n",
    "from sklearn.preprocessing import LabelEncoder, OneHotEncoder, StandardScaler\n",
    "from sklearn.model_selection import train_test_split, cross_val_score, GridSearchCV\n",
    "from sklearn.metrics import confusion_matrix\n",
    "\n",
    "import keras\n",
    "from keras.models import Sequential\n",
    "from keras.layers import Dense, Dropout, LSTM\n",
    "from keras.wrappers.scikit_learn import KerasClassifier\n",
    "\n",
    "import matplotlib.pyplot as plt\n",
    "%matplotlib inline\n",
    "from sklearn.externals.joblib import parallel_backend"
   ]
  },
  {
   "cell_type": "code",
   "execution_count": 86,
   "metadata": {
    "ExecuteTime": {
     "end_time": "2018-10-21T23:22:52.709963Z",
     "start_time": "2018-10-21T23:22:52.674767Z"
    }
   },
   "outputs": [],
   "source": [
    "df = pd.read_csv('../data/df_for_model.csv')\n",
    "# df['start_time'] = df['start_time']//1000\n",
    "df = df[df['result'] != 0.5]\n",
    "numeric_predictors = ['color', 'elo', 'opp_elo',\n",
    "                      'game_time', 'start_time', 'weekday', 'day']\n",
    "X = df[numeric_predictors]\n",
    "y = np.array(df['result'])"
   ]
  },
  {
   "cell_type": "code",
   "execution_count": 87,
   "metadata": {
    "ExecuteTime": {
     "end_time": "2018-10-21T23:22:52.802106Z",
     "start_time": "2018-10-21T23:22:52.775283Z"
    }
   },
   "outputs": [
    {
     "data": {
      "text/plain": [
       "(2024, 7)"
      ]
     },
     "execution_count": 87,
     "metadata": {},
     "output_type": "execute_result"
    }
   ],
   "source": [
    "X.shape"
   ]
  },
  {
   "cell_type": "code",
   "execution_count": 88,
   "metadata": {
    "ExecuteTime": {
     "end_time": "2018-10-21T23:22:52.916656Z",
     "start_time": "2018-10-21T23:22:52.886368Z"
    }
   },
   "outputs": [
    {
     "data": {
      "text/plain": [
       "(2024,)"
      ]
     },
     "execution_count": 88,
     "metadata": {},
     "output_type": "execute_result"
    }
   ],
   "source": [
    "y.shape"
   ]
  },
  {
   "cell_type": "code",
   "execution_count": 89,
   "metadata": {
    "ExecuteTime": {
     "end_time": "2018-10-21T23:22:53.049758Z",
     "start_time": "2018-10-21T23:22:53.009986Z"
    }
   },
   "outputs": [],
   "source": [
    "# X_train, X_test, y_train, y_test = train_test_split(X, y, test_size = 0.1)"
   ]
  },
  {
   "cell_type": "code",
   "execution_count": 90,
   "metadata": {
    "ExecuteTime": {
     "end_time": "2018-10-21T23:22:53.148315Z",
     "start_time": "2018-10-21T23:22:53.122570Z"
    }
   },
   "outputs": [],
   "source": [
    "X_train = X[:1824]\n",
    "y_train = y[:1824]\n",
    "X_test = X[1824:]\n",
    "y_test = y[1824:]"
   ]
  },
  {
   "cell_type": "code",
   "execution_count": 91,
   "metadata": {
    "ExecuteTime": {
     "end_time": "2018-10-21T23:22:53.276574Z",
     "start_time": "2018-10-21T23:22:53.251787Z"
    }
   },
   "outputs": [
    {
     "data": {
      "text/plain": [
       "(1824, 7)"
      ]
     },
     "execution_count": 91,
     "metadata": {},
     "output_type": "execute_result"
    }
   ],
   "source": [
    "X_train.shape"
   ]
  },
  {
   "cell_type": "code",
   "execution_count": 92,
   "metadata": {
    "ExecuteTime": {
     "end_time": "2018-10-21T23:22:53.401802Z",
     "start_time": "2018-10-21T23:22:53.375676Z"
    }
   },
   "outputs": [
    {
     "data": {
      "text/plain": [
       "(200, 7)"
      ]
     },
     "execution_count": 92,
     "metadata": {},
     "output_type": "execute_result"
    }
   ],
   "source": [
    "X_test.shape"
   ]
  },
  {
   "cell_type": "code",
   "execution_count": 93,
   "metadata": {
    "ExecuteTime": {
     "end_time": "2018-10-21T23:22:53.525872Z",
     "start_time": "2018-10-21T23:22:53.500640Z"
    }
   },
   "outputs": [
    {
     "data": {
      "text/plain": [
       "(1824,)"
      ]
     },
     "execution_count": 93,
     "metadata": {},
     "output_type": "execute_result"
    }
   ],
   "source": [
    "y_train.shape"
   ]
  },
  {
   "cell_type": "code",
   "execution_count": 94,
   "metadata": {
    "ExecuteTime": {
     "end_time": "2018-10-21T23:22:53.658185Z",
     "start_time": "2018-10-21T23:22:53.628062Z"
    }
   },
   "outputs": [
    {
     "name": "stderr",
     "output_type": "stream",
     "text": [
      "/home/guess/anaconda3/lib/python3.6/site-packages/sklearn/preprocessing/data.py:617: DataConversionWarning: Data with input dtype int64, float64 were all converted to float64 by StandardScaler.\n",
      "  return self.partial_fit(X, y)\n",
      "/home/guess/anaconda3/lib/python3.6/site-packages/sklearn/base.py:462: DataConversionWarning: Data with input dtype int64, float64 were all converted to float64 by StandardScaler.\n",
      "  return self.fit(X, **fit_params).transform(X)\n",
      "/home/guess/anaconda3/lib/python3.6/site-packages/sklearn/preprocessing/data.py:617: DataConversionWarning: Data with input dtype int64, float64 were all converted to float64 by StandardScaler.\n",
      "  return self.partial_fit(X, y)\n",
      "/home/guess/anaconda3/lib/python3.6/site-packages/sklearn/base.py:462: DataConversionWarning: Data with input dtype int64, float64 were all converted to float64 by StandardScaler.\n",
      "  return self.fit(X, **fit_params).transform(X)\n"
     ]
    }
   ],
   "source": [
    "std_sclr = StandardScaler()\n",
    "X_train = std_sclr.fit_transform(X_train)\n",
    "X_test = std_sclr.fit_transform(X_test)"
   ]
  },
  {
   "cell_type": "code",
   "execution_count": 95,
   "metadata": {
    "ExecuteTime": {
     "end_time": "2018-10-21T23:22:53.780725Z",
     "start_time": "2018-10-21T23:22:53.743470Z"
    }
   },
   "outputs": [
    {
     "data": {
      "text/plain": [
       "array([  0.499975  ,  37.17137474, 132.40086858, 139.94284548,\n",
       "         4.71242772,   2.05814844,   8.63622458])"
      ]
     },
     "execution_count": 95,
     "metadata": {},
     "output_type": "execute_result"
    }
   ],
   "source": [
    "std_sclr.scale_"
   ]
  },
  {
   "cell_type": "code",
   "execution_count": 102,
   "metadata": {
    "ExecuteTime": {
     "end_time": "2018-10-21T23:24:25.486191Z",
     "start_time": "2018-10-21T23:24:25.460207Z"
    }
   },
   "outputs": [],
   "source": [
    "def _classifier():\n",
    "    classifier = Sequential()\n",
    "    \n",
    "    classifier.add(Dense(units=7, kernel_initializer='uniform',\n",
    "                         activation='relu', input_dim=7))\n",
    "    \n",
    "    classifier.add(\n",
    "        Dense(units=14, kernel_initializer='uniform', activation='softsign'))\n",
    "    \n",
    "    classifier.add(\n",
    "        Dense(units=7, kernel_initializer='uniform', activation='relu'))\n",
    "    \n",
    "    classifier.add(\n",
    "        Dense(units=1, kernel_initializer='uniform', activation='sigmoid'))\n",
    "\n",
    "    classifier.compile(\n",
    "        optimizer='nadam', loss='binary_crossentropy', metrics=['cosine'])\n",
    "\n",
    "    return classifier"
   ]
  },
  {
   "cell_type": "code",
   "execution_count": 103,
   "metadata": {
    "ExecuteTime": {
     "end_time": "2018-10-21T23:24:26.501014Z",
     "start_time": "2018-10-21T23:24:26.290632Z"
    }
   },
   "outputs": [],
   "source": [
    "classifier = _classifier()"
   ]
  },
  {
   "cell_type": "code",
   "execution_count": 104,
   "metadata": {
    "ExecuteTime": {
     "end_time": "2018-10-21T23:25:39.900007Z",
     "start_time": "2018-10-21T23:24:27.356482Z"
    },
    "scrolled": true
   },
   "outputs": [
    {
     "name": "stdout",
     "output_type": "stream",
     "text": [
      "Epoch 1/175\n",
      "1824/1824 [==============================] - 1s 613us/step - loss: 0.6789 - cosine_proximity: -0.4951\n",
      "Epoch 2/175\n",
      "1824/1824 [==============================] - 0s 201us/step - loss: 0.5858 - cosine_proximity: -0.4951\n",
      "Epoch 3/175\n",
      "1824/1824 [==============================] - 0s 215us/step - loss: 0.5667 - cosine_proximity: -0.4951\n",
      "Epoch 4/175\n",
      "1824/1824 [==============================] - 0s 224us/step - loss: 0.5655 - cosine_proximity: -0.4951\n",
      "Epoch 5/175\n",
      "1824/1824 [==============================] - 0s 226us/step - loss: 0.5627 - cosine_proximity: -0.4951\n",
      "Epoch 6/175\n",
      "1824/1824 [==============================] - 0s 212us/step - loss: 0.5607 - cosine_proximity: -0.4951\n",
      "Epoch 7/175\n",
      "1824/1824 [==============================] - 0s 231us/step - loss: 0.5588 - cosine_proximity: -0.4951\n",
      "Epoch 8/175\n",
      "1824/1824 [==============================] - 0s 212us/step - loss: 0.5574 - cosine_proximity: -0.4951\n",
      "Epoch 9/175\n",
      "1824/1824 [==============================] - 0s 210us/step - loss: 0.5571 - cosine_proximity: -0.4951\n",
      "Epoch 10/175\n",
      "1824/1824 [==============================] - 0s 211us/step - loss: 0.5563 - cosine_proximity: -0.4951\n",
      "Epoch 11/175\n",
      "1824/1824 [==============================] - 0s 215us/step - loss: 0.5546 - cosine_proximity: -0.4951\n",
      "Epoch 12/175\n",
      "1824/1824 [==============================] - 0s 206us/step - loss: 0.5545 - cosine_proximity: -0.4951\n",
      "Epoch 13/175\n",
      "1824/1824 [==============================] - 0s 209us/step - loss: 0.5554 - cosine_proximity: -0.4951\n",
      "Epoch 14/175\n",
      "1824/1824 [==============================] - 0s 211us/step - loss: 0.5549 - cosine_proximity: -0.4951\n",
      "Epoch 15/175\n",
      "1824/1824 [==============================] - 0s 205us/step - loss: 0.5536 - cosine_proximity: -0.4951\n",
      "Epoch 16/175\n",
      "1824/1824 [==============================] - 0s 221us/step - loss: 0.5541 - cosine_proximity: -0.4951\n",
      "Epoch 17/175\n",
      "1824/1824 [==============================] - 0s 212us/step - loss: 0.5540 - cosine_proximity: -0.4951\n",
      "Epoch 18/175\n",
      "1824/1824 [==============================] - 0s 209us/step - loss: 0.5532 - cosine_proximity: -0.4951\n",
      "Epoch 19/175\n",
      "1824/1824 [==============================] - 0s 209us/step - loss: 0.5521 - cosine_proximity: -0.4951\n",
      "Epoch 20/175\n",
      "1824/1824 [==============================] - 0s 208us/step - loss: 0.5529 - cosine_proximity: -0.4951\n",
      "Epoch 21/175\n",
      "1824/1824 [==============================] - 0s 214us/step - loss: 0.5539 - cosine_proximity: -0.4951\n",
      "Epoch 22/175\n",
      "1824/1824 [==============================] - 0s 198us/step - loss: 0.5524 - cosine_proximity: -0.4951\n",
      "Epoch 23/175\n",
      "1824/1824 [==============================] - 0s 211us/step - loss: 0.5528 - cosine_proximity: -0.4951\n",
      "Epoch 24/175\n",
      "1824/1824 [==============================] - 0s 200us/step - loss: 0.5520 - cosine_proximity: -0.4951\n",
      "Epoch 25/175\n",
      "1824/1824 [==============================] - 0s 210us/step - loss: 0.5512 - cosine_proximity: -0.4951\n",
      "Epoch 26/175\n",
      "1824/1824 [==============================] - 0s 216us/step - loss: 0.5518 - cosine_proximity: -0.4951\n",
      "Epoch 27/175\n",
      "1824/1824 [==============================] - 0s 207us/step - loss: 0.5512 - cosine_proximity: -0.4951\n",
      "Epoch 28/175\n",
      "1824/1824 [==============================] - 0s 212us/step - loss: 0.5523 - cosine_proximity: -0.4951\n",
      "Epoch 29/175\n",
      "1824/1824 [==============================] - 0s 212us/step - loss: 0.5511 - cosine_proximity: -0.4951\n",
      "Epoch 30/175\n",
      "1824/1824 [==============================] - 0s 198us/step - loss: 0.5514 - cosine_proximity: -0.4951\n",
      "Epoch 31/175\n",
      "1824/1824 [==============================] - 0s 206us/step - loss: 0.5511 - cosine_proximity: -0.4951\n",
      "Epoch 32/175\n",
      "1824/1824 [==============================] - 0s 206us/step - loss: 0.5503 - cosine_proximity: -0.4951\n",
      "Epoch 33/175\n",
      "1824/1824 [==============================] - 0s 215us/step - loss: 0.5506 - cosine_proximity: -0.4951\n",
      "Epoch 34/175\n",
      "1824/1824 [==============================] - 0s 209us/step - loss: 0.5495 - cosine_proximity: -0.4951\n",
      "Epoch 35/175\n",
      "1824/1824 [==============================] - 0s 216us/step - loss: 0.5496 - cosine_proximity: -0.4951\n",
      "Epoch 36/175\n",
      "1824/1824 [==============================] - 0s 211us/step - loss: 0.5486 - cosine_proximity: -0.4951\n",
      "Epoch 37/175\n",
      "1824/1824 [==============================] - 0s 209us/step - loss: 0.5495 - cosine_proximity: -0.4951\n",
      "Epoch 38/175\n",
      "1824/1824 [==============================] - 0s 212us/step - loss: 0.5486 - cosine_proximity: -0.4951\n",
      "Epoch 39/175\n",
      "1824/1824 [==============================] - 0s 213us/step - loss: 0.5495 - cosine_proximity: -0.4951\n",
      "Epoch 40/175\n",
      "1824/1824 [==============================] - 0s 215us/step - loss: 0.5490 - cosine_proximity: -0.4951\n",
      "Epoch 41/175\n",
      "1824/1824 [==============================] - 0s 217us/step - loss: 0.5483 - cosine_proximity: -0.4951\n",
      "Epoch 42/175\n",
      "1824/1824 [==============================] - 0s 266us/step - loss: 0.5475 - cosine_proximity: -0.4951\n",
      "Epoch 43/175\n",
      "1824/1824 [==============================] - 0s 225us/step - loss: 0.5489 - cosine_proximity: -0.4951\n",
      "Epoch 44/175\n",
      "1824/1824 [==============================] - 0s 227us/step - loss: 0.5482 - cosine_proximity: -0.4951\n",
      "Epoch 45/175\n",
      "1824/1824 [==============================] - 0s 249us/step - loss: 0.5481 - cosine_proximity: -0.4951\n",
      "Epoch 46/175\n",
      "1824/1824 [==============================] - 0s 242us/step - loss: 0.5468 - cosine_proximity: -0.4951\n",
      "Epoch 47/175\n",
      "1824/1824 [==============================] - 0s 220us/step - loss: 0.5467 - cosine_proximity: -0.4951\n",
      "Epoch 48/175\n",
      "1824/1824 [==============================] - 0s 264us/step - loss: 0.5468 - cosine_proximity: -0.4951\n",
      "Epoch 49/175\n",
      "1824/1824 [==============================] - 0s 230us/step - loss: 0.5468 - cosine_proximity: -0.4951\n",
      "Epoch 50/175\n",
      "1824/1824 [==============================] - 0s 227us/step - loss: 0.5469 - cosine_proximity: -0.4951\n",
      "Epoch 51/175\n",
      "1824/1824 [==============================] - 0s 220us/step - loss: 0.5475 - cosine_proximity: -0.4951\n",
      "Epoch 52/175\n",
      "1824/1824 [==============================] - 0s 248us/step - loss: 0.5473 - cosine_proximity: -0.4951\n",
      "Epoch 53/175\n",
      "1824/1824 [==============================] - 0s 258us/step - loss: 0.5468 - cosine_proximity: -0.4951\n",
      "Epoch 54/175\n",
      "1824/1824 [==============================] - 0s 228us/step - loss: 0.5459 - cosine_proximity: -0.4951\n",
      "Epoch 55/175\n",
      "1824/1824 [==============================] - 1s 277us/step - loss: 0.5457 - cosine_proximity: -0.4951\n",
      "Epoch 56/175\n",
      "1824/1824 [==============================] - 0s 213us/step - loss: 0.5445 - cosine_proximity: -0.4951\n",
      "Epoch 57/175\n",
      "1824/1824 [==============================] - 0s 200us/step - loss: 0.5449 - cosine_proximity: -0.4951\n",
      "Epoch 58/175\n",
      "1824/1824 [==============================] - 0s 235us/step - loss: 0.5461 - cosine_proximity: -0.4951\n",
      "Epoch 59/175\n",
      "1824/1824 [==============================] - 0s 253us/step - loss: 0.5462 - cosine_proximity: -0.4951\n",
      "Epoch 60/175\n",
      "1824/1824 [==============================] - 0s 235us/step - loss: 0.5452 - cosine_proximity: -0.4951\n",
      "Epoch 61/175\n",
      "1824/1824 [==============================] - 0s 241us/step - loss: 0.5446 - cosine_proximity: -0.4951\n",
      "Epoch 62/175\n",
      "1824/1824 [==============================] - 0s 244us/step - loss: 0.5435 - cosine_proximity: -0.4951\n",
      "Epoch 63/175\n",
      "1824/1824 [==============================] - 0s 233us/step - loss: 0.5456 - cosine_proximity: -0.4951\n",
      "Epoch 64/175\n",
      "1824/1824 [==============================] - 0s 264us/step - loss: 0.5434 - cosine_proximity: -0.4951\n",
      "Epoch 65/175\n",
      "1824/1824 [==============================] - 0s 248us/step - loss: 0.5443 - cosine_proximity: -0.4951\n",
      "Epoch 66/175\n",
      "1824/1824 [==============================] - 0s 212us/step - loss: 0.5447 - cosine_proximity: -0.4951\n",
      "Epoch 67/175\n",
      "1824/1824 [==============================] - 0s 250us/step - loss: 0.5433 - cosine_proximity: -0.4951\n",
      "Epoch 68/175\n",
      "1824/1824 [==============================] - 0s 257us/step - loss: 0.5442 - cosine_proximity: -0.4951\n",
      "Epoch 69/175\n",
      "1824/1824 [==============================] - 0s 239us/step - loss: 0.5447 - cosine_proximity: -0.4951\n",
      "Epoch 70/175\n",
      "1824/1824 [==============================] - 0s 248us/step - loss: 0.5431 - cosine_proximity: -0.4951\n",
      "Epoch 71/175\n",
      "1824/1824 [==============================] - 0s 231us/step - loss: 0.5431 - cosine_proximity: -0.4951\n",
      "Epoch 72/175\n"
     ]
    },
    {
     "name": "stdout",
     "output_type": "stream",
     "text": [
      "1824/1824 [==============================] - 0s 229us/step - loss: 0.5428 - cosine_proximity: -0.4951\n",
      "Epoch 73/175\n",
      "1824/1824 [==============================] - 0s 218us/step - loss: 0.5434 - cosine_proximity: -0.4951\n",
      "Epoch 74/175\n",
      "1824/1824 [==============================] - 0s 213us/step - loss: 0.5431 - cosine_proximity: -0.4951\n",
      "Epoch 75/175\n",
      "1824/1824 [==============================] - 0s 229us/step - loss: 0.5426 - cosine_proximity: -0.4951\n",
      "Epoch 76/175\n",
      "1824/1824 [==============================] - 0s 224us/step - loss: 0.5411 - cosine_proximity: -0.4951\n",
      "Epoch 77/175\n",
      "1824/1824 [==============================] - 0s 216us/step - loss: 0.5422 - cosine_proximity: -0.4951\n",
      "Epoch 78/175\n",
      "1824/1824 [==============================] - 0s 241us/step - loss: 0.5414 - cosine_proximity: -0.4951\n",
      "Epoch 79/175\n",
      "1824/1824 [==============================] - 0s 219us/step - loss: 0.5432 - cosine_proximity: -0.4951\n",
      "Epoch 80/175\n",
      "1824/1824 [==============================] - 0s 226us/step - loss: 0.5422 - cosine_proximity: -0.4951\n",
      "Epoch 81/175\n",
      "1824/1824 [==============================] - 0s 230us/step - loss: 0.5425 - cosine_proximity: -0.4951\n",
      "Epoch 82/175\n",
      "1824/1824 [==============================] - 0s 225us/step - loss: 0.5413 - cosine_proximity: -0.4951\n",
      "Epoch 83/175\n",
      "1824/1824 [==============================] - 0s 234us/step - loss: 0.5436 - cosine_proximity: -0.4951\n",
      "Epoch 84/175\n",
      "1824/1824 [==============================] - 0s 237us/step - loss: 0.5422 - cosine_proximity: -0.4951\n",
      "Epoch 85/175\n",
      "1824/1824 [==============================] - 0s 224us/step - loss: 0.5421 - cosine_proximity: -0.4951\n",
      "Epoch 86/175\n",
      "1824/1824 [==============================] - 0s 224us/step - loss: 0.5411 - cosine_proximity: -0.4951\n",
      "Epoch 87/175\n",
      "1824/1824 [==============================] - 0s 224us/step - loss: 0.5408 - cosine_proximity: -0.4951\n",
      "Epoch 88/175\n",
      "1824/1824 [==============================] - 0s 227us/step - loss: 0.5416 - cosine_proximity: -0.4951\n",
      "Epoch 89/175\n",
      "1824/1824 [==============================] - 0s 236us/step - loss: 0.5411 - cosine_proximity: -0.4951\n",
      "Epoch 90/175\n",
      "1824/1824 [==============================] - 0s 237us/step - loss: 0.5411 - cosine_proximity: -0.4951\n",
      "Epoch 91/175\n",
      "1824/1824 [==============================] - 0s 225us/step - loss: 0.5401 - cosine_proximity: -0.4951\n",
      "Epoch 92/175\n",
      "1824/1824 [==============================] - 0s 243us/step - loss: 0.5401 - cosine_proximity: -0.4951\n",
      "Epoch 93/175\n",
      "1824/1824 [==============================] - 0s 233us/step - loss: 0.5395 - cosine_proximity: -0.4951\n",
      "Epoch 94/175\n",
      "1824/1824 [==============================] - 0s 226us/step - loss: 0.5402 - cosine_proximity: -0.4951\n",
      "Epoch 95/175\n",
      "1824/1824 [==============================] - 0s 222us/step - loss: 0.5408 - cosine_proximity: -0.4951\n",
      "Epoch 96/175\n",
      "1824/1824 [==============================] - 0s 242us/step - loss: 0.5397 - cosine_proximity: -0.4951\n",
      "Epoch 97/175\n",
      "1824/1824 [==============================] - 0s 226us/step - loss: 0.5393 - cosine_proximity: -0.4951\n",
      "Epoch 98/175\n",
      "1824/1824 [==============================] - 0s 236us/step - loss: 0.5396 - cosine_proximity: -0.4951\n",
      "Epoch 99/175\n",
      "1824/1824 [==============================] - 0s 232us/step - loss: 0.5379 - cosine_proximity: -0.4951\n",
      "Epoch 100/175\n",
      "1824/1824 [==============================] - 0s 240us/step - loss: 0.5401 - cosine_proximity: -0.4951\n",
      "Epoch 101/175\n",
      "1824/1824 [==============================] - 0s 243us/step - loss: 0.5392 - cosine_proximity: -0.4951\n",
      "Epoch 102/175\n",
      "1824/1824 [==============================] - 0s 229us/step - loss: 0.5413 - cosine_proximity: -0.4951\n",
      "Epoch 103/175\n",
      "1824/1824 [==============================] - 0s 236us/step - loss: 0.5391 - cosine_proximity: -0.4951\n",
      "Epoch 104/175\n",
      "1824/1824 [==============================] - 0s 224us/step - loss: 0.5378 - cosine_proximity: -0.4951\n",
      "Epoch 105/175\n",
      "1824/1824 [==============================] - 0s 244us/step - loss: 0.5378 - cosine_proximity: -0.4951\n",
      "Epoch 106/175\n",
      "1824/1824 [==============================] - 0s 235us/step - loss: 0.5397 - cosine_proximity: -0.4951\n",
      "Epoch 107/175\n",
      "1824/1824 [==============================] - 0s 247us/step - loss: 0.5391 - cosine_proximity: -0.4951\n",
      "Epoch 108/175\n",
      "1824/1824 [==============================] - 0s 232us/step - loss: 0.5379 - cosine_proximity: -0.4951\n",
      "Epoch 109/175\n",
      "1824/1824 [==============================] - 0s 232us/step - loss: 0.5383 - cosine_proximity: -0.4951\n",
      "Epoch 110/175\n",
      "1824/1824 [==============================] - 0s 228us/step - loss: 0.5387 - cosine_proximity: -0.4951\n",
      "Epoch 111/175\n",
      "1824/1824 [==============================] - 0s 211us/step - loss: 0.5383 - cosine_proximity: -0.4951\n",
      "Epoch 112/175\n",
      "1824/1824 [==============================] - 0s 215us/step - loss: 0.5349 - cosine_proximity: -0.4951\n",
      "Epoch 113/175\n",
      "1824/1824 [==============================] - 0s 226us/step - loss: 0.5384 - cosine_proximity: -0.4951\n",
      "Epoch 114/175\n",
      "1824/1824 [==============================] - 0s 225us/step - loss: 0.5378 - cosine_proximity: -0.4951\n",
      "Epoch 115/175\n",
      "1824/1824 [==============================] - 0s 222us/step - loss: 0.5370 - cosine_proximity: -0.4951\n",
      "Epoch 116/175\n",
      "1824/1824 [==============================] - 0s 244us/step - loss: 0.5379 - cosine_proximity: -0.4951\n",
      "Epoch 117/175\n",
      "1824/1824 [==============================] - 0s 232us/step - loss: 0.5372 - cosine_proximity: -0.4951\n",
      "Epoch 118/175\n",
      "1824/1824 [==============================] - 0s 226us/step - loss: 0.5374 - cosine_proximity: -0.4951\n",
      "Epoch 119/175\n",
      "1824/1824 [==============================] - 0s 245us/step - loss: 0.5361 - cosine_proximity: -0.4951\n",
      "Epoch 120/175\n",
      "1824/1824 [==============================] - 0s 228us/step - loss: 0.5374 - cosine_proximity: -0.4951\n",
      "Epoch 121/175\n",
      "1824/1824 [==============================] - 0s 241us/step - loss: 0.5370 - cosine_proximity: -0.4951\n",
      "Epoch 122/175\n",
      "1824/1824 [==============================] - 0s 220us/step - loss: 0.5373 - cosine_proximity: -0.4951\n",
      "Epoch 123/175\n",
      "1824/1824 [==============================] - 0s 233us/step - loss: 0.5362 - cosine_proximity: -0.4951\n",
      "Epoch 124/175\n",
      "1824/1824 [==============================] - 0s 235us/step - loss: 0.5348 - cosine_proximity: -0.4951\n",
      "Epoch 125/175\n",
      "1824/1824 [==============================] - 0s 248us/step - loss: 0.5375 - cosine_proximity: -0.4951\n",
      "Epoch 126/175\n",
      "1824/1824 [==============================] - 0s 230us/step - loss: 0.5359 - cosine_proximity: -0.4951\n",
      "Epoch 127/175\n",
      "1824/1824 [==============================] - 0s 246us/step - loss: 0.5361 - cosine_proximity: -0.4951\n",
      "Epoch 128/175\n",
      "1824/1824 [==============================] - 0s 240us/step - loss: 0.5358 - cosine_proximity: -0.4951\n",
      "Epoch 129/175\n",
      "1824/1824 [==============================] - 0s 231us/step - loss: 0.5361 - cosine_proximity: -0.4951\n",
      "Epoch 130/175\n",
      "1824/1824 [==============================] - 0s 237us/step - loss: 0.5366 - cosine_proximity: -0.4951\n",
      "Epoch 131/175\n",
      "1824/1824 [==============================] - 0s 245us/step - loss: 0.5345 - cosine_proximity: -0.4951\n",
      "Epoch 132/175\n",
      "1824/1824 [==============================] - 0s 253us/step - loss: 0.5349 - cosine_proximity: -0.4951\n",
      "Epoch 133/175\n",
      "1824/1824 [==============================] - 0s 237us/step - loss: 0.5347 - cosine_proximity: -0.4951\n",
      "Epoch 134/175\n",
      "1824/1824 [==============================] - 0s 228us/step - loss: 0.5360 - cosine_proximity: -0.4951\n",
      "Epoch 135/175\n",
      "1824/1824 [==============================] - 0s 260us/step - loss: 0.5344 - cosine_proximity: -0.4951\n",
      "Epoch 136/175\n",
      "1824/1824 [==============================] - 0s 245us/step - loss: 0.5348 - cosine_proximity: -0.4951\n",
      "Epoch 137/175\n",
      "1824/1824 [==============================] - 0s 222us/step - loss: 0.5344 - cosine_proximity: -0.4951\n",
      "Epoch 138/175\n",
      "1824/1824 [==============================] - 0s 208us/step - loss: 0.5357 - cosine_proximity: -0.4951\n",
      "Epoch 139/175\n",
      "1824/1824 [==============================] - 0s 209us/step - loss: 0.5330 - cosine_proximity: -0.4951\n",
      "Epoch 140/175\n",
      "1824/1824 [==============================] - 0s 225us/step - loss: 0.5334 - cosine_proximity: -0.4951\n",
      "Epoch 141/175\n",
      "1824/1824 [==============================] - 0s 220us/step - loss: 0.5346 - cosine_proximity: -0.4951\n",
      "Epoch 142/175\n",
      "1824/1824 [==============================] - 0s 221us/step - loss: 0.5336 - cosine_proximity: -0.4951\n"
     ]
    },
    {
     "name": "stdout",
     "output_type": "stream",
     "text": [
      "Epoch 143/175\n",
      "1824/1824 [==============================] - 0s 207us/step - loss: 0.5332 - cosine_proximity: -0.4951\n",
      "Epoch 144/175\n",
      "1824/1824 [==============================] - 0s 199us/step - loss: 0.5333 - cosine_proximity: -0.4951\n",
      "Epoch 145/175\n",
      "1824/1824 [==============================] - 0s 219us/step - loss: 0.5330 - cosine_proximity: -0.4951\n",
      "Epoch 146/175\n",
      "1824/1824 [==============================] - 0s 211us/step - loss: 0.5337 - cosine_proximity: -0.4951\n",
      "Epoch 147/175\n",
      "1824/1824 [==============================] - 0s 207us/step - loss: 0.5326 - cosine_proximity: -0.4951\n",
      "Epoch 148/175\n",
      "1824/1824 [==============================] - 0s 197us/step - loss: 0.5322 - cosine_proximity: -0.4951\n",
      "Epoch 149/175\n",
      "1824/1824 [==============================] - 0s 203us/step - loss: 0.5323 - cosine_proximity: -0.4951\n",
      "Epoch 150/175\n",
      "1824/1824 [==============================] - 0s 222us/step - loss: 0.5316 - cosine_proximity: -0.4951\n",
      "Epoch 151/175\n",
      "1824/1824 [==============================] - 0s 209us/step - loss: 0.5314 - cosine_proximity: -0.4951\n",
      "Epoch 152/175\n",
      "1824/1824 [==============================] - 0s 212us/step - loss: 0.5326 - cosine_proximity: -0.4951\n",
      "Epoch 153/175\n",
      "1824/1824 [==============================] - 0s 245us/step - loss: 0.5324 - cosine_proximity: -0.4951\n",
      "Epoch 154/175\n",
      "1824/1824 [==============================] - 0s 196us/step - loss: 0.5319 - cosine_proximity: -0.4951\n",
      "Epoch 155/175\n",
      "1824/1824 [==============================] - 0s 204us/step - loss: 0.5323 - cosine_proximity: -0.4951\n",
      "Epoch 156/175\n",
      "1824/1824 [==============================] - 0s 230us/step - loss: 0.5321 - cosine_proximity: -0.4951\n",
      "Epoch 157/175\n",
      "1824/1824 [==============================] - 0s 198us/step - loss: 0.5318 - cosine_proximity: -0.4951\n",
      "Epoch 158/175\n",
      "1824/1824 [==============================] - 0s 202us/step - loss: 0.5323 - cosine_proximity: -0.4951\n",
      "Epoch 159/175\n",
      "1824/1824 [==============================] - 0s 209us/step - loss: 0.5326 - cosine_proximity: -0.4951\n",
      "Epoch 160/175\n",
      "1824/1824 [==============================] - 0s 206us/step - loss: 0.5301 - cosine_proximity: -0.4951\n",
      "Epoch 161/175\n",
      "1824/1824 [==============================] - 0s 203us/step - loss: 0.5316 - cosine_proximity: -0.4951\n",
      "Epoch 162/175\n",
      "1824/1824 [==============================] - 0s 199us/step - loss: 0.5313 - cosine_proximity: -0.4951\n",
      "Epoch 163/175\n",
      "1824/1824 [==============================] - 0s 206us/step - loss: 0.5302 - cosine_proximity: -0.4951\n",
      "Epoch 164/175\n",
      "1824/1824 [==============================] - 0s 205us/step - loss: 0.5307 - cosine_proximity: -0.4951\n",
      "Epoch 165/175\n",
      "1824/1824 [==============================] - 0s 204us/step - loss: 0.5310 - cosine_proximity: -0.4951\n",
      "Epoch 166/175\n",
      "1824/1824 [==============================] - 0s 202us/step - loss: 0.5302 - cosine_proximity: -0.4951\n",
      "Epoch 167/175\n",
      "1824/1824 [==============================] - 0s 214us/step - loss: 0.5314 - cosine_proximity: -0.4951\n",
      "Epoch 168/175\n",
      "1824/1824 [==============================] - 0s 204us/step - loss: 0.5305 - cosine_proximity: -0.4951\n",
      "Epoch 169/175\n",
      "1824/1824 [==============================] - 0s 215us/step - loss: 0.5303 - cosine_proximity: -0.4951\n",
      "Epoch 170/175\n",
      "1824/1824 [==============================] - 0s 209us/step - loss: 0.5315 - cosine_proximity: -0.4951\n",
      "Epoch 171/175\n",
      "1824/1824 [==============================] - 0s 203us/step - loss: 0.5295 - cosine_proximity: -0.4951\n",
      "Epoch 172/175\n",
      "1824/1824 [==============================] - 0s 199us/step - loss: 0.5299 - cosine_proximity: -0.4951\n",
      "Epoch 173/175\n",
      "1824/1824 [==============================] - 0s 204us/step - loss: 0.5303 - cosine_proximity: -0.4951\n",
      "Epoch 174/175\n",
      "1824/1824 [==============================] - 0s 207us/step - loss: 0.5296 - cosine_proximity: -0.4951\n",
      "Epoch 175/175\n",
      "1824/1824 [==============================] - 0s 212us/step - loss: 0.5306 - cosine_proximity: -0.4951\n"
     ]
    },
    {
     "data": {
      "text/plain": [
       "<keras.callbacks.History at 0x7fa6b14c1160>"
      ]
     },
     "execution_count": 104,
     "metadata": {},
     "output_type": "execute_result"
    }
   ],
   "source": [
    "classifier.fit(X_train, y_train, batch_size=12, epochs=175)"
   ]
  },
  {
   "cell_type": "code",
   "execution_count": 105,
   "metadata": {
    "ExecuteTime": {
     "end_time": "2018-10-21T23:25:40.033678Z",
     "start_time": "2018-10-21T23:25:39.901774Z"
    }
   },
   "outputs": [],
   "source": [
    "y_pred = classifier.predict(X_test)\n",
    "y_pred = (y_pred > 0.5)"
   ]
  },
  {
   "cell_type": "code",
   "execution_count": 106,
   "metadata": {
    "ExecuteTime": {
     "end_time": "2018-10-21T23:25:40.058911Z",
     "start_time": "2018-10-21T23:25:40.035424Z"
    }
   },
   "outputs": [
    {
     "data": {
      "text/plain": [
       "array([[71, 33],\n",
       "       [35, 61]])"
      ]
     },
     "execution_count": 106,
     "metadata": {},
     "output_type": "execute_result"
    }
   ],
   "source": [
    "cm = confusion_matrix(y_test, y_pred)\n",
    "cm"
   ]
  },
  {
   "cell_type": "code",
   "execution_count": 107,
   "metadata": {
    "ExecuteTime": {
     "end_time": "2018-10-21T23:25:40.089563Z",
     "start_time": "2018-10-21T23:25:40.060883Z"
    }
   },
   "outputs": [
    {
     "data": {
      "text/plain": [
       "0.66"
      ]
     },
     "execution_count": 107,
     "metadata": {},
     "output_type": "execute_result"
    }
   ],
   "source": [
    "(cm[0][0]+cm[1][1])/200"
   ]
  },
  {
   "cell_type": "markdown",
   "metadata": {},
   "source": [
    "### 75.5% Accuracy on 1824 training, 200 test\n",
    "__3 layers__\n",
    "- layer 1 = ReLU X 7\n",
    "- layer 2 = SoftMax X 14\n",
    "- layer 3 = ReLU X 7\n",
    "- output layer = Sigmoid X 1\n",
    "\n",
    "__metrics__ = Cosine\n",
    "\n",
    "__loss__ = binary_crossentropy\n",
    "\n",
    "__Optimizer__ = Nadam\n",
    "\n",
    "__Batch size__ = 12\n",
    "\n",
    "__Epochs__ = 175\n",
    "\n",
    "no __diff__"
   ]
  },
  {
   "cell_type": "code",
   "execution_count": 128,
   "metadata": {
    "ExecuteTime": {
     "end_time": "2018-10-18T16:31:43.167518Z",
     "start_time": "2018-10-18T16:31:43.143247Z"
    }
   },
   "outputs": [],
   "source": [
    "classifier = KerasClassifier(\n",
    "    build_fn=_classifier, batch_size=10, epochs=200)"
   ]
  },
  {
   "cell_type": "code",
   "execution_count": 390,
   "metadata": {
    "ExecuteTime": {
     "end_time": "2018-10-20T03:52:48.350969Z",
     "start_time": "2018-10-20T03:52:48.329051Z"
    }
   },
   "outputs": [],
   "source": [
    "accus = cross_val_score(estimator=classifier, X=X_train,\n",
    "                        y=y_train, cv=10, n_jobs=-4)"
   ]
  },
  {
   "cell_type": "code",
   "execution_count": null,
   "metadata": {
    "ExecuteTime": {
     "end_time": "2018-10-18T05:09:13.614250Z",
     "start_time": "2018-10-18T05:08:19.665Z"
    }
   },
   "outputs": [],
   "source": [
    "accus"
   ]
  },
  {
   "cell_type": "code",
   "execution_count": null,
   "metadata": {
    "ExecuteTime": {
     "end_time": "2018-10-18T05:09:13.615837Z",
     "start_time": "2018-10-18T05:08:21.370Z"
    }
   },
   "outputs": [],
   "source": [
    "accu_mean = accus.mean()\n",
    "accu_mean"
   ]
  },
  {
   "cell_type": "code",
   "execution_count": null,
   "metadata": {
    "ExecuteTime": {
     "end_time": "2018-10-18T05:09:13.617230Z",
     "start_time": "2018-10-18T05:08:21.709Z"
    }
   },
   "outputs": [],
   "source": [
    "accu_var = accus.std()\n",
    "accu_var"
   ]
  },
  {
   "cell_type": "code",
   "execution_count": 12,
   "metadata": {
    "ExecuteTime": {
     "end_time": "2018-10-20T04:28:14.220079Z",
     "start_time": "2018-10-20T04:28:14.191022Z"
    }
   },
   "outputs": [],
   "source": [
    "def dropout_classifier(optimizer):\n",
    "    classifier = Sequential()\n",
    "    classifier.add(Dense(units=7, kernel_initializer='uniform',\n",
    "                         activation='relu', input_dim=7))\n",
    "    classifier.add(Dropout(rate=0.12))\n",
    "    classifier.add(\n",
    "        Dense(units=28, kernel_initializer='uniform', activation='softsign'))\n",
    "    classifier.add(Dropout(rate=0.08))\n",
    "    classifier.add(\n",
    "        Dense(units=4, kernel_initializer='uniform', activation='relu'))\n",
    "    classifier.add(Dropout(rate=0.04))\n",
    "    classifier.add(\n",
    "        Dense(units=1, kernel_initializer='uniform', activation='sigmoid'))\n",
    "\n",
    "    classifier.compile(\n",
    "        optimizer=optimizer, loss='binary_crossentropy', metrics=['accuracy'])\n",
    "    return classifier"
   ]
  },
  {
   "cell_type": "code",
   "execution_count": 13,
   "metadata": {
    "ExecuteTime": {
     "end_time": "2018-10-20T04:28:14.860773Z",
     "start_time": "2018-10-20T04:28:14.837029Z"
    }
   },
   "outputs": [],
   "source": [
    "classifier = KerasClassifier(build_fn=dropout_classifier)"
   ]
  },
  {
   "cell_type": "code",
   "execution_count": 14,
   "metadata": {
    "ExecuteTime": {
     "end_time": "2018-10-20T04:28:17.940636Z",
     "start_time": "2018-10-20T04:28:17.906664Z"
    }
   },
   "outputs": [],
   "source": [
    "parameters = {'batch_size': [10,20,30], 'nb_epoch': [100, 150, 200],\n",
    "              'optimizer': ['Nadam', 'Adadelta', 'adamax']}"
   ]
  },
  {
   "cell_type": "code",
   "execution_count": 15,
   "metadata": {
    "ExecuteTime": {
     "end_time": "2018-10-20T04:28:18.806455Z",
     "start_time": "2018-10-20T04:28:18.782469Z"
    }
   },
   "outputs": [],
   "source": [
    "grid_search = GridSearchCV(classifier, parameters,\n",
    "                           scoring='accuracy', cv=5, n_jobs=-4)"
   ]
  },
  {
   "cell_type": "code",
   "execution_count": 16,
   "metadata": {
    "ExecuteTime": {
     "end_time": "2018-10-20T04:40:48.714277Z",
     "start_time": "2018-10-20T04:28:19.482509Z"
    },
    "scrolled": true
   },
   "outputs": [
    {
     "name": "stdout",
     "output_type": "stream",
     "text": [
      "Epoch 1/1\n",
      "1520/1520 [==============================] - 1s 787us/step - loss: 0.6791 - acc: 0.5533\n",
      "Epoch 1/1\n",
      "1520/1520 [==============================] - 1s 795us/step - loss: 0.6797 - acc: 0.5711\n",
      "Epoch 1/1\n",
      "1520/1520 [==============================] - 1s 787us/step - loss: 0.6933 - acc: 0.4849\n",
      "Epoch 1/1\n",
      "1520/1520 [==============================] - 1s 830us/step - loss: 0.6845 - acc: 0.5618\n",
      "Epoch 1/1\n",
      "1520/1520 [==============================] - 1s 929us/step - loss: 0.6765 - acc: 0.5250\n",
      "Epoch 1/1\n",
      "1520/1520 [==============================] - 1s 853us/step - loss: 0.6932 - acc: 0.4862\n",
      "Epoch 1/1\n",
      "1520/1520 [==============================] - 1s 852us/step - loss: 0.6932 - acc: 0.5033\n",
      "Epoch 1/1\n",
      "1520/1520 [==============================] - 1s 887us/step - loss: 0.6932 - acc: 0.4829\n",
      "Epoch 1/1\n",
      "1520/1520 [==============================] - 1s 919us/step - loss: 0.6932 - acc: 0.4868\n",
      "Epoch 1/1\n",
      "1520/1520 [==============================] - 1s 932us/step - loss: 0.6932 - acc: 0.5086\n",
      "Epoch 1/1\n",
      "1520/1520 [==============================] - 2s 1ms/step - loss: 0.6931 - acc: 0.4987\n",
      "Epoch 1/1\n",
      "1520/1520 [==============================] - 1s 954us/step - loss: 0.6932 - acc: 0.4947\n",
      "Epoch 1/1\n",
      "1520/1520 [==============================] - 1s 978us/step - loss: 0.6932 - acc: 0.4875\n",
      "Epoch 1/1\n",
      "1520/1520 [==============================] - 2s 991us/step - loss: 0.6932 - acc: 0.4664\n",
      "Epoch 1/1\n",
      "1520/1520 [==============================] - 2s 1ms/step - loss: 0.6932 - acc: 0.4888\n",
      "Epoch 1/1\n",
      "1520/1520 [==============================] - 2s 1ms/step - loss: 0.6933 - acc: 0.4842\n",
      "Epoch 1/1\n",
      "1520/1520 [==============================] - 2s 1ms/step - loss: 0.6793 - acc: 0.5599\n",
      "Epoch 1/1\n",
      "1520/1520 [==============================] - 2s 1ms/step - loss: 0.6871 - acc: 0.5342\n",
      "Epoch 1/1\n",
      "1520/1520 [==============================] - 2s 1ms/step - loss: 0.6933 - acc: 0.4724\n",
      "Epoch 1/1\n",
      "1520/1520 [==============================] - 2s 1ms/step - loss: 0.6859 - acc: 0.5270\n",
      "Epoch 1/1\n",
      "1520/1520 [==============================] - 2s 1ms/step - loss: 0.6933 - acc: 0.4888\n",
      "Epoch 1/1\n",
      "1520/1520 [==============================] - 2s 1ms/step - loss: 0.6932 - acc: 0.5033\n",
      "Epoch 1/1\n",
      "1520/1520 [==============================] - 2s 1ms/step - loss: 0.6932 - acc: 0.4967\n",
      "Epoch 1/1\n",
      "1520/1520 [==============================] - 2s 1ms/step - loss: 0.6932 - acc: 0.4934\n",
      "Epoch 1/1\n",
      "1520/1520 [==============================] - 2s 1ms/step - loss: 0.6932 - acc: 0.5053\n",
      "Epoch 1/1\n",
      "1520/1520 [==============================] - 2s 1ms/step - loss: 0.6930 - acc: 0.5092\n",
      "Epoch 1/1\n",
      "1520/1520 [==============================] - 2s 1ms/step - loss: 0.6931 - acc: 0.5046\n",
      "Epoch 1/1\n",
      "1520/1520 [==============================] - 2s 1ms/step - loss: 0.6932 - acc: 0.4941\n",
      "Epoch 1/1\n",
      "1520/1520 [==============================] - 2s 1ms/step - loss: 0.6932 - acc: 0.4954\n",
      "Epoch 1/1\n",
      "1520/1520 [==============================] - 2s 1ms/step - loss: 0.6933 - acc: 0.4888\n",
      "Epoch 1/1\n",
      "1520/1520 [==============================] - 3s 2ms/step - loss: 0.6650 - acc: 0.5921\n",
      "Epoch 1/1\n",
      "1520/1520 [==============================] - 2s 2ms/step - loss: 0.6823 - acc: 0.5605\n",
      "Epoch 1/1\n",
      "1520/1520 [==============================] - 2s 2ms/step - loss: 0.6933 - acc: 0.4974\n",
      "Epoch 1/1\n",
      "1520/1520 [==============================] - 3s 2ms/step - loss: 0.6813 - acc: 0.5507\n",
      "Epoch 1/1\n",
      "1520/1520 [==============================] - 3s 2ms/step - loss: 0.6866 - acc: 0.5322\n",
      "Epoch 1/1\n",
      "1520/1520 [==============================] - 3s 2ms/step - loss: 0.6932 - acc: 0.4816\n",
      "Epoch 1/1\n",
      "1520/1520 [==============================] - 3s 2ms/step - loss: 0.6932 - acc: 0.4882\n",
      "Epoch 1/1\n",
      "1520/1520 [==============================] - 3s 2ms/step - loss: 0.6932 - acc: 0.4849\n",
      "Epoch 1/1\n",
      "1520/1520 [==============================] - 3s 2ms/step - loss: 0.6932 - acc: 0.4697\n",
      "Epoch 1/1\n",
      "1520/1520 [==============================] - 3s 2ms/step - loss: 0.6932 - acc: 0.4928\n",
      "Epoch 1/1\n",
      "1520/1520 [==============================] - 3s 2ms/step - loss: 0.6932 - acc: 0.5007\n",
      "Epoch 1/1\n",
      "1520/1520 [==============================] - 3s 2ms/step - loss: 0.6932 - acc: 0.5079\n",
      "Epoch 1/1\n",
      "1520/1520 [==============================] - 3s 2ms/step - loss: 0.6933 - acc: 0.4947\n",
      "Epoch 1/1\n",
      "1520/1520 [==============================] - 3s 2ms/step - loss: 0.6932 - acc: 0.4987\n",
      "Epoch 1/1\n",
      "1520/1520 [==============================] - 3s 2ms/step - loss: 0.6932 - acc: 0.4842\n",
      "Epoch 1/1\n",
      "1520/1520 [==============================] - 3s 2ms/step - loss: 0.6909 - acc: 0.5250\n",
      "Epoch 1/1\n",
      "1520/1520 [==============================] - 3s 2ms/step - loss: 0.6932 - acc: 0.5000\n",
      "Epoch 1/1\n",
      "1520/1520 [==============================] - 3s 2ms/step - loss: 0.6919 - acc: 0.5184\n",
      "Epoch 1/1\n",
      "1520/1520 [==============================] - 3s 2ms/step - loss: 0.6911 - acc: 0.5546\n",
      "Epoch 1/1\n",
      "1520/1520 [==============================] - 3s 2ms/step - loss: 0.6898 - acc: 0.5480\n",
      "Epoch 1/1\n",
      "1520/1520 [==============================] - 3s 2ms/step - loss: 0.6932 - acc: 0.4908\n",
      "Epoch 1/1\n",
      "1520/1520 [==============================] - 3s 2ms/step - loss: 0.6932 - acc: 0.4914\n",
      "Epoch 1/1\n",
      "1520/1520 [==============================] - 3s 2ms/step - loss: 0.6932 - acc: 0.4836\n",
      "Epoch 1/1\n",
      "1520/1520 [==============================] - 3s 2ms/step - loss: 0.6932 - acc: 0.4868\n",
      "Epoch 1/1\n",
      "1520/1520 [==============================] - 3s 2ms/step - loss: 0.6932 - acc: 0.5039\n",
      "Epoch 1/1\n",
      "1520/1520 [==============================] - 3s 2ms/step - loss: 0.6931 - acc: 0.5000\n",
      "Epoch 1/1\n",
      "1520/1520 [==============================] - 3s 2ms/step - loss: 0.6932 - acc: 0.4974\n",
      "Epoch 1/1\n",
      "1520/1520 [==============================] - 3s 2ms/step - loss: 0.6932 - acc: 0.4888\n",
      "Epoch 1/1\n",
      "1520/1520 [==============================] - 3s 2ms/step - loss: 0.6932 - acc: 0.4974\n",
      "Epoch 1/1\n",
      "1520/1520 [==============================] - 3s 2ms/step - loss: 0.6932 - acc: 0.4901\n",
      "Epoch 1/1\n",
      "1520/1520 [==============================] - 3s 2ms/step - loss: 0.6932 - acc: 0.4868\n",
      "Epoch 1/1\n",
      "1520/1520 [==============================] - 3s 2ms/step - loss: 0.6910 - acc: 0.5033\n",
      "Epoch 1/1\n",
      "1520/1520 [==============================] - 3s 2ms/step - loss: 0.6929 - acc: 0.5072\n",
      "Epoch 1/1\n",
      "1520/1520 [==============================] - 3s 2ms/step - loss: 0.6933 - acc: 0.4908\n",
      "Epoch 1/1\n",
      "1520/1520 [==============================] - 3s 2ms/step - loss: 0.6910 - acc: 0.5309\n",
      "Epoch 1/1\n",
      "1520/1520 [==============================] - 3s 2ms/step - loss: 0.6932 - acc: 0.4901\n",
      "Epoch 1/1\n",
      "1520/1520 [==============================] - 3s 2ms/step - loss: 0.6932 - acc: 0.4612\n",
      "Epoch 1/1\n",
      "1520/1520 [==============================] - 4s 2ms/step - loss: 0.6932 - acc: 0.4836\n",
      "Epoch 1/1\n",
      "1520/1520 [==============================] - 4s 2ms/step - loss: 0.6932 - acc: 0.4678\n",
      "Epoch 1/1\n",
      "1520/1520 [==============================] - 4s 2ms/step - loss: 0.6932 - acc: 0.4954\n",
      "Epoch 1/1\n",
      "1520/1520 [==============================] - 4s 2ms/step - loss: 0.6932 - acc: 0.5007\n",
      "Epoch 1/1\n",
      "1520/1520 [==============================] - 4s 2ms/step - loss: 0.6931 - acc: 0.5059\n",
      "Epoch 1/1\n",
      "1520/1520 [==============================] - 4s 2ms/step - loss: 0.6933 - acc: 0.4882\n",
      "Epoch 1/1\n",
      "1520/1520 [==============================] - 4s 2ms/step - loss: 0.6932 - acc: 0.4980\n",
      "Epoch 1/1\n",
      "1520/1520 [==============================] - 4s 2ms/step - loss: 0.6931 - acc: 0.5092\n",
      "Epoch 1/1\n",
      "1520/1520 [==============================] - 4s 3ms/step - loss: 0.6889 - acc: 0.5355\n",
      "Epoch 1/1\n",
      "1520/1520 [==============================] - 4s 3ms/step - loss: 0.6932 - acc: 0.4974\n",
      "Epoch 1/1\n",
      "1520/1520 [==============================] - 4s 3ms/step - loss: 0.6932 - acc: 0.4822\n",
      "Epoch 1/1\n",
      "1520/1520 [==============================] - 4s 3ms/step - loss: 0.6927 - acc: 0.5289\n",
      "Epoch 1/1\n",
      "1520/1520 [==============================] - 4s 3ms/step - loss: 0.6932 - acc: 0.4947\n",
      "Epoch 1/1\n",
      "1520/1520 [==============================] - 4s 3ms/step - loss: 0.6933 - acc: 0.4809\n",
      "Epoch 1/1\n",
      "1520/1520 [==============================] - 4s 3ms/step - loss: 0.6932 - acc: 0.4980\n",
      "Epoch 1/1\n",
      "1520/1520 [==============================] - 4s 3ms/step - loss: 0.6932 - acc: 0.4789\n",
      "Epoch 1/1\n",
      "1520/1520 [==============================] - 4s 3ms/step - loss: 0.6932 - acc: 0.4901\n",
      "Epoch 1/1\n",
      "1520/1520 [==============================] - 4s 3ms/step - loss: 0.6932 - acc: 0.5020\n",
      "Epoch 1/1\n"
     ]
    },
    {
     "name": "stdout",
     "output_type": "stream",
     "text": [
      "1520/1520 [==============================] - 4s 3ms/step - loss: 0.6932 - acc: 0.5007\n",
      "Epoch 1/1\n",
      "1520/1520 [==============================] - 4s 3ms/step - loss: 0.6932 - acc: 0.5020\n",
      "Epoch 1/1\n",
      "1520/1520 [==============================] - 4s 3ms/step - loss: 0.6931 - acc: 0.5039\n",
      "Epoch 1/1\n",
      "1520/1520 [==============================] - 4s 3ms/step - loss: 0.6932 - acc: 0.4974\n",
      "Epoch 1/1\n",
      "1520/1520 [==============================] - 4s 3ms/step - loss: 0.6931 - acc: 0.5099\n",
      "Epoch 1/1\n",
      "1520/1520 [==============================] - 4s 3ms/step - loss: 0.6932 - acc: 0.4829\n",
      "Epoch 1/1\n",
      "1520/1520 [==============================] - 4s 3ms/step - loss: 0.6932 - acc: 0.4882\n",
      "Epoch 1/1\n",
      "1520/1520 [==============================] - 5s 3ms/step - loss: 0.6932 - acc: 0.4849\n",
      "Epoch 1/1\n",
      "1520/1520 [==============================] - 5s 3ms/step - loss: 0.6932 - acc: 0.4947\n",
      "Epoch 1/1\n",
      "1520/1520 [==============================] - 5s 3ms/step - loss: 0.6930 - acc: 0.5072\n",
      "Epoch 1/1\n",
      "1520/1520 [==============================] - 4s 3ms/step - loss: 0.6932 - acc: 0.4961\n",
      "Epoch 1/1\n",
      "1520/1520 [==============================] - 5s 3ms/step - loss: 0.6932 - acc: 0.4928\n",
      "Epoch 1/1\n",
      "1520/1520 [==============================] - 5s 3ms/step - loss: 0.6932 - acc: 0.4928\n",
      "Epoch 1/1\n",
      "1520/1520 [==============================] - 5s 3ms/step - loss: 0.6932 - acc: 0.4987\n",
      "Epoch 1/1\n",
      "1520/1520 [==============================] - 5s 3ms/step - loss: 0.6932 - acc: 0.5079\n",
      "Epoch 1/1\n",
      "1520/1520 [==============================] - 5s 3ms/step - loss: 0.6932 - acc: 0.4967\n",
      "Epoch 1/1\n",
      "1520/1520 [==============================] - 5s 3ms/step - loss: 0.6932 - acc: 0.4941\n",
      "Epoch 1/1\n",
      "1520/1520 [==============================] - 5s 3ms/step - loss: 0.6932 - acc: 0.5046\n",
      "Epoch 1/1\n",
      "1520/1520 [==============================] - 5s 3ms/step - loss: 0.6932 - acc: 0.4961\n",
      "Epoch 1/1\n",
      "1520/1520 [==============================] - 5s 3ms/step - loss: 0.6931 - acc: 0.5059\n",
      "Epoch 1/1\n",
      "1520/1520 [==============================] - 5s 3ms/step - loss: 0.6929 - acc: 0.5270\n",
      "Epoch 1/1\n",
      "1520/1520 [==============================] - 5s 3ms/step - loss: 0.6931 - acc: 0.5066\n",
      "Epoch 1/1\n",
      "1520/1520 [==============================] - 5s 3ms/step - loss: 0.6932 - acc: 0.4796\n",
      "Epoch 1/1\n",
      "1520/1520 [==============================] - 5s 3ms/step - loss: 0.6932 - acc: 0.4967\n",
      "Epoch 1/1\n",
      "1520/1520 [==============================] - 5s 3ms/step - loss: 0.6930 - acc: 0.5243\n",
      "Epoch 1/1\n",
      "1520/1520 [==============================] - 5s 3ms/step - loss: 0.6932 - acc: 0.4776\n",
      "Epoch 1/1\n",
      "1520/1520 [==============================] - 5s 3ms/step - loss: 0.6932 - acc: 0.4914\n",
      "Epoch 1/1\n",
      "1520/1520 [==============================] - 5s 3ms/step - loss: 0.6932 - acc: 0.5026\n",
      "Epoch 1/1\n",
      "1520/1520 [==============================] - 5s 3ms/step - loss: 0.6932 - acc: 0.4954\n",
      "Epoch 1/1\n",
      "1520/1520 [==============================] - 5s 3ms/step - loss: 0.6932 - acc: 0.5086\n",
      "Epoch 1/1\n",
      "1520/1520 [==============================] - 5s 4ms/step - loss: 0.6932 - acc: 0.4980\n",
      "Epoch 1/1\n",
      "1520/1520 [==============================] - 5s 4ms/step - loss: 0.6931 - acc: 0.5013\n",
      "Epoch 1/1\n",
      "1520/1520 [==============================] - 5s 4ms/step - loss: 0.6931 - acc: 0.5046\n",
      "Epoch 1/1\n",
      "1520/1520 [==============================] - 5s 4ms/step - loss: 0.6932 - acc: 0.4987\n",
      "Epoch 1/1\n",
      "1520/1520 [==============================] - 5s 4ms/step - loss: 0.6931 - acc: 0.5046\n",
      "Epoch 1/1\n",
      "1520/1520 [==============================] - 6s 4ms/step - loss: 0.6931 - acc: 0.5046\n",
      "Epoch 1/1\n",
      "1520/1520 [==============================] - 6s 4ms/step - loss: 0.6922 - acc: 0.4980\n",
      "Epoch 1/1\n",
      "1520/1520 [==============================] - 6s 4ms/step - loss: 0.6928 - acc: 0.5013\n",
      "Epoch 1/1\n",
      "1520/1520 [==============================] - 6s 4ms/step - loss: 0.6932 - acc: 0.4908\n",
      "Epoch 1/1\n",
      "1520/1520 [==============================] - 6s 4ms/step - loss: 0.6932 - acc: 0.5072\n",
      "Epoch 1/1\n",
      "1520/1520 [==============================] - 6s 4ms/step - loss: 0.6932 - acc: 0.4961\n",
      "Epoch 1/1\n",
      "1520/1520 [==============================] - 6s 4ms/step - loss: 0.6932 - acc: 0.4697\n",
      "Epoch 1/1\n",
      "1520/1520 [==============================] - 6s 4ms/step - loss: 0.6932 - acc: 0.5053\n",
      "Epoch 1/1\n",
      "1520/1520 [==============================] - 6s 4ms/step - loss: 0.6932 - acc: 0.4888\n",
      "Epoch 1/1\n",
      "1520/1520 [==============================] - 6s 4ms/step - loss: 0.6932 - acc: 0.4941\n",
      "Epoch 1/1\n",
      "1520/1520 [==============================] - 6s 4ms/step - loss: 0.6932 - acc: 0.4987\n",
      "Epoch 1/1\n",
      "1520/1520 [==============================] - 6s 4ms/step - loss: 0.6931 - acc: 0.5059\n",
      "Epoch 1/1\n",
      "1520/1520 [==============================] - 6s 4ms/step - loss: 0.6932 - acc: 0.5020\n",
      "Epoch 1/1\n",
      "1520/1520 [==============================] - 6s 4ms/step - loss: 0.6932 - acc: 0.4914\n",
      "Epoch 1/1\n",
      "1520/1520 [==============================] - 7s 5ms/step - loss: 0.6931 - acc: 0.5092\n",
      "Epoch 1/1\n",
      "1900/1900 [==============================] - 8s 4ms/step - loss: 0.6742 - acc: 0.5805\n"
     ]
    }
   ],
   "source": [
    "grid_search = grid_search.fit(X=X_train, y=y_train)"
   ]
  },
  {
   "cell_type": "code",
   "execution_count": 17,
   "metadata": {
    "ExecuteTime": {
     "end_time": "2018-10-20T04:40:48.737066Z",
     "start_time": "2018-10-20T04:40:48.716317Z"
    }
   },
   "outputs": [
    {
     "data": {
      "text/plain": [
       "{'batch_size': 10, 'nb_epoch': 200, 'optimizer': 'Nadam'}"
      ]
     },
     "execution_count": 17,
     "metadata": {},
     "output_type": "execute_result"
    }
   ],
   "source": [
    "best_params = grid_search.best_params_\n",
    "best_params"
   ]
  },
  {
   "cell_type": "code",
   "execution_count": 18,
   "metadata": {
    "ExecuteTime": {
     "end_time": "2018-10-20T04:40:48.766281Z",
     "start_time": "2018-10-20T04:40:48.739293Z"
    },
    "scrolled": true
   },
   "outputs": [
    {
     "data": {
      "text/plain": [
       "0.6163157894736843"
      ]
     },
     "execution_count": 18,
     "metadata": {},
     "output_type": "execute_result"
    }
   ],
   "source": [
    "best_accu = grid_search.best_score_\n",
    "best_accu"
   ]
  },
  {
   "cell_type": "code",
   "execution_count": 19,
   "metadata": {
    "ExecuteTime": {
     "end_time": "2018-10-20T04:40:51.334697Z",
     "start_time": "2018-10-20T04:40:48.768478Z"
    }
   },
   "outputs": [],
   "source": [
    "y_pred = grid_search.predict(X_test)\n",
    "y_pred = (y_pred > 0.5)"
   ]
  },
  {
   "cell_type": "code",
   "execution_count": 20,
   "metadata": {
    "ExecuteTime": {
     "end_time": "2018-10-20T04:40:51.359274Z",
     "start_time": "2018-10-20T04:40:51.336760Z"
    }
   },
   "outputs": [
    {
     "data": {
      "text/plain": [
       "array([[53, 14],\n",
       "       [19, 38]])"
      ]
     },
     "execution_count": 20,
     "metadata": {},
     "output_type": "execute_result"
    }
   ],
   "source": [
    "cm = confusion_matrix(y_test, y_pred)\n",
    "cm"
   ]
  },
  {
   "cell_type": "code",
   "execution_count": 21,
   "metadata": {
    "ExecuteTime": {
     "end_time": "2018-10-20T04:41:16.175429Z",
     "start_time": "2018-10-20T04:41:16.148787Z"
    }
   },
   "outputs": [
    {
     "data": {
      "text/plain": [
       "0.7580645161290323"
      ]
     },
     "execution_count": 21,
     "metadata": {},
     "output_type": "execute_result"
    }
   ],
   "source": [
    "(56+38)/(67+57)"
   ]
  },
  {
   "cell_type": "code",
   "execution_count": null,
   "metadata": {},
   "outputs": [],
   "source": []
  },
  {
   "cell_type": "code",
   "execution_count": null,
   "metadata": {},
   "outputs": [],
   "source": []
  }
 ],
 "metadata": {
  "kernelspec": {
   "display_name": "Python 3",
   "language": "python",
   "name": "python3"
  },
  "language_info": {
   "codemirror_mode": {
    "name": "ipython",
    "version": 3
   },
   "file_extension": ".py",
   "mimetype": "text/x-python",
   "name": "python",
   "nbconvert_exporter": "python",
   "pygments_lexer": "ipython3",
   "version": "3.6.6"
  }
 },
 "nbformat": 4,
 "nbformat_minor": 2
}
