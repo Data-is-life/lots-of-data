{
 "cells": [
  {
   "cell_type": "code",
   "execution_count": 1,
   "metadata": {
    "ExecuteTime": {
     "end_time": "2018-10-20T04:27:56.437360Z",
     "start_time": "2018-10-20T04:27:54.012601Z"
    }
   },
   "outputs": [
    {
     "name": "stderr",
     "output_type": "stream",
     "text": [
      "Using TensorFlow backend.\n"
     ]
    }
   ],
   "source": [
    "import pandas as pd\n",
    "import numpy as np\n",
    "import tensorflow\n",
    "import theano\n",
    "import pickle\n",
    "\n",
    "from pandas import *\n",
    "\n",
    "from sklearn.preprocessing import LabelEncoder, OneHotEncoder, StandardScaler\n",
    "from sklearn.model_selection import train_test_split, cross_val_score, GridSearchCV\n",
    "from sklearn.metrics import confusion_matrix\n",
    "\n",
    "import keras\n",
    "from keras.models import Sequential\n",
    "from keras.layers import Dense, Dropout, LSTM\n",
    "from keras.wrappers.scikit_learn import KerasClassifier\n",
    "\n",
    "import matplotlib.pyplot as plt\n",
    "%matplotlib inline\n",
    "from sklearn.externals.joblib import parallel_backend"
   ]
  },
  {
   "cell_type": "code",
   "execution_count": 2,
   "metadata": {
    "ExecuteTime": {
     "end_time": "2018-10-20T04:27:56.477495Z",
     "start_time": "2018-10-20T04:27:56.439721Z"
    }
   },
   "outputs": [],
   "source": [
    "df = pd.read_csv('../data/df_for_model.csv')\n",
    "# df['start_time'] = df['start_time']//1000\n",
    "df = df[df['result'] != 0.5]\n",
    "numeric_predictors = ['color', 'elo', 'opp_elo',\n",
    "                      'game_time', 'start_time', 'weekday', 'day']\n",
    "X = df[numeric_predictors]\n",
    "y = np.array(df['result'])"
   ]
  },
  {
   "cell_type": "code",
   "execution_count": 3,
   "metadata": {
    "ExecuteTime": {
     "end_time": "2018-10-20T04:27:56.592601Z",
     "start_time": "2018-10-20T04:27:56.479468Z"
    }
   },
   "outputs": [
    {
     "data": {
      "text/plain": [
       "(2024, 7)"
      ]
     },
     "execution_count": 3,
     "metadata": {},
     "output_type": "execute_result"
    }
   ],
   "source": [
    "X.shape"
   ]
  },
  {
   "cell_type": "code",
   "execution_count": 4,
   "metadata": {
    "ExecuteTime": {
     "end_time": "2018-10-20T04:27:56.666328Z",
     "start_time": "2018-10-20T04:27:56.642213Z"
    }
   },
   "outputs": [
    {
     "data": {
      "text/plain": [
       "(2024,)"
      ]
     },
     "execution_count": 4,
     "metadata": {},
     "output_type": "execute_result"
    }
   ],
   "source": [
    "y.shape"
   ]
  },
  {
   "cell_type": "code",
   "execution_count": 5,
   "metadata": {
    "ExecuteTime": {
     "end_time": "2018-10-20T04:27:57.230583Z",
     "start_time": "2018-10-20T04:27:57.206133Z"
    }
   },
   "outputs": [],
   "source": [
    "# X_train, X_test, y_train, y_test = train_test_split(X, y, test_size = 0.1)"
   ]
  },
  {
   "cell_type": "code",
   "execution_count": 6,
   "metadata": {
    "ExecuteTime": {
     "end_time": "2018-10-20T04:27:58.028941Z",
     "start_time": "2018-10-20T04:27:58.002184Z"
    }
   },
   "outputs": [],
   "source": [
    "X_train = X[:1900]\n",
    "y_train = y[:1900]\n",
    "X_test = X[1900:]\n",
    "y_test = y[1900:]"
   ]
  },
  {
   "cell_type": "code",
   "execution_count": 7,
   "metadata": {
    "ExecuteTime": {
     "end_time": "2018-10-20T04:27:58.784017Z",
     "start_time": "2018-10-20T04:27:58.757821Z"
    }
   },
   "outputs": [
    {
     "data": {
      "text/plain": [
       "(1900, 7)"
      ]
     },
     "execution_count": 7,
     "metadata": {},
     "output_type": "execute_result"
    }
   ],
   "source": [
    "X_train.shape"
   ]
  },
  {
   "cell_type": "code",
   "execution_count": 8,
   "metadata": {
    "ExecuteTime": {
     "end_time": "2018-10-20T04:27:59.537201Z",
     "start_time": "2018-10-20T04:27:59.512675Z"
    }
   },
   "outputs": [
    {
     "data": {
      "text/plain": [
       "(124, 7)"
      ]
     },
     "execution_count": 8,
     "metadata": {},
     "output_type": "execute_result"
    }
   ],
   "source": [
    "X_test.shape"
   ]
  },
  {
   "cell_type": "code",
   "execution_count": 9,
   "metadata": {
    "ExecuteTime": {
     "end_time": "2018-10-20T04:28:01.431401Z",
     "start_time": "2018-10-20T04:28:01.405273Z"
    }
   },
   "outputs": [
    {
     "data": {
      "text/plain": [
       "(1900,)"
      ]
     },
     "execution_count": 9,
     "metadata": {},
     "output_type": "execute_result"
    }
   ],
   "source": [
    "y_train.shape"
   ]
  },
  {
   "cell_type": "code",
   "execution_count": 10,
   "metadata": {
    "ExecuteTime": {
     "end_time": "2018-10-20T04:28:02.474791Z",
     "start_time": "2018-10-20T04:28:02.427066Z"
    }
   },
   "outputs": [
    {
     "name": "stderr",
     "output_type": "stream",
     "text": [
      "/home/guess/anaconda3/lib/python3.6/site-packages/sklearn/preprocessing/data.py:617: DataConversionWarning: Data with input dtype int64, float64 were all converted to float64 by StandardScaler.\n",
      "  return self.partial_fit(X, y)\n",
      "/home/guess/anaconda3/lib/python3.6/site-packages/sklearn/base.py:462: DataConversionWarning: Data with input dtype int64, float64 were all converted to float64 by StandardScaler.\n",
      "  return self.fit(X, **fit_params).transform(X)\n",
      "/home/guess/anaconda3/lib/python3.6/site-packages/sklearn/preprocessing/data.py:617: DataConversionWarning: Data with input dtype int64, float64 were all converted to float64 by StandardScaler.\n",
      "  return self.partial_fit(X, y)\n",
      "/home/guess/anaconda3/lib/python3.6/site-packages/sklearn/base.py:462: DataConversionWarning: Data with input dtype int64, float64 were all converted to float64 by StandardScaler.\n",
      "  return self.fit(X, **fit_params).transform(X)\n"
     ]
    }
   ],
   "source": [
    "std_sclr = StandardScaler()\n",
    "X_train = std_sclr.fit_transform(X_train)\n",
    "X_test = std_sclr.fit_transform(X_test)"
   ]
  },
  {
   "cell_type": "code",
   "execution_count": 11,
   "metadata": {
    "ExecuteTime": {
     "end_time": "2018-10-20T04:28:03.235594Z",
     "start_time": "2018-10-20T04:28:03.200818Z"
    }
   },
   "outputs": [
    {
     "data": {
      "text/plain": [
       "array([  0.5       ,  40.68084711,  93.882371  , 139.29686294,\n",
       "         4.70915264,   1.89793894,   8.68767756])"
      ]
     },
     "execution_count": 11,
     "metadata": {},
     "output_type": "execute_result"
    }
   ],
   "source": [
    "std_sclr.scale_"
   ]
  },
  {
   "cell_type": "code",
   "execution_count": 384,
   "metadata": {
    "ExecuteTime": {
     "end_time": "2018-10-20T03:50:15.688328Z",
     "start_time": "2018-10-20T03:50:15.662967Z"
    }
   },
   "outputs": [],
   "source": [
    "def _classifier():\n",
    "    classifier = Sequential()\n",
    "    \n",
    "    classifier.add(Dense(units=7, kernel_initializer='uniform',\n",
    "                         activation='relu', input_dim=7))\n",
    "    \n",
    "    classifier.add(\n",
    "        Dense(units=14, kernel_initializer='uniform', activation='softsign'))\n",
    "\n",
    "    classifier.add(\n",
    "        Dense(units=7, kernel_initializer='uniform', activation='relu'))\n",
    "    \n",
    "    classifier.add(\n",
    "        Dense(units=1, kernel_initializer='uniform', activation='sigmoid'))\n",
    "\n",
    "    classifier.compile(\n",
    "        optimizer='nadam', loss='binary_crossentropy', metrics=['accuracy'])\n",
    "\n",
    "    return classifier"
   ]
  },
  {
   "cell_type": "code",
   "execution_count": 385,
   "metadata": {
    "ExecuteTime": {
     "end_time": "2018-10-20T03:50:17.235809Z",
     "start_time": "2018-10-20T03:50:17.131393Z"
    }
   },
   "outputs": [],
   "source": [
    "classifier = _classifier()"
   ]
  },
  {
   "cell_type": "code",
   "execution_count": 386,
   "metadata": {
    "ExecuteTime": {
     "end_time": "2018-10-20T03:51:42.920003Z",
     "start_time": "2018-10-20T03:50:41.819461Z"
    },
    "scrolled": true
   },
   "outputs": [
    {
     "name": "stdout",
     "output_type": "stream",
     "text": [
      "Epoch 1/100\n",
      "1900/1900 [==============================] - 2s 1ms/step - loss: 0.6788 - acc: 0.5447\n",
      "Epoch 2/100\n",
      "1900/1900 [==============================] - 1s 317us/step - loss: 0.5770 - acc: 0.7163\n",
      "Epoch 3/100\n",
      "1900/1900 [==============================] - 1s 306us/step - loss: 0.5679 - acc: 0.7037\n",
      "Epoch 4/100\n",
      "1900/1900 [==============================] - 1s 319us/step - loss: 0.5639 - acc: 0.7142\n",
      "Epoch 5/100\n",
      "1900/1900 [==============================] - 1s 325us/step - loss: 0.5608 - acc: 0.7116\n",
      "Epoch 6/100\n",
      "1900/1900 [==============================] - 1s 327us/step - loss: 0.5619 - acc: 0.7221\n",
      "Epoch 7/100\n",
      "1900/1900 [==============================] - 1s 316us/step - loss: 0.5604 - acc: 0.7168\n",
      "Epoch 8/100\n",
      "1900/1900 [==============================] - 1s 330us/step - loss: 0.5604 - acc: 0.7174\n",
      "Epoch 9/100\n",
      "1900/1900 [==============================] - 1s 311us/step - loss: 0.5594 - acc: 0.7147\n",
      "Epoch 10/100\n",
      "1900/1900 [==============================] - 1s 309us/step - loss: 0.5594 - acc: 0.7189\n",
      "Epoch 11/100\n",
      "1900/1900 [==============================] - 1s 324us/step - loss: 0.5584 - acc: 0.7211\n",
      "Epoch 12/100\n",
      "1900/1900 [==============================] - 1s 321us/step - loss: 0.5576 - acc: 0.7174\n",
      "Epoch 13/100\n",
      "1900/1900 [==============================] - 1s 314us/step - loss: 0.5578 - acc: 0.7084\n",
      "Epoch 14/100\n",
      "1900/1900 [==============================] - 1s 372us/step - loss: 0.5556 - acc: 0.7174\n",
      "Epoch 15/100\n",
      "1900/1900 [==============================] - 1s 371us/step - loss: 0.5564 - acc: 0.7084\n",
      "Epoch 16/100\n",
      "1900/1900 [==============================] - 1s 381us/step - loss: 0.5561 - acc: 0.7126\n",
      "Epoch 17/100\n",
      "1900/1900 [==============================] - 1s 369us/step - loss: 0.5559 - acc: 0.7121\n",
      "Epoch 18/100\n",
      "1900/1900 [==============================] - 1s 338us/step - loss: 0.5557 - acc: 0.7168\n",
      "Epoch 19/100\n",
      "1900/1900 [==============================] - 1s 330us/step - loss: 0.5552 - acc: 0.7168\n",
      "Epoch 20/100\n",
      "1900/1900 [==============================] - 1s 374us/step - loss: 0.5550 - acc: 0.7174\n",
      "Epoch 21/100\n",
      "1900/1900 [==============================] - 1s 424us/step - loss: 0.5547 - acc: 0.7174\n",
      "Epoch 22/100\n",
      "1900/1900 [==============================] - 1s 470us/step - loss: 0.5531 - acc: 0.7132\n",
      "Epoch 23/100\n",
      "1900/1900 [==============================] - 1s 285us/step - loss: 0.5539 - acc: 0.7184\n",
      "Epoch 24/100\n",
      "1900/1900 [==============================] - 1s 326us/step - loss: 0.5512 - acc: 0.7232\n",
      "Epoch 25/100\n",
      "1900/1900 [==============================] - 1s 265us/step - loss: 0.5528 - acc: 0.7153\n",
      "Epoch 26/100\n",
      "1900/1900 [==============================] - 1s 278us/step - loss: 0.5524 - acc: 0.7163\n",
      "Epoch 27/100\n",
      "1900/1900 [==============================] - 1s 269us/step - loss: 0.5507 - acc: 0.7174\n",
      "Epoch 28/100\n",
      "1900/1900 [==============================] - 1s 267us/step - loss: 0.5522 - acc: 0.7163\n",
      "Epoch 29/100\n",
      "1900/1900 [==============================] - 1s 270us/step - loss: 0.5514 - acc: 0.7205\n",
      "Epoch 30/100\n",
      "1900/1900 [==============================] - 1s 269us/step - loss: 0.5511 - acc: 0.7121\n",
      "Epoch 31/100\n",
      "1900/1900 [==============================] - 1s 268us/step - loss: 0.5514 - acc: 0.7179\n",
      "Epoch 32/100\n",
      "1900/1900 [==============================] - 1s 324us/step - loss: 0.5508 - acc: 0.7158\n",
      "Epoch 33/100\n",
      "1900/1900 [==============================] - 1s 349us/step - loss: 0.5502 - acc: 0.7153\n",
      "Epoch 34/100\n",
      "1900/1900 [==============================] - 1s 270us/step - loss: 0.5490 - acc: 0.7153\n",
      "Epoch 35/100\n",
      "1900/1900 [==============================] - 1s 327us/step - loss: 0.5484 - acc: 0.7195\n",
      "Epoch 36/100\n",
      "1900/1900 [==============================] - 1s 293us/step - loss: 0.5501 - acc: 0.7200\n",
      "Epoch 37/100\n",
      "1900/1900 [==============================] - 1s 272us/step - loss: 0.5471 - acc: 0.7211\n",
      "Epoch 38/100\n",
      "1900/1900 [==============================] - 1s 373us/step - loss: 0.5481 - acc: 0.7200\n",
      "Epoch 39/100\n",
      "1900/1900 [==============================] - 1s 343us/step - loss: 0.5488 - acc: 0.7174\n",
      "Epoch 40/100\n",
      "1900/1900 [==============================] - 1s 284us/step - loss: 0.5481 - acc: 0.7205\n",
      "Epoch 41/100\n",
      "1900/1900 [==============================] - 1s 275us/step - loss: 0.5457 - acc: 0.7226\n",
      "Epoch 42/100\n",
      "1900/1900 [==============================] - 1s 277us/step - loss: 0.5498 - acc: 0.7153\n",
      "Epoch 43/100\n",
      "1900/1900 [==============================] - 1s 283us/step - loss: 0.5478 - acc: 0.7263\n",
      "Epoch 44/100\n",
      "1900/1900 [==============================] - 1s 282us/step - loss: 0.5484 - acc: 0.7153\n",
      "Epoch 45/100\n",
      "1900/1900 [==============================] - 1s 289us/step - loss: 0.5469 - acc: 0.7205\n",
      "Epoch 46/100\n",
      "1900/1900 [==============================] - 1s 282us/step - loss: 0.5459 - acc: 0.7200\n",
      "Epoch 47/100\n",
      "1900/1900 [==============================] - 1s 326us/step - loss: 0.5451 - acc: 0.7179\n",
      "Epoch 48/100\n",
      "1900/1900 [==============================] - 1s 283us/step - loss: 0.5487 - acc: 0.7184\n",
      "Epoch 49/100\n",
      "1900/1900 [==============================] - 1s 275us/step - loss: 0.5462 - acc: 0.7221\n",
      "Epoch 50/100\n",
      "1900/1900 [==============================] - 1s 267us/step - loss: 0.5469 - acc: 0.7184\n",
      "Epoch 51/100\n",
      "1900/1900 [==============================] - 1s 278us/step - loss: 0.5442 - acc: 0.7247\n",
      "Epoch 52/100\n",
      "1900/1900 [==============================] - 1s 283us/step - loss: 0.5448 - acc: 0.7247\n",
      "Epoch 53/100\n",
      "1900/1900 [==============================] - 1s 290us/step - loss: 0.5460 - acc: 0.7179\n",
      "Epoch 54/100\n",
      "1900/1900 [==============================] - 1s 346us/step - loss: 0.5457 - acc: 0.7174\n",
      "Epoch 55/100\n",
      "1900/1900 [==============================] - 1s 264us/step - loss: 0.5441 - acc: 0.7221\n",
      "Epoch 56/100\n",
      "1900/1900 [==============================] - 1s 275us/step - loss: 0.5450 - acc: 0.7253\n",
      "Epoch 57/100\n",
      "1900/1900 [==============================] - 1s 270us/step - loss: 0.5447 - acc: 0.7205\n",
      "Epoch 58/100\n",
      "1900/1900 [==============================] - 1s 302us/step - loss: 0.5442 - acc: 0.7253\n",
      "Epoch 59/100\n",
      "1900/1900 [==============================] - 1s 314us/step - loss: 0.5438 - acc: 0.7158\n",
      "Epoch 60/100\n",
      "1900/1900 [==============================] - 1s 288us/step - loss: 0.5438 - acc: 0.7268\n",
      "Epoch 61/100\n",
      "1900/1900 [==============================] - 1s 291us/step - loss: 0.5435 - acc: 0.7205\n",
      "Epoch 62/100\n",
      "1900/1900 [==============================] - 1s 296us/step - loss: 0.5435 - acc: 0.7179\n",
      "Epoch 63/100\n",
      "1900/1900 [==============================] - 1s 279us/step - loss: 0.5421 - acc: 0.7242\n",
      "Epoch 64/100\n",
      "1900/1900 [==============================] - 1s 295us/step - loss: 0.5438 - acc: 0.7184\n",
      "Epoch 65/100\n",
      "1900/1900 [==============================] - 1s 280us/step - loss: 0.5435 - acc: 0.7179\n",
      "Epoch 66/100\n",
      "1900/1900 [==============================] - 1s 466us/step - loss: 0.5424 - acc: 0.7216\n",
      "Epoch 67/100\n",
      "1900/1900 [==============================] - 1s 358us/step - loss: 0.5422 - acc: 0.7263\n",
      "Epoch 68/100\n",
      "1900/1900 [==============================] - 1s 309us/step - loss: 0.5420 - acc: 0.7226\n",
      "Epoch 69/100\n",
      "1900/1900 [==============================] - 1s 278us/step - loss: 0.5432 - acc: 0.7232\n",
      "Epoch 70/100\n",
      "1900/1900 [==============================] - 1s 272us/step - loss: 0.5424 - acc: 0.7247\n",
      "Epoch 71/100\n",
      "1900/1900 [==============================] - 1s 281us/step - loss: 0.5408 - acc: 0.7253\n",
      "Epoch 72/100\n",
      "1900/1900 [==============================] - 1s 263us/step - loss: 0.5413 - acc: 0.7232\n",
      "Epoch 73/100\n",
      "1900/1900 [==============================] - 1s 277us/step - loss: 0.5428 - acc: 0.7232\n",
      "Epoch 74/100\n",
      "1900/1900 [==============================] - 1s 297us/step - loss: 0.5424 - acc: 0.7226\n",
      "Epoch 75/100\n",
      "1900/1900 [==============================] - 1s 368us/step - loss: 0.5430 - acc: 0.7237\n",
      "Epoch 76/100\n",
      "1900/1900 [==============================] - 1s 326us/step - loss: 0.5412 - acc: 0.7237\n",
      "Epoch 77/100\n",
      "1900/1900 [==============================] - 1s 317us/step - loss: 0.5414 - acc: 0.7232\n",
      "Epoch 78/100\n",
      "1900/1900 [==============================] - 1s 280us/step - loss: 0.5415 - acc: 0.7195\n",
      "Epoch 79/100\n",
      "1900/1900 [==============================] - 1s 266us/step - loss: 0.5405 - acc: 0.7205\n",
      "Epoch 80/100\n",
      "1900/1900 [==============================] - 1s 287us/step - loss: 0.5414 - acc: 0.7295\n",
      "Epoch 81/100\n",
      "1900/1900 [==============================] - 1s 344us/step - loss: 0.5414 - acc: 0.7247\n",
      "Epoch 82/100\n",
      "1900/1900 [==============================] - 1s 334us/step - loss: 0.5400 - acc: 0.7232\n",
      "Epoch 83/100\n",
      "1900/1900 [==============================] - 1s 467us/step - loss: 0.5413 - acc: 0.7205\n",
      "Epoch 84/100\n",
      "1900/1900 [==============================] - 1s 477us/step - loss: 0.5408 - acc: 0.7237\n",
      "Epoch 85/100\n",
      "1900/1900 [==============================] - 1s 326us/step - loss: 0.5412 - acc: 0.7221\n",
      "Epoch 86/100\n",
      "1900/1900 [==============================] - 1s 270us/step - loss: 0.5406 - acc: 0.7268\n",
      "Epoch 87/100\n",
      "1900/1900 [==============================] - 1s 271us/step - loss: 0.5413 - acc: 0.7232\n",
      "Epoch 88/100\n",
      "1900/1900 [==============================] - 1s 293us/step - loss: 0.5402 - acc: 0.7242\n",
      "Epoch 89/100\n",
      "1900/1900 [==============================] - 0s 263us/step - loss: 0.5389 - acc: 0.7253\n",
      "Epoch 90/100\n",
      "1900/1900 [==============================] - 1s 267us/step - loss: 0.5404 - acc: 0.7232\n",
      "Epoch 91/100\n",
      "1900/1900 [==============================] - 1s 277us/step - loss: 0.5391 - acc: 0.7237\n",
      "Epoch 92/100\n",
      "1900/1900 [==============================] - 1s 280us/step - loss: 0.5395 - acc: 0.7242\n",
      "Epoch 93/100\n",
      "1900/1900 [==============================] - 1s 282us/step - loss: 0.5400 - acc: 0.7242\n",
      "Epoch 94/100\n",
      "1900/1900 [==============================] - 1s 295us/step - loss: 0.5409 - acc: 0.7168\n",
      "Epoch 95/100\n",
      "1900/1900 [==============================] - 1s 332us/step - loss: 0.5403 - acc: 0.7205\n",
      "Epoch 96/100\n",
      "1900/1900 [==============================] - 1s 416us/step - loss: 0.5401 - acc: 0.7253\n",
      "Epoch 97/100\n",
      "1900/1900 [==============================] - 1s 392us/step - loss: 0.5399 - acc: 0.7195\n",
      "Epoch 98/100\n",
      "1900/1900 [==============================] - 1s 284us/step - loss: 0.5393 - acc: 0.7274\n",
      "Epoch 99/100\n",
      "1900/1900 [==============================] - 1s 301us/step - loss: 0.5393 - acc: 0.7232\n",
      "Epoch 100/100\n",
      "1900/1900 [==============================] - 1s 314us/step - loss: 0.5394 - acc: 0.7274\n"
     ]
    },
    {
     "data": {
      "text/plain": [
       "<keras.callbacks.History at 0x7f0658ad4b70>"
      ]
     },
     "execution_count": 386,
     "metadata": {},
     "output_type": "execute_result"
    }
   ],
   "source": [
    "classifier.fit(X_train, y_train, batch_size=10, epochs=100)"
   ]
  },
  {
   "cell_type": "code",
   "execution_count": 387,
   "metadata": {
    "ExecuteTime": {
     "end_time": "2018-10-20T03:51:43.376852Z",
     "start_time": "2018-10-20T03:51:42.921966Z"
    }
   },
   "outputs": [],
   "source": [
    "y_pred = classifier.predict(X_test)\n",
    "y_pred = (y_pred > 0.5)"
   ]
  },
  {
   "cell_type": "code",
   "execution_count": 388,
   "metadata": {
    "ExecuteTime": {
     "end_time": "2018-10-20T03:51:43.398812Z",
     "start_time": "2018-10-20T03:51:43.378565Z"
    }
   },
   "outputs": [
    {
     "data": {
      "text/plain": [
       "array([[50, 17],\n",
       "       [20, 37]])"
      ]
     },
     "execution_count": 388,
     "metadata": {},
     "output_type": "execute_result"
    }
   ],
   "source": [
    "cm = confusion_matrix(y_test, y_pred)\n",
    "cm"
   ]
  },
  {
   "cell_type": "code",
   "execution_count": 389,
   "metadata": {
    "ExecuteTime": {
     "end_time": "2018-10-20T03:52:37.349801Z",
     "start_time": "2018-10-20T03:52:37.327624Z"
    }
   },
   "outputs": [
    {
     "name": "stdout",
     "output_type": "stream",
     "text": [
      "Accuracy = 70.16129032258065%\n"
     ]
    }
   ],
   "source": [
    "print(f'Accuracy = {(50+37)/(50+17+20+37)*100}%')"
   ]
  },
  {
   "cell_type": "markdown",
   "metadata": {},
   "source": [
    "### 75.5% Accuracy on 1824 training, 200 test\n",
    "__3 layers__\n",
    "- layer 1 = ReLU X 7\n",
    "- layer 2 = SoftMax X 14\n",
    "- layer 3 = ReLU X 7\n",
    "- output layer = Sigmoid X 1\n",
    "\n",
    "__metrics__ = Cosine\n",
    "\n",
    "__loss__ = binary_crossentropy\n",
    "\n",
    "__Optimizer__ = Nadam\n",
    "\n",
    "__Batch size__ = 12\n",
    "\n",
    "__Epochs__ = 175\n",
    "\n",
    "no __diff__"
   ]
  },
  {
   "cell_type": "code",
   "execution_count": 128,
   "metadata": {
    "ExecuteTime": {
     "end_time": "2018-10-18T16:31:43.167518Z",
     "start_time": "2018-10-18T16:31:43.143247Z"
    }
   },
   "outputs": [],
   "source": [
    "classifier = KerasClassifier(\n",
    "    build_fn=_classifier, batch_size=13, epochs=175)"
   ]
  },
  {
   "cell_type": "code",
   "execution_count": 390,
   "metadata": {
    "ExecuteTime": {
     "end_time": "2018-10-20T03:52:48.350969Z",
     "start_time": "2018-10-20T03:52:48.329051Z"
    }
   },
   "outputs": [],
   "source": [
    "accus = cross_val_score(estimator=classifier, X=X_train,\n",
    "                        y=y_train, cv=10, n_jobs=-4)"
   ]
  },
  {
   "cell_type": "code",
   "execution_count": null,
   "metadata": {
    "ExecuteTime": {
     "end_time": "2018-10-18T05:09:13.614250Z",
     "start_time": "2018-10-18T05:08:19.665Z"
    }
   },
   "outputs": [],
   "source": [
    "accus"
   ]
  },
  {
   "cell_type": "code",
   "execution_count": null,
   "metadata": {
    "ExecuteTime": {
     "end_time": "2018-10-18T05:09:13.615837Z",
     "start_time": "2018-10-18T05:08:21.370Z"
    }
   },
   "outputs": [],
   "source": [
    "accu_mean = accus.mean()\n",
    "accu_mean"
   ]
  },
  {
   "cell_type": "code",
   "execution_count": null,
   "metadata": {
    "ExecuteTime": {
     "end_time": "2018-10-18T05:09:13.617230Z",
     "start_time": "2018-10-18T05:08:21.709Z"
    }
   },
   "outputs": [],
   "source": [
    "accu_var = accus.std()\n",
    "accu_var"
   ]
  },
  {
   "cell_type": "code",
   "execution_count": 12,
   "metadata": {
    "ExecuteTime": {
     "end_time": "2018-10-20T04:28:14.220079Z",
     "start_time": "2018-10-20T04:28:14.191022Z"
    }
   },
   "outputs": [],
   "source": [
    "def dropout_classifier(optimizer):\n",
    "    classifier = Sequential()\n",
    "    classifier.add(Dense(units=7, kernel_initializer='uniform',\n",
    "                         activation='relu', input_dim=7))\n",
    "    classifier.add(Dropout(rate=0.12))\n",
    "    classifier.add(\n",
    "        Dense(units=28, kernel_initializer='uniform', activation='softsign'))\n",
    "    classifier.add(Dropout(rate=0.08))\n",
    "    classifier.add(\n",
    "        Dense(units=4, kernel_initializer='uniform', activation='relu'))\n",
    "    classifier.add(Dropout(rate=0.04))\n",
    "    classifier.add(\n",
    "        Dense(units=1, kernel_initializer='uniform', activation='sigmoid'))\n",
    "\n",
    "    classifier.compile(\n",
    "        optimizer=optimizer, loss='binary_crossentropy', metrics=['accuracy'])\n",
    "    return classifier"
   ]
  },
  {
   "cell_type": "code",
   "execution_count": 13,
   "metadata": {
    "ExecuteTime": {
     "end_time": "2018-10-20T04:28:14.860773Z",
     "start_time": "2018-10-20T04:28:14.837029Z"
    }
   },
   "outputs": [],
   "source": [
    "classifier = KerasClassifier(build_fn=dropout_classifier)"
   ]
  },
  {
   "cell_type": "code",
   "execution_count": 14,
   "metadata": {
    "ExecuteTime": {
     "end_time": "2018-10-20T04:28:17.940636Z",
     "start_time": "2018-10-20T04:28:17.906664Z"
    }
   },
   "outputs": [],
   "source": [
    "parameters = {'batch_size': [10,20,30], 'nb_epoch': [100, 150, 200],\n",
    "              'optimizer': ['Nadam', 'Adadelta', 'adamax']}"
   ]
  },
  {
   "cell_type": "code",
   "execution_count": 15,
   "metadata": {
    "ExecuteTime": {
     "end_time": "2018-10-20T04:28:18.806455Z",
     "start_time": "2018-10-20T04:28:18.782469Z"
    }
   },
   "outputs": [],
   "source": [
    "grid_search = GridSearchCV(classifier, parameters,\n",
    "                           scoring='accuracy', cv=5, n_jobs=-4)"
   ]
  },
  {
   "cell_type": "code",
   "execution_count": 16,
   "metadata": {
    "ExecuteTime": {
     "end_time": "2018-10-20T04:40:48.714277Z",
     "start_time": "2018-10-20T04:28:19.482509Z"
    },
    "scrolled": true
   },
   "outputs": [
    {
     "name": "stdout",
     "output_type": "stream",
     "text": [
      "Epoch 1/1\n",
      "1520/1520 [==============================] - 1s 787us/step - loss: 0.6791 - acc: 0.5533\n",
      "Epoch 1/1\n",
      "1520/1520 [==============================] - 1s 795us/step - loss: 0.6797 - acc: 0.5711\n",
      "Epoch 1/1\n",
      "1520/1520 [==============================] - 1s 787us/step - loss: 0.6933 - acc: 0.4849\n",
      "Epoch 1/1\n",
      "1520/1520 [==============================] - 1s 830us/step - loss: 0.6845 - acc: 0.5618\n",
      "Epoch 1/1\n",
      "1520/1520 [==============================] - 1s 929us/step - loss: 0.6765 - acc: 0.5250\n",
      "Epoch 1/1\n",
      "1520/1520 [==============================] - 1s 853us/step - loss: 0.6932 - acc: 0.4862\n",
      "Epoch 1/1\n",
      "1520/1520 [==============================] - 1s 852us/step - loss: 0.6932 - acc: 0.5033\n",
      "Epoch 1/1\n",
      "1520/1520 [==============================] - 1s 887us/step - loss: 0.6932 - acc: 0.4829\n",
      "Epoch 1/1\n",
      "1520/1520 [==============================] - 1s 919us/step - loss: 0.6932 - acc: 0.4868\n",
      "Epoch 1/1\n",
      "1520/1520 [==============================] - 1s 932us/step - loss: 0.6932 - acc: 0.5086\n",
      "Epoch 1/1\n",
      "1520/1520 [==============================] - 2s 1ms/step - loss: 0.6931 - acc: 0.4987\n",
      "Epoch 1/1\n",
      "1520/1520 [==============================] - 1s 954us/step - loss: 0.6932 - acc: 0.4947\n",
      "Epoch 1/1\n",
      "1520/1520 [==============================] - 1s 978us/step - loss: 0.6932 - acc: 0.4875\n",
      "Epoch 1/1\n",
      "1520/1520 [==============================] - 2s 991us/step - loss: 0.6932 - acc: 0.4664\n",
      "Epoch 1/1\n",
      "1520/1520 [==============================] - 2s 1ms/step - loss: 0.6932 - acc: 0.4888\n",
      "Epoch 1/1\n",
      "1520/1520 [==============================] - 2s 1ms/step - loss: 0.6933 - acc: 0.4842\n",
      "Epoch 1/1\n",
      "1520/1520 [==============================] - 2s 1ms/step - loss: 0.6793 - acc: 0.5599\n",
      "Epoch 1/1\n",
      "1520/1520 [==============================] - 2s 1ms/step - loss: 0.6871 - acc: 0.5342\n",
      "Epoch 1/1\n",
      "1520/1520 [==============================] - 2s 1ms/step - loss: 0.6933 - acc: 0.4724\n",
      "Epoch 1/1\n",
      "1520/1520 [==============================] - 2s 1ms/step - loss: 0.6859 - acc: 0.5270\n",
      "Epoch 1/1\n",
      "1520/1520 [==============================] - 2s 1ms/step - loss: 0.6933 - acc: 0.4888\n",
      "Epoch 1/1\n",
      "1520/1520 [==============================] - 2s 1ms/step - loss: 0.6932 - acc: 0.5033\n",
      "Epoch 1/1\n",
      "1520/1520 [==============================] - 2s 1ms/step - loss: 0.6932 - acc: 0.4967\n",
      "Epoch 1/1\n",
      "1520/1520 [==============================] - 2s 1ms/step - loss: 0.6932 - acc: 0.4934\n",
      "Epoch 1/1\n",
      "1520/1520 [==============================] - 2s 1ms/step - loss: 0.6932 - acc: 0.5053\n",
      "Epoch 1/1\n",
      "1520/1520 [==============================] - 2s 1ms/step - loss: 0.6930 - acc: 0.5092\n",
      "Epoch 1/1\n",
      "1520/1520 [==============================] - 2s 1ms/step - loss: 0.6931 - acc: 0.5046\n",
      "Epoch 1/1\n",
      "1520/1520 [==============================] - 2s 1ms/step - loss: 0.6932 - acc: 0.4941\n",
      "Epoch 1/1\n",
      "1520/1520 [==============================] - 2s 1ms/step - loss: 0.6932 - acc: 0.4954\n",
      "Epoch 1/1\n",
      "1520/1520 [==============================] - 2s 1ms/step - loss: 0.6933 - acc: 0.4888\n",
      "Epoch 1/1\n",
      "1520/1520 [==============================] - 3s 2ms/step - loss: 0.6650 - acc: 0.5921\n",
      "Epoch 1/1\n",
      "1520/1520 [==============================] - 2s 2ms/step - loss: 0.6823 - acc: 0.5605\n",
      "Epoch 1/1\n",
      "1520/1520 [==============================] - 2s 2ms/step - loss: 0.6933 - acc: 0.4974\n",
      "Epoch 1/1\n",
      "1520/1520 [==============================] - 3s 2ms/step - loss: 0.6813 - acc: 0.5507\n",
      "Epoch 1/1\n",
      "1520/1520 [==============================] - 3s 2ms/step - loss: 0.6866 - acc: 0.5322\n",
      "Epoch 1/1\n",
      "1520/1520 [==============================] - 3s 2ms/step - loss: 0.6932 - acc: 0.4816\n",
      "Epoch 1/1\n",
      "1520/1520 [==============================] - 3s 2ms/step - loss: 0.6932 - acc: 0.4882\n",
      "Epoch 1/1\n",
      "1520/1520 [==============================] - 3s 2ms/step - loss: 0.6932 - acc: 0.4849\n",
      "Epoch 1/1\n",
      "1520/1520 [==============================] - 3s 2ms/step - loss: 0.6932 - acc: 0.4697\n",
      "Epoch 1/1\n",
      "1520/1520 [==============================] - 3s 2ms/step - loss: 0.6932 - acc: 0.4928\n",
      "Epoch 1/1\n",
      "1520/1520 [==============================] - 3s 2ms/step - loss: 0.6932 - acc: 0.5007\n",
      "Epoch 1/1\n",
      "1520/1520 [==============================] - 3s 2ms/step - loss: 0.6932 - acc: 0.5079\n",
      "Epoch 1/1\n",
      "1520/1520 [==============================] - 3s 2ms/step - loss: 0.6933 - acc: 0.4947\n",
      "Epoch 1/1\n",
      "1520/1520 [==============================] - 3s 2ms/step - loss: 0.6932 - acc: 0.4987\n",
      "Epoch 1/1\n",
      "1520/1520 [==============================] - 3s 2ms/step - loss: 0.6932 - acc: 0.4842\n",
      "Epoch 1/1\n",
      "1520/1520 [==============================] - 3s 2ms/step - loss: 0.6909 - acc: 0.5250\n",
      "Epoch 1/1\n",
      "1520/1520 [==============================] - 3s 2ms/step - loss: 0.6932 - acc: 0.5000\n",
      "Epoch 1/1\n",
      "1520/1520 [==============================] - 3s 2ms/step - loss: 0.6919 - acc: 0.5184\n",
      "Epoch 1/1\n",
      "1520/1520 [==============================] - 3s 2ms/step - loss: 0.6911 - acc: 0.5546\n",
      "Epoch 1/1\n",
      "1520/1520 [==============================] - 3s 2ms/step - loss: 0.6898 - acc: 0.5480\n",
      "Epoch 1/1\n",
      "1520/1520 [==============================] - 3s 2ms/step - loss: 0.6932 - acc: 0.4908\n",
      "Epoch 1/1\n",
      "1520/1520 [==============================] - 3s 2ms/step - loss: 0.6932 - acc: 0.4914\n",
      "Epoch 1/1\n",
      "1520/1520 [==============================] - 3s 2ms/step - loss: 0.6932 - acc: 0.4836\n",
      "Epoch 1/1\n",
      "1520/1520 [==============================] - 3s 2ms/step - loss: 0.6932 - acc: 0.4868\n",
      "Epoch 1/1\n",
      "1520/1520 [==============================] - 3s 2ms/step - loss: 0.6932 - acc: 0.5039\n",
      "Epoch 1/1\n",
      "1520/1520 [==============================] - 3s 2ms/step - loss: 0.6931 - acc: 0.5000\n",
      "Epoch 1/1\n",
      "1520/1520 [==============================] - 3s 2ms/step - loss: 0.6932 - acc: 0.4974\n",
      "Epoch 1/1\n",
      "1520/1520 [==============================] - 3s 2ms/step - loss: 0.6932 - acc: 0.4888\n",
      "Epoch 1/1\n",
      "1520/1520 [==============================] - 3s 2ms/step - loss: 0.6932 - acc: 0.4974\n",
      "Epoch 1/1\n",
      "1520/1520 [==============================] - 3s 2ms/step - loss: 0.6932 - acc: 0.4901\n",
      "Epoch 1/1\n",
      "1520/1520 [==============================] - 3s 2ms/step - loss: 0.6932 - acc: 0.4868\n",
      "Epoch 1/1\n",
      "1520/1520 [==============================] - 3s 2ms/step - loss: 0.6910 - acc: 0.5033\n",
      "Epoch 1/1\n",
      "1520/1520 [==============================] - 3s 2ms/step - loss: 0.6929 - acc: 0.5072\n",
      "Epoch 1/1\n",
      "1520/1520 [==============================] - 3s 2ms/step - loss: 0.6933 - acc: 0.4908\n",
      "Epoch 1/1\n",
      "1520/1520 [==============================] - 3s 2ms/step - loss: 0.6910 - acc: 0.5309\n",
      "Epoch 1/1\n",
      "1520/1520 [==============================] - 3s 2ms/step - loss: 0.6932 - acc: 0.4901\n",
      "Epoch 1/1\n",
      "1520/1520 [==============================] - 3s 2ms/step - loss: 0.6932 - acc: 0.4612\n",
      "Epoch 1/1\n",
      "1520/1520 [==============================] - 4s 2ms/step - loss: 0.6932 - acc: 0.4836\n",
      "Epoch 1/1\n",
      "1520/1520 [==============================] - 4s 2ms/step - loss: 0.6932 - acc: 0.4678\n",
      "Epoch 1/1\n",
      "1520/1520 [==============================] - 4s 2ms/step - loss: 0.6932 - acc: 0.4954\n",
      "Epoch 1/1\n",
      "1520/1520 [==============================] - 4s 2ms/step - loss: 0.6932 - acc: 0.5007\n",
      "Epoch 1/1\n",
      "1520/1520 [==============================] - 4s 2ms/step - loss: 0.6931 - acc: 0.5059\n",
      "Epoch 1/1\n",
      "1520/1520 [==============================] - 4s 2ms/step - loss: 0.6933 - acc: 0.4882\n",
      "Epoch 1/1\n",
      "1520/1520 [==============================] - 4s 2ms/step - loss: 0.6932 - acc: 0.4980\n",
      "Epoch 1/1\n",
      "1520/1520 [==============================] - 4s 2ms/step - loss: 0.6931 - acc: 0.5092\n",
      "Epoch 1/1\n",
      "1520/1520 [==============================] - 4s 3ms/step - loss: 0.6889 - acc: 0.5355\n",
      "Epoch 1/1\n",
      "1520/1520 [==============================] - 4s 3ms/step - loss: 0.6932 - acc: 0.4974\n",
      "Epoch 1/1\n",
      "1520/1520 [==============================] - 4s 3ms/step - loss: 0.6932 - acc: 0.4822\n",
      "Epoch 1/1\n",
      "1520/1520 [==============================] - 4s 3ms/step - loss: 0.6927 - acc: 0.5289\n",
      "Epoch 1/1\n",
      "1520/1520 [==============================] - 4s 3ms/step - loss: 0.6932 - acc: 0.4947\n",
      "Epoch 1/1\n",
      "1520/1520 [==============================] - 4s 3ms/step - loss: 0.6933 - acc: 0.4809\n",
      "Epoch 1/1\n",
      "1520/1520 [==============================] - 4s 3ms/step - loss: 0.6932 - acc: 0.4980\n",
      "Epoch 1/1\n",
      "1520/1520 [==============================] - 4s 3ms/step - loss: 0.6932 - acc: 0.4789\n",
      "Epoch 1/1\n",
      "1520/1520 [==============================] - 4s 3ms/step - loss: 0.6932 - acc: 0.4901\n",
      "Epoch 1/1\n",
      "1520/1520 [==============================] - 4s 3ms/step - loss: 0.6932 - acc: 0.5020\n",
      "Epoch 1/1\n"
     ]
    },
    {
     "name": "stdout",
     "output_type": "stream",
     "text": [
      "1520/1520 [==============================] - 4s 3ms/step - loss: 0.6932 - acc: 0.5007\n",
      "Epoch 1/1\n",
      "1520/1520 [==============================] - 4s 3ms/step - loss: 0.6932 - acc: 0.5020\n",
      "Epoch 1/1\n",
      "1520/1520 [==============================] - 4s 3ms/step - loss: 0.6931 - acc: 0.5039\n",
      "Epoch 1/1\n",
      "1520/1520 [==============================] - 4s 3ms/step - loss: 0.6932 - acc: 0.4974\n",
      "Epoch 1/1\n",
      "1520/1520 [==============================] - 4s 3ms/step - loss: 0.6931 - acc: 0.5099\n",
      "Epoch 1/1\n",
      "1520/1520 [==============================] - 4s 3ms/step - loss: 0.6932 - acc: 0.4829\n",
      "Epoch 1/1\n",
      "1520/1520 [==============================] - 4s 3ms/step - loss: 0.6932 - acc: 0.4882\n",
      "Epoch 1/1\n",
      "1520/1520 [==============================] - 5s 3ms/step - loss: 0.6932 - acc: 0.4849\n",
      "Epoch 1/1\n",
      "1520/1520 [==============================] - 5s 3ms/step - loss: 0.6932 - acc: 0.4947\n",
      "Epoch 1/1\n",
      "1520/1520 [==============================] - 5s 3ms/step - loss: 0.6930 - acc: 0.5072\n",
      "Epoch 1/1\n",
      "1520/1520 [==============================] - 4s 3ms/step - loss: 0.6932 - acc: 0.4961\n",
      "Epoch 1/1\n",
      "1520/1520 [==============================] - 5s 3ms/step - loss: 0.6932 - acc: 0.4928\n",
      "Epoch 1/1\n",
      "1520/1520 [==============================] - 5s 3ms/step - loss: 0.6932 - acc: 0.4928\n",
      "Epoch 1/1\n",
      "1520/1520 [==============================] - 5s 3ms/step - loss: 0.6932 - acc: 0.4987\n",
      "Epoch 1/1\n",
      "1520/1520 [==============================] - 5s 3ms/step - loss: 0.6932 - acc: 0.5079\n",
      "Epoch 1/1\n",
      "1520/1520 [==============================] - 5s 3ms/step - loss: 0.6932 - acc: 0.4967\n",
      "Epoch 1/1\n",
      "1520/1520 [==============================] - 5s 3ms/step - loss: 0.6932 - acc: 0.4941\n",
      "Epoch 1/1\n",
      "1520/1520 [==============================] - 5s 3ms/step - loss: 0.6932 - acc: 0.5046\n",
      "Epoch 1/1\n",
      "1520/1520 [==============================] - 5s 3ms/step - loss: 0.6932 - acc: 0.4961\n",
      "Epoch 1/1\n",
      "1520/1520 [==============================] - 5s 3ms/step - loss: 0.6931 - acc: 0.5059\n",
      "Epoch 1/1\n",
      "1520/1520 [==============================] - 5s 3ms/step - loss: 0.6929 - acc: 0.5270\n",
      "Epoch 1/1\n",
      "1520/1520 [==============================] - 5s 3ms/step - loss: 0.6931 - acc: 0.5066\n",
      "Epoch 1/1\n",
      "1520/1520 [==============================] - 5s 3ms/step - loss: 0.6932 - acc: 0.4796\n",
      "Epoch 1/1\n",
      "1520/1520 [==============================] - 5s 3ms/step - loss: 0.6932 - acc: 0.4967\n",
      "Epoch 1/1\n",
      "1520/1520 [==============================] - 5s 3ms/step - loss: 0.6930 - acc: 0.5243\n",
      "Epoch 1/1\n",
      "1520/1520 [==============================] - 5s 3ms/step - loss: 0.6932 - acc: 0.4776\n",
      "Epoch 1/1\n",
      "1520/1520 [==============================] - 5s 3ms/step - loss: 0.6932 - acc: 0.4914\n",
      "Epoch 1/1\n",
      "1520/1520 [==============================] - 5s 3ms/step - loss: 0.6932 - acc: 0.5026\n",
      "Epoch 1/1\n",
      "1520/1520 [==============================] - 5s 3ms/step - loss: 0.6932 - acc: 0.4954\n",
      "Epoch 1/1\n",
      "1520/1520 [==============================] - 5s 3ms/step - loss: 0.6932 - acc: 0.5086\n",
      "Epoch 1/1\n",
      "1520/1520 [==============================] - 5s 4ms/step - loss: 0.6932 - acc: 0.4980\n",
      "Epoch 1/1\n",
      "1520/1520 [==============================] - 5s 4ms/step - loss: 0.6931 - acc: 0.5013\n",
      "Epoch 1/1\n",
      "1520/1520 [==============================] - 5s 4ms/step - loss: 0.6931 - acc: 0.5046\n",
      "Epoch 1/1\n",
      "1520/1520 [==============================] - 5s 4ms/step - loss: 0.6932 - acc: 0.4987\n",
      "Epoch 1/1\n",
      "1520/1520 [==============================] - 5s 4ms/step - loss: 0.6931 - acc: 0.5046\n",
      "Epoch 1/1\n",
      "1520/1520 [==============================] - 6s 4ms/step - loss: 0.6931 - acc: 0.5046\n",
      "Epoch 1/1\n",
      "1520/1520 [==============================] - 6s 4ms/step - loss: 0.6922 - acc: 0.4980\n",
      "Epoch 1/1\n",
      "1520/1520 [==============================] - 6s 4ms/step - loss: 0.6928 - acc: 0.5013\n",
      "Epoch 1/1\n",
      "1520/1520 [==============================] - 6s 4ms/step - loss: 0.6932 - acc: 0.4908\n",
      "Epoch 1/1\n",
      "1520/1520 [==============================] - 6s 4ms/step - loss: 0.6932 - acc: 0.5072\n",
      "Epoch 1/1\n",
      "1520/1520 [==============================] - 6s 4ms/step - loss: 0.6932 - acc: 0.4961\n",
      "Epoch 1/1\n",
      "1520/1520 [==============================] - 6s 4ms/step - loss: 0.6932 - acc: 0.4697\n",
      "Epoch 1/1\n",
      "1520/1520 [==============================] - 6s 4ms/step - loss: 0.6932 - acc: 0.5053\n",
      "Epoch 1/1\n",
      "1520/1520 [==============================] - 6s 4ms/step - loss: 0.6932 - acc: 0.4888\n",
      "Epoch 1/1\n",
      "1520/1520 [==============================] - 6s 4ms/step - loss: 0.6932 - acc: 0.4941\n",
      "Epoch 1/1\n",
      "1520/1520 [==============================] - 6s 4ms/step - loss: 0.6932 - acc: 0.4987\n",
      "Epoch 1/1\n",
      "1520/1520 [==============================] - 6s 4ms/step - loss: 0.6931 - acc: 0.5059\n",
      "Epoch 1/1\n",
      "1520/1520 [==============================] - 6s 4ms/step - loss: 0.6932 - acc: 0.5020\n",
      "Epoch 1/1\n",
      "1520/1520 [==============================] - 6s 4ms/step - loss: 0.6932 - acc: 0.4914\n",
      "Epoch 1/1\n",
      "1520/1520 [==============================] - 7s 5ms/step - loss: 0.6931 - acc: 0.5092\n",
      "Epoch 1/1\n",
      "1900/1900 [==============================] - 8s 4ms/step - loss: 0.6742 - acc: 0.5805\n"
     ]
    }
   ],
   "source": [
    "grid_search = grid_search.fit(X=X_train, y=y_train)"
   ]
  },
  {
   "cell_type": "code",
   "execution_count": 17,
   "metadata": {
    "ExecuteTime": {
     "end_time": "2018-10-20T04:40:48.737066Z",
     "start_time": "2018-10-20T04:40:48.716317Z"
    }
   },
   "outputs": [
    {
     "data": {
      "text/plain": [
       "{'batch_size': 10, 'nb_epoch': 200, 'optimizer': 'Nadam'}"
      ]
     },
     "execution_count": 17,
     "metadata": {},
     "output_type": "execute_result"
    }
   ],
   "source": [
    "best_params = grid_search.best_params_\n",
    "best_params"
   ]
  },
  {
   "cell_type": "code",
   "execution_count": 18,
   "metadata": {
    "ExecuteTime": {
     "end_time": "2018-10-20T04:40:48.766281Z",
     "start_time": "2018-10-20T04:40:48.739293Z"
    },
    "scrolled": true
   },
   "outputs": [
    {
     "data": {
      "text/plain": [
       "0.6163157894736843"
      ]
     },
     "execution_count": 18,
     "metadata": {},
     "output_type": "execute_result"
    }
   ],
   "source": [
    "best_accu = grid_search.best_score_\n",
    "best_accu"
   ]
  },
  {
   "cell_type": "code",
   "execution_count": 19,
   "metadata": {
    "ExecuteTime": {
     "end_time": "2018-10-20T04:40:51.334697Z",
     "start_time": "2018-10-20T04:40:48.768478Z"
    }
   },
   "outputs": [],
   "source": [
    "y_pred = grid_search.predict(X_test)\n",
    "y_pred = (y_pred > 0.5)"
   ]
  },
  {
   "cell_type": "code",
   "execution_count": 20,
   "metadata": {
    "ExecuteTime": {
     "end_time": "2018-10-20T04:40:51.359274Z",
     "start_time": "2018-10-20T04:40:51.336760Z"
    }
   },
   "outputs": [
    {
     "data": {
      "text/plain": [
       "array([[53, 14],\n",
       "       [19, 38]])"
      ]
     },
     "execution_count": 20,
     "metadata": {},
     "output_type": "execute_result"
    }
   ],
   "source": [
    "cm = confusion_matrix(y_test, y_pred)\n",
    "cm"
   ]
  },
  {
   "cell_type": "code",
   "execution_count": 21,
   "metadata": {
    "ExecuteTime": {
     "end_time": "2018-10-20T04:41:16.175429Z",
     "start_time": "2018-10-20T04:41:16.148787Z"
    }
   },
   "outputs": [
    {
     "data": {
      "text/plain": [
       "0.7580645161290323"
      ]
     },
     "execution_count": 21,
     "metadata": {},
     "output_type": "execute_result"
    }
   ],
   "source": [
    "(56+38)/(67+57)"
   ]
  },
  {
   "cell_type": "code",
   "execution_count": null,
   "metadata": {},
   "outputs": [],
   "source": []
  },
  {
   "cell_type": "code",
   "execution_count": null,
   "metadata": {},
   "outputs": [],
   "source": []
  }
 ],
 "metadata": {
  "kernelspec": {
   "display_name": "Python 3",
   "language": "python",
   "name": "python3"
  },
  "language_info": {
   "codemirror_mode": {
    "name": "ipython",
    "version": 3
   },
   "file_extension": ".py",
   "mimetype": "text/x-python",
   "name": "python",
   "nbconvert_exporter": "python",
   "pygments_lexer": "ipython3",
   "version": "3.6.6"
  }
 },
 "nbformat": 4,
 "nbformat_minor": 2
}
