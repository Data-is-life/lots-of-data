{
 "cells": [
  {
   "cell_type": "code",
   "execution_count": 172,
   "metadata": {
    "ExecuteTime": {
     "end_time": "2018-11-09T03:57:34.976813Z",
     "start_time": "2018-11-09T03:57:34.960044Z"
    },
    "run_control": {
     "marked": false
    },
    "slideshow": {
     "slide_type": "-"
    }
   },
   "outputs": [],
   "source": [
    "from clean_chess_game_log import *"
   ]
  },
  {
   "cell_type": "code",
   "execution_count": 173,
   "metadata": {
    "ExecuteTime": {
     "end_time": "2018-11-09T03:57:43.007311Z",
     "start_time": "2018-11-09T03:57:35.829465Z"
    }
   },
   "outputs": [
    {
     "name": "stderr",
     "output_type": "stream",
     "text": [
      "/home/guess/anaconda3/lib/python3.6/site-packages/pandas/core/indexing.py:189: SettingWithCopyWarning: \n",
      "A value is trying to be set on a copy of a slice from a DataFrame\n",
      "\n",
      "See the caveats in the documentation: http://pandas.pydata.org/pandas-docs/stable/indexing.html#indexing-view-versus-copy\n",
      "  self._setitem_with_indexer(indexer, value)\n"
     ]
    }
   ],
   "source": [
    "df = main_cleanup('../data/dest.pgn')"
   ]
  },
  {
   "cell_type": "code",
   "execution_count": 128,
   "metadata": {
    "ExecuteTime": {
     "end_time": "2018-11-09T02:44:52.597821Z",
     "start_time": "2018-11-09T02:44:52.582671Z"
    },
    "run_control": {
     "marked": false
    }
   },
   "outputs": [],
   "source": [
    "# - Create this w/ user input for their user_name, chess_data_file (.pgn as format),\n",
    "#   & time back to go to analyse - just stats of their data\n",
    "# - Create a program that asks user for their user_name, chess_data_file, time back to go to predict,\n",
    "#   move by move gives them a % chance of winning.\n",
    "\n",
    "# - 'checks' <- count # of checks\n",
    "# - 'opp_checks' <- count # of checks\n",
    "# - 'first_check' <- get first column of check\n",
    "# - 'opp_first_check' <- get first column of check\n",
    "# - Correct the time!\n",
    "# - 'score_5' - Score after first 5 moves\n",
    "# - 'score_10' - Score after first 10 moves\n",
    "# - 'score_15' - Score after first 15 moves\n",
    "# - 'score_20' - Score after first 20 moves\n",
    "# - 'score_25' - Score after first 25 moves\n",
    "# - 'score_30' - Score after first 30 moves\n",
    "# - 'score_35' - Score after first 35 moves\n",
    "# - 'score_40' - Score after first 40 moves\n",
    "# - 'score_45' - Score after first 45 moves\n",
    "# - 'score_50' - Score after first 50 moves\n",
    "# - 'score_55' - Score after first 55 moves\n",
    "# - 'score_60' - Score after first 60 moves\n",
    "\n",
    "# ### Future Considered Variables:\n",
    "# > - y = 'win%' <- Prediction\n",
    "# - 'timed_game': user_input -- *'enter time in minutes per player (10 for 10 min, 5 for 5 min, etc.): '*\n",
    "# - 'color': user_input -- *'enter your peices color: '*\n",
    "# - 'pre_diff': user_input\n",
    "# - 'Current_move_count':\n",
    "# - 'delta_avg_move_time' <- Create column from subtracting last time and total time devide by # of moves\n",
    "# - 'delta_max_move_time' <- Create column from max of all move times\n",
    "# - 'delta_castled_on_move' <- Create column that looks for '0-0' or '0-0-0'\n",
    "# - 'score' - has to keep updating after every move\n",
    "# - 'weighted_score'\n",
    "#     - 'time': result-0.1 for win (Final_score<=-5), result+0.1 for loss (Final_score>=5)\n",
    "#     - 'abandoned': result-0.2 for win (Final_score<=-5), result+0.2 for loss (Final_score>=5)\n",
    "#     - 'stalemate': result-0.25 (Final_score<=-5), result+0.25 (Final_score>=5)"
   ]
  },
  {
   "cell_type": "code",
   "execution_count": 131,
   "metadata": {
    "ExecuteTime": {
     "end_time": "2018-11-09T02:44:54.594794Z",
     "start_time": "2018-11-09T02:44:54.578004Z"
    }
   },
   "outputs": [],
   "source": [
    "# adf = cdf[cdf.index % 2 == 0]\n",
    "# adf.to_csv('moves.csv')"
   ]
  },
  {
   "cell_type": "code",
   "execution_count": 49,
   "metadata": {
    "ExecuteTime": {
     "end_time": "2018-11-09T01:06:25.039853Z",
     "start_time": "2018-11-09T01:06:25.024593Z"
    },
    "run_control": {
     "marked": false
    }
   },
   "outputs": [],
   "source": [
    "# def data_cleaning_5(m_df):\n",
    "#     s_df_l = m_df.copy()\n",
    "#     s_df_f = s_df_l.copy()\n",
    "#     for col_name in s_df_l.columns:\n",
    "#         s_df_l[col_name] = s_df_l[col_name].str.extract(r'(x\\w+\\+?$)')\n",
    "#         s_df_f[col_name] = s_df_f[col_name].str.replace(r'(\\w+x)','')\n",
    "#     return s_df_l\n",
    "\n",
    "# wh_sdf1 = data_cleaning_5(wh_mdf1)\n",
    "# list(wh_sdf1.iloc[1587])"
   ]
  },
  {
   "cell_type": "code",
   "execution_count": 55,
   "metadata": {
    "ExecuteTime": {
     "end_time": "2018-11-09T01:06:27.827548Z",
     "start_time": "2018-11-09T01:06:27.815282Z"
    },
    "run_control": {
     "marked": false
    }
   },
   "outputs": [],
   "source": [
    "# analysis_labels = [\n",
    "#     'date', 'day', 'weekday', 'start_time', 'game_time', 'color', 'elo', \n",
    "#     'opp_elo', 'diff', 'result', 'won_by', 'num_moves', 'opp_num_moves', \n",
    "#     'avg_time', 'opp_avg_time', 'castled_on', 'opp_castled_on', 'castled',\n",
    "#     'opp_castled', 'time_used', 'opp_time_used', 'max_move', 'opp_max_move']\n",
    "\n",
    "# predictions_labels = ['result', 'diff', 'opp_elo', 'elo', 'game_time',\n",
    "#                       'color', 'start_time', 'day', 'weekday']\n",
    "# ddf_final_without_scores = data_cleaning_6(ddf3, wh_tmdf1, bl_tmdf1)"
   ]
  },
  {
   "cell_type": "code",
   "execution_count": 56,
   "metadata": {
    "ExecuteTime": {
     "end_time": "2018-11-09T01:06:27.960626Z",
     "start_time": "2018-11-09T01:06:27.947270Z"
    }
   },
   "outputs": [],
   "source": [
    "# ddf_model = ddf_final_without_scores[predictions_labels].copy()\n",
    "# ddf_analysis = ddf_final_without_scores[analysis_labels].copy()"
   ]
  },
  {
   "cell_type": "code",
   "execution_count": 57,
   "metadata": {
    "ExecuteTime": {
     "end_time": "2018-11-09T01:06:28.700037Z",
     "start_time": "2018-11-09T01:06:28.687813Z"
    }
   },
   "outputs": [],
   "source": [
    "# mdf2.to_csv('../data/moves.csv')"
   ]
  },
  {
   "cell_type": "code",
   "execution_count": 58,
   "metadata": {
    "ExecuteTime": {
     "end_time": "2018-11-09T01:06:28.805408Z",
     "start_time": "2018-11-09T01:06:28.790317Z"
    }
   },
   "outputs": [],
   "source": [
    "# ddf_final_without_scores.to_csv('../data/ddf_final_without_scores.csv')\n",
    "# ddf_model.to_csv('../data/ddf_model.csv')\n",
    "# ddf_analysis.to_csv('../data/ddf_analysis.csv')"
   ]
  },
  {
   "cell_type": "code",
   "execution_count": 174,
   "metadata": {
    "ExecuteTime": {
     "end_time": "2018-11-09T04:11:48.478919Z",
     "start_time": "2018-11-09T04:11:48.465693Z"
    }
   },
   "outputs": [],
   "source": [
    "# df_final, df_for_model, df_for_analysis = main_cleanup('../data/dest.pgn')\n",
    "# df_final.to_csv('../data/df_final.csv')\n",
    "# df_for_model.to_csv('../data/df_for_model.csv')\n",
    "# df_for_analysis.to_csv('../data/df_for_analysis.csv')"
   ]
  },
  {
   "cell_type": "markdown",
   "metadata": {},
   "source": [
    "### Analysis:###\n",
    "\n",
    "1. 'date'\n",
    "2. 'result'\n",
    "3. 'game_time'\n",
    "4. 'end_time'\n",
    "5. 'num_moves'\n",
    "6. 'color'\n",
    "7. 'won_by':\n",
    "    - checkmate = 8\n",
    "    - resignation = 7\n",
    "    - time = 6\n",
    "    - material = 5\n",
    "    - agreement = 4\n",
    "    - repetition = 3\n",
    "    - abandoned = 2\n",
    "    - stalemate = 1\n",
    "    - rule = 0\n",
    "8. 'weekday'\n",
    "    - Monday = 0\n",
    "    - Tuesday = 1\n",
    "    - Wednesday = 2\n",
    "    - Thursday = 3\n",
    "    - Friday = 4|\n",
    "    - Saturday = 5\n",
    "    - Sunday = 6\n",
    "9. 'day'\n",
    "10. 'castled_on'\n",
    "11. 'opp_castled_on'\n",
    "12. 'castled'\n",
    "13. 'opp_castled'\n",
    "14. 'time_used'\n",
    "15. 'opp_time_used'\n",
    "16. 'opp_num_moves'\n",
    "17. 'avg_time'\n",
    "18. 'opp_avg_time'\n",
    "19. 'max_time'\n",
    "20. 'opp_max_time'\n",
    "21. 'elo'\n",
    "22. 'opp_elo'\n",
    "23. 'diff'\n",
    "\n",
    "\n",
    "__X = 'date'X2, 'weekday', 'day', 'won_by', 'castled_on', 'opp_castled_on', 'time_used', 'opp_time_used', 'opp_num_moves', 'avg_time', 'opp_avg_time', 'max_time', 'opp_max_time', 'elo', 'opp_elo', 'diff'__\n",
    "\n",
    "__y = 'result', 'color', 'castled', 'opp_castled'__\n",
    "\n",
    "__Nothing for timecontrol, unless another variable asks__\n",
    "\n",
    "**All the models have to run avg and cumsum**\n",
    "\n",
    "\n",
    "### Logistic Model ###\n",
    "__y = 'result'__\n",
    "__x__:\n",
    "1. 'elo'\n",
    "2. 'opp_elo'\n",
    "3. 'diff'\n",
    "4. 'color'\n",
    "5. 'game_time'\n",
    "6. 'start_time'\n",
    "7. 'weekday'\n",
    "8. 'day'\n",
    "\n",
    "### Random Tree Forest ###\n",
    "\n",
    "### Logistic Model ###\n",
    "__y = 'result'__\n",
    "__x__:\n",
    "1. 'elo' (Bin?)\n",
    "2. 'opp_elo' (Bin?)\n",
    "3. 'diff' (Bin?)\n",
    "4. 'color' <- 1 & 0\n",
    "5. 'game_time' <- Many...??\n",
    "6. 'start_time'(Bin?)\n",
    "7. 'weekday' <- 7\n",
    "8. 'day' <- 31!!\n",
    "\n",
    "### ?? ###\n",
    "\n"
   ]
  },
  {
   "cell_type": "code",
   "execution_count": null,
   "metadata": {},
   "outputs": [],
   "source": []
  }
 ],
 "metadata": {
  "celltoolbar": "Initialization Cell",
  "kernelspec": {
   "display_name": "Python 3",
   "language": "python",
   "name": "python3"
  },
  "language_info": {
   "codemirror_mode": {
    "name": "ipython",
    "version": 3
   },
   "file_extension": ".py",
   "mimetype": "text/x-python",
   "name": "python",
   "nbconvert_exporter": "python",
   "pygments_lexer": "ipython3",
   "version": "3.6.6"
  },
  "latex_envs": {
   "LaTeX_envs_menu_present": true,
   "autoclose": false,
   "autocomplete": true,
   "bibliofile": "biblio.bib",
   "cite_by": "apalike",
   "current_citInitial": 1,
   "eqLabelWithNumbers": true,
   "eqNumInitial": 1,
   "hotkeys": {
    "equation": "Ctrl-E",
    "itemize": "Ctrl-I"
   },
   "labels_anchors": false,
   "latex_user_defs": false,
   "report_style_numbering": false,
   "user_envs_cfg": false
  },
  "varInspector": {
   "cols": {
    "lenName": 16,
    "lenType": 16,
    "lenVar": 40
   },
   "kernels_config": {
    "python": {
     "delete_cmd_postfix": "",
     "delete_cmd_prefix": "del ",
     "library": "var_list.py",
     "varRefreshCmd": "print(var_dic_list())"
    },
    "r": {
     "delete_cmd_postfix": ") ",
     "delete_cmd_prefix": "rm(",
     "library": "var_list.r",
     "varRefreshCmd": "cat(var_dic_list()) "
    }
   },
   "position": {
    "height": "412px",
    "left": "1483px",
    "right": "20px",
    "top": "120px",
    "width": "353px"
   },
   "types_to_exclude": [
    "module",
    "function",
    "builtin_function_or_method",
    "instance",
    "_Feature"
   ],
   "window_display": false
  },
  "widgets": {
   "application/vnd.jupyter.widget-state+json": {
    "state": {},
    "version_major": 2,
    "version_minor": 0
   }
  }
 },
 "nbformat": 4,
 "nbformat_minor": 2
}
