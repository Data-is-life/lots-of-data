{
 "cells": [
  {
   "cell_type": "code",
   "execution_count": 74,
   "metadata": {
    "ExecuteTime": {
     "end_time": "2018-10-17T19:52:40.451554Z",
     "start_time": "2018-10-17T19:52:40.434725Z"
    },
    "run_control": {
     "marked": false
    },
    "slideshow": {
     "slide_type": "-"
    }
   },
   "outputs": [],
   "source": [
    "import pandas as pd\n",
    "import numpy as np\n",
    "import re\n",
    "from ast import literal_eval\n",
    "from datetime import datetime\n",
    "from pandas import to_numeric, to_datetime, to_timedelta, DataFrame\n",
    "pd.set_option('display.float_format', lambda x: '%.2f' % x)\n",
    "%matplotlib inline\n",
    "import matplotlib.pyplot as plt\n",
    "plt.style.use('fivethirtyeight')"
   ]
  },
  {
   "cell_type": "code",
   "execution_count": 75,
   "metadata": {
    "ExecuteTime": {
     "end_time": "2018-10-17T19:52:40.754178Z",
     "start_time": "2018-10-17T19:52:40.732714Z"
    },
    "run_control": {
     "marked": false
    }
   },
   "outputs": [],
   "source": [
    "# - Create this w/ user input for their user_name, chess_data_file (.pgn as format),\n",
    "#   & time back to go to analyse - just stats of their data\n",
    "# - Create a program that asks user for their user_name, chess_data_file, time back to go to predict,\n",
    "#   move by move gives them a % chance of winning.\n",
    "\n",
    "# - 'checks' <- count # of checks\n",
    "# - 'opp_checks' <- count # of checks\n",
    "# - 'first_check' <- get first column of check\n",
    "# - 'opp_first_check' <- get first column of check\n",
    "# - Correct the time!\n",
    "# - 'score_5' - Score after first 5 moves\n",
    "# - 'score_10' - Score after first 10 moves\n",
    "# - 'score_15' - Score after first 15 moves\n",
    "# - 'score_20' - Score after first 20 moves\n",
    "# - 'score_25' - Score after first 25 moves\n",
    "# - 'score_30' - Score after first 30 moves\n",
    "# - 'score_35' - Score after first 35 moves\n",
    "# - 'score_40' - Score after first 40 moves\n",
    "# - 'score_45' - Score after first 45 moves\n",
    "# - 'score_50' - Score after first 50 moves\n",
    "# - 'score_55' - Score after first 55 moves\n",
    "# - 'score_60' - Score after first 60 moves\n",
    "\n",
    "# ### Future Considered Variables:\n",
    "# > - y = 'win%' <- Prediction\n",
    "# - 'timed_game': user_input -- *'enter time in minutes per player (10 for 10 min, 5 for 5 min, etc.): '*\n",
    "# - 'color': user_input -- *'enter your peices color: '*\n",
    "# - 'pre_diff': user_input\n",
    "# - 'Current_move_count':\n",
    "# - 'delta_avg_move_time' <- Create column from subtracting last time and total time devide by # of moves\n",
    "# - 'delta_max_move_time' <- Create column from max of all move times\n",
    "# - 'delta_castled_on_move' <- Create column that looks for '0-0' or '0-0-0'\n",
    "# - 'score' - has to keep updating after every move\n",
    "# - 'weighted_score'\n",
    "#     - 'time': result-0.1 for win (Final_score<=-5), result+0.1 for loss (Final_score>=5)\n",
    "#     - 'abandoned': result-0.2 for win (Final_score<=-5), result+0.2 for loss (Final_score>=5)\n",
    "#     - 'stalemate': result-0.25 (Final_score<=-5), result+0.25 (Final_score>=5)"
   ]
  },
  {
   "cell_type": "code",
   "execution_count": 76,
   "metadata": {
    "ExecuteTime": {
     "end_time": "2018-10-17T19:52:41.036187Z",
     "start_time": "2018-10-17T19:52:41.021093Z"
    },
    "run_control": {
     "marked": false
    }
   },
   "outputs": [],
   "source": [
    "def initial_chess_data(filename):\n",
    "    # change filename to chess_data_file\n",
    "    with open(filename, 'r+') as file:\n",
    "        icd_l = file.readlines()\n",
    "    icd_t = \" \".join(num for num in icd_l if len(num) > 4)\n",
    "    return icd_t\n",
    "\n",
    "# icd_text = initial_chess_data('../data/dest.pgn')\n",
    "# icd_text"
   ]
  },
  {
   "cell_type": "code",
   "execution_count": 77,
   "metadata": {
    "ExecuteTime": {
     "end_time": "2018-10-17T19:52:41.790574Z",
     "start_time": "2018-10-17T19:52:41.771845Z"
    },
    "run_control": {
     "marked": false
    }
   },
   "outputs": [],
   "source": [
    "def chess_data_cleanup(chess_text):\n",
    "    chess_text = chess_text.replace('[', \"\").replace(']', \"\")\n",
    "    chess_text = chess_text.replace('\\n', ' ')\n",
    "    chess_text = chess_text.replace('   ', ' ').replace('  ', ' ')\n",
    "    chess_text = chess_text.replace('... ', 'b\":\"').replace('. ', 'w\":\"')\n",
    "    chess_text = chess_text.replace('\", ', '\", \"').replace(' {%clk ', '^')\n",
    "    chess_text = chess_text.replace(' {%clk', '^')\n",
    "    chess_text = chess_text.replace('}', '\",').replace('\", ', '\", \"')\n",
    "    chess_text = chess_text.replace(' Site \"Chess.com\" D', ', D')\n",
    "    chess_text = chess_text.replace('Event ', '}~{\"Event\":')\n",
    "    chess_text = chess_text.replace('\", Date ', '\", \"Date\": ')\n",
    "    chess_text = chess_text.replace('\" Result ', '\", \"Result\": ')\n",
    "    chess_text = chess_text.replace('\" Round ', '\", \"Round\": ')\n",
    "    chess_text = chess_text.replace('\" White ', '\", \"White\": ')\n",
    "    chess_text = chess_text.replace('\" Black ', '\", \"Black\": ')\n",
    "    chess_text = chess_text.replace('\" WhiteElo ', '\", \"WhiteElo\": ')\n",
    "    chess_text = chess_text.replace('\" TimeControl ', '\", \"TimeControl\": ')\n",
    "    chess_text = chess_text.replace('\" EndTime ', '\", \"EndTime\": ')\n",
    "    chess_text = chess_text.replace('\" BlackElo ', '\", \"BlackElo\": ').replace(\n",
    "        '\" Termination ', '\", \"Termination\": ')\n",
    "    chess_text = chess_text.replace(\n",
    "        '\"Event\":\"10|0 Blitz\", \"Date\": \"2017.02.16\", \"Round\": \"5\", \"White\": \"TrueMoeG\", \"Black\": \"naggvk\", \"Result\": \"0-1\", \"WhiteElo\": \"784\", \"BlackElo\": \"1210\", \"TimeControl\": \"600\", \"EndTime\": \"12:27:07 PST\", \"Termination\": \"naggvk won - game abandoned\" }~{', '')\n",
    "    chess_text = chess_text.replace(\n",
    "        '\"Event\":\"Live Chess\", \"Date\": \"2017.02.20\", \"Round\": \"-\", \"White\": \"30mate\", \"Black\": \"TrueMoeG\", \"Result\": \"0-1\", \"WhiteElo\": \"820\", \"BlackElo\": \"878\", \"TimeControl\": \"600\", \"EndTime\": \"11:55:45 PST\", \"Termination\": \"TrueMoeG won - game abandoned\" }~{', '')\n",
    "    chess_text = chess_text.replace(\n",
    "        '\"Event\":\"Live Chess\", \"Date\": \"2018.07.14\", \"Round\": \"-\", \"White\": \"Bran17\", \"Black\": \"TrueMoeG\", \"Result\": \"0-1\", \"WhiteElo\": \"1205\", \"BlackElo\": \"961\", \"TimeControl\": \"300\", \"EndTime\": \"18:02:56 PDT\", \"Termination\": \"TrueMoeG won - game abandoned\" }~{', '')\n",
    "    chess_text = chess_text.replace(\n",
    "        '\"Event\":\"Live Chess\", \"Date\": \"2017.04.26\", \"Round\": \"-\", \"White\": \"nerbenator\", \"Black\": \"TrueMoeG\", \"Result\": \"0-1\", \"WhiteElo\": \"829\", \"BlackElo\": \"842\", \"TimeControl\": \"600\", \"EndTime\": \"16:49:05 PDT\", \"Termination\": \"TrueMoeG won - game abandoned\" }~{', '')\n",
    "    chess_text = chess_text.replace(\n",
    "        '\"Event\":\"10|0 Blitz\", \"Date\": \"2017.02.16\", \"Round\": \"4\", \"White\": \"TrueMoeG\", \"Black\": \"Shuzakhan\", \"Result\": \"0-1\", \"WhiteElo\": \"845\", \"BlackElo\": \"1183\", \"TimeControl\": \"600\", \"EndTime\": \"11:58:21 PST\", \"Termination\": \"Shuzakhan won by resignation\" }~{', '')\n",
    "    chess_text = chess_text.replace(' PST', '').replace(' PDT', '')\n",
    "    #chess_text = chess_text.replace('180+2', '180').replace('300+5', '300')\n",
    "    chess_text = chess_text.replace('   ', ' ').replace('  ', ' ')\n",
    "    chess_text = chess_text.replace('\" 1w\":[', '\"}~{\"1w\":[')\n",
    "    chess_text = chess_text.replace('\" 1w\":\"', '\"}~{\"1w\":\"')\n",
    "    chess_text = chess_text.replace(', \"1/2-1/2 }~{', '}~{')\n",
    "    chess_text = chess_text.replace(', \"1-0 }~{', '}~{')\n",
    "    chess_text = chess_text.replace(', \"0-1 }~{', '}~{')\n",
    "    chess_text = chess_text.replace(', \"1-0 ', '}').replace(', \"}', '}')\n",
    "    cl = ''.join([num for num in chess_text]).split(\"~\")\n",
    "    df = DataFrame(cl, columns=['a'])\n",
    "    df = df[df['a'].str.len() > 3]\n",
    "    return df\n",
    "\n",
    "# cdf = chess_data_cleanup(icd_text)"
   ]
  },
  {
   "cell_type": "code",
   "execution_count": 78,
   "metadata": {
    "ExecuteTime": {
     "end_time": "2018-10-17T19:52:42.413374Z",
     "start_time": "2018-10-17T19:52:42.399392Z"
    }
   },
   "outputs": [],
   "source": [
    "# adf = cdf[cdf.index % 2 == 0]\n",
    "# adf.to_csv('moves.csv')"
   ]
  },
  {
   "cell_type": "code",
   "execution_count": 79,
   "metadata": {
    "ExecuteTime": {
     "end_time": "2018-10-17T19:52:42.960158Z",
     "start_time": "2018-10-17T19:52:42.941044Z"
    },
    "run_control": {
     "marked": false
    }
   },
   "outputs": [],
   "source": [
    "def data_cleaning_1(df):\n",
    "    c_df = DataFrame(data=list(df['a'].apply(literal_eval)))\n",
    "    c_df['Date'] = c_df['Date'].fillna(method='ffill')\n",
    "    c_df['EndTime'] = c_df['EndTime'].fillna(method='ffill')\n",
    "    c_df['date_time'] = to_datetime(c_df['Date'] + ' ' + c_df['EndTime'])\n",
    "    c_df['Date'] = to_datetime(c_df['Date'])\n",
    "    c_df['EndTime'] = to_timedelta(c_df['EndTime'])\n",
    "    m_df = c_df[c_df.index % 2 == 1]\n",
    "    m_df = m_df.sort_values('date_time').reset_index().drop(\n",
    "        columns=['index', 'Date', 'White', 'Black', 'Result', 'WhiteElo',\n",
    "                 'BlackElo', 'TimeControl', 'EndTime', 'Termination', 'date_time',\n",
    "                 'Round', 'Event'])\n",
    "\n",
    "    d_df = c_df[c_df.index % 2 == 0]\n",
    "\n",
    "    d_df = d_df[['Date', 'White', 'Black', 'Result', 'WhiteElo', 'BlackElo',\n",
    "                 'TimeControl', 'EndTime', 'Termination', 'date_time'\n",
    "                 ]].sort_values('date_time').reset_index().drop(columns=[\n",
    "                     'index', 'date_time'])\n",
    "\n",
    "    d_df = d_df.rename(\n",
    "        columns={'Date': 'date', 'White': 'white', 'Black': 'black', 'Result': 'result',\n",
    "                 'WhiteElo': 'white_elo', 'BlackElo': 'black_elo', 'TimeControl': 'game_time',\n",
    "                 'EndTime': 'end_time', 'Termination': 'termination'})\n",
    "\n",
    "    d_df['num_moves'] = m_df.count(axis=1)\n",
    "    d_df['white_elo'] = to_numeric(d_df['white_elo'])\n",
    "    d_df['black_elo'] = to_numeric(d_df['black_elo'])\n",
    "    d_df['color'] = np.where(d_df['white'] == 'TrueMoeG', 1, 0)\n",
    "    return m_df, d_df\n",
    "\n",
    "# mdf1, ddf1 = data_cleaning_1(cdf)"
   ]
  },
  {
   "cell_type": "code",
   "execution_count": 80,
   "metadata": {
    "ExecuteTime": {
     "end_time": "2018-10-17T19:52:43.920788Z",
     "start_time": "2018-10-17T19:52:43.904257Z"
    },
    "init_cell": true,
    "run_control": {
     "marked": false
    }
   },
   "outputs": [],
   "source": [
    "def data_cleaning_2(m_df, d_df):\n",
    "    moves_column_names = ['00' + num if len(num) == 2 else\n",
    "                          num for num in m_df.columns]\n",
    "    moves_column_names = ['0' + num if len(num) == 3 else\n",
    "                          num for num in moves_column_names]\n",
    "    moves_column_names = [num.replace('w', 'a') for num\n",
    "                          in moves_column_names]\n",
    "    m_df.columns = [num for num in moves_column_names]\n",
    "    moves_column_names = sorted(moves_column_names)\n",
    "    m_df = m_df[[num for num in moves_column_names]]\n",
    "    t_df = m_df.copy()\n",
    "    for col_name in m_df.columns:\n",
    "        m_df[col_name] = m_df[col_name].str.extract(r'(^\\w+-?\\w+?-?\\w?\\+?)')\n",
    "    for col_name in m_df.columns:\n",
    "        t_df[col_name] = t_df[col_name].str.extract(r'(\\d\\:\\d+:\\d+\\.?\\d)')\n",
    "#         t_df[col_name] = t_df[col_name].\n",
    "#    t_df = t_df.fillna('0')\n",
    "    return m_df, t_df\n",
    "\n",
    "# mdf2, tdf1 = data_cleaning_2(mdf1, ddf1)"
   ]
  },
  {
   "cell_type": "code",
   "execution_count": 81,
   "metadata": {
    "ExecuteTime": {
     "end_time": "2018-10-17T19:52:44.523414Z",
     "start_time": "2018-10-17T19:52:44.506121Z"
    },
    "init_cell": true,
    "run_control": {
     "marked": false
    },
    "scrolled": true
   },
   "outputs": [],
   "source": [
    "def data_cleaning_3(t_df, d_df):\n",
    "    t_df = t_df.apply(to_timedelta, errors='coerce')\n",
    "    t_df = t_df.apply(to_numeric, errors='coerce')\n",
    "    t_df = t_df.div(1000000000)\n",
    "    t_df['game_time'] = d_df['game_time']\n",
    "    t_df['extra_time'] = t_df['game_time'].replace([\n",
    "        '300', '600', '180', '180+2', '300+5'], ['0', '0', '0', '2', '5'])\n",
    "    t_df['game_time'] = d_df['game_time'].replace(\n",
    "        ['180+2', '300+5'], [180, 300])\n",
    "    t_df['extra_time'] = to_numeric(t_df['extra_time'])\n",
    "    return t_df\n",
    "\n",
    "# tdf2 = data_cleaning_3(tdf1, ddf1)"
   ]
  },
  {
   "cell_type": "code",
   "execution_count": 82,
   "metadata": {
    "ExecuteTime": {
     "end_time": "2018-10-17T19:52:45.036198Z",
     "start_time": "2018-10-17T19:52:45.014465Z"
    },
    "init_cell": true,
    "run_control": {
     "marked": false
    },
    "scrolled": true
   },
   "outputs": [],
   "source": [
    "def data_cleaning_4(m_df, t_df, d_df):\n",
    "    t_df['game_time'] = to_numeric(t_df['game_time'])\n",
    "    d_df['game_time'] = t_df['game_time']\n",
    "    wh_m_df = m_df[m_df.columns[::2]].copy()\n",
    "    bl_m_df = m_df[m_df.columns[1::2]].copy()\n",
    "    wh_t_df = t_df[t_df.columns[::2]].copy()\n",
    "    bl_t_df = t_df[t_df.columns[1::2]].copy()\n",
    "    wh_t_df = wh_t_df.drop(columns=[wh_t_df.columns[-1]])\n",
    "    bl_t_df = bl_t_df.drop(columns=[bl_t_df.columns[-1]])\n",
    "    d_df['white_num_moves'] = wh_m_df.count(axis=1)\n",
    "    d_df['black_num_moves'] = bl_m_df.count(axis=1)\n",
    "    for num in wh_t_df.columns:\n",
    "        wh_t_df[num] = t_df['game_time'] - wh_t_df[num]\n",
    "    for num in bl_t_df.columns:\n",
    "        bl_t_df[num] = t_df['game_time'] - bl_t_df[num]\n",
    "\n",
    "    two_list = []\n",
    "    five_list = []\n",
    "    i = 0\n",
    "    while i < len(t_df):\n",
    "        for num in t_df['extra_time']:\n",
    "            if num == 2:\n",
    "                two_list.append(i)\n",
    "                i += 1\n",
    "            elif num == 5:\n",
    "                five_list.append(i)\n",
    "                i += 1\n",
    "            else:\n",
    "                i += 1\n",
    "\n",
    "    for num in two_list:\n",
    "        i = 0\n",
    "        j = 0\n",
    "        while i < (len(wh_t_df.columns)):\n",
    "            wh_t_df.iloc[num, i] = wh_t_df.iloc[num, i] + ((i+1) * 2)\n",
    "            i += 1\n",
    "        while j < (len(bl_t_df.columns)):\n",
    "            bl_t_df.iloc[num, j] = wh_t_df.iloc[num, j] + ((j+1) * 2)\n",
    "            j += 1\n",
    "\n",
    "    for num in five_list:\n",
    "        i = 0\n",
    "        j = 0\n",
    "        while i < (len(wh_t_df.columns)):\n",
    "            wh_t_df.iloc[num, i] = wh_t_df.iloc[num, i] + ((i+1) * 5)\n",
    "            i += 1\n",
    "        while j < (len(bl_t_df.columns)):\n",
    "            bl_t_df.iloc[num, j] = wh_t_df.iloc[num, j] + ((j+1) * 5)\n",
    "            j += 1\n",
    "\n",
    "    for num in wh_t_df.columns:\n",
    "        wh_t_df[num] = np.where(wh_t_df[num] > 5000, 0, wh_t_df[num])\n",
    "    for num in bl_t_df.columns:\n",
    "        bl_t_df[num] = np.where(bl_t_df[num] > 5000, 0, bl_t_df[num])\n",
    "\n",
    "    return wh_m_df, wh_t_df, bl_m_df, bl_t_df, d_df, t_df\n",
    "\n",
    "# wh_mdf1, wh_tdf1, bl_mdf1, bl_tdf1, ddf2, tdf3 = data_cleaning_4(mdf2, tdf2, ddf1)"
   ]
  },
  {
   "cell_type": "code",
   "execution_count": 83,
   "metadata": {
    "ExecuteTime": {
     "end_time": "2018-10-17T19:52:45.468922Z",
     "start_time": "2018-10-17T19:52:45.452901Z"
    },
    "run_control": {
     "marked": false
    }
   },
   "outputs": [],
   "source": [
    "def data_cleaning_5(c_t_df, t_df, d_df, col):\n",
    "    tm_df = c_t_df.shift(periods=1, axis=1)\n",
    "    tm_df = tm_df - c_t_df\n",
    "    tm_df = -tm_df\n",
    "    tm_df[col] = c_t_df[col]\n",
    "    for num in tm_df.columns:\n",
    "        tm_df[num] = np.where(tm_df[num] <= 0, 0, tm_df[num])\n",
    "    return tm_df\n",
    "\n",
    "# wh_tmdf1 = data_cleaning_5(wh_tdf1, tdf3, ddf2, '001a')\n",
    "# bl_tmdf1 = data_cleaning_5(bl_tdf1, tdf3, ddf2, '001b')"
   ]
  },
  {
   "cell_type": "code",
   "execution_count": 84,
   "metadata": {
    "ExecuteTime": {
     "end_time": "2018-10-17T19:52:45.894874Z",
     "start_time": "2018-10-17T19:52:45.881264Z"
    },
    "run_control": {
     "marked": false
    }
   },
   "outputs": [],
   "source": [
    "# def data_cleaning_5(m_df):\n",
    "#     s_df_l = m_df.copy()\n",
    "#     s_df_f = s_df_l.copy()\n",
    "#     for col_name in s_df_l.columns:\n",
    "#         s_df_l[col_name] = s_df_l[col_name].str.extract(r'(x\\w+\\+?$)')\n",
    "#         s_df_f[col_name] = s_df_f[col_name].str.replace(r'(\\w+x)','')\n",
    "#     return s_df_l\n",
    "\n",
    "# wh_sdf1 = data_cleaning_5(wh_mdf1)\n",
    "# list(wh_sdf1.iloc[1587])"
   ]
  },
  {
   "cell_type": "code",
   "execution_count": 85,
   "metadata": {
    "ExecuteTime": {
     "end_time": "2018-10-17T19:52:46.331033Z",
     "start_time": "2018-10-17T19:52:46.314192Z"
    },
    "init_cell": true,
    "run_control": {
     "marked": false
    }
   },
   "outputs": [],
   "source": [
    "def help_func1(m_df):\n",
    "    cast_list = []\n",
    "    cast_w_list = []\n",
    "    i = 0\n",
    "    while i < (len(m_df)):\n",
    "        a = list(m_df.iloc[i])\n",
    "        if \"O-O\" in a:\n",
    "            cast_list.append(a.index(\"O-O\")+1)\n",
    "            cast_w_list.append(1)\n",
    "            i += 1\n",
    "        elif \"O-O-O\" in a:\n",
    "            cast_list.append(a.index(\"O-O-O\")+1)\n",
    "            cast_w_list.append(0)\n",
    "            i += 1\n",
    "        else:\n",
    "            cast_list.append(0)\n",
    "            cast_w_list.append(-1)\n",
    "            i += 1\n",
    "    return cast_list, cast_w_list"
   ]
  },
  {
   "cell_type": "code",
   "execution_count": 86,
   "metadata": {
    "ExecuteTime": {
     "end_time": "2018-10-17T19:52:46.760583Z",
     "start_time": "2018-10-17T19:52:46.746337Z"
    }
   },
   "outputs": [],
   "source": [
    "def custom_round(x, base=20):\n",
    "    return int(base * round(float(x)/base))"
   ]
  },
  {
   "cell_type": "code",
   "execution_count": 87,
   "metadata": {
    "ExecuteTime": {
     "end_time": "2018-10-17T19:52:47.219324Z",
     "start_time": "2018-10-17T19:52:47.194265Z"
    },
    "run_control": {
     "marked": false
    }
   },
   "outputs": [],
   "source": [
    "def data_cleaning_6(d_df, m_df, bl_m_df, wh_m_df, wh_t_df, bl_t_df):\n",
    "\n",
    "    d_df['white_time_used'] = wh_t_df.max(axis=1).apply(\n",
    "        lambda x: custom_round(x, base=10))\n",
    "    d_df['black_time_used'] = bl_t_df.max(axis=1).apply(\n",
    "        lambda x: custom_round(x, base=10))\n",
    "\n",
    "    d_df['winner'] = d_df['termination'].str.extract(\n",
    "        '(^[a-zA-Z0-9]+)', expand=False)\n",
    "    d_df['won_by'] = d_df['termination'].str.extract(\n",
    "        '([a-zA-Z0-9]+$)', expand=False)\n",
    "\n",
    "    cstl_l_bl, cstl_loc_l_bl = help_func1(bl_m_df)\n",
    "    cstl_l_wh, cstl_loc_l_wh = help_func1(wh_m_df)\n",
    "\n",
    "    d_df['weekday'] = d_df.date.apply(lambda x: x.dayofweek)\n",
    "    d_df['day'] = d_df.date.apply(lambda x: x.day)\n",
    "\n",
    "    d_df['result'] = np.where(d_df['winner'] == 'TrueMoeG',\n",
    "                              1.0, (np.where(d_df['winner'] == 'Game', 0.5, 0.0)))\n",
    "\n",
    "    d_df['white_castled_on'] = pd.Series(cstl_l_wh)\n",
    "    d_df['black_castled_on'] = pd.Series(cstl_l_bl)\n",
    "    d_df['white_castled_where'] = pd.Series(cstl_loc_l_wh)\n",
    "    d_df['black_castled_where'] = pd.Series(cstl_loc_l_bl)\n",
    "\n",
    "    d_df['castled_on'] = np.where(d_df['color'] == 1, d_df[\n",
    "        'white_castled_on'], d_df['black_castled_on'])\n",
    "    d_df['opp_castled_on'] = np.where(d_df['color'] == 0, d_df[\n",
    "        'white_castled_on'], d_df['black_castled_on'])\n",
    "    d_df['castled'] = np.where(d_df['color'] == 1, d_df[\n",
    "        'white_castled_where'], d_df['black_castled_where'])\n",
    "    d_df['opp_castled'] = np.where(d_df['color'] == 0, d_df[\n",
    "        'white_castled_where'], d_df['black_castled_where'])\n",
    "\n",
    "    d_df['time_used'] = np.where(d_df['color'] == 1, d_df[\n",
    "        'white_time_used'], d_df['black_time_used'])\n",
    "    d_df['opp_time_used'] = np.where(d_df['color'] == 0, d_df[\n",
    "        'white_time_used'], d_df['black_time_used'])\n",
    "\n",
    "#     d_df['game_time'] = np.where(d_df['game_time'] >= d_df[\n",
    "#         'time_used'], d_df['game_time'], d_df['time_used'])\n",
    "#     d_df['game_time'] = np.where(d_df['game_time'] >= d_df[\n",
    "#         'opp_time_used'], d_df['game_time'], d_df['opp_time_used'])\n",
    "\n",
    "    d_df['time_used'] = np.where(d_df['result'] == 1.0, d_df[\n",
    "        'time_used'], np.where(d_df['won_by'] == 'time', d_df[\n",
    "            'game_time'], d_df['time_used']))\n",
    "    d_df['opp_time_used'] = np.where(d_df['result'] == 0.0, d_df[\n",
    "        'opp_time_used'], np.where(d_df['won_by'] == 'time', d_df[\n",
    "            'game_time'], d_df['opp_time_used']))\n",
    "    d_df['end_time'] = to_numeric(d_df['end_time'])/3600000000\n",
    "    d_df['start_time'] = d_df['end_time'] - \\\n",
    "        (d_df['time_used']+d_df['opp_time_used'])/3.6\n",
    "\n",
    "    d_df['num_moves'] = np.where(d_df['color'] == 1, d_df[\n",
    "        'white_num_moves'], d_df['black_num_moves'])\n",
    "    d_df['opp_num_moves'] = np.where(d_df['color'] == 0, d_df[\n",
    "        'white_num_moves'], d_df['black_num_moves'])\n",
    "\n",
    "    d_df['avg_time'] = d_df['time_used']/d_df['num_moves']\n",
    "    d_df['opp_avg_time'] = d_df['opp_time_used']/d_df['opp_num_moves']\n",
    "\n",
    "    d_df['start_time'] = d_df['start_time']//1000\n",
    "    d_df['end_time'] = d_df['end_time']//1000\n",
    "    \n",
    "    return d_df.drop(columns=[\n",
    "        'white', 'black', 'termination', 'white_num_moves', 'black_num_moves',\n",
    "        'white_time_used', 'black_time_used', 'winner', 'white_castled_on',\n",
    "        'black_castled_on', 'white_castled_where', 'black_castled_where'])\n",
    "\n",
    "\n",
    "# ddf3 = data_cleaning_6(ddf2, mdf2, bl_mdf1, wh_mdf1, wh_tdf1, bl_tdf1)"
   ]
  },
  {
   "cell_type": "code",
   "execution_count": 88,
   "metadata": {
    "ExecuteTime": {
     "end_time": "2018-10-17T19:52:47.667814Z",
     "start_time": "2018-10-17T19:52:47.647611Z"
    },
    "run_control": {
     "marked": false
    }
   },
   "outputs": [],
   "source": [
    "def data_cleaning_7(d_df, wh_tm_df, bl_tm_df):\n",
    "    d_df['white_max_move'] = wh_tm_df.max(axis=1)\n",
    "    d_df['black_max_move'] = bl_tm_df.max(axis=1)\n",
    "\n",
    "    d_df['max_move'] = np.where(d_df['color'] == 1, d_df[\n",
    "        'white_max_move'], d_df['black_max_move'])\n",
    "    d_df['opp_max_move'] = np.where(d_df['color'] == 0, d_df[\n",
    "        'white_max_move'], d_df['black_max_move'])\n",
    "\n",
    "    d_df['post_elo'] = np.where(\n",
    "        d_df['color'] == 1, d_df['white_elo'], d_df['black_elo'])\n",
    "    d_df['opp_post_elo'] = np.where(\n",
    "        d_df['color'] == 0, d_df['white_elo'], d_df['black_elo'])\n",
    "    d_df['elo_delta'] = d_df['post_elo'] - d_df['post_elo'].shift(1)\n",
    "    d_df['elo'] = d_df['post_elo'].subtract(d_df['elo_delta'])\n",
    "    d_df['elo'].iloc[0] = 1000\n",
    "    d_df['elo_delta'].iloc[0] = d_df['post_elo'].iloc[0] - d_df['elo'].iloc[0]\n",
    "    d_df['opp_elo'] = d_df['opp_post_elo'].subtract(d_df['elo_delta'])\n",
    "    d_df['diff'] = d_df['post_elo'].subtract(d_df['opp_post_elo'])\n",
    "    d_df = d_df.reset_index().drop(columns=['index'])\n",
    "    d_df_len = len(d_df)\n",
    "    d_df = d_df.drop([d_df_len-1])\n",
    "    d_df['won_by'] = d_df['won_by'].replace([\n",
    "        'checkmate', 'resignation', 'time', 'material', 'agreement', \n",
    "        'repetition', 'abandoned', 'stalemate', 'rule'], list(reversed(range(9))))\n",
    "    return d_df"
   ]
  },
  {
   "cell_type": "code",
   "execution_count": 89,
   "metadata": {
    "ExecuteTime": {
     "end_time": "2018-10-17T19:52:48.183227Z",
     "start_time": "2018-10-17T19:52:48.166114Z"
    }
   },
   "outputs": [],
   "source": [
    "def main_cleanup(file_name):\n",
    "    icd_text = initial_chess_data(file_name)\n",
    "    \n",
    "    cdf = chess_data_cleanup(icd_text)\n",
    "    \n",
    "    adf = cdf[cdf.index % 2 == 0]\n",
    "    \n",
    "    adf.to_csv('../data/moves_initial.csv')\n",
    "    \n",
    "    mdf1, ddf1 = data_cleaning_1(cdf)\n",
    "    \n",
    "    mdf2, tdf1 = data_cleaning_2(mdf1, ddf1)\n",
    "    \n",
    "    mdf2.to_csv('../data/moves.csv')\n",
    "    \n",
    "    tdf2 = data_cleaning_3(tdf1, ddf1)\n",
    "    \n",
    "    wh_mdf1, wh_tdf1, bl_mdf1, bl_tdf1, ddf2, tdf3 = data_cleaning_4(mdf2, tdf2, ddf1)\n",
    "    \n",
    "    wh_tmdf1 = data_cleaning_5(wh_tdf1, tdf3, ddf2, '001a')\n",
    "    bl_tmdf1 = data_cleaning_5(bl_tdf1, tdf3, ddf2, '001b')\n",
    "    \n",
    "    ddf3 = data_cleaning_6(ddf2, mdf2, bl_mdf1, wh_mdf1, wh_tdf1, bl_tdf1)\n",
    "    \n",
    "    ddf_final = data_cleaning_7(ddf3, wh_tmdf1, bl_tmdf1)\n",
    "    \n",
    "    analysis_labels = ['date', 'day', 'weekday', 'start_time', 'game_time',\n",
    "                       'color', 'elo', 'opp_elo', 'diff', 'result', 'won_by',\n",
    "                       'num_moves', 'opp_num_moves', 'avg_time', 'opp_avg_time',\n",
    "                       'castled_on', 'opp_castled_on', 'castled', 'opp_castled',\n",
    "                       'time_used', 'opp_time_used', 'max_move', 'opp_max_move']\n",
    "    \n",
    "    predictions_labels = ['result', 'diff', 'opp_elo', 'elo', 'game_time',\n",
    "                          'color', 'start_time', 'day', 'weekday']\n",
    "    \n",
    "    ddf_model = ddf_final[predictions_labels]\n",
    "    ddf_analysis = ddf_final[analysis_labels]\n",
    "    \n",
    "    return ddf_model, ddf_analysis, ddf_final"
   ]
  },
  {
   "cell_type": "code",
   "execution_count": 90,
   "metadata": {
    "ExecuteTime": {
     "end_time": "2018-10-17T19:52:48.923854Z",
     "start_time": "2018-10-17T19:52:48.907648Z"
    },
    "run_control": {
     "marked": false
    }
   },
   "outputs": [],
   "source": [
    "# analysis_labels = [\n",
    "#     'date', 'day', 'weekday', 'start_time', 'game_time', 'color', 'elo', \n",
    "#     'opp_elo', 'diff', 'result', 'won_by', 'num_moves', 'opp_num_moves', \n",
    "#     'avg_time', 'opp_avg_time', 'castled_on', 'opp_castled_on', 'castled',\n",
    "#     'opp_castled', 'time_used', 'opp_time_used', 'max_move', 'opp_max_move']\n",
    "\n",
    "# predictions_labels = ['result', 'diff', 'opp_elo', 'elo', 'game_time',\n",
    "#                       'color', 'start_time', 'day', 'weekday']\n",
    "# ddf_final_without_scores = data_cleaning_6(ddf3, wh_tmdf1, bl_tmdf1)"
   ]
  },
  {
   "cell_type": "code",
   "execution_count": 91,
   "metadata": {
    "ExecuteTime": {
     "end_time": "2018-10-17T19:52:49.847893Z",
     "start_time": "2018-10-17T19:52:49.835244Z"
    }
   },
   "outputs": [],
   "source": [
    "# ddf_model = ddf_final_without_scores[predictions_labels].copy()\n",
    "# ddf_analysis = ddf_final_without_scores[analysis_labels].copy()"
   ]
  },
  {
   "cell_type": "code",
   "execution_count": 92,
   "metadata": {
    "ExecuteTime": {
     "end_time": "2018-10-17T19:52:50.276545Z",
     "start_time": "2018-10-17T19:52:50.262209Z"
    }
   },
   "outputs": [],
   "source": [
    "# mdf2.to_csv('../data/moves.csv')"
   ]
  },
  {
   "cell_type": "code",
   "execution_count": 93,
   "metadata": {
    "ExecuteTime": {
     "end_time": "2018-10-17T19:52:51.123849Z",
     "start_time": "2018-10-17T19:52:51.111582Z"
    }
   },
   "outputs": [],
   "source": [
    "# ddf_final_without_scores.to_csv('../data/ddf_final_without_scores.csv')\n",
    "# ddf_model.to_csv('../data/ddf_model.csv')\n",
    "# ddf_analysis.to_csv('../data/ddf_analysis.csv')"
   ]
  },
  {
   "cell_type": "code",
   "execution_count": 94,
   "metadata": {
    "ExecuteTime": {
     "end_time": "2018-10-17T19:52:58.647573Z",
     "start_time": "2018-10-17T19:52:51.998973Z"
    }
   },
   "outputs": [
    {
     "name": "stderr",
     "output_type": "stream",
     "text": [
      "/home/guess/anaconda3/lib/python3.6/site-packages/pandas/core/indexing.py:189: SettingWithCopyWarning: \n",
      "A value is trying to be set on a copy of a slice from a DataFrame\n",
      "\n",
      "See the caveats in the documentation: http://pandas.pydata.org/pandas-docs/stable/indexing.html#indexing-view-versus-copy\n",
      "  self._setitem_with_indexer(indexer, value)\n"
     ]
    }
   ],
   "source": [
    "df_final, df_for_model, df_for_analysis = main_cleanup('../data/dest.pgn')\n",
    "df_final.to_csv('../data/df_final.csv')\n",
    "df_for_model.to_csv('../data/df_for_model.csv')\n",
    "df_for_analysis.to_csv('../data/df_for_analysis.csv')"
   ]
  },
  {
   "cell_type": "code",
   "execution_count": 99,
   "metadata": {
    "ExecuteTime": {
     "end_time": "2018-10-17T19:56:25.160510Z",
     "start_time": "2018-10-17T19:56:25.148932Z"
    }
   },
   "outputs": [],
   "source": [
    "# Without main function:\n",
    "# Total_time = (21+13+47+326+78+896+1040+680+3040+105+18+24+12+538+19+120+20+111+170)/1000\n",
    "# Total_time = 7.278 Seconds\n",
    "\n",
    "# With main function:\n",
    "# Total_time = (17+22+15+19+14+19+16+17+22+16+13+17+14+25+20+17+6650)\n",
    "# Total_time = 6.933 Seconds\n",
    "\n",
    "# Time_saved = 0.345 Seconds"
   ]
  },
  {
   "cell_type": "markdown",
   "metadata": {},
   "source": [
    "### Analysis:###\n",
    "\n",
    "1. 'date'\n",
    "2. 'result'\n",
    "3. 'game_time'\n",
    "4. 'end_time'\n",
    "5. 'num_moves'\n",
    "6. 'color'\n",
    "7. 'won_by':\n",
    "    - checkmate = 9\n",
    "    - resignation = 8\n",
    "    - time = 7\n",
    "    - material = 6\n",
    "    - agreement = 5\n",
    "    - repetition = 4\n",
    "    - abandoned = 3\n",
    "    - stalemate = 2\n",
    "    - rule = 1\n",
    "8. 'weekday'\n",
    "9. 'day'\n",
    "10. 'castled_on'\n",
    "11. 'opp_castled_on'\n",
    "12. 'castled'\n",
    "13. 'opp_castled'\n",
    "14. 'time_used'\n",
    "15. 'opp_time_used'\n",
    "16. 'opp_num_moves'\n",
    "17. 'avg_time'\n",
    "18. 'opp_avg_time'\n",
    "19. 'max_time'\n",
    "20. 'opp_max_time'\n",
    "21. 'elo'\n",
    "22. 'opp_elo'\n",
    "23. 'diff'\n",
    "\n",
    "\n",
    "__X = 'date'X2, 'weekday', 'day', 'won_by', 'castled_on', 'opp_castled_on', 'time_used', 'opp_time_used', 'opp_num_moves', 'avg_time', 'opp_avg_time', 'max_time', 'opp_max_time', 'elo', 'opp_elo', 'diff'__\n",
    "\n",
    "__y = 'result', 'color', 'castled', 'opp_castled'__\n",
    "\n",
    "__Nothing for timecontrol, unless another variable asks__\n",
    "\n",
    "**All the models have to run avg and cumsum**\n",
    "\n",
    "\n",
    "### Logistic Model ###\n",
    "__y = 'result'__\n",
    "__x__:\n",
    "1. 'elo'\n",
    "2. 'opp_elo'\n",
    "3. 'diff'\n",
    "4. 'color'\n",
    "5. 'game_time'\n",
    "6. 'start_time'\n",
    "7. 'weekday'\n",
    "8. 'day'\n",
    "\n",
    "### Random Tree Forest ###\n",
    "\n",
    "### Logistic Model ###\n",
    "__y = 'result'__\n",
    "__x__:\n",
    "1. 'elo' (Bin?)\n",
    "2. 'opp_elo' (Bin?)\n",
    "3. 'diff' (Bin?)\n",
    "4. 'color' <- 1 & 0\n",
    "5. 'game_time' <- Many...??\n",
    "6. 'start_time'(Bin?)\n",
    "7. 'weekday' <- 7\n",
    "8. 'day' <- 31!!\n",
    "\n",
    "### ?? ###\n",
    "\n"
   ]
  }
 ],
 "metadata": {
  "celltoolbar": "Initialization Cell",
  "kernelspec": {
   "display_name": "Python 3",
   "language": "python",
   "name": "python3"
  },
  "language_info": {
   "codemirror_mode": {
    "name": "ipython",
    "version": 3
   },
   "file_extension": ".py",
   "mimetype": "text/x-python",
   "name": "python",
   "nbconvert_exporter": "python",
   "pygments_lexer": "ipython3",
   "version": "3.6.6"
  },
  "varInspector": {
   "cols": {
    "lenName": 16,
    "lenType": 16,
    "lenVar": 40
   },
   "kernels_config": {
    "python": {
     "delete_cmd_postfix": "",
     "delete_cmd_prefix": "del ",
     "library": "var_list.py",
     "varRefreshCmd": "print(var_dic_list())"
    },
    "r": {
     "delete_cmd_postfix": ") ",
     "delete_cmd_prefix": "rm(",
     "library": "var_list.r",
     "varRefreshCmd": "cat(var_dic_list()) "
    }
   },
   "position": {
    "height": "412px",
    "left": "1483px",
    "right": "20px",
    "top": "120px",
    "width": "353px"
   },
   "types_to_exclude": [
    "module",
    "function",
    "builtin_function_or_method",
    "instance",
    "_Feature"
   ],
   "window_display": false
  },
  "widgets": {
   "application/vnd.jupyter.widget-state+json": {
    "state": {},
    "version_major": 2,
    "version_minor": 0
   }
  }
 },
 "nbformat": 4,
 "nbformat_minor": 2
}
