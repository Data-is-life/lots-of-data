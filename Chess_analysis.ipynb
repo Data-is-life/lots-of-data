{
 "cells": [
  {
   "cell_type": "markdown",
   "metadata": {},
   "source": [
    "### Analysis:###\n",
    "\n",
    "\n",
    "\n",
    "__X = 'date', 'weekday', 'day', 'won_by', 'castled_on', 'opp_castled_on', 'time_used', 'opp_time_used', 'opp_num_moves', 'avg_time', 'opp_avg_time', 'max_time', 'opp_max_time', 'elo', 'opp_elo', 'diff'__\n",
    "\n",
    "__y = 'result', 'color', 'castled', 'opp_castled'__\n",
    "\n",
    "__Nothing for timecontrol, unless another variable asks__"
   ]
  },
  {
   "cell_type": "code",
   "execution_count": 11,
   "metadata": {
    "ExecuteTime": {
     "end_time": "2018-08-15T22:21:58.522830Z",
     "start_time": "2018-08-15T22:21:57.831755Z"
    }
   },
   "outputs": [],
   "source": [
    "import pandas as pd\n",
    "import numpy as np\n",
    "import re\n",
    "from datetime import datetime\n",
    "from pandas.tools.plotting import scatter_matrix\n",
    "pd.set_option('display.float_format', lambda x: '%.2f' % x)\n",
    "%matplotlib inline\n",
    "import matplotlib.pyplot as plt\n",
    "plt.style.use('fivethirtyeight')\n",
    "\n",
    "from sklearn.linear_model import LinearRegression\n",
    "from sklearn.pipeline import Pipeline\n",
    "from sklearn.cluster import KMeans\n",
    "from sklearn import neighbors\n",
    "\n",
    "from regression_tools.plotting_tools import (\n",
    "    plot_univariate_smooth,\n",
    "    bootstrap_train,\n",
    "    display_coef,\n",
    "    plot_bootstrap_coefs,\n",
    "    plot_partial_depenence,\n",
    "    plot_partial_dependences,\n",
    "    predicteds_vs_actuals)\n",
    "\n",
    "\n",
    "df = pd.read_csv('./data/ddf_analysis.csv').drop(columns=['Unnamed: 0'])\n",
    "df['date'] = pd.to_datetime(df['date'])\n",
    "df['date'] = pd.to_numeric(df['date'])"
   ]
  },
  {
   "cell_type": "code",
   "execution_count": 19,
   "metadata": {
    "ExecuteTime": {
     "end_time": "2018-08-15T22:22:32.532052Z",
     "start_time": "2018-08-15T22:22:31.287165Z"
    },
    "scrolled": false
   },
   "outputs": [],
   "source": [
    "df1 = df.groupby(by='castled_on').median().reset_index()"
   ]
  },
  {
   "cell_type": "code",
   "execution_count": 23,
   "metadata": {},
   "outputs": [],
   "source": [
    "df2 = df.groupby(by='result').mean().reset_index()"
   ]
  },
  {
   "cell_type": "code",
   "execution_count": 25,
   "metadata": {},
   "outputs": [],
   "source": [
    "df3 = df.groupby(by='weekday').mean().reset_index()"
   ]
  },
  {
   "cell_type": "code",
   "execution_count": 27,
   "metadata": {},
   "outputs": [
    {
     "data": {
      "text/plain": [
       "0   0.49\n",
       "1   0.50\n",
       "2   0.50\n",
       "3   0.54\n",
       "4   0.45\n",
       "5   0.50\n",
       "6   0.48\n",
       "Name: result, dtype: float64"
      ]
     },
     "execution_count": 27,
     "metadata": {},
     "output_type": "execute_result"
    }
   ],
   "source": [
    "df3.result"
   ]
  },
  {
   "cell_type": "code",
   "execution_count": null,
   "metadata": {},
   "outputs": [],
   "source": []
  },
  {
   "cell_type": "code",
   "execution_count": null,
   "metadata": {},
   "outputs": [],
   "source": []
  },
  {
   "cell_type": "code",
   "execution_count": null,
   "metadata": {},
   "outputs": [],
   "source": []
  },
  {
   "cell_type": "code",
   "execution_count": null,
   "metadata": {},
   "outputs": [],
   "source": []
  },
  {
   "cell_type": "code",
   "execution_count": null,
   "metadata": {},
   "outputs": [],
   "source": []
  },
  {
   "cell_type": "code",
   "execution_count": null,
   "metadata": {},
   "outputs": [],
   "source": []
  },
  {
   "cell_type": "code",
   "execution_count": null,
   "metadata": {},
   "outputs": [],
   "source": []
  },
  {
   "cell_type": "code",
   "execution_count": null,
   "metadata": {},
   "outputs": [],
   "source": []
  },
  {
   "cell_type": "code",
   "execution_count": null,
   "metadata": {},
   "outputs": [],
   "source": []
  },
  {
   "cell_type": "code",
   "execution_count": null,
   "metadata": {},
   "outputs": [],
   "source": []
  },
  {
   "cell_type": "code",
   "execution_count": null,
   "metadata": {},
   "outputs": [],
   "source": []
  },
  {
   "cell_type": "code",
   "execution_count": 79,
   "metadata": {
    "ExecuteTime": {
     "end_time": "2018-08-12T06:35:51.031829Z",
     "start_time": "2018-08-12T06:35:50.998790Z"
    }
   },
   "outputs": [],
   "source": [
    "# 2. 'result'\n",
    "# 3. 'game_time'\n",
    "# 4. 'end_time'\n",
    "# 5. 'num_moves'\n",
    "# 6. 'color'\n",
    "# 7. 'won_by':\n",
    "#     - checkmate = 9\n",
    "#     - resignation = 8\n",
    "#     - time = 7\n",
    "#     - material = 6\n",
    "#     - agreement = 5\n",
    "#     - repetition = 4\n",
    "#     - abandoned = 3\n",
    "#     - stalemate = 2\n",
    "#     - rule = 1\n",
    "# 8. 'weekday'\n",
    "# 9. 'day'\n",
    "# 10. 'castled_on'\n",
    "# 11. 'opp_castled_on'\n",
    "# 12. 'castled'\n",
    "# 13. 'opp_castled'\n",
    "# 14. 'time_used'\n",
    "# 15. 'opp_time_used'\n",
    "# 16. 'opp_num_moves'\n",
    "# 17. 'avg_time'\n",
    "# 18. 'opp_avg_time'\n",
    "# 19. 'max_time'\n",
    "# 20. 'opp_max_time'\n",
    "# 21. 'elo'\n",
    "# 22. 'opp_elo'\n",
    "# 23. 'diff'"
   ]
  },
  {
   "cell_type": "code",
   "execution_count": null,
   "metadata": {},
   "outputs": [],
   "source": []
  }
 ],
 "metadata": {
  "kernelspec": {
   "display_name": "Python 3",
   "language": "python",
   "name": "python3"
  },
  "language_info": {
   "codemirror_mode": {
    "name": "ipython",
    "version": 3
   },
   "file_extension": ".py",
   "mimetype": "text/x-python",
   "name": "python",
   "nbconvert_exporter": "python",
   "pygments_lexer": "ipython3",
   "version": "3.6.6"
  }
 },
 "nbformat": 4,
 "nbformat_minor": 2
}
