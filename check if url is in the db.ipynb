{
 "cells": [
  {
   "cell_type": "code",
   "execution_count": 1,
   "metadata": {
    "ExecuteTime": {
     "end_time": "2018-08-24T00:37:27.736977Z",
     "start_time": "2018-08-24T00:37:27.520974Z"
    }
   },
   "outputs": [],
   "source": [
    "import requests\n",
    "import pymongo"
   ]
  },
  {
   "cell_type": "code",
   "execution_count": 2,
   "metadata": {
    "ExecuteTime": {
     "end_time": "2018-08-24T00:37:28.278182Z",
     "start_time": "2018-08-24T00:37:28.263615Z"
    }
   },
   "outputs": [],
   "source": [
    "mc = pymongo.MongoClient()\n",
    "scraper_db = mc['scraper']\n",
    "sites = scraper_db['sites']"
   ]
  },
  {
   "cell_type": "code",
   "execution_count": 3,
   "metadata": {
    "ExecuteTime": {
     "end_time": "2018-08-24T00:37:28.840920Z",
     "start_time": "2018-08-24T00:37:28.828722Z"
    }
   },
   "outputs": [],
   "source": [
    "def retrieve_site(url: str) -> bytes:\n",
    "    for site in sites.find():\n",
    "        if site['url'] == url:\n",
    "            return site[data]"
   ]
  },
  {
   "cell_type": "code",
   "execution_count": 4,
   "metadata": {
    "ExecuteTime": {
     "end_time": "2018-08-24T00:37:29.414263Z",
     "start_time": "2018-08-24T00:37:29.401138Z"
    }
   },
   "outputs": [],
   "source": [
    "def scrape_site(url: str) -> bytes:\n",
    "    '''return content for url, using cached version if available'''\n",
    "    data = requests.get(url)\n",
    "    if data:\n",
    "        return data\n",
    "    response = requests.get(url)\n",
    "    data = response.content\n",
    "    sites.insert_one({'url': url, 'data':data})\n",
    "    return data"
   ]
  },
  {
   "cell_type": "code",
   "execution_count": 5,
   "metadata": {
    "ExecuteTime": {
     "end_time": "2018-08-24T00:37:30.281331Z",
     "start_time": "2018-08-24T00:37:29.990534Z"
    }
   },
   "outputs": [
    {
     "name": "stdout",
     "output_type": "stream",
     "text": [
      "CPU times: user 45.3 ms, sys: 598 µs, total: 45.9 ms\n",
      "Wall time: 279 ms\n"
     ]
    }
   ],
   "source": [
    "%time data = scrape_site('https://wikipedia.org/')"
   ]
  },
  {
   "cell_type": "code",
   "execution_count": 6,
   "metadata": {
    "ExecuteTime": {
     "end_time": "2018-08-24T00:37:31.404143Z",
     "start_time": "2018-08-24T00:37:31.359677Z"
    }
   },
   "outputs": [
    {
     "data": {
      "text/plain": [
       "[]"
      ]
     },
     "execution_count": 6,
     "metadata": {},
     "output_type": "execute_result"
    }
   ],
   "source": [
    "[site['url'] for site in sites.find()]"
   ]
  },
  {
   "cell_type": "code",
   "execution_count": null,
   "metadata": {},
   "outputs": [],
   "source": []
  }
 ],
 "metadata": {
  "kernelspec": {
   "display_name": "Python 3",
   "language": "python",
   "name": "python3"
  },
  "language_info": {
   "codemirror_mode": {
    "name": "ipython",
    "version": 3
   },
   "file_extension": ".py",
   "mimetype": "text/x-python",
   "name": "python",
   "nbconvert_exporter": "python",
   "pygments_lexer": "ipython3",
   "version": "3.6.6"
  }
 },
 "nbformat": 4,
 "nbformat_minor": 2
}
