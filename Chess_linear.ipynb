{
 "cells": [
  {
   "cell_type": "code",
   "execution_count": 27,
   "metadata": {
    "ExecuteTime": {
     "end_time": "2018-08-18T20:57:23.465628Z",
     "start_time": "2018-08-18T20:57:23.445789Z"
    }
   },
   "outputs": [],
   "source": [
    "import pandas as pd\n",
    "import numpy as np\n",
    "import re\n",
    "import warnings\n",
    "from datetime import datetime\n",
    "from math import ceil\n",
    "\n",
    "from pandas.tools.plotting import scatter_matrix\n",
    "\n",
    "# from glm.glm import GLM\n",
    "# from glm.families import Gaussian, Bernoulli, Poisson, Gamma\n",
    "\n",
    "import statsmodels.formula.api as smf\n",
    "\n",
    "from sklearn.linear_model import LinearRegression\n",
    "from sklearn.pipeline import Pipeline\n",
    "from sklearn.utils import resample\n",
    "\n",
    "from basis_expansions.basis_expansions import Polynomial, LinearSpline\n",
    "\n",
    "from regression_tools.dftransformers import (\n",
    "    ColumnSelector, Identity, FeatureUnion, MapFeature, Intercept)\n",
    "\n",
    "from regression_tools.plotting_tools import (\n",
    "    plot_univariate_smooth, bootstrap_train, display_coef, \n",
    "    plot_bootstrap_coefs, plot_partial_depenence, \n",
    "    plot_partial_dependences, predicteds_vs_actuals)\n",
    "\n",
    "warnings.filterwarnings('ignore')\n",
    "%matplotlib inline\n",
    "import matplotlib.pyplot as plt\n",
    "plt.style.use('seaborn-white')"
   ]
  },
  {
   "cell_type": "code",
   "execution_count": 28,
   "metadata": {
    "ExecuteTime": {
     "end_time": "2018-08-18T20:57:23.481925Z",
     "start_time": "2018-08-18T20:57:23.467455Z"
    }
   },
   "outputs": [],
   "source": [
    "def round_to_3(x):\n",
    "    return round(x,3)"
   ]
  },
  {
   "cell_type": "code",
   "execution_count": 29,
   "metadata": {
    "ExecuteTime": {
     "end_time": "2018-08-18T20:57:23.511412Z",
     "start_time": "2018-08-18T20:57:23.483694Z"
    }
   },
   "outputs": [],
   "source": [
    "cdf = pd.read_csv('ddf_final_without_scores.csv')\n",
    "numeric_predictors = ['elo', 'opp_elo', 'diff', 'color',\n",
    "                      'game_time', 'start_time', 'weekday', 'day']\n",
    "X = cdf[numeric_predictors]\n",
    "y = cdf['result']"
   ]
  },
  {
   "cell_type": "code",
   "execution_count": 30,
   "metadata": {
    "ExecuteTime": {
     "end_time": "2018-08-18T20:57:23.526638Z",
     "start_time": "2018-08-18T20:57:23.513146Z"
    },
    "scrolled": true
   },
   "outputs": [],
   "source": [
    "# _ = scatter_matrix(X, alpha=0.2, figsize=(20, 20), diagonal='kde')"
   ]
  },
  {
   "cell_type": "code",
   "execution_count": 31,
   "metadata": {
    "ExecuteTime": {
     "end_time": "2018-08-18T20:57:23.541962Z",
     "start_time": "2018-08-18T20:57:23.528244Z"
    }
   },
   "outputs": [],
   "source": [
    "# fig, axs = plt.subplots(len(numeric_predictors), figsize=(14, 14))\n",
    "\n",
    "# for name, ax in zip(numeric_predictors, axs.flatten()):\n",
    "#     plot_univariate_smooth(ax, cdf[name].values.reshape(-1, 1),\n",
    "#                            y, bootstrap=100)\n",
    "#     ax.set_title(name)\n",
    "#     ax.set_ylim((0, 1))\n",
    "# fig.tight_layout()"
   ]
  },
  {
   "cell_type": "code",
   "execution_count": 32,
   "metadata": {
    "ExecuteTime": {
     "end_time": "2018-08-18T20:57:23.557901Z",
     "start_time": "2018-08-18T20:57:23.543532Z"
    }
   },
   "outputs": [],
   "source": [
    "# fig, ax = plt.subplots(figsize=(14, 3))\n",
    "# plot_univariate_smooth(ax, cdf['color'].values.reshape(-1, 1), y,\n",
    "#                        smooth=False)\n",
    "# ax.set_title(\"Color\")\n",
    "# plt.show()"
   ]
  },
  {
   "cell_type": "code",
   "execution_count": 33,
   "metadata": {
    "ExecuteTime": {
     "end_time": "2018-08-18T20:57:23.578236Z",
     "start_time": "2018-08-18T20:57:23.559974Z"
    }
   },
   "outputs": [],
   "source": [
    "# fig, ax = plt.subplots(figsize=(14, 3))\n",
    "# plot_univariate_smooth(ax, cdf['game_time'].values.reshape(-1, 1), y,\n",
    "#                        smooth=False)\n",
    "# ax.set_title(\"Game Time\")\n",
    "# plt.show()"
   ]
  },
  {
   "cell_type": "code",
   "execution_count": 34,
   "metadata": {
    "ExecuteTime": {
     "end_time": "2018-08-18T20:57:23.601302Z",
     "start_time": "2018-08-18T20:57:23.582493Z"
    }
   },
   "outputs": [],
   "source": [
    "y500 = y*5\n",
    "y500.replace(0, 2, inplace=True)\n",
    "ylog = np.log(y500)\n",
    "ylog = ylog-.693147"
   ]
  },
  {
   "cell_type": "code",
   "execution_count": 35,
   "metadata": {
    "ExecuteTime": {
     "end_time": "2018-08-18T20:57:23.623473Z",
     "start_time": "2018-08-18T20:57:23.603431Z"
    }
   },
   "outputs": [],
   "source": [
    "# fig, axs = plt.subplots(len(numeric_predictors), figsize=(14, 14))\n",
    "\n",
    "# for name, ax in zip(numeric_predictors, axs.flatten()):\n",
    "#     plot_univariate_smooth(ax, cdf[name].values.reshape(-1, 1), \n",
    "#                            ylog, bootstrap=100)\n",
    "#     ax.set_title(name)\n",
    "#     ax.set_ylim((0, np.log(5)))\n",
    "# fig.tight_layout()"
   ]
  },
  {
   "cell_type": "code",
   "execution_count": 36,
   "metadata": {
    "ExecuteTime": {
     "end_time": "2018-08-18T20:57:23.643128Z",
     "start_time": "2018-08-18T20:57:23.625304Z"
    }
   },
   "outputs": [],
   "source": [
    "weekday_fit = Pipeline([('weekday', ColumnSelector(name='weekday')), (\n",
    "    'weekday_spline', LinearSpline(knots=[0, 1, 2, 3, 4, 5, 6]))])\n",
    "game_time_fit = Pipeline([('game_time', ColumnSelector(name='game_time')), (\n",
    "    'game_time_spline', LinearSpline(knots=[150, 300, 450, 600]))])\n",
    "color_fit = Pipeline([('color', ColumnSelector(name='color')), (\n",
    "    'color_spline', LinearSpline(knots=[1]))])\n",
    "elo_fit = Pipeline([('elo', ColumnSelector(name='elo')), (\n",
    "    'elo_spline', LinearSpline(knots=[600, 700, 800, 900, 1000]))])\n",
    "diff_fit = Pipeline([('diff', ColumnSelector(name='diff')), (\n",
    "    'diff_spline', LinearSpline(knots=[-500, -100, -50, -20, -10, -5, 0, 0, 5, 10, 20, 50, 100, 500]))])\n",
    "opp_elo_fit = Pipeline([('opp_elo', ColumnSelector(name='opp_elo')), (\n",
    "    'opp_elo_spline', LinearSpline(knots=[600, 700, 800, 900, 1000, 1100, 1300, 1800]))])\n",
    "day_fit = Pipeline([('day', ColumnSelector(name='day')), (\n",
    "    'day_spline', LinearSpline(knots=[5, 10, 15, 20, 25, 30]))])\n",
    "start_time_fit = Pipeline([('start_time', ColumnSelector(name='start_time')), (\n",
    "    'start_time_spline', LinearSpline(knots=[0, 8000, 12000, 16000, 18000, 20000, 23999]))])"
   ]
  },
  {
   "cell_type": "code",
   "execution_count": 37,
   "metadata": {
    "ExecuteTime": {
     "end_time": "2018-08-18T20:57:23.664297Z",
     "start_time": "2018-08-18T20:57:23.645889Z"
    }
   },
   "outputs": [],
   "source": [
    "def catagorical_plot(ax, x, y):\n",
    "    def convert_to_numeric(catagorical):\n",
    "        classes = catagorical.unique()\n",
    "        classes_mapping = {cls: i for i, cls in enumerate(classes)}\n",
    "        classes_inv_mapping = {i: cls for i, cls in enumerate(classes)}\n",
    "        classes_numeric = catagorical.apply(lambda cls: classes_mapping[cls])\n",
    "        return classes_numeric, classes_inv_mapping\n",
    "\n",
    "    numeric, classes_mapping = convert_to_numeric(x)\n",
    "\n",
    "    noise = np.random.uniform(-0.3, 0.3, size=len(x))\n",
    "    ax.scatter(numeric + noise, y, color=\"grey\", alpha=0.5)\n",
    "\n",
    "    box_data = list(y.groupby(x))\n",
    "    ax.boxplot([data for _, data in box_data], positions=range(len(box_data)))\n",
    "    ax.set_xticks(list(classes_mapping))\n",
    "    ax.set_xticklabels(list(x.unique()))"
   ]
  },
  {
   "cell_type": "code",
   "execution_count": 38,
   "metadata": {
    "ExecuteTime": {
     "end_time": "2018-08-18T20:57:23.680933Z",
     "start_time": "2018-08-18T20:57:23.665947Z"
    }
   },
   "outputs": [],
   "source": [
    "def balance_categorical_plot(ax, var_name):\n",
    "    catagorical_plot(ax, cdf[var_name], y)\n",
    "    ax.set_ylabel(\"result\")\n",
    "    ax.set_xlabel(var_name)\n",
    "    ax.set_title(\"result by {}\".format(var_name))"
   ]
  },
  {
   "cell_type": "code",
   "execution_count": 39,
   "metadata": {
    "ExecuteTime": {
     "end_time": "2018-08-18T20:57:23.696397Z",
     "start_time": "2018-08-18T20:57:23.682566Z"
    }
   },
   "outputs": [],
   "source": [
    "# fig, ax = plt.subplots()\n",
    "# balance_categorical_plot(ax, 'elo')"
   ]
  },
  {
   "cell_type": "code",
   "execution_count": 40,
   "metadata": {
    "ExecuteTime": {
     "end_time": "2018-08-18T20:57:23.712666Z",
     "start_time": "2018-08-18T20:57:23.698169Z"
    }
   },
   "outputs": [],
   "source": [
    "# fig, ax = plt.subplots()\n",
    "# balance_categorical_plot(ax, 'opp_elo')"
   ]
  },
  {
   "cell_type": "code",
   "execution_count": 41,
   "metadata": {
    "ExecuteTime": {
     "end_time": "2018-08-18T20:57:23.729677Z",
     "start_time": "2018-08-18T20:57:23.714370Z"
    },
    "scrolled": false
   },
   "outputs": [],
   "source": [
    "# fig, ax = plt.subplots()\n",
    "# balance_categorical_plot(ax, 'diff')"
   ]
  },
  {
   "cell_type": "code",
   "execution_count": 42,
   "metadata": {
    "ExecuteTime": {
     "end_time": "2018-08-18T20:57:23.745718Z",
     "start_time": "2018-08-18T20:57:23.731658Z"
    }
   },
   "outputs": [],
   "source": [
    "# fig, ax = plt.subplots()\n",
    "# balance_categorical_plot(ax, 'color')"
   ]
  },
  {
   "cell_type": "code",
   "execution_count": 43,
   "metadata": {
    "ExecuteTime": {
     "end_time": "2018-08-18T20:57:23.762513Z",
     "start_time": "2018-08-18T20:57:23.747533Z"
    }
   },
   "outputs": [],
   "source": [
    "# fig, ax = plt.subplots()\n",
    "# balance_categorical_plot(ax, 'game_time')"
   ]
  },
  {
   "cell_type": "code",
   "execution_count": 44,
   "metadata": {
    "ExecuteTime": {
     "end_time": "2018-08-18T20:57:23.779411Z",
     "start_time": "2018-08-18T20:57:23.764588Z"
    }
   },
   "outputs": [],
   "source": [
    "# fig, ax = plt.subplots()\n",
    "# balance_categorical_plot(ax, 'weekday')"
   ]
  },
  {
   "cell_type": "code",
   "execution_count": 45,
   "metadata": {
    "ExecuteTime": {
     "end_time": "2018-08-18T20:57:23.795474Z",
     "start_time": "2018-08-18T20:57:23.781161Z"
    }
   },
   "outputs": [],
   "source": [
    "# fig, ax = plt.subplots()\n",
    "# balance_categorical_plot(ax, 'day')"
   ]
  },
  {
   "cell_type": "code",
   "execution_count": 46,
   "metadata": {
    "ExecuteTime": {
     "end_time": "2018-08-18T20:57:23.837968Z",
     "start_time": "2018-08-18T20:57:23.797050Z"
    }
   },
   "outputs": [
    {
     "data": {
      "text/plain": [
       "LinearRegression(copy_X=True, fit_intercept=False, n_jobs=1, normalize=False)"
      ]
     },
     "execution_count": 46,
     "metadata": {},
     "output_type": "execute_result"
    }
   ],
   "source": [
    "result_pipeline = FeatureUnion([\n",
    "    ('intercept', Intercept()), ('diff_fit', diff_fit),\n",
    "    ('elo_fit', elo_fit), ('opp_elo_fit', opp_elo_fit),\n",
    "    ('color_fit', color_fit), ('game_time_fit', game_time_fit),\n",
    "    ('start_time_fit', start_time_fit), ('weekday_fit', weekday_fit),\n",
    "    ('day_fit', day_fit)])\n",
    "result_pipeline.fit(X)\n",
    "result_features = result_pipeline.transform(X)\n",
    "result_model = LinearRegression(fit_intercept=False)\n",
    "result_model.fit(result_features.values, y.values)"
   ]
  },
  {
   "cell_type": "code",
   "execution_count": 47,
   "metadata": {
    "ExecuteTime": {
     "end_time": "2018-08-18T20:57:23.862967Z",
     "start_time": "2018-08-18T20:57:23.840914Z"
    },
    "scrolled": true
   },
   "outputs": [],
   "source": [
    "# display_coef(result_model, result_features.columns)"
   ]
  },
  {
   "cell_type": "code",
   "execution_count": 48,
   "metadata": {
    "ExecuteTime": {
     "end_time": "2018-08-18T20:57:56.480002Z",
     "start_time": "2018-08-18T20:57:23.865024Z"
    }
   },
   "outputs": [],
   "source": [
    "bootstrap_models = bootstrap_train(\n",
    "    LinearRegression, result_features.values,\n",
    "    y.values, fit_intercept=False, bootstraps=10000)"
   ]
  },
  {
   "cell_type": "code",
   "execution_count": 49,
   "metadata": {
    "ExecuteTime": {
     "end_time": "2018-08-18T20:57:56.496405Z",
     "start_time": "2018-08-18T20:57:56.482511Z"
    },
    "scrolled": true
   },
   "outputs": [],
   "source": [
    "# fig, axs = plot_bootstrap_coefs(bootstrap_models, result_features.columns, n_col=3)\n",
    "# fig.tight_layout()"
   ]
  },
  {
   "cell_type": "code",
   "execution_count": 51,
   "metadata": {
    "ExecuteTime": {
     "end_time": "2018-08-18T20:59:40.835372Z",
     "start_time": "2018-08-18T20:59:40.816371Z"
    }
   },
   "outputs": [],
   "source": [
    "#X = cdf[['diff', 'color', 'game_time', 'start_time', 'weekday']]"
   ]
  },
  {
   "cell_type": "code",
   "execution_count": 77,
   "metadata": {
    "ExecuteTime": {
     "end_time": "2018-08-18T21:12:47.105735Z",
     "start_time": "2018-08-18T21:12:47.081838Z"
    }
   },
   "outputs": [
    {
     "data": {
      "text/html": [
       "<div>\n",
       "<style scoped>\n",
       "    .dataframe tbody tr th:only-of-type {\n",
       "        vertical-align: middle;\n",
       "    }\n",
       "\n",
       "    .dataframe tbody tr th {\n",
       "        vertical-align: top;\n",
       "    }\n",
       "\n",
       "    .dataframe thead th {\n",
       "        text-align: right;\n",
       "    }\n",
       "</style>\n",
       "<table border=\"1\" class=\"dataframe\">\n",
       "  <thead>\n",
       "    <tr style=\"text-align: right;\">\n",
       "      <th></th>\n",
       "      <th>intercept</th>\n",
       "      <th>diff</th>\n",
       "      <th>color</th>\n",
       "      <th>start_time</th>\n",
       "    </tr>\n",
       "  </thead>\n",
       "  <tbody>\n",
       "    <tr>\n",
       "      <th>0</th>\n",
       "      <td>1.0</td>\n",
       "      <td>-243</td>\n",
       "      <td>1</td>\n",
       "      <td>14529.722222</td>\n",
       "    </tr>\n",
       "    <tr>\n",
       "      <th>1</th>\n",
       "      <td>1.0</td>\n",
       "      <td>218</td>\n",
       "      <td>0</td>\n",
       "      <td>17476.944444</td>\n",
       "    </tr>\n",
       "    <tr>\n",
       "      <th>2</th>\n",
       "      <td>1.0</td>\n",
       "      <td>-5</td>\n",
       "      <td>1</td>\n",
       "      <td>18691.388889</td>\n",
       "    </tr>\n",
       "    <tr>\n",
       "      <th>3</th>\n",
       "      <td>1.0</td>\n",
       "      <td>-434</td>\n",
       "      <td>0</td>\n",
       "      <td>11008.611111</td>\n",
       "    </tr>\n",
       "    <tr>\n",
       "      <th>4</th>\n",
       "      <td>1.0</td>\n",
       "      <td>-148</td>\n",
       "      <td>0</td>\n",
       "      <td>11365.000000</td>\n",
       "    </tr>\n",
       "  </tbody>\n",
       "</table>\n",
       "</div>"
      ],
      "text/plain": [
       "   intercept  diff  color    start_time\n",
       "0        1.0  -243      1  14529.722222\n",
       "1        1.0   218      0  17476.944444\n",
       "2        1.0    -5      1  18691.388889\n",
       "3        1.0  -434      0  11008.611111\n",
       "4        1.0  -148      0  11365.000000"
      ]
     },
     "execution_count": 77,
     "metadata": {},
     "output_type": "execute_result"
    }
   ],
   "source": [
    "diff_spec = ColumnSelector(name=\"diff\")\n",
    "color_spec = ColumnSelector(name=\"color\")\n",
    "game_spec = ColumnSelector(name=\"game_time\")\n",
    "st_spec = ColumnSelector(name=\"start_time\")\n",
    "wd_spec = ColumnSelector(name=\"weekday\")\n",
    "\n",
    "\n",
    "# balanced_pipeline = FeatureUnion([\n",
    "#     ('intercept', Intercept()), ('diff_fit', diff_spec),\n",
    "#     ('color_fit', color_spec), ('game_time_fit', game_spec),\n",
    "#     ('start_time_fit', st_spec), ('weekday_fit', wd_spec)])\n",
    "balanced_pipeline = FeatureUnion([\n",
    "    ('intercept', Intercept()), ('diff_fit', diff_spec),\n",
    "    ('color_fit', color_spec), ('start_time_fit', st_spec)])\n",
    "balanced_pipeline.fit(X)\n",
    "balanced_features = balanced_pipeline.transform(X)\n",
    "balanced_features.head()"
   ]
  },
  {
   "cell_type": "code",
   "execution_count": 78,
   "metadata": {
    "ExecuteTime": {
     "end_time": "2018-08-18T21:12:49.559010Z",
     "start_time": "2018-08-18T21:12:49.539426Z"
    }
   },
   "outputs": [
    {
     "data": {
      "text/plain": [
       "LinearRegression(copy_X=True, fit_intercept=False, n_jobs=1, normalize=False)"
      ]
     },
     "execution_count": 78,
     "metadata": {},
     "output_type": "execute_result"
    }
   ],
   "source": [
    "balanced_model = LinearRegression(fit_intercept=False)\n",
    "balanced_model.fit(balanced_features, y)"
   ]
  },
  {
   "cell_type": "code",
   "execution_count": 79,
   "metadata": {
    "ExecuteTime": {
     "end_time": "2018-08-18T21:12:50.641467Z",
     "start_time": "2018-08-18T21:12:50.624993Z"
    }
   },
   "outputs": [
    {
     "name": "stdout",
     "output_type": "stream",
     "text": [
      "Name                               Parameter Estimate  \n",
      "-------------------------------------------------------\n",
      "intercept                          0.5157651147738531  \n",
      "diff                               0.0017696958664158641\n",
      "color                              0.06711164897405894 \n",
      "start_time                         -2.5129072210576685e-06\n"
     ]
    }
   ],
   "source": [
    "display_coef(balanced_model, balanced_features.columns)"
   ]
  },
  {
   "cell_type": "code",
   "execution_count": 80,
   "metadata": {
    "ExecuteTime": {
     "end_time": "2018-08-18T21:13:03.102638Z",
     "start_time": "2018-08-18T21:12:57.723066Z"
    }
   },
   "outputs": [],
   "source": [
    "balanced_bootstrap = bootstrap_train(\n",
    "    LinearRegression, balanced_features.values,\n",
    "    y.values, fit_intercept=False, bootstraps=10000)"
   ]
  },
  {
   "cell_type": "code",
   "execution_count": 83,
   "metadata": {
    "ExecuteTime": {
     "end_time": "2018-08-18T21:13:10.029803Z",
     "start_time": "2018-08-18T21:13:09.428150Z"
    }
   },
   "outputs": [
    {
     "data": {
      "image/png": "[encoded data removed]",
      "text/plain": [
       "<Figure size 864x432 with 6 Axes>"
      ]
     },
     "metadata": {},
     "output_type": "display_data"
    }
   ],
   "source": [
    "fig, axs = plot_bootstrap_coefs(balanced_bootstrap, balanced_features.columns, n_col=2)\n",
    "fig.tight_layout()"
   ]
  },
  {
   "cell_type": "code",
   "execution_count": 84,
   "metadata": {
    "ExecuteTime": {
     "end_time": "2018-08-18T21:13:15.720567Z",
     "start_time": "2018-08-18T21:13:15.703701Z"
    }
   },
   "outputs": [],
   "source": [
    "y_hat = balanced_model.predict(balanced_features.values)"
   ]
  },
  {
   "cell_type": "code",
   "execution_count": 85,
   "metadata": {
    "ExecuteTime": {
     "end_time": "2018-08-18T21:13:28.123096Z",
     "start_time": "2018-08-18T21:13:27.367636Z"
    }
   },
   "outputs": [
    {
     "data": {
      "image/png": "[encoded data removed]",
      "text/plain": [
       "<Figure size 864x864 with 4 Axes>"
      ]
     },
     "metadata": {},
     "output_type": "display_data"
    }
   ],
   "source": [
    "fig, axs = plot_partial_dependences(\n",
    "    balanced_model, X=X, var_names=['diff', 'color', 'game_time', 'start_time'],\n",
    "    pipeline=balanced_pipeline, y=y)\n",
    "fig.tight_layout()"
   ]
  },
  {
   "cell_type": "code",
   "execution_count": 86,
   "metadata": {
    "ExecuteTime": {
     "end_time": "2018-08-18T21:13:31.263805Z",
     "start_time": "2018-08-18T21:13:31.247568Z"
    }
   },
   "outputs": [],
   "source": [
    "def rss(y, y_hat):\n",
    "    return np.sum((y - y_hat)**2)"
   ]
  },
  {
   "cell_type": "code",
   "execution_count": 87,
   "metadata": {
    "ExecuteTime": {
     "end_time": "2018-08-18T21:13:31.748349Z",
     "start_time": "2018-08-18T21:13:31.731762Z"
    }
   },
   "outputs": [
    {
     "name": "stdout",
     "output_type": "stream",
     "text": [
      "RSS: 372.2190850301031\n"
     ]
    }
   ],
   "source": [
    "print(\"RSS: {}\".format(rss(y, y_hat)))"
   ]
  },
  {
   "cell_type": "code",
   "execution_count": 88,
   "metadata": {
    "ExecuteTime": {
     "end_time": "2018-08-18T21:13:32.650991Z",
     "start_time": "2018-08-18T21:13:32.634877Z"
    }
   },
   "outputs": [],
   "source": [
    "def rsq(y, y_hat):\n",
    "    ss_tot = rss(y, np.mean(y))\n",
    "    ss_res = rss(y, y_hat)\n",
    "    return 1 - (ss_res / ss_tot)"
   ]
  },
  {
   "cell_type": "code",
   "execution_count": 89,
   "metadata": {
    "ExecuteTime": {
     "end_time": "2018-08-18T21:13:33.201486Z",
     "start_time": "2018-08-18T21:13:33.182454Z"
    }
   },
   "outputs": [
    {
     "name": "stdout",
     "output_type": "stream",
     "text": [
      "R^2: 0.1255558097498638\n"
     ]
    }
   ],
   "source": [
    "print(\"R^2: {}\".format(rsq(y, y_hat)))"
   ]
  },
  {
   "cell_type": "code",
   "execution_count": 90,
   "metadata": {
    "ExecuteTime": {
     "end_time": "2018-08-18T21:13:37.763528Z",
     "start_time": "2018-08-18T21:13:37.747715Z"
    }
   },
   "outputs": [],
   "source": [
    "def bootstrap_rsq(X, y, pipeline, n_boot=10000):\n",
    "    rsqs = []\n",
    "    for _ in range(n_boot):\n",
    "        X_boot, y_boot = resample(X, y)\n",
    "        X_transform = pipeline.transform(X_boot)\n",
    "        model = LinearRegression(fit_intercept=False)\n",
    "        model.fit(X_transform.values, y_boot)\n",
    "        y_boot_hat = model.predict(X_transform.values)\n",
    "        rsqs.append(rsq(y_boot, y_boot_hat))\n",
    "    return rsqs"
   ]
  },
  {
   "cell_type": "code",
   "execution_count": 91,
   "metadata": {
    "ExecuteTime": {
     "end_time": "2018-08-18T21:14:11.475818Z",
     "start_time": "2018-08-18T21:13:38.898767Z"
    }
   },
   "outputs": [],
   "source": [
    "rsqs = bootstrap_rsq(X, y, balanced_pipeline)"
   ]
  },
  {
   "cell_type": "code",
   "execution_count": 92,
   "metadata": {
    "ExecuteTime": {
     "end_time": "2018-08-18T21:14:11.723642Z",
     "start_time": "2018-08-18T21:14:11.477822Z"
    }
   },
   "outputs": [
    {
     "data": {
      "text/plain": [
       "Text(0.5,0,'$R^2$')"
      ]
     },
     "execution_count": 92,
     "metadata": {},
     "output_type": "execute_result"
    },
    {
     "data": {
      "image/png": "[encoded data removed]",
      "text/plain": [
       "<Figure size 864x288 with 1 Axes>"
      ]
     },
     "metadata": {},
     "output_type": "display_data"
    }
   ],
   "source": [
    "fig, ax = plt.subplots(figsize=(12, 4))\n",
    "_ = ax.hist(rsqs, bins=50, color=\"grey\", alpha=0.6)\n",
    "ax.set_title(\"Bootstrapped $R^2$ Statistics\")\n",
    "ax.set_xlabel(\"$R^2$\")"
   ]
  },
  {
   "cell_type": "code",
   "execution_count": null,
   "metadata": {
    "ExecuteTime": {
     "end_time": "2018-08-18T20:55:36.202041Z",
     "start_time": "2018-08-18T20:54:42.280Z"
    }
   },
   "outputs": [],
   "source": [
    "def plot_many_residuals(var_names, y_hat, n_bins=50):\n",
    "    fig, axs = plt.subplots(len(var_names), figsize=(12, 3*len(var_names)))\n",
    "    for ax, name in zip(axs, var_names):\n",
    "        x = cdf[name]\n",
    "        residual_plot(ax, x, y, y_hat)\n",
    "        ax.set_xlabel(name)\n",
    "        ax.set_title(\"Model Residuals by {}\".format(name))\n",
    "    return fig, axs"
   ]
  },
  {
   "cell_type": "code",
   "execution_count": null,
   "metadata": {
    "ExecuteTime": {
     "end_time": "2018-08-18T20:55:36.204949Z",
     "start_time": "2018-08-18T20:54:43.554Z"
    }
   },
   "outputs": [],
   "source": [
    "def residual_plot(ax, x, y, y_hat, n_bins=50):\n",
    "    residuals = y - y_hat\n",
    "    ax.axhline(0, color=\"black\", linestyle=\"--\")\n",
    "    ax.scatter(x, residuals, color=\"grey\", alpha=0.5)\n",
    "    ax.set_ylabel(\"Residuals ($y - \\hat y$)\")"
   ]
  },
  {
   "cell_type": "code",
   "execution_count": null,
   "metadata": {
    "ExecuteTime": {
     "end_time": "2018-08-18T06:23:34.216082Z",
     "start_time": "2018-08-18T06:22:25.030Z"
    }
   },
   "outputs": [],
   "source": [
    "# weekday_fit = Pipeline([('weekday', ColumnSelector(name='weekday')), (\n",
    "#     'weekday_spline', LinearSpline(knots=[0, 1, 2, 3, 4, 5, 6]))])\n",
    "# game_time_fit = Pipeline([('game_time', ColumnSelector(name='game_time')), (\n",
    "#     'game_time_spline', LinearSpline(knots=[150, 300, 450, 600]))])\n",
    "# color_fit = Pipeline([('color', ColumnSelector(name='color')), (\n",
    "#     'color_spline', LinearSpline(knots=[0, 1]))])\n",
    "# elo_fit = Pipeline([('elo', ColumnSelector(name='elo')), (\n",
    "#     'elo_spline', LinearSpline(knots=[600, 700, 800, 900, 1000]))])\n",
    "# diff_fit = Pipeline([('diff', ColumnSelector(name='diff')), (\n",
    "#     'diff_spline', LinearSpline(knots=[-500, -100, -50, -20, -10, -5, 0, 0, 5, 10, 20, 50, 100, 500]))])\n",
    "# opp_elo_fit = Pipeline([('opp_elo', ColumnSelector(name='opp_elo')), (\n",
    "#     'opp_elo_spline', LinearSpline(knots=[600, 700, 800, 900, 1000, 1100, 1300, 1800]))])\n",
    "# day_fit = Pipeline([('day', ColumnSelector(name='day')), (\n",
    "#     'day_spline', LinearSpline(knots=[5, 10, 15, 20, 25, 30]))])\n",
    "# start_time_fit = Pipeline([('start_time', ColumnSelector(name='start_time')), (\n",
    "#     'start_time_spline', LinearSpline(knots=[0, 8000, 12000, 16000, 18000, 20000, 23999]))])\n",
    "\n",
    "# weekday_fit.transform(cdf)\n",
    "# game_time_fit.transform(cdf)\n",
    "# color_fit.transform(cdf)\n",
    "# elo_fit.transform(cdf)\n",
    "# diff_fit.transform(cdf)\n",
    "# opp_elo_fit.transform(cdf)\n",
    "# day_fit.transform(cdf)\n",
    "# start_time_fit.transform(cdf)\n",
    "# print('hello')"
   ]
  },
  {
   "cell_type": "code",
   "execution_count": null,
   "metadata": {
    "ExecuteTime": {
     "end_time": "2018-08-18T06:23:34.216989Z",
     "start_time": "2018-08-18T06:22:25.039Z"
    },
    "scrolled": true
   },
   "outputs": [],
   "source": [
    "# def plot_basis(axs, basis_expansion, t):\n",
    "#     basis = basis_expansion.fit_transform(t)\n",
    "#     for idx, ax in enumerate(axs.flatten()):\n",
    "#         ax.plot(t, basis[:, idx])"
   ]
  },
  {
   "cell_type": "code",
   "execution_count": null,
   "metadata": {
    "ExecuteTime": {
     "end_time": "2018-08-18T06:23:34.217920Z",
     "start_time": "2018-08-18T06:22:25.042Z"
    },
    "scrolled": true
   },
   "outputs": [],
   "source": [
    "# def plot_one_univariate(ax, var_name, mask=None, bootstrap=100):\n",
    "#     if mask is None:\n",
    "#         plot_univariate_smooth(ax, cdf[var_name].values.reshape(-1, 1),\n",
    "#                                cdf['result'], bootstrap=bootstrap)\n",
    "#     else:\n",
    "#         plot_univariate_smooth(ax, cdf[var_name].values.reshape(-1, 1),\n",
    "#                                cdf['result'], mask=mask, bootstrap=bootstrap)"
   ]
  },
  {
   "cell_type": "code",
   "execution_count": null,
   "metadata": {
    "ExecuteTime": {
     "end_time": "2018-08-18T06:23:34.227024Z",
     "start_time": "2018-08-18T06:22:25.069Z"
    },
    "scrolled": true
   },
   "outputs": [],
   "source": [
    "# def plot_many_predicteds_vs_actuals(var_names, y_hat, n_bins=50):\n",
    "#     fig, axs = plt.subplots(len(var_names), figsize=(12, 3*len(var_names)))\n",
    "#     for ax, name in zip(axs, var_names):\n",
    "#         x = cdf[name]\n",
    "#         predicteds_vs_actuals(ax, x, cdf[\"result\"], y_hat, n_bins=n_bins)\n",
    "#         ax.set_title(\"{} Predicteds vs. Actuals\".format(name))\n",
    "#     return fig, axs"
   ]
  },
  {
   "cell_type": "code",
   "execution_count": null,
   "metadata": {
    "ExecuteTime": {
     "end_time": "2018-08-18T06:23:34.227989Z",
     "start_time": "2018-08-18T06:22:25.071Z"
    }
   },
   "outputs": [],
   "source": [
    "# var_names = ['elo', 'opp_elo', 'diff',\n",
    "#              'color', 'game_time', 'start_time', 'weekday', 'day']\n",
    "# y_hat = model.predict(features.values)"
   ]
  },
  {
   "cell_type": "code",
   "execution_count": null,
   "metadata": {
    "ExecuteTime": {
     "end_time": "2018-08-18T06:23:34.231307Z",
     "start_time": "2018-08-18T06:22:25.082Z"
    }
   },
   "outputs": [],
   "source": [
    "# def residual_plot(ax, x, y, y_hat, n_bins=50):\n",
    "#     residuals = y - y_hat\n",
    "#     ax.axhline(0, color=\"black\", linestyle=\"--\")\n",
    "#     ax.scatter(x, residuals, color=\"grey\", alpha=0.5)\n",
    "#     ax.set_ylabel(\"Residuals ($y - \\hat y$)\")\n",
    "# fig, ax = plt.subplots(figsize=(12, 3))\n",
    "# residual_plot(ax, y_hat, cdf[\"result\"], y_hat)\n",
    "# ax.set_title(\"Residuals by Predicted Values\")\n",
    "# ax.set_xlabel(\"$\\hat y$\")\n",
    "# plt.show()"
   ]
  },
  {
   "cell_type": "code",
   "execution_count": null,
   "metadata": {},
   "outputs": [],
   "source": []
  },
  {
   "cell_type": "code",
   "execution_count": null,
   "metadata": {},
   "outputs": [],
   "source": []
  },
  {
   "cell_type": "code",
   "execution_count": null,
   "metadata": {},
   "outputs": [],
   "source": []
  }
 ],
 "metadata": {
  "kernelspec": {
   "display_name": "Python 3",
   "language": "python",
   "name": "python3"
  },
  "language_info": {
   "codemirror_mode": {
    "name": "ipython",
    "version": 3
   },
   "file_extension": ".py",
   "mimetype": "text/x-python",
   "name": "python",
   "nbconvert_exporter": "python",
   "pygments_lexer": "ipython3",
   "version": "3.6.6"
  }
 },
 "nbformat": 4,
 "nbformat_minor": 2
}
