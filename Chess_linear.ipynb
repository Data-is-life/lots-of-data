{
 "cells": [
  {
   "cell_type": "code",
   "execution_count": 1,
   "metadata": {
    "ExecuteTime": {
     "end_time": "2018-08-18T20:57:23.465628Z",
     "start_time": "2018-08-18T20:57:23.445789Z"
    }
   },
   "outputs": [],
   "source": [
    "import numpy as np\n",
    "import pandas as pd\n",
    "\n",
    "from scipy import stats\n",
    "import scipy.stats as sp\n",
    "from scipy.stats import norm, poisson\n",
    "from numpy import random\n",
    "from pylab import *\n",
    "from sklearn.metrics import r2_score\n",
    "import statsmodels.api as sm\n",
    "import statsmodels.formula.api as smf\n",
    "\n",
    "from sklearn.linear_model import LinearRegression, LogisticRegression\n",
    "from sklearn.pipeline import Pipeline\n",
    "from sklearn.utils import resample\n",
    "\n",
    "from basis_expansions.basis_expansions import Polynomial, LinearSpline\n",
    "\n",
    "from regression_tools.dftransformers import (\n",
    "    ColumnSelector, Identity, FeatureUnion, MapFeature, Intercept)\n",
    "\n",
    "from regression_tools.plotting_tools import (\n",
    "    plot_univariate_smooth, bootstrap_train, display_coef, \n",
    "    plot_bootstrap_coefs, plot_partial_depenence, \n",
    "    plot_partial_dependences, predicteds_vs_actuals)\n",
    "\n",
    "warnings.filterwarnings('ignore')\n",
    "%matplotlib inline\n",
    "import matplotlib.pyplot as plt\n",
    "plt.style.use('seaborn-white')"
   ]
  },
  {
   "cell_type": "code",
   "execution_count": 2,
   "metadata": {
    "ExecuteTime": {
     "end_time": "2018-08-18T20:57:23.481925Z",
     "start_time": "2018-08-18T20:57:23.467455Z"
    }
   },
   "outputs": [],
   "source": [
    "def round_to_3(x):\n",
    "    return round(x,3)"
   ]
  },
  {
   "cell_type": "code",
   "execution_count": 17,
   "metadata": {
    "ExecuteTime": {
     "end_time": "2018-08-18T20:57:23.511412Z",
     "start_time": "2018-08-18T20:57:23.483694Z"
    }
   },
   "outputs": [],
   "source": [
    "cdf = pd.read_csv('ddf_final_without_scores.csv')\n",
    "numeric_predictors = ['elo', 'opp_elo', 'diff', 'color',\n",
    "                      'game_time', 'start_time', 'weekday', 'day']\n",
    "X = cdf[numeric_predictors]\n",
    "y = cdf['result']"
   ]
  },
  {
   "cell_type": "code",
   "execution_count": 20,
   "metadata": {
    "ExecuteTime": {
     "end_time": "2018-08-18T21:13:15.720567Z",
     "start_time": "2018-08-18T21:13:15.703701Z"
    }
   },
   "outputs": [],
   "source": [
    "X1 = sm.add_constant(X)\n",
    "est = sm.OLS(y, X1).fit()"
   ]
  },
  {
   "cell_type": "code",
   "execution_count": 21,
   "metadata": {
    "ExecuteTime": {
     "end_time": "2018-08-18T06:23:34.217920Z",
     "start_time": "2018-08-18T06:22:25.042Z"
    },
    "scrolled": true
   },
   "outputs": [
    {
     "data": {
      "text/html": [
       "<table class=\"simpletable\">\n",
       "<caption>OLS Regression Results</caption>\n",
       "<tr>\n",
       "  <th>Dep. Variable:</th>         <td>result</td>      <th>  R-squared:         </th> <td>   0.129</td>\n",
       "</tr>\n",
       "<tr>\n",
       "  <th>Model:</th>                   <td>OLS</td>       <th>  Adj. R-squared:    </th> <td>   0.125</td>\n",
       "</tr>\n",
       "<tr>\n",
       "  <th>Method:</th>             <td>Least Squares</td>  <th>  F-statistic:       </th> <td>   38.04</td>\n",
       "</tr>\n",
       "<tr>\n",
       "  <th>Date:</th>             <td>Sun, 26 Aug 2018</td> <th>  Prob (F-statistic):</th> <td>5.30e-50</td>\n",
       "</tr>\n",
       "<tr>\n",
       "  <th>Time:</th>                 <td>16:29:28</td>     <th>  Log-Likelihood:    </th> <td> -1133.4</td>\n",
       "</tr>\n",
       "<tr>\n",
       "  <th>No. Observations:</th>      <td>  1809</td>      <th>  AIC:               </th> <td>   2283.</td>\n",
       "</tr>\n",
       "<tr>\n",
       "  <th>Df Residuals:</th>          <td>  1801</td>      <th>  BIC:               </th> <td>   2327.</td>\n",
       "</tr>\n",
       "<tr>\n",
       "  <th>Df Model:</th>              <td>     7</td>      <th>                     </th>     <td> </td>   \n",
       "</tr>\n",
       "<tr>\n",
       "  <th>Covariance Type:</th>      <td>nonrobust</td>    <th>                     </th>     <td> </td>   \n",
       "</tr>\n",
       "</table>\n",
       "<table class=\"simpletable\">\n",
       "<tr>\n",
       "       <td></td>         <th>coef</th>     <th>std err</th>      <th>t</th>      <th>P>|t|</th>  <th>[0.025</th>    <th>0.975]</th>  \n",
       "</tr>\n",
       "<tr>\n",
       "  <th>const</th>      <td>    0.8078</td> <td>    0.148</td> <td>    5.460</td> <td> 0.000</td> <td>    0.518</td> <td>    1.098</td>\n",
       "</tr>\n",
       "<tr>\n",
       "  <th>elo</th>        <td>    0.0003</td> <td>    0.000</td> <td>    2.938</td> <td> 0.003</td> <td>    0.000</td> <td>    0.001</td>\n",
       "</tr>\n",
       "<tr>\n",
       "  <th>opp_elo</th>    <td>   -0.0007</td> <td>  6.5e-05</td> <td>  -10.843</td> <td> 0.000</td> <td>   -0.001</td> <td>   -0.001</td>\n",
       "</tr>\n",
       "<tr>\n",
       "  <th>diff</th>       <td>    0.0010</td> <td> 9.34e-05</td> <td>   11.090</td> <td> 0.000</td> <td>    0.001</td> <td>    0.001</td>\n",
       "</tr>\n",
       "<tr>\n",
       "  <th>color</th>      <td>    0.0671</td> <td>    0.021</td> <td>    3.140</td> <td> 0.002</td> <td>    0.025</td> <td>    0.109</td>\n",
       "</tr>\n",
       "<tr>\n",
       "  <th>game_time</th>  <td> 7.399e-05</td> <td> 7.45e-05</td> <td>    0.993</td> <td> 0.321</td> <td>-7.21e-05</td> <td>    0.000</td>\n",
       "</tr>\n",
       "<tr>\n",
       "  <th>start_time</th> <td>-2.939e-06</td> <td> 2.21e-06</td> <td>   -1.328</td> <td> 0.184</td> <td>-7.28e-06</td> <td>  1.4e-06</td>\n",
       "</tr>\n",
       "<tr>\n",
       "  <th>weekday</th>    <td>   -0.0002</td> <td>    0.005</td> <td>   -0.046</td> <td> 0.963</td> <td>   -0.011</td> <td>    0.010</td>\n",
       "</tr>\n",
       "<tr>\n",
       "  <th>day</th>        <td>-5.847e-05</td> <td>    0.001</td> <td>   -0.046</td> <td> 0.963</td> <td>   -0.003</td> <td>    0.002</td>\n",
       "</tr>\n",
       "</table>\n",
       "<table class=\"simpletable\">\n",
       "<tr>\n",
       "  <th>Omnibus:</th>       <td> 0.053</td> <th>  Durbin-Watson:     </th> <td>   2.011</td>\n",
       "</tr>\n",
       "<tr>\n",
       "  <th>Prob(Omnibus):</th> <td> 0.974</td> <th>  Jarque-Bera (JB):  </th> <td> 206.183</td>\n",
       "</tr>\n",
       "<tr>\n",
       "  <th>Skew:</th>          <td>-0.013</td> <th>  Prob(JB):          </th> <td>1.69e-45</td>\n",
       "</tr>\n",
       "<tr>\n",
       "  <th>Kurtosis:</th>      <td> 1.346</td> <th>  Cond. No.          </th> <td>5.67e+17</td>\n",
       "</tr>\n",
       "</table><br/><br/>Warnings:<br/>[1] Standard Errors assume that the covariance matrix of the errors is correctly specified.<br/>[2] The smallest eigenvalue is 1.46e-24. This might indicate that there are<br/>strong multicollinearity problems or that the design matrix is singular."
      ],
      "text/plain": [
       "<class 'statsmodels.iolib.summary.Summary'>\n",
       "\"\"\"\n",
       "                            OLS Regression Results                            \n",
       "==============================================================================\n",
       "Dep. Variable:                 result   R-squared:                       0.129\n",
       "Model:                            OLS   Adj. R-squared:                  0.125\n",
       "Method:                 Least Squares   F-statistic:                     38.04\n",
       "Date:                Sun, 26 Aug 2018   Prob (F-statistic):           5.30e-50\n",
       "Time:                        16:29:28   Log-Likelihood:                -1133.4\n",
       "No. Observations:                1809   AIC:                             2283.\n",
       "Df Residuals:                    1801   BIC:                             2327.\n",
       "Df Model:                           7                                         \n",
       "Covariance Type:            nonrobust                                         \n",
       "==============================================================================\n",
       "                 coef    std err          t      P>|t|      [0.025      0.975]\n",
       "------------------------------------------------------------------------------\n",
       "const          0.8078      0.148      5.460      0.000       0.518       1.098\n",
       "elo            0.0003      0.000      2.938      0.003       0.000       0.001\n",
       "opp_elo       -0.0007    6.5e-05    -10.843      0.000      -0.001      -0.001\n",
       "diff           0.0010   9.34e-05     11.090      0.000       0.001       0.001\n",
       "color          0.0671      0.021      3.140      0.002       0.025       0.109\n",
       "game_time   7.399e-05   7.45e-05      0.993      0.321   -7.21e-05       0.000\n",
       "start_time -2.939e-06   2.21e-06     -1.328      0.184   -7.28e-06     1.4e-06\n",
       "weekday       -0.0002      0.005     -0.046      0.963      -0.011       0.010\n",
       "day        -5.847e-05      0.001     -0.046      0.963      -0.003       0.002\n",
       "==============================================================================\n",
       "Omnibus:                        0.053   Durbin-Watson:                   2.011\n",
       "Prob(Omnibus):                  0.974   Jarque-Bera (JB):              206.183\n",
       "Skew:                          -0.013   Prob(JB):                     1.69e-45\n",
       "Kurtosis:                       1.346   Cond. No.                     5.67e+17\n",
       "==============================================================================\n",
       "\n",
       "Warnings:\n",
       "[1] Standard Errors assume that the covariance matrix of the errors is correctly specified.\n",
       "[2] The smallest eigenvalue is 1.46e-24. This might indicate that there are\n",
       "strong multicollinearity problems or that the design matrix is singular.\n",
       "\"\"\""
      ]
     },
     "execution_count": 21,
     "metadata": {},
     "output_type": "execute_result"
    }
   ],
   "source": [
    "est.summary()"
   ]
  },
  {
   "cell_type": "code",
   "execution_count": null,
   "metadata": {
    "ExecuteTime": {
     "end_time": "2018-08-18T06:23:34.227024Z",
     "start_time": "2018-08-18T06:22:25.069Z"
    },
    "scrolled": true
   },
   "outputs": [],
   "source": []
  },
  {
   "cell_type": "code",
   "execution_count": null,
   "metadata": {
    "ExecuteTime": {
     "end_time": "2018-08-18T06:23:34.227989Z",
     "start_time": "2018-08-18T06:22:25.071Z"
    }
   },
   "outputs": [],
   "source": []
  },
  {
   "cell_type": "code",
   "execution_count": null,
   "metadata": {
    "ExecuteTime": {
     "end_time": "2018-08-18T06:23:34.231307Z",
     "start_time": "2018-08-18T06:22:25.082Z"
    }
   },
   "outputs": [],
   "source": []
  },
  {
   "cell_type": "code",
   "execution_count": null,
   "metadata": {},
   "outputs": [],
   "source": []
  },
  {
   "cell_type": "code",
   "execution_count": null,
   "metadata": {},
   "outputs": [],
   "source": []
  },
  {
   "cell_type": "code",
   "execution_count": null,
   "metadata": {},
   "outputs": [],
   "source": []
  }
 ],
 "metadata": {
  "kernelspec": {
   "display_name": "Python 3",
   "language": "python",
   "name": "python3"
  },
  "language_info": {
   "codemirror_mode": {
    "name": "ipython",
    "version": 3
   },
   "file_extension": ".py",
   "mimetype": "text/x-python",
   "name": "python",
   "nbconvert_exporter": "python",
   "pygments_lexer": "ipython3",
   "version": "3.6.6"
  }
 },
 "nbformat": 4,
 "nbformat_minor": 2
}
